{
 "cells": [
  {
   "cell_type": "markdown",
   "metadata": {},
   "source": [
    "lean version of read in file for the NMX work flow (from simulatet event data to binned event data)"
   ]
  },
  {
   "cell_type": "markdown",
   "metadata": {},
   "source": [
    "\n",
    "first add neded libaries"
   ]
  },
  {
   "cell_type": "code",
   "execution_count": 2,
   "metadata": {},
   "outputs": [],
   "source": [
    "from datetime import datetime\n",
    "startTime = datetime.now()\n",
    "import tracemalloc\n",
    "    #from scippnexus import data\n",
    "#import scippnexus as snx\n",
    "import numpy as np\n",
    "    #qimport mantid_args\n",
    "#from scippnexus import NXdetector\n",
    "from scippneutron.conversion import graph\n",
    "\n",
    "import scipp as sc\n",
    "import scippneutron as scn\n",
    "%matplotlib widget\n",
    "import plopp as pp\n",
    "pp.patch_scipp()\n",
    "import matplotlib.pyplot as plt\n",
    "from matplotlib.colors import LogNorm\n",
    "\n",
    "    #import multiprocessing as mp\n",
    "\n",
    "import h5py\n",
    "h5py.enable_ipython_completer()\n"
   ]
  },
  {
   "cell_type": "code",
   "execution_count": 3,
   "metadata": {},
   "outputs": [
    {
     "data": {
      "text/plain": [
       "'3.9.15 | packaged by conda-forge | (main, Nov 22 2022, 08:52:10) \\n[Clang 14.0.6 ]'"
      ]
     },
     "execution_count": 3,
     "metadata": {},
     "output_type": "execute_result"
    }
   ],
   "source": [
    "#%reset out\n",
    "sys.version\n"
   ]
  },
  {
   "cell_type": "code",
   "execution_count": 3,
   "metadata": {},
   "outputs": [],
   "source": [
    "#print(Out)"
   ]
  },
  {
   "cell_type": "code",
   "execution_count": 4,
   "metadata": {},
   "outputs": [],
   "source": [
    "# starting the momory monitoring\n",
    "tracemalloc.start()"
   ]
  },
  {
   "cell_type": "markdown",
   "metadata": {},
   "source": [
    "pretreatment to make it faster\n",
    "h5repack -l CHUNK=1024x6 2e11.h5 2e11-rechunk.h5 \n",
    "or \n",
    "h5repack -l CHUNK=NONE 2e11.h5 2e11-nochunk.h5\n",
    "\n",
    "h5repack -l CHUNK=1024x6 mccode.h5 mccode-nochunk.h5"
   ]
  },
  {
   "cell_type": "code",
   "execution_count": 5,
   "metadata": {},
   "outputs": [],
   "source": [
    "fname = 9\n",
    "if fname == 1:\n",
    "   filename = '/Users/justinbergmann/work_flow/test_data/2e11.h5'\n",
    "\n",
    "elif fname == 2:\n",
    "    filename = '/Users/justinbergmann/work_flow/test_data/update_det/5e9/x_0_NMX/mccode.h5'\n",
    "\n",
    "elif fname == 3:\n",
    "    filename = '/Users/justinbergmann/work_flow/test_data/small_det/xe_1_NMX/mccode.h5'\n",
    "\n",
    "#elif fname == 4:\n",
    " #   filename = '/Users/justinbergmann/work_flow/test_data/small_det/xe_2_NMX/mccode.h5'\n",
    "\n",
    "elif fname == 5:\n",
    "    filename = '/Users/justinbergmann/work_flow/test_data/xe1_5_NMX/small_det.h5'\n",
    "elif fname == 6:\n",
    "    filename = '/Users/justinbergmann/work_flow/test_data/xe2_10_NMX/mccode.h5'\n",
    "elif fname == 7:\n",
    "    filename = '/Users/justinbergmann/work_flow/test_data/xe5_10_NMX/medium_5e10.h5'\n",
    "elif fname == 8:\n",
    "    filename = '/Users/justinbergmann/work_flow/test_data/xe1_12_NMX/xe1_12_no_chunk.h5'\n",
    "elif fname == 9:\n",
    "    filename = '/Users/justinbergmann/work_flow/test_data/1d.h5'\n",
    "else:\n",
    "    filename = '/Users/justinbergmann/work_flow/test_data/e12_no_chunk.h5'\n",
    "\n",
    "#f=snx.File(filename)    "
   ]
  },
  {
   "cell_type": "markdown",
   "metadata": {},
   "source": [
    "read in event data and give number of events"
   ]
  },
  {
   "cell_type": "code",
   "execution_count": 6,
   "metadata": {},
   "outputs": [
    {
     "name": "stdout",
     "output_type": "stream",
     "text": [
      "CPU times: user 320 ms, sys: 592 ms, total: 911 ms\n",
      "Wall time: 1.11 s\n"
     ]
    },
    {
     "data": {
      "text/plain": [
       "array([6.21507181e-05, 2.14133618e-01, 7.89053704e-02, 0.00000000e+00,\n",
       "       2.52696000e+05, 1.21962647e-01])"
      ]
     },
     "execution_count": 6,
     "metadata": {},
     "output_type": "execute_result"
    }
   ],
   "source": [
    "%%time\n",
    "f = h5py.File(filename)\n",
    "a = f['entry1/data']['bank01_events_dat_list_p_x_y_n_id_t']['events'][...]\n",
    "a[0]"
   ]
  },
  {
   "cell_type": "code",
   "execution_count": 7,
   "metadata": {},
   "outputs": [],
   "source": [
    "#sc.show_graph(graph.tof.kinematic(\"tof\"), simplified=True)"
   ]
  },
  {
   "cell_type": "code",
   "execution_count": 7,
   "metadata": {},
   "outputs": [
    {
     "name": "stdout",
     "output_type": "stream",
     "text": [
      "/Users/justinbergmann/work_flow/test_data/1d.h5\n",
      "<HDF5 file \"1d.h5\" (mode r)>\n",
      "sec2\n",
      "r\n"
     ]
    }
   ],
   "source": [
    "print(f.filename)\n",
    "print(f.file)\n",
    "print(f.driver)\n",
    "print(f.mode)\n"
   ]
  },
  {
   "cell_type": "code",
   "execution_count": 8,
   "metadata": {},
   "outputs": [
    {
     "name": "stdout",
     "output_type": "stream",
     "text": [
      "(62426271, 6)\n",
      "(6, 62426271)\n"
     ]
    }
   ],
   "source": [
    "print(a.shape)\n",
    "d = np.matrix.transpose(a)\n",
    "print(d.shape)"
   ]
  },
  {
   "cell_type": "code",
   "execution_count": 9,
   "metadata": {},
   "outputs": [
    {
     "name": "stdout",
     "output_type": "stream",
     "text": [
      "(62426271,) (62426271,) (62426271,) (62426271,)\n"
     ]
    }
   ],
   "source": [
    "x_list = sc.array(dims=['x'], unit='m', values=d[1])\n",
    "y_list = sc.array(dims=['x'], unit='m', values=d[2])\n",
    "t_list = sc.array(dims=['x'], unit='ms', values=d[5])\n",
    "id_list = sc.array(dims=['x'], unit='none', values=d[4])\n",
    "print(x_list.shape, y_list.shape, t_list.shape,id_list.shape)"
   ]
  },
  {
   "cell_type": "markdown",
   "metadata": {},
   "source": [
    "get evetns to seperated lists (x,y,t)"
   ]
  },
  {
   "cell_type": "code",
   "execution_count": 10,
   "metadata": {},
   "outputs": [
    {
     "name": "stdout",
     "output_type": "stream",
     "text": [
      "<scipp.DataArray>\n",
      "Dimensions: Sizes[x:62426271, ]\n",
      "Coordinates:\n",
      "  id                        float64          [1e-09]  (x)  [252696, 791703, ..., 443080, 1.23049e+06]\n",
      "  t                         float64             [ms]  (x)  [0.121963, 0.121914, ..., 0.11844, 0.11842]\n",
      "  x                         float64              [m]  (x)  [0.214134, 0.265178, ..., 0.0799815, 0.162174]\n",
      "  y                         float64              [m]  (x)  [0.0789054, 0.247318, ..., 0.138776, 0.38467]\n",
      "Data:\n",
      "                            float64         [counts]  (x)  [1, 1, ..., 1, 1]\n",
      "\n",
      "\n"
     ]
    }
   ],
   "source": [
    "#x_list.unit = 'm'\n",
    "#y_list.unit = 'm'\n",
    "#t_list.unit = 'ms'\n",
    "weights = sc.ones_like(x_list)\n",
    "weights.unit = 'counts'\n",
    "da = sc.DataArray(data=weights, coords={'x': x_list, 'y': y_list, 't': t_list, 'id': id_list})\n",
    "print(da)"
   ]
  },
  {
   "cell_type": "code",
   "execution_count": 11,
   "metadata": {},
   "outputs": [
    {
     "data": {
      "text/plain": [
       "<bound method max of <scipp.Variable> (x: 62426271)    float64          [1e-09]  [252696, 791703, ..., 443080, 1.23049e+06]>"
      ]
     },
     "execution_count": 11,
     "metadata": {},
     "output_type": "execute_result"
    }
   ],
   "source": [
    "id_list.max"
   ]
  },
  {
   "cell_type": "code",
   "execution_count": null,
   "metadata": {},
   "outputs": [],
   "source": []
  },
  {
   "cell_type": "markdown",
   "metadata": {},
   "source": [
    "dd 2D binning (x and y)"
   ]
  },
  {
   "cell_type": "code",
   "execution_count": 13,
   "metadata": {},
   "outputs": [
    {
     "data": {
      "text/html": [
       "<div><!-- Original source from -->\n",
       "<!-- https://github.com/jsignell/xarray/blob/1d960933ab252e0f79f7e050e6c9261d55568057/xarray/static/html/icons-svg-inline.html -->\n",
       "<svg style=\"position: absolute; width: 0; height: 0; overflow: hidden\">\n",
       "<defs>\n",
       "<symbol id=\"icon-database\" viewBox=\"0 0 32 32\">\n",
       "<title>Show/Hide data repr</title>\n",
       "<path d=\"M16 0c-8.837 0-16 2.239-16 5v4c0 2.761 7.163 5 16 5s16-2.239 16-5v-4c0-2.761-7.163-5-16-5z\"></path>\n",
       "<path d=\"M16 17c-8.837 0-16-2.239-16-5v6c0 2.761 7.163 5 16 5s16-2.239 16-5v-6c0 2.761-7.163 5-16 5z\"></path>\n",
       "<path d=\"M16 26c-8.837 0-16-2.239-16-5v6c0 2.761 7.163 5 16 5s16-2.239 16-5v-6c0 2.761-7.163 5-16 5z\"></path>\n",
       "</symbol>\n",
       "<symbol id=\"icon-file-text2\" viewBox=\"0 0 32 32\">\n",
       "<title>Show/Hide attributes</title>\n",
       "<path d=\"M28.681 7.159c-0.694-0.947-1.662-2.053-2.724-3.116s-2.169-2.030-3.116-2.724c-1.612-1.182-2.393-1.319-2.841-1.319h-15.5c-1.378 0-2.5 1.121-2.5 2.5v27c0 1.378 1.122 2.5 2.5 2.5h23c1.378 0 2.5-1.122 2.5-2.5v-19.5c0-0.448-0.137-1.23-1.319-2.841zM24.543 5.457c0.959 0.959 1.712 1.825 2.268 2.543h-4.811v-4.811c0.718 0.556 1.584 1.309 2.543 2.268zM28 29.5c0 0.271-0.229 0.5-0.5 0.5h-23c-0.271 0-0.5-0.229-0.5-0.5v-27c0-0.271 0.229-0.5 0.5-0.5 0 0 15.499-0 15.5 0v7c0 0.552 0.448 1 1 1h7v19.5z\"></path>\n",
       "<path d=\"M23 26h-14c-0.552 0-1-0.448-1-1s0.448-1 1-1h14c0.552 0 1 0.448 1 1s-0.448 1-1 1z\"></path>\n",
       "<path d=\"M23 22h-14c-0.552 0-1-0.448-1-1s0.448-1 1-1h14c0.552 0 1 0.448 1 1s-0.448 1-1 1z\"></path>\n",
       "<path d=\"M23 18h-14c-0.552 0-1-0.448-1-1s0.448-1 1-1h14c0.552 0 1 0.448 1 1s-0.448 1-1 1z\"></path>\n",
       "</symbol>\n",
       "</defs>\n",
       "</svg><style id=\"scipp-style-sheet\">.sc-root{--sc-background-color0:var(--jp-layout-color0,#fff);--sc-background-color1:var(--jp-layout-color1,#fcfcfc);--sc-background-color2:var(--jp-layout-color2,#efefef);--sc-inverse-background-color0:var(--jp-inverse-layout-color4,#111);--sc-font-color0:var(--jp-content-font-color0,#000);--sc-font-color1:var(--jp-content-font-color1,#555);--sc-font-color2:var(--jp-content-font-color2,#888);--sc-font-color3:var(--jp-content-font-color3,#ccc);--sc-table-data-color:#f6d028;--sc-table-coords-color:#c6e590;--sc-table-masks-color:#c8c8c8;--sc-table-attrs-color:#ff5555;--sc-table-header-font-color:#111111;}.sc-wrap{font-size:14px;min-width:300px;max-width:800px;}.sc-var-attrs .sc-wrap{padding-left:3em;}.sc-header{padding-top:6px;padding-bottom:6px;margin-bottom:4px;border-bottom:solid 1px #ddd;}.sc-header > div,.sc-header > ul{display:inline;margin-top:0;margin-bottom:0;}.sc-obj-type,.sc-array-name{margin-left:2px;margin-right:10px;}.sc-obj-type{color:var(--sc-font-color1);}.sc-underlying-size{color:var(--sc-font-color2);}.sc-sections,.reveal .sc-sections{padding-left:0 !important;display:grid;grid-template-columns:150px auto auto auto 1fr 20px 20px;}.sc-section-item{display:contents;}.sc-section-item input{display:none;}.sc-section-item input:enabled + label{cursor:pointer;color:var(--sc-font-color1);}.sc-section-item input:enabled + label:hover{color:var(--sc-font-color0);}.sc-section-summary{grid-column:1;font-weight:500;}.sc-section-summary > span{display:inline-block;padding-left:0.5em;}.sc-section-summary-in:disabled + label{color:var(--sc-font-color1);}.sc-section-summary-in + label:before{display:inline-block;content:'►';font-size:11px;width:15px;text-align:center;}.sc-section-summary-in:disabled + label:before{color:var(--sc-font-color3);}.sc-section-summary-in:checked + label:before{content:'▼';}.sc-section-summary-in:checked + label > span{display:none;}.sc-section-summary,.sc-section-inline-details{padding-top:4px;padding-bottom:4px;}.sc-section-inline-details{grid-column:2 / 6;}.sc-section-details{display:none;grid-column:1 / -1;margin-bottom:5px;}.sc-section-summary-in:checked ~ .sc-section-details{display:contents;}.sc-array-wrap{grid-column:1 / -1;display:grid;grid-template-columns:20px auto;}.sc-array-wrap > label{grid-column:1;vertical-align:top;}.sc-preview{color:var(--sc-font-color2);}.sc-array-preview,.sc-array-data{padding:0 5px !important;grid-column:2;}.sc-array-data,.sc-array-in:checked ~ .sc-array-preview{display:none;}.sc-array-in:checked ~ .sc-array-data,.sc-array-preview{display:inline-block;}.sc-dim-list{display:inline-block !important;list-style:none;padding:0 !important;margin:0;}.sc-dim-list li{display:inline-block;padding:0;margin:0!important;}.sc-dim-list:before{content:'(';}.sc-dim-list:after{content:')';}.sc-dim-list li:not(:last-child):after{content:',';padding-right:5px;}.sc-has-index{font-weight:bold;}.sc-var-list,.sc-var-item,.reveal .sc-var-list,.reveal .sc-var-item{display:contents;}.sc-var-item > div,.sc-var-item label,.sc-var-item > .sc-var-name span{background-color:var(--sc-background-color1);margin-bottom:0;}.sc-var-item > .sc-var-name:hover span{padding-right:5px;}.sc-var-list > li:nth-child(odd) > div,.sc-var-list > li:nth-child(odd) > label,.sc-var-list > li:nth-child(odd) > .sc-var-name span{background-color:var(--sc-background-color2);}.sc-var-name{grid-column:1;}.sc-var-dims{grid-column:2;}.sc-var-dtype{grid-column:3;text-align:right;color:var(--sc-font-color2);}.sc-var-unit{grid-column:4;text-align:left;color:var(--sc-font-color1);max-width:50pt;text-overflow:ellipsis;}.sc-value-preview{grid-column:5;}.sc-var-preview-variances{text-align:right;}.sc-sections .sc-section-item .sc-section-summary,.sc-sections .sc-section-item .sc-section-inline-details,.sc-section-item .sc-var-list .sc-var-item > div,.sc-section-item .sc-var-list .sc-var-item > label,.sc-section-details .sc-var-list .sc-var-item > div,.sc-section-details .sc-var-list .sc-var-item > label{margin-top:0;margin-bottom:0;}.sc-var-name,.sc-var-dims,.sc-var-dtype,.sc-var-unit,.sc-preview,.sc-attrs dt{white-space:nowrap;overflow:hidden;text-overflow:ellipsis;padding-right:10px;}.sc-var-name:hover,.sc-var-dims:hover,.sc-var-dtype:hover,.sc-var-unit:hover,.sc-attrs dt:hover{overflow:visible;width:auto;z-index:1;}.sc-var-attrs{display:block;}.sc-var-data,.reveal .sc-var-data{display:none;}.sc-var-attrs,.sc-var-data{background-color:var(--sc-background-color0) !important;padding-bottom:5px !important;}.sc-var-attrs-in:checked ~ .sc-var-attrs{display:none;}.sc-var-data-in:checked ~ .sc-var-data{display:block;}.sc-var-data > table{float:right;}.sc-var-name span,.sc-var-data{padding-left:25px !important;}.sc-var-attrs,.sc-var-data{grid-column:1 / -1;}dl.sc-attrs{padding:0;margin:0;display:grid;grid-template-columns:125px auto;}.sc-attrs dt,dd{padding:0;margin:0;float:left;padding-right:10px;width:auto;}.sc-attrs dt{font-weight:normal;grid-column:1;}.sc-attrs dt:hover span{display:inline-block;padding-right:10px;}.sc-attrs dd{grid-column:2;white-space:pre-wrap;word-break:break-all;}.sc-icon-database,.sc-icon-file-text2{display:inline-block;vertical-align:middle;width:1em;height:1.5em !important;stroke-width:0;stroke:currentColor;fill:currentColor;}label.sc-hide-icon svg{opacity:0;}.sc-standalone-var-name{grid-column:1/3;}.sc-standalone-var-name span{padding-left:25px;padding-right:10px;}.sc-table{border-collapse:collapse;}.sc-title{font-weight:bold;font-size:1.5em;}.sc-subtitle{font-weight:normal;font-style:italic;text-align:left;font-size:1.2em;padding:1px;}.sc-table th,.sc-table td{border:1px solid var(--sc-inverse-background-color0);padding:0 5px 0 5px;}.sc-table th{text-align:center;}.sc-table tr{background-color:var(--sc-background-color1);text-align:right;}.sc-table tr:hover{background-color:var(--sc-background-color2);}.sc-table th.sc-data{background-color:var(--sc-table-data-color);color:var(--sc-table-header-font-color);}.sc-table th.sc-coords{background-color:var(--sc-table-coords-color);color:var(--sc-table-header-font-color);}.sc-table th.sc-masks{background-color:var(--sc-table-masks-color);color:var(--sc-table-header-font-color);}.sc-table th.sc-attrs{background-color:var(--sc-table-attrs-color);color:var(--sc-table-header-font-color);}.sc-table th.sc-subheader{background-color:var(--sc-background-color2);}.sc-table td.sc-padding{background-color:var(--sc-background-color1);border:0 solid var(--sc-background-color1);height:1.2em;}.sc-label{fill:var(--sc-font-color0,#444444);text-anchor:middle;}.sc-name{fill:var(--sc-font-color0,#111111);}.sc-inset-line{stroke:var(--sc-font-color1);stroke-width:0.05;stroke-dasharray:0.2,0.2;}.sc-log-wrap{height:25ex;resize:vertical;overflow-y:scroll;display:flex;flex-direction:column-reverse;border:1px solid;border-color:var(--jp-border-color2);background-color:var(--sc-background-color1);}div.sc-log{line-height:2.5ex;}table.sc-log{table-layout:auto;border-collapse:collapse;}tr.sc-log:nth-child(even){background-color:var(--sc-background-color0);}tr.sc-log > td{vertical-align:top;padding-bottom:0.5ex;}.sc-log-time-stamp{min-width:22ch;font-family:var(--jp-code-font-family);color:var(--sc-font-color2);}.sc-log-level{min-width:10ch;}tr.sc-log-debug td.sc-log-level{color:var(--jp-accent-color1);}tr.sc-log-info td.sc-log-level{color:var(--jp-info-color1);}tr.sc-log-warning td.sc-log-level{color:var(--jp-warn-color1);}tr.sc-log-error td.sc-log-level{font-weight:bold;color:var(--jp-error-color2);}tr.sc-log-critical td.sc-log-level{font-weight:bold;color:var(--sc-background-color0);background-color:var(--jp-error-color1);}.sc-log-message{white-space:pre-wrap;width:100%;}.sc-log-html-payload{white-space:normal;}.sc-log-name{padding-right:0.5em;text-align:right;white-space:pre-wrap;color:var(--sc-font-color3);}</style><div class='sc-wrap sc-root'><div class='sc-header'><div class='sc-obj-type'>scipp.DataArray (2.35 GB)</div></div><ul class='sc-sections'><li class='sc-section-item'><input id='section-5534863b-fddf-44f9-ab52-ceb08b5c0e5d' class='sc-section-summary-in' type='checkbox' disabled ><label for='section-5534863b-fddf-44f9-ab52-ceb08b5c0e5d' class='sc-section-summary'  title='Expand/collapse section'>Dimensions:</label><div class='sc-section-inline-details'><ul class='sc-dim-list'><li><span class='sc-has-index'>x</span>: 1280</li><li><span class='sc-has-index'>y</span>: 1280</li></ul></div><div class='sc-section-details'></div></li><li class='sc-section-item'><input id='section-0a0f8327-38e8-4446-b8b3-243dbd2ef564' class='sc-section-summary-in' type='checkbox'  checked><label for='section-0a0f8327-38e8-4446-b8b3-243dbd2ef564' class='sc-section-summary' >Coordinates: <span>(2)</span></label><div class='sc-section-inline-details'></div><div class='sc-section-details'><ul class='sc-var-list'><li class='sc-var-item'><div class='sc-var-name'><span class='sc-has-index'>x</span></div><div class='sc-var-dims'>(x [bin-edge])</div><div class='sc-var-dtype'>float64</div><div class='sc-var-unit'>m</div><div class='sc-value-preview sc-preview'><span><div>3.906e-09, 0.000, ..., 0.512, 0.512</div></span></div><input id='attrs-de09ba56-bd56-4340-97df-917861ab8466' class='sc-var-attrs-in' type='checkbox' disabled><label for='attrs-de09ba56-bd56-4340-97df-917861ab8466' class='sc-hide-icon' title='Show/Hide attributes'><svg class='icon sc-icon-file-text2'><use xlink:href='#icon-file-text2'></use></svg></label><input id='data-4af4faab-7ed2-4c7f-8121-94288c3fe027' class='sc-var-data-in' type='checkbox'><label for='data-4af4faab-7ed2-4c7f-8121-94288c3fe027' title='Show/Hide data repr'><svg class='icon sc-icon-database'><use xlink:href='#icon-database'></use></svg></label><pre class='sc-var-data'>Values:<br>array([3.90616253e-09, 4.00003901e-04, 8.00003895e-04, ...,\n",
       "       5.11199997e-01, 5.11599997e-01, 5.11999997e-01])</pre></span></li><li class='sc-var-item'><div class='sc-var-name'><span class='sc-has-index'>y</span></div><div class='sc-var-dims'>(y [bin-edge])</div><div class='sc-var-dtype'>float64</div><div class='sc-var-unit'>m</div><div class='sc-value-preview sc-preview'><span><div>1.723e-08, 0.000, ..., 0.512, 0.512</div></span></div><input id='attrs-5af1f95f-2a36-487f-aead-9b35fb9396d2' class='sc-var-attrs-in' type='checkbox' disabled><label for='attrs-5af1f95f-2a36-487f-aead-9b35fb9396d2' class='sc-hide-icon' title='Show/Hide attributes'><svg class='icon sc-icon-file-text2'><use xlink:href='#icon-file-text2'></use></svg></label><input id='data-03904115-b31f-433c-bef8-42d4d1c41c9c' class='sc-var-data-in' type='checkbox'><label for='data-03904115-b31f-433c-bef8-42d4d1c41c9c' title='Show/Hide data repr'><svg class='icon sc-icon-database'><use xlink:href='#icon-database'></use></svg></label><pre class='sc-var-data'>Values:<br>array([1.72306668e-08, 4.00017208e-04, 8.00017186e-04, ...,\n",
       "       5.11199989e-01, 5.11599988e-01, 5.11999988e-01])</pre></span></li></ul></div></li><li class='sc-section-item'><input id='section-0de08542-1449-4c4c-bf09-efdf7bfa567c' class='sc-section-summary-in' type='checkbox'  checked><label for='section-0de08542-1449-4c4c-bf09-efdf7bfa567c' class='sc-section-summary' >Data: <span>(1)</span></label><div class='sc-section-inline-details'></div><div class='sc-section-details'><ul class='sc-var-list'><li class='sc-var-item'><div class='sc-var-name'><span></span></div><div class='sc-var-dims'>(x, y)</div><div class='sc-var-dtype'>DataArrayView</div><div class='sc-var-unit'></div><div class='sc-value-preview sc-preview'><span><div>binned data [len=7, len=11, ..., len=10, len=5]</div></span></div><input id='attrs-6deff975-5f3c-453c-b060-4037a883d44a' class='sc-var-attrs-in' type='checkbox' disabled><label for='attrs-6deff975-5f3c-453c-b060-4037a883d44a' class='sc-hide-icon' title='Show/Hide attributes'><svg class='icon sc-icon-file-text2'><use xlink:href='#icon-file-text2'></use></svg></label><input id='data-991dfacb-ce34-4674-8ba2-74f3c431213d' class='sc-var-data-in' type='checkbox'><label for='data-991dfacb-ce34-4674-8ba2-74f3c431213d' title='Show/Hide data repr'><svg class='icon sc-icon-database'><use xlink:href='#icon-database'></use></svg></label><pre class='sc-var-data'>Values:<br>[&lt;scipp.DataArray&gt;\n",
       "Dimensions: Sizes[x:7, ]\n",
       "Coordinates:\n",
       "  id                        float64          [1e-09]  (x)  [1, 1, ..., 1, 1]\n",
       "  t                         float64             [ms]  (x)  [0.130026, 0.111474, ..., 0.138933, 0.106004]\n",
       "  x                         float64              [m]  (x)  [0.000111383, 0.000356121, ..., 0.000357237, 0.000349801]\n",
       "  y                         float64              [m]  (x)  [3.49796e-05, 5.81792e-05, ..., 0.00019046, 0.00013648]\n",
       "Data:\n",
       "                            float64         [counts]  (x)  [1, 1, ..., 1, 1]\n",
       "\n",
       ", &lt;scipp.DataArray&gt;\n",
       "Dimensions: Sizes[x:11, ]\n",
       "Coordinates:\n",
       "  id                        float64          [1e-09]  (x)  [1281, 1281, ..., 1281, 1281]\n",
       "  t                         float64             [ms]  (x)  [0.119567, 0.114171, ..., 0.118675, 0.127567]\n",
       "  x                         float64              [m]  (x)  [0.000328752, 0.000127446, ..., 0.000201739, 0.000295327]\n",
       "  y                         float64              [m]  (x)  [0.000781176, 0.000695529, ..., 0.000784756, 0.000510317]\n",
       "Data:\n",
       "                            float64         [counts]  (x)  [1, 1, ..., 1, 1]\n",
       "\n",
       ", ..., &lt;scipp.DataArray&gt;\n",
       "Dimensions: Sizes[x:10, ]\n",
       "Coordinates:\n",
       "  id                        float64          [1e-09]  (x)  [1.63712e+06, 1.63712e+06, ..., 1.63712e+06, 1.63712e+06]\n",
       "  t                         float64             [ms]  (x)  [0.109787, 0.126664, ..., 0.10762, 0.0995295]\n",
       "  x                         float64              [m]  (x)  [0.511799, 0.5117, ..., 0.511968, 0.511984]\n",
       "  y                         float64              [m]  (x)  [0.511449, 0.511229, ..., 0.511524, 0.511409]\n",
       "Data:\n",
       "                            float64         [counts]  (x)  [1, 1, ..., 1, 1]\n",
       "\n",
       ", &lt;scipp.DataArray&gt;\n",
       "Dimensions: Sizes[x:5, ]\n",
       "Coordinates:\n",
       "  id                        float64          [1e-09]  (x)  [1.6384e+06, 1.6384e+06, ..., 1.6384e+06, 1.6384e+06]\n",
       "  t                         float64             [ms]  (x)  [0.10841, 0.10724, ..., 0.132072, 0.11102]\n",
       "  x                         float64              [m]  (x)  [0.511938, 0.511608, ..., 0.511814, 0.511847]\n",
       "  y                         float64              [m]  (x)  [0.512, 0.511764, ..., 0.511775, 0.511927]\n",
       "Data:\n",
       "                            float64         [counts]  (x)  [1, 1, ..., 1, 1]\n",
       "\n",
       "]</pre></li></ul></div></li></ul></div></div>"
      ],
      "text/plain": [
       "<scipp.DataArray>\n",
       "Dimensions: Sizes[x:1280, y:1280, ]\n",
       "Coordinates:\n",
       "  x                         float64              [m]  (x [bin-edge])  [3.90616e-09, 0.000400004, ..., 0.5116, 0.512]\n",
       "  y                         float64              [m]  (y [bin-edge])  [1.72307e-08, 0.000400017, ..., 0.5116, 0.512]\n",
       "Data:\n",
       "                          DataArrayView        <no unit>  (x, y)  [<scipp.DataArray>\n",
       "Dimensions: Sizes[x:7, ]\n",
       "Coordinates:\n",
       "  id                        float64          [1e-09]  (x)  [1, 1, ..., 1, 1]\n",
       "  t                         float64             [ms]  (x)  [0.130026, 0.111474, ..., 0.138933, 0.106004]\n",
       "  x                         float64              [m]  (x)  [0.000111383, 0.000356121, ..., 0.000357237, 0.000349801]\n",
       "  y                         float64              [m]  (x)  [3.49796e-05, 5.81792e-05, ..., 0.00019046, 0.00013648]\n",
       "Data:\n",
       "                            float64         [counts]  (x)  [1, 1, ..., 1, 1]\n",
       "\n",
       ", <scipp.DataArray>\n",
       "Dimensions: Sizes[x:11, ]\n",
       "Coordinates:\n",
       "  id                        float64          [1e-09]  (x)  [1281, 1281, ..., 1281, 1281]\n",
       "  t                         float64             [ms]  (x)  [0.119567, 0.114171, ..., 0.118675, 0.127567]\n",
       "  x                         float64              [m]  (x)  [0.000328752, 0.000127446, ..., 0.000201739, 0.000295327]\n",
       "  y                         float64              [m]  (x)  [0.000781176, 0.000695529, ..., 0.000784756, 0.000510317]\n",
       "Data:\n",
       "                            float64         [counts]  (x)  [1, 1, ..., 1, 1]\n",
       "\n",
       ", ..., <scipp.DataArray>\n",
       "Dimensions: Sizes[x:10, ]\n",
       "Coordinates:\n",
       "  id                        float64          [1e-09]  (x)  [1.63712e+06, 1.63712e+06, ..., 1.63712e+06, 1.63712e+06]\n",
       "  t                         float64             [ms]  (x)  [0.109787, 0.126664, ..., 0.10762, 0.0995295]\n",
       "  x                         float64              [m]  (x)  [0.511799, 0.5117, ..., 0.511968, 0.511984]\n",
       "  y                         float64              [m]  (x)  [0.511449, 0.511229, ..., 0.511524, 0.511409]\n",
       "Data:\n",
       "                            float64         [counts]  (x)  [1, 1, ..., 1, 1]\n",
       "\n",
       ", <scipp.DataArray>\n",
       "Dimensions: Sizes[x:5, ]\n",
       "Coordinates:\n",
       "  id                        float64          [1e-09]  (x)  [1.6384e+06, 1.6384e+06, ..., 1.6384e+06, 1.6384e+06]\n",
       "  t                         float64             [ms]  (x)  [0.10841, 0.10724, ..., 0.132072, 0.11102]\n",
       "  x                         float64              [m]  (x)  [0.511938, 0.511608, ..., 0.511814, 0.511847]\n",
       "  y                         float64              [m]  (x)  [0.512, 0.511764, ..., 0.511775, 0.511927]\n",
       "Data:\n",
       "                            float64         [counts]  (x)  [1, 1, ..., 1, 1]\n",
       "\n",
       "]\n"
      ]
     },
     "execution_count": 13,
     "metadata": {},
     "output_type": "execute_result"
    }
   ],
   "source": [
    "nbin= 1280\n",
    "binned = da.bin(y=nbin, x=nbin)\n",
    "#binned = da.bin(y=50, x=50)\n",
    "#binned = da.bin(y=225, x=225)\n",
    "#sc.transpose(binned)\n",
    "\n",
    "binned"
   ]
  },
  {
   "cell_type": "markdown",
   "metadata": {},
   "source": [
    "plot binned data, histogrammed over all times"
   ]
  },
  {
   "cell_type": "code",
   "execution_count": 14,
   "metadata": {},
   "outputs": [
    {
     "data": {
      "application/vnd.jupyter.widget-view+json": {
       "model_id": "37dc19ac97004f1a8fb281ada04afe85",
       "version_major": 2,
       "version_minor": 0
      },
      "text/plain": [
       "InteractiveFig2d(children=(HBar(), HBox(children=(VBar(children=(Toolbar(children=(ButtonTool(icon='home', lay…"
      ]
     },
     "metadata": {},
     "output_type": "display_data"
    }
   ],
   "source": [
    "fig = binned.hist().transpose().plot(aspect='equal')\n",
    "fig"
   ]
  },
  {
   "cell_type": "code",
   "execution_count": null,
   "metadata": {},
   "outputs": [],
   "source": []
  },
  {
   "cell_type": "markdown",
   "metadata": {},
   "source": [
    "3D binning"
   ]
  },
  {
   "cell_type": "code",
   "execution_count": 15,
   "metadata": {},
   "outputs": [],
   "source": [
    "tbin=250\n",
    "hist3=binned.hist(t=tbin)"
   ]
  },
  {
   "cell_type": "markdown",
   "metadata": {},
   "source": [
    "histrogramm 3D data"
   ]
  },
  {
   "cell_type": "markdown",
   "metadata": {},
   "source": [
    "\n",
    "plot t slice"
   ]
  },
  {
   "cell_type": "code",
   "execution_count": 16,
   "metadata": {},
   "outputs": [
    {
     "name": "stdout",
     "output_type": "stream",
     "text": [
      "251\n",
      "251 <scipp.Variable> ()    float64             [ms]  [0.0975479] <scipp.Variable> ()    float64             [ms]  [0.0977835]\n"
     ]
    },
    {
     "data": {
      "application/vnd.jupyter.widget-view+json": {
       "model_id": "3a7ea85285974e4b83da67be47a0812b",
       "version_major": 2,
       "version_minor": 0
      },
      "text/plain": [
       "InteractiveFig2d(children=(HBar(), HBox(children=(VBar(children=(Toolbar(children=(ButtonTool(icon='home', lay…"
      ]
     },
     "metadata": {},
     "output_type": "display_data"
    }
   ],
   "source": [
    "nb=20\n",
    "times=hist3.coords['t']\n",
    "print(len(times))\n",
    "print(len(times),times[nb],times[nb+1])\n",
    "hist3['t',nb].transpose().plot(aspect='equal')"
   ]
  },
  {
   "cell_type": "markdown",
   "metadata": {},
   "source": [
    "nn with pixel id"
   ]
  },
  {
   "cell_type": "code",
   "execution_count": 17,
   "metadata": {},
   "outputs": [
    {
     "data": {
      "text/html": [
       "<div><!-- Original source from -->\n",
       "<!-- https://github.com/jsignell/xarray/blob/1d960933ab252e0f79f7e050e6c9261d55568057/xarray/static/html/icons-svg-inline.html -->\n",
       "<svg style=\"position: absolute; width: 0; height: 0; overflow: hidden\">\n",
       "<defs>\n",
       "<symbol id=\"icon-database\" viewBox=\"0 0 32 32\">\n",
       "<title>Show/Hide data repr</title>\n",
       "<path d=\"M16 0c-8.837 0-16 2.239-16 5v4c0 2.761 7.163 5 16 5s16-2.239 16-5v-4c0-2.761-7.163-5-16-5z\"></path>\n",
       "<path d=\"M16 17c-8.837 0-16-2.239-16-5v6c0 2.761 7.163 5 16 5s16-2.239 16-5v-6c0 2.761-7.163 5-16 5z\"></path>\n",
       "<path d=\"M16 26c-8.837 0-16-2.239-16-5v6c0 2.761 7.163 5 16 5s16-2.239 16-5v-6c0 2.761-7.163 5-16 5z\"></path>\n",
       "</symbol>\n",
       "<symbol id=\"icon-file-text2\" viewBox=\"0 0 32 32\">\n",
       "<title>Show/Hide attributes</title>\n",
       "<path d=\"M28.681 7.159c-0.694-0.947-1.662-2.053-2.724-3.116s-2.169-2.030-3.116-2.724c-1.612-1.182-2.393-1.319-2.841-1.319h-15.5c-1.378 0-2.5 1.121-2.5 2.5v27c0 1.378 1.122 2.5 2.5 2.5h23c1.378 0 2.5-1.122 2.5-2.5v-19.5c0-0.448-0.137-1.23-1.319-2.841zM24.543 5.457c0.959 0.959 1.712 1.825 2.268 2.543h-4.811v-4.811c0.718 0.556 1.584 1.309 2.543 2.268zM28 29.5c0 0.271-0.229 0.5-0.5 0.5h-23c-0.271 0-0.5-0.229-0.5-0.5v-27c0-0.271 0.229-0.5 0.5-0.5 0 0 15.499-0 15.5 0v7c0 0.552 0.448 1 1 1h7v19.5z\"></path>\n",
       "<path d=\"M23 26h-14c-0.552 0-1-0.448-1-1s0.448-1 1-1h14c0.552 0 1 0.448 1 1s-0.448 1-1 1z\"></path>\n",
       "<path d=\"M23 22h-14c-0.552 0-1-0.448-1-1s0.448-1 1-1h14c0.552 0 1 0.448 1 1s-0.448 1-1 1z\"></path>\n",
       "<path d=\"M23 18h-14c-0.552 0-1-0.448-1-1s0.448-1 1-1h14c0.552 0 1 0.448 1 1s-0.448 1-1 1z\"></path>\n",
       "</symbol>\n",
       "</defs>\n",
       "</svg><style id=\"scipp-style-sheet\">.sc-root{--sc-background-color0:var(--jp-layout-color0,#fff);--sc-background-color1:var(--jp-layout-color1,#fcfcfc);--sc-background-color2:var(--jp-layout-color2,#efefef);--sc-inverse-background-color0:var(--jp-inverse-layout-color4,#111);--sc-font-color0:var(--jp-content-font-color0,#000);--sc-font-color1:var(--jp-content-font-color1,#555);--sc-font-color2:var(--jp-content-font-color2,#888);--sc-font-color3:var(--jp-content-font-color3,#ccc);--sc-table-data-color:#f6d028;--sc-table-coords-color:#c6e590;--sc-table-masks-color:#c8c8c8;--sc-table-attrs-color:#ff5555;--sc-table-header-font-color:#111111;}.sc-wrap{font-size:14px;min-width:300px;max-width:800px;}.sc-var-attrs .sc-wrap{padding-left:3em;}.sc-header{padding-top:6px;padding-bottom:6px;margin-bottom:4px;border-bottom:solid 1px #ddd;}.sc-header > div,.sc-header > ul{display:inline;margin-top:0;margin-bottom:0;}.sc-obj-type,.sc-array-name{margin-left:2px;margin-right:10px;}.sc-obj-type{color:var(--sc-font-color1);}.sc-underlying-size{color:var(--sc-font-color2);}.sc-sections,.reveal .sc-sections{padding-left:0 !important;display:grid;grid-template-columns:150px auto auto auto 1fr 20px 20px;}.sc-section-item{display:contents;}.sc-section-item input{display:none;}.sc-section-item input:enabled + label{cursor:pointer;color:var(--sc-font-color1);}.sc-section-item input:enabled + label:hover{color:var(--sc-font-color0);}.sc-section-summary{grid-column:1;font-weight:500;}.sc-section-summary > span{display:inline-block;padding-left:0.5em;}.sc-section-summary-in:disabled + label{color:var(--sc-font-color1);}.sc-section-summary-in + label:before{display:inline-block;content:'►';font-size:11px;width:15px;text-align:center;}.sc-section-summary-in:disabled + label:before{color:var(--sc-font-color3);}.sc-section-summary-in:checked + label:before{content:'▼';}.sc-section-summary-in:checked + label > span{display:none;}.sc-section-summary,.sc-section-inline-details{padding-top:4px;padding-bottom:4px;}.sc-section-inline-details{grid-column:2 / 6;}.sc-section-details{display:none;grid-column:1 / -1;margin-bottom:5px;}.sc-section-summary-in:checked ~ .sc-section-details{display:contents;}.sc-array-wrap{grid-column:1 / -1;display:grid;grid-template-columns:20px auto;}.sc-array-wrap > label{grid-column:1;vertical-align:top;}.sc-preview{color:var(--sc-font-color2);}.sc-array-preview,.sc-array-data{padding:0 5px !important;grid-column:2;}.sc-array-data,.sc-array-in:checked ~ .sc-array-preview{display:none;}.sc-array-in:checked ~ .sc-array-data,.sc-array-preview{display:inline-block;}.sc-dim-list{display:inline-block !important;list-style:none;padding:0 !important;margin:0;}.sc-dim-list li{display:inline-block;padding:0;margin:0!important;}.sc-dim-list:before{content:'(';}.sc-dim-list:after{content:')';}.sc-dim-list li:not(:last-child):after{content:',';padding-right:5px;}.sc-has-index{font-weight:bold;}.sc-var-list,.sc-var-item,.reveal .sc-var-list,.reveal .sc-var-item{display:contents;}.sc-var-item > div,.sc-var-item label,.sc-var-item > .sc-var-name span{background-color:var(--sc-background-color1);margin-bottom:0;}.sc-var-item > .sc-var-name:hover span{padding-right:5px;}.sc-var-list > li:nth-child(odd) > div,.sc-var-list > li:nth-child(odd) > label,.sc-var-list > li:nth-child(odd) > .sc-var-name span{background-color:var(--sc-background-color2);}.sc-var-name{grid-column:1;}.sc-var-dims{grid-column:2;}.sc-var-dtype{grid-column:3;text-align:right;color:var(--sc-font-color2);}.sc-var-unit{grid-column:4;text-align:left;color:var(--sc-font-color1);max-width:50pt;text-overflow:ellipsis;}.sc-value-preview{grid-column:5;}.sc-var-preview-variances{text-align:right;}.sc-sections .sc-section-item .sc-section-summary,.sc-sections .sc-section-item .sc-section-inline-details,.sc-section-item .sc-var-list .sc-var-item > div,.sc-section-item .sc-var-list .sc-var-item > label,.sc-section-details .sc-var-list .sc-var-item > div,.sc-section-details .sc-var-list .sc-var-item > label{margin-top:0;margin-bottom:0;}.sc-var-name,.sc-var-dims,.sc-var-dtype,.sc-var-unit,.sc-preview,.sc-attrs dt{white-space:nowrap;overflow:hidden;text-overflow:ellipsis;padding-right:10px;}.sc-var-name:hover,.sc-var-dims:hover,.sc-var-dtype:hover,.sc-var-unit:hover,.sc-attrs dt:hover{overflow:visible;width:auto;z-index:1;}.sc-var-attrs{display:block;}.sc-var-data,.reveal .sc-var-data{display:none;}.sc-var-attrs,.sc-var-data{background-color:var(--sc-background-color0) !important;padding-bottom:5px !important;}.sc-var-attrs-in:checked ~ .sc-var-attrs{display:none;}.sc-var-data-in:checked ~ .sc-var-data{display:block;}.sc-var-data > table{float:right;}.sc-var-name span,.sc-var-data{padding-left:25px !important;}.sc-var-attrs,.sc-var-data{grid-column:1 / -1;}dl.sc-attrs{padding:0;margin:0;display:grid;grid-template-columns:125px auto;}.sc-attrs dt,dd{padding:0;margin:0;float:left;padding-right:10px;width:auto;}.sc-attrs dt{font-weight:normal;grid-column:1;}.sc-attrs dt:hover span{display:inline-block;padding-right:10px;}.sc-attrs dd{grid-column:2;white-space:pre-wrap;word-break:break-all;}.sc-icon-database,.sc-icon-file-text2{display:inline-block;vertical-align:middle;width:1em;height:1.5em !important;stroke-width:0;stroke:currentColor;fill:currentColor;}label.sc-hide-icon svg{opacity:0;}.sc-standalone-var-name{grid-column:1/3;}.sc-standalone-var-name span{padding-left:25px;padding-right:10px;}.sc-table{border-collapse:collapse;}.sc-title{font-weight:bold;font-size:1.5em;}.sc-subtitle{font-weight:normal;font-style:italic;text-align:left;font-size:1.2em;padding:1px;}.sc-table th,.sc-table td{border:1px solid var(--sc-inverse-background-color0);padding:0 5px 0 5px;}.sc-table th{text-align:center;}.sc-table tr{background-color:var(--sc-background-color1);text-align:right;}.sc-table tr:hover{background-color:var(--sc-background-color2);}.sc-table th.sc-data{background-color:var(--sc-table-data-color);color:var(--sc-table-header-font-color);}.sc-table th.sc-coords{background-color:var(--sc-table-coords-color);color:var(--sc-table-header-font-color);}.sc-table th.sc-masks{background-color:var(--sc-table-masks-color);color:var(--sc-table-header-font-color);}.sc-table th.sc-attrs{background-color:var(--sc-table-attrs-color);color:var(--sc-table-header-font-color);}.sc-table th.sc-subheader{background-color:var(--sc-background-color2);}.sc-table td.sc-padding{background-color:var(--sc-background-color1);border:0 solid var(--sc-background-color1);height:1.2em;}.sc-label{fill:var(--sc-font-color0,#444444);text-anchor:middle;}.sc-name{fill:var(--sc-font-color0,#111111);}.sc-inset-line{stroke:var(--sc-font-color1);stroke-width:0.05;stroke-dasharray:0.2,0.2;}.sc-log-wrap{height:25ex;resize:vertical;overflow-y:scroll;display:flex;flex-direction:column-reverse;border:1px solid;border-color:var(--jp-border-color2);background-color:var(--sc-background-color1);}div.sc-log{line-height:2.5ex;}table.sc-log{table-layout:auto;border-collapse:collapse;}tr.sc-log:nth-child(even){background-color:var(--sc-background-color0);}tr.sc-log > td{vertical-align:top;padding-bottom:0.5ex;}.sc-log-time-stamp{min-width:22ch;font-family:var(--jp-code-font-family);color:var(--sc-font-color2);}.sc-log-level{min-width:10ch;}tr.sc-log-debug td.sc-log-level{color:var(--jp-accent-color1);}tr.sc-log-info td.sc-log-level{color:var(--jp-info-color1);}tr.sc-log-warning td.sc-log-level{color:var(--jp-warn-color1);}tr.sc-log-error td.sc-log-level{font-weight:bold;color:var(--jp-error-color2);}tr.sc-log-critical td.sc-log-level{font-weight:bold;color:var(--sc-background-color0);background-color:var(--jp-error-color1);}.sc-log-message{white-space:pre-wrap;width:100%;}.sc-log-html-payload{white-space:normal;}.sc-log-name{padding-right:0.5em;text-align:right;white-space:pre-wrap;color:var(--sc-font-color3);}</style><div class='sc-wrap sc-root'><div class='sc-header'><div class='sc-obj-type'>scipp.DataArray (3.05 GB)</div></div><ul class='sc-sections'><li class='sc-section-item'><input id='section-1a40959e-a2ea-4512-b0ae-c53761c20928' class='sc-section-summary-in' type='checkbox' disabled ><label for='section-1a40959e-a2ea-4512-b0ae-c53761c20928' class='sc-section-summary'  title='Expand/collapse section'>Dimensions:</label><div class='sc-section-inline-details'><ul class='sc-dim-list'><li><span class='sc-has-index'>x</span>: 1280</li><li><span class='sc-has-index'>y</span>: 1280</li><li><span class='sc-has-index'>t</span>: 250</li></ul></div><div class='sc-section-details'></div></li><li class='sc-section-item'><input id='section-a74cc39b-1cc6-4386-b4ae-f78a3d9c10e8' class='sc-section-summary-in' type='checkbox'  checked><label for='section-a74cc39b-1cc6-4386-b4ae-f78a3d9c10e8' class='sc-section-summary' >Coordinates: <span>(3)</span></label><div class='sc-section-inline-details'></div><div class='sc-section-details'><ul class='sc-var-list'><li class='sc-var-item'><div class='sc-var-name'><span class='sc-has-index'>t</span></div><div class='sc-var-dims'>(t [bin-edge])</div><div class='sc-var-dtype'>float64</div><div class='sc-var-unit'>ms</div><div class='sc-value-preview sc-preview'><span><div>0.093, 0.093, ..., 0.152, 0.152</div></span></div><input id='attrs-458ceb7b-e413-4fba-86b1-891d0a2a5bce' class='sc-var-attrs-in' type='checkbox' disabled><label for='attrs-458ceb7b-e413-4fba-86b1-891d0a2a5bce' class='sc-hide-icon' title='Show/Hide attributes'><svg class='icon sc-icon-file-text2'><use xlink:href='#icon-file-text2'></use></svg></label><input id='data-efa10716-85e3-4daf-9999-990ca2b9442a' class='sc-var-data-in' type='checkbox'><label for='data-efa10716-85e3-4daf-9999-990ca2b9442a' title='Show/Hide data repr'><svg class='icon sc-icon-database'><use xlink:href='#icon-database'></use></svg></label><pre class='sc-var-data'>Values:<br>array([0.09283399, 0.09306968, 0.09330538, 0.09354107, 0.09377676,\n",
       "       0.09401246, 0.09424815, 0.09448384, 0.09471954, 0.09495523,\n",
       "       0.09519092, 0.09542662, 0.09566231, 0.095898  , 0.09613369,\n",
       "       0.09636939, 0.09660508, 0.09684077, 0.09707647, 0.09731216,\n",
       "       0.09754785, 0.09778355, 0.09801924, 0.09825493, 0.09849063,\n",
       "       0.09872632, 0.09896201, 0.09919771, 0.0994334 , 0.09966909,\n",
       "       0.09990479, 0.10014048, 0.10037617, 0.10061187, 0.10084756,\n",
       "       0.10108325, 0.10131895, 0.10155464, 0.10179033, 0.10202602,\n",
       "       0.10226172, 0.10249741, 0.1027331 , 0.1029688 , 0.10320449,\n",
       "       0.10344018, 0.10367588, 0.10391157, 0.10414726, 0.10438296,\n",
       "       0.10461865, 0.10485434, 0.10509004, 0.10532573, 0.10556142,\n",
       "       0.10579712, 0.10603281, 0.1062685 , 0.1065042 , 0.10673989,\n",
       "       0.10697558, 0.10721127, 0.10744697, 0.10768266, 0.10791835,\n",
       "       0.10815405, 0.10838974, 0.10862543, 0.10886113, 0.10909682,\n",
       "       0.10933251, 0.10956821, 0.1098039 , 0.11003959, 0.11027529,\n",
       "       0.11051098, 0.11074667, 0.11098237, 0.11121806, 0.11145375,\n",
       "       0.11168945, 0.11192514, 0.11216083, 0.11239653, 0.11263222,\n",
       "       0.11286791, 0.1131036 , 0.1133393 , 0.11357499, 0.11381068,\n",
       "       0.11404638, 0.11428207, 0.11451776, 0.11475346, 0.11498915,\n",
       "       0.11522484, 0.11546054, 0.11569623, 0.11593192, 0.11616762,\n",
       "       0.11640331, 0.116639  , 0.1168747 , 0.11711039, 0.11734608,\n",
       "       0.11758178, 0.11781747, 0.11805316, 0.11828886, 0.11852455,\n",
       "       0.11876024, 0.11899593, 0.11923163, 0.11946732, 0.11970301,\n",
       "       0.11993871, 0.1201744 , 0.12041009, 0.12064579, 0.12088148,\n",
       "       0.12111717, 0.12135287, 0.12158856, 0.12182425, 0.12205995,\n",
       "       0.12229564, 0.12253133, 0.12276703, 0.12300272, 0.12323841,\n",
       "       0.12347411, 0.1237098 , 0.12394549, 0.12418118, 0.12441688,\n",
       "       0.12465257, 0.12488826, 0.12512396, 0.12535965, 0.12559534,\n",
       "       0.12583104, 0.12606673, 0.12630242, 0.12653812, 0.12677381,\n",
       "       0.1270095 , 0.1272452 , 0.12748089, 0.12771658, 0.12795228,\n",
       "       0.12818797, 0.12842366, 0.12865936, 0.12889505, 0.12913074,\n",
       "       0.12936644, 0.12960213, 0.12983782, 0.13007351, 0.13030921,\n",
       "       0.1305449 , 0.13078059, 0.13101629, 0.13125198, 0.13148767,\n",
       "       0.13172337, 0.13195906, 0.13219475, 0.13243045, 0.13266614,\n",
       "       0.13290183, 0.13313753, 0.13337322, 0.13360891, 0.13384461,\n",
       "       0.1340803 , 0.13431599, 0.13455169, 0.13478738, 0.13502307,\n",
       "       0.13525877, 0.13549446, 0.13573015, 0.13596584, 0.13620154,\n",
       "       0.13643723, 0.13667292, 0.13690862, 0.13714431, 0.13738   ,\n",
       "       0.1376157 , 0.13785139, 0.13808708, 0.13832278, 0.13855847,\n",
       "       0.13879416, 0.13902986, 0.13926555, 0.13950124, 0.13973694,\n",
       "       0.13997263, 0.14020832, 0.14044402, 0.14067971, 0.1409154 ,\n",
       "       0.14115109, 0.14138679, 0.14162248, 0.14185817, 0.14209387,\n",
       "       0.14232956, 0.14256525, 0.14280095, 0.14303664, 0.14327233,\n",
       "       0.14350803, 0.14374372, 0.14397941, 0.14421511, 0.1444508 ,\n",
       "       0.14468649, 0.14492219, 0.14515788, 0.14539357, 0.14562927,\n",
       "       0.14586496, 0.14610065, 0.14633635, 0.14657204, 0.14680773,\n",
       "       0.14704342, 0.14727912, 0.14751481, 0.1477505 , 0.1479862 ,\n",
       "       0.14822189, 0.14845758, 0.14869328, 0.14892897, 0.14916466,\n",
       "       0.14940036, 0.14963605, 0.14987174, 0.15010744, 0.15034313,\n",
       "       0.15057882, 0.15081452, 0.15105021, 0.1512859 , 0.1515216 ,\n",
       "       0.15175729])</pre></span></li><li class='sc-var-item'><div class='sc-var-name'><span class='sc-has-index'>x</span></div><div class='sc-var-dims'>(x [bin-edge])</div><div class='sc-var-dtype'>float64</div><div class='sc-var-unit'>m</div><div class='sc-value-preview sc-preview'><span><div>3.906e-09, 0.000, ..., 0.512, 0.512</div></span></div><input id='attrs-a901e4b2-9e2e-472f-958b-7a6f5e5a6af0' class='sc-var-attrs-in' type='checkbox' disabled><label for='attrs-a901e4b2-9e2e-472f-958b-7a6f5e5a6af0' class='sc-hide-icon' title='Show/Hide attributes'><svg class='icon sc-icon-file-text2'><use xlink:href='#icon-file-text2'></use></svg></label><input id='data-ee287e8c-cac0-4efa-9a15-4b44f41c5c7d' class='sc-var-data-in' type='checkbox'><label for='data-ee287e8c-cac0-4efa-9a15-4b44f41c5c7d' title='Show/Hide data repr'><svg class='icon sc-icon-database'><use xlink:href='#icon-database'></use></svg></label><pre class='sc-var-data'>Values:<br>array([3.90616253e-09, 4.00003901e-04, 8.00003895e-04, ...,\n",
       "       5.11199997e-01, 5.11599997e-01, 5.11999997e-01])</pre></span></li><li class='sc-var-item'><div class='sc-var-name'><span class='sc-has-index'>y</span></div><div class='sc-var-dims'>(y [bin-edge])</div><div class='sc-var-dtype'>float64</div><div class='sc-var-unit'>m</div><div class='sc-value-preview sc-preview'><span><div>1.723e-08, 0.000, ..., 0.512, 0.512</div></span></div><input id='attrs-bceb5e74-6a37-4390-94e4-c8b0cc1e92e0' class='sc-var-attrs-in' type='checkbox' disabled><label for='attrs-bceb5e74-6a37-4390-94e4-c8b0cc1e92e0' class='sc-hide-icon' title='Show/Hide attributes'><svg class='icon sc-icon-file-text2'><use xlink:href='#icon-file-text2'></use></svg></label><input id='data-98784b13-c6d4-47bd-a9e3-325273ad42fc' class='sc-var-data-in' type='checkbox'><label for='data-98784b13-c6d4-47bd-a9e3-325273ad42fc' title='Show/Hide data repr'><svg class='icon sc-icon-database'><use xlink:href='#icon-database'></use></svg></label><pre class='sc-var-data'>Values:<br>array([1.72306668e-08, 4.00017208e-04, 8.00017186e-04, ...,\n",
       "       5.11199989e-01, 5.11599988e-01, 5.11999988e-01])</pre></span></li></ul></div></li><li class='sc-section-item'><input id='section-687ca67e-519c-40bc-9944-10aa4d989fa2' class='sc-section-summary-in' type='checkbox'  checked><label for='section-687ca67e-519c-40bc-9944-10aa4d989fa2' class='sc-section-summary' >Data: <span>(1)</span></label><div class='sc-section-inline-details'></div><div class='sc-section-details'><ul class='sc-var-list'><li class='sc-var-item'><div class='sc-var-name'><span></span></div><div class='sc-var-dims'>(x, y, t)</div><div class='sc-var-dtype'>float64</div><div class='sc-var-unit'>counts</div><div class='sc-value-preview sc-preview'><span><div>0.0, 0.0, ..., 0.0, 0.0</div></span></div><input id='attrs-ccc96cbd-2411-45ec-9cb0-44106206ee85' class='sc-var-attrs-in' type='checkbox' disabled><label for='attrs-ccc96cbd-2411-45ec-9cb0-44106206ee85' class='sc-hide-icon' title='Show/Hide attributes'><svg class='icon sc-icon-file-text2'><use xlink:href='#icon-file-text2'></use></svg></label><input id='data-ec82c7c4-a561-4f2b-ab27-797360a950e4' class='sc-var-data-in' type='checkbox'><label for='data-ec82c7c4-a561-4f2b-ab27-797360a950e4' title='Show/Hide data repr'><svg class='icon sc-icon-database'><use xlink:href='#icon-database'></use></svg></label><pre class='sc-var-data'>Values:<br>array([[[0., 0., 0., ..., 0., 0., 0.],\n",
       "        [0., 0., 0., ..., 0., 0., 0.],\n",
       "        [0., 0., 0., ..., 0., 0., 0.],\n",
       "        ...,\n",
       "        [0., 0., 0., ..., 0., 0., 0.],\n",
       "        [0., 0., 0., ..., 0., 0., 0.],\n",
       "        [0., 0., 0., ..., 0., 0., 0.]],\n",
       "\n",
       "       [[0., 0., 0., ..., 0., 0., 0.],\n",
       "        [0., 0., 0., ..., 0., 0., 0.],\n",
       "        [0., 0., 0., ..., 0., 0., 0.],\n",
       "        ...,\n",
       "        [0., 0., 0., ..., 0., 0., 0.],\n",
       "        [0., 0., 0., ..., 0., 0., 0.],\n",
       "        [0., 0., 0., ..., 0., 0., 0.]],\n",
       "\n",
       "       [[0., 0., 0., ..., 0., 0., 0.],\n",
       "        [0., 0., 0., ..., 0., 0., 0.],\n",
       "        [0., 0., 0., ..., 0., 0., 0.],\n",
       "        ...,\n",
       "        [0., 0., 0., ..., 0., 0., 0.],\n",
       "        [0., 0., 0., ..., 0., 0., 0.],\n",
       "        [0., 0., 0., ..., 0., 0., 0.]],\n",
       "\n",
       "       ...,\n",
       "\n",
       "       [[0., 0., 0., ..., 0., 0., 0.],\n",
       "        [0., 0., 0., ..., 0., 0., 0.],\n",
       "        [0., 0., 0., ..., 0., 0., 0.],\n",
       "        ...,\n",
       "        [0., 0., 0., ..., 0., 0., 0.],\n",
       "        [0., 0., 0., ..., 0., 0., 0.],\n",
       "        [0., 0., 0., ..., 0., 0., 0.]],\n",
       "\n",
       "       [[0., 0., 0., ..., 0., 0., 0.],\n",
       "        [0., 0., 0., ..., 0., 0., 0.],\n",
       "        [0., 0., 0., ..., 0., 0., 0.],\n",
       "        ...,\n",
       "        [0., 0., 0., ..., 0., 0., 0.],\n",
       "        [0., 0., 0., ..., 0., 0., 0.],\n",
       "        [0., 0., 0., ..., 0., 0., 0.]],\n",
       "\n",
       "       [[0., 0., 0., ..., 0., 0., 0.],\n",
       "        [0., 0., 0., ..., 0., 0., 0.],\n",
       "        [0., 0., 0., ..., 0., 0., 0.],\n",
       "        ...,\n",
       "        [0., 0., 0., ..., 0., 0., 0.],\n",
       "        [0., 0., 0., ..., 0., 0., 0.],\n",
       "        [0., 0., 0., ..., 0., 0., 0.]]])</pre></li></ul></div></li></ul></div></div>"
      ],
      "text/plain": [
       "<scipp.DataArray>\n",
       "Dimensions: Sizes[x:1280, y:1280, t:250, ]\n",
       "Coordinates:\n",
       "  t                         float64             [ms]  (t [bin-edge])  [0.092834, 0.0930697, ..., 0.151522, 0.151757]\n",
       "  x                         float64              [m]  (x [bin-edge])  [3.90616e-09, 0.000400004, ..., 0.5116, 0.512]\n",
       "  y                         float64              [m]  (y [bin-edge])  [1.72307e-08, 0.000400017, ..., 0.5116, 0.512]\n",
       "Data:\n",
       "                            float64         [counts]  (x, y, t)  [0, 0, ..., 0, 0]\n"
      ]
     },
     "execution_count": 17,
     "metadata": {},
     "output_type": "execute_result"
    }
   ],
   "source": [
    "hist3"
   ]
  },
  {
   "cell_type": "code",
   "execution_count": 18,
   "metadata": {},
   "outputs": [],
   "source": [
    "# del hist3.coords['tc']\n",
    "# del hist3.coords['xc']\n",
    "# del hist3.coords['yc']"
   ]
  },
  {
   "cell_type": "code",
   "execution_count": 18,
   "metadata": {},
   "outputs": [
    {
     "data": {
      "text/html": [
       "<div><!-- Original source from -->\n",
       "<!-- https://github.com/jsignell/xarray/blob/1d960933ab252e0f79f7e050e6c9261d55568057/xarray/static/html/icons-svg-inline.html -->\n",
       "<svg style=\"position: absolute; width: 0; height: 0; overflow: hidden\">\n",
       "<defs>\n",
       "<symbol id=\"icon-database\" viewBox=\"0 0 32 32\">\n",
       "<title>Show/Hide data repr</title>\n",
       "<path d=\"M16 0c-8.837 0-16 2.239-16 5v4c0 2.761 7.163 5 16 5s16-2.239 16-5v-4c0-2.761-7.163-5-16-5z\"></path>\n",
       "<path d=\"M16 17c-8.837 0-16-2.239-16-5v6c0 2.761 7.163 5 16 5s16-2.239 16-5v-6c0 2.761-7.163 5-16 5z\"></path>\n",
       "<path d=\"M16 26c-8.837 0-16-2.239-16-5v6c0 2.761 7.163 5 16 5s16-2.239 16-5v-6c0 2.761-7.163 5-16 5z\"></path>\n",
       "</symbol>\n",
       "<symbol id=\"icon-file-text2\" viewBox=\"0 0 32 32\">\n",
       "<title>Show/Hide attributes</title>\n",
       "<path d=\"M28.681 7.159c-0.694-0.947-1.662-2.053-2.724-3.116s-2.169-2.030-3.116-2.724c-1.612-1.182-2.393-1.319-2.841-1.319h-15.5c-1.378 0-2.5 1.121-2.5 2.5v27c0 1.378 1.122 2.5 2.5 2.5h23c1.378 0 2.5-1.122 2.5-2.5v-19.5c0-0.448-0.137-1.23-1.319-2.841zM24.543 5.457c0.959 0.959 1.712 1.825 2.268 2.543h-4.811v-4.811c0.718 0.556 1.584 1.309 2.543 2.268zM28 29.5c0 0.271-0.229 0.5-0.5 0.5h-23c-0.271 0-0.5-0.229-0.5-0.5v-27c0-0.271 0.229-0.5 0.5-0.5 0 0 15.499-0 15.5 0v7c0 0.552 0.448 1 1 1h7v19.5z\"></path>\n",
       "<path d=\"M23 26h-14c-0.552 0-1-0.448-1-1s0.448-1 1-1h14c0.552 0 1 0.448 1 1s-0.448 1-1 1z\"></path>\n",
       "<path d=\"M23 22h-14c-0.552 0-1-0.448-1-1s0.448-1 1-1h14c0.552 0 1 0.448 1 1s-0.448 1-1 1z\"></path>\n",
       "<path d=\"M23 18h-14c-0.552 0-1-0.448-1-1s0.448-1 1-1h14c0.552 0 1 0.448 1 1s-0.448 1-1 1z\"></path>\n",
       "</symbol>\n",
       "</defs>\n",
       "</svg><style id=\"scipp-style-sheet\">.sc-root{--sc-background-color0:var(--jp-layout-color0,#fff);--sc-background-color1:var(--jp-layout-color1,#fcfcfc);--sc-background-color2:var(--jp-layout-color2,#efefef);--sc-inverse-background-color0:var(--jp-inverse-layout-color4,#111);--sc-font-color0:var(--jp-content-font-color0,#000);--sc-font-color1:var(--jp-content-font-color1,#555);--sc-font-color2:var(--jp-content-font-color2,#888);--sc-font-color3:var(--jp-content-font-color3,#ccc);--sc-table-data-color:#f6d028;--sc-table-coords-color:#c6e590;--sc-table-masks-color:#c8c8c8;--sc-table-attrs-color:#ff5555;--sc-table-header-font-color:#111111;}.sc-wrap{font-size:14px;min-width:300px;max-width:800px;}.sc-var-attrs .sc-wrap{padding-left:3em;}.sc-header{padding-top:6px;padding-bottom:6px;margin-bottom:4px;border-bottom:solid 1px #ddd;}.sc-header > div,.sc-header > ul{display:inline;margin-top:0;margin-bottom:0;}.sc-obj-type,.sc-array-name{margin-left:2px;margin-right:10px;}.sc-obj-type{color:var(--sc-font-color1);}.sc-underlying-size{color:var(--sc-font-color2);}.sc-sections,.reveal .sc-sections{padding-left:0 !important;display:grid;grid-template-columns:150px auto auto auto 1fr 20px 20px;}.sc-section-item{display:contents;}.sc-section-item input{display:none;}.sc-section-item input:enabled + label{cursor:pointer;color:var(--sc-font-color1);}.sc-section-item input:enabled + label:hover{color:var(--sc-font-color0);}.sc-section-summary{grid-column:1;font-weight:500;}.sc-section-summary > span{display:inline-block;padding-left:0.5em;}.sc-section-summary-in:disabled + label{color:var(--sc-font-color1);}.sc-section-summary-in + label:before{display:inline-block;content:'►';font-size:11px;width:15px;text-align:center;}.sc-section-summary-in:disabled + label:before{color:var(--sc-font-color3);}.sc-section-summary-in:checked + label:before{content:'▼';}.sc-section-summary-in:checked + label > span{display:none;}.sc-section-summary,.sc-section-inline-details{padding-top:4px;padding-bottom:4px;}.sc-section-inline-details{grid-column:2 / 6;}.sc-section-details{display:none;grid-column:1 / -1;margin-bottom:5px;}.sc-section-summary-in:checked ~ .sc-section-details{display:contents;}.sc-array-wrap{grid-column:1 / -1;display:grid;grid-template-columns:20px auto;}.sc-array-wrap > label{grid-column:1;vertical-align:top;}.sc-preview{color:var(--sc-font-color2);}.sc-array-preview,.sc-array-data{padding:0 5px !important;grid-column:2;}.sc-array-data,.sc-array-in:checked ~ .sc-array-preview{display:none;}.sc-array-in:checked ~ .sc-array-data,.sc-array-preview{display:inline-block;}.sc-dim-list{display:inline-block !important;list-style:none;padding:0 !important;margin:0;}.sc-dim-list li{display:inline-block;padding:0;margin:0!important;}.sc-dim-list:before{content:'(';}.sc-dim-list:after{content:')';}.sc-dim-list li:not(:last-child):after{content:',';padding-right:5px;}.sc-has-index{font-weight:bold;}.sc-var-list,.sc-var-item,.reveal .sc-var-list,.reveal .sc-var-item{display:contents;}.sc-var-item > div,.sc-var-item label,.sc-var-item > .sc-var-name span{background-color:var(--sc-background-color1);margin-bottom:0;}.sc-var-item > .sc-var-name:hover span{padding-right:5px;}.sc-var-list > li:nth-child(odd) > div,.sc-var-list > li:nth-child(odd) > label,.sc-var-list > li:nth-child(odd) > .sc-var-name span{background-color:var(--sc-background-color2);}.sc-var-name{grid-column:1;}.sc-var-dims{grid-column:2;}.sc-var-dtype{grid-column:3;text-align:right;color:var(--sc-font-color2);}.sc-var-unit{grid-column:4;text-align:left;color:var(--sc-font-color1);max-width:50pt;text-overflow:ellipsis;}.sc-value-preview{grid-column:5;}.sc-var-preview-variances{text-align:right;}.sc-sections .sc-section-item .sc-section-summary,.sc-sections .sc-section-item .sc-section-inline-details,.sc-section-item .sc-var-list .sc-var-item > div,.sc-section-item .sc-var-list .sc-var-item > label,.sc-section-details .sc-var-list .sc-var-item > div,.sc-section-details .sc-var-list .sc-var-item > label{margin-top:0;margin-bottom:0;}.sc-var-name,.sc-var-dims,.sc-var-dtype,.sc-var-unit,.sc-preview,.sc-attrs dt{white-space:nowrap;overflow:hidden;text-overflow:ellipsis;padding-right:10px;}.sc-var-name:hover,.sc-var-dims:hover,.sc-var-dtype:hover,.sc-var-unit:hover,.sc-attrs dt:hover{overflow:visible;width:auto;z-index:1;}.sc-var-attrs{display:block;}.sc-var-data,.reveal .sc-var-data{display:none;}.sc-var-attrs,.sc-var-data{background-color:var(--sc-background-color0) !important;padding-bottom:5px !important;}.sc-var-attrs-in:checked ~ .sc-var-attrs{display:none;}.sc-var-data-in:checked ~ .sc-var-data{display:block;}.sc-var-data > table{float:right;}.sc-var-name span,.sc-var-data{padding-left:25px !important;}.sc-var-attrs,.sc-var-data{grid-column:1 / -1;}dl.sc-attrs{padding:0;margin:0;display:grid;grid-template-columns:125px auto;}.sc-attrs dt,dd{padding:0;margin:0;float:left;padding-right:10px;width:auto;}.sc-attrs dt{font-weight:normal;grid-column:1;}.sc-attrs dt:hover span{display:inline-block;padding-right:10px;}.sc-attrs dd{grid-column:2;white-space:pre-wrap;word-break:break-all;}.sc-icon-database,.sc-icon-file-text2{display:inline-block;vertical-align:middle;width:1em;height:1.5em !important;stroke-width:0;stroke:currentColor;fill:currentColor;}label.sc-hide-icon svg{opacity:0;}.sc-standalone-var-name{grid-column:1/3;}.sc-standalone-var-name span{padding-left:25px;padding-right:10px;}.sc-table{border-collapse:collapse;}.sc-title{font-weight:bold;font-size:1.5em;}.sc-subtitle{font-weight:normal;font-style:italic;text-align:left;font-size:1.2em;padding:1px;}.sc-table th,.sc-table td{border:1px solid var(--sc-inverse-background-color0);padding:0 5px 0 5px;}.sc-table th{text-align:center;}.sc-table tr{background-color:var(--sc-background-color1);text-align:right;}.sc-table tr:hover{background-color:var(--sc-background-color2);}.sc-table th.sc-data{background-color:var(--sc-table-data-color);color:var(--sc-table-header-font-color);}.sc-table th.sc-coords{background-color:var(--sc-table-coords-color);color:var(--sc-table-header-font-color);}.sc-table th.sc-masks{background-color:var(--sc-table-masks-color);color:var(--sc-table-header-font-color);}.sc-table th.sc-attrs{background-color:var(--sc-table-attrs-color);color:var(--sc-table-header-font-color);}.sc-table th.sc-subheader{background-color:var(--sc-background-color2);}.sc-table td.sc-padding{background-color:var(--sc-background-color1);border:0 solid var(--sc-background-color1);height:1.2em;}.sc-label{fill:var(--sc-font-color0,#444444);text-anchor:middle;}.sc-name{fill:var(--sc-font-color0,#111111);}.sc-inset-line{stroke:var(--sc-font-color1);stroke-width:0.05;stroke-dasharray:0.2,0.2;}.sc-log-wrap{height:25ex;resize:vertical;overflow-y:scroll;display:flex;flex-direction:column-reverse;border:1px solid;border-color:var(--jp-border-color2);background-color:var(--sc-background-color1);}div.sc-log{line-height:2.5ex;}table.sc-log{table-layout:auto;border-collapse:collapse;}tr.sc-log:nth-child(even){background-color:var(--sc-background-color0);}tr.sc-log > td{vertical-align:top;padding-bottom:0.5ex;}.sc-log-time-stamp{min-width:22ch;font-family:var(--jp-code-font-family);color:var(--sc-font-color2);}.sc-log-level{min-width:10ch;}tr.sc-log-debug td.sc-log-level{color:var(--jp-accent-color1);}tr.sc-log-info td.sc-log-level{color:var(--jp-info-color1);}tr.sc-log-warning td.sc-log-level{color:var(--jp-warn-color1);}tr.sc-log-error td.sc-log-level{font-weight:bold;color:var(--jp-error-color2);}tr.sc-log-critical td.sc-log-level{font-weight:bold;color:var(--sc-background-color0);background-color:var(--jp-error-color1);}.sc-log-message{white-space:pre-wrap;width:100%;}.sc-log-html-payload{white-space:normal;}.sc-log-name{padding-right:0.5em;text-align:right;white-space:pre-wrap;color:var(--sc-font-color3);}</style><div class='sc-wrap sc-root'><div class='sc-header'><div class='sc-obj-type'>scipp.DataArray (3.05 GB)</div></div><ul class='sc-sections'><li class='sc-section-item'><input id='section-f61109e0-d3c5-407d-a8f5-daa9d3e1e76e' class='sc-section-summary-in' type='checkbox' disabled ><label for='section-f61109e0-d3c5-407d-a8f5-daa9d3e1e76e' class='sc-section-summary'  title='Expand/collapse section'>Dimensions:</label><div class='sc-section-inline-details'><ul class='sc-dim-list'><li><span class='sc-has-index'>x</span>: 1280</li><li><span class='sc-has-index'>y</span>: 1280</li><li><span class='sc-has-index'>t</span>: 250</li></ul></div><div class='sc-section-details'></div></li><li class='sc-section-item'><input id='section-a53ef6ef-bd1d-4f67-b507-ad111f87ec28' class='sc-section-summary-in' type='checkbox'  checked><label for='section-a53ef6ef-bd1d-4f67-b507-ad111f87ec28' class='sc-section-summary' >Coordinates: <span>(6)</span></label><div class='sc-section-inline-details'></div><div class='sc-section-details'><ul class='sc-var-list'><li class='sc-var-item'><div class='sc-var-name'><span class='sc-has-index'>t</span></div><div class='sc-var-dims'>(t [bin-edge])</div><div class='sc-var-dtype'>float64</div><div class='sc-var-unit'>ms</div><div class='sc-value-preview sc-preview'><span><div>0.093, 0.093, ..., 0.152, 0.152</div></span></div><input id='attrs-2d749818-6c94-4375-93f6-4417dd74862f' class='sc-var-attrs-in' type='checkbox' disabled><label for='attrs-2d749818-6c94-4375-93f6-4417dd74862f' class='sc-hide-icon' title='Show/Hide attributes'><svg class='icon sc-icon-file-text2'><use xlink:href='#icon-file-text2'></use></svg></label><input id='data-2f3763b6-66fb-4490-af05-95a4add1521c' class='sc-var-data-in' type='checkbox'><label for='data-2f3763b6-66fb-4490-af05-95a4add1521c' title='Show/Hide data repr'><svg class='icon sc-icon-database'><use xlink:href='#icon-database'></use></svg></label><pre class='sc-var-data'>Values:<br>array([0.09283399, 0.09306968, 0.09330538, 0.09354107, 0.09377676,\n",
       "       0.09401246, 0.09424815, 0.09448384, 0.09471954, 0.09495523,\n",
       "       0.09519092, 0.09542662, 0.09566231, 0.095898  , 0.09613369,\n",
       "       0.09636939, 0.09660508, 0.09684077, 0.09707647, 0.09731216,\n",
       "       0.09754785, 0.09778355, 0.09801924, 0.09825493, 0.09849063,\n",
       "       0.09872632, 0.09896201, 0.09919771, 0.0994334 , 0.09966909,\n",
       "       0.09990479, 0.10014048, 0.10037617, 0.10061187, 0.10084756,\n",
       "       0.10108325, 0.10131895, 0.10155464, 0.10179033, 0.10202602,\n",
       "       0.10226172, 0.10249741, 0.1027331 , 0.1029688 , 0.10320449,\n",
       "       0.10344018, 0.10367588, 0.10391157, 0.10414726, 0.10438296,\n",
       "       0.10461865, 0.10485434, 0.10509004, 0.10532573, 0.10556142,\n",
       "       0.10579712, 0.10603281, 0.1062685 , 0.1065042 , 0.10673989,\n",
       "       0.10697558, 0.10721127, 0.10744697, 0.10768266, 0.10791835,\n",
       "       0.10815405, 0.10838974, 0.10862543, 0.10886113, 0.10909682,\n",
       "       0.10933251, 0.10956821, 0.1098039 , 0.11003959, 0.11027529,\n",
       "       0.11051098, 0.11074667, 0.11098237, 0.11121806, 0.11145375,\n",
       "       0.11168945, 0.11192514, 0.11216083, 0.11239653, 0.11263222,\n",
       "       0.11286791, 0.1131036 , 0.1133393 , 0.11357499, 0.11381068,\n",
       "       0.11404638, 0.11428207, 0.11451776, 0.11475346, 0.11498915,\n",
       "       0.11522484, 0.11546054, 0.11569623, 0.11593192, 0.11616762,\n",
       "       0.11640331, 0.116639  , 0.1168747 , 0.11711039, 0.11734608,\n",
       "       0.11758178, 0.11781747, 0.11805316, 0.11828886, 0.11852455,\n",
       "       0.11876024, 0.11899593, 0.11923163, 0.11946732, 0.11970301,\n",
       "       0.11993871, 0.1201744 , 0.12041009, 0.12064579, 0.12088148,\n",
       "       0.12111717, 0.12135287, 0.12158856, 0.12182425, 0.12205995,\n",
       "       0.12229564, 0.12253133, 0.12276703, 0.12300272, 0.12323841,\n",
       "       0.12347411, 0.1237098 , 0.12394549, 0.12418118, 0.12441688,\n",
       "       0.12465257, 0.12488826, 0.12512396, 0.12535965, 0.12559534,\n",
       "       0.12583104, 0.12606673, 0.12630242, 0.12653812, 0.12677381,\n",
       "       0.1270095 , 0.1272452 , 0.12748089, 0.12771658, 0.12795228,\n",
       "       0.12818797, 0.12842366, 0.12865936, 0.12889505, 0.12913074,\n",
       "       0.12936644, 0.12960213, 0.12983782, 0.13007351, 0.13030921,\n",
       "       0.1305449 , 0.13078059, 0.13101629, 0.13125198, 0.13148767,\n",
       "       0.13172337, 0.13195906, 0.13219475, 0.13243045, 0.13266614,\n",
       "       0.13290183, 0.13313753, 0.13337322, 0.13360891, 0.13384461,\n",
       "       0.1340803 , 0.13431599, 0.13455169, 0.13478738, 0.13502307,\n",
       "       0.13525877, 0.13549446, 0.13573015, 0.13596584, 0.13620154,\n",
       "       0.13643723, 0.13667292, 0.13690862, 0.13714431, 0.13738   ,\n",
       "       0.1376157 , 0.13785139, 0.13808708, 0.13832278, 0.13855847,\n",
       "       0.13879416, 0.13902986, 0.13926555, 0.13950124, 0.13973694,\n",
       "       0.13997263, 0.14020832, 0.14044402, 0.14067971, 0.1409154 ,\n",
       "       0.14115109, 0.14138679, 0.14162248, 0.14185817, 0.14209387,\n",
       "       0.14232956, 0.14256525, 0.14280095, 0.14303664, 0.14327233,\n",
       "       0.14350803, 0.14374372, 0.14397941, 0.14421511, 0.1444508 ,\n",
       "       0.14468649, 0.14492219, 0.14515788, 0.14539357, 0.14562927,\n",
       "       0.14586496, 0.14610065, 0.14633635, 0.14657204, 0.14680773,\n",
       "       0.14704342, 0.14727912, 0.14751481, 0.1477505 , 0.1479862 ,\n",
       "       0.14822189, 0.14845758, 0.14869328, 0.14892897, 0.14916466,\n",
       "       0.14940036, 0.14963605, 0.14987174, 0.15010744, 0.15034313,\n",
       "       0.15057882, 0.15081452, 0.15105021, 0.1512859 , 0.1515216 ,\n",
       "       0.15175729])</pre></span></li><li class='sc-var-item'><div class='sc-var-name'><span>tc</span></div><div class='sc-var-dims'>(t)</div><div class='sc-var-dtype'>float64</div><div class='sc-var-unit'>ms</div><div class='sc-value-preview sc-preview'><span><div>0.093, 0.093, ..., 0.151, 0.152</div></span></div><input id='attrs-e811d684-65ae-421e-ab4b-2a1300fc0c08' class='sc-var-attrs-in' type='checkbox' disabled><label for='attrs-e811d684-65ae-421e-ab4b-2a1300fc0c08' class='sc-hide-icon' title='Show/Hide attributes'><svg class='icon sc-icon-file-text2'><use xlink:href='#icon-file-text2'></use></svg></label><input id='data-eb99c12b-03df-42d1-bd5f-7d88ad1146da' class='sc-var-data-in' type='checkbox'><label for='data-eb99c12b-03df-42d1-bd5f-7d88ad1146da' title='Show/Hide data repr'><svg class='icon sc-icon-database'><use xlink:href='#icon-database'></use></svg></label><pre class='sc-var-data'>Values:<br>array([0.09295184, 0.09318753, 0.09342322, 0.09365892, 0.09389461,\n",
       "       0.0941303 , 0.094366  , 0.09460169, 0.09483738, 0.09507308,\n",
       "       0.09530877, 0.09554446, 0.09578016, 0.09601585, 0.09625154,\n",
       "       0.09648723, 0.09672293, 0.09695862, 0.09719431, 0.09743001,\n",
       "       0.0976657 , 0.09790139, 0.09813709, 0.09837278, 0.09860847,\n",
       "       0.09884417, 0.09907986, 0.09931555, 0.09955125, 0.09978694,\n",
       "       0.10002263, 0.10025833, 0.10049402, 0.10072971, 0.10096541,\n",
       "       0.1012011 , 0.10143679, 0.10167248, 0.10190818, 0.10214387,\n",
       "       0.10237956, 0.10261526, 0.10285095, 0.10308664, 0.10332234,\n",
       "       0.10355803, 0.10379372, 0.10402942, 0.10426511, 0.1045008 ,\n",
       "       0.1047365 , 0.10497219, 0.10520788, 0.10544358, 0.10567927,\n",
       "       0.10591496, 0.10615066, 0.10638635, 0.10662204, 0.10685774,\n",
       "       0.10709343, 0.10732912, 0.10756481, 0.10780051, 0.1080362 ,\n",
       "       0.10827189, 0.10850759, 0.10874328, 0.10897897, 0.10921467,\n",
       "       0.10945036, 0.10968605, 0.10992175, 0.11015744, 0.11039313,\n",
       "       0.11062883, 0.11086452, 0.11110021, 0.11133591, 0.1115716 ,\n",
       "       0.11180729, 0.11204299, 0.11227868, 0.11251437, 0.11275007,\n",
       "       0.11298576, 0.11322145, 0.11345714, 0.11369284, 0.11392853,\n",
       "       0.11416422, 0.11439992, 0.11463561, 0.1148713 , 0.115107  ,\n",
       "       0.11534269, 0.11557838, 0.11581408, 0.11604977, 0.11628546,\n",
       "       0.11652116, 0.11675685, 0.11699254, 0.11722824, 0.11746393,\n",
       "       0.11769962, 0.11793532, 0.11817101, 0.1184067 , 0.11864239,\n",
       "       0.11887809, 0.11911378, 0.11934947, 0.11958517, 0.11982086,\n",
       "       0.12005655, 0.12029225, 0.12052794, 0.12076363, 0.12099933,\n",
       "       0.12123502, 0.12147071, 0.12170641, 0.1219421 , 0.12217779,\n",
       "       0.12241349, 0.12264918, 0.12288487, 0.12312057, 0.12335626,\n",
       "       0.12359195, 0.12382765, 0.12406334, 0.12429903, 0.12453472,\n",
       "       0.12477042, 0.12500611, 0.1252418 , 0.1254775 , 0.12571319,\n",
       "       0.12594888, 0.12618458, 0.12642027, 0.12665596, 0.12689166,\n",
       "       0.12712735, 0.12736304, 0.12759874, 0.12783443, 0.12807012,\n",
       "       0.12830582, 0.12854151, 0.1287772 , 0.1290129 , 0.12924859,\n",
       "       0.12948428, 0.12971998, 0.12995567, 0.13019136, 0.13042705,\n",
       "       0.13066275, 0.13089844, 0.13113413, 0.13136983, 0.13160552,\n",
       "       0.13184121, 0.13207691, 0.1323126 , 0.13254829, 0.13278399,\n",
       "       0.13301968, 0.13325537, 0.13349107, 0.13372676, 0.13396245,\n",
       "       0.13419815, 0.13443384, 0.13466953, 0.13490523, 0.13514092,\n",
       "       0.13537661, 0.1356123 , 0.135848  , 0.13608369, 0.13631938,\n",
       "       0.13655508, 0.13679077, 0.13702646, 0.13726216, 0.13749785,\n",
       "       0.13773354, 0.13796924, 0.13820493, 0.13844062, 0.13867632,\n",
       "       0.13891201, 0.1391477 , 0.1393834 , 0.13961909, 0.13985478,\n",
       "       0.14009048, 0.14032617, 0.14056186, 0.14079756, 0.14103325,\n",
       "       0.14126894, 0.14150463, 0.14174033, 0.14197602, 0.14221171,\n",
       "       0.14244741, 0.1426831 , 0.14291879, 0.14315449, 0.14339018,\n",
       "       0.14362587, 0.14386157, 0.14409726, 0.14433295, 0.14456865,\n",
       "       0.14480434, 0.14504003, 0.14527573, 0.14551142, 0.14574711,\n",
       "       0.14598281, 0.1462185 , 0.14645419, 0.14668989, 0.14692558,\n",
       "       0.14716127, 0.14739696, 0.14763266, 0.14786835, 0.14810404,\n",
       "       0.14833974, 0.14857543, 0.14881112, 0.14904682, 0.14928251,\n",
       "       0.1495182 , 0.1497539 , 0.14998959, 0.15022528, 0.15046098,\n",
       "       0.15069667, 0.15093236, 0.15116806, 0.15140375, 0.15163944])</pre></span></li><li class='sc-var-item'><div class='sc-var-name'><span class='sc-has-index'>x</span></div><div class='sc-var-dims'>(x [bin-edge])</div><div class='sc-var-dtype'>float64</div><div class='sc-var-unit'>m</div><div class='sc-value-preview sc-preview'><span><div>3.906e-09, 0.000, ..., 0.512, 0.512</div></span></div><input id='attrs-09884e0c-7ca7-4cb6-85d1-34652f94b08f' class='sc-var-attrs-in' type='checkbox' disabled><label for='attrs-09884e0c-7ca7-4cb6-85d1-34652f94b08f' class='sc-hide-icon' title='Show/Hide attributes'><svg class='icon sc-icon-file-text2'><use xlink:href='#icon-file-text2'></use></svg></label><input id='data-bd54c211-7e0c-4583-84ca-3e20c937dd04' class='sc-var-data-in' type='checkbox'><label for='data-bd54c211-7e0c-4583-84ca-3e20c937dd04' title='Show/Hide data repr'><svg class='icon sc-icon-database'><use xlink:href='#icon-database'></use></svg></label><pre class='sc-var-data'>Values:<br>array([3.90616253e-09, 4.00003901e-04, 8.00003895e-04, ...,\n",
       "       5.11199997e-01, 5.11599997e-01, 5.11999997e-01])</pre></span></li><li class='sc-var-item'><div class='sc-var-name'><span>xc</span></div><div class='sc-var-dims'>(x)</div><div class='sc-var-dtype'>float64</div><div class='sc-var-unit'>m</div><div class='sc-value-preview sc-preview'><span><div>0.000, 0.001, ..., 0.511, 0.512</div></span></div><input id='attrs-a8f915ba-1bef-4bab-a590-731ab96a6ab0' class='sc-var-attrs-in' type='checkbox' disabled><label for='attrs-a8f915ba-1bef-4bab-a590-731ab96a6ab0' class='sc-hide-icon' title='Show/Hide attributes'><svg class='icon sc-icon-file-text2'><use xlink:href='#icon-file-text2'></use></svg></label><input id='data-9b2f9662-7cb8-427d-b16e-fb5c3e374c00' class='sc-var-data-in' type='checkbox'><label for='data-9b2f9662-7cb8-427d-b16e-fb5c3e374c00' title='Show/Hide data repr'><svg class='icon sc-icon-database'><use xlink:href='#icon-database'></use></svg></label><pre class='sc-var-data'>Values:<br>array([2.00003903e-04, 6.00003898e-04, 1.00000389e-03, ...,\n",
       "       5.10999997e-01, 5.11399997e-01, 5.11799997e-01])</pre></span></li><li class='sc-var-item'><div class='sc-var-name'><span class='sc-has-index'>y</span></div><div class='sc-var-dims'>(y [bin-edge])</div><div class='sc-var-dtype'>float64</div><div class='sc-var-unit'>m</div><div class='sc-value-preview sc-preview'><span><div>1.723e-08, 0.000, ..., 0.512, 0.512</div></span></div><input id='attrs-4b70ed9e-524f-4743-a35b-21491839ebad' class='sc-var-attrs-in' type='checkbox' disabled><label for='attrs-4b70ed9e-524f-4743-a35b-21491839ebad' class='sc-hide-icon' title='Show/Hide attributes'><svg class='icon sc-icon-file-text2'><use xlink:href='#icon-file-text2'></use></svg></label><input id='data-97adb3f7-c5d4-4077-985f-2d8b8007516b' class='sc-var-data-in' type='checkbox'><label for='data-97adb3f7-c5d4-4077-985f-2d8b8007516b' title='Show/Hide data repr'><svg class='icon sc-icon-database'><use xlink:href='#icon-database'></use></svg></label><pre class='sc-var-data'>Values:<br>array([1.72306668e-08, 4.00017208e-04, 8.00017186e-04, ...,\n",
       "       5.11199989e-01, 5.11599988e-01, 5.11999988e-01])</pre></span></li><li class='sc-var-item'><div class='sc-var-name'><span>yc</span></div><div class='sc-var-dims'>(y)</div><div class='sc-var-dtype'>float64</div><div class='sc-var-unit'>m</div><div class='sc-value-preview sc-preview'><span><div>0.000, 0.001, ..., 0.511, 0.512</div></span></div><input id='attrs-60f37b73-5c67-46cd-9dcb-b68719160ce6' class='sc-var-attrs-in' type='checkbox' disabled><label for='attrs-60f37b73-5c67-46cd-9dcb-b68719160ce6' class='sc-hide-icon' title='Show/Hide attributes'><svg class='icon sc-icon-file-text2'><use xlink:href='#icon-file-text2'></use></svg></label><input id='data-106228ec-6073-4e1a-bc83-30cfbbc75c87' class='sc-var-data-in' type='checkbox'><label for='data-106228ec-6073-4e1a-bc83-30cfbbc75c87' title='Show/Hide data repr'><svg class='icon sc-icon-database'><use xlink:href='#icon-database'></use></svg></label><pre class='sc-var-data'>Values:<br>array([2.00017219e-04, 6.00017197e-04, 1.00001717e-03, ...,\n",
       "       5.10999989e-01, 5.11399988e-01, 5.11799988e-01])</pre></span></li></ul></div></li><li class='sc-section-item'><input id='section-829f536c-99e7-4a6e-a636-decbc8a8af0d' class='sc-section-summary-in' type='checkbox'  checked><label for='section-829f536c-99e7-4a6e-a636-decbc8a8af0d' class='sc-section-summary' >Data: <span>(1)</span></label><div class='sc-section-inline-details'></div><div class='sc-section-details'><ul class='sc-var-list'><li class='sc-var-item'><div class='sc-var-name'><span></span></div><div class='sc-var-dims'>(x, y, t)</div><div class='sc-var-dtype'>float64</div><div class='sc-var-unit'>counts</div><div class='sc-value-preview sc-preview'><span><div>0.0, 0.0, ..., 0.0, 0.0</div></span></div><input id='attrs-e7785c08-9e50-404e-8d93-43d99ede9814' class='sc-var-attrs-in' type='checkbox' disabled><label for='attrs-e7785c08-9e50-404e-8d93-43d99ede9814' class='sc-hide-icon' title='Show/Hide attributes'><svg class='icon sc-icon-file-text2'><use xlink:href='#icon-file-text2'></use></svg></label><input id='data-fbff5307-8d06-427e-a2da-fa64350f782b' class='sc-var-data-in' type='checkbox'><label for='data-fbff5307-8d06-427e-a2da-fa64350f782b' title='Show/Hide data repr'><svg class='icon sc-icon-database'><use xlink:href='#icon-database'></use></svg></label><pre class='sc-var-data'>Values:<br>array([[[0., 0., 0., ..., 0., 0., 0.],\n",
       "        [0., 0., 0., ..., 0., 0., 0.],\n",
       "        [0., 0., 0., ..., 0., 0., 0.],\n",
       "        ...,\n",
       "        [0., 0., 0., ..., 0., 0., 0.],\n",
       "        [0., 0., 0., ..., 0., 0., 0.],\n",
       "        [0., 0., 0., ..., 0., 0., 0.]],\n",
       "\n",
       "       [[0., 0., 0., ..., 0., 0., 0.],\n",
       "        [0., 0., 0., ..., 0., 0., 0.],\n",
       "        [0., 0., 0., ..., 0., 0., 0.],\n",
       "        ...,\n",
       "        [0., 0., 0., ..., 0., 0., 0.],\n",
       "        [0., 0., 0., ..., 0., 0., 0.],\n",
       "        [0., 0., 0., ..., 0., 0., 0.]],\n",
       "\n",
       "       [[0., 0., 0., ..., 0., 0., 0.],\n",
       "        [0., 0., 0., ..., 0., 0., 0.],\n",
       "        [0., 0., 0., ..., 0., 0., 0.],\n",
       "        ...,\n",
       "        [0., 0., 0., ..., 0., 0., 0.],\n",
       "        [0., 0., 0., ..., 0., 0., 0.],\n",
       "        [0., 0., 0., ..., 0., 0., 0.]],\n",
       "\n",
       "       ...,\n",
       "\n",
       "       [[0., 0., 0., ..., 0., 0., 0.],\n",
       "        [0., 0., 0., ..., 0., 0., 0.],\n",
       "        [0., 0., 0., ..., 0., 0., 0.],\n",
       "        ...,\n",
       "        [0., 0., 0., ..., 0., 0., 0.],\n",
       "        [0., 0., 0., ..., 0., 0., 0.],\n",
       "        [0., 0., 0., ..., 0., 0., 0.]],\n",
       "\n",
       "       [[0., 0., 0., ..., 0., 0., 0.],\n",
       "        [0., 0., 0., ..., 0., 0., 0.],\n",
       "        [0., 0., 0., ..., 0., 0., 0.],\n",
       "        ...,\n",
       "        [0., 0., 0., ..., 0., 0., 0.],\n",
       "        [0., 0., 0., ..., 0., 0., 0.],\n",
       "        [0., 0., 0., ..., 0., 0., 0.]],\n",
       "\n",
       "       [[0., 0., 0., ..., 0., 0., 0.],\n",
       "        [0., 0., 0., ..., 0., 0., 0.],\n",
       "        [0., 0., 0., ..., 0., 0., 0.],\n",
       "        ...,\n",
       "        [0., 0., 0., ..., 0., 0., 0.],\n",
       "        [0., 0., 0., ..., 0., 0., 0.],\n",
       "        [0., 0., 0., ..., 0., 0., 0.]]])</pre></li></ul></div></li></ul></div></div>"
      ],
      "text/plain": [
       "<scipp.DataArray>\n",
       "Dimensions: Sizes[x:1280, y:1280, t:250, ]\n",
       "Coordinates:\n",
       "  t                         float64             [ms]  (t [bin-edge])  [0.092834, 0.0930697, ..., 0.151522, 0.151757]\n",
       "  tc                        float64             [ms]  (t)  [0.0929518, 0.0931875, ..., 0.151404, 0.151639]\n",
       "  x                         float64              [m]  (x [bin-edge])  [3.90616e-09, 0.000400004, ..., 0.5116, 0.512]\n",
       "  xc                        float64              [m]  (x)  [0.000200004, 0.000600004, ..., 0.5114, 0.5118]\n",
       "  y                         float64              [m]  (y [bin-edge])  [1.72307e-08, 0.000400017, ..., 0.5116, 0.512]\n",
       "  yc                        float64              [m]  (y)  [0.000200017, 0.000600017, ..., 0.5114, 0.5118]\n",
       "Data:\n",
       "                            float64         [counts]  (x, y, t)  [0, 0, ..., 0, 0]\n"
      ]
     },
     "execution_count": 18,
     "metadata": {},
     "output_type": "execute_result"
    }
   ],
   "source": [
    "hist4 = hist3.copy()\n",
    "for name in list(hist4.coords.keys()):\n",
    "    hist4.coords[f'{name}c'] = sc.midpoints(hist4.coords[name])\n",
    "hist4"
   ]
  },
  {
   "cell_type": "code",
   "execution_count": 20,
   "metadata": {},
   "outputs": [
    {
     "data": {
      "text/plain": [
       "18000000"
      ]
     },
     "execution_count": 20,
     "metadata": {},
     "output_type": "execute_result"
    }
   ],
   "source": [
    "300*300*200"
   ]
  },
  {
   "cell_type": "code",
   "execution_count": 29,
   "metadata": {},
   "outputs": [
    {
     "data": {
      "text/html": [
       "<div><!-- Original source from -->\n",
       "<!-- https://github.com/jsignell/xarray/blob/1d960933ab252e0f79f7e050e6c9261d55568057/xarray/static/html/icons-svg-inline.html -->\n",
       "<svg style=\"position: absolute; width: 0; height: 0; overflow: hidden\">\n",
       "<defs>\n",
       "<symbol id=\"icon-database\" viewBox=\"0 0 32 32\">\n",
       "<title>Show/Hide data repr</title>\n",
       "<path d=\"M16 0c-8.837 0-16 2.239-16 5v4c0 2.761 7.163 5 16 5s16-2.239 16-5v-4c0-2.761-7.163-5-16-5z\"></path>\n",
       "<path d=\"M16 17c-8.837 0-16-2.239-16-5v6c0 2.761 7.163 5 16 5s16-2.239 16-5v-6c0 2.761-7.163 5-16 5z\"></path>\n",
       "<path d=\"M16 26c-8.837 0-16-2.239-16-5v6c0 2.761 7.163 5 16 5s16-2.239 16-5v-6c0 2.761-7.163 5-16 5z\"></path>\n",
       "</symbol>\n",
       "<symbol id=\"icon-file-text2\" viewBox=\"0 0 32 32\">\n",
       "<title>Show/Hide attributes</title>\n",
       "<path d=\"M28.681 7.159c-0.694-0.947-1.662-2.053-2.724-3.116s-2.169-2.030-3.116-2.724c-1.612-1.182-2.393-1.319-2.841-1.319h-15.5c-1.378 0-2.5 1.121-2.5 2.5v27c0 1.378 1.122 2.5 2.5 2.5h23c1.378 0 2.5-1.122 2.5-2.5v-19.5c0-0.448-0.137-1.23-1.319-2.841zM24.543 5.457c0.959 0.959 1.712 1.825 2.268 2.543h-4.811v-4.811c0.718 0.556 1.584 1.309 2.543 2.268zM28 29.5c0 0.271-0.229 0.5-0.5 0.5h-23c-0.271 0-0.5-0.229-0.5-0.5v-27c0-0.271 0.229-0.5 0.5-0.5 0 0 15.499-0 15.5 0v7c0 0.552 0.448 1 1 1h7v19.5z\"></path>\n",
       "<path d=\"M23 26h-14c-0.552 0-1-0.448-1-1s0.448-1 1-1h14c0.552 0 1 0.448 1 1s-0.448 1-1 1z\"></path>\n",
       "<path d=\"M23 22h-14c-0.552 0-1-0.448-1-1s0.448-1 1-1h14c0.552 0 1 0.448 1 1s-0.448 1-1 1z\"></path>\n",
       "<path d=\"M23 18h-14c-0.552 0-1-0.448-1-1s0.448-1 1-1h14c0.552 0 1 0.448 1 1s-0.448 1-1 1z\"></path>\n",
       "</symbol>\n",
       "</defs>\n",
       "</svg><style id=\"scipp-style-sheet\">.sc-root{--sc-background-color0:var(--jp-layout-color0,#fff);--sc-background-color1:var(--jp-layout-color1,#fcfcfc);--sc-background-color2:var(--jp-layout-color2,#efefef);--sc-inverse-background-color0:var(--jp-inverse-layout-color4,#111);--sc-font-color0:var(--jp-content-font-color0,#000);--sc-font-color1:var(--jp-content-font-color1,#555);--sc-font-color2:var(--jp-content-font-color2,#888);--sc-font-color3:var(--jp-content-font-color3,#ccc);--sc-table-data-color:#f6d028;--sc-table-coords-color:#c6e590;--sc-table-masks-color:#c8c8c8;--sc-table-attrs-color:#ff5555;--sc-table-header-font-color:#111111;}.sc-wrap{font-size:14px;min-width:300px;max-width:800px;}.sc-var-attrs .sc-wrap{padding-left:3em;}.sc-header{padding-top:6px;padding-bottom:6px;margin-bottom:4px;border-bottom:solid 1px #ddd;}.sc-header > div,.sc-header > ul{display:inline;margin-top:0;margin-bottom:0;}.sc-obj-type,.sc-array-name{margin-left:2px;margin-right:10px;}.sc-obj-type{color:var(--sc-font-color1);}.sc-underlying-size{color:var(--sc-font-color2);}.sc-sections,.reveal .sc-sections{padding-left:0 !important;display:grid;grid-template-columns:150px auto auto auto 1fr 20px 20px;}.sc-section-item{display:contents;}.sc-section-item input{display:none;}.sc-section-item input:enabled + label{cursor:pointer;color:var(--sc-font-color1);}.sc-section-item input:enabled + label:hover{color:var(--sc-font-color0);}.sc-section-summary{grid-column:1;font-weight:500;}.sc-section-summary > span{display:inline-block;padding-left:0.5em;}.sc-section-summary-in:disabled + label{color:var(--sc-font-color1);}.sc-section-summary-in + label:before{display:inline-block;content:'►';font-size:11px;width:15px;text-align:center;}.sc-section-summary-in:disabled + label:before{color:var(--sc-font-color3);}.sc-section-summary-in:checked + label:before{content:'▼';}.sc-section-summary-in:checked + label > span{display:none;}.sc-section-summary,.sc-section-inline-details{padding-top:4px;padding-bottom:4px;}.sc-section-inline-details{grid-column:2 / 6;}.sc-section-details{display:none;grid-column:1 / -1;margin-bottom:5px;}.sc-section-summary-in:checked ~ .sc-section-details{display:contents;}.sc-array-wrap{grid-column:1 / -1;display:grid;grid-template-columns:20px auto;}.sc-array-wrap > label{grid-column:1;vertical-align:top;}.sc-preview{color:var(--sc-font-color2);}.sc-array-preview,.sc-array-data{padding:0 5px !important;grid-column:2;}.sc-array-data,.sc-array-in:checked ~ .sc-array-preview{display:none;}.sc-array-in:checked ~ .sc-array-data,.sc-array-preview{display:inline-block;}.sc-dim-list{display:inline-block !important;list-style:none;padding:0 !important;margin:0;}.sc-dim-list li{display:inline-block;padding:0;margin:0!important;}.sc-dim-list:before{content:'(';}.sc-dim-list:after{content:')';}.sc-dim-list li:not(:last-child):after{content:',';padding-right:5px;}.sc-has-index{font-weight:bold;}.sc-var-list,.sc-var-item,.reveal .sc-var-list,.reveal .sc-var-item{display:contents;}.sc-var-item > div,.sc-var-item label,.sc-var-item > .sc-var-name span{background-color:var(--sc-background-color1);margin-bottom:0;}.sc-var-item > .sc-var-name:hover span{padding-right:5px;}.sc-var-list > li:nth-child(odd) > div,.sc-var-list > li:nth-child(odd) > label,.sc-var-list > li:nth-child(odd) > .sc-var-name span{background-color:var(--sc-background-color2);}.sc-var-name{grid-column:1;}.sc-var-dims{grid-column:2;}.sc-var-dtype{grid-column:3;text-align:right;color:var(--sc-font-color2);}.sc-var-unit{grid-column:4;text-align:left;color:var(--sc-font-color1);max-width:50pt;text-overflow:ellipsis;}.sc-value-preview{grid-column:5;}.sc-var-preview-variances{text-align:right;}.sc-sections .sc-section-item .sc-section-summary,.sc-sections .sc-section-item .sc-section-inline-details,.sc-section-item .sc-var-list .sc-var-item > div,.sc-section-item .sc-var-list .sc-var-item > label,.sc-section-details .sc-var-list .sc-var-item > div,.sc-section-details .sc-var-list .sc-var-item > label{margin-top:0;margin-bottom:0;}.sc-var-name,.sc-var-dims,.sc-var-dtype,.sc-var-unit,.sc-preview,.sc-attrs dt{white-space:nowrap;overflow:hidden;text-overflow:ellipsis;padding-right:10px;}.sc-var-name:hover,.sc-var-dims:hover,.sc-var-dtype:hover,.sc-var-unit:hover,.sc-attrs dt:hover{overflow:visible;width:auto;z-index:1;}.sc-var-attrs{display:block;}.sc-var-data,.reveal .sc-var-data{display:none;}.sc-var-attrs,.sc-var-data{background-color:var(--sc-background-color0) !important;padding-bottom:5px !important;}.sc-var-attrs-in:checked ~ .sc-var-attrs{display:none;}.sc-var-data-in:checked ~ .sc-var-data{display:block;}.sc-var-data > table{float:right;}.sc-var-name span,.sc-var-data{padding-left:25px !important;}.sc-var-attrs,.sc-var-data{grid-column:1 / -1;}dl.sc-attrs{padding:0;margin:0;display:grid;grid-template-columns:125px auto;}.sc-attrs dt,dd{padding:0;margin:0;float:left;padding-right:10px;width:auto;}.sc-attrs dt{font-weight:normal;grid-column:1;}.sc-attrs dt:hover span{display:inline-block;padding-right:10px;}.sc-attrs dd{grid-column:2;white-space:pre-wrap;word-break:break-all;}.sc-icon-database,.sc-icon-file-text2{display:inline-block;vertical-align:middle;width:1em;height:1.5em !important;stroke-width:0;stroke:currentColor;fill:currentColor;}label.sc-hide-icon svg{opacity:0;}.sc-standalone-var-name{grid-column:1/3;}.sc-standalone-var-name span{padding-left:25px;padding-right:10px;}.sc-table{border-collapse:collapse;}.sc-title{font-weight:bold;font-size:1.5em;}.sc-subtitle{font-weight:normal;font-style:italic;text-align:left;font-size:1.2em;padding:1px;}.sc-table th,.sc-table td{border:1px solid var(--sc-inverse-background-color0);padding:0 5px 0 5px;}.sc-table th{text-align:center;}.sc-table tr{background-color:var(--sc-background-color1);text-align:right;}.sc-table tr:hover{background-color:var(--sc-background-color2);}.sc-table th.sc-data{background-color:var(--sc-table-data-color);color:var(--sc-table-header-font-color);}.sc-table th.sc-coords{background-color:var(--sc-table-coords-color);color:var(--sc-table-header-font-color);}.sc-table th.sc-masks{background-color:var(--sc-table-masks-color);color:var(--sc-table-header-font-color);}.sc-table th.sc-attrs{background-color:var(--sc-table-attrs-color);color:var(--sc-table-header-font-color);}.sc-table th.sc-subheader{background-color:var(--sc-background-color2);}.sc-table td.sc-padding{background-color:var(--sc-background-color1);border:0 solid var(--sc-background-color1);height:1.2em;}.sc-label{fill:var(--sc-font-color0,#444444);text-anchor:middle;}.sc-name{fill:var(--sc-font-color0,#111111);}.sc-inset-line{stroke:var(--sc-font-color1);stroke-width:0.05;stroke-dasharray:0.2,0.2;}.sc-log-wrap{height:25ex;resize:vertical;overflow-y:scroll;display:flex;flex-direction:column-reverse;border:1px solid;border-color:var(--jp-border-color2);background-color:var(--sc-background-color1);}div.sc-log{line-height:2.5ex;}table.sc-log{table-layout:auto;border-collapse:collapse;}tr.sc-log:nth-child(even){background-color:var(--sc-background-color0);}tr.sc-log > td{vertical-align:top;padding-bottom:0.5ex;}.sc-log-time-stamp{min-width:22ch;font-family:var(--jp-code-font-family);color:var(--sc-font-color2);}.sc-log-level{min-width:10ch;}tr.sc-log-debug td.sc-log-level{color:var(--jp-accent-color1);}tr.sc-log-info td.sc-log-level{color:var(--jp-info-color1);}tr.sc-log-warning td.sc-log-level{color:var(--jp-warn-color1);}tr.sc-log-error td.sc-log-level{font-weight:bold;color:var(--jp-error-color2);}tr.sc-log-critical td.sc-log-level{font-weight:bold;color:var(--sc-background-color0);background-color:var(--jp-error-color1);}.sc-log-message{white-space:pre-wrap;width:100%;}.sc-log-html-payload{white-space:normal;}.sc-log-name{padding-right:0.5em;text-align:right;white-space:pre-wrap;color:var(--sc-font-color3);}</style><div class='sc-wrap sc-root'><div class='sc-header'><div class='sc-obj-type'>scipp.DataArray (72.74 KB)</div></div><ul class='sc-sections'><li class='sc-section-item'><input id='section-e8b37c85-8982-4e55-8c3c-d3249d2584c6' class='sc-section-summary-in' type='checkbox' disabled ><label for='section-e8b37c85-8982-4e55-8c3c-d3249d2584c6' class='sc-section-summary'  title='Expand/collapse section'>Dimensions:</label><div class='sc-section-inline-details'><ul class='sc-dim-list'><li><span>row</span>: 2279</li></ul></div><div class='sc-section-details'></div></li><li class='sc-section-item'><input id='section-04493897-4146-4579-bf7e-054dec5b8d75' class='sc-section-summary-in' type='checkbox'  checked><label for='section-04493897-4146-4579-bf7e-054dec5b8d75' class='sc-section-summary' >Coordinates: <span>(3)</span></label><div class='sc-section-inline-details'></div><div class='sc-section-details'><ul class='sc-var-list'><li class='sc-var-item'><div class='sc-var-name'><span>tc</span></div><div class='sc-var-dims'>(row)</div><div class='sc-var-dtype'>float64</div><div class='sc-var-unit'>ms</div><div class='sc-value-preview sc-preview'><span><div>1.389, 1.255, ..., 1.165, 1.193</div></span></div><input id='attrs-a07c1c1d-39cd-45a5-8fc1-88de7f7f598c' class='sc-var-attrs-in' type='checkbox' disabled><label for='attrs-a07c1c1d-39cd-45a5-8fc1-88de7f7f598c' class='sc-hide-icon' title='Show/Hide attributes'><svg class='icon sc-icon-file-text2'><use xlink:href='#icon-file-text2'></use></svg></label><input id='data-c308824c-b6b3-427c-867e-c246eb3e759f' class='sc-var-data-in' type='checkbox'><label for='data-c308824c-b6b3-427c-867e-c246eb3e759f' title='Show/Hide data repr'><svg class='icon sc-icon-database'><use xlink:href='#icon-database'></use></svg></label><pre class='sc-var-data'>Values:<br>array([1.3891201 , 1.25477498, 1.25948884, ..., 1.2712735 , 1.16521156,\n",
       "       1.19349474])</pre></span></li><li class='sc-var-item'><div class='sc-var-name'><span>xc</span></div><div class='sc-var-dims'>(row)</div><div class='sc-var-dtype'>float64</div><div class='sc-var-unit'>m</div><div class='sc-value-preview sc-preview'><span><div>0.042, 0.078, ..., 0.426, 0.429</div></span></div><input id='attrs-bc368566-3ada-4ee2-a580-385fb6fb8d1b' class='sc-var-attrs-in' type='checkbox' disabled><label for='attrs-bc368566-3ada-4ee2-a580-385fb6fb8d1b' class='sc-hide-icon' title='Show/Hide attributes'><svg class='icon sc-icon-file-text2'><use xlink:href='#icon-file-text2'></use></svg></label><input id='data-a2a0591c-57d6-4342-af4c-9a41d9d3d570' class='sc-var-data-in' type='checkbox'><label for='data-a2a0591c-57d6-4342-af4c-9a41d9d3d570' title='Show/Hide data repr'><svg class='icon sc-icon-database'><use xlink:href='#icon-database'></use></svg></label><pre class='sc-var-data'>Values:<br>array([0.0422, 0.0778, 0.0782, ..., 0.4234, 0.4258, 0.4294])</pre></span></li><li class='sc-var-item'><div class='sc-var-name'><span>yc</span></div><div class='sc-var-dims'>(row)</div><div class='sc-var-dtype'>float64</div><div class='sc-var-unit'>m</div><div class='sc-value-preview sc-preview'><span><div>0.250, 0.178, ..., 0.228, 0.249</div></span></div><input id='attrs-6e7dd959-97fc-44ff-94e2-4e7b3d804086' class='sc-var-attrs-in' type='checkbox' disabled><label for='attrs-6e7dd959-97fc-44ff-94e2-4e7b3d804086' class='sc-hide-icon' title='Show/Hide attributes'><svg class='icon sc-icon-file-text2'><use xlink:href='#icon-file-text2'></use></svg></label><input id='data-ccef5386-0718-4ca5-891d-455eefea5b9a' class='sc-var-data-in' type='checkbox'><label for='data-ccef5386-0718-4ca5-891d-455eefea5b9a' title='Show/Hide data repr'><svg class='icon sc-icon-database'><use xlink:href='#icon-database'></use></svg></label><pre class='sc-var-data'>Values:<br>array([0.2498    , 0.17780001, 0.323     , ..., 0.323     , 0.2282    ,\n",
       "       0.249     ])</pre></span></li></ul></div></li><li class='sc-section-item'><input id='section-23736ed0-b261-4a7a-86ea-a95d0ac0f30b' class='sc-section-summary-in' type='checkbox'  checked><label for='section-23736ed0-b261-4a7a-86ea-a95d0ac0f30b' class='sc-section-summary' >Data: <span>(1)</span></label><div class='sc-section-inline-details'></div><div class='sc-section-details'><ul class='sc-var-list'><li class='sc-var-item'><div class='sc-var-name'><span></span></div><div class='sc-var-dims'>(row)</div><div class='sc-var-dtype'>float64</div><div class='sc-var-unit'>counts</div><div class='sc-value-preview sc-preview'><span><div>6.0, 6.0, ..., 6.0, 6.0</div></span></div><input id='attrs-c2e3baa2-45e0-4858-ac16-bdecfa99561b' class='sc-var-attrs-in' type='checkbox' disabled><label for='attrs-c2e3baa2-45e0-4858-ac16-bdecfa99561b' class='sc-hide-icon' title='Show/Hide attributes'><svg class='icon sc-icon-file-text2'><use xlink:href='#icon-file-text2'></use></svg></label><input id='data-7834315f-4843-4c6e-bfa1-9aba8527fa0a' class='sc-var-data-in' type='checkbox'><label for='data-7834315f-4843-4c6e-bfa1-9aba8527fa0a' title='Show/Hide data repr'><svg class='icon sc-icon-database'><use xlink:href='#icon-database'></use></svg></label><pre class='sc-var-data'>Values:<br>array([6., 6., 6., ..., 6., 6., 6.])</pre></li></ul></div></li></ul></div></div>"
      ],
      "text/plain": [
       "<scipp.DataArray>\n",
       "Dimensions: Sizes[row:2279, ]\n",
       "Coordinates:\n",
       "  tc                        float64             [ms]  (row)  [1.38912, 1.25477, ..., 1.16521, 1.19349]\n",
       "  xc                        float64              [m]  (row)  [0.0422, 0.0778, ..., 0.4258, 0.4294]\n",
       "  yc                        float64              [m]  (row)  [0.2498, 0.1778, ..., 0.2282, 0.249]\n",
       "Data:\n",
       "                            float64         [counts]  (row)  [6, 6, ..., 6, 6]\n"
      ]
     },
     "execution_count": 29,
     "metadata": {},
     "output_type": "execute_result"
    }
   ],
   "source": [
    "hist5 = sc.flatten(hist4, to='row')\n",
    "select = hist5.data > sc.scalar(5, unit='counts') # cut of background\n",
    "filtered = hist5[select]\n",
    "filtered.coords['tc'] *= 10\n",
    "filtered"
   ]
  },
  {
   "cell_type": "code",
   "execution_count": 54,
   "metadata": {},
   "outputs": [
    {
     "data": {
      "text/html": [
       "<div><!-- Original source from -->\n",
       "<!-- https://github.com/jsignell/xarray/blob/1d960933ab252e0f79f7e050e6c9261d55568057/xarray/static/html/icons-svg-inline.html -->\n",
       "<svg style=\"position: absolute; width: 0; height: 0; overflow: hidden\">\n",
       "<defs>\n",
       "<symbol id=\"icon-database\" viewBox=\"0 0 32 32\">\n",
       "<title>Show/Hide data repr</title>\n",
       "<path d=\"M16 0c-8.837 0-16 2.239-16 5v4c0 2.761 7.163 5 16 5s16-2.239 16-5v-4c0-2.761-7.163-5-16-5z\"></path>\n",
       "<path d=\"M16 17c-8.837 0-16-2.239-16-5v6c0 2.761 7.163 5 16 5s16-2.239 16-5v-6c0 2.761-7.163 5-16 5z\"></path>\n",
       "<path d=\"M16 26c-8.837 0-16-2.239-16-5v6c0 2.761 7.163 5 16 5s16-2.239 16-5v-6c0 2.761-7.163 5-16 5z\"></path>\n",
       "</symbol>\n",
       "<symbol id=\"icon-file-text2\" viewBox=\"0 0 32 32\">\n",
       "<title>Show/Hide attributes</title>\n",
       "<path d=\"M28.681 7.159c-0.694-0.947-1.662-2.053-2.724-3.116s-2.169-2.030-3.116-2.724c-1.612-1.182-2.393-1.319-2.841-1.319h-15.5c-1.378 0-2.5 1.121-2.5 2.5v27c0 1.378 1.122 2.5 2.5 2.5h23c1.378 0 2.5-1.122 2.5-2.5v-19.5c0-0.448-0.137-1.23-1.319-2.841zM24.543 5.457c0.959 0.959 1.712 1.825 2.268 2.543h-4.811v-4.811c0.718 0.556 1.584 1.309 2.543 2.268zM28 29.5c0 0.271-0.229 0.5-0.5 0.5h-23c-0.271 0-0.5-0.229-0.5-0.5v-27c0-0.271 0.229-0.5 0.5-0.5 0 0 15.499-0 15.5 0v7c0 0.552 0.448 1 1 1h7v19.5z\"></path>\n",
       "<path d=\"M23 26h-14c-0.552 0-1-0.448-1-1s0.448-1 1-1h14c0.552 0 1 0.448 1 1s-0.448 1-1 1z\"></path>\n",
       "<path d=\"M23 22h-14c-0.552 0-1-0.448-1-1s0.448-1 1-1h14c0.552 0 1 0.448 1 1s-0.448 1-1 1z\"></path>\n",
       "<path d=\"M23 18h-14c-0.552 0-1-0.448-1-1s0.448-1 1-1h14c0.552 0 1 0.448 1 1s-0.448 1-1 1z\"></path>\n",
       "</symbol>\n",
       "</defs>\n",
       "</svg><style id=\"scipp-style-sheet\">.sc-root{--sc-background-color0:var(--jp-layout-color0,#fff);--sc-background-color1:var(--jp-layout-color1,#fcfcfc);--sc-background-color2:var(--jp-layout-color2,#efefef);--sc-inverse-background-color0:var(--jp-inverse-layout-color4,#111);--sc-font-color0:var(--jp-content-font-color0,#000);--sc-font-color1:var(--jp-content-font-color1,#555);--sc-font-color2:var(--jp-content-font-color2,#888);--sc-font-color3:var(--jp-content-font-color3,#ccc);--sc-table-data-color:#f6d028;--sc-table-coords-color:#c6e590;--sc-table-masks-color:#c8c8c8;--sc-table-attrs-color:#ff5555;--sc-table-header-font-color:#111111;}.sc-wrap{font-size:14px;min-width:300px;max-width:800px;}.sc-var-attrs .sc-wrap{padding-left:3em;}.sc-header{padding-top:6px;padding-bottom:6px;margin-bottom:4px;border-bottom:solid 1px #ddd;}.sc-header > div,.sc-header > ul{display:inline;margin-top:0;margin-bottom:0;}.sc-obj-type,.sc-array-name{margin-left:2px;margin-right:10px;}.sc-obj-type{color:var(--sc-font-color1);}.sc-underlying-size{color:var(--sc-font-color2);}.sc-sections,.reveal .sc-sections{padding-left:0 !important;display:grid;grid-template-columns:150px auto auto auto 1fr 20px 20px;}.sc-section-item{display:contents;}.sc-section-item input{display:none;}.sc-section-item input:enabled + label{cursor:pointer;color:var(--sc-font-color1);}.sc-section-item input:enabled + label:hover{color:var(--sc-font-color0);}.sc-section-summary{grid-column:1;font-weight:500;}.sc-section-summary > span{display:inline-block;padding-left:0.5em;}.sc-section-summary-in:disabled + label{color:var(--sc-font-color1);}.sc-section-summary-in + label:before{display:inline-block;content:'►';font-size:11px;width:15px;text-align:center;}.sc-section-summary-in:disabled + label:before{color:var(--sc-font-color3);}.sc-section-summary-in:checked + label:before{content:'▼';}.sc-section-summary-in:checked + label > span{display:none;}.sc-section-summary,.sc-section-inline-details{padding-top:4px;padding-bottom:4px;}.sc-section-inline-details{grid-column:2 / 6;}.sc-section-details{display:none;grid-column:1 / -1;margin-bottom:5px;}.sc-section-summary-in:checked ~ .sc-section-details{display:contents;}.sc-array-wrap{grid-column:1 / -1;display:grid;grid-template-columns:20px auto;}.sc-array-wrap > label{grid-column:1;vertical-align:top;}.sc-preview{color:var(--sc-font-color2);}.sc-array-preview,.sc-array-data{padding:0 5px !important;grid-column:2;}.sc-array-data,.sc-array-in:checked ~ .sc-array-preview{display:none;}.sc-array-in:checked ~ .sc-array-data,.sc-array-preview{display:inline-block;}.sc-dim-list{display:inline-block !important;list-style:none;padding:0 !important;margin:0;}.sc-dim-list li{display:inline-block;padding:0;margin:0!important;}.sc-dim-list:before{content:'(';}.sc-dim-list:after{content:')';}.sc-dim-list li:not(:last-child):after{content:',';padding-right:5px;}.sc-has-index{font-weight:bold;}.sc-var-list,.sc-var-item,.reveal .sc-var-list,.reveal .sc-var-item{display:contents;}.sc-var-item > div,.sc-var-item label,.sc-var-item > .sc-var-name span{background-color:var(--sc-background-color1);margin-bottom:0;}.sc-var-item > .sc-var-name:hover span{padding-right:5px;}.sc-var-list > li:nth-child(odd) > div,.sc-var-list > li:nth-child(odd) > label,.sc-var-list > li:nth-child(odd) > .sc-var-name span{background-color:var(--sc-background-color2);}.sc-var-name{grid-column:1;}.sc-var-dims{grid-column:2;}.sc-var-dtype{grid-column:3;text-align:right;color:var(--sc-font-color2);}.sc-var-unit{grid-column:4;text-align:left;color:var(--sc-font-color1);max-width:50pt;text-overflow:ellipsis;}.sc-value-preview{grid-column:5;}.sc-var-preview-variances{text-align:right;}.sc-sections .sc-section-item .sc-section-summary,.sc-sections .sc-section-item .sc-section-inline-details,.sc-section-item .sc-var-list .sc-var-item > div,.sc-section-item .sc-var-list .sc-var-item > label,.sc-section-details .sc-var-list .sc-var-item > div,.sc-section-details .sc-var-list .sc-var-item > label{margin-top:0;margin-bottom:0;}.sc-var-name,.sc-var-dims,.sc-var-dtype,.sc-var-unit,.sc-preview,.sc-attrs dt{white-space:nowrap;overflow:hidden;text-overflow:ellipsis;padding-right:10px;}.sc-var-name:hover,.sc-var-dims:hover,.sc-var-dtype:hover,.sc-var-unit:hover,.sc-attrs dt:hover{overflow:visible;width:auto;z-index:1;}.sc-var-attrs{display:block;}.sc-var-data,.reveal .sc-var-data{display:none;}.sc-var-attrs,.sc-var-data{background-color:var(--sc-background-color0) !important;padding-bottom:5px !important;}.sc-var-attrs-in:checked ~ .sc-var-attrs{display:none;}.sc-var-data-in:checked ~ .sc-var-data{display:block;}.sc-var-data > table{float:right;}.sc-var-name span,.sc-var-data{padding-left:25px !important;}.sc-var-attrs,.sc-var-data{grid-column:1 / -1;}dl.sc-attrs{padding:0;margin:0;display:grid;grid-template-columns:125px auto;}.sc-attrs dt,dd{padding:0;margin:0;float:left;padding-right:10px;width:auto;}.sc-attrs dt{font-weight:normal;grid-column:1;}.sc-attrs dt:hover span{display:inline-block;padding-right:10px;}.sc-attrs dd{grid-column:2;white-space:pre-wrap;word-break:break-all;}.sc-icon-database,.sc-icon-file-text2{display:inline-block;vertical-align:middle;width:1em;height:1.5em !important;stroke-width:0;stroke:currentColor;fill:currentColor;}label.sc-hide-icon svg{opacity:0;}.sc-standalone-var-name{grid-column:1/3;}.sc-standalone-var-name span{padding-left:25px;padding-right:10px;}.sc-table{border-collapse:collapse;}.sc-title{font-weight:bold;font-size:1.5em;}.sc-subtitle{font-weight:normal;font-style:italic;text-align:left;font-size:1.2em;padding:1px;}.sc-table th,.sc-table td{border:1px solid var(--sc-inverse-background-color0);padding:0 5px 0 5px;}.sc-table th{text-align:center;}.sc-table tr{background-color:var(--sc-background-color1);text-align:right;}.sc-table tr:hover{background-color:var(--sc-background-color2);}.sc-table th.sc-data{background-color:var(--sc-table-data-color);color:var(--sc-table-header-font-color);}.sc-table th.sc-coords{background-color:var(--sc-table-coords-color);color:var(--sc-table-header-font-color);}.sc-table th.sc-masks{background-color:var(--sc-table-masks-color);color:var(--sc-table-header-font-color);}.sc-table th.sc-attrs{background-color:var(--sc-table-attrs-color);color:var(--sc-table-header-font-color);}.sc-table th.sc-subheader{background-color:var(--sc-background-color2);}.sc-table td.sc-padding{background-color:var(--sc-background-color1);border:0 solid var(--sc-background-color1);height:1.2em;}.sc-label{fill:var(--sc-font-color0,#444444);text-anchor:middle;}.sc-name{fill:var(--sc-font-color0,#111111);}.sc-inset-line{stroke:var(--sc-font-color1);stroke-width:0.05;stroke-dasharray:0.2,0.2;}.sc-log-wrap{height:25ex;resize:vertical;overflow-y:scroll;display:flex;flex-direction:column-reverse;border:1px solid;border-color:var(--jp-border-color2);background-color:var(--sc-background-color1);}div.sc-log{line-height:2.5ex;}table.sc-log{table-layout:auto;border-collapse:collapse;}tr.sc-log:nth-child(even){background-color:var(--sc-background-color0);}tr.sc-log > td{vertical-align:top;padding-bottom:0.5ex;}.sc-log-time-stamp{min-width:22ch;font-family:var(--jp-code-font-family);color:var(--sc-font-color2);}.sc-log-level{min-width:10ch;}tr.sc-log-debug td.sc-log-level{color:var(--jp-accent-color1);}tr.sc-log-info td.sc-log-level{color:var(--jp-info-color1);}tr.sc-log-warning td.sc-log-level{color:var(--jp-warn-color1);}tr.sc-log-error td.sc-log-level{font-weight:bold;color:var(--jp-error-color2);}tr.sc-log-critical td.sc-log-level{font-weight:bold;color:var(--sc-background-color0);background-color:var(--jp-error-color1);}.sc-log-message{white-space:pre-wrap;width:100%;}.sc-log-html-payload{white-space:normal;}.sc-log-name{padding-right:0.5em;text-align:right;white-space:pre-wrap;color:var(--sc-font-color3);}</style><div class='sc-wrap sc-root'><div class='sc-header'><div class='sc-obj-type'>scipp.DataArray (12.21 GB)</div></div><ul class='sc-sections'><li class='sc-section-item'><input id='section-c0332000-eccc-4042-9d87-866fa89c5b1f' class='sc-section-summary-in' type='checkbox' disabled ><label for='section-c0332000-eccc-4042-9d87-866fa89c5b1f' class='sc-section-summary'  title='Expand/collapse section'>Dimensions:</label><div class='sc-section-inline-details'><ul class='sc-dim-list'><li><span>row</span>: 409600000</li></ul></div><div class='sc-section-details'></div></li><li class='sc-section-item'><input id='section-23f95270-e579-4d87-868b-70e1c5f24e1e' class='sc-section-summary-in' type='checkbox'  checked><label for='section-23f95270-e579-4d87-868b-70e1c5f24e1e' class='sc-section-summary' >Coordinates: <span>(3)</span></label><div class='sc-section-inline-details'></div><div class='sc-section-details'><ul class='sc-var-list'><li class='sc-var-item'><div class='sc-var-name'><span>tc</span></div><div class='sc-var-dims'>(row)</div><div class='sc-var-dtype'>float64</div><div class='sc-var-unit'>ms</div><div class='sc-value-preview sc-preview'><span><div>0.093, 0.093, ..., 0.151, 0.152</div></span></div><input id='attrs-a296b9a0-1262-461f-b4f3-f1e4896c994f' class='sc-var-attrs-in' type='checkbox' disabled><label for='attrs-a296b9a0-1262-461f-b4f3-f1e4896c994f' class='sc-hide-icon' title='Show/Hide attributes'><svg class='icon sc-icon-file-text2'><use xlink:href='#icon-file-text2'></use></svg></label><input id='data-20699a50-b96e-49d6-a367-1670d3fbd7f9' class='sc-var-data-in' type='checkbox'><label for='data-20699a50-b96e-49d6-a367-1670d3fbd7f9' title='Show/Hide data repr'><svg class='icon sc-icon-database'><use xlink:href='#icon-database'></use></svg></label><pre class='sc-var-data'>Values:<br>array([0.09295184, 0.09318753, 0.09342322, ..., 0.15116806, 0.15140375,\n",
       "       0.15163944])</pre></span></li><li class='sc-var-item'><div class='sc-var-name'><span>xc</span></div><div class='sc-var-dims'>(row)</div><div class='sc-var-dtype'>float64</div><div class='sc-var-unit'>m</div><div class='sc-value-preview sc-preview'><span><div>0.000, 0.000, ..., 0.512, 0.512</div></span></div><input id='attrs-e064f76b-bd93-49fb-b0be-9484f98188b8' class='sc-var-attrs-in' type='checkbox' disabled><label for='attrs-e064f76b-bd93-49fb-b0be-9484f98188b8' class='sc-hide-icon' title='Show/Hide attributes'><svg class='icon sc-icon-file-text2'><use xlink:href='#icon-file-text2'></use></svg></label><input id='data-d1de78eb-1464-4ed1-9a69-633c6fb48b3d' class='sc-var-data-in' type='checkbox'><label for='data-d1de78eb-1464-4ed1-9a69-633c6fb48b3d' title='Show/Hide data repr'><svg class='icon sc-icon-database'><use xlink:href='#icon-database'></use></svg></label><pre class='sc-var-data'>Values:<br>array([2.00003903e-04, 2.00003903e-04, 2.00003903e-04, ...,\n",
       "       5.11799997e-01, 5.11799997e-01, 5.11799997e-01])</pre></span></li><li class='sc-var-item'><div class='sc-var-name'><span>yc</span></div><div class='sc-var-dims'>(row)</div><div class='sc-var-dtype'>float64</div><div class='sc-var-unit'>m</div><div class='sc-value-preview sc-preview'><span><div>0.000, 0.000, ..., 0.512, 0.512</div></span></div><input id='attrs-62e1ab39-2814-4489-88cd-ff8a91de7b7c' class='sc-var-attrs-in' type='checkbox' disabled><label for='attrs-62e1ab39-2814-4489-88cd-ff8a91de7b7c' class='sc-hide-icon' title='Show/Hide attributes'><svg class='icon sc-icon-file-text2'><use xlink:href='#icon-file-text2'></use></svg></label><input id='data-6d7bb95f-04a6-4db2-881d-2e14276ee01c' class='sc-var-data-in' type='checkbox'><label for='data-6d7bb95f-04a6-4db2-881d-2e14276ee01c' title='Show/Hide data repr'><svg class='icon sc-icon-database'><use xlink:href='#icon-database'></use></svg></label><pre class='sc-var-data'>Values:<br>array([2.00017219e-04, 2.00017219e-04, 2.00017219e-04, ...,\n",
       "       5.11799988e-01, 5.11799988e-01, 5.11799988e-01])</pre></span></li></ul></div></li><li class='sc-section-item'><input id='section-f5d749d6-d0e4-4c19-aa9c-d624c0d09854' class='sc-section-summary-in' type='checkbox'  checked><label for='section-f5d749d6-d0e4-4c19-aa9c-d624c0d09854' class='sc-section-summary' >Data: <span>(1)</span></label><div class='sc-section-inline-details'></div><div class='sc-section-details'><ul class='sc-var-list'><li class='sc-var-item'><div class='sc-var-name'><span></span></div><div class='sc-var-dims'>(row)</div><div class='sc-var-dtype'>float64</div><div class='sc-var-unit'>counts</div><div class='sc-value-preview sc-preview'><span><div>0.0, 0.0, ..., 0.0, 0.0</div></span></div><input id='attrs-dd03296f-cc7e-4126-b8c1-c3c3cc3469da' class='sc-var-attrs-in' type='checkbox' disabled><label for='attrs-dd03296f-cc7e-4126-b8c1-c3c3cc3469da' class='sc-hide-icon' title='Show/Hide attributes'><svg class='icon sc-icon-file-text2'><use xlink:href='#icon-file-text2'></use></svg></label><input id='data-6e3b33fd-e72e-4015-a02f-e18b0a4160bf' class='sc-var-data-in' type='checkbox'><label for='data-6e3b33fd-e72e-4015-a02f-e18b0a4160bf' title='Show/Hide data repr'><svg class='icon sc-icon-database'><use xlink:href='#icon-database'></use></svg></label><pre class='sc-var-data'>Values:<br>array([0., 0., 0., ..., 0., 0., 0.])</pre></li></ul></div></li></ul></div></div>"
      ],
      "text/plain": [
       "<scipp.DataArray>\n",
       "Dimensions: Sizes[row:409600000, ]\n",
       "Coordinates:\n",
       "  tc                        float64             [ms]  (row)  [0.0929518, 0.0931875, ..., 0.151404, 0.151639]\n",
       "  xc                        float64              [m]  (row)  [0.000200004, 0.000200004, ..., 0.5118, 0.5118]\n",
       "  yc                        float64              [m]  (row)  [0.000200017, 0.000200017, ..., 0.5118, 0.5118]\n",
       "Data:\n",
       "                            float64         [counts]  (row)  [0, 0, ..., 0, 0]\n"
      ]
     },
     "execution_count": 54,
     "metadata": {},
     "output_type": "execute_result"
    }
   ],
   "source": [
    "hist5"
   ]
  },
  {
   "cell_type": "code",
   "execution_count": 30,
   "metadata": {},
   "outputs": [
    {
     "data": {
      "application/vnd.jupyter.widget-view+json": {
       "model_id": "20e04ef6627841d8b2a6faa8c9dc4df8",
       "version_major": 2,
       "version_minor": 0
      },
      "text/plain": [
       "Box(children=(InteractiveFig3d(children=(HBar(), HBox(children=(VBar(children=(Toolbar(children=(ButtonTool(ic…"
      ]
     },
     "metadata": {},
     "output_type": "display_data"
    }
   ],
   "source": [
    "pp.scatter3d(filtered, x='xc', y='yc', z='tc', pixel_size=0.001)#,figsize=(550, 550))"
   ]
  },
  {
   "cell_type": "code",
   "execution_count": 23,
   "metadata": {},
   "outputs": [],
   "source": [
    "\n",
    "#pp.scatter3d(hist3, x='x', y='y', z='t', figsize=(550, 400), pixel_size=0.2)\n"
   ]
  },
  {
   "cell_type": "code",
   "execution_count": 24,
   "metadata": {},
   "outputs": [
    {
     "name": "stdout",
     "output_type": "stream",
     "text": [
      "65.0\n"
     ]
    },
    {
     "data": {
      "application/vnd.jupyter.widget-view+json": {
       "model_id": "006dc8b9b1724aabb3880ff28cbfecb7",
       "version_major": 2,
       "version_minor": 0
      },
      "text/plain": [
       "Box(children=(InteractiveFig2d(children=(HBar(), HBox(children=(VBar(children=(Toolbar(children=(ButtonTool(ic…"
      ]
     },
     "metadata": {},
     "output_type": "display_data"
    }
   ],
   "source": [
    "%matplotlib widget\n",
    "print(hist3.max().value)\n",
    "pp.slicer(hist3, keep=['x', 'y'],vmax=hist3.max().value)\n"
   ]
  },
  {
   "cell_type": "code",
   "execution_count": 64,
   "metadata": {},
   "outputs": [
    {
     "data": {
      "text/plain": [
       "<bound method sum of <scipp.DataArray>\n",
       "Dimensions: Sizes[id:1638400, t:12, ]\n",
       "Coordinates:\n",
       "  id                        float64          [1e-09]  (id [bin-edge])  [1, 2, ..., 1.6384e+06, 1.6384e+06]\n",
       "  t                         float64             [ms]  (t [bin-edge])  [0.092834, 0.0977443, ..., 0.146847, 0.151757]\n",
       "Data:\n",
       "                            float64         [counts]  (id, t)  [0, 0, ..., 0, 0]\n",
       "\n",
       ">"
      ]
     },
     "execution_count": 64,
     "metadata": {},
     "output_type": "execute_result"
    }
   ],
   "source": [
    "nbin= 1280**2\n",
    "tbin = 12\n",
    "id_binned = da.bin(id=nbin)\n",
    "\n",
    "id_hist=id_binned.hist(t=tbin)\n",
    "\n",
    "\n",
    "id_hist.sum"
   ]
  },
  {
   "cell_type": "code",
   "execution_count": 26,
   "metadata": {},
   "outputs": [],
   "source": [
    "#f_out = h5py.File('/Users/justinbergmann/work_flow/test_out/test.h5','w')"
   ]
  },
  {
   "cell_type": "code",
   "execution_count": 65,
   "metadata": {},
   "outputs": [
    {
     "name": "stdout",
     "output_type": "stream",
     "text": [
      "()\n",
      "(1638400, 12)\n",
      "<scipp.DataArray>\n",
      "Dimensions: Sizes[id:1638400, ]\n",
      "Coordinates:\n",
      "  id                        float64          [1e-09]  (id [bin-edge])  [1, 2, ..., 1.6384e+06, 1.6384e+06]\n",
      "Data:\n",
      "                            float64         [counts]  (id)  [0, 0, ..., 1, 0]\n",
      "Attributes:\n",
      "  t                         float64             [ms]  (t [bin-edge])  [0.092834, 0.0977443]\n",
      "\n",
      "\n",
      "(1638400,)\n"
     ]
    },
    {
     "data": {
      "text/html": [
       "<div><!-- Original source from -->\n",
       "<!-- https://github.com/jsignell/xarray/blob/1d960933ab252e0f79f7e050e6c9261d55568057/xarray/static/html/icons-svg-inline.html -->\n",
       "<svg style=\"position: absolute; width: 0; height: 0; overflow: hidden\">\n",
       "<defs>\n",
       "<symbol id=\"icon-database\" viewBox=\"0 0 32 32\">\n",
       "<title>Show/Hide data repr</title>\n",
       "<path d=\"M16 0c-8.837 0-16 2.239-16 5v4c0 2.761 7.163 5 16 5s16-2.239 16-5v-4c0-2.761-7.163-5-16-5z\"></path>\n",
       "<path d=\"M16 17c-8.837 0-16-2.239-16-5v6c0 2.761 7.163 5 16 5s16-2.239 16-5v-6c0 2.761-7.163 5-16 5z\"></path>\n",
       "<path d=\"M16 26c-8.837 0-16-2.239-16-5v6c0 2.761 7.163 5 16 5s16-2.239 16-5v-6c0 2.761-7.163 5-16 5z\"></path>\n",
       "</symbol>\n",
       "<symbol id=\"icon-file-text2\" viewBox=\"0 0 32 32\">\n",
       "<title>Show/Hide attributes</title>\n",
       "<path d=\"M28.681 7.159c-0.694-0.947-1.662-2.053-2.724-3.116s-2.169-2.030-3.116-2.724c-1.612-1.182-2.393-1.319-2.841-1.319h-15.5c-1.378 0-2.5 1.121-2.5 2.5v27c0 1.378 1.122 2.5 2.5 2.5h23c1.378 0 2.5-1.122 2.5-2.5v-19.5c0-0.448-0.137-1.23-1.319-2.841zM24.543 5.457c0.959 0.959 1.712 1.825 2.268 2.543h-4.811v-4.811c0.718 0.556 1.584 1.309 2.543 2.268zM28 29.5c0 0.271-0.229 0.5-0.5 0.5h-23c-0.271 0-0.5-0.229-0.5-0.5v-27c0-0.271 0.229-0.5 0.5-0.5 0 0 15.499-0 15.5 0v7c0 0.552 0.448 1 1 1h7v19.5z\"></path>\n",
       "<path d=\"M23 26h-14c-0.552 0-1-0.448-1-1s0.448-1 1-1h14c0.552 0 1 0.448 1 1s-0.448 1-1 1z\"></path>\n",
       "<path d=\"M23 22h-14c-0.552 0-1-0.448-1-1s0.448-1 1-1h14c0.552 0 1 0.448 1 1s-0.448 1-1 1z\"></path>\n",
       "<path d=\"M23 18h-14c-0.552 0-1-0.448-1-1s0.448-1 1-1h14c0.552 0 1 0.448 1 1s-0.448 1-1 1z\"></path>\n",
       "</symbol>\n",
       "</defs>\n",
       "</svg><style id=\"scipp-style-sheet\">.sc-root{--sc-background-color0:var(--jp-layout-color0,#fff);--sc-background-color1:var(--jp-layout-color1,#fcfcfc);--sc-background-color2:var(--jp-layout-color2,#efefef);--sc-inverse-background-color0:var(--jp-inverse-layout-color4,#111);--sc-font-color0:var(--jp-content-font-color0,#000);--sc-font-color1:var(--jp-content-font-color1,#555);--sc-font-color2:var(--jp-content-font-color2,#888);--sc-font-color3:var(--jp-content-font-color3,#ccc);--sc-table-data-color:#f6d028;--sc-table-coords-color:#c6e590;--sc-table-masks-color:#c8c8c8;--sc-table-attrs-color:#ff5555;--sc-table-header-font-color:#111111;}.sc-wrap{font-size:14px;min-width:300px;max-width:800px;}.sc-var-attrs .sc-wrap{padding-left:3em;}.sc-header{padding-top:6px;padding-bottom:6px;margin-bottom:4px;border-bottom:solid 1px #ddd;}.sc-header > div,.sc-header > ul{display:inline;margin-top:0;margin-bottom:0;}.sc-obj-type,.sc-array-name{margin-left:2px;margin-right:10px;}.sc-obj-type{color:var(--sc-font-color1);}.sc-underlying-size{color:var(--sc-font-color2);}.sc-sections,.reveal .sc-sections{padding-left:0 !important;display:grid;grid-template-columns:150px auto auto auto 1fr 20px 20px;}.sc-section-item{display:contents;}.sc-section-item input{display:none;}.sc-section-item input:enabled + label{cursor:pointer;color:var(--sc-font-color1);}.sc-section-item input:enabled + label:hover{color:var(--sc-font-color0);}.sc-section-summary{grid-column:1;font-weight:500;}.sc-section-summary > span{display:inline-block;padding-left:0.5em;}.sc-section-summary-in:disabled + label{color:var(--sc-font-color1);}.sc-section-summary-in + label:before{display:inline-block;content:'►';font-size:11px;width:15px;text-align:center;}.sc-section-summary-in:disabled + label:before{color:var(--sc-font-color3);}.sc-section-summary-in:checked + label:before{content:'▼';}.sc-section-summary-in:checked + label > span{display:none;}.sc-section-summary,.sc-section-inline-details{padding-top:4px;padding-bottom:4px;}.sc-section-inline-details{grid-column:2 / 6;}.sc-section-details{display:none;grid-column:1 / -1;margin-bottom:5px;}.sc-section-summary-in:checked ~ .sc-section-details{display:contents;}.sc-array-wrap{grid-column:1 / -1;display:grid;grid-template-columns:20px auto;}.sc-array-wrap > label{grid-column:1;vertical-align:top;}.sc-preview{color:var(--sc-font-color2);}.sc-array-preview,.sc-array-data{padding:0 5px !important;grid-column:2;}.sc-array-data,.sc-array-in:checked ~ .sc-array-preview{display:none;}.sc-array-in:checked ~ .sc-array-data,.sc-array-preview{display:inline-block;}.sc-dim-list{display:inline-block !important;list-style:none;padding:0 !important;margin:0;}.sc-dim-list li{display:inline-block;padding:0;margin:0!important;}.sc-dim-list:before{content:'(';}.sc-dim-list:after{content:')';}.sc-dim-list li:not(:last-child):after{content:',';padding-right:5px;}.sc-has-index{font-weight:bold;}.sc-var-list,.sc-var-item,.reveal .sc-var-list,.reveal .sc-var-item{display:contents;}.sc-var-item > div,.sc-var-item label,.sc-var-item > .sc-var-name span{background-color:var(--sc-background-color1);margin-bottom:0;}.sc-var-item > .sc-var-name:hover span{padding-right:5px;}.sc-var-list > li:nth-child(odd) > div,.sc-var-list > li:nth-child(odd) > label,.sc-var-list > li:nth-child(odd) > .sc-var-name span{background-color:var(--sc-background-color2);}.sc-var-name{grid-column:1;}.sc-var-dims{grid-column:2;}.sc-var-dtype{grid-column:3;text-align:right;color:var(--sc-font-color2);}.sc-var-unit{grid-column:4;text-align:left;color:var(--sc-font-color1);max-width:50pt;text-overflow:ellipsis;}.sc-value-preview{grid-column:5;}.sc-var-preview-variances{text-align:right;}.sc-sections .sc-section-item .sc-section-summary,.sc-sections .sc-section-item .sc-section-inline-details,.sc-section-item .sc-var-list .sc-var-item > div,.sc-section-item .sc-var-list .sc-var-item > label,.sc-section-details .sc-var-list .sc-var-item > div,.sc-section-details .sc-var-list .sc-var-item > label{margin-top:0;margin-bottom:0;}.sc-var-name,.sc-var-dims,.sc-var-dtype,.sc-var-unit,.sc-preview,.sc-attrs dt{white-space:nowrap;overflow:hidden;text-overflow:ellipsis;padding-right:10px;}.sc-var-name:hover,.sc-var-dims:hover,.sc-var-dtype:hover,.sc-var-unit:hover,.sc-attrs dt:hover{overflow:visible;width:auto;z-index:1;}.sc-var-attrs{display:block;}.sc-var-data,.reveal .sc-var-data{display:none;}.sc-var-attrs,.sc-var-data{background-color:var(--sc-background-color0) !important;padding-bottom:5px !important;}.sc-var-attrs-in:checked ~ .sc-var-attrs{display:none;}.sc-var-data-in:checked ~ .sc-var-data{display:block;}.sc-var-data > table{float:right;}.sc-var-name span,.sc-var-data{padding-left:25px !important;}.sc-var-attrs,.sc-var-data{grid-column:1 / -1;}dl.sc-attrs{padding:0;margin:0;display:grid;grid-template-columns:125px auto;}.sc-attrs dt,dd{padding:0;margin:0;float:left;padding-right:10px;width:auto;}.sc-attrs dt{font-weight:normal;grid-column:1;}.sc-attrs dt:hover span{display:inline-block;padding-right:10px;}.sc-attrs dd{grid-column:2;white-space:pre-wrap;word-break:break-all;}.sc-icon-database,.sc-icon-file-text2{display:inline-block;vertical-align:middle;width:1em;height:1.5em !important;stroke-width:0;stroke:currentColor;fill:currentColor;}label.sc-hide-icon svg{opacity:0;}.sc-standalone-var-name{grid-column:1/3;}.sc-standalone-var-name span{padding-left:25px;padding-right:10px;}.sc-table{border-collapse:collapse;}.sc-title{font-weight:bold;font-size:1.5em;}.sc-subtitle{font-weight:normal;font-style:italic;text-align:left;font-size:1.2em;padding:1px;}.sc-table th,.sc-table td{border:1px solid var(--sc-inverse-background-color0);padding:0 5px 0 5px;}.sc-table th{text-align:center;}.sc-table tr{background-color:var(--sc-background-color1);text-align:right;}.sc-table tr:hover{background-color:var(--sc-background-color2);}.sc-table th.sc-data{background-color:var(--sc-table-data-color);color:var(--sc-table-header-font-color);}.sc-table th.sc-coords{background-color:var(--sc-table-coords-color);color:var(--sc-table-header-font-color);}.sc-table th.sc-masks{background-color:var(--sc-table-masks-color);color:var(--sc-table-header-font-color);}.sc-table th.sc-attrs{background-color:var(--sc-table-attrs-color);color:var(--sc-table-header-font-color);}.sc-table th.sc-subheader{background-color:var(--sc-background-color2);}.sc-table td.sc-padding{background-color:var(--sc-background-color1);border:0 solid var(--sc-background-color1);height:1.2em;}.sc-label{fill:var(--sc-font-color0,#444444);text-anchor:middle;}.sc-name{fill:var(--sc-font-color0,#111111);}.sc-inset-line{stroke:var(--sc-font-color1);stroke-width:0.05;stroke-dasharray:0.2,0.2;}.sc-log-wrap{height:25ex;resize:vertical;overflow-y:scroll;display:flex;flex-direction:column-reverse;border:1px solid;border-color:var(--jp-border-color2);background-color:var(--sc-background-color1);}div.sc-log{line-height:2.5ex;}table.sc-log{table-layout:auto;border-collapse:collapse;}tr.sc-log:nth-child(even){background-color:var(--sc-background-color0);}tr.sc-log > td{vertical-align:top;padding-bottom:0.5ex;}.sc-log-time-stamp{min-width:22ch;font-family:var(--jp-code-font-family);color:var(--sc-font-color2);}.sc-log-level{min-width:10ch;}tr.sc-log-debug td.sc-log-level{color:var(--jp-accent-color1);}tr.sc-log-info td.sc-log-level{color:var(--jp-info-color1);}tr.sc-log-warning td.sc-log-level{color:var(--jp-warn-color1);}tr.sc-log-error td.sc-log-level{font-weight:bold;color:var(--jp-error-color2);}tr.sc-log-critical td.sc-log-level{font-weight:bold;color:var(--sc-background-color0);background-color:var(--jp-error-color1);}.sc-log-message{white-space:pre-wrap;width:100%;}.sc-log-html-payload{white-space:normal;}.sc-log-name{padding-right:0.5em;text-align:right;white-space:pre-wrap;color:var(--sc-font-color3);}</style><div class='sc-wrap sc-root'><div class='sc-header'><div class='sc-obj-type'>scipp.DataArray (162.50 MB)</div></div><ul class='sc-sections'><li class='sc-section-item'><input id='section-c638c912-2fd9-4b7d-bd60-c801f083df78' class='sc-section-summary-in' type='checkbox' disabled ><label for='section-c638c912-2fd9-4b7d-bd60-c801f083df78' class='sc-section-summary'  title='Expand/collapse section'>Dimensions:</label><div class='sc-section-inline-details'><ul class='sc-dim-list'><li><span class='sc-has-index'>id</span>: 1638400</li><li><span class='sc-has-index'>t</span>: 12</li></ul></div><div class='sc-section-details'></div></li><li class='sc-section-item'><input id='section-a4475f08-c035-4d6f-bacf-be6094771e91' class='sc-section-summary-in' type='checkbox'  checked><label for='section-a4475f08-c035-4d6f-bacf-be6094771e91' class='sc-section-summary' >Coordinates: <span>(2)</span></label><div class='sc-section-inline-details'></div><div class='sc-section-details'><ul class='sc-var-list'><li class='sc-var-item'><div class='sc-var-name'><span class='sc-has-index'>id</span></div><div class='sc-var-dims'>(id [bin-edge])</div><div class='sc-var-dtype'>float64</div><div class='sc-var-unit'>1e-09</div><div class='sc-value-preview sc-preview'><span><div>1.0, 2.000, ..., 1.638e+06, 1.638e+06</div></span></div><input id='attrs-9e21948e-3d24-42ac-a996-adb2d4d2855e' class='sc-var-attrs-in' type='checkbox' disabled><label for='attrs-9e21948e-3d24-42ac-a996-adb2d4d2855e' class='sc-hide-icon' title='Show/Hide attributes'><svg class='icon sc-icon-file-text2'><use xlink:href='#icon-file-text2'></use></svg></label><input id='data-a2040a37-202d-4a8b-a1c8-51ee7cdd588a' class='sc-var-data-in' type='checkbox'><label for='data-a2040a37-202d-4a8b-a1c8-51ee7cdd588a' title='Show/Hide data repr'><svg class='icon sc-icon-database'><use xlink:href='#icon-database'></use></svg></label><pre class='sc-var-data'>Values:<br>array([1.00000000e+00, 1.99999939e+00, 2.99999878e+00, ...,\n",
       "       1.63839800e+06, 1.63839900e+06, 1.63840000e+06])</pre></span></li><li class='sc-var-item'><div class='sc-var-name'><span class='sc-has-index'>t</span></div><div class='sc-var-dims'>(t [bin-edge])</div><div class='sc-var-dtype'>float64</div><div class='sc-var-unit'>ms</div><div class='sc-value-preview sc-preview'><span><div>0.093, 0.098, ..., 0.147, 0.152</div></span></div><input id='attrs-dbad8234-a4c3-4937-9018-457d3b999097' class='sc-var-attrs-in' type='checkbox' disabled><label for='attrs-dbad8234-a4c3-4937-9018-457d3b999097' class='sc-hide-icon' title='Show/Hide attributes'><svg class='icon sc-icon-file-text2'><use xlink:href='#icon-file-text2'></use></svg></label><input id='data-49ed0628-c569-41e6-b3e6-0f5bc912d155' class='sc-var-data-in' type='checkbox'><label for='data-49ed0628-c569-41e6-b3e6-0f5bc912d155' title='Show/Hide data repr'><svg class='icon sc-icon-database'><use xlink:href='#icon-database'></use></svg></label><pre class='sc-var-data'>Values:<br>array([0.09283399, 0.09774426, 0.10265454, 0.10756481, 0.11247509,\n",
       "       0.11738536, 0.12229564, 0.12720591, 0.13211619, 0.13702646,\n",
       "       0.14193674, 0.14684701, 0.15175729])</pre></span></li></ul></div></li><li class='sc-section-item'><input id='section-2bee0a35-9c50-49a6-8adf-c4c020476b36' class='sc-section-summary-in' type='checkbox'  checked><label for='section-2bee0a35-9c50-49a6-8adf-c4c020476b36' class='sc-section-summary' >Data: <span>(1)</span></label><div class='sc-section-inline-details'></div><div class='sc-section-details'><ul class='sc-var-list'><li class='sc-var-item'><div class='sc-var-name'><span></span></div><div class='sc-var-dims'>(id, t)</div><div class='sc-var-dtype'>float64</div><div class='sc-var-unit'>counts</div><div class='sc-value-preview sc-preview'><span><div>0.0, 0.0, ..., 0.0, 0.0</div></span></div><input id='attrs-99d33699-2c66-4b13-b5c0-a546032b3916' class='sc-var-attrs-in' type='checkbox' disabled><label for='attrs-99d33699-2c66-4b13-b5c0-a546032b3916' class='sc-hide-icon' title='Show/Hide attributes'><svg class='icon sc-icon-file-text2'><use xlink:href='#icon-file-text2'></use></svg></label><input id='data-3c3191a8-7cdb-48e0-9170-3111729d7857' class='sc-var-data-in' type='checkbox'><label for='data-3c3191a8-7cdb-48e0-9170-3111729d7857' title='Show/Hide data repr'><svg class='icon sc-icon-database'><use xlink:href='#icon-database'></use></svg></label><pre class='sc-var-data'>Values:<br>array([[0., 0., 2., ..., 1., 0., 0.],\n",
       "       [0., 0., 1., ..., 0., 0., 0.],\n",
       "       [0., 1., 6., ..., 0., 1., 0.],\n",
       "       ...,\n",
       "       [0., 0., 1., ..., 0., 0., 0.],\n",
       "       [1., 0., 2., ..., 1., 1., 0.],\n",
       "       [0., 0., 2., ..., 0., 0., 0.]])</pre></li></ul></div></li></ul></div></div>"
      ],
      "text/plain": [
       "<scipp.DataArray>\n",
       "Dimensions: Sizes[id:1638400, t:12, ]\n",
       "Coordinates:\n",
       "  id                        float64          [1e-09]  (id [bin-edge])  [1, 2, ..., 1.6384e+06, 1.6384e+06]\n",
       "  t                         float64             [ms]  (t [bin-edge])  [0.092834, 0.0977443, ..., 0.146847, 0.151757]\n",
       "Data:\n",
       "                            float64         [counts]  (id, t)  [0, 0, ..., 0, 0]\n"
      ]
     },
     "execution_count": 65,
     "metadata": {},
     "output_type": "execute_result"
    }
   ],
   "source": [
    "print(id_hist['t',0][0].shape)\n",
    "print(id_hist.shape)\n",
    "data1 = np.array(id_hist['t',0].values)\n",
    "data2 = np.array(id_hist.values)\n",
    "data_t = np.array(id_hist['id',0])\n",
    "print(id_hist['t',0])\n",
    "print(data1.shape)\n",
    "id_hist"
   ]
  },
  {
   "cell_type": "code",
   "execution_count": 76,
   "metadata": {},
   "outputs": [
    {
     "name": "stdout",
     "output_type": "stream",
     "text": [
      "12\n",
      "[0.09528913 0.1001994  0.10510968 0.11001995 0.11493023 0.1198405\n",
      " 0.12475078 0.12966105 0.13457133 0.1394816  0.14439188 0.14930215]\n"
     ]
    }
   ],
   "source": [
    "t_list = sc.midpoints(id_hist.coords['t'])\n",
    "t_list_n = np.array(t_list.values)\n",
    "print(len(t_list_n))\n",
    "#print(t_list_n)\n",
    "tl = np.array(sc.midpoints(id_hist.coords['t']).values) \n",
    "print(tl)"
   ]
  },
  {
   "cell_type": "code",
   "execution_count": 104,
   "metadata": {},
   "outputs": [
    {
     "name": "stdout",
     "output_type": "stream",
     "text": [
      "13\n",
      "[0.09283399 0.09774426 0.10265454 0.10756481 0.11247509 0.11738536\n",
      " 0.12229564 0.12720591 0.13211619 0.13702646 0.14193674 0.14684701\n",
      " 0.15175729]\n",
      "1\n",
      "[1.00000000e+00 1.99999939e+00 2.99999878e+00 ... 1.63839800e+06\n",
      " 1.63839900e+06 1.63840000e+06]\n",
      "<class 'numpy.float64'>\n"
     ]
    }
   ],
   "source": [
    "tl_bin = np.array(id_hist.coords['t'].values)\n",
    "id_bin = np.array(id_hist.coords['id'].values)\n",
    "id_r = np.rint(id_bin)\n",
    "#id_r= np.int(id_r)\n",
    "print(len(tl_bin))\n",
    "print(tl_bin)\n",
    "print(len(id_bin)-(1280**2))\n",
    "print(id_bin)\n",
    "print(type(id_r[0]))"
   ]
  },
  {
   "cell_type": "code",
   "execution_count": 43,
   "metadata": {},
   "outputs": [
    {
     "data": {
      "text/html": [
       "<svg width=40em viewBox=\"-2.3 0 24 16.6\" class=\"sc-root\"><defs><style id=\"scipp-style-sheet\">.sc-root{--sc-background-color0:var(--jp-layout-color0,#fff);--sc-background-color1:var(--jp-layout-color1,#fcfcfc);--sc-background-color2:var(--jp-layout-color2,#efefef);--sc-inverse-background-color0:var(--jp-inverse-layout-color4,#111);--sc-font-color0:var(--jp-content-font-color0,#000);--sc-font-color1:var(--jp-content-font-color1,#555);--sc-font-color2:var(--jp-content-font-color2,#888);--sc-font-color3:var(--jp-content-font-color3,#ccc);--sc-table-data-color:#f6d028;--sc-table-coords-color:#c6e590;--sc-table-masks-color:#c8c8c8;--sc-table-attrs-color:#ff5555;--sc-table-header-font-color:#111111;}.sc-wrap{font-size:14px;min-width:300px;max-width:800px;}.sc-var-attrs .sc-wrap{padding-left:3em;}.sc-header{padding-top:6px;padding-bottom:6px;margin-bottom:4px;border-bottom:solid 1px #ddd;}.sc-header > div,.sc-header > ul{display:inline;margin-top:0;margin-bottom:0;}.sc-obj-type,.sc-array-name{margin-left:2px;margin-right:10px;}.sc-obj-type{color:var(--sc-font-color1);}.sc-underlying-size{color:var(--sc-font-color2);}.sc-sections,.reveal .sc-sections{padding-left:0 !important;display:grid;grid-template-columns:150px auto auto auto 1fr 20px 20px;}.sc-section-item{display:contents;}.sc-section-item input{display:none;}.sc-section-item input:enabled + label{cursor:pointer;color:var(--sc-font-color1);}.sc-section-item input:enabled + label:hover{color:var(--sc-font-color0);}.sc-section-summary{grid-column:1;font-weight:500;}.sc-section-summary > span{display:inline-block;padding-left:0.5em;}.sc-section-summary-in:disabled + label{color:var(--sc-font-color1);}.sc-section-summary-in + label:before{display:inline-block;content:'►';font-size:11px;width:15px;text-align:center;}.sc-section-summary-in:disabled + label:before{color:var(--sc-font-color3);}.sc-section-summary-in:checked + label:before{content:'▼';}.sc-section-summary-in:checked + label > span{display:none;}.sc-section-summary,.sc-section-inline-details{padding-top:4px;padding-bottom:4px;}.sc-section-inline-details{grid-column:2 / 6;}.sc-section-details{display:none;grid-column:1 / -1;margin-bottom:5px;}.sc-section-summary-in:checked ~ .sc-section-details{display:contents;}.sc-array-wrap{grid-column:1 / -1;display:grid;grid-template-columns:20px auto;}.sc-array-wrap > label{grid-column:1;vertical-align:top;}.sc-preview{color:var(--sc-font-color2);}.sc-array-preview,.sc-array-data{padding:0 5px !important;grid-column:2;}.sc-array-data,.sc-array-in:checked ~ .sc-array-preview{display:none;}.sc-array-in:checked ~ .sc-array-data,.sc-array-preview{display:inline-block;}.sc-dim-list{display:inline-block !important;list-style:none;padding:0 !important;margin:0;}.sc-dim-list li{display:inline-block;padding:0;margin:0!important;}.sc-dim-list:before{content:'(';}.sc-dim-list:after{content:')';}.sc-dim-list li:not(:last-child):after{content:',';padding-right:5px;}.sc-has-index{font-weight:bold;}.sc-var-list,.sc-var-item,.reveal .sc-var-list,.reveal .sc-var-item{display:contents;}.sc-var-item > div,.sc-var-item label,.sc-var-item > .sc-var-name span{background-color:var(--sc-background-color1);margin-bottom:0;}.sc-var-item > .sc-var-name:hover span{padding-right:5px;}.sc-var-list > li:nth-child(odd) > div,.sc-var-list > li:nth-child(odd) > label,.sc-var-list > li:nth-child(odd) > .sc-var-name span{background-color:var(--sc-background-color2);}.sc-var-name{grid-column:1;}.sc-var-dims{grid-column:2;}.sc-var-dtype{grid-column:3;text-align:right;color:var(--sc-font-color2);}.sc-var-unit{grid-column:4;text-align:left;color:var(--sc-font-color1);max-width:50pt;text-overflow:ellipsis;}.sc-value-preview{grid-column:5;}.sc-var-preview-variances{text-align:right;}.sc-sections .sc-section-item .sc-section-summary,.sc-sections .sc-section-item .sc-section-inline-details,.sc-section-item .sc-var-list .sc-var-item > div,.sc-section-item .sc-var-list .sc-var-item > label,.sc-section-details .sc-var-list .sc-var-item > div,.sc-section-details .sc-var-list .sc-var-item > label{margin-top:0;margin-bottom:0;}.sc-var-name,.sc-var-dims,.sc-var-dtype,.sc-var-unit,.sc-preview,.sc-attrs dt{white-space:nowrap;overflow:hidden;text-overflow:ellipsis;padding-right:10px;}.sc-var-name:hover,.sc-var-dims:hover,.sc-var-dtype:hover,.sc-var-unit:hover,.sc-attrs dt:hover{overflow:visible;width:auto;z-index:1;}.sc-var-attrs{display:block;}.sc-var-data,.reveal .sc-var-data{display:none;}.sc-var-attrs,.sc-var-data{background-color:var(--sc-background-color0) !important;padding-bottom:5px !important;}.sc-var-attrs-in:checked ~ .sc-var-attrs{display:none;}.sc-var-data-in:checked ~ .sc-var-data{display:block;}.sc-var-data > table{float:right;}.sc-var-name span,.sc-var-data{padding-left:25px !important;}.sc-var-attrs,.sc-var-data{grid-column:1 / -1;}dl.sc-attrs{padding:0;margin:0;display:grid;grid-template-columns:125px auto;}.sc-attrs dt,dd{padding:0;margin:0;float:left;padding-right:10px;width:auto;}.sc-attrs dt{font-weight:normal;grid-column:1;}.sc-attrs dt:hover span{display:inline-block;padding-right:10px;}.sc-attrs dd{grid-column:2;white-space:pre-wrap;word-break:break-all;}.sc-icon-database,.sc-icon-file-text2{display:inline-block;vertical-align:middle;width:1em;height:1.5em !important;stroke-width:0;stroke:currentColor;fill:currentColor;}label.sc-hide-icon svg{opacity:0;}.sc-standalone-var-name{grid-column:1/3;}.sc-standalone-var-name span{padding-left:25px;padding-right:10px;}.sc-table{border-collapse:collapse;}.sc-title{font-weight:bold;font-size:1.5em;}.sc-subtitle{font-weight:normal;font-style:italic;text-align:left;font-size:1.2em;padding:1px;}.sc-table th,.sc-table td{border:1px solid var(--sc-inverse-background-color0);padding:0 5px 0 5px;}.sc-table th{text-align:center;}.sc-table tr{background-color:var(--sc-background-color1);text-align:right;}.sc-table tr:hover{background-color:var(--sc-background-color2);}.sc-table th.sc-data{background-color:var(--sc-table-data-color);color:var(--sc-table-header-font-color);}.sc-table th.sc-coords{background-color:var(--sc-table-coords-color);color:var(--sc-table-header-font-color);}.sc-table th.sc-masks{background-color:var(--sc-table-masks-color);color:var(--sc-table-header-font-color);}.sc-table th.sc-attrs{background-color:var(--sc-table-attrs-color);color:var(--sc-table-header-font-color);}.sc-table th.sc-subheader{background-color:var(--sc-background-color2);}.sc-table td.sc-padding{background-color:var(--sc-background-color1);border:0 solid var(--sc-background-color1);height:1.2em;}.sc-label{fill:var(--sc-font-color0,#444444);text-anchor:middle;}.sc-name{fill:var(--sc-font-color0,#111111);}.sc-inset-line{stroke:var(--sc-font-color1);stroke-width:0.05;stroke-dasharray:0.2,0.2;}.sc-log-wrap{height:25ex;resize:vertical;overflow-y:scroll;display:flex;flex-direction:column-reverse;border:1px solid;border-color:var(--jp-border-color2);background-color:var(--sc-background-color1);}div.sc-log{line-height:2.5ex;}table.sc-log{table-layout:auto;border-collapse:collapse;}tr.sc-log:nth-child(even){background-color:var(--sc-background-color0);}tr.sc-log > td{vertical-align:top;padding-bottom:0.5ex;}.sc-log-time-stamp{min-width:22ch;font-family:var(--jp-code-font-family);color:var(--sc-font-color2);}.sc-log-level{min-width:10ch;}tr.sc-log-debug td.sc-log-level{color:var(--jp-accent-color1);}tr.sc-log-info td.sc-log-level{color:var(--jp-info-color1);}tr.sc-log-warning td.sc-log-level{color:var(--jp-warn-color1);}tr.sc-log-error td.sc-log-level{font-weight:bold;color:var(--jp-error-color2);}tr.sc-log-critical td.sc-log-level{font-weight:bold;color:var(--sc-background-color0);background-color:var(--jp-error-color1);}.sc-log-message{white-space:pre-wrap;width:100%;}.sc-log-html-payload{white-space:normal;}.sc-log-name{padding-right:0.5em;text-align:right;white-space:pre-wrap;color:var(--sc-font-color3);}</style></defs><g transform=\"translate(0,0)\"><g><text x=\"0\" y=\"0.6\"                     class=\"sc-name\" style=\"font-size:0.6px\">                     </text><title>(dims=(&#x27;id&#x27;, &#x27;t&#x27;), shape=(1638400, 12), unit=counts, variances=False)</title><g><title>values</title><rect style=\"fill:#ffee46;fill-opacity:1;stroke:#000;stroke-width:0.05\" id=\"rect\" width=\"1\" height=\"1\" x=\"0.5\" y=\"12.3\"/> <path style=\"fill:#f6d028;stroke:#000;stroke-width:0.05;stroke-linejoin:round\" d=\"m 0.5 12.3 l 0.3 -0.3 h 1 l -0.3 0.3 z\" id=\"path1\" /> <path style=\"fill:#cea800;stroke:#000;stroke-width:0.05;stroke-linejoin:round\" d=\"m 0.5 12.3 m 1 0 l 0.3 -0.3 v 1 l -0.3 0.3 z\" id=\"path2\" /><rect style=\"fill:#ffee46;fill-opacity:1;stroke:#000;stroke-width:0.05\" id=\"rect\" width=\"1\" height=\"1\" x=\"1.5\" y=\"12.3\"/> <path style=\"fill:#f6d028;stroke:#000;stroke-width:0.05;stroke-linejoin:round\" d=\"m 1.5 12.3 l 0.3 -0.3 h 1 l -0.3 0.3 z\" id=\"path1\" /> <path style=\"fill:#cea800;stroke:#000;stroke-width:0.05;stroke-linejoin:round\" d=\"m 1.5 12.3 m 1 0 l 0.3 -0.3 v 1 l -0.3 0.3 z\" id=\"path2\" /><rect style=\"fill:#ffee46;fill-opacity:1;stroke:#000;stroke-width:0.05\" id=\"rect\" width=\"1\" height=\"1\" x=\"2.5\" y=\"12.3\"/> <path style=\"fill:#f6d028;stroke:#000;stroke-width:0.05;stroke-linejoin:round\" d=\"m 2.5 12.3 l 0.3 -0.3 h 1 l -0.3 0.3 z\" id=\"path1\" /> <path style=\"fill:#cea800;stroke:#000;stroke-width:0.05;stroke-linejoin:round\" d=\"m 2.5 12.3 m 1 0 l 0.3 -0.3 v 1 l -0.3 0.3 z\" id=\"path2\" /><rect style=\"fill:#ffee46;fill-opacity:1;stroke:#000;stroke-width:0.05\" id=\"rect\" width=\"1\" height=\"1\" x=\"3.5\" y=\"12.3\"/> <path style=\"fill:#f6d028;stroke:#000;stroke-width:0.05;stroke-linejoin:round\" d=\"m 3.5 12.3 l 0.3 -0.3 h 1 l -0.3 0.3 z\" id=\"path1\" /> <path style=\"fill:#cea800;stroke:#000;stroke-width:0.05;stroke-linejoin:round\" d=\"m 3.5 12.3 m 1 0 l 0.3 -0.3 v 1 l -0.3 0.3 z\" id=\"path2\" /><rect style=\"fill:#ffee46;fill-opacity:1;stroke:#000;stroke-width:0.05\" id=\"rect\" width=\"1\" height=\"1\" x=\"4.5\" y=\"12.3\"/> <path style=\"fill:#f6d028;stroke:#000;stroke-width:0.05;stroke-linejoin:round\" d=\"m 4.5 12.3 l 0.3 -0.3 h 1 l -0.3 0.3 z\" id=\"path1\" /> <path style=\"fill:#cea800;stroke:#000;stroke-width:0.05;stroke-linejoin:round\" d=\"m 4.5 12.3 m 1 0 l 0.3 -0.3 v 1 l -0.3 0.3 z\" id=\"path2\" /><rect style=\"fill:#ffee46;fill-opacity:1;stroke:#000;stroke-width:0.05\" id=\"rect\" width=\"1\" height=\"1\" x=\"5.5\" y=\"12.3\"/> <path style=\"fill:#f6d028;stroke:#000;stroke-width:0.05;stroke-linejoin:round\" d=\"m 5.5 12.3 l 0.3 -0.3 h 1 l -0.3 0.3 z\" id=\"path1\" /> <path style=\"fill:#cea800;stroke:#000;stroke-width:0.05;stroke-linejoin:round\" d=\"m 5.5 12.3 m 1 0 l 0.3 -0.3 v 1 l -0.3 0.3 z\" id=\"path2\" /><rect style=\"fill:#ffee46;fill-opacity:1;stroke:#000;stroke-width:0.05\" id=\"rect\" width=\"1\" height=\"1\" x=\"6.5\" y=\"12.3\"/> <path style=\"fill:#f6d028;stroke:#000;stroke-width:0.05;stroke-linejoin:round\" d=\"m 6.5 12.3 l 0.3 -0.3 h 1 l -0.3 0.3 z\" id=\"path1\" /> <path style=\"fill:#cea800;stroke:#000;stroke-width:0.05;stroke-linejoin:round\" d=\"m 6.5 12.3 m 1 0 l 0.3 -0.3 v 1 l -0.3 0.3 z\" id=\"path2\" /><rect style=\"fill:#ffee46;fill-opacity:1;stroke:#000;stroke-width:0.05\" id=\"rect\" width=\"1\" height=\"1\" x=\"7.5\" y=\"12.3\"/> <path style=\"fill:#f6d028;stroke:#000;stroke-width:0.05;stroke-linejoin:round\" d=\"m 7.5 12.3 l 0.3 -0.3 h 1 l -0.3 0.3 z\" id=\"path1\" /> <path style=\"fill:#cea800;stroke:#000;stroke-width:0.05;stroke-linejoin:round\" d=\"m 7.5 12.3 m 1 0 l 0.3 -0.3 v 1 l -0.3 0.3 z\" id=\"path2\" /><rect style=\"fill:#ffee46;fill-opacity:1;stroke:#000;stroke-width:0.05\" id=\"rect\" width=\"1\" height=\"1\" x=\"8.5\" y=\"12.3\"/> <path style=\"fill:#f6d028;stroke:#000;stroke-width:0.05;stroke-linejoin:round\" d=\"m 8.5 12.3 l 0.3 -0.3 h 1 l -0.3 0.3 z\" id=\"path1\" /> <path style=\"fill:#cea800;stroke:#000;stroke-width:0.05;stroke-linejoin:round\" d=\"m 8.5 12.3 m 1 0 l 0.3 -0.3 v 1 l -0.3 0.3 z\" id=\"path2\" /><rect style=\"fill:#ffee46;fill-opacity:1;stroke:#000;stroke-width:0.05\" id=\"rect\" width=\"1\" height=\"1\" x=\"9.5\" y=\"12.3\"/> <path style=\"fill:#f6d028;stroke:#000;stroke-width:0.05;stroke-linejoin:round\" d=\"m 9.5 12.3 l 0.3 -0.3 h 1 l -0.3 0.3 z\" id=\"path1\" /> <path style=\"fill:#cea800;stroke:#000;stroke-width:0.05;stroke-linejoin:round\" d=\"m 9.5 12.3 m 1 0 l 0.3 -0.3 v 1 l -0.3 0.3 z\" id=\"path2\" /><rect style=\"fill:#ffee46;fill-opacity:1;stroke:#000;stroke-width:0.05\" id=\"rect\" width=\"1\" height=\"1\" x=\"10.5\" y=\"12.3\"/> <path style=\"fill:#f6d028;stroke:#000;stroke-width:0.05;stroke-linejoin:round\" d=\"m 10.5 12.3 l 0.3 -0.3 h 1 l -0.3 0.3 z\" id=\"path1\" /> <path style=\"fill:#cea800;stroke:#000;stroke-width:0.05;stroke-linejoin:round\" d=\"m 10.5 12.3 m 1 0 l 0.3 -0.3 v 1 l -0.3 0.3 z\" id=\"path2\" /><rect style=\"fill:#ffee46;fill-opacity:1;stroke:#000;stroke-width:0.05\" id=\"rect\" width=\"1\" height=\"1\" x=\"11.5\" y=\"12.3\"/> <path style=\"fill:#f6d028;stroke:#000;stroke-width:0.05;stroke-linejoin:round\" d=\"m 11.5 12.3 l 0.3 -0.3 h 1 l -0.3 0.3 z\" id=\"path1\" /> <path style=\"fill:#cea800;stroke:#000;stroke-width:0.05;stroke-linejoin:round\" d=\"m 11.5 12.3 m 1 0 l 0.3 -0.3 v 1 l -0.3 0.3 z\" id=\"path2\" /><rect style=\"fill:#ffee46;fill-opacity:1;stroke:#000;stroke-width:0.05\" id=\"rect\" width=\"1\" height=\"1\" x=\"0.5\" y=\"11.3\"/> <path style=\"fill:#f6d028;stroke:#000;stroke-width:0.05;stroke-linejoin:round\" d=\"m 0.5 11.3 l 0.3 -0.3 h 1 l -0.3 0.3 z\" id=\"path1\" /> <path style=\"fill:#cea800;stroke:#000;stroke-width:0.05;stroke-linejoin:round\" d=\"m 0.5 11.3 m 1 0 l 0.3 -0.3 v 1 l -0.3 0.3 z\" id=\"path2\" /><rect style=\"fill:#ffee46;fill-opacity:1;stroke:#000;stroke-width:0.05\" id=\"rect\" width=\"1\" height=\"1\" x=\"1.5\" y=\"11.3\"/> <path style=\"fill:#f6d028;stroke:#000;stroke-width:0.05;stroke-linejoin:round\" d=\"m 1.5 11.3 l 0.3 -0.3 h 1 l -0.3 0.3 z\" id=\"path1\" /> <path style=\"fill:#cea800;stroke:#000;stroke-width:0.05;stroke-linejoin:round\" d=\"m 1.5 11.3 m 1 0 l 0.3 -0.3 v 1 l -0.3 0.3 z\" id=\"path2\" /><rect style=\"fill:#ffee46;fill-opacity:1;stroke:#000;stroke-width:0.05\" id=\"rect\" width=\"1\" height=\"1\" x=\"2.5\" y=\"11.3\"/> <path style=\"fill:#f6d028;stroke:#000;stroke-width:0.05;stroke-linejoin:round\" d=\"m 2.5 11.3 l 0.3 -0.3 h 1 l -0.3 0.3 z\" id=\"path1\" /> <path style=\"fill:#cea800;stroke:#000;stroke-width:0.05;stroke-linejoin:round\" d=\"m 2.5 11.3 m 1 0 l 0.3 -0.3 v 1 l -0.3 0.3 z\" id=\"path2\" /><rect style=\"fill:#ffee46;fill-opacity:1;stroke:#000;stroke-width:0.05\" id=\"rect\" width=\"1\" height=\"1\" x=\"3.5\" y=\"11.3\"/> <path style=\"fill:#f6d028;stroke:#000;stroke-width:0.05;stroke-linejoin:round\" d=\"m 3.5 11.3 l 0.3 -0.3 h 1 l -0.3 0.3 z\" id=\"path1\" /> <path style=\"fill:#cea800;stroke:#000;stroke-width:0.05;stroke-linejoin:round\" d=\"m 3.5 11.3 m 1 0 l 0.3 -0.3 v 1 l -0.3 0.3 z\" id=\"path2\" /><rect style=\"fill:#ffee46;fill-opacity:1;stroke:#000;stroke-width:0.05\" id=\"rect\" width=\"1\" height=\"1\" x=\"4.5\" y=\"11.3\"/> <path style=\"fill:#f6d028;stroke:#000;stroke-width:0.05;stroke-linejoin:round\" d=\"m 4.5 11.3 l 0.3 -0.3 h 1 l -0.3 0.3 z\" id=\"path1\" /> <path style=\"fill:#cea800;stroke:#000;stroke-width:0.05;stroke-linejoin:round\" d=\"m 4.5 11.3 m 1 0 l 0.3 -0.3 v 1 l -0.3 0.3 z\" id=\"path2\" /><rect style=\"fill:#ffee46;fill-opacity:1;stroke:#000;stroke-width:0.05\" id=\"rect\" width=\"1\" height=\"1\" x=\"5.5\" y=\"11.3\"/> <path style=\"fill:#f6d028;stroke:#000;stroke-width:0.05;stroke-linejoin:round\" d=\"m 5.5 11.3 l 0.3 -0.3 h 1 l -0.3 0.3 z\" id=\"path1\" /> <path style=\"fill:#cea800;stroke:#000;stroke-width:0.05;stroke-linejoin:round\" d=\"m 5.5 11.3 m 1 0 l 0.3 -0.3 v 1 l -0.3 0.3 z\" id=\"path2\" /><rect style=\"fill:#ffee46;fill-opacity:1;stroke:#000;stroke-width:0.05\" id=\"rect\" width=\"1\" height=\"1\" x=\"6.5\" y=\"11.3\"/> <path style=\"fill:#f6d028;stroke:#000;stroke-width:0.05;stroke-linejoin:round\" d=\"m 6.5 11.3 l 0.3 -0.3 h 1 l -0.3 0.3 z\" id=\"path1\" /> <path style=\"fill:#cea800;stroke:#000;stroke-width:0.05;stroke-linejoin:round\" d=\"m 6.5 11.3 m 1 0 l 0.3 -0.3 v 1 l -0.3 0.3 z\" id=\"path2\" /><rect style=\"fill:#ffee46;fill-opacity:1;stroke:#000;stroke-width:0.05\" id=\"rect\" width=\"1\" height=\"1\" x=\"7.5\" y=\"11.3\"/> <path style=\"fill:#f6d028;stroke:#000;stroke-width:0.05;stroke-linejoin:round\" d=\"m 7.5 11.3 l 0.3 -0.3 h 1 l -0.3 0.3 z\" id=\"path1\" /> <path style=\"fill:#cea800;stroke:#000;stroke-width:0.05;stroke-linejoin:round\" d=\"m 7.5 11.3 m 1 0 l 0.3 -0.3 v 1 l -0.3 0.3 z\" id=\"path2\" /><rect style=\"fill:#ffee46;fill-opacity:1;stroke:#000;stroke-width:0.05\" id=\"rect\" width=\"1\" height=\"1\" x=\"8.5\" y=\"11.3\"/> <path style=\"fill:#f6d028;stroke:#000;stroke-width:0.05;stroke-linejoin:round\" d=\"m 8.5 11.3 l 0.3 -0.3 h 1 l -0.3 0.3 z\" id=\"path1\" /> <path style=\"fill:#cea800;stroke:#000;stroke-width:0.05;stroke-linejoin:round\" d=\"m 8.5 11.3 m 1 0 l 0.3 -0.3 v 1 l -0.3 0.3 z\" id=\"path2\" /><rect style=\"fill:#ffee46;fill-opacity:1;stroke:#000;stroke-width:0.05\" id=\"rect\" width=\"1\" height=\"1\" x=\"9.5\" y=\"11.3\"/> <path style=\"fill:#f6d028;stroke:#000;stroke-width:0.05;stroke-linejoin:round\" d=\"m 9.5 11.3 l 0.3 -0.3 h 1 l -0.3 0.3 z\" id=\"path1\" /> <path style=\"fill:#cea800;stroke:#000;stroke-width:0.05;stroke-linejoin:round\" d=\"m 9.5 11.3 m 1 0 l 0.3 -0.3 v 1 l -0.3 0.3 z\" id=\"path2\" /><rect style=\"fill:#ffee46;fill-opacity:1;stroke:#000;stroke-width:0.05\" id=\"rect\" width=\"1\" height=\"1\" x=\"10.5\" y=\"11.3\"/> <path style=\"fill:#f6d028;stroke:#000;stroke-width:0.05;stroke-linejoin:round\" d=\"m 10.5 11.3 l 0.3 -0.3 h 1 l -0.3 0.3 z\" id=\"path1\" /> <path style=\"fill:#cea800;stroke:#000;stroke-width:0.05;stroke-linejoin:round\" d=\"m 10.5 11.3 m 1 0 l 0.3 -0.3 v 1 l -0.3 0.3 z\" id=\"path2\" /><rect style=\"fill:#ffee46;fill-opacity:1;stroke:#000;stroke-width:0.05\" id=\"rect\" width=\"1\" height=\"1\" x=\"11.5\" y=\"11.3\"/> <path style=\"fill:#f6d028;stroke:#000;stroke-width:0.05;stroke-linejoin:round\" d=\"m 11.5 11.3 l 0.3 -0.3 h 1 l -0.3 0.3 z\" id=\"path1\" /> <path style=\"fill:#cea800;stroke:#000;stroke-width:0.05;stroke-linejoin:round\" d=\"m 11.5 11.3 m 1 0 l 0.3 -0.3 v 1 l -0.3 0.3 z\" id=\"path2\" /><rect style=\"fill:#ffee46;fill-opacity:1;stroke:#000;stroke-width:0.05\" id=\"rect\" width=\"1\" height=\"1\" x=\"0.5\" y=\"10.3\"/> <path style=\"fill:#f6d028;stroke:#000;stroke-width:0.05;stroke-linejoin:round\" d=\"m 0.5 10.3 l 0.3 -0.3 h 1 l -0.3 0.3 z\" id=\"path1\" /> <path style=\"fill:#cea800;stroke:#000;stroke-width:0.05;stroke-linejoin:round\" d=\"m 0.5 10.3 m 1 0 l 0.3 -0.3 v 1 l -0.3 0.3 z\" id=\"path2\" /><rect style=\"fill:#ffee46;fill-opacity:1;stroke:#000;stroke-width:0.05\" id=\"rect\" width=\"1\" height=\"1\" x=\"1.5\" y=\"10.3\"/> <path style=\"fill:#f6d028;stroke:#000;stroke-width:0.05;stroke-linejoin:round\" d=\"m 1.5 10.3 l 0.3 -0.3 h 1 l -0.3 0.3 z\" id=\"path1\" /> <path style=\"fill:#cea800;stroke:#000;stroke-width:0.05;stroke-linejoin:round\" d=\"m 1.5 10.3 m 1 0 l 0.3 -0.3 v 1 l -0.3 0.3 z\" id=\"path2\" /><rect style=\"fill:#ffee46;fill-opacity:1;stroke:#000;stroke-width:0.05\" id=\"rect\" width=\"1\" height=\"1\" x=\"2.5\" y=\"10.3\"/> <path style=\"fill:#f6d028;stroke:#000;stroke-width:0.05;stroke-linejoin:round\" d=\"m 2.5 10.3 l 0.3 -0.3 h 1 l -0.3 0.3 z\" id=\"path1\" /> <path style=\"fill:#cea800;stroke:#000;stroke-width:0.05;stroke-linejoin:round\" d=\"m 2.5 10.3 m 1 0 l 0.3 -0.3 v 1 l -0.3 0.3 z\" id=\"path2\" /><rect style=\"fill:#ffee46;fill-opacity:1;stroke:#000;stroke-width:0.05\" id=\"rect\" width=\"1\" height=\"1\" x=\"3.5\" y=\"10.3\"/> <path style=\"fill:#f6d028;stroke:#000;stroke-width:0.05;stroke-linejoin:round\" d=\"m 3.5 10.3 l 0.3 -0.3 h 1 l -0.3 0.3 z\" id=\"path1\" /> <path style=\"fill:#cea800;stroke:#000;stroke-width:0.05;stroke-linejoin:round\" d=\"m 3.5 10.3 m 1 0 l 0.3 -0.3 v 1 l -0.3 0.3 z\" id=\"path2\" /><rect style=\"fill:#ffee46;fill-opacity:1;stroke:#000;stroke-width:0.05\" id=\"rect\" width=\"1\" height=\"1\" x=\"4.5\" y=\"10.3\"/> <path style=\"fill:#f6d028;stroke:#000;stroke-width:0.05;stroke-linejoin:round\" d=\"m 4.5 10.3 l 0.3 -0.3 h 1 l -0.3 0.3 z\" id=\"path1\" /> <path style=\"fill:#cea800;stroke:#000;stroke-width:0.05;stroke-linejoin:round\" d=\"m 4.5 10.3 m 1 0 l 0.3 -0.3 v 1 l -0.3 0.3 z\" id=\"path2\" /><rect style=\"fill:#ffee46;fill-opacity:1;stroke:#000;stroke-width:0.05\" id=\"rect\" width=\"1\" height=\"1\" x=\"5.5\" y=\"10.3\"/> <path style=\"fill:#f6d028;stroke:#000;stroke-width:0.05;stroke-linejoin:round\" d=\"m 5.5 10.3 l 0.3 -0.3 h 1 l -0.3 0.3 z\" id=\"path1\" /> <path style=\"fill:#cea800;stroke:#000;stroke-width:0.05;stroke-linejoin:round\" d=\"m 5.5 10.3 m 1 0 l 0.3 -0.3 v 1 l -0.3 0.3 z\" id=\"path2\" /><rect style=\"fill:#ffee46;fill-opacity:1;stroke:#000;stroke-width:0.05\" id=\"rect\" width=\"1\" height=\"1\" x=\"6.5\" y=\"10.3\"/> <path style=\"fill:#f6d028;stroke:#000;stroke-width:0.05;stroke-linejoin:round\" d=\"m 6.5 10.3 l 0.3 -0.3 h 1 l -0.3 0.3 z\" id=\"path1\" /> <path style=\"fill:#cea800;stroke:#000;stroke-width:0.05;stroke-linejoin:round\" d=\"m 6.5 10.3 m 1 0 l 0.3 -0.3 v 1 l -0.3 0.3 z\" id=\"path2\" /><rect style=\"fill:#ffee46;fill-opacity:1;stroke:#000;stroke-width:0.05\" id=\"rect\" width=\"1\" height=\"1\" x=\"7.5\" y=\"10.3\"/> <path style=\"fill:#f6d028;stroke:#000;stroke-width:0.05;stroke-linejoin:round\" d=\"m 7.5 10.3 l 0.3 -0.3 h 1 l -0.3 0.3 z\" id=\"path1\" /> <path style=\"fill:#cea800;stroke:#000;stroke-width:0.05;stroke-linejoin:round\" d=\"m 7.5 10.3 m 1 0 l 0.3 -0.3 v 1 l -0.3 0.3 z\" id=\"path2\" /><rect style=\"fill:#ffee46;fill-opacity:1;stroke:#000;stroke-width:0.05\" id=\"rect\" width=\"1\" height=\"1\" x=\"8.5\" y=\"10.3\"/> <path style=\"fill:#f6d028;stroke:#000;stroke-width:0.05;stroke-linejoin:round\" d=\"m 8.5 10.3 l 0.3 -0.3 h 1 l -0.3 0.3 z\" id=\"path1\" /> <path style=\"fill:#cea800;stroke:#000;stroke-width:0.05;stroke-linejoin:round\" d=\"m 8.5 10.3 m 1 0 l 0.3 -0.3 v 1 l -0.3 0.3 z\" id=\"path2\" /><rect style=\"fill:#ffee46;fill-opacity:1;stroke:#000;stroke-width:0.05\" id=\"rect\" width=\"1\" height=\"1\" x=\"9.5\" y=\"10.3\"/> <path style=\"fill:#f6d028;stroke:#000;stroke-width:0.05;stroke-linejoin:round\" d=\"m 9.5 10.3 l 0.3 -0.3 h 1 l -0.3 0.3 z\" id=\"path1\" /> <path style=\"fill:#cea800;stroke:#000;stroke-width:0.05;stroke-linejoin:round\" d=\"m 9.5 10.3 m 1 0 l 0.3 -0.3 v 1 l -0.3 0.3 z\" id=\"path2\" /><rect style=\"fill:#ffee46;fill-opacity:1;stroke:#000;stroke-width:0.05\" id=\"rect\" width=\"1\" height=\"1\" x=\"10.5\" y=\"10.3\"/> <path style=\"fill:#f6d028;stroke:#000;stroke-width:0.05;stroke-linejoin:round\" d=\"m 10.5 10.3 l 0.3 -0.3 h 1 l -0.3 0.3 z\" id=\"path1\" /> <path style=\"fill:#cea800;stroke:#000;stroke-width:0.05;stroke-linejoin:round\" d=\"m 10.5 10.3 m 1 0 l 0.3 -0.3 v 1 l -0.3 0.3 z\" id=\"path2\" /><rect style=\"fill:#ffee46;fill-opacity:1;stroke:#000;stroke-width:0.05\" id=\"rect\" width=\"1\" height=\"1\" x=\"11.5\" y=\"10.3\"/> <path style=\"fill:#f6d028;stroke:#000;stroke-width:0.05;stroke-linejoin:round\" d=\"m 11.5 10.3 l 0.3 -0.3 h 1 l -0.3 0.3 z\" id=\"path1\" /> <path style=\"fill:#cea800;stroke:#000;stroke-width:0.05;stroke-linejoin:round\" d=\"m 11.5 10.3 m 1 0 l 0.3 -0.3 v 1 l -0.3 0.3 z\" id=\"path2\" /><rect style=\"fill:#ffee46;fill-opacity:1;stroke:#000;stroke-width:0.05\" id=\"rect\" width=\"1\" height=\"1\" x=\"0.5\" y=\"9.3\"/> <path style=\"fill:#f6d028;stroke:#000;stroke-width:0.05;stroke-linejoin:round\" d=\"m 0.5 9.3 l 0.3 -0.3 h 1 l -0.3 0.3 z\" id=\"path1\" /> <path style=\"fill:#cea800;stroke:#000;stroke-width:0.05;stroke-linejoin:round\" d=\"m 0.5 9.3 m 1 0 l 0.3 -0.3 v 1 l -0.3 0.3 z\" id=\"path2\" /><rect style=\"fill:#ffee46;fill-opacity:1;stroke:#000;stroke-width:0.05\" id=\"rect\" width=\"1\" height=\"1\" x=\"1.5\" y=\"9.3\"/> <path style=\"fill:#f6d028;stroke:#000;stroke-width:0.05;stroke-linejoin:round\" d=\"m 1.5 9.3 l 0.3 -0.3 h 1 l -0.3 0.3 z\" id=\"path1\" /> <path style=\"fill:#cea800;stroke:#000;stroke-width:0.05;stroke-linejoin:round\" d=\"m 1.5 9.3 m 1 0 l 0.3 -0.3 v 1 l -0.3 0.3 z\" id=\"path2\" /><rect style=\"fill:#ffee46;fill-opacity:1;stroke:#000;stroke-width:0.05\" id=\"rect\" width=\"1\" height=\"1\" x=\"2.5\" y=\"9.3\"/> <path style=\"fill:#f6d028;stroke:#000;stroke-width:0.05;stroke-linejoin:round\" d=\"m 2.5 9.3 l 0.3 -0.3 h 1 l -0.3 0.3 z\" id=\"path1\" /> <path style=\"fill:#cea800;stroke:#000;stroke-width:0.05;stroke-linejoin:round\" d=\"m 2.5 9.3 m 1 0 l 0.3 -0.3 v 1 l -0.3 0.3 z\" id=\"path2\" /><rect style=\"fill:#ffee46;fill-opacity:1;stroke:#000;stroke-width:0.05\" id=\"rect\" width=\"1\" height=\"1\" x=\"3.5\" y=\"9.3\"/> <path style=\"fill:#f6d028;stroke:#000;stroke-width:0.05;stroke-linejoin:round\" d=\"m 3.5 9.3 l 0.3 -0.3 h 1 l -0.3 0.3 z\" id=\"path1\" /> <path style=\"fill:#cea800;stroke:#000;stroke-width:0.05;stroke-linejoin:round\" d=\"m 3.5 9.3 m 1 0 l 0.3 -0.3 v 1 l -0.3 0.3 z\" id=\"path2\" /><rect style=\"fill:#ffee46;fill-opacity:1;stroke:#000;stroke-width:0.05\" id=\"rect\" width=\"1\" height=\"1\" x=\"4.5\" y=\"9.3\"/> <path style=\"fill:#f6d028;stroke:#000;stroke-width:0.05;stroke-linejoin:round\" d=\"m 4.5 9.3 l 0.3 -0.3 h 1 l -0.3 0.3 z\" id=\"path1\" /> <path style=\"fill:#cea800;stroke:#000;stroke-width:0.05;stroke-linejoin:round\" d=\"m 4.5 9.3 m 1 0 l 0.3 -0.3 v 1 l -0.3 0.3 z\" id=\"path2\" /><rect style=\"fill:#ffee46;fill-opacity:1;stroke:#000;stroke-width:0.05\" id=\"rect\" width=\"1\" height=\"1\" x=\"5.5\" y=\"9.3\"/> <path style=\"fill:#f6d028;stroke:#000;stroke-width:0.05;stroke-linejoin:round\" d=\"m 5.5 9.3 l 0.3 -0.3 h 1 l -0.3 0.3 z\" id=\"path1\" /> <path style=\"fill:#cea800;stroke:#000;stroke-width:0.05;stroke-linejoin:round\" d=\"m 5.5 9.3 m 1 0 l 0.3 -0.3 v 1 l -0.3 0.3 z\" id=\"path2\" /><rect style=\"fill:#ffee46;fill-opacity:1;stroke:#000;stroke-width:0.05\" id=\"rect\" width=\"1\" height=\"1\" x=\"6.5\" y=\"9.3\"/> <path style=\"fill:#f6d028;stroke:#000;stroke-width:0.05;stroke-linejoin:round\" d=\"m 6.5 9.3 l 0.3 -0.3 h 1 l -0.3 0.3 z\" id=\"path1\" /> <path style=\"fill:#cea800;stroke:#000;stroke-width:0.05;stroke-linejoin:round\" d=\"m 6.5 9.3 m 1 0 l 0.3 -0.3 v 1 l -0.3 0.3 z\" id=\"path2\" /><rect style=\"fill:#ffee46;fill-opacity:1;stroke:#000;stroke-width:0.05\" id=\"rect\" width=\"1\" height=\"1\" x=\"7.5\" y=\"9.3\"/> <path style=\"fill:#f6d028;stroke:#000;stroke-width:0.05;stroke-linejoin:round\" d=\"m 7.5 9.3 l 0.3 -0.3 h 1 l -0.3 0.3 z\" id=\"path1\" /> <path style=\"fill:#cea800;stroke:#000;stroke-width:0.05;stroke-linejoin:round\" d=\"m 7.5 9.3 m 1 0 l 0.3 -0.3 v 1 l -0.3 0.3 z\" id=\"path2\" /><rect style=\"fill:#ffee46;fill-opacity:1;stroke:#000;stroke-width:0.05\" id=\"rect\" width=\"1\" height=\"1\" x=\"8.5\" y=\"9.3\"/> <path style=\"fill:#f6d028;stroke:#000;stroke-width:0.05;stroke-linejoin:round\" d=\"m 8.5 9.3 l 0.3 -0.3 h 1 l -0.3 0.3 z\" id=\"path1\" /> <path style=\"fill:#cea800;stroke:#000;stroke-width:0.05;stroke-linejoin:round\" d=\"m 8.5 9.3 m 1 0 l 0.3 -0.3 v 1 l -0.3 0.3 z\" id=\"path2\" /><rect style=\"fill:#ffee46;fill-opacity:1;stroke:#000;stroke-width:0.05\" id=\"rect\" width=\"1\" height=\"1\" x=\"9.5\" y=\"9.3\"/> <path style=\"fill:#f6d028;stroke:#000;stroke-width:0.05;stroke-linejoin:round\" d=\"m 9.5 9.3 l 0.3 -0.3 h 1 l -0.3 0.3 z\" id=\"path1\" /> <path style=\"fill:#cea800;stroke:#000;stroke-width:0.05;stroke-linejoin:round\" d=\"m 9.5 9.3 m 1 0 l 0.3 -0.3 v 1 l -0.3 0.3 z\" id=\"path2\" /><rect style=\"fill:#ffee46;fill-opacity:1;stroke:#000;stroke-width:0.05\" id=\"rect\" width=\"1\" height=\"1\" x=\"10.5\" y=\"9.3\"/> <path style=\"fill:#f6d028;stroke:#000;stroke-width:0.05;stroke-linejoin:round\" d=\"m 10.5 9.3 l 0.3 -0.3 h 1 l -0.3 0.3 z\" id=\"path1\" /> <path style=\"fill:#cea800;stroke:#000;stroke-width:0.05;stroke-linejoin:round\" d=\"m 10.5 9.3 m 1 0 l 0.3 -0.3 v 1 l -0.3 0.3 z\" id=\"path2\" /><rect style=\"fill:#ffee46;fill-opacity:1;stroke:#000;stroke-width:0.05\" id=\"rect\" width=\"1\" height=\"1\" x=\"11.5\" y=\"9.3\"/> <path style=\"fill:#f6d028;stroke:#000;stroke-width:0.05;stroke-linejoin:round\" d=\"m 11.5 9.3 l 0.3 -0.3 h 1 l -0.3 0.3 z\" id=\"path1\" /> <path style=\"fill:#cea800;stroke:#000;stroke-width:0.05;stroke-linejoin:round\" d=\"m 11.5 9.3 m 1 0 l 0.3 -0.3 v 1 l -0.3 0.3 z\" id=\"path2\" /><rect style=\"fill:#ffee46;fill-opacity:1;stroke:#000;stroke-width:0.05\" id=\"rect\" width=\"1\" height=\"1\" x=\"0.5\" y=\"8.3\"/> <path style=\"fill:#f6d028;stroke:#000;stroke-width:0.05;stroke-linejoin:round\" d=\"m 0.5 8.3 l 0.3 -0.3 h 1 l -0.3 0.3 z\" id=\"path1\" /> <path style=\"fill:#cea800;stroke:#000;stroke-width:0.05;stroke-linejoin:round\" d=\"m 0.5 8.3 m 1 0 l 0.3 -0.3 v 1 l -0.3 0.3 z\" id=\"path2\" /><rect style=\"fill:#ffee46;fill-opacity:1;stroke:#000;stroke-width:0.05\" id=\"rect\" width=\"1\" height=\"1\" x=\"1.5\" y=\"8.3\"/> <path style=\"fill:#f6d028;stroke:#000;stroke-width:0.05;stroke-linejoin:round\" d=\"m 1.5 8.3 l 0.3 -0.3 h 1 l -0.3 0.3 z\" id=\"path1\" /> <path style=\"fill:#cea800;stroke:#000;stroke-width:0.05;stroke-linejoin:round\" d=\"m 1.5 8.3 m 1 0 l 0.3 -0.3 v 1 l -0.3 0.3 z\" id=\"path2\" /><rect style=\"fill:#ffee46;fill-opacity:1;stroke:#000;stroke-width:0.05\" id=\"rect\" width=\"1\" height=\"1\" x=\"2.5\" y=\"8.3\"/> <path style=\"fill:#f6d028;stroke:#000;stroke-width:0.05;stroke-linejoin:round\" d=\"m 2.5 8.3 l 0.3 -0.3 h 1 l -0.3 0.3 z\" id=\"path1\" /> <path style=\"fill:#cea800;stroke:#000;stroke-width:0.05;stroke-linejoin:round\" d=\"m 2.5 8.3 m 1 0 l 0.3 -0.3 v 1 l -0.3 0.3 z\" id=\"path2\" /><rect style=\"fill:#ffee46;fill-opacity:1;stroke:#000;stroke-width:0.05\" id=\"rect\" width=\"1\" height=\"1\" x=\"3.5\" y=\"8.3\"/> <path style=\"fill:#f6d028;stroke:#000;stroke-width:0.05;stroke-linejoin:round\" d=\"m 3.5 8.3 l 0.3 -0.3 h 1 l -0.3 0.3 z\" id=\"path1\" /> <path style=\"fill:#cea800;stroke:#000;stroke-width:0.05;stroke-linejoin:round\" d=\"m 3.5 8.3 m 1 0 l 0.3 -0.3 v 1 l -0.3 0.3 z\" id=\"path2\" /><rect style=\"fill:#ffee46;fill-opacity:1;stroke:#000;stroke-width:0.05\" id=\"rect\" width=\"1\" height=\"1\" x=\"4.5\" y=\"8.3\"/> <path style=\"fill:#f6d028;stroke:#000;stroke-width:0.05;stroke-linejoin:round\" d=\"m 4.5 8.3 l 0.3 -0.3 h 1 l -0.3 0.3 z\" id=\"path1\" /> <path style=\"fill:#cea800;stroke:#000;stroke-width:0.05;stroke-linejoin:round\" d=\"m 4.5 8.3 m 1 0 l 0.3 -0.3 v 1 l -0.3 0.3 z\" id=\"path2\" /><rect style=\"fill:#ffee46;fill-opacity:1;stroke:#000;stroke-width:0.05\" id=\"rect\" width=\"1\" height=\"1\" x=\"5.5\" y=\"8.3\"/> <path style=\"fill:#f6d028;stroke:#000;stroke-width:0.05;stroke-linejoin:round\" d=\"m 5.5 8.3 l 0.3 -0.3 h 1 l -0.3 0.3 z\" id=\"path1\" /> <path style=\"fill:#cea800;stroke:#000;stroke-width:0.05;stroke-linejoin:round\" d=\"m 5.5 8.3 m 1 0 l 0.3 -0.3 v 1 l -0.3 0.3 z\" id=\"path2\" /><rect style=\"fill:#ffee46;fill-opacity:1;stroke:#000;stroke-width:0.05\" id=\"rect\" width=\"1\" height=\"1\" x=\"6.5\" y=\"8.3\"/> <path style=\"fill:#f6d028;stroke:#000;stroke-width:0.05;stroke-linejoin:round\" d=\"m 6.5 8.3 l 0.3 -0.3 h 1 l -0.3 0.3 z\" id=\"path1\" /> <path style=\"fill:#cea800;stroke:#000;stroke-width:0.05;stroke-linejoin:round\" d=\"m 6.5 8.3 m 1 0 l 0.3 -0.3 v 1 l -0.3 0.3 z\" id=\"path2\" /><rect style=\"fill:#ffee46;fill-opacity:1;stroke:#000;stroke-width:0.05\" id=\"rect\" width=\"1\" height=\"1\" x=\"7.5\" y=\"8.3\"/> <path style=\"fill:#f6d028;stroke:#000;stroke-width:0.05;stroke-linejoin:round\" d=\"m 7.5 8.3 l 0.3 -0.3 h 1 l -0.3 0.3 z\" id=\"path1\" /> <path style=\"fill:#cea800;stroke:#000;stroke-width:0.05;stroke-linejoin:round\" d=\"m 7.5 8.3 m 1 0 l 0.3 -0.3 v 1 l -0.3 0.3 z\" id=\"path2\" /><rect style=\"fill:#ffee46;fill-opacity:1;stroke:#000;stroke-width:0.05\" id=\"rect\" width=\"1\" height=\"1\" x=\"8.5\" y=\"8.3\"/> <path style=\"fill:#f6d028;stroke:#000;stroke-width:0.05;stroke-linejoin:round\" d=\"m 8.5 8.3 l 0.3 -0.3 h 1 l -0.3 0.3 z\" id=\"path1\" /> <path style=\"fill:#cea800;stroke:#000;stroke-width:0.05;stroke-linejoin:round\" d=\"m 8.5 8.3 m 1 0 l 0.3 -0.3 v 1 l -0.3 0.3 z\" id=\"path2\" /><rect style=\"fill:#ffee46;fill-opacity:1;stroke:#000;stroke-width:0.05\" id=\"rect\" width=\"1\" height=\"1\" x=\"9.5\" y=\"8.3\"/> <path style=\"fill:#f6d028;stroke:#000;stroke-width:0.05;stroke-linejoin:round\" d=\"m 9.5 8.3 l 0.3 -0.3 h 1 l -0.3 0.3 z\" id=\"path1\" /> <path style=\"fill:#cea800;stroke:#000;stroke-width:0.05;stroke-linejoin:round\" d=\"m 9.5 8.3 m 1 0 l 0.3 -0.3 v 1 l -0.3 0.3 z\" id=\"path2\" /><rect style=\"fill:#ffee46;fill-opacity:1;stroke:#000;stroke-width:0.05\" id=\"rect\" width=\"1\" height=\"1\" x=\"10.5\" y=\"8.3\"/> <path style=\"fill:#f6d028;stroke:#000;stroke-width:0.05;stroke-linejoin:round\" d=\"m 10.5 8.3 l 0.3 -0.3 h 1 l -0.3 0.3 z\" id=\"path1\" /> <path style=\"fill:#cea800;stroke:#000;stroke-width:0.05;stroke-linejoin:round\" d=\"m 10.5 8.3 m 1 0 l 0.3 -0.3 v 1 l -0.3 0.3 z\" id=\"path2\" /><rect style=\"fill:#ffee46;fill-opacity:1;stroke:#000;stroke-width:0.05\" id=\"rect\" width=\"1\" height=\"1\" x=\"11.5\" y=\"8.3\"/> <path style=\"fill:#f6d028;stroke:#000;stroke-width:0.05;stroke-linejoin:round\" d=\"m 11.5 8.3 l 0.3 -0.3 h 1 l -0.3 0.3 z\" id=\"path1\" /> <path style=\"fill:#cea800;stroke:#000;stroke-width:0.05;stroke-linejoin:round\" d=\"m 11.5 8.3 m 1 0 l 0.3 -0.3 v 1 l -0.3 0.3 z\" id=\"path2\" /><rect style=\"fill:#ffee46;fill-opacity:1;stroke:#000;stroke-width:0.05\" id=\"rect\" width=\"1\" height=\"1\" x=\"0.5\" y=\"7.3\"/> <path style=\"fill:#f6d028;stroke:#000;stroke-width:0.05;stroke-linejoin:round\" d=\"m 0.5 7.3 l 0.3 -0.3 h 1 l -0.3 0.3 z\" id=\"path1\" /> <path style=\"fill:#cea800;stroke:#000;stroke-width:0.05;stroke-linejoin:round\" d=\"m 0.5 7.3 m 1 0 l 0.3 -0.3 v 1 l -0.3 0.3 z\" id=\"path2\" /><rect style=\"fill:#ffee46;fill-opacity:1;stroke:#000;stroke-width:0.05\" id=\"rect\" width=\"1\" height=\"1\" x=\"1.5\" y=\"7.3\"/> <path style=\"fill:#f6d028;stroke:#000;stroke-width:0.05;stroke-linejoin:round\" d=\"m 1.5 7.3 l 0.3 -0.3 h 1 l -0.3 0.3 z\" id=\"path1\" /> <path style=\"fill:#cea800;stroke:#000;stroke-width:0.05;stroke-linejoin:round\" d=\"m 1.5 7.3 m 1 0 l 0.3 -0.3 v 1 l -0.3 0.3 z\" id=\"path2\" /><rect style=\"fill:#ffee46;fill-opacity:1;stroke:#000;stroke-width:0.05\" id=\"rect\" width=\"1\" height=\"1\" x=\"2.5\" y=\"7.3\"/> <path style=\"fill:#f6d028;stroke:#000;stroke-width:0.05;stroke-linejoin:round\" d=\"m 2.5 7.3 l 0.3 -0.3 h 1 l -0.3 0.3 z\" id=\"path1\" /> <path style=\"fill:#cea800;stroke:#000;stroke-width:0.05;stroke-linejoin:round\" d=\"m 2.5 7.3 m 1 0 l 0.3 -0.3 v 1 l -0.3 0.3 z\" id=\"path2\" /><rect style=\"fill:#ffee46;fill-opacity:1;stroke:#000;stroke-width:0.05\" id=\"rect\" width=\"1\" height=\"1\" x=\"3.5\" y=\"7.3\"/> <path style=\"fill:#f6d028;stroke:#000;stroke-width:0.05;stroke-linejoin:round\" d=\"m 3.5 7.3 l 0.3 -0.3 h 1 l -0.3 0.3 z\" id=\"path1\" /> <path style=\"fill:#cea800;stroke:#000;stroke-width:0.05;stroke-linejoin:round\" d=\"m 3.5 7.3 m 1 0 l 0.3 -0.3 v 1 l -0.3 0.3 z\" id=\"path2\" /><rect style=\"fill:#ffee46;fill-opacity:1;stroke:#000;stroke-width:0.05\" id=\"rect\" width=\"1\" height=\"1\" x=\"4.5\" y=\"7.3\"/> <path style=\"fill:#f6d028;stroke:#000;stroke-width:0.05;stroke-linejoin:round\" d=\"m 4.5 7.3 l 0.3 -0.3 h 1 l -0.3 0.3 z\" id=\"path1\" /> <path style=\"fill:#cea800;stroke:#000;stroke-width:0.05;stroke-linejoin:round\" d=\"m 4.5 7.3 m 1 0 l 0.3 -0.3 v 1 l -0.3 0.3 z\" id=\"path2\" /><rect style=\"fill:#ffee46;fill-opacity:1;stroke:#000;stroke-width:0.05\" id=\"rect\" width=\"1\" height=\"1\" x=\"5.5\" y=\"7.3\"/> <path style=\"fill:#f6d028;stroke:#000;stroke-width:0.05;stroke-linejoin:round\" d=\"m 5.5 7.3 l 0.3 -0.3 h 1 l -0.3 0.3 z\" id=\"path1\" /> <path style=\"fill:#cea800;stroke:#000;stroke-width:0.05;stroke-linejoin:round\" d=\"m 5.5 7.3 m 1 0 l 0.3 -0.3 v 1 l -0.3 0.3 z\" id=\"path2\" /><rect style=\"fill:#ffee46;fill-opacity:1;stroke:#000;stroke-width:0.05\" id=\"rect\" width=\"1\" height=\"1\" x=\"6.5\" y=\"7.3\"/> <path style=\"fill:#f6d028;stroke:#000;stroke-width:0.05;stroke-linejoin:round\" d=\"m 6.5 7.3 l 0.3 -0.3 h 1 l -0.3 0.3 z\" id=\"path1\" /> <path style=\"fill:#cea800;stroke:#000;stroke-width:0.05;stroke-linejoin:round\" d=\"m 6.5 7.3 m 1 0 l 0.3 -0.3 v 1 l -0.3 0.3 z\" id=\"path2\" /><rect style=\"fill:#ffee46;fill-opacity:1;stroke:#000;stroke-width:0.05\" id=\"rect\" width=\"1\" height=\"1\" x=\"7.5\" y=\"7.3\"/> <path style=\"fill:#f6d028;stroke:#000;stroke-width:0.05;stroke-linejoin:round\" d=\"m 7.5 7.3 l 0.3 -0.3 h 1 l -0.3 0.3 z\" id=\"path1\" /> <path style=\"fill:#cea800;stroke:#000;stroke-width:0.05;stroke-linejoin:round\" d=\"m 7.5 7.3 m 1 0 l 0.3 -0.3 v 1 l -0.3 0.3 z\" id=\"path2\" /><rect style=\"fill:#ffee46;fill-opacity:1;stroke:#000;stroke-width:0.05\" id=\"rect\" width=\"1\" height=\"1\" x=\"8.5\" y=\"7.3\"/> <path style=\"fill:#f6d028;stroke:#000;stroke-width:0.05;stroke-linejoin:round\" d=\"m 8.5 7.3 l 0.3 -0.3 h 1 l -0.3 0.3 z\" id=\"path1\" /> <path style=\"fill:#cea800;stroke:#000;stroke-width:0.05;stroke-linejoin:round\" d=\"m 8.5 7.3 m 1 0 l 0.3 -0.3 v 1 l -0.3 0.3 z\" id=\"path2\" /><rect style=\"fill:#ffee46;fill-opacity:1;stroke:#000;stroke-width:0.05\" id=\"rect\" width=\"1\" height=\"1\" x=\"9.5\" y=\"7.3\"/> <path style=\"fill:#f6d028;stroke:#000;stroke-width:0.05;stroke-linejoin:round\" d=\"m 9.5 7.3 l 0.3 -0.3 h 1 l -0.3 0.3 z\" id=\"path1\" /> <path style=\"fill:#cea800;stroke:#000;stroke-width:0.05;stroke-linejoin:round\" d=\"m 9.5 7.3 m 1 0 l 0.3 -0.3 v 1 l -0.3 0.3 z\" id=\"path2\" /><rect style=\"fill:#ffee46;fill-opacity:1;stroke:#000;stroke-width:0.05\" id=\"rect\" width=\"1\" height=\"1\" x=\"10.5\" y=\"7.3\"/> <path style=\"fill:#f6d028;stroke:#000;stroke-width:0.05;stroke-linejoin:round\" d=\"m 10.5 7.3 l 0.3 -0.3 h 1 l -0.3 0.3 z\" id=\"path1\" /> <path style=\"fill:#cea800;stroke:#000;stroke-width:0.05;stroke-linejoin:round\" d=\"m 10.5 7.3 m 1 0 l 0.3 -0.3 v 1 l -0.3 0.3 z\" id=\"path2\" /><rect style=\"fill:#ffee46;fill-opacity:1;stroke:#000;stroke-width:0.05\" id=\"rect\" width=\"1\" height=\"1\" x=\"11.5\" y=\"7.3\"/> <path style=\"fill:#f6d028;stroke:#000;stroke-width:0.05;stroke-linejoin:round\" d=\"m 11.5 7.3 l 0.3 -0.3 h 1 l -0.3 0.3 z\" id=\"path1\" /> <path style=\"fill:#cea800;stroke:#000;stroke-width:0.05;stroke-linejoin:round\" d=\"m 11.5 7.3 m 1 0 l 0.3 -0.3 v 1 l -0.3 0.3 z\" id=\"path2\" /><rect style=\"fill:#ffee46;fill-opacity:1;stroke:#000;stroke-width:0.05\" id=\"rect\" width=\"1\" height=\"1\" x=\"0.5\" y=\"6.3\"/> <path style=\"fill:#f6d028;stroke:#000;stroke-width:0.05;stroke-linejoin:round\" d=\"m 0.5 6.3 l 0.3 -0.3 h 1 l -0.3 0.3 z\" id=\"path1\" /> <path style=\"fill:#cea800;stroke:#000;stroke-width:0.05;stroke-linejoin:round\" d=\"m 0.5 6.3 m 1 0 l 0.3 -0.3 v 1 l -0.3 0.3 z\" id=\"path2\" /><rect style=\"fill:#ffee46;fill-opacity:1;stroke:#000;stroke-width:0.05\" id=\"rect\" width=\"1\" height=\"1\" x=\"1.5\" y=\"6.3\"/> <path style=\"fill:#f6d028;stroke:#000;stroke-width:0.05;stroke-linejoin:round\" d=\"m 1.5 6.3 l 0.3 -0.3 h 1 l -0.3 0.3 z\" id=\"path1\" /> <path style=\"fill:#cea800;stroke:#000;stroke-width:0.05;stroke-linejoin:round\" d=\"m 1.5 6.3 m 1 0 l 0.3 -0.3 v 1 l -0.3 0.3 z\" id=\"path2\" /><rect style=\"fill:#ffee46;fill-opacity:1;stroke:#000;stroke-width:0.05\" id=\"rect\" width=\"1\" height=\"1\" x=\"2.5\" y=\"6.3\"/> <path style=\"fill:#f6d028;stroke:#000;stroke-width:0.05;stroke-linejoin:round\" d=\"m 2.5 6.3 l 0.3 -0.3 h 1 l -0.3 0.3 z\" id=\"path1\" /> <path style=\"fill:#cea800;stroke:#000;stroke-width:0.05;stroke-linejoin:round\" d=\"m 2.5 6.3 m 1 0 l 0.3 -0.3 v 1 l -0.3 0.3 z\" id=\"path2\" /><rect style=\"fill:#ffee46;fill-opacity:1;stroke:#000;stroke-width:0.05\" id=\"rect\" width=\"1\" height=\"1\" x=\"3.5\" y=\"6.3\"/> <path style=\"fill:#f6d028;stroke:#000;stroke-width:0.05;stroke-linejoin:round\" d=\"m 3.5 6.3 l 0.3 -0.3 h 1 l -0.3 0.3 z\" id=\"path1\" /> <path style=\"fill:#cea800;stroke:#000;stroke-width:0.05;stroke-linejoin:round\" d=\"m 3.5 6.3 m 1 0 l 0.3 -0.3 v 1 l -0.3 0.3 z\" id=\"path2\" /><rect style=\"fill:#ffee46;fill-opacity:1;stroke:#000;stroke-width:0.05\" id=\"rect\" width=\"1\" height=\"1\" x=\"4.5\" y=\"6.3\"/> <path style=\"fill:#f6d028;stroke:#000;stroke-width:0.05;stroke-linejoin:round\" d=\"m 4.5 6.3 l 0.3 -0.3 h 1 l -0.3 0.3 z\" id=\"path1\" /> <path style=\"fill:#cea800;stroke:#000;stroke-width:0.05;stroke-linejoin:round\" d=\"m 4.5 6.3 m 1 0 l 0.3 -0.3 v 1 l -0.3 0.3 z\" id=\"path2\" /><rect style=\"fill:#ffee46;fill-opacity:1;stroke:#000;stroke-width:0.05\" id=\"rect\" width=\"1\" height=\"1\" x=\"5.5\" y=\"6.3\"/> <path style=\"fill:#f6d028;stroke:#000;stroke-width:0.05;stroke-linejoin:round\" d=\"m 5.5 6.3 l 0.3 -0.3 h 1 l -0.3 0.3 z\" id=\"path1\" /> <path style=\"fill:#cea800;stroke:#000;stroke-width:0.05;stroke-linejoin:round\" d=\"m 5.5 6.3 m 1 0 l 0.3 -0.3 v 1 l -0.3 0.3 z\" id=\"path2\" /><rect style=\"fill:#ffee46;fill-opacity:1;stroke:#000;stroke-width:0.05\" id=\"rect\" width=\"1\" height=\"1\" x=\"6.5\" y=\"6.3\"/> <path style=\"fill:#f6d028;stroke:#000;stroke-width:0.05;stroke-linejoin:round\" d=\"m 6.5 6.3 l 0.3 -0.3 h 1 l -0.3 0.3 z\" id=\"path1\" /> <path style=\"fill:#cea800;stroke:#000;stroke-width:0.05;stroke-linejoin:round\" d=\"m 6.5 6.3 m 1 0 l 0.3 -0.3 v 1 l -0.3 0.3 z\" id=\"path2\" /><rect style=\"fill:#ffee46;fill-opacity:1;stroke:#000;stroke-width:0.05\" id=\"rect\" width=\"1\" height=\"1\" x=\"7.5\" y=\"6.3\"/> <path style=\"fill:#f6d028;stroke:#000;stroke-width:0.05;stroke-linejoin:round\" d=\"m 7.5 6.3 l 0.3 -0.3 h 1 l -0.3 0.3 z\" id=\"path1\" /> <path style=\"fill:#cea800;stroke:#000;stroke-width:0.05;stroke-linejoin:round\" d=\"m 7.5 6.3 m 1 0 l 0.3 -0.3 v 1 l -0.3 0.3 z\" id=\"path2\" /><rect style=\"fill:#ffee46;fill-opacity:1;stroke:#000;stroke-width:0.05\" id=\"rect\" width=\"1\" height=\"1\" x=\"8.5\" y=\"6.3\"/> <path style=\"fill:#f6d028;stroke:#000;stroke-width:0.05;stroke-linejoin:round\" d=\"m 8.5 6.3 l 0.3 -0.3 h 1 l -0.3 0.3 z\" id=\"path1\" /> <path style=\"fill:#cea800;stroke:#000;stroke-width:0.05;stroke-linejoin:round\" d=\"m 8.5 6.3 m 1 0 l 0.3 -0.3 v 1 l -0.3 0.3 z\" id=\"path2\" /><rect style=\"fill:#ffee46;fill-opacity:1;stroke:#000;stroke-width:0.05\" id=\"rect\" width=\"1\" height=\"1\" x=\"9.5\" y=\"6.3\"/> <path style=\"fill:#f6d028;stroke:#000;stroke-width:0.05;stroke-linejoin:round\" d=\"m 9.5 6.3 l 0.3 -0.3 h 1 l -0.3 0.3 z\" id=\"path1\" /> <path style=\"fill:#cea800;stroke:#000;stroke-width:0.05;stroke-linejoin:round\" d=\"m 9.5 6.3 m 1 0 l 0.3 -0.3 v 1 l -0.3 0.3 z\" id=\"path2\" /><rect style=\"fill:#ffee46;fill-opacity:1;stroke:#000;stroke-width:0.05\" id=\"rect\" width=\"1\" height=\"1\" x=\"10.5\" y=\"6.3\"/> <path style=\"fill:#f6d028;stroke:#000;stroke-width:0.05;stroke-linejoin:round\" d=\"m 10.5 6.3 l 0.3 -0.3 h 1 l -0.3 0.3 z\" id=\"path1\" /> <path style=\"fill:#cea800;stroke:#000;stroke-width:0.05;stroke-linejoin:round\" d=\"m 10.5 6.3 m 1 0 l 0.3 -0.3 v 1 l -0.3 0.3 z\" id=\"path2\" /><rect style=\"fill:#ffee46;fill-opacity:1;stroke:#000;stroke-width:0.05\" id=\"rect\" width=\"1\" height=\"1\" x=\"11.5\" y=\"6.3\"/> <path style=\"fill:#f6d028;stroke:#000;stroke-width:0.05;stroke-linejoin:round\" d=\"m 11.5 6.3 l 0.3 -0.3 h 1 l -0.3 0.3 z\" id=\"path1\" /> <path style=\"fill:#cea800;stroke:#000;stroke-width:0.05;stroke-linejoin:round\" d=\"m 11.5 6.3 m 1 0 l 0.3 -0.3 v 1 l -0.3 0.3 z\" id=\"path2\" /><rect style=\"fill:#ffee46;fill-opacity:1;stroke:#000;stroke-width:0.05\" id=\"rect\" width=\"1\" height=\"1\" x=\"0.5\" y=\"5.3\"/> <path style=\"fill:#f6d028;stroke:#000;stroke-width:0.05;stroke-linejoin:round\" d=\"m 0.5 5.3 l 0.3 -0.3 h 1 l -0.3 0.3 z\" id=\"path1\" /> <path style=\"fill:#cea800;stroke:#000;stroke-width:0.05;stroke-linejoin:round\" d=\"m 0.5 5.3 m 1 0 l 0.3 -0.3 v 1 l -0.3 0.3 z\" id=\"path2\" /><rect style=\"fill:#ffee46;fill-opacity:1;stroke:#000;stroke-width:0.05\" id=\"rect\" width=\"1\" height=\"1\" x=\"1.5\" y=\"5.3\"/> <path style=\"fill:#f6d028;stroke:#000;stroke-width:0.05;stroke-linejoin:round\" d=\"m 1.5 5.3 l 0.3 -0.3 h 1 l -0.3 0.3 z\" id=\"path1\" /> <path style=\"fill:#cea800;stroke:#000;stroke-width:0.05;stroke-linejoin:round\" d=\"m 1.5 5.3 m 1 0 l 0.3 -0.3 v 1 l -0.3 0.3 z\" id=\"path2\" /><rect style=\"fill:#ffee46;fill-opacity:1;stroke:#000;stroke-width:0.05\" id=\"rect\" width=\"1\" height=\"1\" x=\"2.5\" y=\"5.3\"/> <path style=\"fill:#f6d028;stroke:#000;stroke-width:0.05;stroke-linejoin:round\" d=\"m 2.5 5.3 l 0.3 -0.3 h 1 l -0.3 0.3 z\" id=\"path1\" /> <path style=\"fill:#cea800;stroke:#000;stroke-width:0.05;stroke-linejoin:round\" d=\"m 2.5 5.3 m 1 0 l 0.3 -0.3 v 1 l -0.3 0.3 z\" id=\"path2\" /><rect style=\"fill:#ffee46;fill-opacity:1;stroke:#000;stroke-width:0.05\" id=\"rect\" width=\"1\" height=\"1\" x=\"3.5\" y=\"5.3\"/> <path style=\"fill:#f6d028;stroke:#000;stroke-width:0.05;stroke-linejoin:round\" d=\"m 3.5 5.3 l 0.3 -0.3 h 1 l -0.3 0.3 z\" id=\"path1\" /> <path style=\"fill:#cea800;stroke:#000;stroke-width:0.05;stroke-linejoin:round\" d=\"m 3.5 5.3 m 1 0 l 0.3 -0.3 v 1 l -0.3 0.3 z\" id=\"path2\" /><rect style=\"fill:#ffee46;fill-opacity:1;stroke:#000;stroke-width:0.05\" id=\"rect\" width=\"1\" height=\"1\" x=\"4.5\" y=\"5.3\"/> <path style=\"fill:#f6d028;stroke:#000;stroke-width:0.05;stroke-linejoin:round\" d=\"m 4.5 5.3 l 0.3 -0.3 h 1 l -0.3 0.3 z\" id=\"path1\" /> <path style=\"fill:#cea800;stroke:#000;stroke-width:0.05;stroke-linejoin:round\" d=\"m 4.5 5.3 m 1 0 l 0.3 -0.3 v 1 l -0.3 0.3 z\" id=\"path2\" /><rect style=\"fill:#ffee46;fill-opacity:1;stroke:#000;stroke-width:0.05\" id=\"rect\" width=\"1\" height=\"1\" x=\"5.5\" y=\"5.3\"/> <path style=\"fill:#f6d028;stroke:#000;stroke-width:0.05;stroke-linejoin:round\" d=\"m 5.5 5.3 l 0.3 -0.3 h 1 l -0.3 0.3 z\" id=\"path1\" /> <path style=\"fill:#cea800;stroke:#000;stroke-width:0.05;stroke-linejoin:round\" d=\"m 5.5 5.3 m 1 0 l 0.3 -0.3 v 1 l -0.3 0.3 z\" id=\"path2\" /><rect style=\"fill:#ffee46;fill-opacity:1;stroke:#000;stroke-width:0.05\" id=\"rect\" width=\"1\" height=\"1\" x=\"6.5\" y=\"5.3\"/> <path style=\"fill:#f6d028;stroke:#000;stroke-width:0.05;stroke-linejoin:round\" d=\"m 6.5 5.3 l 0.3 -0.3 h 1 l -0.3 0.3 z\" id=\"path1\" /> <path style=\"fill:#cea800;stroke:#000;stroke-width:0.05;stroke-linejoin:round\" d=\"m 6.5 5.3 m 1 0 l 0.3 -0.3 v 1 l -0.3 0.3 z\" id=\"path2\" /><rect style=\"fill:#ffee46;fill-opacity:1;stroke:#000;stroke-width:0.05\" id=\"rect\" width=\"1\" height=\"1\" x=\"7.5\" y=\"5.3\"/> <path style=\"fill:#f6d028;stroke:#000;stroke-width:0.05;stroke-linejoin:round\" d=\"m 7.5 5.3 l 0.3 -0.3 h 1 l -0.3 0.3 z\" id=\"path1\" /> <path style=\"fill:#cea800;stroke:#000;stroke-width:0.05;stroke-linejoin:round\" d=\"m 7.5 5.3 m 1 0 l 0.3 -0.3 v 1 l -0.3 0.3 z\" id=\"path2\" /><rect style=\"fill:#ffee46;fill-opacity:1;stroke:#000;stroke-width:0.05\" id=\"rect\" width=\"1\" height=\"1\" x=\"8.5\" y=\"5.3\"/> <path style=\"fill:#f6d028;stroke:#000;stroke-width:0.05;stroke-linejoin:round\" d=\"m 8.5 5.3 l 0.3 -0.3 h 1 l -0.3 0.3 z\" id=\"path1\" /> <path style=\"fill:#cea800;stroke:#000;stroke-width:0.05;stroke-linejoin:round\" d=\"m 8.5 5.3 m 1 0 l 0.3 -0.3 v 1 l -0.3 0.3 z\" id=\"path2\" /><rect style=\"fill:#ffee46;fill-opacity:1;stroke:#000;stroke-width:0.05\" id=\"rect\" width=\"1\" height=\"1\" x=\"9.5\" y=\"5.3\"/> <path style=\"fill:#f6d028;stroke:#000;stroke-width:0.05;stroke-linejoin:round\" d=\"m 9.5 5.3 l 0.3 -0.3 h 1 l -0.3 0.3 z\" id=\"path1\" /> <path style=\"fill:#cea800;stroke:#000;stroke-width:0.05;stroke-linejoin:round\" d=\"m 9.5 5.3 m 1 0 l 0.3 -0.3 v 1 l -0.3 0.3 z\" id=\"path2\" /><rect style=\"fill:#ffee46;fill-opacity:1;stroke:#000;stroke-width:0.05\" id=\"rect\" width=\"1\" height=\"1\" x=\"10.5\" y=\"5.3\"/> <path style=\"fill:#f6d028;stroke:#000;stroke-width:0.05;stroke-linejoin:round\" d=\"m 10.5 5.3 l 0.3 -0.3 h 1 l -0.3 0.3 z\" id=\"path1\" /> <path style=\"fill:#cea800;stroke:#000;stroke-width:0.05;stroke-linejoin:round\" d=\"m 10.5 5.3 m 1 0 l 0.3 -0.3 v 1 l -0.3 0.3 z\" id=\"path2\" /><rect style=\"fill:#ffee46;fill-opacity:1;stroke:#000;stroke-width:0.05\" id=\"rect\" width=\"1\" height=\"1\" x=\"11.5\" y=\"5.3\"/> <path style=\"fill:#f6d028;stroke:#000;stroke-width:0.05;stroke-linejoin:round\" d=\"m 11.5 5.3 l 0.3 -0.3 h 1 l -0.3 0.3 z\" id=\"path1\" /> <path style=\"fill:#cea800;stroke:#000;stroke-width:0.05;stroke-linejoin:round\" d=\"m 11.5 5.3 m 1 0 l 0.3 -0.3 v 1 l -0.3 0.3 z\" id=\"path2\" /><rect style=\"fill:#ffee46;fill-opacity:1;stroke:#000;stroke-width:0.05\" id=\"rect\" width=\"1\" height=\"1\" x=\"0.5\" y=\"4.3\"/> <path style=\"fill:#f6d028;stroke:#000;stroke-width:0.05;stroke-linejoin:round\" d=\"m 0.5 4.3 l 0.3 -0.3 h 1 l -0.3 0.3 z\" id=\"path1\" /> <path style=\"fill:#cea800;stroke:#000;stroke-width:0.05;stroke-linejoin:round\" d=\"m 0.5 4.3 m 1 0 l 0.3 -0.3 v 1 l -0.3 0.3 z\" id=\"path2\" /><rect style=\"fill:#ffee46;fill-opacity:1;stroke:#000;stroke-width:0.05\" id=\"rect\" width=\"1\" height=\"1\" x=\"1.5\" y=\"4.3\"/> <path style=\"fill:#f6d028;stroke:#000;stroke-width:0.05;stroke-linejoin:round\" d=\"m 1.5 4.3 l 0.3 -0.3 h 1 l -0.3 0.3 z\" id=\"path1\" /> <path style=\"fill:#cea800;stroke:#000;stroke-width:0.05;stroke-linejoin:round\" d=\"m 1.5 4.3 m 1 0 l 0.3 -0.3 v 1 l -0.3 0.3 z\" id=\"path2\" /><rect style=\"fill:#ffee46;fill-opacity:1;stroke:#000;stroke-width:0.05\" id=\"rect\" width=\"1\" height=\"1\" x=\"2.5\" y=\"4.3\"/> <path style=\"fill:#f6d028;stroke:#000;stroke-width:0.05;stroke-linejoin:round\" d=\"m 2.5 4.3 l 0.3 -0.3 h 1 l -0.3 0.3 z\" id=\"path1\" /> <path style=\"fill:#cea800;stroke:#000;stroke-width:0.05;stroke-linejoin:round\" d=\"m 2.5 4.3 m 1 0 l 0.3 -0.3 v 1 l -0.3 0.3 z\" id=\"path2\" /><rect style=\"fill:#ffee46;fill-opacity:1;stroke:#000;stroke-width:0.05\" id=\"rect\" width=\"1\" height=\"1\" x=\"3.5\" y=\"4.3\"/> <path style=\"fill:#f6d028;stroke:#000;stroke-width:0.05;stroke-linejoin:round\" d=\"m 3.5 4.3 l 0.3 -0.3 h 1 l -0.3 0.3 z\" id=\"path1\" /> <path style=\"fill:#cea800;stroke:#000;stroke-width:0.05;stroke-linejoin:round\" d=\"m 3.5 4.3 m 1 0 l 0.3 -0.3 v 1 l -0.3 0.3 z\" id=\"path2\" /><rect style=\"fill:#ffee46;fill-opacity:1;stroke:#000;stroke-width:0.05\" id=\"rect\" width=\"1\" height=\"1\" x=\"4.5\" y=\"4.3\"/> <path style=\"fill:#f6d028;stroke:#000;stroke-width:0.05;stroke-linejoin:round\" d=\"m 4.5 4.3 l 0.3 -0.3 h 1 l -0.3 0.3 z\" id=\"path1\" /> <path style=\"fill:#cea800;stroke:#000;stroke-width:0.05;stroke-linejoin:round\" d=\"m 4.5 4.3 m 1 0 l 0.3 -0.3 v 1 l -0.3 0.3 z\" id=\"path2\" /><rect style=\"fill:#ffee46;fill-opacity:1;stroke:#000;stroke-width:0.05\" id=\"rect\" width=\"1\" height=\"1\" x=\"5.5\" y=\"4.3\"/> <path style=\"fill:#f6d028;stroke:#000;stroke-width:0.05;stroke-linejoin:round\" d=\"m 5.5 4.3 l 0.3 -0.3 h 1 l -0.3 0.3 z\" id=\"path1\" /> <path style=\"fill:#cea800;stroke:#000;stroke-width:0.05;stroke-linejoin:round\" d=\"m 5.5 4.3 m 1 0 l 0.3 -0.3 v 1 l -0.3 0.3 z\" id=\"path2\" /><rect style=\"fill:#ffee46;fill-opacity:1;stroke:#000;stroke-width:0.05\" id=\"rect\" width=\"1\" height=\"1\" x=\"6.5\" y=\"4.3\"/> <path style=\"fill:#f6d028;stroke:#000;stroke-width:0.05;stroke-linejoin:round\" d=\"m 6.5 4.3 l 0.3 -0.3 h 1 l -0.3 0.3 z\" id=\"path1\" /> <path style=\"fill:#cea800;stroke:#000;stroke-width:0.05;stroke-linejoin:round\" d=\"m 6.5 4.3 m 1 0 l 0.3 -0.3 v 1 l -0.3 0.3 z\" id=\"path2\" /><rect style=\"fill:#ffee46;fill-opacity:1;stroke:#000;stroke-width:0.05\" id=\"rect\" width=\"1\" height=\"1\" x=\"7.5\" y=\"4.3\"/> <path style=\"fill:#f6d028;stroke:#000;stroke-width:0.05;stroke-linejoin:round\" d=\"m 7.5 4.3 l 0.3 -0.3 h 1 l -0.3 0.3 z\" id=\"path1\" /> <path style=\"fill:#cea800;stroke:#000;stroke-width:0.05;stroke-linejoin:round\" d=\"m 7.5 4.3 m 1 0 l 0.3 -0.3 v 1 l -0.3 0.3 z\" id=\"path2\" /><rect style=\"fill:#ffee46;fill-opacity:1;stroke:#000;stroke-width:0.05\" id=\"rect\" width=\"1\" height=\"1\" x=\"8.5\" y=\"4.3\"/> <path style=\"fill:#f6d028;stroke:#000;stroke-width:0.05;stroke-linejoin:round\" d=\"m 8.5 4.3 l 0.3 -0.3 h 1 l -0.3 0.3 z\" id=\"path1\" /> <path style=\"fill:#cea800;stroke:#000;stroke-width:0.05;stroke-linejoin:round\" d=\"m 8.5 4.3 m 1 0 l 0.3 -0.3 v 1 l -0.3 0.3 z\" id=\"path2\" /><rect style=\"fill:#ffee46;fill-opacity:1;stroke:#000;stroke-width:0.05\" id=\"rect\" width=\"1\" height=\"1\" x=\"9.5\" y=\"4.3\"/> <path style=\"fill:#f6d028;stroke:#000;stroke-width:0.05;stroke-linejoin:round\" d=\"m 9.5 4.3 l 0.3 -0.3 h 1 l -0.3 0.3 z\" id=\"path1\" /> <path style=\"fill:#cea800;stroke:#000;stroke-width:0.05;stroke-linejoin:round\" d=\"m 9.5 4.3 m 1 0 l 0.3 -0.3 v 1 l -0.3 0.3 z\" id=\"path2\" /><rect style=\"fill:#ffee46;fill-opacity:1;stroke:#000;stroke-width:0.05\" id=\"rect\" width=\"1\" height=\"1\" x=\"10.5\" y=\"4.3\"/> <path style=\"fill:#f6d028;stroke:#000;stroke-width:0.05;stroke-linejoin:round\" d=\"m 10.5 4.3 l 0.3 -0.3 h 1 l -0.3 0.3 z\" id=\"path1\" /> <path style=\"fill:#cea800;stroke:#000;stroke-width:0.05;stroke-linejoin:round\" d=\"m 10.5 4.3 m 1 0 l 0.3 -0.3 v 1 l -0.3 0.3 z\" id=\"path2\" /><rect style=\"fill:#ffee46;fill-opacity:1;stroke:#000;stroke-width:0.05\" id=\"rect\" width=\"1\" height=\"1\" x=\"11.5\" y=\"4.3\"/> <path style=\"fill:#f6d028;stroke:#000;stroke-width:0.05;stroke-linejoin:round\" d=\"m 11.5 4.3 l 0.3 -0.3 h 1 l -0.3 0.3 z\" id=\"path1\" /> <path style=\"fill:#cea800;stroke:#000;stroke-width:0.05;stroke-linejoin:round\" d=\"m 11.5 4.3 m 1 0 l 0.3 -0.3 v 1 l -0.3 0.3 z\" id=\"path2\" /><rect style=\"fill:#ffee46;fill-opacity:1;stroke:#000;stroke-width:0.05\" id=\"rect\" width=\"1\" height=\"1\" x=\"0.5\" y=\"3.3\"/> <path style=\"fill:#f6d028;stroke:#000;stroke-width:0.05;stroke-linejoin:round\" d=\"m 0.5 3.3 l 0.3 -0.3 h 1 l -0.3 0.3 z\" id=\"path1\" /> <path style=\"fill:#cea800;stroke:#000;stroke-width:0.05;stroke-linejoin:round\" d=\"m 0.5 3.3 m 1 0 l 0.3 -0.3 v 1 l -0.3 0.3 z\" id=\"path2\" /><rect style=\"fill:#ffee46;fill-opacity:1;stroke:#000;stroke-width:0.05\" id=\"rect\" width=\"1\" height=\"1\" x=\"1.5\" y=\"3.3\"/> <path style=\"fill:#f6d028;stroke:#000;stroke-width:0.05;stroke-linejoin:round\" d=\"m 1.5 3.3 l 0.3 -0.3 h 1 l -0.3 0.3 z\" id=\"path1\" /> <path style=\"fill:#cea800;stroke:#000;stroke-width:0.05;stroke-linejoin:round\" d=\"m 1.5 3.3 m 1 0 l 0.3 -0.3 v 1 l -0.3 0.3 z\" id=\"path2\" /><rect style=\"fill:#ffee46;fill-opacity:1;stroke:#000;stroke-width:0.05\" id=\"rect\" width=\"1\" height=\"1\" x=\"2.5\" y=\"3.3\"/> <path style=\"fill:#f6d028;stroke:#000;stroke-width:0.05;stroke-linejoin:round\" d=\"m 2.5 3.3 l 0.3 -0.3 h 1 l -0.3 0.3 z\" id=\"path1\" /> <path style=\"fill:#cea800;stroke:#000;stroke-width:0.05;stroke-linejoin:round\" d=\"m 2.5 3.3 m 1 0 l 0.3 -0.3 v 1 l -0.3 0.3 z\" id=\"path2\" /><rect style=\"fill:#ffee46;fill-opacity:1;stroke:#000;stroke-width:0.05\" id=\"rect\" width=\"1\" height=\"1\" x=\"3.5\" y=\"3.3\"/> <path style=\"fill:#f6d028;stroke:#000;stroke-width:0.05;stroke-linejoin:round\" d=\"m 3.5 3.3 l 0.3 -0.3 h 1 l -0.3 0.3 z\" id=\"path1\" /> <path style=\"fill:#cea800;stroke:#000;stroke-width:0.05;stroke-linejoin:round\" d=\"m 3.5 3.3 m 1 0 l 0.3 -0.3 v 1 l -0.3 0.3 z\" id=\"path2\" /><rect style=\"fill:#ffee46;fill-opacity:1;stroke:#000;stroke-width:0.05\" id=\"rect\" width=\"1\" height=\"1\" x=\"4.5\" y=\"3.3\"/> <path style=\"fill:#f6d028;stroke:#000;stroke-width:0.05;stroke-linejoin:round\" d=\"m 4.5 3.3 l 0.3 -0.3 h 1 l -0.3 0.3 z\" id=\"path1\" /> <path style=\"fill:#cea800;stroke:#000;stroke-width:0.05;stroke-linejoin:round\" d=\"m 4.5 3.3 m 1 0 l 0.3 -0.3 v 1 l -0.3 0.3 z\" id=\"path2\" /><rect style=\"fill:#ffee46;fill-opacity:1;stroke:#000;stroke-width:0.05\" id=\"rect\" width=\"1\" height=\"1\" x=\"5.5\" y=\"3.3\"/> <path style=\"fill:#f6d028;stroke:#000;stroke-width:0.05;stroke-linejoin:round\" d=\"m 5.5 3.3 l 0.3 -0.3 h 1 l -0.3 0.3 z\" id=\"path1\" /> <path style=\"fill:#cea800;stroke:#000;stroke-width:0.05;stroke-linejoin:round\" d=\"m 5.5 3.3 m 1 0 l 0.3 -0.3 v 1 l -0.3 0.3 z\" id=\"path2\" /><rect style=\"fill:#ffee46;fill-opacity:1;stroke:#000;stroke-width:0.05\" id=\"rect\" width=\"1\" height=\"1\" x=\"6.5\" y=\"3.3\"/> <path style=\"fill:#f6d028;stroke:#000;stroke-width:0.05;stroke-linejoin:round\" d=\"m 6.5 3.3 l 0.3 -0.3 h 1 l -0.3 0.3 z\" id=\"path1\" /> <path style=\"fill:#cea800;stroke:#000;stroke-width:0.05;stroke-linejoin:round\" d=\"m 6.5 3.3 m 1 0 l 0.3 -0.3 v 1 l -0.3 0.3 z\" id=\"path2\" /><rect style=\"fill:#ffee46;fill-opacity:1;stroke:#000;stroke-width:0.05\" id=\"rect\" width=\"1\" height=\"1\" x=\"7.5\" y=\"3.3\"/> <path style=\"fill:#f6d028;stroke:#000;stroke-width:0.05;stroke-linejoin:round\" d=\"m 7.5 3.3 l 0.3 -0.3 h 1 l -0.3 0.3 z\" id=\"path1\" /> <path style=\"fill:#cea800;stroke:#000;stroke-width:0.05;stroke-linejoin:round\" d=\"m 7.5 3.3 m 1 0 l 0.3 -0.3 v 1 l -0.3 0.3 z\" id=\"path2\" /><rect style=\"fill:#ffee46;fill-opacity:1;stroke:#000;stroke-width:0.05\" id=\"rect\" width=\"1\" height=\"1\" x=\"8.5\" y=\"3.3\"/> <path style=\"fill:#f6d028;stroke:#000;stroke-width:0.05;stroke-linejoin:round\" d=\"m 8.5 3.3 l 0.3 -0.3 h 1 l -0.3 0.3 z\" id=\"path1\" /> <path style=\"fill:#cea800;stroke:#000;stroke-width:0.05;stroke-linejoin:round\" d=\"m 8.5 3.3 m 1 0 l 0.3 -0.3 v 1 l -0.3 0.3 z\" id=\"path2\" /><rect style=\"fill:#ffee46;fill-opacity:1;stroke:#000;stroke-width:0.05\" id=\"rect\" width=\"1\" height=\"1\" x=\"9.5\" y=\"3.3\"/> <path style=\"fill:#f6d028;stroke:#000;stroke-width:0.05;stroke-linejoin:round\" d=\"m 9.5 3.3 l 0.3 -0.3 h 1 l -0.3 0.3 z\" id=\"path1\" /> <path style=\"fill:#cea800;stroke:#000;stroke-width:0.05;stroke-linejoin:round\" d=\"m 9.5 3.3 m 1 0 l 0.3 -0.3 v 1 l -0.3 0.3 z\" id=\"path2\" /><rect style=\"fill:#ffee46;fill-opacity:1;stroke:#000;stroke-width:0.05\" id=\"rect\" width=\"1\" height=\"1\" x=\"10.5\" y=\"3.3\"/> <path style=\"fill:#f6d028;stroke:#000;stroke-width:0.05;stroke-linejoin:round\" d=\"m 10.5 3.3 l 0.3 -0.3 h 1 l -0.3 0.3 z\" id=\"path1\" /> <path style=\"fill:#cea800;stroke:#000;stroke-width:0.05;stroke-linejoin:round\" d=\"m 10.5 3.3 m 1 0 l 0.3 -0.3 v 1 l -0.3 0.3 z\" id=\"path2\" /><rect style=\"fill:#ffee46;fill-opacity:1;stroke:#000;stroke-width:0.05\" id=\"rect\" width=\"1\" height=\"1\" x=\"11.5\" y=\"3.3\"/> <path style=\"fill:#f6d028;stroke:#000;stroke-width:0.05;stroke-linejoin:round\" d=\"m 11.5 3.3 l 0.3 -0.3 h 1 l -0.3 0.3 z\" id=\"path1\" /> <path style=\"fill:#cea800;stroke:#000;stroke-width:0.05;stroke-linejoin:round\" d=\"m 11.5 3.3 m 1 0 l 0.3 -0.3 v 1 l -0.3 0.3 z\" id=\"path2\" /><rect style=\"fill:#ffee46;fill-opacity:1;stroke:#000;stroke-width:0.05\" id=\"rect\" width=\"1\" height=\"1\" x=\"0.5\" y=\"2.3\"/> <path style=\"fill:#f6d028;stroke:#000;stroke-width:0.05;stroke-linejoin:round\" d=\"m 0.5 2.3 l 0.3 -0.3 h 1 l -0.3 0.3 z\" id=\"path1\" /> <path style=\"fill:#cea800;stroke:#000;stroke-width:0.05;stroke-linejoin:round\" d=\"m 0.5 2.3 m 1 0 l 0.3 -0.3 v 1 l -0.3 0.3 z\" id=\"path2\" /><rect style=\"fill:#ffee46;fill-opacity:1;stroke:#000;stroke-width:0.05\" id=\"rect\" width=\"1\" height=\"1\" x=\"1.5\" y=\"2.3\"/> <path style=\"fill:#f6d028;stroke:#000;stroke-width:0.05;stroke-linejoin:round\" d=\"m 1.5 2.3 l 0.3 -0.3 h 1 l -0.3 0.3 z\" id=\"path1\" /> <path style=\"fill:#cea800;stroke:#000;stroke-width:0.05;stroke-linejoin:round\" d=\"m 1.5 2.3 m 1 0 l 0.3 -0.3 v 1 l -0.3 0.3 z\" id=\"path2\" /><rect style=\"fill:#ffee46;fill-opacity:1;stroke:#000;stroke-width:0.05\" id=\"rect\" width=\"1\" height=\"1\" x=\"2.5\" y=\"2.3\"/> <path style=\"fill:#f6d028;stroke:#000;stroke-width:0.05;stroke-linejoin:round\" d=\"m 2.5 2.3 l 0.3 -0.3 h 1 l -0.3 0.3 z\" id=\"path1\" /> <path style=\"fill:#cea800;stroke:#000;stroke-width:0.05;stroke-linejoin:round\" d=\"m 2.5 2.3 m 1 0 l 0.3 -0.3 v 1 l -0.3 0.3 z\" id=\"path2\" /><rect style=\"fill:#ffee46;fill-opacity:1;stroke:#000;stroke-width:0.05\" id=\"rect\" width=\"1\" height=\"1\" x=\"3.5\" y=\"2.3\"/> <path style=\"fill:#f6d028;stroke:#000;stroke-width:0.05;stroke-linejoin:round\" d=\"m 3.5 2.3 l 0.3 -0.3 h 1 l -0.3 0.3 z\" id=\"path1\" /> <path style=\"fill:#cea800;stroke:#000;stroke-width:0.05;stroke-linejoin:round\" d=\"m 3.5 2.3 m 1 0 l 0.3 -0.3 v 1 l -0.3 0.3 z\" id=\"path2\" /><rect style=\"fill:#ffee46;fill-opacity:1;stroke:#000;stroke-width:0.05\" id=\"rect\" width=\"1\" height=\"1\" x=\"4.5\" y=\"2.3\"/> <path style=\"fill:#f6d028;stroke:#000;stroke-width:0.05;stroke-linejoin:round\" d=\"m 4.5 2.3 l 0.3 -0.3 h 1 l -0.3 0.3 z\" id=\"path1\" /> <path style=\"fill:#cea800;stroke:#000;stroke-width:0.05;stroke-linejoin:round\" d=\"m 4.5 2.3 m 1 0 l 0.3 -0.3 v 1 l -0.3 0.3 z\" id=\"path2\" /><rect style=\"fill:#ffee46;fill-opacity:1;stroke:#000;stroke-width:0.05\" id=\"rect\" width=\"1\" height=\"1\" x=\"5.5\" y=\"2.3\"/> <path style=\"fill:#f6d028;stroke:#000;stroke-width:0.05;stroke-linejoin:round\" d=\"m 5.5 2.3 l 0.3 -0.3 h 1 l -0.3 0.3 z\" id=\"path1\" /> <path style=\"fill:#cea800;stroke:#000;stroke-width:0.05;stroke-linejoin:round\" d=\"m 5.5 2.3 m 1 0 l 0.3 -0.3 v 1 l -0.3 0.3 z\" id=\"path2\" /><rect style=\"fill:#ffee46;fill-opacity:1;stroke:#000;stroke-width:0.05\" id=\"rect\" width=\"1\" height=\"1\" x=\"6.5\" y=\"2.3\"/> <path style=\"fill:#f6d028;stroke:#000;stroke-width:0.05;stroke-linejoin:round\" d=\"m 6.5 2.3 l 0.3 -0.3 h 1 l -0.3 0.3 z\" id=\"path1\" /> <path style=\"fill:#cea800;stroke:#000;stroke-width:0.05;stroke-linejoin:round\" d=\"m 6.5 2.3 m 1 0 l 0.3 -0.3 v 1 l -0.3 0.3 z\" id=\"path2\" /><rect style=\"fill:#ffee46;fill-opacity:1;stroke:#000;stroke-width:0.05\" id=\"rect\" width=\"1\" height=\"1\" x=\"7.5\" y=\"2.3\"/> <path style=\"fill:#f6d028;stroke:#000;stroke-width:0.05;stroke-linejoin:round\" d=\"m 7.5 2.3 l 0.3 -0.3 h 1 l -0.3 0.3 z\" id=\"path1\" /> <path style=\"fill:#cea800;stroke:#000;stroke-width:0.05;stroke-linejoin:round\" d=\"m 7.5 2.3 m 1 0 l 0.3 -0.3 v 1 l -0.3 0.3 z\" id=\"path2\" /><rect style=\"fill:#ffee46;fill-opacity:1;stroke:#000;stroke-width:0.05\" id=\"rect\" width=\"1\" height=\"1\" x=\"8.5\" y=\"2.3\"/> <path style=\"fill:#f6d028;stroke:#000;stroke-width:0.05;stroke-linejoin:round\" d=\"m 8.5 2.3 l 0.3 -0.3 h 1 l -0.3 0.3 z\" id=\"path1\" /> <path style=\"fill:#cea800;stroke:#000;stroke-width:0.05;stroke-linejoin:round\" d=\"m 8.5 2.3 m 1 0 l 0.3 -0.3 v 1 l -0.3 0.3 z\" id=\"path2\" /><rect style=\"fill:#ffee46;fill-opacity:1;stroke:#000;stroke-width:0.05\" id=\"rect\" width=\"1\" height=\"1\" x=\"9.5\" y=\"2.3\"/> <path style=\"fill:#f6d028;stroke:#000;stroke-width:0.05;stroke-linejoin:round\" d=\"m 9.5 2.3 l 0.3 -0.3 h 1 l -0.3 0.3 z\" id=\"path1\" /> <path style=\"fill:#cea800;stroke:#000;stroke-width:0.05;stroke-linejoin:round\" d=\"m 9.5 2.3 m 1 0 l 0.3 -0.3 v 1 l -0.3 0.3 z\" id=\"path2\" /><rect style=\"fill:#ffee46;fill-opacity:1;stroke:#000;stroke-width:0.05\" id=\"rect\" width=\"1\" height=\"1\" x=\"10.5\" y=\"2.3\"/> <path style=\"fill:#f6d028;stroke:#000;stroke-width:0.05;stroke-linejoin:round\" d=\"m 10.5 2.3 l 0.3 -0.3 h 1 l -0.3 0.3 z\" id=\"path1\" /> <path style=\"fill:#cea800;stroke:#000;stroke-width:0.05;stroke-linejoin:round\" d=\"m 10.5 2.3 m 1 0 l 0.3 -0.3 v 1 l -0.3 0.3 z\" id=\"path2\" /><rect style=\"fill:#ffee46;fill-opacity:1;stroke:#000;stroke-width:0.05\" id=\"rect\" width=\"1\" height=\"1\" x=\"11.5\" y=\"2.3\"/> <path style=\"fill:#f6d028;stroke:#000;stroke-width:0.05;stroke-linejoin:round\" d=\"m 11.5 2.3 l 0.3 -0.3 h 1 l -0.3 0.3 z\" id=\"path1\" /> <path style=\"fill:#cea800;stroke:#000;stroke-width:0.05;stroke-linejoin:round\" d=\"m 11.5 2.3 m 1 0 l 0.3 -0.3 v 1 l -0.3 0.3 z\" id=\"path2\" /><rect style=\"fill:#ffee46;fill-opacity:1;stroke:#000;stroke-width:0.05\" id=\"rect\" width=\"1\" height=\"1\" x=\"0.5\" y=\"1.3\"/> <path style=\"fill:#f6d028;stroke:#000;stroke-width:0.05;stroke-linejoin:round\" d=\"m 0.5 1.3 l 0.3 -0.3 h 1 l -0.3 0.3 z\" id=\"path1\" /> <path style=\"fill:#cea800;stroke:#000;stroke-width:0.05;stroke-linejoin:round\" d=\"m 0.5 1.3 m 1 0 l 0.3 -0.3 v 1 l -0.3 0.3 z\" id=\"path2\" /><rect style=\"fill:#ffee46;fill-opacity:1;stroke:#000;stroke-width:0.05\" id=\"rect\" width=\"1\" height=\"1\" x=\"1.5\" y=\"1.3\"/> <path style=\"fill:#f6d028;stroke:#000;stroke-width:0.05;stroke-linejoin:round\" d=\"m 1.5 1.3 l 0.3 -0.3 h 1 l -0.3 0.3 z\" id=\"path1\" /> <path style=\"fill:#cea800;stroke:#000;stroke-width:0.05;stroke-linejoin:round\" d=\"m 1.5 1.3 m 1 0 l 0.3 -0.3 v 1 l -0.3 0.3 z\" id=\"path2\" /><rect style=\"fill:#ffee46;fill-opacity:1;stroke:#000;stroke-width:0.05\" id=\"rect\" width=\"1\" height=\"1\" x=\"2.5\" y=\"1.3\"/> <path style=\"fill:#f6d028;stroke:#000;stroke-width:0.05;stroke-linejoin:round\" d=\"m 2.5 1.3 l 0.3 -0.3 h 1 l -0.3 0.3 z\" id=\"path1\" /> <path style=\"fill:#cea800;stroke:#000;stroke-width:0.05;stroke-linejoin:round\" d=\"m 2.5 1.3 m 1 0 l 0.3 -0.3 v 1 l -0.3 0.3 z\" id=\"path2\" /><rect style=\"fill:#ffee46;fill-opacity:1;stroke:#000;stroke-width:0.05\" id=\"rect\" width=\"1\" height=\"1\" x=\"3.5\" y=\"1.3\"/> <path style=\"fill:#f6d028;stroke:#000;stroke-width:0.05;stroke-linejoin:round\" d=\"m 3.5 1.3 l 0.3 -0.3 h 1 l -0.3 0.3 z\" id=\"path1\" /> <path style=\"fill:#cea800;stroke:#000;stroke-width:0.05;stroke-linejoin:round\" d=\"m 3.5 1.3 m 1 0 l 0.3 -0.3 v 1 l -0.3 0.3 z\" id=\"path2\" /><rect style=\"fill:#ffee46;fill-opacity:1;stroke:#000;stroke-width:0.05\" id=\"rect\" width=\"1\" height=\"1\" x=\"4.5\" y=\"1.3\"/> <path style=\"fill:#f6d028;stroke:#000;stroke-width:0.05;stroke-linejoin:round\" d=\"m 4.5 1.3 l 0.3 -0.3 h 1 l -0.3 0.3 z\" id=\"path1\" /> <path style=\"fill:#cea800;stroke:#000;stroke-width:0.05;stroke-linejoin:round\" d=\"m 4.5 1.3 m 1 0 l 0.3 -0.3 v 1 l -0.3 0.3 z\" id=\"path2\" /><rect style=\"fill:#ffee46;fill-opacity:1;stroke:#000;stroke-width:0.05\" id=\"rect\" width=\"1\" height=\"1\" x=\"5.5\" y=\"1.3\"/> <path style=\"fill:#f6d028;stroke:#000;stroke-width:0.05;stroke-linejoin:round\" d=\"m 5.5 1.3 l 0.3 -0.3 h 1 l -0.3 0.3 z\" id=\"path1\" /> <path style=\"fill:#cea800;stroke:#000;stroke-width:0.05;stroke-linejoin:round\" d=\"m 5.5 1.3 m 1 0 l 0.3 -0.3 v 1 l -0.3 0.3 z\" id=\"path2\" /><rect style=\"fill:#ffee46;fill-opacity:1;stroke:#000;stroke-width:0.05\" id=\"rect\" width=\"1\" height=\"1\" x=\"6.5\" y=\"1.3\"/> <path style=\"fill:#f6d028;stroke:#000;stroke-width:0.05;stroke-linejoin:round\" d=\"m 6.5 1.3 l 0.3 -0.3 h 1 l -0.3 0.3 z\" id=\"path1\" /> <path style=\"fill:#cea800;stroke:#000;stroke-width:0.05;stroke-linejoin:round\" d=\"m 6.5 1.3 m 1 0 l 0.3 -0.3 v 1 l -0.3 0.3 z\" id=\"path2\" /><rect style=\"fill:#ffee46;fill-opacity:1;stroke:#000;stroke-width:0.05\" id=\"rect\" width=\"1\" height=\"1\" x=\"7.5\" y=\"1.3\"/> <path style=\"fill:#f6d028;stroke:#000;stroke-width:0.05;stroke-linejoin:round\" d=\"m 7.5 1.3 l 0.3 -0.3 h 1 l -0.3 0.3 z\" id=\"path1\" /> <path style=\"fill:#cea800;stroke:#000;stroke-width:0.05;stroke-linejoin:round\" d=\"m 7.5 1.3 m 1 0 l 0.3 -0.3 v 1 l -0.3 0.3 z\" id=\"path2\" /><rect style=\"fill:#ffee46;fill-opacity:1;stroke:#000;stroke-width:0.05\" id=\"rect\" width=\"1\" height=\"1\" x=\"8.5\" y=\"1.3\"/> <path style=\"fill:#f6d028;stroke:#000;stroke-width:0.05;stroke-linejoin:round\" d=\"m 8.5 1.3 l 0.3 -0.3 h 1 l -0.3 0.3 z\" id=\"path1\" /> <path style=\"fill:#cea800;stroke:#000;stroke-width:0.05;stroke-linejoin:round\" d=\"m 8.5 1.3 m 1 0 l 0.3 -0.3 v 1 l -0.3 0.3 z\" id=\"path2\" /><rect style=\"fill:#ffee46;fill-opacity:1;stroke:#000;stroke-width:0.05\" id=\"rect\" width=\"1\" height=\"1\" x=\"9.5\" y=\"1.3\"/> <path style=\"fill:#f6d028;stroke:#000;stroke-width:0.05;stroke-linejoin:round\" d=\"m 9.5 1.3 l 0.3 -0.3 h 1 l -0.3 0.3 z\" id=\"path1\" /> <path style=\"fill:#cea800;stroke:#000;stroke-width:0.05;stroke-linejoin:round\" d=\"m 9.5 1.3 m 1 0 l 0.3 -0.3 v 1 l -0.3 0.3 z\" id=\"path2\" /><rect style=\"fill:#ffee46;fill-opacity:1;stroke:#000;stroke-width:0.05\" id=\"rect\" width=\"1\" height=\"1\" x=\"10.5\" y=\"1.3\"/> <path style=\"fill:#f6d028;stroke:#000;stroke-width:0.05;stroke-linejoin:round\" d=\"m 10.5 1.3 l 0.3 -0.3 h 1 l -0.3 0.3 z\" id=\"path1\" /> <path style=\"fill:#cea800;stroke:#000;stroke-width:0.05;stroke-linejoin:round\" d=\"m 10.5 1.3 m 1 0 l 0.3 -0.3 v 1 l -0.3 0.3 z\" id=\"path2\" /><rect style=\"fill:#ffee46;fill-opacity:1;stroke:#000;stroke-width:0.05\" id=\"rect\" width=\"1\" height=\"1\" x=\"11.5\" y=\"1.3\"/> <path style=\"fill:#f6d028;stroke:#000;stroke-width:0.05;stroke-linejoin:round\" d=\"m 11.5 1.3 l 0.3 -0.3 h 1 l -0.3 0.3 z\" id=\"path1\" /> <path style=\"fill:#cea800;stroke:#000;stroke-width:0.05;stroke-linejoin:round\" d=\"m 11.5 1.3 m 1 0 l 0.3 -0.3 v 1 l -0.3 0.3 z\" id=\"path2\" /></g><text x=\"0.392\" y=\"7.300000000000001\"                     class=\"sc-label\" style=\"font-size:0.36px\"                     transform=\"rotate(-90, 0.392, 7.300000000000001)\">                        id</text><text x=\"6.5\" y=\"13.66\"                         class=\"sc-label\"                          style=\"font-size:0.36px\">t</text></g></g><g transform=\"translate(13.3,13.8)\"></g><g transform=\"translate(-2.3,0.0)\"><g><text x=\"0\" y=\"0.6\"                     class=\"sc-name\" style=\"font-size:0.6px\">                     id</text><title>id(dims=(&#x27;id&#x27;,), shape=(1638401,), unit=1e-09, variances=False)</title><g><title>values</title><rect style=\"fill:#e4ffae;fill-opacity:1;stroke:#000;stroke-width:0.05\" id=\"rect\" width=\"1\" height=\"1\" x=\"0.5\" y=\"12.3\"/> <path style=\"fill:#c6e590;stroke:#000;stroke-width:0.05;stroke-linejoin:round\" d=\"m 0.5 12.3 l 0.3 -0.3 h 1 l -0.3 0.3 z\" id=\"path1\" /> <path style=\"fill:#9ebd68;stroke:#000;stroke-width:0.05;stroke-linejoin:round\" d=\"m 0.5 12.3 m 1 0 l 0.3 -0.3 v 1 l -0.3 0.3 z\" id=\"path2\" /><rect style=\"fill:#e4ffae;fill-opacity:1;stroke:#000;stroke-width:0.05\" id=\"rect\" width=\"1\" height=\"1\" x=\"0.5\" y=\"11.3\"/> <path style=\"fill:#c6e590;stroke:#000;stroke-width:0.05;stroke-linejoin:round\" d=\"m 0.5 11.3 l 0.3 -0.3 h 1 l -0.3 0.3 z\" id=\"path1\" /> <path style=\"fill:#9ebd68;stroke:#000;stroke-width:0.05;stroke-linejoin:round\" d=\"m 0.5 11.3 m 1 0 l 0.3 -0.3 v 1 l -0.3 0.3 z\" id=\"path2\" /><rect style=\"fill:#e4ffae;fill-opacity:1;stroke:#000;stroke-width:0.05\" id=\"rect\" width=\"1\" height=\"1\" x=\"0.5\" y=\"10.3\"/> <path style=\"fill:#c6e590;stroke:#000;stroke-width:0.05;stroke-linejoin:round\" d=\"m 0.5 10.3 l 0.3 -0.3 h 1 l -0.3 0.3 z\" id=\"path1\" /> <path style=\"fill:#9ebd68;stroke:#000;stroke-width:0.05;stroke-linejoin:round\" d=\"m 0.5 10.3 m 1 0 l 0.3 -0.3 v 1 l -0.3 0.3 z\" id=\"path2\" /><rect style=\"fill:#e4ffae;fill-opacity:1;stroke:#000;stroke-width:0.05\" id=\"rect\" width=\"1\" height=\"1\" x=\"0.5\" y=\"9.3\"/> <path style=\"fill:#c6e590;stroke:#000;stroke-width:0.05;stroke-linejoin:round\" d=\"m 0.5 9.3 l 0.3 -0.3 h 1 l -0.3 0.3 z\" id=\"path1\" /> <path style=\"fill:#9ebd68;stroke:#000;stroke-width:0.05;stroke-linejoin:round\" d=\"m 0.5 9.3 m 1 0 l 0.3 -0.3 v 1 l -0.3 0.3 z\" id=\"path2\" /><rect style=\"fill:#e4ffae;fill-opacity:1;stroke:#000;stroke-width:0.05\" id=\"rect\" width=\"1\" height=\"1\" x=\"0.5\" y=\"8.3\"/> <path style=\"fill:#c6e590;stroke:#000;stroke-width:0.05;stroke-linejoin:round\" d=\"m 0.5 8.3 l 0.3 -0.3 h 1 l -0.3 0.3 z\" id=\"path1\" /> <path style=\"fill:#9ebd68;stroke:#000;stroke-width:0.05;stroke-linejoin:round\" d=\"m 0.5 8.3 m 1 0 l 0.3 -0.3 v 1 l -0.3 0.3 z\" id=\"path2\" /><rect style=\"fill:#e4ffae;fill-opacity:1;stroke:#000;stroke-width:0.05\" id=\"rect\" width=\"1\" height=\"1\" x=\"0.5\" y=\"7.3\"/> <path style=\"fill:#c6e590;stroke:#000;stroke-width:0.05;stroke-linejoin:round\" d=\"m 0.5 7.3 l 0.3 -0.3 h 1 l -0.3 0.3 z\" id=\"path1\" /> <path style=\"fill:#9ebd68;stroke:#000;stroke-width:0.05;stroke-linejoin:round\" d=\"m 0.5 7.3 m 1 0 l 0.3 -0.3 v 1 l -0.3 0.3 z\" id=\"path2\" /><rect style=\"fill:#e4ffae;fill-opacity:1;stroke:#000;stroke-width:0.05\" id=\"rect\" width=\"1\" height=\"1\" x=\"0.5\" y=\"6.3\"/> <path style=\"fill:#c6e590;stroke:#000;stroke-width:0.05;stroke-linejoin:round\" d=\"m 0.5 6.3 l 0.3 -0.3 h 1 l -0.3 0.3 z\" id=\"path1\" /> <path style=\"fill:#9ebd68;stroke:#000;stroke-width:0.05;stroke-linejoin:round\" d=\"m 0.5 6.3 m 1 0 l 0.3 -0.3 v 1 l -0.3 0.3 z\" id=\"path2\" /><rect style=\"fill:#e4ffae;fill-opacity:1;stroke:#000;stroke-width:0.05\" id=\"rect\" width=\"1\" height=\"1\" x=\"0.5\" y=\"5.3\"/> <path style=\"fill:#c6e590;stroke:#000;stroke-width:0.05;stroke-linejoin:round\" d=\"m 0.5 5.3 l 0.3 -0.3 h 1 l -0.3 0.3 z\" id=\"path1\" /> <path style=\"fill:#9ebd68;stroke:#000;stroke-width:0.05;stroke-linejoin:round\" d=\"m 0.5 5.3 m 1 0 l 0.3 -0.3 v 1 l -0.3 0.3 z\" id=\"path2\" /><rect style=\"fill:#e4ffae;fill-opacity:1;stroke:#000;stroke-width:0.05\" id=\"rect\" width=\"1\" height=\"1\" x=\"0.5\" y=\"4.3\"/> <path style=\"fill:#c6e590;stroke:#000;stroke-width:0.05;stroke-linejoin:round\" d=\"m 0.5 4.3 l 0.3 -0.3 h 1 l -0.3 0.3 z\" id=\"path1\" /> <path style=\"fill:#9ebd68;stroke:#000;stroke-width:0.05;stroke-linejoin:round\" d=\"m 0.5 4.3 m 1 0 l 0.3 -0.3 v 1 l -0.3 0.3 z\" id=\"path2\" /><rect style=\"fill:#e4ffae;fill-opacity:1;stroke:#000;stroke-width:0.05\" id=\"rect\" width=\"1\" height=\"1\" x=\"0.5\" y=\"3.3\"/> <path style=\"fill:#c6e590;stroke:#000;stroke-width:0.05;stroke-linejoin:round\" d=\"m 0.5 3.3 l 0.3 -0.3 h 1 l -0.3 0.3 z\" id=\"path1\" /> <path style=\"fill:#9ebd68;stroke:#000;stroke-width:0.05;stroke-linejoin:round\" d=\"m 0.5 3.3 m 1 0 l 0.3 -0.3 v 1 l -0.3 0.3 z\" id=\"path2\" /><rect style=\"fill:#e4ffae;fill-opacity:1;stroke:#000;stroke-width:0.05\" id=\"rect\" width=\"1\" height=\"1\" x=\"0.5\" y=\"2.3\"/> <path style=\"fill:#c6e590;stroke:#000;stroke-width:0.05;stroke-linejoin:round\" d=\"m 0.5 2.3 l 0.3 -0.3 h 1 l -0.3 0.3 z\" id=\"path1\" /> <path style=\"fill:#9ebd68;stroke:#000;stroke-width:0.05;stroke-linejoin:round\" d=\"m 0.5 2.3 m 1 0 l 0.3 -0.3 v 1 l -0.3 0.3 z\" id=\"path2\" /><rect style=\"fill:#e4ffae;fill-opacity:1;stroke:#000;stroke-width:0.05\" id=\"rect\" width=\"1\" height=\"1\" x=\"0.5\" y=\"1.3\"/> <path style=\"fill:#c6e590;stroke:#000;stroke-width:0.05;stroke-linejoin:round\" d=\"m 0.5 1.3 l 0.3 -0.3 h 1 l -0.3 0.3 z\" id=\"path1\" /> <path style=\"fill:#9ebd68;stroke:#000;stroke-width:0.05;stroke-linejoin:round\" d=\"m 0.5 1.3 m 1 0 l 0.3 -0.3 v 1 l -0.3 0.3 z\" id=\"path2\" /></g><text x=\"0.392\" y=\"7.300000000000001\"                     class=\"sc-label\" style=\"font-size:0.36px\"                     transform=\"rotate(-90, 0.392, 7.300000000000001)\">                        id</text></g></g><g transform=\"translate(0,13.8)\"></g><g transform=\"translate(0,13.8)\"><g><text x=\"0\" y=\"0.6\"                     class=\"sc-name\" style=\"font-size:0.6px\">                     t</text><title>t(dims=(&#x27;t&#x27;,), shape=(13,), unit=ms, variances=False)</title><g><title>values</title><rect style=\"fill:#e4ffae;fill-opacity:1;stroke:#000;stroke-width:0.05\" id=\"rect\" width=\"1\" height=\"1\" x=\"0.5\" y=\"1.3\"/> <path style=\"fill:#c6e590;stroke:#000;stroke-width:0.05;stroke-linejoin:round\" d=\"m 0.5 1.3 l 0.3 -0.3 h 1 l -0.3 0.3 z\" id=\"path1\" /> <path style=\"fill:#9ebd68;stroke:#000;stroke-width:0.05;stroke-linejoin:round\" d=\"m 0.5 1.3 m 1 0 l 0.3 -0.3 v 1 l -0.3 0.3 z\" id=\"path2\" /><rect style=\"fill:#e4ffae;fill-opacity:1;stroke:#000;stroke-width:0.05\" id=\"rect\" width=\"1\" height=\"1\" x=\"1.5\" y=\"1.3\"/> <path style=\"fill:#c6e590;stroke:#000;stroke-width:0.05;stroke-linejoin:round\" d=\"m 1.5 1.3 l 0.3 -0.3 h 1 l -0.3 0.3 z\" id=\"path1\" /> <path style=\"fill:#9ebd68;stroke:#000;stroke-width:0.05;stroke-linejoin:round\" d=\"m 1.5 1.3 m 1 0 l 0.3 -0.3 v 1 l -0.3 0.3 z\" id=\"path2\" /><rect style=\"fill:#e4ffae;fill-opacity:1;stroke:#000;stroke-width:0.05\" id=\"rect\" width=\"1\" height=\"1\" x=\"2.5\" y=\"1.3\"/> <path style=\"fill:#c6e590;stroke:#000;stroke-width:0.05;stroke-linejoin:round\" d=\"m 2.5 1.3 l 0.3 -0.3 h 1 l -0.3 0.3 z\" id=\"path1\" /> <path style=\"fill:#9ebd68;stroke:#000;stroke-width:0.05;stroke-linejoin:round\" d=\"m 2.5 1.3 m 1 0 l 0.3 -0.3 v 1 l -0.3 0.3 z\" id=\"path2\" /><rect style=\"fill:#e4ffae;fill-opacity:1;stroke:#000;stroke-width:0.05\" id=\"rect\" width=\"1\" height=\"1\" x=\"3.5\" y=\"1.3\"/> <path style=\"fill:#c6e590;stroke:#000;stroke-width:0.05;stroke-linejoin:round\" d=\"m 3.5 1.3 l 0.3 -0.3 h 1 l -0.3 0.3 z\" id=\"path1\" /> <path style=\"fill:#9ebd68;stroke:#000;stroke-width:0.05;stroke-linejoin:round\" d=\"m 3.5 1.3 m 1 0 l 0.3 -0.3 v 1 l -0.3 0.3 z\" id=\"path2\" /><rect style=\"fill:#e4ffae;fill-opacity:1;stroke:#000;stroke-width:0.05\" id=\"rect\" width=\"1\" height=\"1\" x=\"4.5\" y=\"1.3\"/> <path style=\"fill:#c6e590;stroke:#000;stroke-width:0.05;stroke-linejoin:round\" d=\"m 4.5 1.3 l 0.3 -0.3 h 1 l -0.3 0.3 z\" id=\"path1\" /> <path style=\"fill:#9ebd68;stroke:#000;stroke-width:0.05;stroke-linejoin:round\" d=\"m 4.5 1.3 m 1 0 l 0.3 -0.3 v 1 l -0.3 0.3 z\" id=\"path2\" /><rect style=\"fill:#e4ffae;fill-opacity:1;stroke:#000;stroke-width:0.05\" id=\"rect\" width=\"1\" height=\"1\" x=\"5.5\" y=\"1.3\"/> <path style=\"fill:#c6e590;stroke:#000;stroke-width:0.05;stroke-linejoin:round\" d=\"m 5.5 1.3 l 0.3 -0.3 h 1 l -0.3 0.3 z\" id=\"path1\" /> <path style=\"fill:#9ebd68;stroke:#000;stroke-width:0.05;stroke-linejoin:round\" d=\"m 5.5 1.3 m 1 0 l 0.3 -0.3 v 1 l -0.3 0.3 z\" id=\"path2\" /><rect style=\"fill:#e4ffae;fill-opacity:1;stroke:#000;stroke-width:0.05\" id=\"rect\" width=\"1\" height=\"1\" x=\"6.5\" y=\"1.3\"/> <path style=\"fill:#c6e590;stroke:#000;stroke-width:0.05;stroke-linejoin:round\" d=\"m 6.5 1.3 l 0.3 -0.3 h 1 l -0.3 0.3 z\" id=\"path1\" /> <path style=\"fill:#9ebd68;stroke:#000;stroke-width:0.05;stroke-linejoin:round\" d=\"m 6.5 1.3 m 1 0 l 0.3 -0.3 v 1 l -0.3 0.3 z\" id=\"path2\" /><rect style=\"fill:#e4ffae;fill-opacity:1;stroke:#000;stroke-width:0.05\" id=\"rect\" width=\"1\" height=\"1\" x=\"7.5\" y=\"1.3\"/> <path style=\"fill:#c6e590;stroke:#000;stroke-width:0.05;stroke-linejoin:round\" d=\"m 7.5 1.3 l 0.3 -0.3 h 1 l -0.3 0.3 z\" id=\"path1\" /> <path style=\"fill:#9ebd68;stroke:#000;stroke-width:0.05;stroke-linejoin:round\" d=\"m 7.5 1.3 m 1 0 l 0.3 -0.3 v 1 l -0.3 0.3 z\" id=\"path2\" /><rect style=\"fill:#e4ffae;fill-opacity:1;stroke:#000;stroke-width:0.05\" id=\"rect\" width=\"1\" height=\"1\" x=\"8.5\" y=\"1.3\"/> <path style=\"fill:#c6e590;stroke:#000;stroke-width:0.05;stroke-linejoin:round\" d=\"m 8.5 1.3 l 0.3 -0.3 h 1 l -0.3 0.3 z\" id=\"path1\" /> <path style=\"fill:#9ebd68;stroke:#000;stroke-width:0.05;stroke-linejoin:round\" d=\"m 8.5 1.3 m 1 0 l 0.3 -0.3 v 1 l -0.3 0.3 z\" id=\"path2\" /><rect style=\"fill:#e4ffae;fill-opacity:1;stroke:#000;stroke-width:0.05\" id=\"rect\" width=\"1\" height=\"1\" x=\"9.5\" y=\"1.3\"/> <path style=\"fill:#c6e590;stroke:#000;stroke-width:0.05;stroke-linejoin:round\" d=\"m 9.5 1.3 l 0.3 -0.3 h 1 l -0.3 0.3 z\" id=\"path1\" /> <path style=\"fill:#9ebd68;stroke:#000;stroke-width:0.05;stroke-linejoin:round\" d=\"m 9.5 1.3 m 1 0 l 0.3 -0.3 v 1 l -0.3 0.3 z\" id=\"path2\" /><rect style=\"fill:#e4ffae;fill-opacity:1;stroke:#000;stroke-width:0.05\" id=\"rect\" width=\"1\" height=\"1\" x=\"10.5\" y=\"1.3\"/> <path style=\"fill:#c6e590;stroke:#000;stroke-width:0.05;stroke-linejoin:round\" d=\"m 10.5 1.3 l 0.3 -0.3 h 1 l -0.3 0.3 z\" id=\"path1\" /> <path style=\"fill:#9ebd68;stroke:#000;stroke-width:0.05;stroke-linejoin:round\" d=\"m 10.5 1.3 m 1 0 l 0.3 -0.3 v 1 l -0.3 0.3 z\" id=\"path2\" /><rect style=\"fill:#e4ffae;fill-opacity:1;stroke:#000;stroke-width:0.05\" id=\"rect\" width=\"1\" height=\"1\" x=\"11.5\" y=\"1.3\"/> <path style=\"fill:#c6e590;stroke:#000;stroke-width:0.05;stroke-linejoin:round\" d=\"m 11.5 1.3 l 0.3 -0.3 h 1 l -0.3 0.3 z\" id=\"path1\" /> <path style=\"fill:#9ebd68;stroke:#000;stroke-width:0.05;stroke-linejoin:round\" d=\"m 11.5 1.3 m 1 0 l 0.3 -0.3 v 1 l -0.3 0.3 z\" id=\"path2\" /></g><text x=\"6.5\" y=\"2.6599999999999997\"                         class=\"sc-label\"                          style=\"font-size:0.36px\">t</text></g></g></svg>"
      ],
      "text/plain": [
       "<IPython.core.display.HTML object>"
      ]
     },
     "metadata": {},
     "output_type": "display_data"
    }
   ],
   "source": [
    "sc.show(id_hist)"
   ]
  },
  {
   "cell_type": "code",
   "execution_count": 50,
   "metadata": {},
   "outputs": [
    {
     "ename": "AttributeError",
     "evalue": "'scipp._scipp.core.DataArray' object has no attribute 'get'",
     "output_type": "error",
     "traceback": [
      "\u001b[0;31m---------------------------------------------------------------------------\u001b[0m",
      "\u001b[0;31mAttributeError\u001b[0m                            Traceback (most recent call last)",
      "Cell \u001b[0;32mIn[50], line 1\u001b[0m\n\u001b[0;32m----> 1\u001b[0m id_hist\u001b[39m.\u001b[39;49mget(\u001b[39m'\u001b[39m\u001b[39mt\u001b[39m\u001b[39m'\u001b[39m)\n",
      "\u001b[0;31mAttributeError\u001b[0m: 'scipp._scipp.core.DataArray' object has no attribute 'get'"
     ]
    }
   ],
   "source": [
    "id_hist.get('t')"
   ]
  },
  {
   "cell_type": "code",
   "execution_count": 28,
   "metadata": {},
   "outputs": [
    {
     "name": "stdout",
     "output_type": "stream",
     "text": [
      "(1638400,)\n",
      "[0. 0. 0. 0. 0. 0. 0. 0. 0. 0. 0. 0. 0. 0. 0. 0. 0. 0. 0. 0.]\n"
     ]
    }
   ],
   "source": [
    "print(data1.shape)\n",
    "print(data1[:20])"
   ]
  },
  {
   "cell_type": "code",
   "execution_count": 46,
   "metadata": {},
   "outputs": [
    {
     "name": "stdout",
     "output_type": "stream",
     "text": [
      "<scipp.DataArray>\n",
      "Dimensions: Sizes[t:12, ]\n",
      "Coordinates:\n",
      "  t                         float64             [ms]  (t [bin-edge])  [0.092834, 0.0977443, ..., 0.146847, 0.151757]\n",
      "Data:\n",
      "                            float64         [counts]  (t)  [0, 0, ..., 1, 0]\n",
      "Attributes:\n",
      "  id                        float64          [1e-09]  (id [bin-edge])  [21, 22]\n",
      "\n",
      "\n"
     ]
    }
   ],
   "source": [
    "print(id_hist['id',20])"
   ]
  },
  {
   "cell_type": "code",
   "execution_count": null,
   "metadata": {},
   "outputs": [],
   "source": [
    "print(id_hist.shape)\n",
    "print(id_hist['t',1].shape)\n",
    "print(len(data1))\n",
    "print(data1[0])"
   ]
  },
  {
   "cell_type": "code",
   "execution_count": null,
   "metadata": {},
   "outputs": [],
   "source": [
    "print(data1.dtype)"
   ]
  },
  {
   "cell_type": "code",
   "execution_count": null,
   "metadata": {},
   "outputs": [],
   "source": [
    "#grp = f_out.create_group(\"raw_data_1\")\n",
    "\n",
    "#grp.__setitem__('beamline','NMX')\n",
    "#grp.__setitem__('definition','TOFRAW')\n",
    "#det1 = grp.create_group(\"detector_1\")\n",
    "#dset = det1.create_dataset(\"hist_data\",data=data1)\n",
    "\n",
    "#beamline = grp.create_dataset(\"beamline\", (\"NMX\"))\n",
    "#print(beamline.name)\n",
    "#beamline = \"NMX\"\n",
    "#\"NMX\" = grp['beamline'] "
   ]
  },
  {
   "cell_type": "code",
   "execution_count": 91,
   "metadata": {},
   "outputs": [],
   "source": [
    "with h5py.File('/Users/justinbergmann/work_flow/test_out/test.h5', 'w') as fo:\n",
    "## create output nexus file\n",
    "    fo.attrs['default'] = 'entry'\n",
    "    nxentry = fo.create_group('entry')\n",
    "    nxentry.attrs[\"NX_class\"] = 'NXentry'\n",
    "    nxentry.attrs['default'] = 'data'\n",
    "    nxentry.__setitem__('beamline','NMX')\n",
    "    nxentry.__setitem__('definition','TOFRAW')\n",
    "\n",
    "\n",
    "    nxdata = nxentry.create_group('data')\n",
    "    nxdata.attrs[\"NX_class\"] = 'NXdata'\n",
    "    nxdata.attrs['signal'] = 'counts'\n",
    "    nxdata.attrs['axes'] = 'two_theta'\n",
    "    nxdata.attrs['two_theta_indices'] = [0,]\n",
    " \n",
    "    tth = nxdata.create_dataset('data1', data=data1)\n",
    "    tth.attrs['units'] = 'counts'\n",
    "    tth.attrs['long_name'] = 'data1 (counts)'\n",
    "\n",
    "    id_bin = nxdata.create_dataset('id_bin', data=id_bin)\n",
    "    id_bin.attrs['units'] = ''\n",
    "    id_bin.attrs['long_name'] = 'pixel ID'\n",
    "    \n",
    "    t_bin = nxdata.create_dataset('t_bin', data=tl_bin)\n",
    "    t_bin.attrs['units'] = 'ms'\n",
    "    t_bin.attrs['long_name'] = 't_bin TOF (ms)'\n",
    "\n",
    "    counts = nxdata.create_dataset('counts', data=data2)\n",
    "    counts.attrs['units'] = 'counts'\n",
    "    counts.attrs['long_name'] = 'counts (bined counts)'\n",
    "\n",
    "    fo.close()\n"
   ]
  },
  {
   "cell_type": "code",
   "execution_count": 81,
   "metadata": {},
   "outputs": [],
   "source": [
    "#print(grp['beamline'].items())\n",
    "fo.close()"
   ]
  },
  {
   "cell_type": "code",
   "execution_count": null,
   "metadata": {},
   "outputs": [],
   "source": [
    "\n",
    "#f_out.close()"
   ]
  },
  {
   "cell_type": "code",
   "execution_count": null,
   "metadata": {},
   "outputs": [],
   "source": [
    "f.close()  \n",
    "del id_list\n",
    "del x_list\n",
    "del y_list\n",
    "del t_list\n",
    "del id_hist\n",
    "del hist3"
   ]
  },
  {
   "cell_type": "code",
   "execution_count": 1,
   "metadata": {},
   "outputs": [
    {
     "ename": "NameError",
     "evalue": "name 'tracemalloc' is not defined",
     "output_type": "error",
     "traceback": [
      "\u001b[0;31m---------------------------------------------------------------------------\u001b[0m",
      "\u001b[0;31mNameError\u001b[0m                                 Traceback (most recent call last)",
      "Cell \u001b[0;32mIn[1], line 1\u001b[0m\n\u001b[0;32m----> 1\u001b[0m current, peak \u001b[39m=\u001b[39m tracemalloc\u001b[39m.\u001b[39mget_traced_memory()\n\u001b[1;32m      2\u001b[0m \u001b[39mprint\u001b[39m(\u001b[39m'\u001b[39m\u001b[39m2 current memory [MB]: \u001b[39m\u001b[39m{}\u001b[39;00m\u001b[39m, peak memory [MB]: \u001b[39m\u001b[39m{}\u001b[39;00m\u001b[39m \u001b[39m\u001b[39m'\u001b[39m\u001b[39m.\u001b[39mformat(\u001b[39mround\u001b[39m((current\u001b[39m/\u001b[39m(\u001b[39m1024\u001b[39m\u001b[39m*\u001b[39m\u001b[39m1024\u001b[39m)), \u001b[39m2\u001b[39m), \u001b[39mround\u001b[39m((peak \u001b[39m/\u001b[39m(\u001b[39m1024\u001b[39m\u001b[39m*\u001b[39m\u001b[39m1024\u001b[39m) ), \u001b[39m2\u001b[39m) ))\n\u001b[1;32m      3\u001b[0m \u001b[39m# stopping the library\u001b[39;00m\n",
      "\u001b[0;31mNameError\u001b[0m: name 'tracemalloc' is not defined"
     ]
    }
   ],
   "source": [
    "current, peak = tracemalloc.get_traced_memory()\n",
    "print('2 current memory [MB]: {}, peak memory [MB]: {} '.format(round((current/(1024*1024)), 2), round((peak /(1024*1024) ), 2) ))\n",
    "# stopping the library\n",
    "tracemalloc.stop()\n",
    "print(\"neded time (h:mm:ss): \", datetime.now() - startTime)"
   ]
  }
 ],
 "metadata": {
  "kernelspec": {
   "display_name": "Python 3.9.15",
   "language": "python",
   "name": "python3"
  },
  "language_info": {
   "codemirror_mode": {
    "name": "ipython",
    "version": 3
   },
   "file_extension": ".py",
   "mimetype": "text/x-python",
   "name": "python",
   "nbconvert_exporter": "python",
   "pygments_lexer": "ipython3",
   "version": "3.9.15"
  },
  "vscode": {
   "interpreter": {
    "hash": "2f119d261a2d59e335728eef8c9957dbc602fe663047a944a8775a95e22cdb34"
   }
  }
 },
 "nbformat": 4,
 "nbformat_minor": 4
}
