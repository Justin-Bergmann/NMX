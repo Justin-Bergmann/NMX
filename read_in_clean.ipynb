{
 "cells": [
  {
   "attachments": {},
   "cell_type": "markdown",
   "metadata": {},
   "source": [
    "first version of read in file for the NMX work flow (from simulatet event data to binned event data)"
   ]
  },
  {
   "cell_type": "markdown",
   "metadata": {},
   "source": [
    "this notebook takes a NEXUS file from a McStas simulation and performs the steps of binning and later one from Time of Arrival (TOA) to Time of Flight (TOF) and writes out a nexus file readable by DIALS (FormartNMX) "
   ]
  },
  {
   "attachments": {},
   "cell_type": "markdown",
   "metadata": {},
   "source": [
    "\n",
    "first add neded libaries"
   ]
  },
  {
   "cell_type": "code",
   "execution_count": 1,
   "metadata": {},
   "outputs": [],
   "source": [
    "from datetime import datetime\n",
    "startTime = datetime.now()\n",
    "import tracemalloc\n",
    "    #from scippnexus import data\n",
    "#import scippnexus as snx\n",
    "import numpy as np\n",
    "import math\n",
    "\n",
    "    #qimport mantid_args\n",
    "#from scippnexus import NXdetector\n",
    "from scippneutron.conversion import graph\n",
    "\n",
    "import scipp as sc\n",
    "import scippneutron as scn\n",
    "import scippnexus as snx\n",
    "\n",
    "import xml.etree.ElementTree as ET\n",
    "\n",
    "#%matplotlib widget\n",
    "\n",
    "\n",
    "import plopp as pp\n",
    "pp.patch_scipp()\n",
    "import matplotlib.pyplot as plt\n",
    "from plopp.widgets import Box\n",
    "import ipywidgets as ipw\n",
    "from matplotlib.colors import LogNorm\n",
    "\n",
    "    #import multiprocessing as mp\n",
    "\n",
    "import h5py\n",
    "h5py.enable_ipython_completer()\n",
    "%matplotlib inline\n",
    "%matplotlib widget\n",
    "\n",
    "# starting the momory monitoring\n",
    "tracemalloc.start()\n"
   ]
  },
  {
   "attachments": {},
   "cell_type": "markdown",
   "metadata": {},
   "source": [
    "define general parameter"
   ]
  },
  {
   "cell_type": "code",
   "execution_count": 37,
   "metadata": {},
   "outputs": [],
   "source": [
    "#Number op pixels per detecotr dimmension\n",
    "pix = 1280\n",
    "pix_step = 100\n",
    "#number of time bins \n",
    "t_step = 5\n",
    "\n",
    "#number of detectors\n",
    "n_det = 3\n",
    "# normalising highest propability to \n",
    "max_prop = 100000\n",
    "\n",
    "\n"
   ]
  },
  {
   "cell_type": "code",
   "execution_count": 38,
   "metadata": {},
   "outputs": [
    {
     "name": "stdout",
     "output_type": "stream",
     "text": [
      "datapoint in output: 49152.0\n"
     ]
    }
   ],
   "source": [
    "#datapoints in output:\n",
    "print(\"datapoint in output:\",pix**2*3/pix_step)"
   ]
  },
  {
   "attachments": {},
   "cell_type": "markdown",
   "metadata": {},
   "source": [
    "pretreatment to make it faster <br>\n",
    "h5repack -l CHUNK=1024x6 2e11.h5 2e11-rechunk.h5  <br>\n",
    "or <br>\n",
    "h5repack -l CHUNK=NONE 2e11.h5 2e11-nochunk.h5<br>\n",
    "or <br> \n",
    "h5repack -l CHUNK=1024x6 mccode.h5 mccode-nochunk.h5 \n",
    "\n",
    "not neded with new McStas versions"
   ]
  },
  {
   "cell_type": "markdown",
   "metadata": {},
   "source": [
    "test data filename must be the exact file to use for this step of data reduction"
   ]
  },
  {
   "cell_type": "code",
   "execution_count": 4,
   "metadata": {},
   "outputs": [
    {
     "name": "stdout",
     "output_type": "stream",
     "text": [
      "/Users/justinbergmann/work_flow/test_data/pulse5_z.h5\n"
     ]
    }
   ],
   "source": [
    "fname = 23\n",
    "\n",
    "if fname == 1:\n",
    "   filename = '/Users/justinbergmann/work_flow/test_data/2e11.h5'\n",
    "elif fname == 2:\n",
    "    filename = '/Users/justinbergmann/work_flow/test_data/x0_3d.h5'\n",
    "elif fname == 3:\n",
    "    filename = '/Users/justinbergmann/work_flow/test_data/xe_0_NMX.h5'\n",
    "elif fname == 4:\n",
    "    filename = '/Users/justinbergmann/work_flow/test_data/xe_20_NMX.h5'\n",
    "elif fname == 5:\n",
    "    filename = '/Users/justinbergmann/work_flow/test_data/flip_det.h5'\n",
    "elif fname == 6:\n",
    "    filename = '/Users/justinbergmann/work_flow/test_data/flip_4.h5'\n",
    "elif fname == 7:\n",
    "    filename = '/Users/justinbergmann/work_flow/test_data/ye_0_NMX.h5'\n",
    "elif fname == 8:\n",
    "    filename = '/Users/justinbergmann/work_flow/test_data/xe1_12_NMX/xe1_12_no_chunk.h5'\n",
    "elif fname == 9:\n",
    "    filename = '/Users/justinbergmann/work_flow/test_data/1d.h5'\n",
    "\n",
    "elif fname == 10:\n",
    "    filename = '/Users/justinbergmann/work_flow/test_data/xflat20.h5'\n",
    "\n",
    "elif fname == 11:\n",
    "    filename = '/Users/justinbergmann/work_flow/test_data/small_vis/flat.nxs'\n",
    "\n",
    "elif fname == 12:\n",
    "    filename = '/Users/justinbergmann/work_flow/test_data/small_vis/shift_down.nxs'\n",
    "\n",
    "\n",
    "elif fname == 13:\n",
    "    filename = '/Users/justinbergmann/work_flow/test_data/mc2_7_2_test.h5'\n",
    "\n",
    "elif fname == 14:\n",
    "    filename = '/Users/justinbergmann/work_flow/test_data/mc2_new_comp.nxs'\n",
    "\n",
    "elif fname == 15:\n",
    "    filename = '/Users/justinbergmann/work_flow/test_data/xflat20.h5'\n",
    "\n",
    "\n",
    "elif fname == 16:\n",
    "    filename = '/Users/justinbergmann/work_flow/test_data/flat_h_r.h5'\n",
    "\n",
    "\n",
    "elif fname == 17:\n",
    "    filename = '/Users/justinbergmann/work_flow/test_data/flat_v_u.h5'\n",
    "\n",
    "elif fname == 18:\n",
    "    filename = '/Users/justinbergmann/work_flow/test_data/NMX_long.h5'\n",
    "\n",
    "elif fname == 19:\n",
    "    filename = '/Users/justinbergmann/work_flow/test_data/pulse5.h5'\n",
    "\n",
    "\n",
    "\n",
    "elif fname == 20:\n",
    "    filename = '/Users/justinbergmann/work_flow/test_data/pulse5_y.h5'\n",
    "elif fname == 21:\n",
    "    filename = '/Users/justinbergmann/work_flow/test_data/wavelength.h5'\n",
    "\n",
    "elif fname == 22:\n",
    "    filename = '/Users/justinbergmann/work_flow/test_data/wavelength_short1.h5'\n",
    "elif fname == 23:\n",
    "    filename = '/Users/justinbergmann/work_flow/test_data/pulse5_z.h5'\n",
    "\n",
    "else:\n",
    "    filename = '/Users/justinbergmann/work_flow/test_data/xflat20.h5'\n",
    "\n",
    "\n",
    "# f_vis = '/Users/justinbergmann/work_flow/test_data/ye_0_NMX_vis.nxs'\n",
    "# f_vis ='/Users/justinbergmann/work_flow/test_data/mc2_new_comp_vis.nxs' \n",
    "# f_vis ='/Users/justinbergmann/work_flow/test_data/flat_v_u_vis.nxs'\n",
    "f_vis ='/Users/justinbergmann/work_flow/test_data/pulse5_z_vis.nxs'  \n",
    "print(filename)\n",
    "\n",
    "\n",
    "#f=snx.File(filename)    "
   ]
  },
  {
   "attachments": {},
   "cell_type": "markdown",
   "metadata": {},
   "source": [
    "3D visualisation with file converted by mantid (must be done before)"
   ]
  },
  {
   "cell_type": "code",
   "execution_count": null,
   "metadata": {},
   "outputs": [],
   "source": [
    "vis = sc.io.open_hdf5(filename = f_vis)\n",
    "scn.instrument_view(vis.sum('tof'))"
   ]
  },
  {
   "cell_type": "markdown",
   "metadata": {},
   "source": [
    "read in event data and shape the event list to give the number of events and creates the dataset for further modification"
   ]
  },
  {
   "cell_type": "code",
   "execution_count": 5,
   "metadata": {},
   "outputs": [
    {
     "name": "stdout",
     "output_type": "stream",
     "text": [
      "shape of event list (p_x_y_n_id_t) (6, 148001741)\n",
      "id min 1\n",
      "id max 5638399\n",
      "CPU times: user 16.2 s, sys: 11.3 s, total: 27.5 s\n",
      "Wall time: 11.8 s\n"
     ]
    }
   ],
   "source": [
    "%%time\n",
    "f = h5py.File(filename)\n",
    "a = f['entry1/data']['bank01_events_dat_list_p_x_y_n_id_t']['events'][...]\n",
    "#a[0]\n",
    "d = np.matrix.transpose(a)\n",
    "print(\"shape of event list (p_x_y_n_id_t)\", d.shape)\n",
    "#alocate units to events and create seperate list for each parameter\n",
    "x_list = sc.array(dims=['x'], unit='m', values=d[1])\n",
    "y_list = sc.array(dims=['x'], unit='m', values=d[2])\n",
    "t_list = sc.array(dims=['x'], unit='s', values=d[5])\n",
    "id_list = sc.array(dims=['x'], unit=None, values=d[4], dtype='int64')\n",
    "#print(x_list.shape, y_list.shape, t_list.shape,id_list.shape)\n",
    "\n",
    "\n",
    "weights = sc.array(dims=['x'], unit='counts', values=d[0]) #change to integer for measured data\n",
    "# normalise neutron with the highest probability to set value\n",
    "weights = weights * (max_prop/weights.max()) #delete for actual data\n",
    "# weights = sc.ones_like(x_list)\n",
    "# weights.unit = 'counts'\n",
    "da = sc.DataArray(data=weights, coords={'x': x_list, 'y': y_list, 't': t_list, 'id': id_list})\n",
    "\n",
    "#make sure alll IDs are reconised:\n",
    "print(\"id min\",id_list.values.min())\n",
    "print(\"id max\",id_list.values.max())\n",
    "\n",
    "ids1 = sc.arange('id', 1, 1638401, unit=None)\n",
    "ids2 = sc.arange('id', 2000001, 3638401, unit=None)\n",
    "ids3 = sc.arange('id', 4000001, 5638401, unit=None)\n",
    "ids = sc.concat([ids1, ids2, ids3], 'id')\n",
    "#grouping by IDs\n",
    "da3 = da.group(ids).fold('id', sizes={'panel':3, 'id':-1})\n"
   ]
  },
  {
   "cell_type": "markdown",
   "metadata": {},
   "source": [
    "does the same as above but with a reading file that contains also wavelength record at the detector"
   ]
  },
  {
   "cell_type": "code",
   "execution_count": null,
   "metadata": {},
   "outputs": [],
   "source": [
    "%%time\n",
    "f = h5py.File(filename)\n",
    "a = f['entry1/data']['bank01_events_dat_list_p_x_y_n_id_t_L_L']['events'][...]\n",
    "#a[0]\n",
    "d = np.matrix.transpose(a)\n",
    "print(\"shape of event list (p_x_y_n_id_t)\", d.shape)\n",
    "#alocate units to events and create seperate list for each parameter\n",
    "x_list = sc.array(dims=['x'], unit='m', values=d[1])\n",
    "y_list = sc.array(dims=['x'], unit='m', values=d[2])\n",
    "t_list = sc.array(dims=['x'], unit='s', values=d[5])\n",
    "id_list = sc.array(dims=['x'], unit=None, values=d[4], dtype='int64')\n",
    "lam_list=sc.array(dims=['x'], unit='A', values=d[6])\n",
    "#print(x_list.shape, y_list.shape, t_list.shape,id_list.shape)\n",
    "\n",
    "#get evetns to seperated lists (x,y,t,id)\n",
    "#x_list.unit = 'm'\n",
    "#y_list.unit = 'm'\n",
    "#t_list.unit = 'ms'\n",
    "weights = sc.array(dims=['x'], unit='counts', values=d[0])\n",
    "weights = weights * (100000/weights.max())\n",
    "# weights = sc.ones_like(x_list)\n",
    "# weights.unit = 'counts'\n",
    "da = sc.DataArray(data=weights, coords={'x': x_list, 'y': y_list, 't': t_list, 'id': id_list, 'labda': lam_list})\n",
    "\n",
    "#make sure alll IDs are reconised:\n",
    "print(\"id min\",id_list.values.min())\n",
    "print(\"id max\",id_list.values.max())\n",
    "\n",
    "ids1 = sc.arange('id', 1, 1638401, unit=None)\n",
    "ids2 = sc.arange('id', 2000001, 3638401, unit=None)\n",
    "ids3 = sc.arange('id', 4000001, 5638401, unit=None)\n",
    "ids = sc.concat([ids1, ids2, ids3], 'id')\n",
    "#grouping by IDs\n",
    "da3 = da.group(ids).fold('id', sizes={'panel':3, 'id':-1})\n",
    "\n"
   ]
  },
  {
   "cell_type": "markdown",
   "metadata": {},
   "source": [
    "min and max time in the read in file"
   ]
  },
  {
   "cell_type": "code",
   "execution_count": 6,
   "metadata": {},
   "outputs": [
    {
     "name": "stdout",
     "output_type": "stream",
     "text": [
      "t min and t max <scipp.Variable> ()    float64              [s]  [0.0926507] <scipp.Variable> ()    float64              [s]  [0.1519]\n"
     ]
    }
   ],
   "source": [
    "print(\"t min and t max\",t_list.min(), t_list.max())"
   ]
  },
  {
   "cell_type": "code",
   "execution_count": null,
   "metadata": {},
   "outputs": [],
   "source": [
    "print(\"lambda min and labda max in A\",lam_list.min(), lam_list.max())"
   ]
  },
  {
   "attachments": {},
   "cell_type": "markdown",
   "metadata": {},
   "source": [
    "plotting the three detectors with changeable TOF component"
   ]
  },
  {
   "cell_type": "code",
   "execution_count": null,
   "metadata": {},
   "outputs": [],
   "source": [
    "#binning of each detector panel in t_step bins\n",
    "panel_0 = da3['panel',0].hist(t=t_step)\n",
    "panel_1 = da3['panel',1].hist(t=t_step)\n",
    "panel_2 = da3['panel',2].hist(t=t_step)\n",
    "\n",
    "p0 = pp.slicer(da3.fold('id', sizes={'ypix':pix, 'xpix':-1})['panel', 0].hist(t=t_step).transpose(['t','ypix','xpix']),vmax=panel_0.max().value, aspect='equal',title='panel 0')\n",
    "p1 = pp.slicer(da3.fold('id', sizes={'ypix':pix, 'xpix':-1})['panel', 1].hist(t=t_step).transpose(['t','ypix','xpix']),vmax=panel_1.max().value, aspect='equal',title='panel 1')\n",
    "p2 = pp.slicer(da3.fold('id', sizes={'ypix':pix, 'xpix':-1})['panel', 2].hist(t=t_step).transpose(['t','ypix','xpix']),vmax=panel_2.max().value, aspect='equal',title='panel 2')\n",
    "\n",
    "#p0.children[0].ax.set_ylim(1280, 0)\n",
    "#p1.children[0].ax.set_ylim(1280, 0)\n",
    "#p2.children[0].ax.set_ylim(1280, 0)\n",
    "\n",
    "p0.children[0].ax.set_xlim(1280, 0)\n",
    "p1.children[0].ax.set_xlim(1280, 0)\n",
    "\n",
    "p2.children[0].ax.set_xlim(1280, 0)\n",
    "\n",
    "l1 = ipw.jslink((p0.children[1].children[0].children[1], 'value'),\n",
    "               (p1.children[1].children[0].children[1], 'value'))\n",
    "l2 = ipw.jslink((p0.children[1].children[0].children[1], 'value'),\n",
    "               (p2.children[1].children[0].children[1], 'value'))\n",
    "Box([[p2, p0, p1]])"
   ]
  },
  {
   "cell_type": "markdown",
   "metadata": {},
   "source": [
    "grouping data of each pixel to prepare for time binning (these are the data that get used to write out)"
   ]
  },
  {
   "cell_type": "code",
   "execution_count": 7,
   "metadata": {},
   "outputs": [
    {
     "data": {
      "text/html": [
       "<div><!-- Original source from -->\n",
       "<!-- https://github.com/jsignell/xarray/blob/1d960933ab252e0f79f7e050e6c9261d55568057/xarray/static/html/icons-svg-inline.html -->\n",
       "<svg style=\"position: absolute; width: 0; height: 0; overflow: hidden\">\n",
       "<defs>\n",
       "<symbol id=\"icon-database\" viewBox=\"0 0 32 32\">\n",
       "<title>Show/Hide data repr</title>\n",
       "<path d=\"M16 0c-8.837 0-16 2.239-16 5v4c0 2.761 7.163 5 16 5s16-2.239 16-5v-4c0-2.761-7.163-5-16-5z\"></path>\n",
       "<path d=\"M16 17c-8.837 0-16-2.239-16-5v6c0 2.761 7.163 5 16 5s16-2.239 16-5v-6c0 2.761-7.163 5-16 5z\"></path>\n",
       "<path d=\"M16 26c-8.837 0-16-2.239-16-5v6c0 2.761 7.163 5 16 5s16-2.239 16-5v-6c0 2.761-7.163 5-16 5z\"></path>\n",
       "</symbol>\n",
       "<symbol id=\"icon-file-text2\" viewBox=\"0 0 32 32\">\n",
       "<title>Show/Hide attributes</title>\n",
       "<path d=\"M28.681 7.159c-0.694-0.947-1.662-2.053-2.724-3.116s-2.169-2.030-3.116-2.724c-1.612-1.182-2.393-1.319-2.841-1.319h-15.5c-1.378 0-2.5 1.121-2.5 2.5v27c0 1.378 1.122 2.5 2.5 2.5h23c1.378 0 2.5-1.122 2.5-2.5v-19.5c0-0.448-0.137-1.23-1.319-2.841zM24.543 5.457c0.959 0.959 1.712 1.825 2.268 2.543h-4.811v-4.811c0.718 0.556 1.584 1.309 2.543 2.268zM28 29.5c0 0.271-0.229 0.5-0.5 0.5h-23c-0.271 0-0.5-0.229-0.5-0.5v-27c0-0.271 0.229-0.5 0.5-0.5 0 0 15.499-0 15.5 0v7c0 0.552 0.448 1 1 1h7v19.5z\"></path>\n",
       "<path d=\"M23 26h-14c-0.552 0-1-0.448-1-1s0.448-1 1-1h14c0.552 0 1 0.448 1 1s-0.448 1-1 1z\"></path>\n",
       "<path d=\"M23 22h-14c-0.552 0-1-0.448-1-1s0.448-1 1-1h14c0.552 0 1 0.448 1 1s-0.448 1-1 1z\"></path>\n",
       "<path d=\"M23 18h-14c-0.552 0-1-0.448-1-1s0.448-1 1-1h14c0.552 0 1 0.448 1 1s-0.448 1-1 1z\"></path>\n",
       "</symbol>\n",
       "</defs>\n",
       "</svg><style id=\"scipp-style-sheet\">.sc-root{--sc-background-color0:var(--jp-layout-color0,#fff);--sc-background-color1:var(--jp-layout-color1,#fcfcfc);--sc-background-color2:var(--jp-layout-color2,#efefef);--sc-inverse-background-color0:var(--jp-inverse-layout-color4,#111);--sc-font-color0:var(--jp-content-font-color0,#000);--sc-font-color1:var(--jp-content-font-color1,#555);--sc-font-color2:var(--jp-content-font-color2,#888);--sc-font-color3:var(--jp-content-font-color3,#ccc);--sc-table-data-color:#f6d028;--sc-table-coords-color:#c6e590;--sc-table-masks-color:#c8c8c8;--sc-table-attrs-color:#ff5555;--sc-table-header-font-color:#111111;}.sc-wrap{font-size:14px;min-width:300px;max-width:800px;}.sc-var-attrs .sc-wrap{padding-left:3em;}.sc-header{padding-top:6px;padding-bottom:6px;margin-bottom:4px;border-bottom:solid 1px #ddd;}.sc-header > div,.sc-header > ul{display:inline;margin-top:0;margin-bottom:0;}.sc-obj-type,.sc-array-name{margin-left:2px;margin-right:10px;}.sc-obj-type{color:var(--sc-font-color1);}.sc-underlying-size{color:var(--sc-font-color2);}.sc-sections,.reveal .sc-sections{padding-left:0 !important;display:grid;grid-template-columns:150px auto auto auto 1fr 20px 20px;}.sc-section-item{display:contents;}.sc-section-item input{display:none;}.sc-section-item input:enabled + label{cursor:pointer;color:var(--sc-font-color1);}.sc-section-item input:enabled + label:hover{color:var(--sc-font-color0);}.sc-section-summary{grid-column:1;font-weight:500;}.sc-section-summary > span{display:inline-block;padding-left:0.5em;}.sc-section-summary-in:disabled + label{color:var(--sc-font-color1);}.sc-section-summary-in + label:before{display:inline-block;content:'►';font-size:11px;width:15px;text-align:center;}.sc-section-summary-in:disabled + label:before{color:var(--sc-font-color3);}.sc-section-summary-in:checked + label:before{content:'▼';}.sc-section-summary-in:checked + label > span{display:none;}.sc-section-summary,.sc-section-inline-details{padding-top:4px;padding-bottom:4px;}.sc-section-inline-details{grid-column:2 / 6;}.sc-section-details{display:none;grid-column:1 / -1;margin-bottom:5px;}.sc-section-summary-in:checked ~ .sc-section-details{display:contents;}.sc-array-wrap{grid-column:1 / -1;display:grid;grid-template-columns:20px auto;}.sc-array-wrap > label{grid-column:1;vertical-align:top;}.sc-preview{color:var(--sc-font-color2);}.sc-array-preview,.sc-array-data{padding:0 5px !important;grid-column:2;}.sc-array-data,.sc-array-in:checked ~ .sc-array-preview{display:none;}.sc-array-in:checked ~ .sc-array-data,.sc-array-preview{display:inline-block;}.sc-dim-list{display:inline-block !important;list-style:none;padding:0 !important;margin:0;}.sc-dim-list li{display:inline-block;padding:0;margin:0!important;}.sc-dim-list:before{content:'(';}.sc-dim-list:after{content:')';}.sc-dim-list li:not(:last-child):after{content:',';padding-right:5px;}.sc-has-index{font-weight:bold;}.sc-var-list,.sc-var-item,.reveal .sc-var-list,.reveal .sc-var-item{display:contents;}.sc-var-item > div,.sc-var-item label,.sc-var-item > .sc-var-name span{background-color:var(--sc-background-color1);margin-bottom:0;}.sc-var-item > .sc-var-name:hover span{padding-right:5px;}.sc-var-list > li:nth-child(odd) > div,.sc-var-list > li:nth-child(odd) > label,.sc-var-list > li:nth-child(odd) > .sc-var-name span{background-color:var(--sc-background-color2);}.sc-var-name{grid-column:1;}.sc-var-dims{grid-column:2;}.sc-var-dtype{grid-column:3;text-align:right;color:var(--sc-font-color2);}.sc-var-unit{grid-column:4;text-align:left;color:var(--sc-font-color1);max-width:50pt;text-overflow:ellipsis;}.sc-value-preview{grid-column:5;}.sc-var-preview-variances{text-align:right;}.sc-sections .sc-section-item .sc-section-summary,.sc-sections .sc-section-item .sc-section-inline-details,.sc-section-item .sc-var-list .sc-var-item > div,.sc-section-item .sc-var-list .sc-var-item > label,.sc-section-details .sc-var-list .sc-var-item > div,.sc-section-details .sc-var-list .sc-var-item > label{margin-top:0;margin-bottom:0;}.sc-var-name,.sc-var-dims,.sc-var-dtype,.sc-var-unit,.sc-preview,.sc-attrs dt{white-space:nowrap;overflow:hidden;text-overflow:ellipsis;padding-right:10px;}.sc-var-name:hover,.sc-var-dims:hover,.sc-var-dtype:hover,.sc-var-unit:hover,.sc-attrs dt:hover{overflow:visible;width:auto;z-index:1;}.sc-var-attrs{display:block;}.sc-var-data,.reveal .sc-var-data{display:none;}.sc-var-attrs,.sc-var-data{background-color:var(--sc-background-color0) !important;padding-bottom:5px !important;}.sc-var-attrs-in:checked ~ .sc-var-attrs{display:none;}.sc-var-data-in:checked ~ .sc-var-data{display:block;}.sc-var-data > table{float:right;}.sc-var-name span,.sc-var-data{padding-left:25px !important;}.sc-var-attrs,.sc-var-data{grid-column:1 / -1;}dl.sc-attrs{padding:0;margin:0;display:grid;grid-template-columns:125px auto;}.sc-attrs dt,dd{padding:0;margin:0;float:left;padding-right:10px;width:auto;}.sc-attrs dt{font-weight:normal;grid-column:1;}.sc-attrs dt:hover span{display:inline-block;padding-right:10px;}.sc-attrs dd{grid-column:2;white-space:pre-wrap;word-break:break-all;}.sc-icon-database,.sc-icon-file-text2{display:inline-block;vertical-align:middle;width:1em;height:1.5em !important;stroke-width:0;stroke:currentColor;fill:currentColor;}label.sc-hide-icon svg{opacity:0;}.sc-standalone-var-name{grid-column:1/3;}.sc-standalone-var-name span{padding-left:25px;padding-right:10px;}.sc-table{border-collapse:collapse;}.sc-title{font-weight:bold;font-size:1.5em;}.sc-subtitle{font-weight:normal;font-style:italic;text-align:left;font-size:1.2em;padding:1px;}.sc-table th,.sc-table td{border:1px solid var(--sc-inverse-background-color0);padding:0 5px 0 5px;}.sc-table th{text-align:center;}.sc-table tr{background-color:var(--sc-background-color1);text-align:right;}.sc-table tr:hover{background-color:var(--sc-background-color2);}.sc-table th.sc-data{background-color:var(--sc-table-data-color);color:var(--sc-table-header-font-color);}.sc-table th.sc-coords{background-color:var(--sc-table-coords-color);color:var(--sc-table-header-font-color);}.sc-table th.sc-masks{background-color:var(--sc-table-masks-color);color:var(--sc-table-header-font-color);}.sc-table th.sc-attrs{background-color:var(--sc-table-attrs-color);color:var(--sc-table-header-font-color);}.sc-table th.sc-subheader{background-color:var(--sc-background-color2);}.sc-table td.sc-padding{background-color:var(--sc-background-color1);border:0 solid var(--sc-background-color1);height:1.2em;}.sc-label{fill:var(--sc-font-color0,#444444);text-anchor:middle;}.sc-name{fill:var(--sc-font-color0,#111111);}.sc-inset-line{stroke:var(--sc-font-color1);stroke-width:0.05;stroke-dasharray:0.2,0.2;}.sc-log-wrap{height:25ex;resize:vertical;overflow-y:scroll;display:flex;flex-direction:column-reverse;border:1px solid;border-color:var(--jp-border-color2);background-color:var(--sc-background-color1);}div.sc-log{line-height:2.5ex;}table.sc-log{table-layout:auto;border-collapse:collapse;}tr.sc-log:nth-child(even){background-color:var(--sc-background-color0);}tr.sc-log > td{vertical-align:top;padding-bottom:0.5ex;}.sc-log-time-stamp{min-width:22ch;font-family:var(--jp-code-font-family);color:var(--sc-font-color2);}.sc-log-level{min-width:10ch;}tr.sc-log-debug td.sc-log-level{color:var(--jp-accent-color1);}tr.sc-log-info td.sc-log-level{color:var(--jp-info-color1);}tr.sc-log-warning td.sc-log-level{color:var(--jp-warn-color1);}tr.sc-log-error td.sc-log-level{font-weight:bold;color:var(--jp-error-color2);}tr.sc-log-critical td.sc-log-level{font-weight:bold;color:var(--sc-background-color0);background-color:var(--jp-error-color1);}.sc-log-message{white-space:pre-wrap;width:100%;}.sc-log-html-payload{white-space:normal;}.sc-log-name{padding-right:0.5em;text-align:right;white-space:pre-wrap;color:var(--sc-font-color3);}</style><div class='sc-wrap sc-root'><div class='sc-header'><div class='sc-obj-type'>scipp.DataArray (4.52 GB)</div></div><ul class='sc-sections'><li class='sc-section-item'><input id='section-a49a3cb5-d761-41de-9857-8376c6548470' class='sc-section-summary-in' type='checkbox' disabled ><label for='section-a49a3cb5-d761-41de-9857-8376c6548470' class='sc-section-summary'  title='Expand/collapse section'>Dimensions:</label><div class='sc-section-inline-details'><ul class='sc-dim-list'><li><span class='sc-has-index'>id</span>: 4915200</li></ul></div><div class='sc-section-details'></div></li><li class='sc-section-item'><input id='section-2e7b17ca-cd79-45fd-a92b-6bbe71d0f919' class='sc-section-summary-in' type='checkbox'  checked><label for='section-2e7b17ca-cd79-45fd-a92b-6bbe71d0f919' class='sc-section-summary' >Coordinates: <span>(1)</span></label><div class='sc-section-inline-details'></div><div class='sc-section-details'><ul class='sc-var-list'><li class='sc-var-item'><div class='sc-var-name'><span class='sc-has-index'>id</span></div><div class='sc-var-dims'>(id)</div><div class='sc-var-dtype'>int64</div><div class='sc-var-unit'></div><div class='sc-value-preview sc-preview'><span><div>1, 2, ..., 5638399, 5638400</div></span></div><input id='attrs-1d12c236-4b83-40a8-af14-41258aae7c02' class='sc-var-attrs-in' type='checkbox' disabled><label for='attrs-1d12c236-4b83-40a8-af14-41258aae7c02' class='sc-hide-icon' title='Show/Hide attributes'><svg class='icon sc-icon-file-text2'><use xlink:href='#icon-file-text2'></use></svg></label><input id='data-18238f45-770f-4c70-9e6e-5861d0501f49' class='sc-var-data-in' type='checkbox'><label for='data-18238f45-770f-4c70-9e6e-5861d0501f49' title='Show/Hide data repr'><svg class='icon sc-icon-database'><use xlink:href='#icon-database'></use></svg></label><pre class='sc-var-data'>Values:<br>array([      1,       2,       3, ..., 5638398, 5638399, 5638400])</pre></span></li></ul></div></li><li class='sc-section-item'><input id='section-16df930b-5bdd-4642-8d02-816dc269418b' class='sc-section-summary-in' type='checkbox'  checked><label for='section-16df930b-5bdd-4642-8d02-816dc269418b' class='sc-section-summary' >Data: <span>(1)</span></label><div class='sc-section-inline-details'></div><div class='sc-section-details'><ul class='sc-var-list'><li class='sc-var-item'><div class='sc-var-name'><span></span></div><div class='sc-var-dims'>(id)</div><div class='sc-var-dtype'>DataArrayView</div><div class='sc-var-unit'></div><div class='sc-value-preview sc-preview'><span><div>binned data [len=16, len=12, ..., len=12, len=0]</div></span></div><input id='attrs-215e28a0-1c8e-4d26-9c6c-ba8a63cc1fd7' class='sc-var-attrs-in' type='checkbox' disabled><label for='attrs-215e28a0-1c8e-4d26-9c6c-ba8a63cc1fd7' class='sc-hide-icon' title='Show/Hide attributes'><svg class='icon sc-icon-file-text2'><use xlink:href='#icon-file-text2'></use></svg></label><input id='data-e4c5fa38-f86a-4a67-9a5b-8e4c64603290' class='sc-var-data-in' type='checkbox'><label for='data-e4c5fa38-f86a-4a67-9a5b-8e4c64603290' title='Show/Hide data repr'><svg class='icon sc-icon-database'><use xlink:href='#icon-database'></use></svg></label><pre class='sc-var-data'>dim=&#x27;x&#x27;,\n",
       "content=DataArray(\n",
       "          dims=(x: 148001712),\n",
       "          data=float64[dimensionless],\n",
       "          coords={&#x27;x&#x27;:float64[m], &#x27;y&#x27;:float64[m], &#x27;t&#x27;:float64[s]})</pre></li></ul></div></li></ul></div></div>"
      ],
      "text/plain": [
       "<scipp.DataArray>\n",
       "Dimensions: Sizes[id:4915200, ]\n",
       "Coordinates:\n",
       "  id                          int64        <no unit>  (id)  [1, 2, ..., 5638399, 5638400]\n",
       "Data:\n",
       "                          DataArrayView        <no unit>  (id)  binned data: dim='x', content=DataArray(\n",
       "          dims=(x: 148001712),\n",
       "          data=float64[dimensionless],\n",
       "          coords={'x':float64[m], 'y':float64[m], 't':float64[s]})\n"
      ]
     },
     "execution_count": 7,
     "metadata": {},
     "output_type": "execute_result"
    }
   ],
   "source": [
    "grouped = da.group(ids)\n",
    "grouped"
   ]
  },
  {
   "cell_type": "markdown",
   "metadata": {},
   "source": [
    "\n",
    "binning data in a predefined number of time binns"
   ]
  },
  {
   "cell_type": "code",
   "execution_count": 18,
   "metadata": {},
   "outputs": [
    {
     "data": {
      "text/html": [
       "<div><!-- Original source from -->\n",
       "<!-- https://github.com/jsignell/xarray/blob/1d960933ab252e0f79f7e050e6c9261d55568057/xarray/static/html/icons-svg-inline.html -->\n",
       "<svg style=\"position: absolute; width: 0; height: 0; overflow: hidden\">\n",
       "<defs>\n",
       "<symbol id=\"icon-database\" viewBox=\"0 0 32 32\">\n",
       "<title>Show/Hide data repr</title>\n",
       "<path d=\"M16 0c-8.837 0-16 2.239-16 5v4c0 2.761 7.163 5 16 5s16-2.239 16-5v-4c0-2.761-7.163-5-16-5z\"></path>\n",
       "<path d=\"M16 17c-8.837 0-16-2.239-16-5v6c0 2.761 7.163 5 16 5s16-2.239 16-5v-6c0 2.761-7.163 5-16 5z\"></path>\n",
       "<path d=\"M16 26c-8.837 0-16-2.239-16-5v6c0 2.761 7.163 5 16 5s16-2.239 16-5v-6c0 2.761-7.163 5-16 5z\"></path>\n",
       "</symbol>\n",
       "<symbol id=\"icon-file-text2\" viewBox=\"0 0 32 32\">\n",
       "<title>Show/Hide attributes</title>\n",
       "<path d=\"M28.681 7.159c-0.694-0.947-1.662-2.053-2.724-3.116s-2.169-2.030-3.116-2.724c-1.612-1.182-2.393-1.319-2.841-1.319h-15.5c-1.378 0-2.5 1.121-2.5 2.5v27c0 1.378 1.122 2.5 2.5 2.5h23c1.378 0 2.5-1.122 2.5-2.5v-19.5c0-0.448-0.137-1.23-1.319-2.841zM24.543 5.457c0.959 0.959 1.712 1.825 2.268 2.543h-4.811v-4.811c0.718 0.556 1.584 1.309 2.543 2.268zM28 29.5c0 0.271-0.229 0.5-0.5 0.5h-23c-0.271 0-0.5-0.229-0.5-0.5v-27c0-0.271 0.229-0.5 0.5-0.5 0 0 15.499-0 15.5 0v7c0 0.552 0.448 1 1 1h7v19.5z\"></path>\n",
       "<path d=\"M23 26h-14c-0.552 0-1-0.448-1-1s0.448-1 1-1h14c0.552 0 1 0.448 1 1s-0.448 1-1 1z\"></path>\n",
       "<path d=\"M23 22h-14c-0.552 0-1-0.448-1-1s0.448-1 1-1h14c0.552 0 1 0.448 1 1s-0.448 1-1 1z\"></path>\n",
       "<path d=\"M23 18h-14c-0.552 0-1-0.448-1-1s0.448-1 1-1h14c0.552 0 1 0.448 1 1s-0.448 1-1 1z\"></path>\n",
       "</symbol>\n",
       "</defs>\n",
       "</svg><style id=\"scipp-style-sheet\">.sc-root{--sc-background-color0:var(--jp-layout-color0,#fff);--sc-background-color1:var(--jp-layout-color1,#fcfcfc);--sc-background-color2:var(--jp-layout-color2,#efefef);--sc-inverse-background-color0:var(--jp-inverse-layout-color4,#111);--sc-font-color0:var(--jp-content-font-color0,#000);--sc-font-color1:var(--jp-content-font-color1,#555);--sc-font-color2:var(--jp-content-font-color2,#888);--sc-font-color3:var(--jp-content-font-color3,#ccc);--sc-table-data-color:#f6d028;--sc-table-coords-color:#c6e590;--sc-table-masks-color:#c8c8c8;--sc-table-attrs-color:#ff5555;--sc-table-header-font-color:#111111;}.sc-wrap{font-size:14px;min-width:300px;max-width:800px;}.sc-var-attrs .sc-wrap{padding-left:3em;}.sc-header{padding-top:6px;padding-bottom:6px;margin-bottom:4px;border-bottom:solid 1px #ddd;}.sc-header > div,.sc-header > ul{display:inline;margin-top:0;margin-bottom:0;}.sc-obj-type,.sc-array-name{margin-left:2px;margin-right:10px;}.sc-obj-type{color:var(--sc-font-color1);}.sc-underlying-size{color:var(--sc-font-color2);}.sc-sections,.reveal .sc-sections{padding-left:0 !important;display:grid;grid-template-columns:150px auto auto auto 1fr 20px 20px;}.sc-section-item{display:contents;}.sc-section-item input{display:none;}.sc-section-item input:enabled + label{cursor:pointer;color:var(--sc-font-color1);}.sc-section-item input:enabled + label:hover{color:var(--sc-font-color0);}.sc-section-summary{grid-column:1;font-weight:500;}.sc-section-summary > span{display:inline-block;padding-left:0.5em;}.sc-section-summary-in:disabled + label{color:var(--sc-font-color1);}.sc-section-summary-in + label:before{display:inline-block;content:'►';font-size:11px;width:15px;text-align:center;}.sc-section-summary-in:disabled + label:before{color:var(--sc-font-color3);}.sc-section-summary-in:checked + label:before{content:'▼';}.sc-section-summary-in:checked + label > span{display:none;}.sc-section-summary,.sc-section-inline-details{padding-top:4px;padding-bottom:4px;}.sc-section-inline-details{grid-column:2 / 6;}.sc-section-details{display:none;grid-column:1 / -1;margin-bottom:5px;}.sc-section-summary-in:checked ~ .sc-section-details{display:contents;}.sc-array-wrap{grid-column:1 / -1;display:grid;grid-template-columns:20px auto;}.sc-array-wrap > label{grid-column:1;vertical-align:top;}.sc-preview{color:var(--sc-font-color2);}.sc-array-preview,.sc-array-data{padding:0 5px !important;grid-column:2;}.sc-array-data,.sc-array-in:checked ~ .sc-array-preview{display:none;}.sc-array-in:checked ~ .sc-array-data,.sc-array-preview{display:inline-block;}.sc-dim-list{display:inline-block !important;list-style:none;padding:0 !important;margin:0;}.sc-dim-list li{display:inline-block;padding:0;margin:0!important;}.sc-dim-list:before{content:'(';}.sc-dim-list:after{content:')';}.sc-dim-list li:not(:last-child):after{content:',';padding-right:5px;}.sc-has-index{font-weight:bold;}.sc-var-list,.sc-var-item,.reveal .sc-var-list,.reveal .sc-var-item{display:contents;}.sc-var-item > div,.sc-var-item label,.sc-var-item > .sc-var-name span{background-color:var(--sc-background-color1);margin-bottom:0;}.sc-var-item > .sc-var-name:hover span{padding-right:5px;}.sc-var-list > li:nth-child(odd) > div,.sc-var-list > li:nth-child(odd) > label,.sc-var-list > li:nth-child(odd) > .sc-var-name span{background-color:var(--sc-background-color2);}.sc-var-name{grid-column:1;}.sc-var-dims{grid-column:2;}.sc-var-dtype{grid-column:3;text-align:right;color:var(--sc-font-color2);}.sc-var-unit{grid-column:4;text-align:left;color:var(--sc-font-color1);max-width:50pt;text-overflow:ellipsis;}.sc-value-preview{grid-column:5;}.sc-var-preview-variances{text-align:right;}.sc-sections .sc-section-item .sc-section-summary,.sc-sections .sc-section-item .sc-section-inline-details,.sc-section-item .sc-var-list .sc-var-item > div,.sc-section-item .sc-var-list .sc-var-item > label,.sc-section-details .sc-var-list .sc-var-item > div,.sc-section-details .sc-var-list .sc-var-item > label{margin-top:0;margin-bottom:0;}.sc-var-name,.sc-var-dims,.sc-var-dtype,.sc-var-unit,.sc-preview,.sc-attrs dt{white-space:nowrap;overflow:hidden;text-overflow:ellipsis;padding-right:10px;}.sc-var-name:hover,.sc-var-dims:hover,.sc-var-dtype:hover,.sc-var-unit:hover,.sc-attrs dt:hover{overflow:visible;width:auto;z-index:1;}.sc-var-attrs{display:block;}.sc-var-data,.reveal .sc-var-data{display:none;}.sc-var-attrs,.sc-var-data{background-color:var(--sc-background-color0) !important;padding-bottom:5px !important;}.sc-var-attrs-in:checked ~ .sc-var-attrs{display:none;}.sc-var-data-in:checked ~ .sc-var-data{display:block;}.sc-var-data > table{float:right;}.sc-var-name span,.sc-var-data{padding-left:25px !important;}.sc-var-attrs,.sc-var-data{grid-column:1 / -1;}dl.sc-attrs{padding:0;margin:0;display:grid;grid-template-columns:125px auto;}.sc-attrs dt,dd{padding:0;margin:0;float:left;padding-right:10px;width:auto;}.sc-attrs dt{font-weight:normal;grid-column:1;}.sc-attrs dt:hover span{display:inline-block;padding-right:10px;}.sc-attrs dd{grid-column:2;white-space:pre-wrap;word-break:break-all;}.sc-icon-database,.sc-icon-file-text2{display:inline-block;vertical-align:middle;width:1em;height:1.5em !important;stroke-width:0;stroke:currentColor;fill:currentColor;}label.sc-hide-icon svg{opacity:0;}.sc-standalone-var-name{grid-column:1/3;}.sc-standalone-var-name span{padding-left:25px;padding-right:10px;}.sc-table{border-collapse:collapse;}.sc-title{font-weight:bold;font-size:1.5em;}.sc-subtitle{font-weight:normal;font-style:italic;text-align:left;font-size:1.2em;padding:1px;}.sc-table th,.sc-table td{border:1px solid var(--sc-inverse-background-color0);padding:0 5px 0 5px;}.sc-table th{text-align:center;}.sc-table tr{background-color:var(--sc-background-color1);text-align:right;}.sc-table tr:hover{background-color:var(--sc-background-color2);}.sc-table th.sc-data{background-color:var(--sc-table-data-color);color:var(--sc-table-header-font-color);}.sc-table th.sc-coords{background-color:var(--sc-table-coords-color);color:var(--sc-table-header-font-color);}.sc-table th.sc-masks{background-color:var(--sc-table-masks-color);color:var(--sc-table-header-font-color);}.sc-table th.sc-attrs{background-color:var(--sc-table-attrs-color);color:var(--sc-table-header-font-color);}.sc-table th.sc-subheader{background-color:var(--sc-background-color2);}.sc-table td.sc-padding{background-color:var(--sc-background-color1);border:0 solid var(--sc-background-color1);height:1.2em;}.sc-label{fill:var(--sc-font-color0,#444444);text-anchor:middle;}.sc-name{fill:var(--sc-font-color0,#111111);}.sc-inset-line{stroke:var(--sc-font-color1);stroke-width:0.05;stroke-dasharray:0.2,0.2;}.sc-log-wrap{height:25ex;resize:vertical;overflow-y:scroll;display:flex;flex-direction:column-reverse;border:1px solid;border-color:var(--jp-border-color2);background-color:var(--sc-background-color1);}div.sc-log{line-height:2.5ex;}table.sc-log{table-layout:auto;border-collapse:collapse;}tr.sc-log:nth-child(even){background-color:var(--sc-background-color0);}tr.sc-log > td{vertical-align:top;padding-bottom:0.5ex;}.sc-log-time-stamp{min-width:22ch;font-family:var(--jp-code-font-family);color:var(--sc-font-color2);}.sc-log-level{min-width:10ch;}tr.sc-log-debug td.sc-log-level{color:var(--jp-accent-color1);}tr.sc-log-info td.sc-log-level{color:var(--jp-info-color1);}tr.sc-log-warning td.sc-log-level{color:var(--jp-warn-color1);}tr.sc-log-error td.sc-log-level{font-weight:bold;color:var(--jp-error-color2);}tr.sc-log-critical td.sc-log-level{font-weight:bold;color:var(--sc-background-color0);background-color:var(--jp-error-color1);}.sc-log-message{white-space:pre-wrap;width:100%;}.sc-log-html-payload{white-space:normal;}.sc-log-name{padding-right:0.5em;text-align:right;white-space:pre-wrap;color:var(--sc-font-color3);}</style><div class='sc-wrap sc-root'><div class='sc-header'><div class='sc-obj-type'>scipp.DataArray (225.00 MB)</div></div><ul class='sc-sections'><li class='sc-section-item'><input id='section-9d7521d0-f39f-4781-967f-029c7def3a25' class='sc-section-summary-in' type='checkbox' disabled ><label for='section-9d7521d0-f39f-4781-967f-029c7def3a25' class='sc-section-summary'  title='Expand/collapse section'>Dimensions:</label><div class='sc-section-inline-details'><ul class='sc-dim-list'><li><span class='sc-has-index'>id</span>: 4915200</li><li><span class='sc-has-index'>t</span>: 5</li></ul></div><div class='sc-section-details'></div></li><li class='sc-section-item'><input id='section-48fb69b6-79ce-4923-9f81-cb60dc93e888' class='sc-section-summary-in' type='checkbox'  checked><label for='section-48fb69b6-79ce-4923-9f81-cb60dc93e888' class='sc-section-summary' >Coordinates: <span>(2)</span></label><div class='sc-section-inline-details'></div><div class='sc-section-details'><ul class='sc-var-list'><li class='sc-var-item'><div class='sc-var-name'><span class='sc-has-index'>id</span></div><div class='sc-var-dims'>(id)</div><div class='sc-var-dtype'>int64</div><div class='sc-var-unit'></div><div class='sc-value-preview sc-preview'><span><div>1, 2, ..., 5638399, 5638400</div></span></div><input id='attrs-c0b0a98c-08b5-4f21-ac5e-eb64d641c8de' class='sc-var-attrs-in' type='checkbox' disabled><label for='attrs-c0b0a98c-08b5-4f21-ac5e-eb64d641c8de' class='sc-hide-icon' title='Show/Hide attributes'><svg class='icon sc-icon-file-text2'><use xlink:href='#icon-file-text2'></use></svg></label><input id='data-f057a46d-cbfc-44d0-8c5b-95af68799e66' class='sc-var-data-in' type='checkbox'><label for='data-f057a46d-cbfc-44d0-8c5b-95af68799e66' title='Show/Hide data repr'><svg class='icon sc-icon-database'><use xlink:href='#icon-database'></use></svg></label><pre class='sc-var-data'>Values:<br>array([      1,       2,       3, ..., 5638398, 5638399, 5638400])</pre></span></li><li class='sc-var-item'><div class='sc-var-name'><span class='sc-has-index'>t</span></div><div class='sc-var-dims'>(t [bin-edge])</div><div class='sc-var-dtype'>float64</div><div class='sc-var-unit'>s</div><div class='sc-value-preview sc-preview'><span><div>0.093, 0.105, ..., 0.140, 0.152</div></span></div><input id='attrs-3398693c-fae4-4e34-a959-6b2f7b37d85a' class='sc-var-attrs-in' type='checkbox' disabled><label for='attrs-3398693c-fae4-4e34-a959-6b2f7b37d85a' class='sc-hide-icon' title='Show/Hide attributes'><svg class='icon sc-icon-file-text2'><use xlink:href='#icon-file-text2'></use></svg></label><input id='data-2ab90d1d-9a15-459d-8606-012173ae71f0' class='sc-var-data-in' type='checkbox'><label for='data-2ab90d1d-9a15-459d-8606-012173ae71f0' title='Show/Hide data repr'><svg class='icon sc-icon-database'><use xlink:href='#icon-database'></use></svg></label><pre class='sc-var-data'>Values:<br>array([0.09265069, 0.10450055, 0.1163504 , 0.12820025, 0.1400501 ,\n",
       "       0.15189996])</pre></span></li></ul></div></li><li class='sc-section-item'><input id='section-c5486fb6-4393-4b6b-9e98-bf514d3adc7d' class='sc-section-summary-in' type='checkbox'  checked><label for='section-c5486fb6-4393-4b6b-9e98-bf514d3adc7d' class='sc-section-summary' >Data: <span>(1)</span></label><div class='sc-section-inline-details'></div><div class='sc-section-details'><ul class='sc-var-list'><li class='sc-var-item'><div class='sc-var-name'><span></span></div><div class='sc-var-dims'>(id, t)</div><div class='sc-var-dtype'>float64</div><div class='sc-var-unit'>𝟙</div><div class='sc-value-preview sc-preview'><span><div>0.0, 8741.094, ..., 0.0, 0.0</div></span></div><input id='attrs-67d0ec82-6466-4797-8dfb-f69ad1499ed3' class='sc-var-attrs-in' type='checkbox' disabled><label for='attrs-67d0ec82-6466-4797-8dfb-f69ad1499ed3' class='sc-hide-icon' title='Show/Hide attributes'><svg class='icon sc-icon-file-text2'><use xlink:href='#icon-file-text2'></use></svg></label><input id='data-b9365b9a-b74f-4c1b-97ff-4b8a855b169f' class='sc-var-data-in' type='checkbox'><label for='data-b9365b9a-b74f-4c1b-97ff-4b8a855b169f' title='Show/Hide data repr'><svg class='icon sc-icon-database'><use xlink:href='#icon-database'></use></svg></label><pre class='sc-var-data'>Values:<br>array([[0.00000000e+00, 8.74109437e+03, 2.21598517e+04, 1.17131392e+04,\n",
       "        1.03290797e+04],\n",
       "       [0.00000000e+00, 2.00839164e+04, 7.45983981e+03, 7.58508479e+03,\n",
       "        0.00000000e+00],\n",
       "       [0.00000000e+00, 7.50767557e-01, 6.97328636e+03, 2.06015584e+03,\n",
       "        0.00000000e+00],\n",
       "       ...,\n",
       "       [0.00000000e+00, 6.27645578e+00, 9.08196302e+03, 0.00000000e+00,\n",
       "        0.00000000e+00],\n",
       "       [8.73308454e-05, 8.75695077e+03, 9.64984883e+03, 9.79748074e+02,\n",
       "        0.00000000e+00],\n",
       "       [0.00000000e+00, 0.00000000e+00, 0.00000000e+00, 0.00000000e+00,\n",
       "        0.00000000e+00]])</pre></li></ul></div></li></ul></div></div>"
      ],
      "text/plain": [
       "<scipp.DataArray>\n",
       "Dimensions: Sizes[id:4915200, t:5, ]\n",
       "Coordinates:\n",
       "  id                          int64        <no unit>  (id)  [1, 2, ..., 5638399, 5638400]\n",
       "  t                         float64              [s]  (t [bin-edge])  [0.0926507, 0.104501, ..., 0.14005, 0.1519]\n",
       "Data:\n",
       "                            float64  [dimensionless]  (id, t)  [0, 8741.09, ..., 0, 0]\n"
      ]
     },
     "execution_count": 18,
     "metadata": {},
     "output_type": "execute_result"
    }
   ],
   "source": [
    "group_t = grouped.hist(t=t_step)\n",
    "group_t"
   ]
  },
  {
   "cell_type": "markdown",
   "metadata": {},
   "source": [
    "needed functions to define instrument geometry"
   ]
  },
  {
   "cell_type": "code",
   "execution_count": 13,
   "metadata": {},
   "outputs": [
    {
     "data": {
      "text/html": [
       "<div><!-- Original source from -->\n",
       "<!-- https://github.com/jsignell/xarray/blob/1d960933ab252e0f79f7e050e6c9261d55568057/xarray/static/html/icons-svg-inline.html -->\n",
       "<svg style=\"position: absolute; width: 0; height: 0; overflow: hidden\">\n",
       "<defs>\n",
       "<symbol id=\"icon-database\" viewBox=\"0 0 32 32\">\n",
       "<title>Show/Hide data repr</title>\n",
       "<path d=\"M16 0c-8.837 0-16 2.239-16 5v4c0 2.761 7.163 5 16 5s16-2.239 16-5v-4c0-2.761-7.163-5-16-5z\"></path>\n",
       "<path d=\"M16 17c-8.837 0-16-2.239-16-5v6c0 2.761 7.163 5 16 5s16-2.239 16-5v-6c0 2.761-7.163 5-16 5z\"></path>\n",
       "<path d=\"M16 26c-8.837 0-16-2.239-16-5v6c0 2.761 7.163 5 16 5s16-2.239 16-5v-6c0 2.761-7.163 5-16 5z\"></path>\n",
       "</symbol>\n",
       "<symbol id=\"icon-file-text2\" viewBox=\"0 0 32 32\">\n",
       "<title>Show/Hide attributes</title>\n",
       "<path d=\"M28.681 7.159c-0.694-0.947-1.662-2.053-2.724-3.116s-2.169-2.030-3.116-2.724c-1.612-1.182-2.393-1.319-2.841-1.319h-15.5c-1.378 0-2.5 1.121-2.5 2.5v27c0 1.378 1.122 2.5 2.5 2.5h23c1.378 0 2.5-1.122 2.5-2.5v-19.5c0-0.448-0.137-1.23-1.319-2.841zM24.543 5.457c0.959 0.959 1.712 1.825 2.268 2.543h-4.811v-4.811c0.718 0.556 1.584 1.309 2.543 2.268zM28 29.5c0 0.271-0.229 0.5-0.5 0.5h-23c-0.271 0-0.5-0.229-0.5-0.5v-27c0-0.271 0.229-0.5 0.5-0.5 0 0 15.499-0 15.5 0v7c0 0.552 0.448 1 1 1h7v19.5z\"></path>\n",
       "<path d=\"M23 26h-14c-0.552 0-1-0.448-1-1s0.448-1 1-1h14c0.552 0 1 0.448 1 1s-0.448 1-1 1z\"></path>\n",
       "<path d=\"M23 22h-14c-0.552 0-1-0.448-1-1s0.448-1 1-1h14c0.552 0 1 0.448 1 1s-0.448 1-1 1z\"></path>\n",
       "<path d=\"M23 18h-14c-0.552 0-1-0.448-1-1s0.448-1 1-1h14c0.552 0 1 0.448 1 1s-0.448 1-1 1z\"></path>\n",
       "</symbol>\n",
       "</defs>\n",
       "</svg><style id=\"scipp-style-sheet\">.sc-root{--sc-background-color0:var(--jp-layout-color0,#fff);--sc-background-color1:var(--jp-layout-color1,#fcfcfc);--sc-background-color2:var(--jp-layout-color2,#efefef);--sc-inverse-background-color0:var(--jp-inverse-layout-color4,#111);--sc-font-color0:var(--jp-content-font-color0,#000);--sc-font-color1:var(--jp-content-font-color1,#555);--sc-font-color2:var(--jp-content-font-color2,#888);--sc-font-color3:var(--jp-content-font-color3,#ccc);--sc-table-data-color:#f6d028;--sc-table-coords-color:#c6e590;--sc-table-masks-color:#c8c8c8;--sc-table-attrs-color:#ff5555;--sc-table-header-font-color:#111111;}.sc-wrap{font-size:14px;min-width:300px;max-width:800px;}.sc-var-attrs .sc-wrap{padding-left:3em;}.sc-header{padding-top:6px;padding-bottom:6px;margin-bottom:4px;border-bottom:solid 1px #ddd;}.sc-header > div,.sc-header > ul{display:inline;margin-top:0;margin-bottom:0;}.sc-obj-type,.sc-array-name{margin-left:2px;margin-right:10px;}.sc-obj-type{color:var(--sc-font-color1);}.sc-underlying-size{color:var(--sc-font-color2);}.sc-sections,.reveal .sc-sections{padding-left:0 !important;display:grid;grid-template-columns:150px auto auto auto 1fr 20px 20px;}.sc-section-item{display:contents;}.sc-section-item input{display:none;}.sc-section-item input:enabled + label{cursor:pointer;color:var(--sc-font-color1);}.sc-section-item input:enabled + label:hover{color:var(--sc-font-color0);}.sc-section-summary{grid-column:1;font-weight:500;}.sc-section-summary > span{display:inline-block;padding-left:0.5em;}.sc-section-summary-in:disabled + label{color:var(--sc-font-color1);}.sc-section-summary-in + label:before{display:inline-block;content:'►';font-size:11px;width:15px;text-align:center;}.sc-section-summary-in:disabled + label:before{color:var(--sc-font-color3);}.sc-section-summary-in:checked + label:before{content:'▼';}.sc-section-summary-in:checked + label > span{display:none;}.sc-section-summary,.sc-section-inline-details{padding-top:4px;padding-bottom:4px;}.sc-section-inline-details{grid-column:2 / 6;}.sc-section-details{display:none;grid-column:1 / -1;margin-bottom:5px;}.sc-section-summary-in:checked ~ .sc-section-details{display:contents;}.sc-array-wrap{grid-column:1 / -1;display:grid;grid-template-columns:20px auto;}.sc-array-wrap > label{grid-column:1;vertical-align:top;}.sc-preview{color:var(--sc-font-color2);}.sc-array-preview,.sc-array-data{padding:0 5px !important;grid-column:2;}.sc-array-data,.sc-array-in:checked ~ .sc-array-preview{display:none;}.sc-array-in:checked ~ .sc-array-data,.sc-array-preview{display:inline-block;}.sc-dim-list{display:inline-block !important;list-style:none;padding:0 !important;margin:0;}.sc-dim-list li{display:inline-block;padding:0;margin:0!important;}.sc-dim-list:before{content:'(';}.sc-dim-list:after{content:')';}.sc-dim-list li:not(:last-child):after{content:',';padding-right:5px;}.sc-has-index{font-weight:bold;}.sc-var-list,.sc-var-item,.reveal .sc-var-list,.reveal .sc-var-item{display:contents;}.sc-var-item > div,.sc-var-item label,.sc-var-item > .sc-var-name span{background-color:var(--sc-background-color1);margin-bottom:0;}.sc-var-item > .sc-var-name:hover span{padding-right:5px;}.sc-var-list > li:nth-child(odd) > div,.sc-var-list > li:nth-child(odd) > label,.sc-var-list > li:nth-child(odd) > .sc-var-name span{background-color:var(--sc-background-color2);}.sc-var-name{grid-column:1;}.sc-var-dims{grid-column:2;}.sc-var-dtype{grid-column:3;text-align:right;color:var(--sc-font-color2);}.sc-var-unit{grid-column:4;text-align:left;color:var(--sc-font-color1);max-width:50pt;text-overflow:ellipsis;}.sc-value-preview{grid-column:5;}.sc-var-preview-variances{text-align:right;}.sc-sections .sc-section-item .sc-section-summary,.sc-sections .sc-section-item .sc-section-inline-details,.sc-section-item .sc-var-list .sc-var-item > div,.sc-section-item .sc-var-list .sc-var-item > label,.sc-section-details .sc-var-list .sc-var-item > div,.sc-section-details .sc-var-list .sc-var-item > label{margin-top:0;margin-bottom:0;}.sc-var-name,.sc-var-dims,.sc-var-dtype,.sc-var-unit,.sc-preview,.sc-attrs dt{white-space:nowrap;overflow:hidden;text-overflow:ellipsis;padding-right:10px;}.sc-var-name:hover,.sc-var-dims:hover,.sc-var-dtype:hover,.sc-var-unit:hover,.sc-attrs dt:hover{overflow:visible;width:auto;z-index:1;}.sc-var-attrs{display:block;}.sc-var-data,.reveal .sc-var-data{display:none;}.sc-var-attrs,.sc-var-data{background-color:var(--sc-background-color0) !important;padding-bottom:5px !important;}.sc-var-attrs-in:checked ~ .sc-var-attrs{display:none;}.sc-var-data-in:checked ~ .sc-var-data{display:block;}.sc-var-data > table{float:right;}.sc-var-name span,.sc-var-data{padding-left:25px !important;}.sc-var-attrs,.sc-var-data{grid-column:1 / -1;}dl.sc-attrs{padding:0;margin:0;display:grid;grid-template-columns:125px auto;}.sc-attrs dt,dd{padding:0;margin:0;float:left;padding-right:10px;width:auto;}.sc-attrs dt{font-weight:normal;grid-column:1;}.sc-attrs dt:hover span{display:inline-block;padding-right:10px;}.sc-attrs dd{grid-column:2;white-space:pre-wrap;word-break:break-all;}.sc-icon-database,.sc-icon-file-text2{display:inline-block;vertical-align:middle;width:1em;height:1.5em !important;stroke-width:0;stroke:currentColor;fill:currentColor;}label.sc-hide-icon svg{opacity:0;}.sc-standalone-var-name{grid-column:1/3;}.sc-standalone-var-name span{padding-left:25px;padding-right:10px;}.sc-table{border-collapse:collapse;}.sc-title{font-weight:bold;font-size:1.5em;}.sc-subtitle{font-weight:normal;font-style:italic;text-align:left;font-size:1.2em;padding:1px;}.sc-table th,.sc-table td{border:1px solid var(--sc-inverse-background-color0);padding:0 5px 0 5px;}.sc-table th{text-align:center;}.sc-table tr{background-color:var(--sc-background-color1);text-align:right;}.sc-table tr:hover{background-color:var(--sc-background-color2);}.sc-table th.sc-data{background-color:var(--sc-table-data-color);color:var(--sc-table-header-font-color);}.sc-table th.sc-coords{background-color:var(--sc-table-coords-color);color:var(--sc-table-header-font-color);}.sc-table th.sc-masks{background-color:var(--sc-table-masks-color);color:var(--sc-table-header-font-color);}.sc-table th.sc-attrs{background-color:var(--sc-table-attrs-color);color:var(--sc-table-header-font-color);}.sc-table th.sc-subheader{background-color:var(--sc-background-color2);}.sc-table td.sc-padding{background-color:var(--sc-background-color1);border:0 solid var(--sc-background-color1);height:1.2em;}.sc-label{fill:var(--sc-font-color0,#444444);text-anchor:middle;}.sc-name{fill:var(--sc-font-color0,#111111);}.sc-inset-line{stroke:var(--sc-font-color1);stroke-width:0.05;stroke-dasharray:0.2,0.2;}.sc-log-wrap{height:25ex;resize:vertical;overflow-y:scroll;display:flex;flex-direction:column-reverse;border:1px solid;border-color:var(--jp-border-color2);background-color:var(--sc-background-color1);}div.sc-log{line-height:2.5ex;}table.sc-log{table-layout:auto;border-collapse:collapse;}tr.sc-log:nth-child(even){background-color:var(--sc-background-color0);}tr.sc-log > td{vertical-align:top;padding-bottom:0.5ex;}.sc-log-time-stamp{min-width:22ch;font-family:var(--jp-code-font-family);color:var(--sc-font-color2);}.sc-log-level{min-width:10ch;}tr.sc-log-debug td.sc-log-level{color:var(--jp-accent-color1);}tr.sc-log-info td.sc-log-level{color:var(--jp-info-color1);}tr.sc-log-warning td.sc-log-level{color:var(--jp-warn-color1);}tr.sc-log-error td.sc-log-level{font-weight:bold;color:var(--jp-error-color2);}tr.sc-log-critical td.sc-log-level{font-weight:bold;color:var(--sc-background-color0);background-color:var(--jp-error-color1);}.sc-log-message{white-space:pre-wrap;width:100%;}.sc-log-html-payload{white-space:normal;}.sc-log-name{padding-right:0.5em;text-align:right;white-space:pre-wrap;color:var(--sc-font-color3);}</style><div class='sc-wrap sc-root'><div class='sc-header'><div class='sc-obj-type'>scipp.Variable (576 Bytes)</div></div><ul class='sc-sections'><li class='sc-section-item'><ul class='sc-var-list'><li class='sc-var-item'><div class='sc-standalone-var-name'><span>(x: 40)</span></div><div class='sc-var-dtype'>float64</div><div class='sc-var-unit'>m</div><div class='sc-value-preview sc-preview'><span><div>0.0, 0.026, ..., 0.974, 1.0</div></span></div><input id='attrs-9c50e077-ee2f-41c4-bbf1-1f5723363c48' class='sc-var-attrs-in' type='checkbox' disabled><label for='attrs-9c50e077-ee2f-41c4-bbf1-1f5723363c48' class='sc-hide-icon' title='Show/Hide attributes'><svg class='icon sc-icon-file-text2'><use xlink:href='#icon-file-text2'></use></svg></label><input id='data-a0cd2bdc-d7f4-4849-bfb3-690fdedc333b' class='sc-var-data-in' type='checkbox'><label for='data-a0cd2bdc-d7f4-4849-bfb3-690fdedc333b' title='Show/Hide data repr'><svg class='icon sc-icon-database'><use xlink:href='#icon-database'></use></svg></label><pre class='sc-var-data'>Values:<br>array([0.        , 0.02564103, 0.05128205, 0.07692308, 0.1025641 ,\n",
       "       0.12820513, 0.15384615, 0.17948718, 0.20512821, 0.23076923,\n",
       "       0.25641026, 0.28205128, 0.30769231, 0.33333333, 0.35897436,\n",
       "       0.38461538, 0.41025641, 0.43589744, 0.46153846, 0.48717949,\n",
       "       0.51282051, 0.53846154, 0.56410256, 0.58974359, 0.61538462,\n",
       "       0.64102564, 0.66666667, 0.69230769, 0.71794872, 0.74358974,\n",
       "       0.76923077, 0.79487179, 0.82051282, 0.84615385, 0.87179487,\n",
       "       0.8974359 , 0.92307692, 0.94871795, 0.97435897, 1.        ])</pre></li></ul></li></ul></div></div>"
      ],
      "text/plain": [
       "<scipp.Variable> (x: 40)    float64              [m]  [0, 0.025641, ..., 0.974359, 1]"
      ]
     },
     "execution_count": 13,
     "metadata": {},
     "output_type": "execute_result"
    }
   ],
   "source": [
    "xbins = sc.linspace('x', 0, 1, num=40, unit='m')\n",
    "xbins"
   ]
  },
  {
   "cell_type": "code",
   "execution_count": 43,
   "metadata": {},
   "outputs": [
    {
     "name": "stdout",
     "output_type": "stream",
     "text": [
      "pix_min, pix_max 1 5638400\n",
      "0 1 56384\n",
      "1 56385 112768\n",
      "2 112769 169152\n",
      "3 169153 225536\n",
      "4 225537 281920\n",
      "5 281921 338304\n",
      "6 338305 394688\n",
      "7 394689 451072\n",
      "8 451073 507456\n",
      "9 507457 563840\n",
      "10 563841 620224\n",
      "11 620225 676608\n",
      "12 676609 732992\n",
      "13 732993 789376\n",
      "14 789377 845760\n",
      "15 845761 902144\n",
      "16 902145 958528\n",
      "17 958529 1014912\n",
      "18 1014913 1071296\n",
      "19 1071297 1127680\n",
      "20 1127681 1184064\n",
      "21 1184065 1240448\n",
      "22 1240449 1296832\n",
      "23 1296833 1353216\n",
      "24 1353217 1409600\n",
      "25 1409601 1465984\n",
      "26 1465985 1522368\n",
      "27 1522369 1578752\n",
      "28 1578753 1635136\n",
      "29 1635137 1691520\n",
      "30 1691521 1747904\n",
      "31 1747905 1804288\n",
      "32 1804289 1860672\n",
      "33 1860673 1917056\n",
      "34 1917057 1973440\n",
      "35 1973441 2029824\n",
      "36 2029825 2086208\n",
      "37 2086209 2142592\n",
      "38 2142593 2198976\n",
      "39 2198977 2255360\n",
      "40 2255361 2311744\n",
      "41 2311745 2368128\n",
      "42 2368129 2424512\n",
      "43 2424513 2480896\n",
      "44 2480897 2537280\n",
      "45 2537281 2593664\n",
      "46 2593665 2650048\n",
      "47 2650049 2706432\n",
      "48 2706433 2762816\n",
      "49 2762817 2819200\n",
      "50 2819201 2875584\n",
      "51 2875585 2931968\n",
      "52 2931969 2988352\n",
      "53 2988353 3044736\n",
      "54 3044737 3101120\n",
      "55 3101121 3157504\n",
      "56 3157505 3213888\n",
      "57 3213889 3270272\n",
      "58 3270273 3326656\n",
      "59 3326657 3383040\n",
      "60 3383041 3439424\n",
      "61 3439425 3495808\n",
      "62 3495809 3552192\n",
      "63 3552193 3608576\n",
      "64 3608577 3664960\n",
      "65 3664961 3721344\n",
      "66 3721345 3777728\n",
      "67 3777729 3834112\n",
      "68 3834113 3890496\n",
      "69 3890497 3946880\n",
      "70 3946881 4003264\n",
      "71 4003265 4059648\n",
      "72 4059649 4116032\n",
      "73 4116033 4172416\n",
      "74 4172417 4228800\n",
      "75 4228801 4285184\n",
      "76 4285185 4341568\n",
      "77 4341569 4397952\n",
      "78 4397953 4454336\n",
      "79 4454337 4510720\n",
      "80 4510721 4567104\n",
      "81 4567105 4623488\n",
      "82 4623489 4679872\n",
      "83 4679873 4736256\n",
      "84 4736257 4792640\n",
      "85 4792641 4849024\n",
      "86 4849025 4905408\n",
      "87 4905409 4961792\n",
      "88 4961793 5018176\n",
      "89 5018177 5074560\n",
      "90 5074561 5130944\n",
      "91 5130945 5187328\n",
      "92 5187329 5243712\n",
      "93 5243713 5300096\n",
      "94 5300097 5356480\n",
      "95 5356481 5412864\n",
      "96 5412865 5469248\n",
      "97 5469249 5525632\n",
      "98 5525633 5582016\n",
      "99 5582017 5638400\n"
     ]
    }
   ],
   "source": [
    "t_edges = sc.linspace('t', t_list.min().value, t_list.max().value, t_step+1, unit=t_list.unit)\n",
    "pix_min = ids.min().value\n",
    "pix_max = ids.max().value\n",
    "print(\"pix_min, pix_max\",pix_min, pix_max)\n",
    "# pix_bin = grouped[0:100]\n",
    "# pix_bin.hist(t=t_edges)\n",
    "pix_per_step=int(pix_max/pix_step) \n",
    "for i in range(pix_step):\n",
    "    print(i,pix_per_step*i+1,pix_per_step*(i+1))\n",
    "    pix_grop = grouped[pix_per_step*i:pix_per_step*i]\n",
    "    pix_hist = pix_grop.hist(t=t_edges)"
   ]
  },
  {
   "cell_type": "code",
   "execution_count": null,
   "metadata": {},
   "outputs": [],
   "source": [
    "def CDist2(A,B):\n",
    "#calculate distance betweenn two points\n",
    "    return len3dvec(twoP_to_vec(A, B))\n",
    "\n",
    "def len3dvec(vec):\n",
    "## calculates lengh of a 3D vecor\n",
    "## input as list\n",
    "    return np.sqrt(vec[0]**2 + vec[1]**2 + vec[2]**2)\n",
    "\n",
    "def twoP_to_vec(A,B):\n",
    "#creates vector between two points\n",
    "    return np.array([B[0]-A[0], B[1]-A[1], B[2]-A[2]])\n",
    "\n",
    "def rotation_matrix(axis, theta):\n",
    "#    Return the rotation matrix associated with counterclockwise rotation about\n",
    "#    the given axis by theta radians.\n",
    "    \n",
    "    axis = np.asarray(axis)\n",
    "    axis = axis / math.sqrt(np.dot(axis, axis))\n",
    "    a = math.cos(theta / 2.0)\n",
    "    b, c, d = -axis * math.sin(theta / 2.0)\n",
    "    aa, bb, cc, dd = a * a, b * b, c * c, d * d\n",
    "    bc, ad, ac, ab, bd, cd = b * c, a * d, a * c, a * b, b * d, c * d\n",
    "    return np.array([[aa + bb - cc - dd, 2 * (bc + ad), 2 * (bd - ac)],\n",
    "                     [2 * (bc - ad), aa + cc - bb - dd, 2 * (cd + ab)],\n",
    "                     [2 * (bd + ac), 2 * (cd - ab), aa + dd - bb - cc]])"
   ]
  },
  {
   "cell_type": "markdown",
   "metadata": {},
   "source": [
    "read in geometry informations"
   ]
  },
  {
   "cell_type": "code",
   "execution_count": null,
   "metadata": {},
   "outputs": [],
   "source": [
    "xml  = str(f['entry1/instrument/instrument_xml/data'][...][0]).split('\\\\n')\n",
    "# xml\n"
   ]
  },
  {
   "cell_type": "markdown",
   "metadata": {},
   "source": [
    "gets sample, source and detector positions. <br>\n",
    "gets fast and slow axis of detectors"
   ]
  },
  {
   "cell_type": "code",
   "execution_count": null,
   "metadata": {},
   "outputs": [],
   "source": [
    "comp = False\n",
    "det = False\n",
    "source = False\n",
    "sample = False\n",
    "sample_pos = [0,0,0]\n",
    "source_pos = [0,0,0]\n",
    "d_list = []\n",
    "rot_l1 = []\n",
    "fast_l = []\n",
    "slow_l = []\n",
    "\n",
    "\n",
    "for i in range(len(xml)):\n",
    "    ls = xml[i].replace('<t',' ').replace('>',' ').replace('\"',' ').replace('<',' ').replace('\\\\t',' ').split()\n",
    "    # print(xml[i])\n",
    "    \n",
    "    if len(ls) >= 1:\n",
    "        if ls[0] == 'component':\n",
    "            det = False\n",
    "            source = False\n",
    "            sample = False\n",
    "            comp = True\n",
    "            if ls[2].split('-')[0] == 'MonNDtype':\n",
    "\n",
    "                det = True\n",
    "                d_list.append([int(ls[2].split('-')[1])])\n",
    "            elif ls[2] == 'sourceMantid-type':\n",
    "                source = True\n",
    "            elif ls[2] == 'sampleMantid-type':\n",
    "                sample = True\n",
    "            comp = True\n",
    "     #   if ls[1].split('-')[0] == 'type=\"MonNDtype':\n",
    "            # print(\"1\",ls)\n",
    "    if len(ls) >= 1:\n",
    "        if ls[0] == 'type':\n",
    "            comp = False\n",
    "    if len(ls) >= 1:\n",
    "        if ls[0] == 'location' or ls[0] == 'location':\n",
    "            # print(\"3\",ls)\n",
    "            if comp == True and det == True:\n",
    "                # print(\"2\",ls)\n",
    "                xyz = [float(ls[2]),float(ls[4]),float(ls[6])]\n",
    "                print(\"xyz\", xyz)\n",
    "                rot =float(ls[8]) \n",
    "                rot_xyz =[ float(ls[8]), float(ls[10]),float(ls[12]),float(ls[14])] \n",
    "                print(\"rotation of detector\",rot, rot_xyz) \n",
    "                d_list[len(d_list)-1].append(xyz)\n",
    "                rot_l1.append(rot_xyz)\n",
    "            elif comp == True and source == True: \n",
    "              source_pos = [float(ls[2]),float(ls[4]),float(ls[6])]\n",
    "            elif comp == True and sample == True: \n",
    "               sample_pos = np.array([float(ls[2]),float(ls[4]),float(ls[6])])\n",
    "# print(len(d_list))\n",
    "# print(\"sample and source position\",sample_pos,source_pos)\n",
    "# print(\"distance between sample and source\",CDist2(source_pos, sample_pos))\n",
    "# print(\"detector positions, relative to source at 0,0,0:\",d_list)\n",
    "# print(\"rotation list\",rot_l)\n",
    "#shift from rleative position to source to relative to sample\n",
    "ds_l = []\n",
    "sample_pos = sample_pos * [-1,-1,-1]\n",
    "print(\"sample_pos\",sample_pos)\n",
    "for i in range(len(d_list)):\n",
    "    det_pos = np.array([d_list[i][1][0],d_list[i][1][1],d_list[i][1][2]]) * [-1.0, -1.0,-1.0]\n",
    "    \n",
    "\n",
    "    rel_xyz= np.round(twoP_to_vec(sample_pos,det_pos),2)\n",
    "    print(\"rel_xyz\",rel_xyz)\n",
    "    rel_xyz = rel_xyz # * [-1,-1,-1]\n",
    "    print(\"sample to detector dist\",len3dvec(rel_xyz))\n",
    "    # rel_pos= twoP_to_vec(det_pos, sample_pos)\n",
    "    # print(\"detector position\",sample_pos,det_pos,rel_pos)\n",
    "    \n",
    "    # rel_xyz = [ d_list[i][1][0]-sample_pos[0], d_list[i][1][1]-sample_pos[1], (d_list[i][1][2]-sample_pos[2])]\n",
    "    \n",
    "    # print(\"relative position\",rel_xyz)\n",
    "    # rel_xyz = [ sample_pos[0]-d_list[i][1][0],sample_pos[1]-d_list[i][1][1], sample_pos[2]-d_list[i][1][2]]\n",
    "    # print(\"position\",rel_xyz,rel_pos)\n",
    "    # print(\"relative position\",rel_xyz)\n",
    "    ds_l.append(rel_xyz)\n",
    "vec_f = [-1,0,-0]\n",
    "vec_s = [0,-1,0]\n",
    "rot_l = [rot_l1[0],rot_l1[2],rot_l1[1]] #not corect but a temporary work around\n",
    "for i in range(len(rot_l)):\n",
    "    # if rot_l[i][2] < 0:\n",
    "        # theta = np.radians(rot_l[i][0]) \n",
    "    # else:\n",
    "    theta = np.radians(-rot_l[i][0])\n",
    "    v = [rot_l[i][1],rot_l[i][2],rot_l[i][3]]\n",
    "    v1 = [0,0,1]\n",
    "    print(\"v\",i,v,\"theta\", theta,rot_l[i][0])\n",
    "    fast_vec = np.round(np.dot(rotation_matrix(v,  theta), vec_f),2)\n",
    "    fast_v_round = np.array([np.round(fast_vec[0],1), np.round(fast_vec[1],1), np.round(fast_vec[2],1)])\n",
    "\n",
    "    fast_l.append(fast_vec)\n",
    "    slow_l.append(np.dot(rotation_matrix(v, theta), vec_s))\n",
    "    # slow_l.append([0,1,0])\n",
    "\n",
    "print(\"relative to sample position\",ds_l)\n",
    "print(\"fast axis\",fast_l)\n",
    "print(\"slow axis\", slow_l)\n",
    "print(rot_l)"
   ]
  },
  {
   "attachments": {},
   "cell_type": "markdown",
   "metadata": {},
   "source": [
    "manual seeting of the detector gementrie "
   ]
  },
  {
   "cell_type": "code",
   "execution_count": null,
   "metadata": {},
   "outputs": [],
   "source": [
    "#read in data\n",
    "# ds_l = [[ 0.25,  0.25, -0.29], [ 0.29,  0.25, -0.25], [-0.29,  0.25,  0.25]]\n",
    "# fast_l = [[-1.  ,  0.  , -0.01], [-0.01,  0.  ,  1.  ], [ 0.01,  0.  , -1.  ]]\n",
    "# slow_l = [[ 0., -1.,  0.], [ 0., -1.,  0.],[ 0., -1.,  0.]]\n",
    "\n",
    "\n",
    "ds_l = [[ -0.25,  -0.25, -0.29], [ -0.29,  -0.25, -0.25], [0.29,  -0.25,  0.25]]\n",
    "fast_l = [[1.  ,  0.  , -0.01], [0.01,  0.  ,  1.  ], [ -0.01,  0.  , -1.  ]]\n",
    "slow_l = [[ 0., 1.,  0.], [ 0., 1.,  0.],[ 0., 1.,  0.]]\n"
   ]
  },
  {
   "cell_type": "markdown",
   "metadata": {},
   "source": [
    "gets crystal rotation"
   ]
  },
  {
   "cell_type": "code",
   "execution_count": null,
   "metadata": {},
   "outputs": [],
   "source": [
    "print((f['entry1']['simulation']['Param'].keys()))\n",
    "print((f['entry1']['simulation']['Param']['XtalPhiX']))\n",
    "phix=float(list(str(f['entry1']['simulation']['Param']['XtalPhiX'][...][0]))[2])\n",
    "phiy=float(list(str(f['entry1']['simulation']['Param']['XtalPhiY'][...][0]))[2])\n",
    "phiz=float(list(str(f['entry1']['simulation']['Param']['XtalPhiZ'][...][0]))[2])\n",
    "#str(phix[0])\n",
    "#int(list(str(phix[0]))[2])\n",
    "print(phix,phiy,phiz)\n",
    "cor=[phix,phiy, phiz]\n",
    "cryst_or = np.array(cor)\n",
    "cryst_or"
   ]
  },
  {
   "cell_type": "markdown",
   "metadata": {},
   "source": [
    "generates output file name out of input filename and number of  time bins"
   ]
  },
  {
   "cell_type": "code",
   "execution_count": null,
   "metadata": {},
   "outputs": [],
   "source": [
    "no = filename.split('/')\n",
    "# print(no)\n",
    "name_out= no[-1].split('.')[0]\n",
    "print(name_out)\n",
    "file_out = '/Users/justinbergmann/work_flow/test_out/'+name_out+'_'+str(t_step)+'_out.h5'\n",
    "print(file_out)"
   ]
  },
  {
   "cell_type": "code",
   "execution_count": null,
   "metadata": {},
   "outputs": [],
   "source": [
    "with h5py.File(file_out, 'w') as fo:\n",
    "## create output nexus file\n",
    "   fo.attrs['default'] = 'NMX_data'\n",
    "   nxentry = fo.create_group('NMX_data')\n",
    "   nxentry.attrs[\"NX_class\"] = 'NXentry'\n",
    "   nxentry.attrs['default'] = 'data'\n",
    "   nxentry.attrs['name'] = 'NMX1'\n",
    "   #nxentry.__setitem__('beamline','NMX')\n",
    "   nxentry.__setitem__('name','NMX')\n",
    "   nxentry.__setitem__('definition','TOFRAW')\n",
    "   nxentry.attrs['name'] = \"NMX\"\n",
    "   #nxentry.attrs['name'].__setattr__('name','NMX') \n",
    "\n",
    "#SAMPLE\n",
    "   nx_sample = nxentry.create_group('NXsample')\n",
    "   nx_sample.__setitem__('name','Single_crystal')\n",
    "\n",
    "\n",
    "#Instrument\n",
    "   nx_instrument = nxentry.create_group('NXinstrument')\n",
    "\n",
    "   nx_detector = nxentry.create_group('NXdetector')\n",
    "   det_origen = nx_detector.create_dataset('origen', data=ds_l) \n",
    "   det_origen.attrs['units'] = 'm'\n",
    "\n",
    "   fast_axis = nx_detector.create_dataset('fast_axis', data=fast_l) \n",
    "   slow_axis = nx_detector.create_dataset('slow_axis', data=slow_l) \n",
    "\n",
    "   nx_beam = nxentry.create_group('NXbeam')\n",
    "\n",
    "\n",
    "   \n",
    "   proton = nxentry.create_dataset('proton_charge', data=weights.shape[0]/10000)    \n",
    "   \n",
    "   \n",
    "   nx_det1 = nxentry.create_group('detector_1')   \n",
    "   counts = nx_det1.create_dataset('counts', data=[group_t.values], compression=\"gzip\", compression_opts=4)\n",
    "\n",
    "   t_spectrum = nx_det1.create_dataset('t_bin', data=group_t.coords['t'].values, compression=\"gzip\", compression_opts=4)\n",
    "   t_spectrum.attrs['units'] = 'ms'\n",
    "   t_spectrum.attrs['long_name'] = 't_bin TOF (ms)'\n",
    "\n",
    "   pixel_id = nx_det1.create_dataset('pix_id', data=group_t.coords['id'].values, compression=\"gzip\", compression_opts=4)\n",
    "   pixel_id.attrs['units'] = ''\n",
    "   pixel_id.attrs['long_name'] = 'pixel ID'\n",
    "\n",
    "\n",
    "#SOURCE\n",
    "   nx_inst = nxentry.create_group('instrument')\n",
    "   nx_inst.attrs['nr_detector'] = len(d_list)\n",
    "   nx_source = nxentry.create_group('NXsource')\n",
    "   nx_source.__setitem__('name','European Spallation Source')\n",
    "   nx_source.__setitem__('short_name','ESS')\n",
    "   nx_source.__setitem__('type','Spallation Neutron Source')\n",
    "   nx_source.__setitem__('distance',-(CDist2(source_pos, sample_pos)))\n",
    "   nx_source.__setitem__('probe','neutron')\n",
    "   nx_source.__setitem__('target_material','W')\n",
    "\n",
    "\n",
    "\n",
    "\n",
    "\n",
    "\n",
    "#    c_or = nxinst.create_dataset('crystal_orientation',data=cryst_or)\n",
    "#    c_or.attrs['unit'] = 'degrees'\n",
    "#    c_or.attrs['long_name'] = 'crystal orientation in Phi (degrees)'\n",
    "    \n",
    "\n",
    "   fo.close()\n",
    "   del fo\n"
   ]
  },
  {
   "cell_type": "markdown",
   "metadata": {},
   "source": [
    "\n",
    "delete some loaded lists"
   ]
  },
  {
   "cell_type": "code",
   "execution_count": null,
   "metadata": {},
   "outputs": [],
   "source": [
    "f.close()  \n",
    "del id_list\n",
    "del x_list\n",
    "del y_list\n",
    "del t_list\n",
    "del weights\n",
    "del da3 \n",
    "del grouped\n",
    "del group_t\n"
   ]
  },
  {
   "cell_type": "markdown",
   "metadata": {},
   "source": [
    "\n",
    "writes out some statistic of the reduction"
   ]
  },
  {
   "cell_type": "code",
   "execution_count": null,
   "metadata": {},
   "outputs": [],
   "source": [
    "current, peak = tracemalloc.get_traced_memory()\n",
    "print('2 current memory [MB]: {}, peak memory [MB]: {} '.format(round((current/(1024*1024)), 2), round((peak /(1024*1024) ), 2) ))\n",
    "# stopping the library\n",
    "# tracemalloc.stop()\n",
    "print(\"neded time (h:mm:ss): \", datetime.now() - startTime)"
   ]
  }
 ],
 "metadata": {
  "kernelspec": {
   "display_name": "ess",
   "language": "python",
   "name": "python3"
  },
  "language_info": {
   "codemirror_mode": {
    "name": "ipython",
    "version": 3
   },
   "file_extension": ".py",
   "mimetype": "text/x-python",
   "name": "python",
   "nbconvert_exporter": "python",
   "pygments_lexer": "ipython3",
   "version": "3.9.15"
  },
  "vscode": {
   "interpreter": {
    "hash": "f85ed83eabb820316696c474dce395f71e180a432bd3bf9cf71297a8fe85fff3"
   }
  }
 },
 "nbformat": 4,
 "nbformat_minor": 4
}
