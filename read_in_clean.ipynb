{
 "cells": [
  {
   "attachments": {},
   "cell_type": "markdown",
   "metadata": {},
   "source": [
    "lean version of read in file for the NMX work flow (from simulatet event data to binned event data)"
   ]
  },
  {
   "attachments": {},
   "cell_type": "markdown",
   "metadata": {},
   "source": [
    "\n",
    "first add neded libaries"
   ]
  },
  {
   "cell_type": "code",
   "execution_count": 3,
   "metadata": {},
   "outputs": [],
   "source": [
    "from datetime import datetime\n",
    "startTime = datetime.now()\n",
    "import tracemalloc\n",
    "    #from scippnexus import data\n",
    "#import scippnexus as snx\n",
    "import numpy as np\n",
    "import math\n",
    "\n",
    "    #qimport mantid_args\n",
    "#from scippnexus import NXdetector\n",
    "from scippneutron.conversion import graph\n",
    "\n",
    "import scipp as sc\n",
    "import scippneutron as scn\n",
    "import scippnexus as snx\n",
    "\n",
    "#%matplotlib widget\n",
    "\n",
    "\n",
    "import plopp as pp\n",
    "pp.patch_scipp()\n",
    "import matplotlib.pyplot as plt\n",
    "from plopp.widgets import Box\n",
    "import ipywidgets as ipw\n",
    "from matplotlib.colors import LogNorm\n",
    "\n",
    "    #import multiprocessing as mp\n",
    "\n",
    "import h5py\n",
    "h5py.enable_ipython_completer()\n",
    "%matplotlib inline\n",
    "%matplotlib widget\n",
    "\n",
    "# starting the momory monitoring\n",
    "tracemalloc.start()\n"
   ]
  },
  {
   "attachments": {},
   "cell_type": "markdown",
   "metadata": {},
   "source": [
    "define general parameter"
   ]
  },
  {
   "cell_type": "code",
   "execution_count": 4,
   "metadata": {},
   "outputs": [],
   "source": [
    "#Number op pixels per detecotr dimmension\n",
    "pix = 1280\n",
    "#number of time bins \n",
    "t_step = 5\n",
    "#number of detectors\n",
    "n_det = 3\n",
    "\n",
    "\n"
   ]
  },
  {
   "attachments": {},
   "cell_type": "markdown",
   "metadata": {},
   "source": [
    "pretreatment to make it faster\n",
    "h5repack -l CHUNK=1024x6 2e11.h5 2e11-rechunk.h5 \n",
    "or \n",
    "h5repack -l CHUNK=NONE 2e11.h5 2e11-nochunk.h5\n",
    "\n",
    "h5repack -l CHUNK=1024x6 mccode.h5 mccode-nochunk.h5"
   ]
  },
  {
   "cell_type": "code",
   "execution_count": 5,
   "metadata": {},
   "outputs": [
    {
     "name": "stdout",
     "output_type": "stream",
     "text": [
      "/Users/justinbergmann/work_flow/test_data/pulse5.h5\n"
     ]
    }
   ],
   "source": [
    "fname = 19\n",
    "\n",
    "if fname == 1:\n",
    "   filename = '/Users/justinbergmann/work_flow/test_data/2e11.h5'\n",
    "elif fname == 2:\n",
    "    filename = '/Users/justinbergmann/work_flow/test_data/x0_3d.h5'\n",
    "elif fname == 3:\n",
    "    filename = '/Users/justinbergmann/work_flow/test_data/xe_0_NMX.h5'\n",
    "elif fname == 4:\n",
    "    filename = '/Users/justinbergmann/work_flow/test_data/xe_20_NMX.h5'\n",
    "elif fname == 5:\n",
    "    filename = '/Users/justinbergmann/work_flow/test_data/flip_det.h5'\n",
    "elif fname == 6:\n",
    "    filename = '/Users/justinbergmann/work_flow/test_data/flip_4.h5'\n",
    "elif fname == 7:\n",
    "    filename = '/Users/justinbergmann/work_flow/test_data/ye_0_NMX.h5'\n",
    "elif fname == 8:\n",
    "    filename = '/Users/justinbergmann/work_flow/test_data/xe1_12_NMX/xe1_12_no_chunk.h5'\n",
    "elif fname == 9:\n",
    "    filename = '/Users/justinbergmann/work_flow/test_data/1d.h5'\n",
    "\n",
    "elif fname == 10:\n",
    "    filename = '/Users/justinbergmann/work_flow/test_data/xflat20.h5'\n",
    "\n",
    "elif fname == 11:\n",
    "    filename = '/Users/justinbergmann/work_flow/test_data/small_vis/flat.nxs'\n",
    "\n",
    "elif fname == 12:\n",
    "    filename = '/Users/justinbergmann/work_flow/test_data/small_vis/shift_down.nxs'\n",
    "\n",
    "\n",
    "elif fname == 13:\n",
    "    filename = '/Users/justinbergmann/work_flow/test_data/mc2_7_2_test.h5'\n",
    "\n",
    "elif fname == 14:\n",
    "    filename = '/Users/justinbergmann/work_flow/test_data/mc2_new_comp.nxs'\n",
    "\n",
    "elif fname == 15:\n",
    "    filename = '/Users/justinbergmann/work_flow/test_data/xflat20.h5'\n",
    "\n",
    "\n",
    "elif fname == 16:\n",
    "    filename = '/Users/justinbergmann/work_flow/test_data/flat_h_r.h5'\n",
    "\n",
    "\n",
    "elif fname == 17:\n",
    "    filename = '/Users/justinbergmann/work_flow/test_data/flat_v_u.h5'\n",
    "\n",
    "elif fname == 18:\n",
    "    filename = '/Users/justinbergmann/work_flow/test_data/NMX_long.h5'\n",
    "\n",
    "elif fname == 19:\n",
    "    filename = '/Users/justinbergmann/work_flow/test_data/pulse5.h5'\n",
    "\n",
    "\n",
    "else:\n",
    "    filename = '/Users/justinbergmann/work_flow/test_data/xflat20.h5'\n",
    "\n",
    "\n",
    "# f_vis = '/Users/justinbergmann/work_flow/test_data/ye_0_NMX_vis.nxs'\n",
    "# f_vis ='/Users/justinbergmann/work_flow/test_data/mc2_new_comp_vis.nxs' \n",
    "f_vis ='/Users/justinbergmann/work_flow/test_data/flat_v_u_vis.nxs' \n",
    "print(filename)\n",
    "\n",
    "\n",
    "#f=snx.File(filename)    "
   ]
  },
  {
   "attachments": {},
   "cell_type": "markdown",
   "metadata": {},
   "source": [
    "flat_v d0 center d1 upp d2 down /gpfs/hpc/scratch/justin.bergmann/mcstas_NMX/actual_det/test_data_3d/run/test_nodes/mc2_flat_v/flat_v \n",
    "\n",
    "flat_h d0 center d1 left d2 right /gpfs/hpc/scratch/justin.bergmann/mcstas_NMX/actual_det/test_data_3d/run/test_nodes/mc2_flat/"
   ]
  },
  {
   "attachments": {},
   "cell_type": "markdown",
   "metadata": {},
   "source": [
    "read in event data and shape event list  give number of events"
   ]
  },
  {
   "attachments": {},
   "cell_type": "markdown",
   "metadata": {},
   "source": [
    "3D visulisation with file converted by mantid"
   ]
  },
  {
   "cell_type": "code",
   "execution_count": null,
   "metadata": {},
   "outputs": [],
   "source": [
    "vis = sc.io.open_hdf5(filename = f_vis)\n",
    "scn.instrument_view(vis.sum('tof'))"
   ]
  },
  {
   "cell_type": "code",
   "execution_count": null,
   "metadata": {},
   "outputs": [],
   "source": []
  },
  {
   "cell_type": "code",
   "execution_count": 6,
   "metadata": {},
   "outputs": [
    {
     "name": "stdout",
     "output_type": "stream",
     "text": [
      "shape of event list (p_x_y_n_id_t) (6, 148143950)\n",
      "id min 1\n",
      "id max 5638399\n",
      "CPU times: user 16 s, sys: 10.3 s, total: 26.4 s\n",
      "Wall time: 11.7 s\n"
     ]
    }
   ],
   "source": [
    "%%time\n",
    "f = h5py.File(filename)\n",
    "a = f['entry1/data']['bank01_events_dat_list_p_x_y_n_id_t']['events'][...]\n",
    "#a[0]\n",
    "d = np.matrix.transpose(a)\n",
    "print(\"shape of event list (p_x_y_n_id_t)\", d.shape)\n",
    "#alocate units to events and create seperate list for each parameter\n",
    "x_list = sc.array(dims=['x'], unit='m', values=d[1])\n",
    "y_list = sc.array(dims=['x'], unit='m', values=d[2])\n",
    "t_list = sc.array(dims=['x'], unit='s', values=d[5])\n",
    "id_list = sc.array(dims=['x'], unit=None, values=d[4], dtype='int64')\n",
    "#print(x_list.shape, y_list.shape, t_list.shape,id_list.shape)\n",
    "\n",
    "#get evetns to seperated lists (x,y,t,id)\n",
    "#x_list.unit = 'm'\n",
    "#y_list.unit = 'm'\n",
    "#t_list.unit = 'ms'\n",
    "weights = sc.array(dims=['x'], unit='counts', values=d[0])\n",
    "# weights = sc.ones_like(x_list)\n",
    "# weights.unit = 'counts'\n",
    "da = sc.DataArray(data=weights, coords={'x': x_list, 'y': y_list, 't': t_list, 'id': id_list})\n",
    "\n",
    "#make sure alll IDs are reconised:\n",
    "print(\"id min\",id_list.values.min())\n",
    "print(\"id max\",id_list.values.max())\n",
    "\n",
    "ids1 = sc.arange('id', 1, 1638401, unit=None)\n",
    "ids2 = sc.arange('id', 2000001, 3638401, unit=None)\n",
    "ids3 = sc.arange('id', 4000001, 5638401, unit=None)\n",
    "ids = sc.concat([ids1, ids2, ids3], 'id')\n",
    "#grouping by IDs\n",
    "da3 = da.group(ids).fold('id', sizes={'panel':3, 'id':-1})\n"
   ]
  },
  {
   "cell_type": "code",
   "execution_count": 55,
   "metadata": {},
   "outputs": [
    {
     "data": {
      "text/plain": [
       "148143950"
      ]
     },
     "execution_count": 55,
     "metadata": {},
     "output_type": "execute_result"
    }
   ],
   "source": [
    "weights.shape[0]\n"
   ]
  },
  {
   "cell_type": "code",
   "execution_count": 6,
   "metadata": {},
   "outputs": [
    {
     "data": {
      "text/html": [
       "<div><!-- Original source from -->\n",
       "<!-- https://github.com/jsignell/xarray/blob/1d960933ab252e0f79f7e050e6c9261d55568057/xarray/static/html/icons-svg-inline.html -->\n",
       "<svg style=\"position: absolute; width: 0; height: 0; overflow: hidden\">\n",
       "<defs>\n",
       "<symbol id=\"icon-database\" viewBox=\"0 0 32 32\">\n",
       "<title>Show/Hide data repr</title>\n",
       "<path d=\"M16 0c-8.837 0-16 2.239-16 5v4c0 2.761 7.163 5 16 5s16-2.239 16-5v-4c0-2.761-7.163-5-16-5z\"></path>\n",
       "<path d=\"M16 17c-8.837 0-16-2.239-16-5v6c0 2.761 7.163 5 16 5s16-2.239 16-5v-6c0 2.761-7.163 5-16 5z\"></path>\n",
       "<path d=\"M16 26c-8.837 0-16-2.239-16-5v6c0 2.761 7.163 5 16 5s16-2.239 16-5v-6c0 2.761-7.163 5-16 5z\"></path>\n",
       "</symbol>\n",
       "<symbol id=\"icon-file-text2\" viewBox=\"0 0 32 32\">\n",
       "<title>Show/Hide attributes</title>\n",
       "<path d=\"M28.681 7.159c-0.694-0.947-1.662-2.053-2.724-3.116s-2.169-2.030-3.116-2.724c-1.612-1.182-2.393-1.319-2.841-1.319h-15.5c-1.378 0-2.5 1.121-2.5 2.5v27c0 1.378 1.122 2.5 2.5 2.5h23c1.378 0 2.5-1.122 2.5-2.5v-19.5c0-0.448-0.137-1.23-1.319-2.841zM24.543 5.457c0.959 0.959 1.712 1.825 2.268 2.543h-4.811v-4.811c0.718 0.556 1.584 1.309 2.543 2.268zM28 29.5c0 0.271-0.229 0.5-0.5 0.5h-23c-0.271 0-0.5-0.229-0.5-0.5v-27c0-0.271 0.229-0.5 0.5-0.5 0 0 15.499-0 15.5 0v7c0 0.552 0.448 1 1 1h7v19.5z\"></path>\n",
       "<path d=\"M23 26h-14c-0.552 0-1-0.448-1-1s0.448-1 1-1h14c0.552 0 1 0.448 1 1s-0.448 1-1 1z\"></path>\n",
       "<path d=\"M23 22h-14c-0.552 0-1-0.448-1-1s0.448-1 1-1h14c0.552 0 1 0.448 1 1s-0.448 1-1 1z\"></path>\n",
       "<path d=\"M23 18h-14c-0.552 0-1-0.448-1-1s0.448-1 1-1h14c0.552 0 1 0.448 1 1s-0.448 1-1 1z\"></path>\n",
       "</symbol>\n",
       "</defs>\n",
       "</svg><style id=\"scipp-style-sheet\">.sc-root{--sc-background-color0:var(--jp-layout-color0,#fff);--sc-background-color1:var(--jp-layout-color1,#fcfcfc);--sc-background-color2:var(--jp-layout-color2,#efefef);--sc-inverse-background-color0:var(--jp-inverse-layout-color4,#111);--sc-font-color0:var(--jp-content-font-color0,#000);--sc-font-color1:var(--jp-content-font-color1,#555);--sc-font-color2:var(--jp-content-font-color2,#888);--sc-font-color3:var(--jp-content-font-color3,#ccc);--sc-table-data-color:#f6d028;--sc-table-coords-color:#c6e590;--sc-table-masks-color:#c8c8c8;--sc-table-attrs-color:#ff5555;--sc-table-header-font-color:#111111;}.sc-wrap{font-size:14px;min-width:300px;max-width:800px;}.sc-var-attrs .sc-wrap{padding-left:3em;}.sc-header{padding-top:6px;padding-bottom:6px;margin-bottom:4px;border-bottom:solid 1px #ddd;}.sc-header > div,.sc-header > ul{display:inline;margin-top:0;margin-bottom:0;}.sc-obj-type,.sc-array-name{margin-left:2px;margin-right:10px;}.sc-obj-type{color:var(--sc-font-color1);}.sc-underlying-size{color:var(--sc-font-color2);}.sc-sections,.reveal .sc-sections{padding-left:0 !important;display:grid;grid-template-columns:150px auto auto auto 1fr 20px 20px;}.sc-section-item{display:contents;}.sc-section-item input{display:none;}.sc-section-item input:enabled + label{cursor:pointer;color:var(--sc-font-color1);}.sc-section-item input:enabled + label:hover{color:var(--sc-font-color0);}.sc-section-summary{grid-column:1;font-weight:500;}.sc-section-summary > span{display:inline-block;padding-left:0.5em;}.sc-section-summary-in:disabled + label{color:var(--sc-font-color1);}.sc-section-summary-in + label:before{display:inline-block;content:'►';font-size:11px;width:15px;text-align:center;}.sc-section-summary-in:disabled + label:before{color:var(--sc-font-color3);}.sc-section-summary-in:checked + label:before{content:'▼';}.sc-section-summary-in:checked + label > span{display:none;}.sc-section-summary,.sc-section-inline-details{padding-top:4px;padding-bottom:4px;}.sc-section-inline-details{grid-column:2 / 6;}.sc-section-details{display:none;grid-column:1 / -1;margin-bottom:5px;}.sc-section-summary-in:checked ~ .sc-section-details{display:contents;}.sc-array-wrap{grid-column:1 / -1;display:grid;grid-template-columns:20px auto;}.sc-array-wrap > label{grid-column:1;vertical-align:top;}.sc-preview{color:var(--sc-font-color2);}.sc-array-preview,.sc-array-data{padding:0 5px !important;grid-column:2;}.sc-array-data,.sc-array-in:checked ~ .sc-array-preview{display:none;}.sc-array-in:checked ~ .sc-array-data,.sc-array-preview{display:inline-block;}.sc-dim-list{display:inline-block !important;list-style:none;padding:0 !important;margin:0;}.sc-dim-list li{display:inline-block;padding:0;margin:0!important;}.sc-dim-list:before{content:'(';}.sc-dim-list:after{content:')';}.sc-dim-list li:not(:last-child):after{content:',';padding-right:5px;}.sc-has-index{font-weight:bold;}.sc-var-list,.sc-var-item,.reveal .sc-var-list,.reveal .sc-var-item{display:contents;}.sc-var-item > div,.sc-var-item label,.sc-var-item > .sc-var-name span{background-color:var(--sc-background-color1);margin-bottom:0;}.sc-var-item > .sc-var-name:hover span{padding-right:5px;}.sc-var-list > li:nth-child(odd) > div,.sc-var-list > li:nth-child(odd) > label,.sc-var-list > li:nth-child(odd) > .sc-var-name span{background-color:var(--sc-background-color2);}.sc-var-name{grid-column:1;}.sc-var-dims{grid-column:2;}.sc-var-dtype{grid-column:3;text-align:right;color:var(--sc-font-color2);}.sc-var-unit{grid-column:4;text-align:left;color:var(--sc-font-color1);max-width:50pt;text-overflow:ellipsis;}.sc-value-preview{grid-column:5;}.sc-var-preview-variances{text-align:right;}.sc-sections .sc-section-item .sc-section-summary,.sc-sections .sc-section-item .sc-section-inline-details,.sc-section-item .sc-var-list .sc-var-item > div,.sc-section-item .sc-var-list .sc-var-item > label,.sc-section-details .sc-var-list .sc-var-item > div,.sc-section-details .sc-var-list .sc-var-item > label{margin-top:0;margin-bottom:0;}.sc-var-name,.sc-var-dims,.sc-var-dtype,.sc-var-unit,.sc-preview,.sc-attrs dt{white-space:nowrap;overflow:hidden;text-overflow:ellipsis;padding-right:10px;}.sc-var-name:hover,.sc-var-dims:hover,.sc-var-dtype:hover,.sc-var-unit:hover,.sc-attrs dt:hover{overflow:visible;width:auto;z-index:1;}.sc-var-attrs{display:block;}.sc-var-data,.reveal .sc-var-data{display:none;}.sc-var-attrs,.sc-var-data{background-color:var(--sc-background-color0) !important;padding-bottom:5px !important;}.sc-var-attrs-in:checked ~ .sc-var-attrs{display:none;}.sc-var-data-in:checked ~ .sc-var-data{display:block;}.sc-var-data > table{float:right;}.sc-var-name span,.sc-var-data{padding-left:25px !important;}.sc-var-attrs,.sc-var-data{grid-column:1 / -1;}dl.sc-attrs{padding:0;margin:0;display:grid;grid-template-columns:125px auto;}.sc-attrs dt,dd{padding:0;margin:0;float:left;padding-right:10px;width:auto;}.sc-attrs dt{font-weight:normal;grid-column:1;}.sc-attrs dt:hover span{display:inline-block;padding-right:10px;}.sc-attrs dd{grid-column:2;white-space:pre-wrap;word-break:break-all;}.sc-icon-database,.sc-icon-file-text2{display:inline-block;vertical-align:middle;width:1em;height:1.5em !important;stroke-width:0;stroke:currentColor;fill:currentColor;}label.sc-hide-icon svg{opacity:0;}.sc-standalone-var-name{grid-column:1/3;}.sc-standalone-var-name span{padding-left:25px;padding-right:10px;}.sc-table{border-collapse:collapse;}.sc-title{font-weight:bold;font-size:1.5em;}.sc-subtitle{font-weight:normal;font-style:italic;text-align:left;font-size:1.2em;padding:1px;}.sc-table th,.sc-table td{border:1px solid var(--sc-inverse-background-color0);padding:0 5px 0 5px;}.sc-table th{text-align:center;}.sc-table tr{background-color:var(--sc-background-color1);text-align:right;}.sc-table tr:hover{background-color:var(--sc-background-color2);}.sc-table th.sc-data{background-color:var(--sc-table-data-color);color:var(--sc-table-header-font-color);}.sc-table th.sc-coords{background-color:var(--sc-table-coords-color);color:var(--sc-table-header-font-color);}.sc-table th.sc-masks{background-color:var(--sc-table-masks-color);color:var(--sc-table-header-font-color);}.sc-table th.sc-attrs{background-color:var(--sc-table-attrs-color);color:var(--sc-table-header-font-color);}.sc-table th.sc-subheader{background-color:var(--sc-background-color2);}.sc-table td.sc-padding{background-color:var(--sc-background-color1);border:0 solid var(--sc-background-color1);height:1.2em;}.sc-label{fill:var(--sc-font-color0,#444444);text-anchor:middle;}.sc-name{fill:var(--sc-font-color0,#111111);}.sc-inset-line{stroke:var(--sc-font-color1);stroke-width:0.05;stroke-dasharray:0.2,0.2;}.sc-log-wrap{height:25ex;resize:vertical;overflow-y:scroll;display:flex;flex-direction:column-reverse;border:1px solid;border-color:var(--jp-border-color2);background-color:var(--sc-background-color1);}div.sc-log{line-height:2.5ex;}table.sc-log{table-layout:auto;border-collapse:collapse;}tr.sc-log:nth-child(even){background-color:var(--sc-background-color0);}tr.sc-log > td{vertical-align:top;padding-bottom:0.5ex;}.sc-log-time-stamp{min-width:22ch;font-family:var(--jp-code-font-family);color:var(--sc-font-color2);}.sc-log-level{min-width:10ch;}tr.sc-log-debug td.sc-log-level{color:var(--jp-accent-color1);}tr.sc-log-info td.sc-log-level{color:var(--jp-info-color1);}tr.sc-log-warning td.sc-log-level{color:var(--jp-warn-color1);}tr.sc-log-error td.sc-log-level{font-weight:bold;color:var(--jp-error-color2);}tr.sc-log-critical td.sc-log-level{font-weight:bold;color:var(--sc-background-color0);background-color:var(--jp-error-color1);}.sc-log-message{white-space:pre-wrap;width:100%;}.sc-log-html-payload{white-space:normal;}.sc-log-name{padding-right:0.5em;text-align:right;white-space:pre-wrap;color:var(--sc-font-color3);}</style><div class='sc-wrap sc-root'><div class='sc-header'><div class='sc-obj-type'>scipp.Variable (264 Bytes)</div></div><ul class='sc-sections'><li class='sc-section-item'><ul class='sc-var-list'><li class='sc-var-item'><div class='sc-standalone-var-name'><span>()</span></div><div class='sc-var-dtype'>float64</div><div class='sc-var-unit'>s</div><div class='sc-value-preview sc-preview'><span><div>0.1520456431681171</div></span></div><input id='attrs-063d00a6-6a18-4bf1-a0e4-7ce35c08b469' class='sc-var-attrs-in' type='checkbox' disabled><label for='attrs-063d00a6-6a18-4bf1-a0e4-7ce35c08b469' class='sc-hide-icon' title='Show/Hide attributes'><svg class='icon sc-icon-file-text2'><use xlink:href='#icon-file-text2'></use></svg></label><input id='data-903ce9ad-3413-4360-a7d6-a6316080a14b' class='sc-var-data-in' type='checkbox'><label for='data-903ce9ad-3413-4360-a7d6-a6316080a14b' title='Show/Hide data repr'><svg class='icon sc-icon-database'><use xlink:href='#icon-database'></use></svg></label><pre class='sc-var-data'>Values:<br>array(0.15204564)</pre></li></ul></li></ul></div></div>"
      ],
      "text/plain": [
       "<scipp.Variable> ()    float64              [s]  [0.152046]"
      ]
     },
     "execution_count": 6,
     "metadata": {},
     "output_type": "execute_result"
    }
   ],
   "source": [
    "t_list.max()"
   ]
  },
  {
   "attachments": {},
   "cell_type": "markdown",
   "metadata": {},
   "source": [
    "treatment and plotting of data"
   ]
  },
  {
   "cell_type": "code",
   "execution_count": 7,
   "metadata": {},
   "outputs": [
    {
     "data": {
      "application/vnd.jupyter.widget-view+json": {
       "model_id": "055ee9d6343841348701c6127c6ab22f",
       "version_major": 2,
       "version_minor": 0
      },
      "text/plain": [
       "Box(children=(HBox(children=(Box(children=(InteractiveFig2d(children=(HBar(), HBox(children=(VBar(children=(To…"
      ]
     },
     "metadata": {},
     "output_type": "display_data"
    }
   ],
   "source": [
    "#binning of each detector panel in t_step bins\n",
    "panel_0 = da3['panel',0].hist(t=t_step)\n",
    "panel_1 = da3['panel',1].hist(t=t_step)\n",
    "panel_2 = da3['panel',2].hist(t=t_step)\n",
    "\n",
    "p0 = pp.slicer(da3.fold('id', sizes={'ypix':pix, 'xpix':-1})['panel', 0].hist(t=t_step).transpose(['t','ypix','xpix']),vmax=panel_0.max().value, aspect='equal',title='panel 0')\n",
    "p1 = pp.slicer(da3.fold('id', sizes={'ypix':pix, 'xpix':-1})['panel', 1].hist(t=t_step).transpose(['t','ypix','xpix']),vmax=panel_1.max().value, aspect='equal',title='panel 1')\n",
    "p2 = pp.slicer(da3.fold('id', sizes={'ypix':pix, 'xpix':-1})['panel', 2].hist(t=t_step).transpose(['t','ypix','xpix']),vmax=panel_2.max().value, aspect='equal',title='panel 2')\n",
    "\n",
    "#p0.children[0].ax.set_ylim(1280, 0)\n",
    "#p1.children[0].ax.set_ylim(1280, 0)\n",
    "#p2.children[0].ax.set_ylim(1280, 0)\n",
    "\n",
    "p0.children[0].ax.set_xlim(1280, 0)\n",
    "p1.children[0].ax.set_xlim(1280, 0)\n",
    "\n",
    "p2.children[0].ax.set_xlim(1280, 0)\n",
    "\n",
    "l1 = ipw.jslink((p0.children[1].children[0].children[1], 'value'),\n",
    "               (p1.children[1].children[0].children[1], 'value'))\n",
    "l2 = ipw.jslink((p0.children[1].children[0].children[1], 'value'),\n",
    "               (p2.children[1].children[0].children[1], 'value'))\n",
    "Box([[p2, p0, p1]])"
   ]
  },
  {
   "cell_type": "code",
   "execution_count": 7,
   "metadata": {},
   "outputs": [
    {
     "data": {
      "text/html": [
       "<div><!-- Original source from -->\n",
       "<!-- https://github.com/jsignell/xarray/blob/1d960933ab252e0f79f7e050e6c9261d55568057/xarray/static/html/icons-svg-inline.html -->\n",
       "<svg style=\"position: absolute; width: 0; height: 0; overflow: hidden\">\n",
       "<defs>\n",
       "<symbol id=\"icon-database\" viewBox=\"0 0 32 32\">\n",
       "<title>Show/Hide data repr</title>\n",
       "<path d=\"M16 0c-8.837 0-16 2.239-16 5v4c0 2.761 7.163 5 16 5s16-2.239 16-5v-4c0-2.761-7.163-5-16-5z\"></path>\n",
       "<path d=\"M16 17c-8.837 0-16-2.239-16-5v6c0 2.761 7.163 5 16 5s16-2.239 16-5v-6c0 2.761-7.163 5-16 5z\"></path>\n",
       "<path d=\"M16 26c-8.837 0-16-2.239-16-5v6c0 2.761 7.163 5 16 5s16-2.239 16-5v-6c0 2.761-7.163 5-16 5z\"></path>\n",
       "</symbol>\n",
       "<symbol id=\"icon-file-text2\" viewBox=\"0 0 32 32\">\n",
       "<title>Show/Hide attributes</title>\n",
       "<path d=\"M28.681 7.159c-0.694-0.947-1.662-2.053-2.724-3.116s-2.169-2.030-3.116-2.724c-1.612-1.182-2.393-1.319-2.841-1.319h-15.5c-1.378 0-2.5 1.121-2.5 2.5v27c0 1.378 1.122 2.5 2.5 2.5h23c1.378 0 2.5-1.122 2.5-2.5v-19.5c0-0.448-0.137-1.23-1.319-2.841zM24.543 5.457c0.959 0.959 1.712 1.825 2.268 2.543h-4.811v-4.811c0.718 0.556 1.584 1.309 2.543 2.268zM28 29.5c0 0.271-0.229 0.5-0.5 0.5h-23c-0.271 0-0.5-0.229-0.5-0.5v-27c0-0.271 0.229-0.5 0.5-0.5 0 0 15.499-0 15.5 0v7c0 0.552 0.448 1 1 1h7v19.5z\"></path>\n",
       "<path d=\"M23 26h-14c-0.552 0-1-0.448-1-1s0.448-1 1-1h14c0.552 0 1 0.448 1 1s-0.448 1-1 1z\"></path>\n",
       "<path d=\"M23 22h-14c-0.552 0-1-0.448-1-1s0.448-1 1-1h14c0.552 0 1 0.448 1 1s-0.448 1-1 1z\"></path>\n",
       "<path d=\"M23 18h-14c-0.552 0-1-0.448-1-1s0.448-1 1-1h14c0.552 0 1 0.448 1 1s-0.448 1-1 1z\"></path>\n",
       "</symbol>\n",
       "</defs>\n",
       "</svg><style id=\"scipp-style-sheet\">.sc-root{--sc-background-color0:var(--jp-layout-color0,#fff);--sc-background-color1:var(--jp-layout-color1,#fcfcfc);--sc-background-color2:var(--jp-layout-color2,#efefef);--sc-inverse-background-color0:var(--jp-inverse-layout-color4,#111);--sc-font-color0:var(--jp-content-font-color0,#000);--sc-font-color1:var(--jp-content-font-color1,#555);--sc-font-color2:var(--jp-content-font-color2,#888);--sc-font-color3:var(--jp-content-font-color3,#ccc);--sc-table-data-color:#f6d028;--sc-table-coords-color:#c6e590;--sc-table-masks-color:#c8c8c8;--sc-table-attrs-color:#ff5555;--sc-table-header-font-color:#111111;}.sc-wrap{font-size:14px;min-width:300px;max-width:800px;}.sc-var-attrs .sc-wrap{padding-left:3em;}.sc-header{padding-top:6px;padding-bottom:6px;margin-bottom:4px;border-bottom:solid 1px #ddd;}.sc-header > div,.sc-header > ul{display:inline;margin-top:0;margin-bottom:0;}.sc-obj-type,.sc-array-name{margin-left:2px;margin-right:10px;}.sc-obj-type{color:var(--sc-font-color1);}.sc-underlying-size{color:var(--sc-font-color2);}.sc-sections,.reveal .sc-sections{padding-left:0 !important;display:grid;grid-template-columns:150px auto auto auto 1fr 20px 20px;}.sc-section-item{display:contents;}.sc-section-item input{display:none;}.sc-section-item input:enabled + label{cursor:pointer;color:var(--sc-font-color1);}.sc-section-item input:enabled + label:hover{color:var(--sc-font-color0);}.sc-section-summary{grid-column:1;font-weight:500;}.sc-section-summary > span{display:inline-block;padding-left:0.5em;}.sc-section-summary-in:disabled + label{color:var(--sc-font-color1);}.sc-section-summary-in + label:before{display:inline-block;content:'►';font-size:11px;width:15px;text-align:center;}.sc-section-summary-in:disabled + label:before{color:var(--sc-font-color3);}.sc-section-summary-in:checked + label:before{content:'▼';}.sc-section-summary-in:checked + label > span{display:none;}.sc-section-summary,.sc-section-inline-details{padding-top:4px;padding-bottom:4px;}.sc-section-inline-details{grid-column:2 / 6;}.sc-section-details{display:none;grid-column:1 / -1;margin-bottom:5px;}.sc-section-summary-in:checked ~ .sc-section-details{display:contents;}.sc-array-wrap{grid-column:1 / -1;display:grid;grid-template-columns:20px auto;}.sc-array-wrap > label{grid-column:1;vertical-align:top;}.sc-preview{color:var(--sc-font-color2);}.sc-array-preview,.sc-array-data{padding:0 5px !important;grid-column:2;}.sc-array-data,.sc-array-in:checked ~ .sc-array-preview{display:none;}.sc-array-in:checked ~ .sc-array-data,.sc-array-preview{display:inline-block;}.sc-dim-list{display:inline-block !important;list-style:none;padding:0 !important;margin:0;}.sc-dim-list li{display:inline-block;padding:0;margin:0!important;}.sc-dim-list:before{content:'(';}.sc-dim-list:after{content:')';}.sc-dim-list li:not(:last-child):after{content:',';padding-right:5px;}.sc-has-index{font-weight:bold;}.sc-var-list,.sc-var-item,.reveal .sc-var-list,.reveal .sc-var-item{display:contents;}.sc-var-item > div,.sc-var-item label,.sc-var-item > .sc-var-name span{background-color:var(--sc-background-color1);margin-bottom:0;}.sc-var-item > .sc-var-name:hover span{padding-right:5px;}.sc-var-list > li:nth-child(odd) > div,.sc-var-list > li:nth-child(odd) > label,.sc-var-list > li:nth-child(odd) > .sc-var-name span{background-color:var(--sc-background-color2);}.sc-var-name{grid-column:1;}.sc-var-dims{grid-column:2;}.sc-var-dtype{grid-column:3;text-align:right;color:var(--sc-font-color2);}.sc-var-unit{grid-column:4;text-align:left;color:var(--sc-font-color1);max-width:50pt;text-overflow:ellipsis;}.sc-value-preview{grid-column:5;}.sc-var-preview-variances{text-align:right;}.sc-sections .sc-section-item .sc-section-summary,.sc-sections .sc-section-item .sc-section-inline-details,.sc-section-item .sc-var-list .sc-var-item > div,.sc-section-item .sc-var-list .sc-var-item > label,.sc-section-details .sc-var-list .sc-var-item > div,.sc-section-details .sc-var-list .sc-var-item > label{margin-top:0;margin-bottom:0;}.sc-var-name,.sc-var-dims,.sc-var-dtype,.sc-var-unit,.sc-preview,.sc-attrs dt{white-space:nowrap;overflow:hidden;text-overflow:ellipsis;padding-right:10px;}.sc-var-name:hover,.sc-var-dims:hover,.sc-var-dtype:hover,.sc-var-unit:hover,.sc-attrs dt:hover{overflow:visible;width:auto;z-index:1;}.sc-var-attrs{display:block;}.sc-var-data,.reveal .sc-var-data{display:none;}.sc-var-attrs,.sc-var-data{background-color:var(--sc-background-color0) !important;padding-bottom:5px !important;}.sc-var-attrs-in:checked ~ .sc-var-attrs{display:none;}.sc-var-data-in:checked ~ .sc-var-data{display:block;}.sc-var-data > table{float:right;}.sc-var-name span,.sc-var-data{padding-left:25px !important;}.sc-var-attrs,.sc-var-data{grid-column:1 / -1;}dl.sc-attrs{padding:0;margin:0;display:grid;grid-template-columns:125px auto;}.sc-attrs dt,dd{padding:0;margin:0;float:left;padding-right:10px;width:auto;}.sc-attrs dt{font-weight:normal;grid-column:1;}.sc-attrs dt:hover span{display:inline-block;padding-right:10px;}.sc-attrs dd{grid-column:2;white-space:pre-wrap;word-break:break-all;}.sc-icon-database,.sc-icon-file-text2{display:inline-block;vertical-align:middle;width:1em;height:1.5em !important;stroke-width:0;stroke:currentColor;fill:currentColor;}label.sc-hide-icon svg{opacity:0;}.sc-standalone-var-name{grid-column:1/3;}.sc-standalone-var-name span{padding-left:25px;padding-right:10px;}.sc-table{border-collapse:collapse;}.sc-title{font-weight:bold;font-size:1.5em;}.sc-subtitle{font-weight:normal;font-style:italic;text-align:left;font-size:1.2em;padding:1px;}.sc-table th,.sc-table td{border:1px solid var(--sc-inverse-background-color0);padding:0 5px 0 5px;}.sc-table th{text-align:center;}.sc-table tr{background-color:var(--sc-background-color1);text-align:right;}.sc-table tr:hover{background-color:var(--sc-background-color2);}.sc-table th.sc-data{background-color:var(--sc-table-data-color);color:var(--sc-table-header-font-color);}.sc-table th.sc-coords{background-color:var(--sc-table-coords-color);color:var(--sc-table-header-font-color);}.sc-table th.sc-masks{background-color:var(--sc-table-masks-color);color:var(--sc-table-header-font-color);}.sc-table th.sc-attrs{background-color:var(--sc-table-attrs-color);color:var(--sc-table-header-font-color);}.sc-table th.sc-subheader{background-color:var(--sc-background-color2);}.sc-table td.sc-padding{background-color:var(--sc-background-color1);border:0 solid var(--sc-background-color1);height:1.2em;}.sc-label{fill:var(--sc-font-color0,#444444);text-anchor:middle;}.sc-name{fill:var(--sc-font-color0,#111111);}.sc-inset-line{stroke:var(--sc-font-color1);stroke-width:0.05;stroke-dasharray:0.2,0.2;}.sc-log-wrap{height:25ex;resize:vertical;overflow-y:scroll;display:flex;flex-direction:column-reverse;border:1px solid;border-color:var(--jp-border-color2);background-color:var(--sc-background-color1);}div.sc-log{line-height:2.5ex;}table.sc-log{table-layout:auto;border-collapse:collapse;}tr.sc-log:nth-child(even){background-color:var(--sc-background-color0);}tr.sc-log > td{vertical-align:top;padding-bottom:0.5ex;}.sc-log-time-stamp{min-width:22ch;font-family:var(--jp-code-font-family);color:var(--sc-font-color2);}.sc-log-level{min-width:10ch;}tr.sc-log-debug td.sc-log-level{color:var(--jp-accent-color1);}tr.sc-log-info td.sc-log-level{color:var(--jp-info-color1);}tr.sc-log-warning td.sc-log-level{color:var(--jp-warn-color1);}tr.sc-log-error td.sc-log-level{font-weight:bold;color:var(--jp-error-color2);}tr.sc-log-critical td.sc-log-level{font-weight:bold;color:var(--sc-background-color0);background-color:var(--jp-error-color1);}.sc-log-message{white-space:pre-wrap;width:100%;}.sc-log-html-payload{white-space:normal;}.sc-log-name{padding-right:0.5em;text-align:right;white-space:pre-wrap;color:var(--sc-font-color3);}</style><div class='sc-wrap sc-root'><div class='sc-header'><div class='sc-obj-type'>scipp.DataArray (4.52 GB)</div></div><ul class='sc-sections'><li class='sc-section-item'><input id='section-3239c03d-abb8-40a2-89e9-14144786461b' class='sc-section-summary-in' type='checkbox' disabled ><label for='section-3239c03d-abb8-40a2-89e9-14144786461b' class='sc-section-summary'  title='Expand/collapse section'>Dimensions:</label><div class='sc-section-inline-details'><ul class='sc-dim-list'><li><span class='sc-has-index'>id</span>: 4915200</li></ul></div><div class='sc-section-details'></div></li><li class='sc-section-item'><input id='section-b1be7440-c5de-4d32-b6ef-02eb1cb2d881' class='sc-section-summary-in' type='checkbox'  checked><label for='section-b1be7440-c5de-4d32-b6ef-02eb1cb2d881' class='sc-section-summary' >Coordinates: <span>(1)</span></label><div class='sc-section-inline-details'></div><div class='sc-section-details'><ul class='sc-var-list'><li class='sc-var-item'><div class='sc-var-name'><span class='sc-has-index'>id</span></div><div class='sc-var-dims'>(id)</div><div class='sc-var-dtype'>int64</div><div class='sc-var-unit'></div><div class='sc-value-preview sc-preview'><span><div>1, 2, ..., 5638399, 5638400</div></span></div><input id='attrs-6fda727f-cf6d-4e23-b2d9-f86b8ce5e7d6' class='sc-var-attrs-in' type='checkbox' disabled><label for='attrs-6fda727f-cf6d-4e23-b2d9-f86b8ce5e7d6' class='sc-hide-icon' title='Show/Hide attributes'><svg class='icon sc-icon-file-text2'><use xlink:href='#icon-file-text2'></use></svg></label><input id='data-74510909-6022-42da-a276-ff233fc1de0f' class='sc-var-data-in' type='checkbox'><label for='data-74510909-6022-42da-a276-ff233fc1de0f' title='Show/Hide data repr'><svg class='icon sc-icon-database'><use xlink:href='#icon-database'></use></svg></label><pre class='sc-var-data'>Values:<br>array([      1,       2,       3, ..., 5638398, 5638399, 5638400])</pre></span></li></ul></div></li><li class='sc-section-item'><input id='section-1e518715-2505-40c5-97a5-ee111ff03e91' class='sc-section-summary-in' type='checkbox'  checked><label for='section-1e518715-2505-40c5-97a5-ee111ff03e91' class='sc-section-summary' >Data: <span>(1)</span></label><div class='sc-section-inline-details'></div><div class='sc-section-details'><ul class='sc-var-list'><li class='sc-var-item'><div class='sc-var-name'><span></span></div><div class='sc-var-dims'>(id)</div><div class='sc-var-dtype'>DataArrayView</div><div class='sc-var-unit'></div><div class='sc-value-preview sc-preview'><span><div>binned data [len=12, len=8, ..., len=11, len=0]</div></span></div><input id='attrs-694047d9-3879-4a1b-ae39-931aca450360' class='sc-var-attrs-in' type='checkbox' disabled><label for='attrs-694047d9-3879-4a1b-ae39-931aca450360' class='sc-hide-icon' title='Show/Hide attributes'><svg class='icon sc-icon-file-text2'><use xlink:href='#icon-file-text2'></use></svg></label><input id='data-50d4632e-8a09-4268-bf22-826212e1eb58' class='sc-var-data-in' type='checkbox'><label for='data-50d4632e-8a09-4268-bf22-826212e1eb58' title='Show/Hide data repr'><svg class='icon sc-icon-database'><use xlink:href='#icon-database'></use></svg></label><pre class='sc-var-data'>dim=&#x27;x&#x27;,\n",
       "content=DataArray(\n",
       "          dims=(x: 148143923),\n",
       "          data=float64[counts],\n",
       "          coords={&#x27;x&#x27;:float64[m], &#x27;y&#x27;:float64[m], &#x27;t&#x27;:float64[s]})</pre></li></ul></div></li></ul></div></div>"
      ],
      "text/plain": [
       "<scipp.DataArray>\n",
       "Dimensions: Sizes[id:4915200, ]\n",
       "Coordinates:\n",
       "  id                          int64        <no unit>  (id)  [1, 2, ..., 5638399, 5638400]\n",
       "Data:\n",
       "                          DataArrayView        <no unit>  (id)  binned data: dim='x', content=DataArray(\n",
       "          dims=(x: 148143923),\n",
       "          data=float64[counts],\n",
       "          coords={'x':float64[m], 'y':float64[m], 't':float64[s]})\n"
      ]
     },
     "execution_count": 7,
     "metadata": {},
     "output_type": "execute_result"
    }
   ],
   "source": [
    "grouped = da.group(ids)\n",
    "grouped"
   ]
  },
  {
   "cell_type": "code",
   "execution_count": 8,
   "metadata": {},
   "outputs": [
    {
     "data": {
      "text/html": [
       "<div><!-- Original source from -->\n",
       "<!-- https://github.com/jsignell/xarray/blob/1d960933ab252e0f79f7e050e6c9261d55568057/xarray/static/html/icons-svg-inline.html -->\n",
       "<svg style=\"position: absolute; width: 0; height: 0; overflow: hidden\">\n",
       "<defs>\n",
       "<symbol id=\"icon-database\" viewBox=\"0 0 32 32\">\n",
       "<title>Show/Hide data repr</title>\n",
       "<path d=\"M16 0c-8.837 0-16 2.239-16 5v4c0 2.761 7.163 5 16 5s16-2.239 16-5v-4c0-2.761-7.163-5-16-5z\"></path>\n",
       "<path d=\"M16 17c-8.837 0-16-2.239-16-5v6c0 2.761 7.163 5 16 5s16-2.239 16-5v-6c0 2.761-7.163 5-16 5z\"></path>\n",
       "<path d=\"M16 26c-8.837 0-16-2.239-16-5v6c0 2.761 7.163 5 16 5s16-2.239 16-5v-6c0 2.761-7.163 5-16 5z\"></path>\n",
       "</symbol>\n",
       "<symbol id=\"icon-file-text2\" viewBox=\"0 0 32 32\">\n",
       "<title>Show/Hide attributes</title>\n",
       "<path d=\"M28.681 7.159c-0.694-0.947-1.662-2.053-2.724-3.116s-2.169-2.030-3.116-2.724c-1.612-1.182-2.393-1.319-2.841-1.319h-15.5c-1.378 0-2.5 1.121-2.5 2.5v27c0 1.378 1.122 2.5 2.5 2.5h23c1.378 0 2.5-1.122 2.5-2.5v-19.5c0-0.448-0.137-1.23-1.319-2.841zM24.543 5.457c0.959 0.959 1.712 1.825 2.268 2.543h-4.811v-4.811c0.718 0.556 1.584 1.309 2.543 2.268zM28 29.5c0 0.271-0.229 0.5-0.5 0.5h-23c-0.271 0-0.5-0.229-0.5-0.5v-27c0-0.271 0.229-0.5 0.5-0.5 0 0 15.499-0 15.5 0v7c0 0.552 0.448 1 1 1h7v19.5z\"></path>\n",
       "<path d=\"M23 26h-14c-0.552 0-1-0.448-1-1s0.448-1 1-1h14c0.552 0 1 0.448 1 1s-0.448 1-1 1z\"></path>\n",
       "<path d=\"M23 22h-14c-0.552 0-1-0.448-1-1s0.448-1 1-1h14c0.552 0 1 0.448 1 1s-0.448 1-1 1z\"></path>\n",
       "<path d=\"M23 18h-14c-0.552 0-1-0.448-1-1s0.448-1 1-1h14c0.552 0 1 0.448 1 1s-0.448 1-1 1z\"></path>\n",
       "</symbol>\n",
       "</defs>\n",
       "</svg><style id=\"scipp-style-sheet\">.sc-root{--sc-background-color0:var(--jp-layout-color0,#fff);--sc-background-color1:var(--jp-layout-color1,#fcfcfc);--sc-background-color2:var(--jp-layout-color2,#efefef);--sc-inverse-background-color0:var(--jp-inverse-layout-color4,#111);--sc-font-color0:var(--jp-content-font-color0,#000);--sc-font-color1:var(--jp-content-font-color1,#555);--sc-font-color2:var(--jp-content-font-color2,#888);--sc-font-color3:var(--jp-content-font-color3,#ccc);--sc-table-data-color:#f6d028;--sc-table-coords-color:#c6e590;--sc-table-masks-color:#c8c8c8;--sc-table-attrs-color:#ff5555;--sc-table-header-font-color:#111111;}.sc-wrap{font-size:14px;min-width:300px;max-width:800px;}.sc-var-attrs .sc-wrap{padding-left:3em;}.sc-header{padding-top:6px;padding-bottom:6px;margin-bottom:4px;border-bottom:solid 1px #ddd;}.sc-header > div,.sc-header > ul{display:inline;margin-top:0;margin-bottom:0;}.sc-obj-type,.sc-array-name{margin-left:2px;margin-right:10px;}.sc-obj-type{color:var(--sc-font-color1);}.sc-underlying-size{color:var(--sc-font-color2);}.sc-sections,.reveal .sc-sections{padding-left:0 !important;display:grid;grid-template-columns:150px auto auto auto 1fr 20px 20px;}.sc-section-item{display:contents;}.sc-section-item input{display:none;}.sc-section-item input:enabled + label{cursor:pointer;color:var(--sc-font-color1);}.sc-section-item input:enabled + label:hover{color:var(--sc-font-color0);}.sc-section-summary{grid-column:1;font-weight:500;}.sc-section-summary > span{display:inline-block;padding-left:0.5em;}.sc-section-summary-in:disabled + label{color:var(--sc-font-color1);}.sc-section-summary-in + label:before{display:inline-block;content:'►';font-size:11px;width:15px;text-align:center;}.sc-section-summary-in:disabled + label:before{color:var(--sc-font-color3);}.sc-section-summary-in:checked + label:before{content:'▼';}.sc-section-summary-in:checked + label > span{display:none;}.sc-section-summary,.sc-section-inline-details{padding-top:4px;padding-bottom:4px;}.sc-section-inline-details{grid-column:2 / 6;}.sc-section-details{display:none;grid-column:1 / -1;margin-bottom:5px;}.sc-section-summary-in:checked ~ .sc-section-details{display:contents;}.sc-array-wrap{grid-column:1 / -1;display:grid;grid-template-columns:20px auto;}.sc-array-wrap > label{grid-column:1;vertical-align:top;}.sc-preview{color:var(--sc-font-color2);}.sc-array-preview,.sc-array-data{padding:0 5px !important;grid-column:2;}.sc-array-data,.sc-array-in:checked ~ .sc-array-preview{display:none;}.sc-array-in:checked ~ .sc-array-data,.sc-array-preview{display:inline-block;}.sc-dim-list{display:inline-block !important;list-style:none;padding:0 !important;margin:0;}.sc-dim-list li{display:inline-block;padding:0;margin:0!important;}.sc-dim-list:before{content:'(';}.sc-dim-list:after{content:')';}.sc-dim-list li:not(:last-child):after{content:',';padding-right:5px;}.sc-has-index{font-weight:bold;}.sc-var-list,.sc-var-item,.reveal .sc-var-list,.reveal .sc-var-item{display:contents;}.sc-var-item > div,.sc-var-item label,.sc-var-item > .sc-var-name span{background-color:var(--sc-background-color1);margin-bottom:0;}.sc-var-item > .sc-var-name:hover span{padding-right:5px;}.sc-var-list > li:nth-child(odd) > div,.sc-var-list > li:nth-child(odd) > label,.sc-var-list > li:nth-child(odd) > .sc-var-name span{background-color:var(--sc-background-color2);}.sc-var-name{grid-column:1;}.sc-var-dims{grid-column:2;}.sc-var-dtype{grid-column:3;text-align:right;color:var(--sc-font-color2);}.sc-var-unit{grid-column:4;text-align:left;color:var(--sc-font-color1);max-width:50pt;text-overflow:ellipsis;}.sc-value-preview{grid-column:5;}.sc-var-preview-variances{text-align:right;}.sc-sections .sc-section-item .sc-section-summary,.sc-sections .sc-section-item .sc-section-inline-details,.sc-section-item .sc-var-list .sc-var-item > div,.sc-section-item .sc-var-list .sc-var-item > label,.sc-section-details .sc-var-list .sc-var-item > div,.sc-section-details .sc-var-list .sc-var-item > label{margin-top:0;margin-bottom:0;}.sc-var-name,.sc-var-dims,.sc-var-dtype,.sc-var-unit,.sc-preview,.sc-attrs dt{white-space:nowrap;overflow:hidden;text-overflow:ellipsis;padding-right:10px;}.sc-var-name:hover,.sc-var-dims:hover,.sc-var-dtype:hover,.sc-var-unit:hover,.sc-attrs dt:hover{overflow:visible;width:auto;z-index:1;}.sc-var-attrs{display:block;}.sc-var-data,.reveal .sc-var-data{display:none;}.sc-var-attrs,.sc-var-data{background-color:var(--sc-background-color0) !important;padding-bottom:5px !important;}.sc-var-attrs-in:checked ~ .sc-var-attrs{display:none;}.sc-var-data-in:checked ~ .sc-var-data{display:block;}.sc-var-data > table{float:right;}.sc-var-name span,.sc-var-data{padding-left:25px !important;}.sc-var-attrs,.sc-var-data{grid-column:1 / -1;}dl.sc-attrs{padding:0;margin:0;display:grid;grid-template-columns:125px auto;}.sc-attrs dt,dd{padding:0;margin:0;float:left;padding-right:10px;width:auto;}.sc-attrs dt{font-weight:normal;grid-column:1;}.sc-attrs dt:hover span{display:inline-block;padding-right:10px;}.sc-attrs dd{grid-column:2;white-space:pre-wrap;word-break:break-all;}.sc-icon-database,.sc-icon-file-text2{display:inline-block;vertical-align:middle;width:1em;height:1.5em !important;stroke-width:0;stroke:currentColor;fill:currentColor;}label.sc-hide-icon svg{opacity:0;}.sc-standalone-var-name{grid-column:1/3;}.sc-standalone-var-name span{padding-left:25px;padding-right:10px;}.sc-table{border-collapse:collapse;}.sc-title{font-weight:bold;font-size:1.5em;}.sc-subtitle{font-weight:normal;font-style:italic;text-align:left;font-size:1.2em;padding:1px;}.sc-table th,.sc-table td{border:1px solid var(--sc-inverse-background-color0);padding:0 5px 0 5px;}.sc-table th{text-align:center;}.sc-table tr{background-color:var(--sc-background-color1);text-align:right;}.sc-table tr:hover{background-color:var(--sc-background-color2);}.sc-table th.sc-data{background-color:var(--sc-table-data-color);color:var(--sc-table-header-font-color);}.sc-table th.sc-coords{background-color:var(--sc-table-coords-color);color:var(--sc-table-header-font-color);}.sc-table th.sc-masks{background-color:var(--sc-table-masks-color);color:var(--sc-table-header-font-color);}.sc-table th.sc-attrs{background-color:var(--sc-table-attrs-color);color:var(--sc-table-header-font-color);}.sc-table th.sc-subheader{background-color:var(--sc-background-color2);}.sc-table td.sc-padding{background-color:var(--sc-background-color1);border:0 solid var(--sc-background-color1);height:1.2em;}.sc-label{fill:var(--sc-font-color0,#444444);text-anchor:middle;}.sc-name{fill:var(--sc-font-color0,#111111);}.sc-inset-line{stroke:var(--sc-font-color1);stroke-width:0.05;stroke-dasharray:0.2,0.2;}.sc-log-wrap{height:25ex;resize:vertical;overflow-y:scroll;display:flex;flex-direction:column-reverse;border:1px solid;border-color:var(--jp-border-color2);background-color:var(--sc-background-color1);}div.sc-log{line-height:2.5ex;}table.sc-log{table-layout:auto;border-collapse:collapse;}tr.sc-log:nth-child(even){background-color:var(--sc-background-color0);}tr.sc-log > td{vertical-align:top;padding-bottom:0.5ex;}.sc-log-time-stamp{min-width:22ch;font-family:var(--jp-code-font-family);color:var(--sc-font-color2);}.sc-log-level{min-width:10ch;}tr.sc-log-debug td.sc-log-level{color:var(--jp-accent-color1);}tr.sc-log-info td.sc-log-level{color:var(--jp-info-color1);}tr.sc-log-warning td.sc-log-level{color:var(--jp-warn-color1);}tr.sc-log-error td.sc-log-level{font-weight:bold;color:var(--jp-error-color2);}tr.sc-log-critical td.sc-log-level{font-weight:bold;color:var(--sc-background-color0);background-color:var(--jp-error-color1);}.sc-log-message{white-space:pre-wrap;width:100%;}.sc-log-html-payload{white-space:normal;}.sc-log-name{padding-right:0.5em;text-align:right;white-space:pre-wrap;color:var(--sc-font-color3);}</style><div class='sc-wrap sc-root'><div class='sc-header'><div class='sc-obj-type'>scipp.DataArray (225.00 MB)</div></div><ul class='sc-sections'><li class='sc-section-item'><input id='section-797147fb-acc5-4019-aa29-e370788f5a6d' class='sc-section-summary-in' type='checkbox' disabled ><label for='section-797147fb-acc5-4019-aa29-e370788f5a6d' class='sc-section-summary'  title='Expand/collapse section'>Dimensions:</label><div class='sc-section-inline-details'><ul class='sc-dim-list'><li><span class='sc-has-index'>id</span>: 4915200</li><li><span class='sc-has-index'>t</span>: 5</li></ul></div><div class='sc-section-details'></div></li><li class='sc-section-item'><input id='section-720b30ae-a60d-411a-a3c2-e8d371617112' class='sc-section-summary-in' type='checkbox'  checked><label for='section-720b30ae-a60d-411a-a3c2-e8d371617112' class='sc-section-summary' >Coordinates: <span>(2)</span></label><div class='sc-section-inline-details'></div><div class='sc-section-details'><ul class='sc-var-list'><li class='sc-var-item'><div class='sc-var-name'><span class='sc-has-index'>id</span></div><div class='sc-var-dims'>(id)</div><div class='sc-var-dtype'>int64</div><div class='sc-var-unit'></div><div class='sc-value-preview sc-preview'><span><div>1, 2, ..., 5638399, 5638400</div></span></div><input id='attrs-0ce40b6c-6ddb-4058-a407-b22d27ea9492' class='sc-var-attrs-in' type='checkbox' disabled><label for='attrs-0ce40b6c-6ddb-4058-a407-b22d27ea9492' class='sc-hide-icon' title='Show/Hide attributes'><svg class='icon sc-icon-file-text2'><use xlink:href='#icon-file-text2'></use></svg></label><input id='data-43c4845d-8943-468d-8e5d-b06c48f0e91f' class='sc-var-data-in' type='checkbox'><label for='data-43c4845d-8943-468d-8e5d-b06c48f0e91f' title='Show/Hide data repr'><svg class='icon sc-icon-database'><use xlink:href='#icon-database'></use></svg></label><pre class='sc-var-data'>Values:<br>array([      1,       2,       3, ..., 5638398, 5638399, 5638400])</pre></span></li><li class='sc-var-item'><div class='sc-var-name'><span class='sc-has-index'>t</span></div><div class='sc-var-dims'>(t [bin-edge])</div><div class='sc-var-dtype'>float64</div><div class='sc-var-unit'>s</div><div class='sc-value-preview sc-preview'><span><div>0.093, 0.104, ..., 0.140, 0.152</div></span></div><input id='attrs-d8a960ea-fd6e-40ca-999d-a1cc96202ad6' class='sc-var-attrs-in' type='checkbox' disabled><label for='attrs-d8a960ea-fd6e-40ca-999d-a1cc96202ad6' class='sc-hide-icon' title='Show/Hide attributes'><svg class='icon sc-icon-file-text2'><use xlink:href='#icon-file-text2'></use></svg></label><input id='data-1ad2ed31-ed15-45c5-bcef-f456251f9295' class='sc-var-data-in' type='checkbox'><label for='data-1ad2ed31-ed15-45c5-bcef-f456251f9295' title='Show/Hide data repr'><svg class='icon sc-icon-database'><use xlink:href='#icon-database'></use></svg></label><pre class='sc-var-data'>Values:<br>array([0.09261141, 0.10449826, 0.1163851 , 0.12827195, 0.1401588 ,\n",
       "       0.15204564])</pre></span></li></ul></div></li><li class='sc-section-item'><input id='section-9ec79fac-a167-4146-bc01-4ba7de1bd48a' class='sc-section-summary-in' type='checkbox'  checked><label for='section-9ec79fac-a167-4146-bc01-4ba7de1bd48a' class='sc-section-summary' >Data: <span>(1)</span></label><div class='sc-section-inline-details'></div><div class='sc-section-details'><ul class='sc-var-list'><li class='sc-var-item'><div class='sc-var-name'><span></span></div><div class='sc-var-dims'>(id, t)</div><div class='sc-var-dtype'>float64</div><div class='sc-var-unit'>counts</div><div class='sc-value-preview sc-preview'><span><div>0.0, 0.003, ..., 0.0, 0.0</div></span></div><input id='attrs-40e37019-6779-4499-a1ac-b4c8f7c9daf1' class='sc-var-attrs-in' type='checkbox' disabled><label for='attrs-40e37019-6779-4499-a1ac-b4c8f7c9daf1' class='sc-hide-icon' title='Show/Hide attributes'><svg class='icon sc-icon-file-text2'><use xlink:href='#icon-file-text2'></use></svg></label><input id='data-3b53aa54-25a7-41a5-8c67-6b6a3a66402c' class='sc-var-data-in' type='checkbox'><label for='data-3b53aa54-25a7-41a5-8c67-6b6a3a66402c' title='Show/Hide data repr'><svg class='icon sc-icon-database'><use xlink:href='#icon-database'></use></svg></label><pre class='sc-var-data'>Values:<br>array([[0.00000000e+00, 3.32246057e-03, 9.55120606e-03, 1.23519929e-03,\n",
       "        0.00000000e+00],\n",
       "       [0.00000000e+00, 1.13419959e-06, 1.96251367e-03, 3.17013723e-03,\n",
       "        0.00000000e+00],\n",
       "       [0.00000000e+00, 8.84352605e-03, 7.00101494e-03, 5.56161620e-03,\n",
       "        0.00000000e+00],\n",
       "       ...,\n",
       "       [0.00000000e+00, 8.65078837e-06, 5.33974479e-03, 6.83075706e-03,\n",
       "        0.00000000e+00],\n",
       "       [1.21669943e-07, 9.17734021e-04, 1.19205685e-02, 2.46462760e-03,\n",
       "        0.00000000e+00],\n",
       "       [0.00000000e+00, 0.00000000e+00, 0.00000000e+00, 0.00000000e+00,\n",
       "        0.00000000e+00]])</pre></li></ul></div></li></ul></div></div>"
      ],
      "text/plain": [
       "<scipp.DataArray>\n",
       "Dimensions: Sizes[id:4915200, t:5, ]\n",
       "Coordinates:\n",
       "  id                          int64        <no unit>  (id)  [1, 2, ..., 5638399, 5638400]\n",
       "  t                         float64              [s]  (t [bin-edge])  [0.0926114, 0.104498, ..., 0.140159, 0.152046]\n",
       "Data:\n",
       "                            float64         [counts]  (id, t)  [0, 0.00332246, ..., 0, 0]\n"
      ]
     },
     "execution_count": 8,
     "metadata": {},
     "output_type": "execute_result"
    }
   ],
   "source": [
    "group_t = grouped.hist(t=t_step)\n",
    "group_t"
   ]
  },
  {
   "cell_type": "code",
   "execution_count": null,
   "metadata": {},
   "outputs": [],
   "source": [
    "print(\"da\",da.shape)\n",
    "print(\"normal\", grouped.shape)\n",
    "print(\"bin\",group_t.shape)\n",
    "print(2000000-1280**2)\n"
   ]
  },
  {
   "cell_type": "code",
   "execution_count": null,
   "metadata": {},
   "outputs": [],
   "source": [
    "ids.shape"
   ]
  },
  {
   "cell_type": "code",
   "execution_count": null,
   "metadata": {},
   "outputs": [],
   "source": [
    "sd0 = np.array(np.arange(1, 1638401))\n",
    "sd1 = np.array(np.arange(2000001, 3638401))\n",
    "sd2 = np.array(np.arange(4000001, 5638401))\n",
    "\n",
    "all_id = np.concatenate((sd0, sd1, sd2))\n",
    "# print(\"grouped\",grouped.shape[0]/3, 1280**2,grouped.shape )\n",
    "# print(\"ids\",all_id.shape, sd0.shape)\n",
    "# print(sd2.shape)\n",
    "# print(grouped.shape, all_id.shape, one.shape)\n",
    "t_list_new = np.full(4915200,0.09266584)\n",
    "\n",
    "# print(t_list_new)\n",
    "\n",
    "t_list_sim = sc.array(dims=['x'], unit='s', values=t_list_new)\n",
    "id_list_sim = sc.array(dims=['x'], unit=None, values=all_id, dtype='int64')\n",
    "weights_sim = sc.zeros_like(id_list_sim)\n",
    "\n",
    "# print(t_list_sim.shape, id_list_sim.shape, weights_sim.shape)\n",
    "\n",
    "da_sim = sc.DataArray(data=weights_sim, coords={ 't': t_list_sim, 'id': id_list_sim})\n",
    "\n",
    "da_sim\n",
    "\n",
    "\n"
   ]
  },
  {
   "cell_type": "code",
   "execution_count": null,
   "metadata": {},
   "outputs": [],
   "source": [
    "grouped.bins.size().plot(ignore_size=True)"
   ]
  },
  {
   "cell_type": "code",
   "execution_count": null,
   "metadata": {},
   "outputs": [],
   "source": [
    "print(group_t.coords['t'].shape)\n",
    "print(group_t.coords['id'].values.shape)\n",
    "print(group_t.values.shape)"
   ]
  },
  {
   "cell_type": "code",
   "execution_count": null,
   "metadata": {},
   "outputs": [],
   "source": [
    "print(f.filename)\n",
    "print(f.file)\n",
    "print(f.driver)\n",
    "print(f.mode)\n"
   ]
  },
  {
   "cell_type": "code",
   "execution_count": null,
   "metadata": {},
   "outputs": [],
   "source": [
    "da.coords['panel'] = id_list // sc.index(2000000)\n",
    "da2 = da.group('panel').bin(x=pix, y=pix)\n",
    "\n"
   ]
  },
  {
   "attachments": {},
   "cell_type": "markdown",
   "metadata": {},
   "source": [
    "\n",
    "up data reagarding ids"
   ]
  },
  {
   "cell_type": "code",
   "execution_count": null,
   "metadata": {},
   "outputs": [],
   "source": [
    "print(panel_0.values.shape)\n",
    "print( \"t_min\",t_list.min().value, \"t_max\",t_list.max().value)\n",
    "t_min =t_list.min().value \n",
    "t_max =t_list.max().value"
   ]
  },
  {
   "attachments": {},
   "cell_type": "markdown",
   "metadata": {},
   "source": [
    "\n",
    "ts with slicer to scan TOF"
   ]
  },
  {
   "attachments": {},
   "cell_type": "markdown",
   "metadata": {},
   "source": [
    "which time of the pulse do we chose as T0 for TOF"
   ]
  },
  {
   "cell_type": "code",
   "execution_count": null,
   "metadata": {},
   "outputs": [],
   "source": [
    "#p1f = da3.fold('id', sizes={'xpix':1280, 'ypix':-1})['panel', 0].hist(t=t_step)\n",
    "#p11 = da3['panel',0] #.hist(t=t_step)\n",
    "#p11[0].values"
   ]
  },
  {
   "attachments": {},
   "cell_type": "markdown",
   "metadata": {},
   "source": [
    "dd 2D binning (x and y)"
   ]
  },
  {
   "cell_type": "code",
   "execution_count": null,
   "metadata": {},
   "outputs": [],
   "source": [
    "#p12 = p11.bins\n",
    "#sc.show(p1f)"
   ]
  },
  {
   "cell_type": "code",
   "execution_count": null,
   "metadata": {},
   "outputs": [],
   "source": [
    "#p1n = p1f.values\n",
    "#print(p1n.shape)\n",
    "#p1n[0][0][0]\n"
   ]
  },
  {
   "cell_type": "code",
   "execution_count": null,
   "metadata": {},
   "outputs": [],
   "source": [
    "#s1 = p1f['t',0]\n",
    "#s2 = s1.values\n",
    "#print(s2.shape,s2[0][0])\n",
    "\n",
    "#s1"
   ]
  },
  {
   "cell_type": "code",
   "execution_count": null,
   "metadata": {},
   "outputs": [],
   "source": [
    "#p11.values"
   ]
  },
  {
   "attachments": {},
   "cell_type": "markdown",
   "metadata": {},
   "source": [
    "getting all important things to wrire about the data!"
   ]
  },
  {
   "cell_type": "code",
   "execution_count": null,
   "metadata": {},
   "outputs": [],
   "source": [
    "c0 = panel_0.values\n",
    "c0.shape\n",
    "t0 = panel_0.coords['t'].values\n",
    "id0 = panel_0.coords['id'].values\n",
    "c0"
   ]
  },
  {
   "cell_type": "code",
   "execution_count": null,
   "metadata": {},
   "outputs": [],
   "source": [
    "f = h5py.File(filename)\n",
    "a = f['entry1/data']['bank01_events_dat_list_p_x_y_n_id_t']['events'][...]\n",
    "d = np.matrix.transpose(a)\n",
    "print(d.shape)\n",
    "\n",
    "\n",
    "x_list = sc.array(dims=['x'], unit='m', values=d[1])\n",
    "y_list = sc.array(dims=['x'], unit='m', values=d[2])\n",
    "t_list = sc.array(dims=['x'], unit='ms', values=d[5])\n",
    "id_list = sc.array(dims=['x'], unit='none', values=d[4])\n",
    "print(x_list.shape, y_list.shape, t_list.shape,id_list.shape)\n",
    "weights = sc.ones_like(x_list)\n",
    "weights.unit = 'counts'\n",
    "da = sc.DataArray(data=weights, coords={'x': x_list, 'y': y_list, 't': t_list, 'id': id_list})\n",
    "print(da)\n",
    "\n",
    "\n",
    "\n",
    "\n",
    "\n",
    "\n"
   ]
  },
  {
   "cell_type": "code",
   "execution_count": null,
   "metadata": {},
   "outputs": [],
   "source": [
    "\n",
    "\n",
    "nbin= 1280\n",
    "binned = da.bin(y=nbin, x=nbin)\n",
    "#binned = da.bin(y=50, x=50)\n",
    "#binned = da.bin(y=225, x=225)\n",
    "#sc.transpose(binned)\n",
    "\n",
    "binned\n",
    "\n"
   ]
  },
  {
   "attachments": {},
   "cell_type": "markdown",
   "metadata": {},
   "source": [
    "3D binning"
   ]
  },
  {
   "cell_type": "code",
   "execution_count": null,
   "metadata": {},
   "outputs": [],
   "source": [
    "tbin=300\n",
    "hist3=binned.hist(t=tbin)"
   ]
  },
  {
   "attachments": {},
   "cell_type": "markdown",
   "metadata": {},
   "source": [
    "histrogramm 3D data"
   ]
  },
  {
   "attachments": {},
   "cell_type": "markdown",
   "metadata": {},
   "source": [
    "\n",
    "plot t slice"
   ]
  },
  {
   "cell_type": "code",
   "execution_count": null,
   "metadata": {},
   "outputs": [],
   "source": [
    "#nb=60\n",
    "#times=hist3.coords['t']\n",
    "#print(len(times))\n",
    "#print(len(times),times[nb],times[nb+1])\n",
    "#hist3['t',nb].transpose().plot(aspect='equal')"
   ]
  },
  {
   "attachments": {},
   "cell_type": "markdown",
   "metadata": {},
   "source": [
    "nn with pixel id"
   ]
  },
  {
   "cell_type": "code",
   "execution_count": null,
   "metadata": {},
   "outputs": [],
   "source": [
    "hist3"
   ]
  },
  {
   "cell_type": "code",
   "execution_count": null,
   "metadata": {},
   "outputs": [],
   "source": [
    "# del hist3.coords['tc']\n",
    "# del hist3.coords['xc']\n",
    "# del hist3.coords['yc']"
   ]
  },
  {
   "cell_type": "code",
   "execution_count": null,
   "metadata": {},
   "outputs": [],
   "source": [
    "hist4 = hist3.copy()\n",
    "for name in list(hist4.coords.keys()):\n",
    "    hist4.coords[f'{name}c'] = sc.midpoints(hist4.coords[name])\n",
    "hist4"
   ]
  },
  {
   "cell_type": "code",
   "execution_count": null,
   "metadata": {},
   "outputs": [],
   "source": [
    "300*300*200"
   ]
  },
  {
   "cell_type": "code",
   "execution_count": null,
   "metadata": {},
   "outputs": [],
   "source": [
    "hist5 = sc.flatten(hist4, to='row')\n",
    "ava = np.average(hist5.values) #avarage of values to use as cut off creteria\n",
    "sig = np.std(hist5.values)\n",
    "cut = ava + sig*10\n",
    "#print(\"background substraction\",cut, ava, sig)\n",
    "select = hist5.data > sc.scalar(cut, unit='counts') # cut of background\n",
    "filtered = hist5[select]\n",
    "filtered.coords['tc'] *= 10\n",
    "filtered"
   ]
  },
  {
   "cell_type": "code",
   "execution_count": null,
   "metadata": {},
   "outputs": [],
   "source": [
    "ava = np.average(hist5.values)\n",
    "sig = np.std(hist5.values)\n",
    "#print(ava, sig)"
   ]
  },
  {
   "cell_type": "code",
   "execution_count": null,
   "metadata": {},
   "outputs": [],
   "source": [
    "hist5"
   ]
  },
  {
   "cell_type": "code",
   "execution_count": null,
   "metadata": {},
   "outputs": [],
   "source": [
    "hist4"
   ]
  },
  {
   "cell_type": "code",
   "execution_count": null,
   "metadata": {},
   "outputs": [],
   "source": [
    "nbin= pix\n",
    "nbin = 250\n",
    "binned = da.bin(y=nbin, x=nbin)\n",
    "#binned = da.bin(y=50, x=50)\n",
    "#binned = da.bin(y=225, x=225)\n",
    "#sc.transpose(binned)\n",
    "\n",
    "binned\n",
    "\n",
    "hist3=binned.hist(t=t_step)\n",
    "\n",
    "hist4 = hist3.copy()\n",
    "for name in list(hist4.coords.keys()):\n",
    "    hist4.coords[f'{name}c'] = sc.midpoints(hist4.coords[name])\n",
    "hist4\n",
    "\n",
    "hist5 = sc.flatten(hist4, to='row')\n",
    "ava = np.average(hist5.values) #avarage of values to use as cut off creteria\n",
    "sig = np.std(hist5.values)\n",
    "cut = ava + sig*2\n",
    "#print(\"background substraction\",cut, ava, sig)\n",
    "select = hist5.data > sc.scalar(cut, unit='counts') # cut of background\n",
    "filtered = hist5[select]\n",
    "filtered.coords['tc'] *= 10\n",
    "filtered\n",
    "\n",
    "pp.scatter3d(filtered, x='xc', y='yc', z='tc', pixel_size=0.001)#,figsize=(550, 550))"
   ]
  },
  {
   "cell_type": "code",
   "execution_count": null,
   "metadata": {},
   "outputs": [],
   "source": []
  },
  {
   "cell_type": "code",
   "execution_count": null,
   "metadata": {},
   "outputs": [],
   "source": [
    "pp.scatter3d(filtered, x='xc', y='yc', z='tc', pixel_size=0.001)#,figsize=(550, 550))"
   ]
  },
  {
   "cell_type": "code",
   "execution_count": null,
   "metadata": {},
   "outputs": [],
   "source": [
    "nbin= 1280**2\n",
    "print(nbin)\n",
    "tbin = 12\n",
    "id_binned = da.bin(id=nbin)\n",
    "\n",
    "id_hist=id_binned.hist(t=tbin)\n",
    "\n",
    "\n",
    "id_hist.sum"
   ]
  },
  {
   "cell_type": "code",
   "execution_count": null,
   "metadata": {},
   "outputs": [],
   "source": [
    "#f_out = h5py.File('/Users/justinbergmann/work_flow/test_out/test.h5','w')"
   ]
  },
  {
   "attachments": {},
   "cell_type": "markdown",
   "metadata": {},
   "source": [
    "detector postion"
   ]
  },
  {
   "cell_type": "code",
   "execution_count": 10,
   "metadata": {},
   "outputs": [
    {
     "data": {
      "text/plain": [
       "[0.282776, -0.25, 157.697]"
      ]
     },
     "execution_count": 10,
     "metadata": {},
     "output_type": "execute_result"
    }
   ],
   "source": [
    "origen = f['entry1/data']['bank01_events_dat_list_p_x_y_n_id_t']['distance'][0].decode()\n",
    "origen = list(np.float_(origen.split()))\n",
    "origen"
   ]
  },
  {
   "cell_type": "code",
   "execution_count": 9,
   "metadata": {},
   "outputs": [
    {
     "name": "stdout",
     "output_type": "stream",
     "text": [
      "[b'0.282776 -0.25 157.697']\n",
      "#######\n",
      "123 [b'0.282776', b'-0.25', b'157.697']\n"
     ]
    },
    {
     "data": {
      "text/plain": [
       "[0.282776, -0.25, 157.697]"
      ]
     },
     "execution_count": 9,
     "metadata": {},
     "output_type": "execute_result"
    }
   ],
   "source": [
    "origen_l = f['entry1/data']['bank01_events_dat_list_p_x_y_n_id_t']['distance'][...]\n",
    "print(origen_l)\n",
    "\n",
    "o_l = origen_l[0].split()\n",
    "print(\"#######\")\n",
    "print(\"123\",o_l)\n",
    "det_or = []\n",
    "for i in range(len(o_l)):\n",
    "    det_or.append(float(o_l[i]))\n",
    "#x = float(ol[0])\n",
    "det_or"
   ]
  },
  {
   "cell_type": "code",
   "execution_count": null,
   "metadata": {},
   "outputs": [],
   "source": [
    "#f = h5py.File(filename)\n",
    "#abc = f['entry1/instrument/instrument_xml'].keys() \n",
    "print( f['entry1/instrument/instrument_xml/data'])\n",
    "\n",
    "f['entry1/instrument/instrument_xml/data']\n"
   ]
  },
  {
   "cell_type": "code",
   "execution_count": 11,
   "metadata": {},
   "outputs": [],
   "source": [
    "\n",
    "def CDist2(A,B):\n",
    "#calculate distance betweenn two points\n",
    "        dist = len3dvec(twoP_to_vec(A, B))\n",
    "        return dist\n",
    "\n",
    "\n",
    "\n",
    "def len3dvec(vec):\n",
    "## calculates lengh of a 3D vecor\n",
    "## input as list\n",
    "        a = np.sqrt(vec[0]**2 + vec[1]**2 + vec[2]**2)\n",
    "        return a\n",
    "\n",
    "def twoP_to_vec(A,B):\n",
    "#creates vector between two points\n",
    "        vec = np.array([B[0]-A[0], B[1]-A[1], B[2]-A[2]])\n",
    "\n",
    "        return vec"
   ]
  },
  {
   "cell_type": "code",
   "execution_count": 12,
   "metadata": {},
   "outputs": [
    {
     "data": {
      "text/plain": [
       "['b\\'<?xml version=\"1.0\" encoding=\"UTF-8\"?>',\n",
       " '<!-- IDF generated using McStas McDisplay and the Mantid backend -->',\n",
       " '<!-- For help on the notation used to specify an Instrument Definition File see http://www.mantidproject.org/IDF -->',\n",
       " '<instrument name=\"NMX_Mantid.out\" valid-from   =\"1900-01-31 23:59:59\"',\n",
       " 'valid-to     =\"2100-01-31 23:59:59\" last-modified=\"Fri May 26 07:44:17 2023\">',\n",
       " '<defaults>',\n",
       " '\\\\t<length unit=\"meter\"/>',\n",
       " '\\\\t<angle unit=\"degree\"/>',\n",
       " '\\\\t<reference-frame>',\n",
       " '\\\\t\\\\t<!-- The z-axis is set parallel to and in the direction of the beam. The y-axis points up and the coordinate system is right handed. -->',\n",
       " '\\\\t\\\\t<along-beam axis=\"z\"/>',\n",
       " '\\\\t\\\\t<pointing-up axis=\"y\"/>',\n",
       " '\\\\t\\\\t<handedness val=\"right\"/>',\n",
       " '\\\\t</reference-frame>',\n",
       " '\\\\t\\\\t<default-view axis-view=\"z-\"/>',\n",
       " '\\\\t</defaults>',\n",
       " '',\n",
       " '<!-- LIST OF PHYSICAL COMPONENTS (which the instrument consists of) -->',\n",
       " '',\n",
       " '<type name=\"Othercomp\"></type>',\n",
       " '',\n",
       " '<component type=\"sourceMantid-type\" name=\"sourceMantid\">',\n",
       " '<location x=\" 0\" y=\" 0\" z=\" 0\"  />',\n",
       " '</component>',\n",
       " '',\n",
       " '<component type=\"sampleMantid-type\" name=\"sampleMantid\">',\n",
       " '<location x=\" 0.53123\" y=\" 0\" z=\" 157.405\"  rot=\"0.303181121242003\" axis-x=\"0\" axis-y=\"1\" axis-z=\"0\" />',\n",
       " '</component>',\n",
       " '',\n",
       " '',\n",
       " '<type name=\"Origin-type\"  >',\n",
       " '</type>',\n",
       " '',\n",
       " '<type name=\"line-sourceMantid-0\" >',\n",
       " '\\\\t<cylinder id=\"dummy\" >',\n",
       " '\\\\t\\\\t<centre-of-bottom-base x=\"0\" y=\"0\" z=\"0\" />',\n",
       " '\\\\t\\\\t<axis x=\"0.2\" y=\"0\" z=\"0\" />',\n",
       " '\\\\t\\\\t<radius val=\"0.005\" />',\n",
       " '\\\\t\\\\t<height val=\"0.2\" />',\n",
       " '\\\\t</cylinder >',\n",
       " '</type>',\n",
       " '',\n",
       " '<type name=\"line-sourceMantid-1\" >',\n",
       " '\\\\t<cylinder id=\"dummy\" >',\n",
       " '\\\\t\\\\t<centre-of-bottom-base x=\"0\" y=\"0\" z=\"0\" />',\n",
       " '\\\\t\\\\t<axis x=\"0\" y=\"0.2\" z=\"0\" />',\n",
       " '\\\\t\\\\t<radius val=\"0.005\" />',\n",
       " '\\\\t\\\\t<height val=\"0.2\" />',\n",
       " '\\\\t</cylinder >',\n",
       " '</type>',\n",
       " '',\n",
       " '<type name=\"line-sourceMantid-2\" >',\n",
       " '\\\\t<cylinder id=\"dummy\" >',\n",
       " '\\\\t\\\\t<centre-of-bottom-base x=\"0\" y=\"0\" z=\"0\" />',\n",
       " '\\\\t\\\\t<axis x=\"0\" y=\"0\" z=\"0.2\" />',\n",
       " '\\\\t\\\\t<radius val=\"0.005\" />',\n",
       " '\\\\t\\\\t<height val=\"0.2\" />',\n",
       " '\\\\t</cylinder >',\n",
       " '</type>',\n",
       " '',\n",
       " '<type name=\"sourceMantid-type\" is=\"Source\" >',\n",
       " '\\\\t<component type=\"line-sourceMantid-0\" >',\n",
       " '\\\\t\\\\t<location x=\"0\" y=\"0\" z=\"0\" />',\n",
       " '\\\\t</component >',\n",
       " '\\\\t<component type=\"line-sourceMantid-1\" >',\n",
       " '\\\\t\\\\t<location x=\"0\" y=\"0\" z=\"0\" />',\n",
       " '\\\\t</component >',\n",
       " '\\\\t<component type=\"line-sourceMantid-2\" >',\n",
       " '\\\\t\\\\t<location x=\"0\" y=\"0\" z=\"0\" />',\n",
       " '\\\\t</component >',\n",
       " '</type>',\n",
       " '',\n",
       " '<type name=\"line-sampleMantid-0\" >',\n",
       " '\\\\t<cylinder id=\"dummy\" >',\n",
       " '\\\\t\\\\t<centre-of-bottom-base x=\"0\" y=\"0\" z=\"0\" />',\n",
       " '\\\\t\\\\t<axis x=\"0.2\" y=\"0\" z=\"0\" />',\n",
       " '\\\\t\\\\t<radius val=\"0.005\" />',\n",
       " '\\\\t\\\\t<height val=\"0.2\" />',\n",
       " '\\\\t</cylinder >',\n",
       " '</type>',\n",
       " '',\n",
       " '<type name=\"line-sampleMantid-1\" >',\n",
       " '\\\\t<cylinder id=\"dummy\" >',\n",
       " '\\\\t\\\\t<centre-of-bottom-base x=\"0\" y=\"0\" z=\"0\" />',\n",
       " '\\\\t\\\\t<axis x=\"0\" y=\"0.2\" z=\"0\" />',\n",
       " '\\\\t\\\\t<radius val=\"0.005\" />',\n",
       " '\\\\t\\\\t<height val=\"0.2\" />',\n",
       " '\\\\t</cylinder >',\n",
       " '</type>',\n",
       " '',\n",
       " '<type name=\"line-sampleMantid-2\" >',\n",
       " '\\\\t<cylinder id=\"dummy\" >',\n",
       " '\\\\t\\\\t<centre-of-bottom-base x=\"0\" y=\"0\" z=\"0\" />',\n",
       " '\\\\t\\\\t<axis x=\"0\" y=\"0\" z=\"0.2\" />',\n",
       " '\\\\t\\\\t<radius val=\"0.005\" />',\n",
       " '\\\\t\\\\t<height val=\"0.2\" />',\n",
       " '\\\\t</cylinder >',\n",
       " '</type>',\n",
       " '',\n",
       " '<type name=\"sampleMantid-type\" is=\"SamplePos\" >',\n",
       " '\\\\t<component type=\"line-sampleMantid-0\" >',\n",
       " '\\\\t\\\\t<location x=\"0\" y=\"0\" z=\"0\" />',\n",
       " '\\\\t</component >',\n",
       " '\\\\t<component type=\"line-sampleMantid-1\" >',\n",
       " '\\\\t\\\\t<location x=\"0\" y=\"0\" z=\"0\" />',\n",
       " '\\\\t</component >',\n",
       " '\\\\t<component type=\"line-sampleMantid-2\" >',\n",
       " '\\\\t\\\\t<location x=\"0\" y=\"0\" z=\"0\" />',\n",
       " '\\\\t</component >',\n",
       " '</type>',\n",
       " '',\n",
       " '<type name=\"Sphere-type\"  >',\n",
       " '</type>',\n",
       " '',\n",
       " '<component type=\"MonNDtype-0\" name=\"nD_Mantid_0\" idstart=\"1\" idfillbyfirst=\"x\" idstepbyrow=\" 1280\">',\n",
       " '\\\\t<location x=\" 0.282776\" y=\" -0.25\" z=\" 157.697\"  rot=\"0.303181121242003\" axis-x=\"0\" axis-y=\"1\" axis-z=\"0\" />',\n",
       " '</component>',\n",
       " '',\n",
       " '<type name=\"MonNDtype-0\" is=\"RectangularDetector\" type=\"pixel-0\"',\n",
       " '\\\\txpixels=\" 1280\" xstart=\"0.0002\" xstep=\"0.0004\"',\n",
       " '\\\\typixels=\" 1280\" ystart=\"0.0002\" ystep=\"0.0004\">',\n",
       " '</type>',\n",
       " '<type is=\"detector\" name=\"pixel-0\">',\n",
       " '\\\\t<cuboid id=\"pixel-shape-0\">',\n",
       " '\\\\t\\\\t<left-front-bottom-point x=\"0.0002\" y=\"-0.0002\" z=\"0.0\" />',\n",
       " '\\\\t\\\\t<left-front-top-point x=\"0.0002\" y=\"0.0002\" z=\"0.0\" />',\n",
       " '\\\\t\\\\t<left-back-bottom-point x=\"0.0002\" y=\"-0.0002\" z=\"0.00005\" />',\n",
       " '\\\\t\\\\t<right-front-bottom-point x=\"-0.0002\" y=\"-0.0002\" z=\"0.0\" />',\n",
       " '\\\\t</cuboid>',\n",
       " '\\\\t<algebra val=\"pixel-shape-0\" />',\n",
       " '</type>',\n",
       " '',\n",
       " '',\n",
       " '<component type=\"MonNDtype-1\" name=\"nD_Mantid_1\" idstart=\"2000000\" idfillbyfirst=\"x\" idstepbyrow=\" 1280\">',\n",
       " '\\\\t<location x=\" 0.242564\" y=\" -0.25\" z=\" 157.657\"  rot=\"90.3045938200173\" axis-x=\"0\" axis-y=\"1\" axis-z=\"0\" />',\n",
       " '</component>',\n",
       " '',\n",
       " '<type name=\"MonNDtype-1\" is=\"RectangularDetector\" type=\"pixel-1\"',\n",
       " '\\\\txpixels=\" 1280\" xstart=\"0.0002\" xstep=\"0.0004\"',\n",
       " '\\\\typixels=\" 1280\" ystart=\"0.0002\" ystep=\"0.0004\">',\n",
       " '</type>',\n",
       " '<type is=\"detector\" name=\"pixel-1\">',\n",
       " '\\\\t<cuboid id=\"pixel-shape-1\">',\n",
       " '\\\\t\\\\t<left-front-bottom-point x=\"0.0002\" y=\"-0.0002\" z=\"0.0\" />',\n",
       " '\\\\t\\\\t<left-front-top-point x=\"0.0002\" y=\"0.0002\" z=\"0.0\" />',\n",
       " '\\\\t\\\\t<left-back-bottom-point x=\"0.0002\" y=\"-0.0002\" z=\"0.00005\" />',\n",
       " '\\\\t\\\\t<right-front-bottom-point x=\"-0.0002\" y=\"-0.0002\" z=\"0.0\" />',\n",
       " '\\\\t</cuboid>',\n",
       " '\\\\t<algebra val=\"pixel-shape-1\" />',\n",
       " '</type>',\n",
       " '',\n",
       " '',\n",
       " '<component type=\"MonNDtype-2\" name=\"nD_Mantid_2\" idstart=\"4000000\" idfillbyfirst=\"x\" idstepbyrow=\" 1280\">',\n",
       " '\\\\t<location x=\" 0.819897\" y=\" -0.25\" z=\" 157.154\"  rot=\"89.6954061799827\" axis-x=\"0\" axis-y=\"-1\" axis-z=\"0\" />',\n",
       " '</component>',\n",
       " '',\n",
       " '<type name=\"MonNDtype-2\" is=\"RectangularDetector\" type=\"pixel-2\"',\n",
       " '\\\\txpixels=\" 1280\" xstart=\"0.0002\" xstep=\"0.0004\"',\n",
       " '\\\\typixels=\" 1280\" ystart=\"0.0002\" ystep=\"0.0004\">',\n",
       " '</type>',\n",
       " '<type is=\"detector\" name=\"pixel-2\">',\n",
       " '\\\\t<cuboid id=\"pixel-shape-2\">',\n",
       " '\\\\t\\\\t<left-front-bottom-point x=\"0.0002\" y=\"-0.0002\" z=\"0.0\" />',\n",
       " '\\\\t\\\\t<left-front-top-point x=\"0.0002\" y=\"0.0002\" z=\"0.0\" />',\n",
       " '\\\\t\\\\t<left-back-bottom-point x=\"0.0002\" y=\"-0.0002\" z=\"0.00005\" />',\n",
       " '\\\\t\\\\t<right-front-bottom-point x=\"-0.0002\" y=\"-0.0002\" z=\"0.0\" />',\n",
       " '\\\\t</cuboid>',\n",
       " '\\\\t<algebra val=\"pixel-shape-2\" />',\n",
       " '</type>',\n",
       " '',\n",
       " '</instrument>',\n",
       " \"'\"]"
      ]
     },
     "execution_count": 12,
     "metadata": {},
     "output_type": "execute_result"
    }
   ],
   "source": [
    "xml  = str(f['entry1/instrument/instrument_xml/data'][...][0]).split('\\\\n')\n",
    "xml\n"
   ]
  },
  {
   "cell_type": "code",
   "execution_count": 13,
   "metadata": {},
   "outputs": [],
   "source": [
    "def rotation_matrix(axis, theta):\n",
    "    \"\"\"\n",
    "    Return the rotation matrix associated with counterclockwise rotation about\n",
    "    the given axis by theta radians.\n",
    "    \"\"\"\n",
    "    axis = np.asarray(axis)\n",
    "    axis = axis / math.sqrt(np.dot(axis, axis))\n",
    "    a = math.cos(theta / 2.0)\n",
    "    b, c, d = -axis * math.sin(theta / 2.0)\n",
    "    aa, bb, cc, dd = a * a, b * b, c * c, d * d\n",
    "    bc, ad, ac, ab, bd, cd = b * c, a * d, a * c, a * b, b * d, c * d\n",
    "    return np.array([[aa + bb - cc - dd, 2 * (bc + ad), 2 * (bd - ac)],\n",
    "                     [2 * (bc - ad), aa + cc - bb - dd, 2 * (cd + ab)],\n",
    "                     [2 * (bd + ac), 2 * (cd - ab), aa + dd - bb - cc]])"
   ]
  },
  {
   "cell_type": "code",
   "execution_count": 14,
   "metadata": {},
   "outputs": [
    {
     "name": "stdout",
     "output_type": "stream",
     "text": [
      "xyz [0.282776, -0.25, 157.697]\n",
      "rotation of detector 0.303181121242003 [0.303181121242003, 0.0, 1.0, 0.0]\n",
      "xyz [0.242564, -0.25, 157.657]\n",
      "rotation of detector 90.3045938200173 [90.3045938200173, 0.0, 1.0, 0.0]\n",
      "xyz [0.819897, -0.25, 157.154]\n",
      "rotation of detector 89.6954061799827 [89.6954061799827, 0.0, -1.0, 0.0]\n",
      "sample_pos [  -0.53123   -0.      -157.405  ]\n",
      "rel_xyz [ 0.25  0.25 -0.29]\n",
      "rel_xyz [ 0.29  0.25 -0.25]\n",
      "rel_xyz [-0.29  0.25  0.25]\n",
      "v 0 [0.0, 1.0, 0.0] theta -0.005291508795561073 0.303181121242003\n",
      "v 1 [0.0, -1.0, 0.0] theta -1.5654801617543677 89.6954061799827\n",
      "v 2 [0.0, 1.0, 0.0] theta -1.5761124918354255 90.3045938200173\n",
      "relative to sample position [array([ 0.25,  0.25, -0.29]), array([ 0.29,  0.25, -0.25]), array([-0.29,  0.25,  0.25])]\n",
      "fast axis [array([-1.  ,  0.  , -0.01]), array([-0.01,  0.  ,  1.  ]), array([ 0.01,  0.  , -1.  ])]\n",
      "slow axis [array([ 0., -1.,  0.]), array([ 0., -1.,  0.]), array([ 0., -1.,  0.])]\n",
      "[[0.303181121242003, 0.0, 1.0, 0.0], [89.6954061799827, 0.0, -1.0, 0.0], [90.3045938200173, 0.0, 1.0, 0.0]]\n"
     ]
    }
   ],
   "source": [
    "comp = False\n",
    "det = False\n",
    "source = False\n",
    "sample = False\n",
    "sample_pos = [0,0,0]\n",
    "source_pos = [0,0,0]\n",
    "d_list = []\n",
    "rot_l1 = []\n",
    "fast_l = []\n",
    "slow_l = []\n",
    "\n",
    "\n",
    "for i in range(len(xml)):\n",
    "    ls = xml[i].replace('<t',' ').replace('>',' ').replace('\"',' ').replace('<',' ').replace('\\\\t',' ').split()\n",
    "    # print(xml[i])\n",
    "    \n",
    "    if len(ls) >= 1:\n",
    "        if ls[0] == 'component':\n",
    "            det = False\n",
    "            source = False\n",
    "            sample = False\n",
    "            comp = True\n",
    "            if ls[2].split('-')[0] == 'MonNDtype':\n",
    "\n",
    "                det = True\n",
    "                d_list.append([int(ls[2].split('-')[1])])\n",
    "            elif ls[2] == 'sourceMantid-type':\n",
    "                source = True\n",
    "            elif ls[2] == 'sampleMantid-type':\n",
    "                sample = True\n",
    "            comp = True\n",
    "     #   if ls[1].split('-')[0] == 'type=\"MonNDtype':\n",
    "            # print(\"1\",ls)\n",
    "    if len(ls) >= 1:\n",
    "        if ls[0] == 'type':\n",
    "            comp = False\n",
    "    if len(ls) >= 1:\n",
    "        if ls[0] == 'location' or ls[0] == 'location':\n",
    "            # print(\"3\",ls)\n",
    "            if comp == True and det == True:\n",
    "                # print(\"2\",ls)\n",
    "                xyz = [float(ls[2]),float(ls[4]),float(ls[6])]\n",
    "                print(\"xyz\", xyz)\n",
    "                rot =float(ls[8]) \n",
    "                rot_xyz =[ float(ls[8]), float(ls[10]),float(ls[12]),float(ls[14])] \n",
    "                print(\"rotation of detector\",rot, rot_xyz) \n",
    "                d_list[len(d_list)-1].append(xyz)\n",
    "                rot_l1.append(rot_xyz)\n",
    "            elif comp == True and source == True: \n",
    "              source_pos = [float(ls[2]),float(ls[4]),float(ls[6])]\n",
    "            elif comp == True and sample == True: \n",
    "               sample_pos = np.array([float(ls[2]),float(ls[4]),float(ls[6])])\n",
    "# print(len(d_list))\n",
    "# print(\"sample and source position\",sample_pos,source_pos)\n",
    "# print(\"distance between sample and source\",CDist2(source_pos, sample_pos))\n",
    "# print(\"detector positions, relative to source at 0,0,0:\",d_list)\n",
    "# print(\"rotation list\",rot_l)\n",
    "#shift from rleative position to source to relative to sample\n",
    "ds_l = []\n",
    "sample_pos = sample_pos * [-1,-1,-1]\n",
    "print(\"sample_pos\",sample_pos)\n",
    "for i in range(len(d_list)):\n",
    "    det_pos = np.array([d_list[i][1][0],d_list[i][1][1],d_list[i][1][2]]) * [-1.0,-1.0,-1.0]\n",
    "    \n",
    "\n",
    "    rel_xyz= np.round(twoP_to_vec(sample_pos,det_pos),2)\n",
    "    print(\"rel_xyz\",rel_xyz)\n",
    "    rel_xyz = rel_xyz # * [-1,-1,-1]\n",
    "    # rel_pos= twoP_to_vec(det_pos, sample_pos)\n",
    "    # print(\"detector position\",sample_pos,det_pos,rel_pos)\n",
    "    \n",
    "    # rel_xyz = [ d_list[i][1][0]-sample_pos[0], d_list[i][1][1]-sample_pos[1], (d_list[i][1][2]-sample_pos[2])]\n",
    "    \n",
    "    # print(\"relative position\",rel_xyz)\n",
    "    # rel_xyz = [ sample_pos[0]-d_list[i][1][0],sample_pos[1]-d_list[i][1][1], sample_pos[2]-d_list[i][1][2]]\n",
    "    # print(\"position\",rel_xyz,rel_pos)\n",
    "    # print(\"relative position\",rel_xyz)\n",
    "    ds_l.append(rel_xyz)\n",
    "vec_f = [-1,0,-0]\n",
    "vec_s = [0,-1,0]\n",
    "rot_l = [rot_l1[0],rot_l1[2],rot_l1[1]] #not corect but a temporary work around\n",
    "for i in range(len(rot_l)):\n",
    "    # if rot_l[i][2] < 0:\n",
    "        # theta = np.radians(rot_l[i][0]) \n",
    "    # else:\n",
    "    theta = np.radians(-rot_l[i][0])\n",
    "    v = [rot_l[i][1],rot_l[i][2],rot_l[i][3]]\n",
    "    v1 = [0,0,1]\n",
    "    print(\"v\",i,v,\"theta\", theta,rot_l[i][0])\n",
    "    fast_vec = np.round(np.dot(rotation_matrix(v,  theta), vec_f),2)\n",
    "    fast_v_round = np.array([np.round(fast_vec[0],1), np.round(fast_vec[1],1), np.round(fast_vec[2],1)])\n",
    "\n",
    "    fast_l.append(fast_vec)\n",
    "    slow_l.append(np.dot(rotation_matrix(v, theta), vec_s))\n",
    "    # slow_l.append([0,1,0])\n",
    "\n",
    "print(\"relative to sample position\",ds_l)\n",
    "print(\"fast axis\",fast_l)\n",
    "print(\"slow axis\", slow_l)\n",
    "print(rot_l)"
   ]
  },
  {
   "attachments": {},
   "cell_type": "markdown",
   "metadata": {},
   "source": [
    "getting the crystal orientation"
   ]
  },
  {
   "cell_type": "code",
   "execution_count": 15,
   "metadata": {},
   "outputs": [
    {
     "name": "stdout",
     "output_type": "stream",
     "text": [
      "<KeysViewHDF5 ['DetectorDist', 'DetectorX', 'DetectorY', 'L_max', 'L_min', 'LambdaMax', 'LambdaMin', 'Phase2A', 'Phase2B', 'PinholeCollimator_divergence', 'PinholeCollimator_height', 'PinholeCollimator_width', 'Slit1_height', 'Slit1_width', 'Slit2_height', 'Slit2_width', 'TT', 'XtalMosaicity', 'XtalPhiX', 'XtalPhiY', 'XtalPhiZ', 'XtalSize_depth', 'XtalSize_height', 'XtalSize_width', 'frac', 'lmax', 'lmin', 'mon_shift']>\n",
      "<HDF5 dataset \"XtalPhiX\": shape (1,), type \"|S2\">\n",
      "2.0 0.0 0.0\n"
     ]
    },
    {
     "data": {
      "text/plain": [
       "array([2., 0., 0.])"
      ]
     },
     "execution_count": 15,
     "metadata": {},
     "output_type": "execute_result"
    }
   ],
   "source": [
    "print((f['entry1']['simulation']['Param'].keys()))\n",
    "print((f['entry1']['simulation']['Param']['XtalPhiX']))\n",
    "phix=float(list(str(f['entry1']['simulation']['Param']['XtalPhiX'][...][0]))[2])\n",
    "phiy=float(list(str(f['entry1']['simulation']['Param']['XtalPhiY'][...][0]))[2])\n",
    "phiz=float(list(str(f['entry1']['simulation']['Param']['XtalPhiZ'][...][0]))[2])\n",
    "#str(phix[0])\n",
    "#int(list(str(phix[0]))[2])\n",
    "print(phix,phiy,phiz)\n",
    "cor=[phix,phiy, phiz]\n",
    "cryst_or = np.array(cor)\n",
    "cryst_or"
   ]
  },
  {
   "cell_type": "code",
   "execution_count": null,
   "metadata": {},
   "outputs": [],
   "source": [
    "print(filename, 1280**2-1)"
   ]
  },
  {
   "cell_type": "code",
   "execution_count": 16,
   "metadata": {},
   "outputs": [
    {
     "name": "stdout",
     "output_type": "stream",
     "text": [
      "['', 'Users', 'justinbergmann', 'work_flow', 'test_data', 'pulse5.h5']\n",
      "pulse5\n",
      "/Users/justinbergmann/work_flow/test_out/pulse5_5_out.h5\n"
     ]
    }
   ],
   "source": [
    "no = filename.split('/')\n",
    "print(no)\n",
    "name_out= no[-1].split('.')[0]\n",
    "print(name_out)\n",
    "file_out = '/Users/justinbergmann/work_flow/test_out/'+name_out+'_'+str(t_step)+'_out.h5'\n",
    "print(file_out)"
   ]
  },
  {
   "cell_type": "code",
   "execution_count": 65,
   "metadata": {},
   "outputs": [],
   "source": [
    "with h5py.File(file_out, 'w') as fo:\n",
    "## create output nexus file\n",
    "   fo.attrs['default'] = 'NMX_data'\n",
    "   nxentry = fo.create_group('NMX_data')\n",
    "   nxentry.attrs[\"NX_class\"] = 'NXentry'\n",
    "   nxentry.attrs['default'] = 'data'\n",
    "   nxentry.attrs['name'] = 'NMX1'\n",
    "   #nxentry.__setitem__('beamline','NMX')\n",
    "   nxentry.__setitem__('name','NMX')\n",
    "   nxentry.__setitem__('definition','TOFRAW')\n",
    "   nxentry.attrs['name'] = \"NMX\"\n",
    "   #nxentry.attrs['name'].__setattr__('name','NMX') \n",
    "\n",
    "#SAMPLE\n",
    "   nx_sample = nxentry.create_group('NXsample')\n",
    "   nx_sample.__setitem__('name','Single_crystal')\n",
    "\n",
    "\n",
    "#Instrument\n",
    "   nx_instrument = nxentry.create_group('NXinstrument')\n",
    "\n",
    "   nx_detector = nxentry.create_group('NXdetector')\n",
    "   det_origen = nx_detector.create_dataset('origen', data=ds_l) \n",
    "   det_origen.attrs['units'] = 'm'\n",
    "\n",
    "   fast_axis = nx_detector.create_dataset('fast_axis', data=fast_l) \n",
    "   slow_axis = nx_detector.create_dataset('slow_axis', data=slow_l) \n",
    "\n",
    "   nx_beam = nxentry.create_group('NXbeam')\n",
    "\n",
    "\n",
    "   \n",
    "   proton = nxentry.create_dataset('proton_charge', data=weights.shape[0]/10000)    \n",
    "   \n",
    "   \n",
    "   nx_det1 = nxentry.create_group('detector_1')   \n",
    "   counts = nx_det1.create_dataset('counts', data=[group_t.values], compression=\"gzip\", compression_opts=4)\n",
    "\n",
    "   t_spectrum = nx_det1.create_dataset('t_bin', data=group_t.coords['t'].values, compression=\"gzip\", compression_opts=4)\n",
    "   t_spectrum.attrs['units'] = 'ms'\n",
    "   t_spectrum.attrs['long_name'] = 't_bin TOF (ms)'\n",
    "\n",
    "   pixel_id = nx_det1.create_dataset('pix_id', data=group_t.coords['id'].values, compression=\"gzip\", compression_opts=4)\n",
    "   pixel_id.attrs['units'] = ''\n",
    "   pixel_id.attrs['long_name'] = 'pixel ID'\n",
    "\n",
    "\n",
    "#SOURCE\n",
    "   nx_inst = nxentry.create_group('instrument')\n",
    "   nx_inst.attrs['nr_detector'] = len(d_list)\n",
    "   nx_source = nxentry.create_group('NXsource')\n",
    "   nx_source.__setitem__('name','European Spallation Source')\n",
    "   nx_source.__setitem__('short_name','ESS')\n",
    "   nx_source.__setitem__('type','Spallation Neutron Source')\n",
    "   nx_source.__setitem__('distance',-CDist2(source_pos, sample_pos))\n",
    "   nx_source.__setitem__('probe','neutron')\n",
    "   nx_source.__setitem__('target_material','W')\n",
    "\n",
    "\n",
    "\n",
    "\n",
    "\n",
    "\n",
    "#    c_or = nxinst.create_dataset('crystal_orientation',data=cryst_or)\n",
    "#    c_or.attrs['unit'] = 'degrees'\n",
    "#    c_or.attrs['long_name'] = 'crystal orientation in Phi (degrees)'\n",
    "    \n",
    "\n",
    "   fo.close()\n",
    "   del fo\n"
   ]
  },
  {
   "cell_type": "code",
   "execution_count": null,
   "metadata": {},
   "outputs": [],
   "source": [
    "#print(grp['beamline'].items())\n",
    "fo.close()"
   ]
  },
  {
   "cell_type": "code",
   "execution_count": null,
   "metadata": {},
   "outputs": [],
   "source": []
  },
  {
   "cell_type": "code",
   "execution_count": 68,
   "metadata": {},
   "outputs": [
    {
     "name": "stdout",
     "output_type": "stream",
     "text": [
      "<HDF5 file \"pulse5_out.h5\" (mode r)>\n",
      "<KeysViewHDF5 ['NXbeam', 'NXdetector', 'NXinstrument', 'NXsample', 'NXsource', 'definition', 'detector_1', 'instrument', 'name', 'proton_charge']>\n",
      "b'NMX'\n",
      "1 NMX\n",
      "2 b'NMX'\n",
      "<class 'str'>\n",
      "out NMX\n",
      "3 <class 'numpy.int64'>\n",
      "01\n",
      "02\n",
      "03\n",
      "type <class 'numpy.int64'>\n",
      "origen [ 0.25  0.25 -0.29]\n",
      "proton charge 14814.395\n",
      "source dinstance -157.40589642803377\n"
     ]
    },
    {
     "data": {
      "text/plain": [
       "'NMX'"
      ]
     },
     "execution_count": 68,
     "metadata": {},
     "output_type": "execute_result"
    }
   ],
   "source": [
    "handle = h5py.File(file_out)\n",
    "nxs_file =  h5py.File(file_out)\n",
    "print(handle)\n",
    "print(handle['NMX_data'].keys())\n",
    "print(handle['NMX_data/name'][...])\n",
    "\n",
    "print(\"1\",handle['NMX_data'].attrs[\"name\"].encode('utf-8', 'surrogateescape').decode('latin-1'))\n",
    "print(\"2\", handle['NMX_data'].attrs[\"name\"].encode('utf-8', 'surrogateescape'))\n",
    "outp =handle['NMX_data/name'][()].decode('utf-8') #returns numpy array and decoded to string \n",
    "print(type(outp))\n",
    "print(\"out\",outp)\n",
    "\n",
    "\n",
    "print(handle['NMX_data/instrument'].attrs[\"nr_detector\"],type(handle['NMX_data/instrument'].attrs[\"nr_detector\"]))\n",
    "for i in range(nxs_file['NMX_data/instrument'].attrs[\"nr_detector\"]):\n",
    "    print(\"%02d\" % (i + 1) )\n",
    "print(\"type\",type(nxs_file['NMX_data/instrument'].attrs[\"nr_detector\"]))\n",
    "origen =  nxs_file['NMX_data/NXdetector/origen'][...]\n",
    "print('origen',origen[0])\n",
    "\n",
    "\n",
    "print(\"proton charge\",nxs_file[\"NMX_data\"][\"proton_charge\"][...])\n",
    "print(\"source dinstance\",nxs_file['NMX_data/NXsource/distance'][...])\n",
    "\n",
    "#handle['NMX_data'].attrs()\n",
    "#f_out.close()\n",
    "handle.close()\n",
    "del handle\n",
    "outp"
   ]
  },
  {
   "cell_type": "code",
   "execution_count": null,
   "metadata": {},
   "outputs": [],
   "source": [
    "print((np.pi * 25**2)/16)\n",
    "print(np.pi * 5**2)\n",
    "print(14*7)"
   ]
  },
  {
   "cell_type": "code",
   "execution_count": null,
   "metadata": {},
   "outputs": [],
   "source": []
  },
  {
   "cell_type": "code",
   "execution_count": null,
   "metadata": {},
   "outputs": [],
   "source": [
    "f = h5py.File(file_out, 'r')\n",
    "for key in f.keys():\n",
    "    print(key) #Names of the root level object names in HDF5 file - can be groups or datasets.\n",
    "    print(type(f[key])) # get the object type: usually group or dataset\n"
   ]
  },
  {
   "cell_type": "code",
   "execution_count": null,
   "metadata": {},
   "outputs": [],
   "source": [
    "17 * 64**2"
   ]
  },
  {
   "cell_type": "code",
   "execution_count": null,
   "metadata": {},
   "outputs": [],
   "source": [
    "f.close()  \n",
    "del id_list\n",
    "del x_list\n",
    "del y_list\n",
    "del t_list\n",
    "del id_hist\n",
    "del hist3"
   ]
  },
  {
   "cell_type": "code",
   "execution_count": null,
   "metadata": {},
   "outputs": [],
   "source": [
    "current, peak = tracemalloc.get_traced_memory()\n",
    "print('2 current memory [MB]: {}, peak memory [MB]: {} '.format(round((current/(1024*1024)), 2), round((peak /(1024*1024) ), 2) ))\n",
    "# stopping the library\n",
    "tracemalloc.stop()\n",
    "print(\"neded time (h:mm:ss): \", datetime.now() - startTime)"
   ]
  }
 ],
 "metadata": {
  "kernelspec": {
   "display_name": "ess",
   "language": "python",
   "name": "python3"
  },
  "language_info": {
   "codemirror_mode": {
    "name": "ipython",
    "version": 3
   },
   "file_extension": ".py",
   "mimetype": "text/x-python",
   "name": "python",
   "nbconvert_exporter": "python",
   "pygments_lexer": "ipython3",
   "version": "3.9.15"
  },
  "vscode": {
   "interpreter": {
    "hash": "f85ed83eabb820316696c474dce395f71e180a432bd3bf9cf71297a8fe85fff3"
   }
  }
 },
 "nbformat": 4,
 "nbformat_minor": 4
}
