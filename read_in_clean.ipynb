{
 "cells": [
  {
   "cell_type": "markdown",
   "metadata": {},
   "source": [
    "lean version of read in file for the NMX work flow (from simulatet event data to binned event data)"
   ]
  },
  {
   "cell_type": "markdown",
   "metadata": {},
   "source": [
    "\n",
    "first add neded libaries"
   ]
  },
  {
   "cell_type": "code",
   "execution_count": 1,
   "metadata": {},
   "outputs": [],
   "source": [
    "from datetime import datetime\n",
    "startTime = datetime.now()\n",
    "import tracemalloc\n",
    "    #from scippnexus import data\n",
    "#import scippnexus as snx\n",
    "import numpy as np\n",
    "    #qimport mantid_args\n",
    "#from scippnexus import NXdetector\n",
    "from scippneutron.conversion import graph\n",
    "\n",
    "import scipp as sc\n",
    "import scippneutron as scn\n",
    "import scippnexus as snx\n",
    "\n",
    "#%matplotlib widget\n",
    "\n",
    "\n",
    "import plopp as pp\n",
    "pp.patch_scipp()\n",
    "import matplotlib.pyplot as plt\n",
    "from plopp.widgets import Box\n",
    "import ipywidgets as ipw\n",
    "from matplotlib.colors import LogNorm\n",
    "\n",
    "    #import multiprocessing as mp\n",
    "\n",
    "import h5py\n",
    "h5py.enable_ipython_completer()\n",
    "%matplotlib inline\n",
    "%matplotlib widget\n",
    "\n",
    "# starting the momory monitoring\n",
    "tracemalloc.start()\n"
   ]
  },
  {
   "attachments": {},
   "cell_type": "markdown",
   "metadata": {},
   "source": [
    "define general parameter"
   ]
  },
  {
   "cell_type": "code",
   "execution_count": 111,
   "metadata": {},
   "outputs": [],
   "source": [
    "#Number op pixels per detecotr dimmension\n",
    "pix = 1280\n",
    "#number of time bins \n",
    "t_step = 1\n",
    "#number of detectors\n",
    "n_det = 3\n",
    "\n",
    "\n"
   ]
  },
  {
   "cell_type": "markdown",
   "metadata": {},
   "source": [
    "pretreatment to make it faster\n",
    "h5repack -l CHUNK=1024x6 2e11.h5 2e11-rechunk.h5 \n",
    "or \n",
    "h5repack -l CHUNK=NONE 2e11.h5 2e11-nochunk.h5\n",
    "\n",
    "h5repack -l CHUNK=1024x6 mccode.h5 mccode-nochunk.h5"
   ]
  },
  {
   "cell_type": "code",
   "execution_count": 107,
   "metadata": {},
   "outputs": [],
   "source": [
    "fname = 14\n",
    "if fname == 1:\n",
    "   filename = '/Users/justinbergmann/work_flow/test_data/2e11.h5'\n",
    "elif fname == 2:\n",
    "    filename = '/Users/justinbergmann/work_flow/test_data/x0_3d.h5'\n",
    "elif fname == 3:\n",
    "    filename = '/Users/justinbergmann/work_flow/test_data/xe_0_NMX.h5'\n",
    "elif fname == 4:\n",
    "    filename = '/Users/justinbergmann/work_flow/test_data/xe_20_NMX.h5'\n",
    "elif fname == 5:\n",
    "    filename = '/Users/justinbergmann/work_flow/test_data/flip_det.h5'\n",
    "elif fname == 6:\n",
    "    filename = '/Users/justinbergmann/work_flow/test_data/flip_4.h5'\n",
    "elif fname == 7:\n",
    "    filename = '/Users/justinbergmann/work_flow/test_data/ye_0_NMX.h5'\n",
    "elif fname == 8:\n",
    "    filename = '/Users/justinbergmann/work_flow/test_data/xe1_12_NMX/xe1_12_no_chunk.h5'\n",
    "elif fname == 9:\n",
    "    filename = '/Users/justinbergmann/work_flow/test_data/1d.h5'\n",
    "\n",
    "elif fname == 10:\n",
    "    filename = '/Users/justinbergmann/work_flow/test_data/xflat20.h5'\n",
    "\n",
    "elif fname == 11:\n",
    "    filename = '/Users/justinbergmann/work_flow/test_data/small_vis/flat.nxs'\n",
    "\n",
    "elif fname == 12:\n",
    "    filename = '/Users/justinbergmann/work_flow/test_data/small_vis/shift_down.nxs'\n",
    "\n",
    "\n",
    "elif fname == 13:\n",
    "    filename = '/Users/justinbergmann/work_flow/test_data/mc2_7_2_test.h5'\n",
    "\n",
    "elif fname == 14:\n",
    "    filename = '/Users/justinbergmann/work_flow/test_data/mc2_new_comp.h5'\n",
    "\n",
    "\n",
    "\n",
    "else:\n",
    "    filename = '/Users/justinbergmann/work_flow/test_data/e12_no_chunk.h5'\n",
    "\n",
    "\n",
    "f_vis = '/Users/justinbergmann/work_flow/test_data/ye_0_NMX_vis.nxs'\n",
    "\n",
    "#f=snx.File(filename)    "
   ]
  },
  {
   "attachments": {},
   "cell_type": "markdown",
   "metadata": {},
   "source": [
    "read in event data and shape event list  give number of events"
   ]
  },
  {
   "attachments": {},
   "cell_type": "markdown",
   "metadata": {},
   "source": [
    "3D visulisation with file converted by mantid"
   ]
  },
  {
   "cell_type": "code",
   "execution_count": null,
   "metadata": {},
   "outputs": [],
   "source": [
    "vis = sc.io.open_hdf5(filename = f_vis)\n",
    "scn.instrument_view(vis.sum('tof'))"
   ]
  },
  {
   "cell_type": "code",
   "execution_count": 108,
   "metadata": {},
   "outputs": [
    {
     "name": "stdout",
     "output_type": "stream",
     "text": [
      "shape of event list (p_x_y_n_id_t) (6, 147960887)\n",
      "id min 1\n",
      "id max 5638399\n",
      "CPU times: user 15.5 s, sys: 11.2 s, total: 26.7 s\n",
      "Wall time: 14.4 s\n"
     ]
    }
   ],
   "source": [
    "%%time\n",
    "f = h5py.File(filename)\n",
    "a = f['entry1/data']['bank01_events_dat_list_p_x_y_n_id_t']['events'][...]\n",
    "#a[0]\n",
    "d = np.matrix.transpose(a)\n",
    "print(\"shape of event list (p_x_y_n_id_t)\", d.shape)\n",
    "#alocate units to events and create seperate list for each parameter\n",
    "x_list = sc.array(dims=['x'], unit='m', values=d[1])\n",
    "y_list = sc.array(dims=['x'], unit='m', values=d[2])\n",
    "t_list = sc.array(dims=['x'], unit='s', values=d[5])\n",
    "id_list = sc.array(dims=['x'], unit=None, values=d[4], dtype='int64')\n",
    "#print(x_list.shape, y_list.shape, t_list.shape,id_list.shape)\n",
    "\n",
    "#get evetns to seperated lists (x,y,t,id)\n",
    "#x_list.unit = 'm'\n",
    "#y_list.unit = 'm'\n",
    "#t_list.unit = 'ms'\n",
    "weights = sc.ones_like(x_list)\n",
    "weights.unit = 'counts'\n",
    "da = sc.DataArray(data=weights, coords={'x': x_list, 'y': y_list, 't': t_list, 'id': id_list})\n",
    "\n",
    "#make sure alll IDs are reconised:\n",
    "print(\"id min\",id_list.values.min())\n",
    "print(\"id max\",id_list.values.max())\n",
    "\n",
    "ids1 = sc.arange('id', 1, 1638401, unit=None)\n",
    "ids2 = sc.arange('id', 2000001, 3638401, unit=None)\n",
    "ids3 = sc.arange('id', 4000001, 5638401, unit=None)\n",
    "ids = sc.concat([ids1, ids2, ids3], 'id')\n",
    "#grouping by IDs\n",
    "da3 = da.group(ids).fold('id', sizes={'panel':3, 'id':-1})\n"
   ]
  },
  {
   "attachments": {},
   "cell_type": "markdown",
   "metadata": {},
   "source": [
    "treatment and plotting of data"
   ]
  },
  {
   "cell_type": "code",
   "execution_count": 113,
   "metadata": {},
   "outputs": [
    {
     "data": {
      "application/vnd.jupyter.widget-view+json": {
       "model_id": "dd358dae08974d44b07d7cb2ee775ad5",
       "version_major": 2,
       "version_minor": 0
      },
      "text/plain": [
       "Box(children=(HBox(children=(Box(children=(InteractiveFig2d(children=(HBar(), HBox(children=(VBar(children=(To…"
      ]
     },
     "metadata": {},
     "output_type": "display_data"
    }
   ],
   "source": [
    "#binning of each detector panel in t_step bins\n",
    "panel_0 = da3['panel',0].hist(t=t_step)\n",
    "panel_1 = da3['panel',1].hist(t=t_step)\n",
    "panel_2 = da3['panel',2].hist(t=t_step)\n",
    "\n",
    "p0 = pp.slicer(da3.fold('id', sizes={'ypix':pix, 'xpix':-1})['panel', 0].hist(t=t_step).transpose(['t','ypix','xpix']),vmax=panel_0.max().value, aspect='equal',title='panel 0')\n",
    "p1 = pp.slicer(da3.fold('id', sizes={'ypix':pix, 'xpix':-1})['panel', 1].hist(t=t_step).transpose(['t','ypix','xpix']),vmax=panel_0.max().value, aspect='equal',title='panel 1')\n",
    "p2 = pp.slicer(da3.fold('id', sizes={'ypix':pix, 'xpix':-1})['panel', 2].hist(t=t_step).transpose(['t','ypix','xpix']),vmax=panel_0.max().value, aspect='equal',title='panel 2')\n",
    "\n",
    "#p0.children[0].ax.set_ylim(1280, 0)\n",
    "#p1.children[0].ax.set_ylim(1280, 0)\n",
    "#p2.children[0].ax.set_ylim(1280, 0)\n",
    "\n",
    "p0.children[0].ax.set_xlim(1280, 0)\n",
    "p1.children[0].ax.set_xlim(1280, 0)\n",
    "p2.children[0].ax.set_xlim(1280, 0)\n",
    "\n",
    "l1 = ipw.jslink((p0.children[1].children[0].children[1], 'value'),\n",
    "               (p1.children[1].children[0].children[1], 'value'))\n",
    "l2 = ipw.jslink((p0.children[1].children[0].children[1], 'value'),\n",
    "               (p2.children[1].children[0].children[1], 'value'))\n",
    "Box([[p2, p0, p1]])"
   ]
  },
  {
   "cell_type": "code",
   "execution_count": 6,
   "metadata": {},
   "outputs": [
    {
     "name": "stdout",
     "output_type": "stream",
     "text": [
      "/Users/justinbergmann/work_flow/test_data/xe_20_NMX.h5\n",
      "<HDF5 file \"xe_20_NMX.h5\" (mode r)>\n",
      "sec2\n",
      "r\n"
     ]
    }
   ],
   "source": [
    "print(f.filename)\n",
    "print(f.file)\n",
    "print(f.driver)\n",
    "print(f.mode)\n"
   ]
  },
  {
   "cell_type": "code",
   "execution_count": 7,
   "metadata": {},
   "outputs": [],
   "source": [
    "da.coords['panel'] = id_list // sc.index(2000000)\n",
    "da2 = da.group('panel').bin(x=pix, y=pix)\n",
    "\n"
   ]
  },
  {
   "attachments": {},
   "cell_type": "markdown",
   "metadata": {},
   "source": [
    "\n",
    "up data reagarding ids"
   ]
  },
  {
   "cell_type": "code",
   "execution_count": 8,
   "metadata": {},
   "outputs": [
    {
     "name": "stdout",
     "output_type": "stream",
     "text": [
      "(1638400, 40)\n",
      "t_min 0.09283190157755548 t_max 0.15202125872662284\n"
     ]
    }
   ],
   "source": [
    "print(panel_0.values.shape)\n",
    "print( \"t_min\",t_list.min().value, \"t_max\",t_list.max().value)\n",
    "t_min =t_list.min().value \n",
    "t_max =t_list.max().value"
   ]
  },
  {
   "attachments": {},
   "cell_type": "markdown",
   "metadata": {},
   "source": [
    "\n",
    "ts with slicer to scan TOF"
   ]
  },
  {
   "attachments": {},
   "cell_type": "markdown",
   "metadata": {},
   "source": [
    "which time of the pulse do we chose as T0 for TOF"
   ]
  },
  {
   "cell_type": "code",
   "execution_count": null,
   "metadata": {},
   "outputs": [],
   "source": [
    "#p1f = da3.fold('id', sizes={'xpix':1280, 'ypix':-1})['panel', 0].hist(t=t_step)\n",
    "#p11 = da3['panel',0] #.hist(t=t_step)\n",
    "#p11[0].values"
   ]
  },
  {
   "cell_type": "markdown",
   "metadata": {},
   "source": [
    "dd 2D binning (x and y)"
   ]
  },
  {
   "cell_type": "code",
   "execution_count": null,
   "metadata": {},
   "outputs": [],
   "source": [
    "#p12 = p11.bins\n",
    "#sc.show(p1f)"
   ]
  },
  {
   "cell_type": "code",
   "execution_count": null,
   "metadata": {},
   "outputs": [],
   "source": [
    "#p1n = p1f.values\n",
    "#print(p1n.shape)\n",
    "#p1n[0][0][0]\n"
   ]
  },
  {
   "cell_type": "code",
   "execution_count": null,
   "metadata": {},
   "outputs": [],
   "source": [
    "#s1 = p1f['t',0]\n",
    "#s2 = s1.values\n",
    "#print(s2.shape,s2[0][0])\n",
    "\n",
    "#s1"
   ]
  },
  {
   "cell_type": "code",
   "execution_count": null,
   "metadata": {},
   "outputs": [],
   "source": [
    "#p11.values"
   ]
  },
  {
   "attachments": {},
   "cell_type": "markdown",
   "metadata": {},
   "source": [
    "getting all important things to wrire about the data!"
   ]
  },
  {
   "cell_type": "code",
   "execution_count": 9,
   "metadata": {},
   "outputs": [
    {
     "data": {
      "text/plain": [
       "array([[0., 0., 0., ..., 0., 0., 0.],\n",
       "       [0., 0., 0., ..., 0., 0., 0.],\n",
       "       [0., 0., 0., ..., 0., 0., 0.],\n",
       "       ...,\n",
       "       [0., 0., 0., ..., 0., 0., 0.],\n",
       "       [0., 0., 0., ..., 0., 0., 0.],\n",
       "       [0., 0., 0., ..., 0., 0., 0.]])"
      ]
     },
     "execution_count": 9,
     "metadata": {},
     "output_type": "execute_result"
    }
   ],
   "source": [
    "c0 = panel_0.values\n",
    "c0.shape\n",
    "t0 = panel_0.coords['t'].values\n",
    "id0 = panel_0.coords['id'].values\n",
    "c0"
   ]
  },
  {
   "cell_type": "code",
   "execution_count": null,
   "metadata": {},
   "outputs": [],
   "source": []
  },
  {
   "cell_type": "markdown",
   "metadata": {},
   "source": [
    "3D binning"
   ]
  },
  {
   "cell_type": "code",
   "execution_count": null,
   "metadata": {},
   "outputs": [],
   "source": [
    "tbin=300\n",
    "hist3=binned.hist(t=tbin)"
   ]
  },
  {
   "cell_type": "markdown",
   "metadata": {},
   "source": [
    "histrogramm 3D data"
   ]
  },
  {
   "cell_type": "markdown",
   "metadata": {},
   "source": [
    "\n",
    "plot t slice"
   ]
  },
  {
   "cell_type": "code",
   "execution_count": null,
   "metadata": {},
   "outputs": [],
   "source": [
    "#nb=60\n",
    "#times=hist3.coords['t']\n",
    "#print(len(times))\n",
    "#print(len(times),times[nb],times[nb+1])\n",
    "#hist3['t',nb].transpose().plot(aspect='equal')"
   ]
  },
  {
   "cell_type": "markdown",
   "metadata": {},
   "source": [
    "nn with pixel id"
   ]
  },
  {
   "cell_type": "code",
   "execution_count": null,
   "metadata": {},
   "outputs": [],
   "source": [
    "hist3"
   ]
  },
  {
   "cell_type": "code",
   "execution_count": null,
   "metadata": {},
   "outputs": [],
   "source": [
    "# del hist3.coords['tc']\n",
    "# del hist3.coords['xc']\n",
    "# del hist3.coords['yc']"
   ]
  },
  {
   "cell_type": "code",
   "execution_count": null,
   "metadata": {},
   "outputs": [],
   "source": [
    "hist4 = hist3.copy()\n",
    "for name in list(hist4.coords.keys()):\n",
    "    hist4.coords[f'{name}c'] = sc.midpoints(hist4.coords[name])\n",
    "hist4"
   ]
  },
  {
   "cell_type": "code",
   "execution_count": null,
   "metadata": {},
   "outputs": [],
   "source": [
    "300*300*200"
   ]
  },
  {
   "cell_type": "code",
   "execution_count": null,
   "metadata": {},
   "outputs": [],
   "source": [
    "hist5 = sc.flatten(hist4, to='row')\n",
    "ava = np.average(hist5.values) #avarage of values to use as cut off creteria\n",
    "sig = np.std(hist5.values)\n",
    "cut = ava + sig*10\n",
    "#print(\"background substraction\",cut, ava, sig)\n",
    "select = hist5.data > sc.scalar(cut, unit='counts') # cut of background\n",
    "filtered = hist5[select]\n",
    "filtered.coords['tc'] *= 10\n",
    "filtered"
   ]
  },
  {
   "cell_type": "code",
   "execution_count": null,
   "metadata": {},
   "outputs": [],
   "source": [
    "ava = np.average(hist5.values)\n",
    "sig = np.std(hist5.values)\n",
    "#print(ava, sig)"
   ]
  },
  {
   "cell_type": "code",
   "execution_count": null,
   "metadata": {},
   "outputs": [],
   "source": [
    "hist5"
   ]
  },
  {
   "cell_type": "code",
   "execution_count": null,
   "metadata": {},
   "outputs": [],
   "source": [
    "pp.scatter3d(filtered, x='xc', y='yc', z='tc', pixel_size=0.001)#,figsize=(550, 550))"
   ]
  },
  {
   "cell_type": "code",
   "execution_count": null,
   "metadata": {},
   "outputs": [],
   "source": [
    "nbin= 1280**2\n",
    "print(nbin)\n",
    "tbin = 12\n",
    "id_binned = da.bin(id=nbin)\n",
    "\n",
    "id_hist=id_binned.hist(t=tbin)\n",
    "\n",
    "\n",
    "id_hist.sum"
   ]
  },
  {
   "cell_type": "code",
   "execution_count": null,
   "metadata": {},
   "outputs": [],
   "source": [
    "#f_out = h5py.File('/Users/justinbergmann/work_flow/test_out/test.h5','w')"
   ]
  },
  {
   "attachments": {},
   "cell_type": "markdown",
   "metadata": {},
   "source": [
    "detector postion"
   ]
  },
  {
   "cell_type": "code",
   "execution_count": 21,
   "metadata": {},
   "outputs": [
    {
     "data": {
      "text/plain": [
       "[0.282776, -0.25, 157.697]"
      ]
     },
     "execution_count": 21,
     "metadata": {},
     "output_type": "execute_result"
    }
   ],
   "source": [
    "origen = f['entry1/data']['bank01_events_dat_list_p_x_y_n_id_t']['distance'][0].decode()\n",
    "origen = list(np.float_(origen.split()))\n",
    "origen"
   ]
  },
  {
   "cell_type": "code",
   "execution_count": 25,
   "metadata": {},
   "outputs": [
    {
     "data": {
      "text/plain": [
       "[0.282776, -0.25, 157.697]"
      ]
     },
     "execution_count": 25,
     "metadata": {},
     "output_type": "execute_result"
    }
   ],
   "source": [
    "origen = f['entry1/data']['bank01_events_dat_list_p_x_y_n_id_t']['distance'][...]\n",
    "ol = origen[0].split()\n",
    "\n",
    "print = (ol)\n",
    "det_or = []\n",
    "for i in range(len(ol)):\n",
    "    det_or.append(float(ol[i]))\n",
    "x = float(ol[0])\n",
    "det_or"
   ]
  },
  {
   "cell_type": "code",
   "execution_count": 26,
   "metadata": {},
   "outputs": [
    {
     "name": "stdout",
     "output_type": "stream",
     "text": [
      "<HDF5 dataset \"data\": shape (1,), type \"|S5382\">\n"
     ]
    }
   ],
   "source": [
    "print( f['entry1/instrument/instrument_xml/data'])"
   ]
  },
  {
   "cell_type": "code",
   "execution_count": 81,
   "metadata": {},
   "outputs": [],
   "source": [
    "\n",
    "def CDist2(A,B):\n",
    "#calculate distance betweenn two points\n",
    "        dist = len3dvec(twoP_to_vec(A, B))\n",
    "        return dist\n",
    "\n",
    "\n",
    "\n",
    "def len3dvec(vec):\n",
    "## calculates lengh of a 3D vecor\n",
    "## input as list\n",
    "        a = np.sqrt(vec[0]**2 + vec[1]**2 + vec[2]**2)\n",
    "        return a\n",
    "\n",
    "def twoP_to_vec(A,B):\n",
    "#creates vector between two points\n",
    "        vec = np.array([B[0]-A[0], B[1]-A[1], B[2]-A[2]])\n",
    "\n",
    "        return vec"
   ]
  },
  {
   "cell_type": "code",
   "execution_count": 33,
   "metadata": {},
   "outputs": [
    {
     "data": {
      "text/plain": [
       "['b\\'<?xml version=\"1.0\" encoding=\"UTF-8\"?>',\n",
       " '<!-- IDF generated using McStas McDisplay and the Mantid backend -->',\n",
       " '<!-- For help on the notation used to specify an Instrument Definition File see http://www.mantidproject.org/IDF -->',\n",
       " '<instrument name=\"NMX_Mantid.out\" valid-from   =\"1900-01-31 23:59:59\"',\n",
       " 'valid-to     =\"2100-01-31 23:59:59\" last-modified=\"Tue Jan 24 10:03:49 2023\">',\n",
       " '<defaults>',\n",
       " '\\\\t<length unit=\"meter\"/>',\n",
       " '\\\\t<angle unit=\"degree\"/>',\n",
       " '\\\\t<reference-frame>',\n",
       " '\\\\t\\\\t<!-- The z-axis is set parallel to and in the direction of the beam. The y-axis points up and the coordinate system is right handed. -->',\n",
       " '\\\\t\\\\t<along-beam axis=\"z\"/>',\n",
       " '\\\\t\\\\t<pointing-up axis=\"y\"/>',\n",
       " '\\\\t\\\\t<handedness val=\"right\"/>',\n",
       " '\\\\t</reference-frame>',\n",
       " '\\\\t\\\\t<default-view axis-view=\"z-\"/>',\n",
       " '\\\\t</defaults>',\n",
       " '',\n",
       " '<!-- LIST OF PHYSICAL COMPONENTS (which the instrument consists of) -->',\n",
       " '',\n",
       " '<type name=\"Othercomp\"></type>',\n",
       " '',\n",
       " '<component type=\"sourceMantid-type\" name=\"sourceMantid\">',\n",
       " '<location x=\" 0\" y=\" 0\" z=\" 0\"  />',\n",
       " '</component>',\n",
       " '',\n",
       " '<component type=\"sampleMantid-type\" name=\"sampleMantid\">',\n",
       " '<location x=\" 0.53123\" y=\" 0\" z=\" 157.405\"  rot=\"0.303181121242003\" axis-x=\"0\" axis-y=\"1\" axis-z=\"0\" />',\n",
       " '</component>',\n",
       " '',\n",
       " '',\n",
       " '<type name=\"Origin-type\"  >',\n",
       " '</type>',\n",
       " '',\n",
       " '<type name=\"line-sourceMantid-0\" >',\n",
       " '\\\\t<cylinder id=\"dummy\" >',\n",
       " '\\\\t\\\\t<centre-of-bottom-base x=\"0\" y=\"0\" z=\"0\" />',\n",
       " '\\\\t\\\\t<axis x=\"0.2\" y=\"0\" z=\"0\" />',\n",
       " '\\\\t\\\\t<radius val=\"0.005\" />',\n",
       " '\\\\t\\\\t<height val=\"0.2\" />',\n",
       " '\\\\t</cylinder >',\n",
       " '</type>',\n",
       " '',\n",
       " '<type name=\"line-sourceMantid-1\" >',\n",
       " '\\\\t<cylinder id=\"dummy\" >',\n",
       " '\\\\t\\\\t<centre-of-bottom-base x=\"0\" y=\"0\" z=\"0\" />',\n",
       " '\\\\t\\\\t<axis x=\"0\" y=\"0.2\" z=\"0\" />',\n",
       " '\\\\t\\\\t<radius val=\"0.005\" />',\n",
       " '\\\\t\\\\t<height val=\"0.2\" />',\n",
       " '\\\\t</cylinder >',\n",
       " '</type>',\n",
       " '',\n",
       " '<type name=\"line-sourceMantid-2\" >',\n",
       " '\\\\t<cylinder id=\"dummy\" >',\n",
       " '\\\\t\\\\t<centre-of-bottom-base x=\"0\" y=\"0\" z=\"0\" />',\n",
       " '\\\\t\\\\t<axis x=\"0\" y=\"0\" z=\"0.2\" />',\n",
       " '\\\\t\\\\t<radius val=\"0.005\" />',\n",
       " '\\\\t\\\\t<height val=\"0.2\" />',\n",
       " '\\\\t</cylinder >',\n",
       " '</type>',\n",
       " '',\n",
       " '<type name=\"sourceMantid-type\" is=\"Source\" >',\n",
       " '\\\\t<component type=\"line-sourceMantid-0\" >',\n",
       " '\\\\t\\\\t<location x=\"0\" y=\"0\" z=\"0\" />',\n",
       " '\\\\t</component >',\n",
       " '\\\\t<component type=\"line-sourceMantid-1\" >',\n",
       " '\\\\t\\\\t<location x=\"0\" y=\"0\" z=\"0\" />',\n",
       " '\\\\t</component >',\n",
       " '\\\\t<component type=\"line-sourceMantid-2\" >',\n",
       " '\\\\t\\\\t<location x=\"0\" y=\"0\" z=\"0\" />',\n",
       " '\\\\t</component >',\n",
       " '</type>',\n",
       " '',\n",
       " '<type name=\"line-sampleMantid-0\" >',\n",
       " '\\\\t<cylinder id=\"dummy\" >',\n",
       " '\\\\t\\\\t<centre-of-bottom-base x=\"0\" y=\"0\" z=\"0\" />',\n",
       " '\\\\t\\\\t<axis x=\"0.2\" y=\"0\" z=\"0\" />',\n",
       " '\\\\t\\\\t<radius val=\"0.005\" />',\n",
       " '\\\\t\\\\t<height val=\"0.2\" />',\n",
       " '\\\\t</cylinder >',\n",
       " '</type>',\n",
       " '',\n",
       " '<type name=\"line-sampleMantid-1\" >',\n",
       " '\\\\t<cylinder id=\"dummy\" >',\n",
       " '\\\\t\\\\t<centre-of-bottom-base x=\"0\" y=\"0\" z=\"0\" />',\n",
       " '\\\\t\\\\t<axis x=\"0\" y=\"0.2\" z=\"0\" />',\n",
       " '\\\\t\\\\t<radius val=\"0.005\" />',\n",
       " '\\\\t\\\\t<height val=\"0.2\" />',\n",
       " '\\\\t</cylinder >',\n",
       " '</type>',\n",
       " '',\n",
       " '<type name=\"line-sampleMantid-2\" >',\n",
       " '\\\\t<cylinder id=\"dummy\" >',\n",
       " '\\\\t\\\\t<centre-of-bottom-base x=\"0\" y=\"0\" z=\"0\" />',\n",
       " '\\\\t\\\\t<axis x=\"0\" y=\"0\" z=\"0.2\" />',\n",
       " '\\\\t\\\\t<radius val=\"0.005\" />',\n",
       " '\\\\t\\\\t<height val=\"0.2\" />',\n",
       " '\\\\t</cylinder >',\n",
       " '</type>',\n",
       " '',\n",
       " '<type name=\"sampleMantid-type\" is=\"SamplePos\" >',\n",
       " '\\\\t<component type=\"line-sampleMantid-0\" >',\n",
       " '\\\\t\\\\t<location x=\"0\" y=\"0\" z=\"0\" />',\n",
       " '\\\\t</component >',\n",
       " '\\\\t<component type=\"line-sampleMantid-1\" >',\n",
       " '\\\\t\\\\t<location x=\"0\" y=\"0\" z=\"0\" />',\n",
       " '\\\\t</component >',\n",
       " '\\\\t<component type=\"line-sampleMantid-2\" >',\n",
       " '\\\\t\\\\t<location x=\"0\" y=\"0\" z=\"0\" />',\n",
       " '\\\\t</component >',\n",
       " '</type>',\n",
       " '',\n",
       " '<type name=\"Sphere-type\"  >',\n",
       " '</type>',\n",
       " '',\n",
       " '<component type=\"MonNDtype-0\" name=\"nD_Mantid_0\" idstart=\"1\" idfillbyfirst=\"x\" idstepbyrow=\" 1280\">',\n",
       " '\\\\t<location x=\" 0.282776\" y=\" -0.25\" z=\" 157.697\"  rot=\"0.303181121242003\" axis-x=\"0\" axis-y=\"1\" axis-z=\"0\" />',\n",
       " '</component>',\n",
       " '',\n",
       " '<type name=\"MonNDtype-0\" is=\"RectangularDetector\" type=\"pixel-0\"',\n",
       " '\\\\txpixels=\" 1280\" xstart=\"0.0002\" xstep=\"0.0004\"',\n",
       " '\\\\typixels=\" 1280\" ystart=\"0.0002\" ystep=\"0.0004\">',\n",
       " '</type>',\n",
       " '<type is=\"detector\" name=\"pixel-0\">',\n",
       " '\\\\t<cuboid id=\"pixel-shape-0\">',\n",
       " '\\\\t\\\\t<left-front-bottom-point x=\"0.0002\" y=\"-0.0002\" z=\"0.0\" />',\n",
       " '\\\\t\\\\t<left-front-top-point x=\"0.0002\" y=\"0.0002\" z=\"0.0\" />',\n",
       " '\\\\t\\\\t<left-back-bottom-point x=\"0.0002\" y=\"-0.0002\" z=\"0.00005\" />',\n",
       " '\\\\t\\\\t<right-front-bottom-point x=\"-0.0002\" y=\"-0.0002\" z=\"0.0\" />',\n",
       " '\\\\t</cuboid>',\n",
       " '\\\\t<algebra val=\"pixel-shape-0\" />',\n",
       " '</type>',\n",
       " '',\n",
       " '',\n",
       " '<component type=\"MonNDtype-1\" name=\"nD_Mantid_1\" idstart=\"2000000\" idfillbyfirst=\"x\" idstepbyrow=\" 1280\">',\n",
       " '\\\\t<location x=\" 0.242564\" y=\" -0.25\" z=\" 157.657\"  rot=\"90.3045938200173\" axis-x=\"0\" axis-y=\"1\" axis-z=\"0\" />',\n",
       " '</component>',\n",
       " '',\n",
       " '<type name=\"MonNDtype-1\" is=\"RectangularDetector\" type=\"pixel-1\"',\n",
       " '\\\\txpixels=\" 1280\" xstart=\"0.0002\" xstep=\"0.0004\"',\n",
       " '\\\\typixels=\" 1280\" ystart=\"0.0002\" ystep=\"0.0004\">',\n",
       " '</type>',\n",
       " '<type is=\"detector\" name=\"pixel-1\">',\n",
       " '\\\\t<cuboid id=\"pixel-shape-1\">',\n",
       " '\\\\t\\\\t<left-front-bottom-point x=\"0.0002\" y=\"-0.0002\" z=\"0.0\" />',\n",
       " '\\\\t\\\\t<left-front-top-point x=\"0.0002\" y=\"0.0002\" z=\"0.0\" />',\n",
       " '\\\\t\\\\t<left-back-bottom-point x=\"0.0002\" y=\"-0.0002\" z=\"0.00005\" />',\n",
       " '\\\\t\\\\t<right-front-bottom-point x=\"-0.0002\" y=\"-0.0002\" z=\"0.0\" />',\n",
       " '\\\\t</cuboid>',\n",
       " '\\\\t<algebra val=\"pixel-shape-1\" />',\n",
       " '</type>',\n",
       " '',\n",
       " '',\n",
       " '<component type=\"MonNDtype-2\" name=\"nD_Mantid_2\" idstart=\"4000000\" idfillbyfirst=\"x\" idstepbyrow=\" 1280\">',\n",
       " '\\\\t<location x=\" 0.819897\" y=\" -0.25\" z=\" 157.154\"  rot=\"89.6954061799827\" axis-x=\"0\" axis-y=\"-1\" axis-z=\"0\" />',\n",
       " '</component>',\n",
       " '',\n",
       " '<type name=\"MonNDtype-2\" is=\"RectangularDetector\" type=\"pixel-2\"',\n",
       " '\\\\txpixels=\" 1280\" xstart=\"0.0002\" xstep=\"0.0004\"',\n",
       " '\\\\typixels=\" 1280\" ystart=\"0.0002\" ystep=\"0.0004\">',\n",
       " '</type>',\n",
       " '<type is=\"detector\" name=\"pixel-2\">',\n",
       " '\\\\t<cuboid id=\"pixel-shape-2\">',\n",
       " '\\\\t\\\\t<left-front-bottom-point x=\"0.0002\" y=\"-0.0002\" z=\"0.0\" />',\n",
       " '\\\\t\\\\t<left-front-top-point x=\"0.0002\" y=\"0.0002\" z=\"0.0\" />',\n",
       " '\\\\t\\\\t<left-back-bottom-point x=\"0.0002\" y=\"-0.0002\" z=\"0.00005\" />',\n",
       " '\\\\t\\\\t<right-front-bottom-point x=\"-0.0002\" y=\"-0.0002\" z=\"0.0\" />',\n",
       " '\\\\t</cuboid>',\n",
       " '\\\\t<algebra val=\"pixel-shape-2\" />',\n",
       " '</type>',\n",
       " '',\n",
       " '</instrument>',\n",
       " \"'\"]"
      ]
     },
     "execution_count": 33,
     "metadata": {},
     "output_type": "execute_result"
    }
   ],
   "source": [
    "xml  = str(f['entry1/instrument/instrument_xml/data'][...][0]).split('\\\\n')\n",
    "xml"
   ]
  },
  {
   "cell_type": "code",
   "execution_count": 87,
   "metadata": {},
   "outputs": [
    {
     "name": "stdout",
     "output_type": "stream",
     "text": [
      "1 ['component', 'type=', 'sourceMantid-type', 'name=', 'sourceMantid']\n",
      "3 ['location', 'x=', '0', 'y=', '0', 'z=', '0', '/']\n",
      "1 ['component', 'type=', 'sampleMantid-type', 'name=', 'sampleMantid']\n",
      "3 ['location', 'x=', '0.53123', 'y=', '0', 'z=', '157.405', 'rot=', '0.303181121242003', 'axis-x=', '0', 'axis-y=', '1', 'axis-z=', '0', '/']\n",
      "1 ['component', 'type=', 'line-sourceMantid-0']\n",
      "3 ['location', 'x=', '0', 'y=', '0', 'z=', '0', '/']\n",
      "1 ['component', 'type=', 'line-sourceMantid-1']\n",
      "3 ['location', 'x=', '0', 'y=', '0', 'z=', '0', '/']\n",
      "1 ['component', 'type=', 'line-sourceMantid-2']\n",
      "3 ['location', 'x=', '0', 'y=', '0', 'z=', '0', '/']\n",
      "1 ['component', 'type=', 'line-sampleMantid-0']\n",
      "3 ['location', 'x=', '0', 'y=', '0', 'z=', '0', '/']\n",
      "1 ['component', 'type=', 'line-sampleMantid-1']\n",
      "3 ['location', 'x=', '0', 'y=', '0', 'z=', '0', '/']\n",
      "1 ['component', 'type=', 'line-sampleMantid-2']\n",
      "3 ['location', 'x=', '0', 'y=', '0', 'z=', '0', '/']\n",
      "1 ['component', 'type=', 'MonNDtype-0', 'name=', 'nD_Mantid_0', 'idstart=', '1', 'idfillbyfirst=', 'x', 'idstepbyrow=', '1280']\n",
      "3 ['location', 'x=', '0.282776', 'y=', '-0.25', 'z=', '157.697', 'rot=', '0.303181121242003', 'axis-x=', '0', 'axis-y=', '1', 'axis-z=', '0', '/']\n",
      "2 ['location', 'x=', '0.282776', 'y=', '-0.25', 'z=', '157.697', 'rot=', '0.303181121242003', 'axis-x=', '0', 'axis-y=', '1', 'axis-z=', '0', '/']\n",
      "1 ['component', 'type=', 'MonNDtype-1', 'name=', 'nD_Mantid_1', 'idstart=', '2000000', 'idfillbyfirst=', 'x', 'idstepbyrow=', '1280']\n",
      "3 ['location', 'x=', '0.242564', 'y=', '-0.25', 'z=', '157.657', 'rot=', '90.3045938200173', 'axis-x=', '0', 'axis-y=', '1', 'axis-z=', '0', '/']\n",
      "2 ['location', 'x=', '0.242564', 'y=', '-0.25', 'z=', '157.657', 'rot=', '90.3045938200173', 'axis-x=', '0', 'axis-y=', '1', 'axis-z=', '0', '/']\n",
      "1 ['component', 'type=', 'MonNDtype-2', 'name=', 'nD_Mantid_2', 'idstart=', '4000000', 'idfillbyfirst=', 'x', 'idstepbyrow=', '1280']\n",
      "3 ['location', 'x=', '0.819897', 'y=', '-0.25', 'z=', '157.154', 'rot=', '89.6954061799827', 'axis-x=', '0', 'axis-y=', '-1', 'axis-z=', '0', '/']\n",
      "2 ['location', 'x=', '0.819897', 'y=', '-0.25', 'z=', '157.154', 'rot=', '89.6954061799827', 'axis-x=', '0', 'axis-y=', '-1', 'axis-z=', '0', '/']\n",
      "[[0, [0.282776, -0.25, 157.697]], [1, [0.242564, -0.25, 157.657]], [2, [0.819897, -0.25, 157.154]]]\n",
      "[0.53123, 0.0, 157.405] [0.0, 0.0, 0.0]\n",
      "157.40589642803377\n"
     ]
    }
   ],
   "source": [
    "comp = False\n",
    "det = False\n",
    "source = False\n",
    "sample = False\n",
    "sample_pos = [0,0,0]\n",
    "source_pos = [0,0,0]\n",
    "d_list = []\n",
    "for i in range(len(xml)):\n",
    "    ls = xml[i].replace('<t',' ').replace('>',' ').replace('\"',' ').replace('<',' ').replace('\\\\t',' ').split()\n",
    "    \n",
    "    if len(ls) >= 1:\n",
    "        if ls[0] == 'component':\n",
    "            det = False\n",
    "            source = False\n",
    "            sample = False\n",
    "            comp = True\n",
    "            if ls[2].split('-')[0] == 'MonNDtype':\n",
    "\n",
    "                det = True\n",
    "                d_list.append([int(ls[2].split('-')[1])])\n",
    "            elif ls[2] == 'sourceMantid-type':\n",
    "                source = True\n",
    "            elif ls[2] == 'sampleMantid-type':\n",
    "                sample = True\n",
    "            comp = True\n",
    "     #   if ls[1].split('-')[0] == 'type=\"MonNDtype':\n",
    "            print(\"1\",ls)\n",
    "    if len(ls) >= 1:\n",
    "        if ls[0] == 'type':\n",
    "            comp = False\n",
    "    if len(ls) >= 1:\n",
    "        if ls[0] == 'location' or ls[0] == 'location':\n",
    "            print(\"3\",ls)\n",
    "            if comp == True and det == True:\n",
    "            #print(\"1\",ls)\n",
    "            \n",
    "                print(\"2\",ls)\n",
    "                xyz = [float(ls[2]),float(ls[4]),float(ls[6])]\n",
    "                d_list[len(d_list)-1].append(xyz)\n",
    "            elif comp == True and source == True: \n",
    "              source_pos = [float(ls[2]),float(ls[4]),float(ls[6])]\n",
    "            elif comp == True and sample == True: \n",
    "               sample_pos = [float(ls[2]),float(ls[4]),float(ls[6])]\n",
    "print(d_list)\n",
    "print(sample_pos,source_pos)\n",
    "print(CDist2(source_pos, sample_pos))"
   ]
  },
  {
   "attachments": {},
   "cell_type": "markdown",
   "metadata": {},
   "source": [
    "getting the crystal orientation"
   ]
  },
  {
   "cell_type": "code",
   "execution_count": 19,
   "metadata": {},
   "outputs": [
    {
     "name": "stdout",
     "output_type": "stream",
     "text": [
      "<KeysViewHDF5 ['DetectorDist', 'DetectorX', 'DetectorY', 'L_max', 'L_min', 'LambdaMax', 'LambdaMin', 'Phase2A', 'Phase2B', 'PinholeCollimator_divergence', 'PinholeCollimator_height', 'PinholeCollimator_width', 'Slit1_height', 'Slit1_width', 'Slit2_height', 'Slit2_width', 'TT', 'XtalMosaicity', 'XtalPhiX', 'XtalPhiY', 'XtalPhiZ', 'XtalSize_depth', 'XtalSize_height', 'XtalSize_width', 'frac', 'lmax', 'lmin', 'mon_shift']>\n",
      "<HDF5 dataset \"XtalPhiX\": shape (1,), type \"|S2\">\n",
      "2.0 0.0 0.0\n"
     ]
    },
    {
     "data": {
      "text/plain": [
       "array([2., 0., 0.])"
      ]
     },
     "execution_count": 19,
     "metadata": {},
     "output_type": "execute_result"
    }
   ],
   "source": [
    "print((f['entry1']['simulation']['Param'].keys()))\n",
    "print((f['entry1']['simulation']['Param']['XtalPhiX']))\n",
    "phix=float(list(str(f['entry1']['simulation']['Param']['XtalPhiX'][...][0]))[2])\n",
    "phiy=float(list(str(f['entry1']['simulation']['Param']['XtalPhiY'][...][0]))[2])\n",
    "phiz=float(list(str(f['entry1']['simulation']['Param']['XtalPhiZ'][...][0]))[2])\n",
    "#str(phix[0])\n",
    "#int(list(str(phix[0]))[2])\n",
    "print(phix,phiy,phiz)\n",
    "cor=[phix,phiy, phiz]\n",
    "cryst_or = np.array(cor)\n",
    "cryst_or"
   ]
  },
  {
   "cell_type": "code",
   "execution_count": null,
   "metadata": {},
   "outputs": [],
   "source": [
    "#grp = f_out.create_group(\"raw_data_1\")\n",
    "\n",
    "#grp.__setitem__('beamline','NMX')\n",
    "#grp.__setitem__('definition','TOFRAW')\n",
    "#det1 = grp.create_group(\"detector_1\")\n",
    "#dset = det1.create_dataset(\"hist_data\",data=data1)\n",
    "\n",
    "#beamline = grp.create_dataset(\"beamline\", (\"NMX\"))\n",
    "#print(beamline.name)\n",
    "#beamline = \"NMX\"\n",
    "#\"NMX\" = grp['beamline'] "
   ]
  },
  {
   "cell_type": "code",
   "execution_count": 10,
   "metadata": {},
   "outputs": [
    {
     "name": "stdout",
     "output_type": "stream",
     "text": [
      "/Users/justinbergmann/work_flow/test_data/xe_20_NMX.h5\n"
     ]
    }
   ],
   "source": [
    "print(filename)"
   ]
  },
  {
   "cell_type": "code",
   "execution_count": 70,
   "metadata": {},
   "outputs": [
    {
     "name": "stdout",
     "output_type": "stream",
     "text": [
      "['', 'Users', 'justinbergmann', 'work_flow', 'test_data', 'xe_20_NMX.h5']\n",
      "xe_20_NMX\n",
      "/Users/justinbergmann/work_flow/test_out/xe_20_NMX_out.h5\n"
     ]
    }
   ],
   "source": [
    "no = filename.split('/')\n",
    "print(no)\n",
    "name_out= no[-1].split('.')[0]\n",
    "print(name_out)\n",
    "file_out = '/Users/justinbergmann/work_flow/test_out/'+name_out+'_out.h5'\n",
    "print(file_out)"
   ]
  },
  {
   "cell_type": "code",
   "execution_count": 89,
   "metadata": {},
   "outputs": [],
   "source": [
    "with h5py.File(file_out, 'w') as fo:\n",
    "## create output nexus file\n",
    "   fo.attrs['default'] = 'NMX_data'\n",
    "   nxentry = fo.create_group('NMX_data')\n",
    "   nxentry.attrs[\"NX_class\"] = 'NXentry'\n",
    "   nxentry.attrs['default'] = 'data'\n",
    "   nxentry.__setitem__('beamline','NMX')\n",
    "   nxentry.__setitem__('definition','TOFRAW')\n",
    "\n",
    "#SAMPLE\n",
    "   nx_sample = nxentry.create_group('NXsample')\n",
    "   nx_sample.__setitem__('name','Single_crystal')\n",
    "#SOURCE\n",
    "   nx_inst = nxentry.create_group('instrument')\n",
    "   nx_source = nxentry.create_group('NXsource')\n",
    "   nx_source.__setitem__('name','European Spallation Source')\n",
    "   nx_source.__setitem__('short_name','ESS')\n",
    "   nx_source.__setitem__('type','Spallation Neutron Source')\n",
    "   nx_source.__setitem__('distance',-CDist2(source_pos, sample_pos))\n",
    "   nx_source.__setitem__('probe','neutron')\n",
    "   nx_source.__setitem__('target_material','W')\n",
    "\n",
    "\n",
    "   for i in range(n_det):\n",
    "      panel = da3['panel',i].hist(t=t_step)\n",
    "      p_name = \"panel_\"+str(i)\n",
    "      nxdata = nxentry.create_group(p_name) \n",
    "      nxdata.attrs[\"NX_class\"] = 'NXdata'\n",
    "      nxdata.attrs['signal'] = 'counts' \n",
    "      #ad counds\n",
    "      #counts = nxdata.create_dataset('counts', data=panel_0.values)\n",
    "      counts = nxdata.create_dataset('counts', data=panel.values)\n",
    "\n",
    "\n",
    "      counts.attrs['units'] = 'counts'\n",
    "      counts.attrs['long_name'] = 'counts of panel'+str(i)+' (counts)'\n",
    "      \n",
    "      id_bin = nxdata.create_dataset('pix_id', data=panel.coords['id'].values)\n",
    "      id_bin.attrs['units'] = ''\n",
    "      id_bin.attrs['long_name'] = 'pixel ID'\n",
    "      \n",
    "      t_bin = nxdata.create_dataset('t_bin', data=panel.coords['t'].values)\n",
    "      t_bin.attrs['units'] = 'ms'\n",
    "      t_bin.attrs['long_name'] = 't_bin TOF (ms)'\n",
    "\n",
    "    \n",
    "#   nxdata = nxentry.create_group('panel_0') \n",
    "#   nxdata.attrs[\"NX_class\"] = 'NXdata'\n",
    "#   nxdata.attrs['signal'] = 'counts' \n",
    "   #ad counds\n",
    "#   counts = nxdata.create_dataset('counts', data=panel_0.values)\n",
    "#   counts.attrs['units'] = 'counts'\n",
    "#   counts.attrs['long_name'] = 'counts of panel'+str(i)+' (counts)'\n",
    "      \n",
    " #  id_bin = nxdata.create_dataset('id_bin', data=panel_0.coords['id'].values)\n",
    " #  id_bin.attrs['units'] = ''\n",
    " #  id_bin.attrs['long_name'] = 'pixel ID'\n",
    "      \n",
    " #  t_bin = nxdata.create_dataset('t_bin', data=panel_0.coords['t'].values)\n",
    " #  t_bin.attrs['units'] = 'ms'\n",
    " #  t_bin.attrs['long_name'] = 't_bin TOF (ms)'\n",
    "\n",
    " \n",
    "\n",
    "\n",
    "    #nxdata = nxentry.create_group('data')\n",
    "    #nxdata.attrs[\"NX_class\"] = 'NXdata'\n",
    "    #nxdata.attrs['signal'] = 'counts'\n",
    "    #nxdata.attrs['axes'] = 'two_theta'\n",
    "    #nxdata.attrs['two_theta_indices'] = [0,]\n",
    " \n",
    "  #  tth = nxdata.create_dataset('data1', data=data1)\n",
    "   # tth.attrs['units'] = 'counts'\n",
    "    #tth.attrs['long_name'] = 'data1 (counts)'\n",
    "\n",
    "#    id_bin = nxdata.create_dataset('id_bin', data=id_bin)\n",
    "#    id_bin.attrs['units'] = ''\n",
    "#    id_bin.attrs['long_name'] = 'pixel ID'\n",
    "    \n",
    " #   t_bin = nxdata.create_dataset('t_bin', data=tl_bin)\n",
    " #   t_bin.attrs['units'] = 'ms'\n",
    " #   t_bin.attrs['long_name'] = 't_bin TOF (ms)'\n",
    "\n",
    "#    counts = nxdata.create_dataset('counts', data=data2)\n",
    "#    counts.attrs['units'] = 'counts'\n",
    "#    counts.attrs['long_name'] = 'counts (bined counts)'\n",
    "\n",
    "\n",
    "\n",
    "\n",
    "\n",
    "#    c_or = nxinst.create_dataset('crystal_orientation',data=cryst_or)\n",
    "#    c_or.attrs['unit'] = 'degrees'\n",
    "#    c_or.attrs['long_name'] = 'crystal orientation in Phi (degrees)'\n",
    "    \n",
    "\n",
    "   fo.close()\n"
   ]
  },
  {
   "cell_type": "code",
   "execution_count": null,
   "metadata": {},
   "outputs": [],
   "source": [
    "#print(grp['beamline'].items())\n",
    "fo.close()"
   ]
  },
  {
   "cell_type": "code",
   "execution_count": null,
   "metadata": {},
   "outputs": [],
   "source": [
    "\n",
    "#f_out.close()"
   ]
  },
  {
   "cell_type": "code",
   "execution_count": null,
   "metadata": {},
   "outputs": [],
   "source": [
    "f.close()  \n",
    "del id_list\n",
    "del x_list\n",
    "del y_list\n",
    "del t_list\n",
    "del id_hist\n",
    "del hist3"
   ]
  },
  {
   "cell_type": "code",
   "execution_count": null,
   "metadata": {},
   "outputs": [],
   "source": [
    "current, peak = tracemalloc.get_traced_memory()\n",
    "print('2 current memory [MB]: {}, peak memory [MB]: {} '.format(round((current/(1024*1024)), 2), round((peak /(1024*1024) ), 2) ))\n",
    "# stopping the library\n",
    "tracemalloc.stop()\n",
    "print(\"neded time (h:mm:ss): \", datetime.now() - startTime)"
   ]
  }
 ],
 "metadata": {
  "kernelspec": {
   "display_name": "ess",
   "language": "python",
   "name": "python3"
  },
  "language_info": {
   "codemirror_mode": {
    "name": "ipython",
    "version": 3
   },
   "file_extension": ".py",
   "mimetype": "text/x-python",
   "name": "python",
   "nbconvert_exporter": "python",
   "pygments_lexer": "ipython3",
   "version": "3.9.15"
  },
  "vscode": {
   "interpreter": {
    "hash": "2f119d261a2d59e335728eef8c9957dbc602fe663047a944a8775a95e22cdb34"
   }
  }
 },
 "nbformat": 4,
 "nbformat_minor": 4
}
