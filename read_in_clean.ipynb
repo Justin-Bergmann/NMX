{
 "cells": [
  {
   "cell_type": "markdown",
   "metadata": {},
   "source": [
    "lean version of read in file for the NMX work flow (from simulatet event data to binned event data)"
   ]
  },
  {
   "cell_type": "markdown",
   "metadata": {},
   "source": [
    "\n",
    "first add neded libaries"
   ]
  },
  {
   "cell_type": "code",
   "execution_count": 2,
   "metadata": {},
   "outputs": [],
   "source": [
    "from datetime import datetime\n",
    "startTime = datetime.now()\n",
    "import tracemalloc\n",
    "    #from scippnexus import data\n",
    "#import scippnexus as snx\n",
    "import numpy as np\n",
    "    #qimport mantid_args\n",
    "#from scippnexus import NXdetector\n",
    "from scippneutron.conversion import graph\n",
    "\n",
    "import scipp as sc\n",
    "import scippneutron as scn\n",
    "%matplotlib widget\n",
    "import plopp as pp\n",
    "pp.patch_scipp()\n",
    "import matplotlib.pyplot as plt\n",
    "from matplotlib.colors import LogNorm\n",
    "\n",
    "    #import multiprocessing as mp\n",
    "\n",
    "import h5py\n",
    "h5py.enable_ipython_completer()\n",
    "\n",
    "%matplotlib widget\n",
    "\n"
   ]
  },
  {
   "attachments": {},
   "cell_type": "markdown",
   "metadata": {},
   "source": [
    "define general parameter"
   ]
  },
  {
   "cell_type": "code",
   "execution_count": 5,
   "metadata": {},
   "outputs": [],
   "source": [
    "#Number op pixels per detecotr dimmension\n",
    "pix = 1280\n",
    "#number of time bins \n",
    "t_step = 250\n",
    "#number of detectors\n",
    "n_det = 3\n"
   ]
  },
  {
   "cell_type": "code",
   "execution_count": 6,
   "metadata": {},
   "outputs": [
    {
     "data": {
      "text/plain": [
       "'3.9.15 | packaged by conda-forge | (main, Nov 22 2022, 08:52:10) \\n[Clang 14.0.6 ]'"
      ]
     },
     "execution_count": 6,
     "metadata": {},
     "output_type": "execute_result"
    }
   ],
   "source": [
    "#%reset out\n",
    "sys.version\n"
   ]
  },
  {
   "cell_type": "code",
   "execution_count": 7,
   "metadata": {},
   "outputs": [],
   "source": [
    "# starting the momory monitoring\n",
    "tracemalloc.start()"
   ]
  },
  {
   "cell_type": "markdown",
   "metadata": {},
   "source": [
    "pretreatment to make it faster\n",
    "h5repack -l CHUNK=1024x6 2e11.h5 2e11-rechunk.h5 \n",
    "or \n",
    "h5repack -l CHUNK=NONE 2e11.h5 2e11-nochunk.h5\n",
    "\n",
    "h5repack -l CHUNK=1024x6 mccode.h5 mccode-nochunk.h5"
   ]
  },
  {
   "cell_type": "code",
   "execution_count": 8,
   "metadata": {},
   "outputs": [],
   "source": [
    "fname = 4\n",
    "if fname == 1:\n",
    "   filename = '/Users/justinbergmann/work_flow/test_data/2e11.h5'\n",
    "elif fname == 2:\n",
    "    filename = '/Users/justinbergmann/work_flow/test_data/x0_3d.h5'\n",
    "elif fname == 3:\n",
    "    filename = '/Users/justinbergmann/work_flow/test_data/xe_0_NMX.h5'\n",
    "elif fname == 4:\n",
    "    filename = '/Users/justinbergmann/work_flow/test_data/xe_20_NMX.h5'\n",
    "elif fname == 5:\n",
    "    filename = '/Users/justinbergmann/work_flow/test_data/flip_det.h5'\n",
    "elif fname == 6:\n",
    "    filename = '/Users/justinbergmann/work_flow/test_data/flip_4.h5'\n",
    "elif fname == 7:\n",
    "    filename = '/Users/justinbergmann/work_flow/test_data/ye_0_NMX.h5'\n",
    "elif fname == 8:\n",
    "    filename = '/Users/justinbergmann/work_flow/test_data/xe1_12_NMX/xe1_12_no_chunk.h5'\n",
    "elif fname == 9:\n",
    "    filename = '/Users/justinbergmann/work_flow/test_data/1d.h5'\n",
    "else:\n",
    "    filename = '/Users/justinbergmann/work_flow/test_data/e12_no_chunk.h5'\n",
    "\n",
    "#f=snx.File(filename)    "
   ]
  },
  {
   "attachments": {},
   "cell_type": "markdown",
   "metadata": {},
   "source": [
    "read in event data and shape event list  give number of events"
   ]
  },
  {
   "cell_type": "code",
   "execution_count": 9,
   "metadata": {},
   "outputs": [
    {
     "name": "stdout",
     "output_type": "stream",
     "text": [
      "(6, 148472402)\n",
      "CPU times: user 779 ms, sys: 1.77 s, total: 2.54 s\n",
      "Wall time: 4.42 s\n"
     ]
    },
    {
     "data": {
      "text/plain": [
       "array([[1.55937707e-10, 1.55937707e-10, 1.55937707e-10, ...,\n",
       "        8.03061056e-07, 8.03061056e-07, 8.03061056e-07],\n",
       "       [3.33815566e-01, 3.37924856e-01, 5.01392577e-01, ...,\n",
       "        1.42592011e-01, 2.40798026e-01, 1.36519053e-01],\n",
       "       [4.81128059e-01, 5.35905346e-02, 4.56388702e-01, ...,\n",
       "        4.19260791e-01, 1.14144804e-01, 1.97761782e-01],\n",
       "       [0.00000000e+00, 1.00000000e+00, 2.00000000e+00, ...,\n",
       "        1.05072000e+05, 1.05073000e+05, 1.05074000e+05],\n",
       "       [1.53939500e+06, 1.71085000e+05, 1.46045400e+06, ...,\n",
       "        5.34179600e+06, 4.36540100e+06, 4.63266100e+06],\n",
       "       [1.07626849e-01, 1.07615018e-01, 1.07661862e-01, ...,\n",
       "        1.14585627e-01, 1.14562668e-01, 1.14558443e-01]])"
      ]
     },
     "execution_count": 9,
     "metadata": {},
     "output_type": "execute_result"
    }
   ],
   "source": [
    "%%time\n",
    "f = h5py.File(filename)\n",
    "a = f['entry1/data']['bank01_events_dat_list_p_x_y_n_id_t']['events'][...]\n",
    "#a[0]\n",
    "d = np.matrix.transpose(a)\n",
    "print(\"shape of event list (p_x_y_n_id_t)\", d.shape)\n",
    "d\n"
   ]
  },
  {
   "cell_type": "code",
   "execution_count": 10,
   "metadata": {},
   "outputs": [
    {
     "name": "stdout",
     "output_type": "stream",
     "text": [
      "/Users/justinbergmann/work_flow/test_data/xe_20_NMX.h5\n",
      "<HDF5 file \"xe_20_NMX.h5\" (mode r)>\n",
      "sec2\n",
      "r\n"
     ]
    }
   ],
   "source": [
    "print(f.filename)\n",
    "print(f.file)\n",
    "print(f.driver)\n",
    "print(f.mode)\n"
   ]
  },
  {
   "attachments": {},
   "cell_type": "markdown",
   "metadata": {},
   "source": [
    "alocate units to events and create seperate list for each parameter"
   ]
  },
  {
   "cell_type": "code",
   "execution_count": 11,
   "metadata": {},
   "outputs": [],
   "source": [
    "x_list = sc.array(dims=['x'], unit='m', values=d[1])\n",
    "y_list = sc.array(dims=['x'], unit='m', values=d[2])\n",
    "t_list = sc.array(dims=['x'], unit='ms', values=d[5])\n",
    "id_list = sc.array(dims=['x'], unit=None, values=d[4], dtype='int64')\n",
    "#print(x_list.shape, y_list.shape, t_list.shape,id_list.shape)"
   ]
  },
  {
   "attachments": {},
   "cell_type": "markdown",
   "metadata": {},
   "source": [
    "get evetns to seperated lists (x,y,t,id)"
   ]
  },
  {
   "cell_type": "code",
   "execution_count": 12,
   "metadata": {},
   "outputs": [],
   "source": [
    "#x_list.unit = 'm'\n",
    "#y_list.unit = 'm'\n",
    "#t_list.unit = 'ms'\n",
    "weights = sc.ones_like(x_list)\n",
    "weights.unit = 'counts'\n",
    "da = sc.DataArray(data=weights, coords={'x': x_list, 'y': y_list, 't': t_list, 'id': id_list})\n",
    "#print(da)"
   ]
  },
  {
   "attachments": {},
   "cell_type": "markdown",
   "metadata": {},
   "source": [
    "check min and max id value"
   ]
  },
  {
   "cell_type": "code",
   "execution_count": 13,
   "metadata": {},
   "outputs": [
    {
     "name": "stdout",
     "output_type": "stream",
     "text": [
      "5638399\n",
      "1\n"
     ]
    }
   ],
   "source": [
    "print(\"id min\",id_list.values.min())\n",
    "print(\"id max\",id_list.values.max())"
   ]
  },
  {
   "attachments": {},
   "cell_type": "markdown",
   "metadata": {},
   "source": [
    "represent data array"
   ]
  },
  {
   "cell_type": "code",
   "execution_count": 14,
   "metadata": {},
   "outputs": [
    {
     "name": "stdout",
     "output_type": "stream",
     "text": [
      "(148472402,)\n"
     ]
    },
    {
     "data": {
      "text/html": [
       "<div><!-- Original source from -->\n",
       "<!-- https://github.com/jsignell/xarray/blob/1d960933ab252e0f79f7e050e6c9261d55568057/xarray/static/html/icons-svg-inline.html -->\n",
       "<svg style=\"position: absolute; width: 0; height: 0; overflow: hidden\">\n",
       "<defs>\n",
       "<symbol id=\"icon-database\" viewBox=\"0 0 32 32\">\n",
       "<title>Show/Hide data repr</title>\n",
       "<path d=\"M16 0c-8.837 0-16 2.239-16 5v4c0 2.761 7.163 5 16 5s16-2.239 16-5v-4c0-2.761-7.163-5-16-5z\"></path>\n",
       "<path d=\"M16 17c-8.837 0-16-2.239-16-5v6c0 2.761 7.163 5 16 5s16-2.239 16-5v-6c0 2.761-7.163 5-16 5z\"></path>\n",
       "<path d=\"M16 26c-8.837 0-16-2.239-16-5v6c0 2.761 7.163 5 16 5s16-2.239 16-5v-6c0 2.761-7.163 5-16 5z\"></path>\n",
       "</symbol>\n",
       "<symbol id=\"icon-file-text2\" viewBox=\"0 0 32 32\">\n",
       "<title>Show/Hide attributes</title>\n",
       "<path d=\"M28.681 7.159c-0.694-0.947-1.662-2.053-2.724-3.116s-2.169-2.030-3.116-2.724c-1.612-1.182-2.393-1.319-2.841-1.319h-15.5c-1.378 0-2.5 1.121-2.5 2.5v27c0 1.378 1.122 2.5 2.5 2.5h23c1.378 0 2.5-1.122 2.5-2.5v-19.5c0-0.448-0.137-1.23-1.319-2.841zM24.543 5.457c0.959 0.959 1.712 1.825 2.268 2.543h-4.811v-4.811c0.718 0.556 1.584 1.309 2.543 2.268zM28 29.5c0 0.271-0.229 0.5-0.5 0.5h-23c-0.271 0-0.5-0.229-0.5-0.5v-27c0-0.271 0.229-0.5 0.5-0.5 0 0 15.499-0 15.5 0v7c0 0.552 0.448 1 1 1h7v19.5z\"></path>\n",
       "<path d=\"M23 26h-14c-0.552 0-1-0.448-1-1s0.448-1 1-1h14c0.552 0 1 0.448 1 1s-0.448 1-1 1z\"></path>\n",
       "<path d=\"M23 22h-14c-0.552 0-1-0.448-1-1s0.448-1 1-1h14c0.552 0 1 0.448 1 1s-0.448 1-1 1z\"></path>\n",
       "<path d=\"M23 18h-14c-0.552 0-1-0.448-1-1s0.448-1 1-1h14c0.552 0 1 0.448 1 1s-0.448 1-1 1z\"></path>\n",
       "</symbol>\n",
       "</defs>\n",
       "</svg><style id=\"scipp-style-sheet\">.sc-root{--sc-background-color0:var(--jp-layout-color0,#fff);--sc-background-color1:var(--jp-layout-color1,#fcfcfc);--sc-background-color2:var(--jp-layout-color2,#efefef);--sc-inverse-background-color0:var(--jp-inverse-layout-color4,#111);--sc-font-color0:var(--jp-content-font-color0,#000);--sc-font-color1:var(--jp-content-font-color1,#555);--sc-font-color2:var(--jp-content-font-color2,#888);--sc-font-color3:var(--jp-content-font-color3,#ccc);--sc-table-data-color:#f6d028;--sc-table-coords-color:#c6e590;--sc-table-masks-color:#c8c8c8;--sc-table-attrs-color:#ff5555;--sc-table-header-font-color:#111111;}.sc-wrap{font-size:14px;min-width:300px;max-width:800px;}.sc-var-attrs .sc-wrap{padding-left:3em;}.sc-header{padding-top:6px;padding-bottom:6px;margin-bottom:4px;border-bottom:solid 1px #ddd;}.sc-header > div,.sc-header > ul{display:inline;margin-top:0;margin-bottom:0;}.sc-obj-type,.sc-array-name{margin-left:2px;margin-right:10px;}.sc-obj-type{color:var(--sc-font-color1);}.sc-underlying-size{color:var(--sc-font-color2);}.sc-sections,.reveal .sc-sections{padding-left:0 !important;display:grid;grid-template-columns:150px auto auto auto 1fr 20px 20px;}.sc-section-item{display:contents;}.sc-section-item input{display:none;}.sc-section-item input:enabled + label{cursor:pointer;color:var(--sc-font-color1);}.sc-section-item input:enabled + label:hover{color:var(--sc-font-color0);}.sc-section-summary{grid-column:1;font-weight:500;}.sc-section-summary > span{display:inline-block;padding-left:0.5em;}.sc-section-summary-in:disabled + label{color:var(--sc-font-color1);}.sc-section-summary-in + label:before{display:inline-block;content:'►';font-size:11px;width:15px;text-align:center;}.sc-section-summary-in:disabled + label:before{color:var(--sc-font-color3);}.sc-section-summary-in:checked + label:before{content:'▼';}.sc-section-summary-in:checked + label > span{display:none;}.sc-section-summary,.sc-section-inline-details{padding-top:4px;padding-bottom:4px;}.sc-section-inline-details{grid-column:2 / 6;}.sc-section-details{display:none;grid-column:1 / -1;margin-bottom:5px;}.sc-section-summary-in:checked ~ .sc-section-details{display:contents;}.sc-array-wrap{grid-column:1 / -1;display:grid;grid-template-columns:20px auto;}.sc-array-wrap > label{grid-column:1;vertical-align:top;}.sc-preview{color:var(--sc-font-color2);}.sc-array-preview,.sc-array-data{padding:0 5px !important;grid-column:2;}.sc-array-data,.sc-array-in:checked ~ .sc-array-preview{display:none;}.sc-array-in:checked ~ .sc-array-data,.sc-array-preview{display:inline-block;}.sc-dim-list{display:inline-block !important;list-style:none;padding:0 !important;margin:0;}.sc-dim-list li{display:inline-block;padding:0;margin:0!important;}.sc-dim-list:before{content:'(';}.sc-dim-list:after{content:')';}.sc-dim-list li:not(:last-child):after{content:',';padding-right:5px;}.sc-has-index{font-weight:bold;}.sc-var-list,.sc-var-item,.reveal .sc-var-list,.reveal .sc-var-item{display:contents;}.sc-var-item > div,.sc-var-item label,.sc-var-item > .sc-var-name span{background-color:var(--sc-background-color1);margin-bottom:0;}.sc-var-item > .sc-var-name:hover span{padding-right:5px;}.sc-var-list > li:nth-child(odd) > div,.sc-var-list > li:nth-child(odd) > label,.sc-var-list > li:nth-child(odd) > .sc-var-name span{background-color:var(--sc-background-color2);}.sc-var-name{grid-column:1;}.sc-var-dims{grid-column:2;}.sc-var-dtype{grid-column:3;text-align:right;color:var(--sc-font-color2);}.sc-var-unit{grid-column:4;text-align:left;color:var(--sc-font-color1);max-width:50pt;text-overflow:ellipsis;}.sc-value-preview{grid-column:5;}.sc-var-preview-variances{text-align:right;}.sc-sections .sc-section-item .sc-section-summary,.sc-sections .sc-section-item .sc-section-inline-details,.sc-section-item .sc-var-list .sc-var-item > div,.sc-section-item .sc-var-list .sc-var-item > label,.sc-section-details .sc-var-list .sc-var-item > div,.sc-section-details .sc-var-list .sc-var-item > label{margin-top:0;margin-bottom:0;}.sc-var-name,.sc-var-dims,.sc-var-dtype,.sc-var-unit,.sc-preview,.sc-attrs dt{white-space:nowrap;overflow:hidden;text-overflow:ellipsis;padding-right:10px;}.sc-var-name:hover,.sc-var-dims:hover,.sc-var-dtype:hover,.sc-var-unit:hover,.sc-attrs dt:hover{overflow:visible;width:auto;z-index:1;}.sc-var-attrs{display:block;}.sc-var-data,.reveal .sc-var-data{display:none;}.sc-var-attrs,.sc-var-data{background-color:var(--sc-background-color0) !important;padding-bottom:5px !important;}.sc-var-attrs-in:checked ~ .sc-var-attrs{display:none;}.sc-var-data-in:checked ~ .sc-var-data{display:block;}.sc-var-data > table{float:right;}.sc-var-name span,.sc-var-data{padding-left:25px !important;}.sc-var-attrs,.sc-var-data{grid-column:1 / -1;}dl.sc-attrs{padding:0;margin:0;display:grid;grid-template-columns:125px auto;}.sc-attrs dt,dd{padding:0;margin:0;float:left;padding-right:10px;width:auto;}.sc-attrs dt{font-weight:normal;grid-column:1;}.sc-attrs dt:hover span{display:inline-block;padding-right:10px;}.sc-attrs dd{grid-column:2;white-space:pre-wrap;word-break:break-all;}.sc-icon-database,.sc-icon-file-text2{display:inline-block;vertical-align:middle;width:1em;height:1.5em !important;stroke-width:0;stroke:currentColor;fill:currentColor;}label.sc-hide-icon svg{opacity:0;}.sc-standalone-var-name{grid-column:1/3;}.sc-standalone-var-name span{padding-left:25px;padding-right:10px;}.sc-table{border-collapse:collapse;}.sc-title{font-weight:bold;font-size:1.5em;}.sc-subtitle{font-weight:normal;font-style:italic;text-align:left;font-size:1.2em;padding:1px;}.sc-table th,.sc-table td{border:1px solid var(--sc-inverse-background-color0);padding:0 5px 0 5px;}.sc-table th{text-align:center;}.sc-table tr{background-color:var(--sc-background-color1);text-align:right;}.sc-table tr:hover{background-color:var(--sc-background-color2);}.sc-table th.sc-data{background-color:var(--sc-table-data-color);color:var(--sc-table-header-font-color);}.sc-table th.sc-coords{background-color:var(--sc-table-coords-color);color:var(--sc-table-header-font-color);}.sc-table th.sc-masks{background-color:var(--sc-table-masks-color);color:var(--sc-table-header-font-color);}.sc-table th.sc-attrs{background-color:var(--sc-table-attrs-color);color:var(--sc-table-header-font-color);}.sc-table th.sc-subheader{background-color:var(--sc-background-color2);}.sc-table td.sc-padding{background-color:var(--sc-background-color1);border:0 solid var(--sc-background-color1);height:1.2em;}.sc-label{fill:var(--sc-font-color0,#444444);text-anchor:middle;}.sc-name{fill:var(--sc-font-color0,#111111);}.sc-inset-line{stroke:var(--sc-font-color1);stroke-width:0.05;stroke-dasharray:0.2,0.2;}.sc-log-wrap{height:25ex;resize:vertical;overflow-y:scroll;display:flex;flex-direction:column-reverse;border:1px solid;border-color:var(--jp-border-color2);background-color:var(--sc-background-color1);}div.sc-log{line-height:2.5ex;}table.sc-log{table-layout:auto;border-collapse:collapse;}tr.sc-log:nth-child(even){background-color:var(--sc-background-color0);}tr.sc-log > td{vertical-align:top;padding-bottom:0.5ex;}.sc-log-time-stamp{min-width:22ch;font-family:var(--jp-code-font-family);color:var(--sc-font-color2);}.sc-log-level{min-width:10ch;}tr.sc-log-debug td.sc-log-level{color:var(--jp-accent-color1);}tr.sc-log-info td.sc-log-level{color:var(--jp-info-color1);}tr.sc-log-warning td.sc-log-level{color:var(--jp-warn-color1);}tr.sc-log-error td.sc-log-level{font-weight:bold;color:var(--jp-error-color2);}tr.sc-log-critical td.sc-log-level{font-weight:bold;color:var(--sc-background-color0);background-color:var(--jp-error-color1);}.sc-log-message{white-space:pre-wrap;width:100%;}.sc-log-html-payload{white-space:normal;}.sc-log-name{padding-right:0.5em;text-align:right;white-space:pre-wrap;color:var(--sc-font-color3);}</style><div class='sc-wrap sc-root'><div class='sc-header'><div class='sc-obj-type'>scipp.DataArray (5.53 GB)</div></div><ul class='sc-sections'><li class='sc-section-item'><input id='section-afcc285f-7347-47d5-9464-ca90784fd732' class='sc-section-summary-in' type='checkbox' disabled ><label for='section-afcc285f-7347-47d5-9464-ca90784fd732' class='sc-section-summary'  title='Expand/collapse section'>Dimensions:</label><div class='sc-section-inline-details'><ul class='sc-dim-list'><li><span class='sc-has-index'>x</span>: 148472402</li></ul></div><div class='sc-section-details'></div></li><li class='sc-section-item'><input id='section-03d569da-402c-43a7-a7ee-ca68a8b2a620' class='sc-section-summary-in' type='checkbox'  checked><label for='section-03d569da-402c-43a7-a7ee-ca68a8b2a620' class='sc-section-summary' >Coordinates: <span>(4)</span></label><div class='sc-section-inline-details'></div><div class='sc-section-details'><ul class='sc-var-list'><li class='sc-var-item'><div class='sc-var-name'><span>id</span></div><div class='sc-var-dims'>(x)</div><div class='sc-var-dtype'>int64</div><div class='sc-var-unit'></div><div class='sc-value-preview sc-preview'><span><div>1539395, 171085, ..., 4365401, 4632661</div></span></div><input id='attrs-10297332-0153-442b-b938-d6720eec5997' class='sc-var-attrs-in' type='checkbox' disabled><label for='attrs-10297332-0153-442b-b938-d6720eec5997' class='sc-hide-icon' title='Show/Hide attributes'><svg class='icon sc-icon-file-text2'><use xlink:href='#icon-file-text2'></use></svg></label><input id='data-8f35886d-ff50-44d5-a881-5e1181de3c1c' class='sc-var-data-in' type='checkbox'><label for='data-8f35886d-ff50-44d5-a881-5e1181de3c1c' title='Show/Hide data repr'><svg class='icon sc-icon-database'><use xlink:href='#icon-database'></use></svg></label><pre class='sc-var-data'>Values:<br>array([1539395,  171085, 1460454, ..., 5341796, 4365401, 4632661])</pre></span></li><li class='sc-var-item'><div class='sc-var-name'><span>t</span></div><div class='sc-var-dims'>(x)</div><div class='sc-var-dtype'>float64</div><div class='sc-var-unit'>ms</div><div class='sc-value-preview sc-preview'><span><div>0.108, 0.108, ..., 0.115, 0.115</div></span></div><input id='attrs-1f375ab0-f27b-4991-9ddf-15b33b2b33a8' class='sc-var-attrs-in' type='checkbox' disabled><label for='attrs-1f375ab0-f27b-4991-9ddf-15b33b2b33a8' class='sc-hide-icon' title='Show/Hide attributes'><svg class='icon sc-icon-file-text2'><use xlink:href='#icon-file-text2'></use></svg></label><input id='data-df2a5fcc-2651-4722-8a45-6228091f0c37' class='sc-var-data-in' type='checkbox'><label for='data-df2a5fcc-2651-4722-8a45-6228091f0c37' title='Show/Hide data repr'><svg class='icon sc-icon-database'><use xlink:href='#icon-database'></use></svg></label><pre class='sc-var-data'>Values:<br>array([0.10762685, 0.10761502, 0.10766186, ..., 0.11458563, 0.11456267,\n",
       "       0.11455844])</pre></span></li><li class='sc-var-item'><div class='sc-var-name'><span class='sc-has-index'>x</span></div><div class='sc-var-dims'>(x)</div><div class='sc-var-dtype'>float64</div><div class='sc-var-unit'>m</div><div class='sc-value-preview sc-preview'><span><div>0.334, 0.338, ..., 0.241, 0.137</div></span></div><input id='attrs-a49f7f25-353d-47ea-8b38-95217b5681fe' class='sc-var-attrs-in' type='checkbox' disabled><label for='attrs-a49f7f25-353d-47ea-8b38-95217b5681fe' class='sc-hide-icon' title='Show/Hide attributes'><svg class='icon sc-icon-file-text2'><use xlink:href='#icon-file-text2'></use></svg></label><input id='data-98e94efe-952b-4f5f-9fd3-22c7234511ae' class='sc-var-data-in' type='checkbox'><label for='data-98e94efe-952b-4f5f-9fd3-22c7234511ae' title='Show/Hide data repr'><svg class='icon sc-icon-database'><use xlink:href='#icon-database'></use></svg></label><pre class='sc-var-data'>Values:<br>array([0.33381557, 0.33792486, 0.50139258, ..., 0.14259201, 0.24079803,\n",
       "       0.13651905])</pre></span></li><li class='sc-var-item'><div class='sc-var-name'><span>y</span></div><div class='sc-var-dims'>(x)</div><div class='sc-var-dtype'>float64</div><div class='sc-var-unit'>m</div><div class='sc-value-preview sc-preview'><span><div>0.481, 0.054, ..., 0.114, 0.198</div></span></div><input id='attrs-497a60d9-0654-47f7-a8d5-9fd689281460' class='sc-var-attrs-in' type='checkbox' disabled><label for='attrs-497a60d9-0654-47f7-a8d5-9fd689281460' class='sc-hide-icon' title='Show/Hide attributes'><svg class='icon sc-icon-file-text2'><use xlink:href='#icon-file-text2'></use></svg></label><input id='data-a972db50-614d-491e-b37e-b12f47467873' class='sc-var-data-in' type='checkbox'><label for='data-a972db50-614d-491e-b37e-b12f47467873' title='Show/Hide data repr'><svg class='icon sc-icon-database'><use xlink:href='#icon-database'></use></svg></label><pre class='sc-var-data'>Values:<br>array([0.48112806, 0.05359053, 0.4563887 , ..., 0.41926079, 0.1141448 ,\n",
       "       0.19776178])</pre></span></li></ul></div></li><li class='sc-section-item'><input id='section-d6a54654-c337-450b-8fe8-0ea16f97ec6e' class='sc-section-summary-in' type='checkbox'  checked><label for='section-d6a54654-c337-450b-8fe8-0ea16f97ec6e' class='sc-section-summary' >Data: <span>(1)</span></label><div class='sc-section-inline-details'></div><div class='sc-section-details'><ul class='sc-var-list'><li class='sc-var-item'><div class='sc-var-name'><span></span></div><div class='sc-var-dims'>(x)</div><div class='sc-var-dtype'>float64</div><div class='sc-var-unit'>counts</div><div class='sc-value-preview sc-preview'><span><div>1.0, 1.0, ..., 1.0, 1.0</div></span></div><input id='attrs-12b2b6be-eed4-4abd-9237-1656c493c19a' class='sc-var-attrs-in' type='checkbox' disabled><label for='attrs-12b2b6be-eed4-4abd-9237-1656c493c19a' class='sc-hide-icon' title='Show/Hide attributes'><svg class='icon sc-icon-file-text2'><use xlink:href='#icon-file-text2'></use></svg></label><input id='data-f00eea90-8128-4745-8b2c-006e759c9207' class='sc-var-data-in' type='checkbox'><label for='data-f00eea90-8128-4745-8b2c-006e759c9207' title='Show/Hide data repr'><svg class='icon sc-icon-database'><use xlink:href='#icon-database'></use></svg></label><pre class='sc-var-data'>Values:<br>array([1., 1., 1., ..., 1., 1., 1.])</pre></li></ul></div></li></ul></div></div>"
      ],
      "text/plain": [
       "<scipp.DataArray>\n",
       "Dimensions: Sizes[x:148472402, ]\n",
       "Coordinates:\n",
       "  id                          int64        <no unit>  (x)  [1539395, 171085, ..., 4365401, 4632661]\n",
       "  t                         float64             [ms]  (x)  [0.107627, 0.107615, ..., 0.114563, 0.114558]\n",
       "  x                         float64              [m]  (x)  [0.333816, 0.337925, ..., 0.240798, 0.136519]\n",
       "  y                         float64              [m]  (x)  [0.481128, 0.0535905, ..., 0.114145, 0.197762]\n",
       "Data:\n",
       "                            float64         [counts]  (x)  [1, 1, ..., 1, 1]\n"
      ]
     },
     "execution_count": 14,
     "metadata": {},
     "output_type": "execute_result"
    }
   ],
   "source": [
    "da"
   ]
  },
  {
   "attachments": {},
   "cell_type": "markdown",
   "metadata": {},
   "source": [
    "define id ranges for detecor panales"
   ]
  },
  {
   "cell_type": "code",
   "execution_count": 15,
   "metadata": {},
   "outputs": [
    {
     "data": {
      "text/html": [
       "<div><!-- Original source from -->\n",
       "<!-- https://github.com/jsignell/xarray/blob/1d960933ab252e0f79f7e050e6c9261d55568057/xarray/static/html/icons-svg-inline.html -->\n",
       "<svg style=\"position: absolute; width: 0; height: 0; overflow: hidden\">\n",
       "<defs>\n",
       "<symbol id=\"icon-database\" viewBox=\"0 0 32 32\">\n",
       "<title>Show/Hide data repr</title>\n",
       "<path d=\"M16 0c-8.837 0-16 2.239-16 5v4c0 2.761 7.163 5 16 5s16-2.239 16-5v-4c0-2.761-7.163-5-16-5z\"></path>\n",
       "<path d=\"M16 17c-8.837 0-16-2.239-16-5v6c0 2.761 7.163 5 16 5s16-2.239 16-5v-6c0 2.761-7.163 5-16 5z\"></path>\n",
       "<path d=\"M16 26c-8.837 0-16-2.239-16-5v6c0 2.761 7.163 5 16 5s16-2.239 16-5v-6c0 2.761-7.163 5-16 5z\"></path>\n",
       "</symbol>\n",
       "<symbol id=\"icon-file-text2\" viewBox=\"0 0 32 32\">\n",
       "<title>Show/Hide attributes</title>\n",
       "<path d=\"M28.681 7.159c-0.694-0.947-1.662-2.053-2.724-3.116s-2.169-2.030-3.116-2.724c-1.612-1.182-2.393-1.319-2.841-1.319h-15.5c-1.378 0-2.5 1.121-2.5 2.5v27c0 1.378 1.122 2.5 2.5 2.5h23c1.378 0 2.5-1.122 2.5-2.5v-19.5c0-0.448-0.137-1.23-1.319-2.841zM24.543 5.457c0.959 0.959 1.712 1.825 2.268 2.543h-4.811v-4.811c0.718 0.556 1.584 1.309 2.543 2.268zM28 29.5c0 0.271-0.229 0.5-0.5 0.5h-23c-0.271 0-0.5-0.229-0.5-0.5v-27c0-0.271 0.229-0.5 0.5-0.5 0 0 15.499-0 15.5 0v7c0 0.552 0.448 1 1 1h7v19.5z\"></path>\n",
       "<path d=\"M23 26h-14c-0.552 0-1-0.448-1-1s0.448-1 1-1h14c0.552 0 1 0.448 1 1s-0.448 1-1 1z\"></path>\n",
       "<path d=\"M23 22h-14c-0.552 0-1-0.448-1-1s0.448-1 1-1h14c0.552 0 1 0.448 1 1s-0.448 1-1 1z\"></path>\n",
       "<path d=\"M23 18h-14c-0.552 0-1-0.448-1-1s0.448-1 1-1h14c0.552 0 1 0.448 1 1s-0.448 1-1 1z\"></path>\n",
       "</symbol>\n",
       "</defs>\n",
       "</svg><style id=\"scipp-style-sheet\">.sc-root{--sc-background-color0:var(--jp-layout-color0,#fff);--sc-background-color1:var(--jp-layout-color1,#fcfcfc);--sc-background-color2:var(--jp-layout-color2,#efefef);--sc-inverse-background-color0:var(--jp-inverse-layout-color4,#111);--sc-font-color0:var(--jp-content-font-color0,#000);--sc-font-color1:var(--jp-content-font-color1,#555);--sc-font-color2:var(--jp-content-font-color2,#888);--sc-font-color3:var(--jp-content-font-color3,#ccc);--sc-table-data-color:#f6d028;--sc-table-coords-color:#c6e590;--sc-table-masks-color:#c8c8c8;--sc-table-attrs-color:#ff5555;--sc-table-header-font-color:#111111;}.sc-wrap{font-size:14px;min-width:300px;max-width:800px;}.sc-var-attrs .sc-wrap{padding-left:3em;}.sc-header{padding-top:6px;padding-bottom:6px;margin-bottom:4px;border-bottom:solid 1px #ddd;}.sc-header > div,.sc-header > ul{display:inline;margin-top:0;margin-bottom:0;}.sc-obj-type,.sc-array-name{margin-left:2px;margin-right:10px;}.sc-obj-type{color:var(--sc-font-color1);}.sc-underlying-size{color:var(--sc-font-color2);}.sc-sections,.reveal .sc-sections{padding-left:0 !important;display:grid;grid-template-columns:150px auto auto auto 1fr 20px 20px;}.sc-section-item{display:contents;}.sc-section-item input{display:none;}.sc-section-item input:enabled + label{cursor:pointer;color:var(--sc-font-color1);}.sc-section-item input:enabled + label:hover{color:var(--sc-font-color0);}.sc-section-summary{grid-column:1;font-weight:500;}.sc-section-summary > span{display:inline-block;padding-left:0.5em;}.sc-section-summary-in:disabled + label{color:var(--sc-font-color1);}.sc-section-summary-in + label:before{display:inline-block;content:'►';font-size:11px;width:15px;text-align:center;}.sc-section-summary-in:disabled + label:before{color:var(--sc-font-color3);}.sc-section-summary-in:checked + label:before{content:'▼';}.sc-section-summary-in:checked + label > span{display:none;}.sc-section-summary,.sc-section-inline-details{padding-top:4px;padding-bottom:4px;}.sc-section-inline-details{grid-column:2 / 6;}.sc-section-details{display:none;grid-column:1 / -1;margin-bottom:5px;}.sc-section-summary-in:checked ~ .sc-section-details{display:contents;}.sc-array-wrap{grid-column:1 / -1;display:grid;grid-template-columns:20px auto;}.sc-array-wrap > label{grid-column:1;vertical-align:top;}.sc-preview{color:var(--sc-font-color2);}.sc-array-preview,.sc-array-data{padding:0 5px !important;grid-column:2;}.sc-array-data,.sc-array-in:checked ~ .sc-array-preview{display:none;}.sc-array-in:checked ~ .sc-array-data,.sc-array-preview{display:inline-block;}.sc-dim-list{display:inline-block !important;list-style:none;padding:0 !important;margin:0;}.sc-dim-list li{display:inline-block;padding:0;margin:0!important;}.sc-dim-list:before{content:'(';}.sc-dim-list:after{content:')';}.sc-dim-list li:not(:last-child):after{content:',';padding-right:5px;}.sc-has-index{font-weight:bold;}.sc-var-list,.sc-var-item,.reveal .sc-var-list,.reveal .sc-var-item{display:contents;}.sc-var-item > div,.sc-var-item label,.sc-var-item > .sc-var-name span{background-color:var(--sc-background-color1);margin-bottom:0;}.sc-var-item > .sc-var-name:hover span{padding-right:5px;}.sc-var-list > li:nth-child(odd) > div,.sc-var-list > li:nth-child(odd) > label,.sc-var-list > li:nth-child(odd) > .sc-var-name span{background-color:var(--sc-background-color2);}.sc-var-name{grid-column:1;}.sc-var-dims{grid-column:2;}.sc-var-dtype{grid-column:3;text-align:right;color:var(--sc-font-color2);}.sc-var-unit{grid-column:4;text-align:left;color:var(--sc-font-color1);max-width:50pt;text-overflow:ellipsis;}.sc-value-preview{grid-column:5;}.sc-var-preview-variances{text-align:right;}.sc-sections .sc-section-item .sc-section-summary,.sc-sections .sc-section-item .sc-section-inline-details,.sc-section-item .sc-var-list .sc-var-item > div,.sc-section-item .sc-var-list .sc-var-item > label,.sc-section-details .sc-var-list .sc-var-item > div,.sc-section-details .sc-var-list .sc-var-item > label{margin-top:0;margin-bottom:0;}.sc-var-name,.sc-var-dims,.sc-var-dtype,.sc-var-unit,.sc-preview,.sc-attrs dt{white-space:nowrap;overflow:hidden;text-overflow:ellipsis;padding-right:10px;}.sc-var-name:hover,.sc-var-dims:hover,.sc-var-dtype:hover,.sc-var-unit:hover,.sc-attrs dt:hover{overflow:visible;width:auto;z-index:1;}.sc-var-attrs{display:block;}.sc-var-data,.reveal .sc-var-data{display:none;}.sc-var-attrs,.sc-var-data{background-color:var(--sc-background-color0) !important;padding-bottom:5px !important;}.sc-var-attrs-in:checked ~ .sc-var-attrs{display:none;}.sc-var-data-in:checked ~ .sc-var-data{display:block;}.sc-var-data > table{float:right;}.sc-var-name span,.sc-var-data{padding-left:25px !important;}.sc-var-attrs,.sc-var-data{grid-column:1 / -1;}dl.sc-attrs{padding:0;margin:0;display:grid;grid-template-columns:125px auto;}.sc-attrs dt,dd{padding:0;margin:0;float:left;padding-right:10px;width:auto;}.sc-attrs dt{font-weight:normal;grid-column:1;}.sc-attrs dt:hover span{display:inline-block;padding-right:10px;}.sc-attrs dd{grid-column:2;white-space:pre-wrap;word-break:break-all;}.sc-icon-database,.sc-icon-file-text2{display:inline-block;vertical-align:middle;width:1em;height:1.5em !important;stroke-width:0;stroke:currentColor;fill:currentColor;}label.sc-hide-icon svg{opacity:0;}.sc-standalone-var-name{grid-column:1/3;}.sc-standalone-var-name span{padding-left:25px;padding-right:10px;}.sc-table{border-collapse:collapse;}.sc-title{font-weight:bold;font-size:1.5em;}.sc-subtitle{font-weight:normal;font-style:italic;text-align:left;font-size:1.2em;padding:1px;}.sc-table th,.sc-table td{border:1px solid var(--sc-inverse-background-color0);padding:0 5px 0 5px;}.sc-table th{text-align:center;}.sc-table tr{background-color:var(--sc-background-color1);text-align:right;}.sc-table tr:hover{background-color:var(--sc-background-color2);}.sc-table th.sc-data{background-color:var(--sc-table-data-color);color:var(--sc-table-header-font-color);}.sc-table th.sc-coords{background-color:var(--sc-table-coords-color);color:var(--sc-table-header-font-color);}.sc-table th.sc-masks{background-color:var(--sc-table-masks-color);color:var(--sc-table-header-font-color);}.sc-table th.sc-attrs{background-color:var(--sc-table-attrs-color);color:var(--sc-table-header-font-color);}.sc-table th.sc-subheader{background-color:var(--sc-background-color2);}.sc-table td.sc-padding{background-color:var(--sc-background-color1);border:0 solid var(--sc-background-color1);height:1.2em;}.sc-label{fill:var(--sc-font-color0,#444444);text-anchor:middle;}.sc-name{fill:var(--sc-font-color0,#111111);}.sc-inset-line{stroke:var(--sc-font-color1);stroke-width:0.05;stroke-dasharray:0.2,0.2;}.sc-log-wrap{height:25ex;resize:vertical;overflow-y:scroll;display:flex;flex-direction:column-reverse;border:1px solid;border-color:var(--jp-border-color2);background-color:var(--sc-background-color1);}div.sc-log{line-height:2.5ex;}table.sc-log{table-layout:auto;border-collapse:collapse;}tr.sc-log:nth-child(even){background-color:var(--sc-background-color0);}tr.sc-log > td{vertical-align:top;padding-bottom:0.5ex;}.sc-log-time-stamp{min-width:22ch;font-family:var(--jp-code-font-family);color:var(--sc-font-color2);}.sc-log-level{min-width:10ch;}tr.sc-log-debug td.sc-log-level{color:var(--jp-accent-color1);}tr.sc-log-info td.sc-log-level{color:var(--jp-info-color1);}tr.sc-log-warning td.sc-log-level{color:var(--jp-warn-color1);}tr.sc-log-error td.sc-log-level{font-weight:bold;color:var(--jp-error-color2);}tr.sc-log-critical td.sc-log-level{font-weight:bold;color:var(--sc-background-color0);background-color:var(--jp-error-color1);}.sc-log-message{white-space:pre-wrap;width:100%;}.sc-log-html-payload{white-space:normal;}.sc-log-name{padding-right:0.5em;text-align:right;white-space:pre-wrap;color:var(--sc-font-color3);}</style><div class='sc-wrap sc-root'><div class='sc-header'><div class='sc-obj-type'>scipp.Variable (37.50 MB)</div></div><ul class='sc-sections'><li class='sc-section-item'><ul class='sc-var-list'><li class='sc-var-item'><div class='sc-standalone-var-name'><span>(id: 4915200)</span></div><div class='sc-var-dtype'>int64</div><div class='sc-var-unit'></div><div class='sc-value-preview sc-preview'><span><div>1, 2, ..., 5638399, 5638400</div></span></div><input id='attrs-d842eb18-da43-460f-b9c3-aa6743f4de6a' class='sc-var-attrs-in' type='checkbox' disabled><label for='attrs-d842eb18-da43-460f-b9c3-aa6743f4de6a' class='sc-hide-icon' title='Show/Hide attributes'><svg class='icon sc-icon-file-text2'><use xlink:href='#icon-file-text2'></use></svg></label><input id='data-8af18a1a-74b2-4dba-a0f5-e4f64ee1377c' class='sc-var-data-in' type='checkbox'><label for='data-8af18a1a-74b2-4dba-a0f5-e4f64ee1377c' title='Show/Hide data repr'><svg class='icon sc-icon-database'><use xlink:href='#icon-database'></use></svg></label><pre class='sc-var-data'>Values:<br>array([      1,       2,       3, ..., 5638398, 5638399, 5638400])</pre></li></ul></li></ul></div></div>"
      ],
      "text/plain": [
       "<scipp.Variable> (id: 4915200)      int64        <no unit>  [1, 2, ..., 5638399, 5638400]"
      ]
     },
     "execution_count": 15,
     "metadata": {},
     "output_type": "execute_result"
    }
   ],
   "source": [
    "ids1 = sc.arange('id', 1, 1638401, unit=None)\n",
    "ids2 = sc.arange('id', 2000001, 3638401, unit=None)\n",
    "ids3 = sc.arange('id', 4000001, 5638401, unit=None)\n",
    "ids = sc.concat([ids1, ids2, ids3], 'id')\n",
    "ids\n",
    "#da.group(ids).fold('id', sizes={'panel':3, 'id':-1})"
   ]
  },
  {
   "attachments": {},
   "cell_type": "markdown",
   "metadata": {},
   "source": [
    "\n",
    "up data by ID"
   ]
  },
  {
   "cell_type": "code",
   "execution_count": 16,
   "metadata": {},
   "outputs": [],
   "source": [
    "grouped = da.group('id')"
   ]
  },
  {
   "attachments": {},
   "cell_type": "markdown",
   "metadata": {},
   "source": [
    "visualise distrubution of counts related to pixel id"
   ]
  },
  {
   "cell_type": "code",
   "execution_count": 17,
   "metadata": {},
   "outputs": [
    {
     "data": {
      "application/vnd.jupyter.widget-view+json": {
       "model_id": "0bdee851b090464ca22c48b74e457651",
       "version_major": 2,
       "version_minor": 0
      },
      "text/plain": [
       "InteractiveFig1d(children=(HBar(), HBox(children=(VBar(children=(Toolbar(children=(ButtonTool(icon='home', lay…"
      ]
     },
     "metadata": {},
     "output_type": "display_data"
    }
   ],
   "source": [
    "grouped.bins.size().plot(ignore_size=True)"
   ]
  },
  {
   "cell_type": "code",
   "execution_count": 18,
   "metadata": {},
   "outputs": [
    {
     "data": {
      "application/vnd.jupyter.widget-view+json": {
       "model_id": "5dfe98ef934448b790c59d5a371c8348",
       "version_major": 2,
       "version_minor": 0
      },
      "text/plain": [
       "InteractiveFig1d(children=(HBar(), HBox(children=(VBar(children=(Toolbar(children=(ButtonTool(icon='home', lay…"
      ]
     },
     "metadata": {},
     "output_type": "display_data"
    }
   ],
   "source": [
    "da.coords['id'].hist(ids=100000).plot()"
   ]
  },
  {
   "cell_type": "code",
   "execution_count": 24,
   "metadata": {},
   "outputs": [],
   "source": [
    "da.coords['panel'] = id_list // sc.index(2000000)\n",
    "da2 = da.group('panel').bin(x=pix, y=pix)\n",
    "\n"
   ]
  },
  {
   "cell_type": "code",
   "execution_count": 21,
   "metadata": {},
   "outputs": [
    {
     "data": {
      "application/vnd.jupyter.widget-view+json": {
       "model_id": "652d99db54fb4345837600fc25c3e408",
       "version_major": 2,
       "version_minor": 0
      },
      "text/plain": [
       "InteractiveFig2d(children=(HBar(), HBox(children=(VBar(children=(Toolbar(children=(ButtonTool(icon='home', lay…"
      ]
     },
     "metadata": {},
     "output_type": "display_data"
    }
   ],
   "source": [
    "da2['panel',1 ].hist().plot()"
   ]
  },
  {
   "attachments": {},
   "cell_type": "markdown",
   "metadata": {},
   "source": [
    "\n",
    "up data reagarding ids"
   ]
  },
  {
   "cell_type": "code",
   "execution_count": 23,
   "metadata": {},
   "outputs": [],
   "source": [
    "da3 = da.group(ids).fold('id', sizes={'panel':3, 'id':-1})\n",
    "#print(ids1.shape)\n",
    "#print(\"data\",da.shape)\n",
    "#print(da['id':1:].values.max())\n",
    "#print(da.values.min())\n",
    "#da"
   ]
  },
  {
   "attachments": {},
   "cell_type": "markdown",
   "metadata": {},
   "source": [
    "entation of data structure"
   ]
  },
  {
   "cell_type": "code",
   "execution_count": 25,
   "metadata": {},
   "outputs": [
    {
     "data": {
      "text/html": [
       "<svg width=40em viewBox=\"0 0 24 11.0\" class=\"sc-root\"><defs><style id=\"scipp-style-sheet\">.sc-root{--sc-background-color0:var(--jp-layout-color0,#fff);--sc-background-color1:var(--jp-layout-color1,#fcfcfc);--sc-background-color2:var(--jp-layout-color2,#efefef);--sc-inverse-background-color0:var(--jp-inverse-layout-color4,#111);--sc-font-color0:var(--jp-content-font-color0,#000);--sc-font-color1:var(--jp-content-font-color1,#555);--sc-font-color2:var(--jp-content-font-color2,#888);--sc-font-color3:var(--jp-content-font-color3,#ccc);--sc-table-data-color:#f6d028;--sc-table-coords-color:#c6e590;--sc-table-masks-color:#c8c8c8;--sc-table-attrs-color:#ff5555;--sc-table-header-font-color:#111111;}.sc-wrap{font-size:14px;min-width:300px;max-width:800px;}.sc-var-attrs .sc-wrap{padding-left:3em;}.sc-header{padding-top:6px;padding-bottom:6px;margin-bottom:4px;border-bottom:solid 1px #ddd;}.sc-header > div,.sc-header > ul{display:inline;margin-top:0;margin-bottom:0;}.sc-obj-type,.sc-array-name{margin-left:2px;margin-right:10px;}.sc-obj-type{color:var(--sc-font-color1);}.sc-underlying-size{color:var(--sc-font-color2);}.sc-sections,.reveal .sc-sections{padding-left:0 !important;display:grid;grid-template-columns:150px auto auto auto 1fr 20px 20px;}.sc-section-item{display:contents;}.sc-section-item input{display:none;}.sc-section-item input:enabled + label{cursor:pointer;color:var(--sc-font-color1);}.sc-section-item input:enabled + label:hover{color:var(--sc-font-color0);}.sc-section-summary{grid-column:1;font-weight:500;}.sc-section-summary > span{display:inline-block;padding-left:0.5em;}.sc-section-summary-in:disabled + label{color:var(--sc-font-color1);}.sc-section-summary-in + label:before{display:inline-block;content:'►';font-size:11px;width:15px;text-align:center;}.sc-section-summary-in:disabled + label:before{color:var(--sc-font-color3);}.sc-section-summary-in:checked + label:before{content:'▼';}.sc-section-summary-in:checked + label > span{display:none;}.sc-section-summary,.sc-section-inline-details{padding-top:4px;padding-bottom:4px;}.sc-section-inline-details{grid-column:2 / 6;}.sc-section-details{display:none;grid-column:1 / -1;margin-bottom:5px;}.sc-section-summary-in:checked ~ .sc-section-details{display:contents;}.sc-array-wrap{grid-column:1 / -1;display:grid;grid-template-columns:20px auto;}.sc-array-wrap > label{grid-column:1;vertical-align:top;}.sc-preview{color:var(--sc-font-color2);}.sc-array-preview,.sc-array-data{padding:0 5px !important;grid-column:2;}.sc-array-data,.sc-array-in:checked ~ .sc-array-preview{display:none;}.sc-array-in:checked ~ .sc-array-data,.sc-array-preview{display:inline-block;}.sc-dim-list{display:inline-block !important;list-style:none;padding:0 !important;margin:0;}.sc-dim-list li{display:inline-block;padding:0;margin:0!important;}.sc-dim-list:before{content:'(';}.sc-dim-list:after{content:')';}.sc-dim-list li:not(:last-child):after{content:',';padding-right:5px;}.sc-has-index{font-weight:bold;}.sc-var-list,.sc-var-item,.reveal .sc-var-list,.reveal .sc-var-item{display:contents;}.sc-var-item > div,.sc-var-item label,.sc-var-item > .sc-var-name span{background-color:var(--sc-background-color1);margin-bottom:0;}.sc-var-item > .sc-var-name:hover span{padding-right:5px;}.sc-var-list > li:nth-child(odd) > div,.sc-var-list > li:nth-child(odd) > label,.sc-var-list > li:nth-child(odd) > .sc-var-name span{background-color:var(--sc-background-color2);}.sc-var-name{grid-column:1;}.sc-var-dims{grid-column:2;}.sc-var-dtype{grid-column:3;text-align:right;color:var(--sc-font-color2);}.sc-var-unit{grid-column:4;text-align:left;color:var(--sc-font-color1);max-width:50pt;text-overflow:ellipsis;}.sc-value-preview{grid-column:5;}.sc-var-preview-variances{text-align:right;}.sc-sections .sc-section-item .sc-section-summary,.sc-sections .sc-section-item .sc-section-inline-details,.sc-section-item .sc-var-list .sc-var-item > div,.sc-section-item .sc-var-list .sc-var-item > label,.sc-section-details .sc-var-list .sc-var-item > div,.sc-section-details .sc-var-list .sc-var-item > label{margin-top:0;margin-bottom:0;}.sc-var-name,.sc-var-dims,.sc-var-dtype,.sc-var-unit,.sc-preview,.sc-attrs dt{white-space:nowrap;overflow:hidden;text-overflow:ellipsis;padding-right:10px;}.sc-var-name:hover,.sc-var-dims:hover,.sc-var-dtype:hover,.sc-var-unit:hover,.sc-attrs dt:hover{overflow:visible;width:auto;z-index:1;}.sc-var-attrs{display:block;}.sc-var-data,.reveal .sc-var-data{display:none;}.sc-var-attrs,.sc-var-data{background-color:var(--sc-background-color0) !important;padding-bottom:5px !important;}.sc-var-attrs-in:checked ~ .sc-var-attrs{display:none;}.sc-var-data-in:checked ~ .sc-var-data{display:block;}.sc-var-data > table{float:right;}.sc-var-name span,.sc-var-data{padding-left:25px !important;}.sc-var-attrs,.sc-var-data{grid-column:1 / -1;}dl.sc-attrs{padding:0;margin:0;display:grid;grid-template-columns:125px auto;}.sc-attrs dt,dd{padding:0;margin:0;float:left;padding-right:10px;width:auto;}.sc-attrs dt{font-weight:normal;grid-column:1;}.sc-attrs dt:hover span{display:inline-block;padding-right:10px;}.sc-attrs dd{grid-column:2;white-space:pre-wrap;word-break:break-all;}.sc-icon-database,.sc-icon-file-text2{display:inline-block;vertical-align:middle;width:1em;height:1.5em !important;stroke-width:0;stroke:currentColor;fill:currentColor;}label.sc-hide-icon svg{opacity:0;}.sc-standalone-var-name{grid-column:1/3;}.sc-standalone-var-name span{padding-left:25px;padding-right:10px;}.sc-table{border-collapse:collapse;}.sc-title{font-weight:bold;font-size:1.5em;}.sc-subtitle{font-weight:normal;font-style:italic;text-align:left;font-size:1.2em;padding:1px;}.sc-table th,.sc-table td{border:1px solid var(--sc-inverse-background-color0);padding:0 5px 0 5px;}.sc-table th{text-align:center;}.sc-table tr{background-color:var(--sc-background-color1);text-align:right;}.sc-table tr:hover{background-color:var(--sc-background-color2);}.sc-table th.sc-data{background-color:var(--sc-table-data-color);color:var(--sc-table-header-font-color);}.sc-table th.sc-coords{background-color:var(--sc-table-coords-color);color:var(--sc-table-header-font-color);}.sc-table th.sc-masks{background-color:var(--sc-table-masks-color);color:var(--sc-table-header-font-color);}.sc-table th.sc-attrs{background-color:var(--sc-table-attrs-color);color:var(--sc-table-header-font-color);}.sc-table th.sc-subheader{background-color:var(--sc-background-color2);}.sc-table td.sc-padding{background-color:var(--sc-background-color1);border:0 solid var(--sc-background-color1);height:1.2em;}.sc-label{fill:var(--sc-font-color0,#444444);text-anchor:middle;}.sc-name{fill:var(--sc-font-color0,#111111);}.sc-inset-line{stroke:var(--sc-font-color1);stroke-width:0.05;stroke-dasharray:0.2,0.2;}.sc-log-wrap{height:25ex;resize:vertical;overflow-y:scroll;display:flex;flex-direction:column-reverse;border:1px solid;border-color:var(--jp-border-color2);background-color:var(--sc-background-color1);}div.sc-log{line-height:2.5ex;}table.sc-log{table-layout:auto;border-collapse:collapse;}tr.sc-log:nth-child(even){background-color:var(--sc-background-color0);}tr.sc-log > td{vertical-align:top;padding-bottom:0.5ex;}.sc-log-time-stamp{min-width:22ch;font-family:var(--jp-code-font-family);color:var(--sc-font-color2);}.sc-log-level{min-width:10ch;}tr.sc-log-debug td.sc-log-level{color:var(--jp-accent-color1);}tr.sc-log-info td.sc-log-level{color:var(--jp-info-color1);}tr.sc-log-warning td.sc-log-level{color:var(--jp-warn-color1);}tr.sc-log-error td.sc-log-level{font-weight:bold;color:var(--jp-error-color2);}tr.sc-log-critical td.sc-log-level{font-weight:bold;color:var(--sc-background-color0);background-color:var(--jp-error-color1);}.sc-log-message{white-space:pre-wrap;width:100%;}.sc-log-html-payload{white-space:normal;}.sc-log-name{padding-right:0.5em;text-align:right;white-space:pre-wrap;color:var(--sc-font-color3);}</style></defs><g transform=\"translate(0,0)\"><g><text x=\"0\" y=\"0.6\"                     class=\"sc-name\" style=\"font-size:0.6px\">                     </text><title>(dims=(&#x27;panel&#x27;, &#x27;id&#x27;), shape=(3, 1638400), unit=None, variances=False)</title><g><title>values</title><rect style=\"fill:#ffee46;fill-opacity:1;stroke:#000;stroke-width:0.05\" id=\"rect\" width=\"1\" height=\"1\" x=\"0.5\" y=\"3.3\"/> <path style=\"fill:#f6d028;stroke:#000;stroke-width:0.05;stroke-linejoin:round\" d=\"m 0.5 3.3 l 0.3 -0.3 h 1 l -0.3 0.3 z\" id=\"path1\" /> <path style=\"fill:#cea800;stroke:#000;stroke-width:0.05;stroke-linejoin:round\" d=\"m 0.5 3.3 m 1 0 l 0.3 -0.3 v 1 l -0.3 0.3 z\" id=\"path2\" /><circle cx=\"0.8161202961839813\" cy=\"3.6464728238625987\" r=\"0.07\"/><circle cx=\"1.2756783028331802\" cy=\"3.4154340188037886\" r=\"0.07\"/><circle cx=\"1.2900981410788877\" cy=\"3.547379779126791\" r=\"0.07\"/><circle cx=\"1.0223793605156186\" cy=\"3.8266616072667983\" r=\"0.07\"/><circle cx=\"1.1338119671890028\" cy=\"4.021380873246637\" r=\"0.07\"/><circle cx=\"0.6084466348447458\" cy=\"3.4233544623959706\" r=\"0.07\"/><circle cx=\"0.711895582612054\" cy=\"3.6033724642397273\" r=\"0.07\"/><rect style=\"fill:#ffee46;fill-opacity:1;stroke:#000;stroke-width:0.05\" id=\"rect\" width=\"1\" height=\"1\" x=\"1.5\" y=\"3.3\"/> <path style=\"fill:#f6d028;stroke:#000;stroke-width:0.05;stroke-linejoin:round\" d=\"m 1.5 3.3 l 0.3 -0.3 h 1 l -0.3 0.3 z\" id=\"path1\" /> <path style=\"fill:#cea800;stroke:#000;stroke-width:0.05;stroke-linejoin:round\" d=\"m 1.5 3.3 m 1 0 l 0.3 -0.3 v 1 l -0.3 0.3 z\" id=\"path2\" /><circle cx=\"2.253645402082488\" cy=\"4.146265544638716\" r=\"0.07\"/><circle cx=\"2.3430289090259384\" cy=\"3.626036883919148\" r=\"0.07\"/><circle cx=\"2.3658447088024173\" cy=\"4.161128674948355\" r=\"0.07\"/><circle cx=\"2.3073550238746274\" cy=\"3.7356644994160777\" r=\"0.07\"/><circle cx=\"1.633553309648682\" cy=\"3.56699084907145\" r=\"0.07\"/><circle cx=\"1.9132771704539286\" cy=\"3.9982567618591416\" r=\"0.07\"/><circle cx=\"2.006312716761585\" cy=\"3.6818272605995452\" r=\"0.07\"/><rect style=\"fill:#ffee46;fill-opacity:1;stroke:#000;stroke-width:0.05\" id=\"rect\" width=\"1\" height=\"1\" x=\"2.5\" y=\"3.3\"/> <path style=\"fill:#f6d028;stroke:#000;stroke-width:0.05;stroke-linejoin:round\" d=\"m 2.5 3.3 l 0.3 -0.3 h 1 l -0.3 0.3 z\" id=\"path1\" /> <path style=\"fill:#cea800;stroke:#000;stroke-width:0.05;stroke-linejoin:round\" d=\"m 2.5 3.3 m 1 0 l 0.3 -0.3 v 1 l -0.3 0.3 z\" id=\"path2\" /><circle cx=\"2.9124823958442727\" cy=\"3.4439641591715175\" r=\"0.07\"/><circle cx=\"3.0746636627548565\" cy=\"3.7065719811047764\" r=\"0.07\"/><circle cx=\"3.2365145296444595\" cy=\"3.652253229686013\" r=\"0.07\"/><circle cx=\"2.844350892809034\" cy=\"4.104721803969544\" r=\"0.07\"/><circle cx=\"2.6013929442623125\" cy=\"4.0868757202756\" r=\"0.07\"/><circle cx=\"2.9362142986796185\" cy=\"3.9127816659005057\" r=\"0.07\"/><circle cx=\"2.716209454894923\" cy=\"3.6783587686142405\" r=\"0.07\"/><rect style=\"fill:#ffee46;fill-opacity:1;stroke:#000;stroke-width:0.05\" id=\"rect\" width=\"1\" height=\"1\" x=\"3.5\" y=\"3.3\"/> <path style=\"fill:#f6d028;stroke:#000;stroke-width:0.05;stroke-linejoin:round\" d=\"m 3.5 3.3 l 0.3 -0.3 h 1 l -0.3 0.3 z\" id=\"path1\" /> <path style=\"fill:#cea800;stroke:#000;stroke-width:0.05;stroke-linejoin:round\" d=\"m 3.5 3.3 m 1 0 l 0.3 -0.3 v 1 l -0.3 0.3 z\" id=\"path2\" /><circle cx=\"3.912350465577597\" cy=\"4.133442313662544\" r=\"0.07\"/><circle cx=\"4.2643130319600235\" cy=\"3.4150512402678914\" r=\"0.07\"/><circle cx=\"4.186581075549087\" cy=\"3.565046511253008\" r=\"0.07\"/><circle cx=\"4.308447589184075\" cy=\"4.150899270628443\" r=\"0.07\"/><circle cx=\"4.093410744715124\" cy=\"4.11160816596579\" r=\"0.07\"/><circle cx=\"4.386800677351367\" cy=\"3.6243029699008584\" r=\"0.07\"/><circle cx=\"4.3893870240662425\" cy=\"3.9952152814744633\" r=\"0.07\"/><rect style=\"fill:#ffee46;fill-opacity:1;stroke:#000;stroke-width:0.05\" id=\"rect\" width=\"1\" height=\"1\" x=\"4.5\" y=\"3.3\"/> <path style=\"fill:#f6d028;stroke:#000;stroke-width:0.05;stroke-linejoin:round\" d=\"m 4.5 3.3 l 0.3 -0.3 h 1 l -0.3 0.3 z\" id=\"path1\" /> <path style=\"fill:#cea800;stroke:#000;stroke-width:0.05;stroke-linejoin:round\" d=\"m 4.5 3.3 m 1 0 l 0.3 -0.3 v 1 l -0.3 0.3 z\" id=\"path2\" /><circle cx=\"5.313803097173473\" cy=\"3.4635607379961795\" r=\"0.07\"/><circle cx=\"5.3591910890009125\" cy=\"3.7553031115800355\" r=\"0.07\"/><circle cx=\"5.385791032523153\" cy=\"3.9801915559647036\" r=\"0.07\"/><circle cx=\"4.793460713445565\" cy=\"4.086673510081351\" r=\"0.07\"/><circle cx=\"5.15934833580531\" cy=\"3.4460031632576533\" r=\"0.07\"/><circle cx=\"4.798838365171224\" cy=\"4.018821775068138\" r=\"0.07\"/><circle cx=\"5.137613352031666\" cy=\"3.4744103163649855\" r=\"0.07\"/><rect style=\"fill:#ffee46;fill-opacity:1;stroke:#000;stroke-width:0.05\" id=\"rect\" width=\"1\" height=\"1\" x=\"5.5\" y=\"3.3\"/> <path style=\"fill:#f6d028;stroke:#000;stroke-width:0.05;stroke-linejoin:round\" d=\"m 5.5 3.3 l 0.3 -0.3 h 1 l -0.3 0.3 z\" id=\"path1\" /> <path style=\"fill:#cea800;stroke:#000;stroke-width:0.05;stroke-linejoin:round\" d=\"m 5.5 3.3 m 1 0 l 0.3 -0.3 v 1 l -0.3 0.3 z\" id=\"path2\" /><circle cx=\"5.960001700597816\" cy=\"3.477406730932043\" r=\"0.07\"/><circle cx=\"5.74102084481443\" cy=\"4.194793910031151\" r=\"0.07\"/><circle cx=\"6.061501849825374\" cy=\"3.693571856029679\" r=\"0.07\"/><circle cx=\"6.046469339719104\" cy=\"3.7633166972231127\" r=\"0.07\"/><circle cx=\"6.067583056054938\" cy=\"3.5300745709271526\" r=\"0.07\"/><circle cx=\"5.884607233394266\" cy=\"4.023253856340388\" r=\"0.07\"/><circle cx=\"6.367003429975918\" cy=\"4.090621512521197\" r=\"0.07\"/><rect style=\"fill:#ffee46;fill-opacity:1;stroke:#000;stroke-width:0.05\" id=\"rect\" width=\"1\" height=\"1\" x=\"6.5\" y=\"3.3\"/> <path style=\"fill:#f6d028;stroke:#000;stroke-width:0.05;stroke-linejoin:round\" d=\"m 6.5 3.3 l 0.3 -0.3 h 1 l -0.3 0.3 z\" id=\"path1\" /> <path style=\"fill:#cea800;stroke:#000;stroke-width:0.05;stroke-linejoin:round\" d=\"m 6.5 3.3 m 1 0 l 0.3 -0.3 v 1 l -0.3 0.3 z\" id=\"path2\" /><circle cx=\"7.225511291506852\" cy=\"3.8628275737138296\" r=\"0.07\"/><circle cx=\"7.289806536279727\" cy=\"4.035288760442051\" r=\"0.07\"/><circle cx=\"7.2345804739966235\" cy=\"3.4048042507477425\" r=\"0.07\"/><circle cx=\"7.106417615812887\" cy=\"3.9324319513966675\" r=\"0.07\"/><circle cx=\"6.688110978690784\" cy=\"3.5593716854390487\" r=\"0.07\"/><circle cx=\"7.063031841086725\" cy=\"4.03351205514691\" r=\"0.07\"/><circle cx=\"7.216057029564325\" cy=\"3.719919911493741\" r=\"0.07\"/><rect style=\"fill:#ffee46;fill-opacity:1;stroke:#000;stroke-width:0.05\" id=\"rect\" width=\"1\" height=\"1\" x=\"7.5\" y=\"3.3\"/> <path style=\"fill:#f6d028;stroke:#000;stroke-width:0.05;stroke-linejoin:round\" d=\"m 7.5 3.3 l 0.3 -0.3 h 1 l -0.3 0.3 z\" id=\"path1\" /> <path style=\"fill:#cea800;stroke:#000;stroke-width:0.05;stroke-linejoin:round\" d=\"m 7.5 3.3 m 1 0 l 0.3 -0.3 v 1 l -0.3 0.3 z\" id=\"path2\" /><circle cx=\"7.945163810742342\" cy=\"4.160264674570919\" r=\"0.07\"/><circle cx=\"7.956977854633291\" cy=\"3.7273129269712166\" r=\"0.07\"/><circle cx=\"7.648174150162544\" cy=\"3.6400958495740294\" r=\"0.07\"/><circle cx=\"7.7622792942353875\" cy=\"4.002677947329882\" r=\"0.07\"/><circle cx=\"8.390926833354277\" cy=\"3.521061744317306\" r=\"0.07\"/><circle cx=\"8.361960980284264\" cy=\"3.730172612997473\" r=\"0.07\"/><circle cx=\"7.607529047001\" cy=\"3.4268608217074528\" r=\"0.07\"/><rect style=\"fill:#ffee46;fill-opacity:1;stroke:#000;stroke-width:0.05\" id=\"rect\" width=\"1\" height=\"1\" x=\"8.5\" y=\"3.3\"/> <path style=\"fill:#f6d028;stroke:#000;stroke-width:0.05;stroke-linejoin:round\" d=\"m 8.5 3.3 l 0.3 -0.3 h 1 l -0.3 0.3 z\" id=\"path1\" /> <path style=\"fill:#cea800;stroke:#000;stroke-width:0.05;stroke-linejoin:round\" d=\"m 8.5 3.3 m 1 0 l 0.3 -0.3 v 1 l -0.3 0.3 z\" id=\"path2\" /><circle cx=\"8.71543239869721\" cy=\"3.520431088862998\" r=\"0.07\"/><circle cx=\"9.240563706944844\" cy=\"4.086314511524142\" r=\"0.07\"/><circle cx=\"8.867402103196495\" cy=\"3.821333476739465\" r=\"0.07\"/><circle cx=\"8.770617884217542\" cy=\"3.7979462932320045\" r=\"0.07\"/><circle cx=\"8.718736629075336\" cy=\"4.150509235584213\" r=\"0.07\"/><circle cx=\"9.267980637101658\" cy=\"3.89187976072406\" r=\"0.07\"/><circle cx=\"8.812407048085964\" cy=\"4.100102411424038\" r=\"0.07\"/><rect style=\"fill:#ffee46;fill-opacity:1;stroke:#000;stroke-width:0.05\" id=\"rect\" width=\"1\" height=\"1\" x=\"9.5\" y=\"3.3\"/> <path style=\"fill:#f6d028;stroke:#000;stroke-width:0.05;stroke-linejoin:round\" d=\"m 9.5 3.3 l 0.3 -0.3 h 1 l -0.3 0.3 z\" id=\"path1\" /> <path style=\"fill:#cea800;stroke:#000;stroke-width:0.05;stroke-linejoin:round\" d=\"m 9.5 3.3 m 1 0 l 0.3 -0.3 v 1 l -0.3 0.3 z\" id=\"path2\" /><circle cx=\"10.027351469672078\" cy=\"3.8661198498534177\" r=\"0.07\"/><circle cx=\"9.867926030310661\" cy=\"3.527216449238772\" r=\"0.07\"/><circle cx=\"9.664422720369641\" cy=\"3.8714981062879668\" r=\"0.07\"/><circle cx=\"10.05451483748092\" cy=\"3.692700783556824\" r=\"0.07\"/><circle cx=\"10.053461939185564\" cy=\"3.9710498126542584\" r=\"0.07\"/><circle cx=\"10.044609491167263\" cy=\"3.4926644576051666\" r=\"0.07\"/><circle cx=\"9.635764930884942\" cy=\"3.8477466167894865\" r=\"0.07\"/><rect style=\"fill:#ffee46;fill-opacity:1;stroke:#000;stroke-width:0.05\" id=\"rect\" width=\"1\" height=\"1\" x=\"10.5\" y=\"3.3\"/> <path style=\"fill:#f6d028;stroke:#000;stroke-width:0.05;stroke-linejoin:round\" d=\"m 10.5 3.3 l 0.3 -0.3 h 1 l -0.3 0.3 z\" id=\"path1\" /> <path style=\"fill:#cea800;stroke:#000;stroke-width:0.05;stroke-linejoin:round\" d=\"m 10.5 3.3 m 1 0 l 0.3 -0.3 v 1 l -0.3 0.3 z\" id=\"path2\" /><circle cx=\"11.396932622039182\" cy=\"3.8521693281112706\" r=\"0.07\"/><circle cx=\"11.000239326339624\" cy=\"3.766212166201305\" r=\"0.07\"/><circle cx=\"10.628546103574857\" cy=\"4.123017618366864\" r=\"0.07\"/><circle cx=\"11.01390386499844\" cy=\"4.175244545582817\" r=\"0.07\"/><circle cx=\"11.36894855001187\" cy=\"3.7112824802068425\" r=\"0.07\"/><circle cx=\"11.157780530025512\" cy=\"3.6186798233748227\" r=\"0.07\"/><circle cx=\"11.126247214992548\" cy=\"3.668246647415231\" r=\"0.07\"/><rect style=\"fill:#ffee46;fill-opacity:1;stroke:#000;stroke-width:0.05\" id=\"rect\" width=\"1\" height=\"1\" x=\"11.5\" y=\"3.3\"/> <path style=\"fill:#f6d028;stroke:#000;stroke-width:0.05;stroke-linejoin:round\" d=\"m 11.5 3.3 l 0.3 -0.3 h 1 l -0.3 0.3 z\" id=\"path1\" /> <path style=\"fill:#cea800;stroke:#000;stroke-width:0.05;stroke-linejoin:round\" d=\"m 11.5 3.3 m 1 0 l 0.3 -0.3 v 1 l -0.3 0.3 z\" id=\"path2\" /><circle cx=\"11.999712773464294\" cy=\"3.4041473721625044\" r=\"0.07\"/><circle cx=\"12.297643879659157\" cy=\"3.805135413666538\" r=\"0.07\"/><circle cx=\"12.121787288392621\" cy=\"3.820318869048312\" r=\"0.07\"/><circle cx=\"11.936039034894328\" cy=\"3.903834508953355\" r=\"0.07\"/><circle cx=\"11.67300908314358\" cy=\"3.42435734964707\" r=\"0.07\"/><circle cx=\"12.314468651559334\" cy=\"4.098980518176451\" r=\"0.07\"/><circle cx=\"11.843579765355566\" cy=\"4.144673269470566\" r=\"0.07\"/><rect style=\"fill:#ffee46;fill-opacity:1;stroke:#000;stroke-width:0.05\" id=\"rect\" width=\"1\" height=\"1\" x=\"0.5\" y=\"2.3\"/> <path style=\"fill:#f6d028;stroke:#000;stroke-width:0.05;stroke-linejoin:round\" d=\"m 0.5 2.3 l 0.3 -0.3 h 1 l -0.3 0.3 z\" id=\"path1\" /> <path style=\"fill:#cea800;stroke:#000;stroke-width:0.05;stroke-linejoin:round\" d=\"m 0.5 2.3 m 1 0 l 0.3 -0.3 v 1 l -0.3 0.3 z\" id=\"path2\" /><circle cx=\"1.0977453210747732\" cy=\"2.863473949900646\" r=\"0.07\"/><circle cx=\"1.362557115410865\" cy=\"3.137119293042736\" r=\"0.07\"/><circle cx=\"0.9004246651875091\" cy=\"2.705143007839242\" r=\"0.07\"/><circle cx=\"1.2250655171987614\" cy=\"2.7006475899031073\" r=\"0.07\"/><circle cx=\"1.3273968504471516\" cy=\"2.59579930731536\" r=\"0.07\"/><circle cx=\"0.6960280230816542\" cy=\"2.7845613811039107\" r=\"0.07\"/><circle cx=\"0.7574467363709313\" cy=\"2.8667630255782033\" r=\"0.07\"/><rect style=\"fill:#ffee46;fill-opacity:1;stroke:#000;stroke-width:0.05\" id=\"rect\" width=\"1\" height=\"1\" x=\"1.5\" y=\"2.3\"/> <path style=\"fill:#f6d028;stroke:#000;stroke-width:0.05;stroke-linejoin:round\" d=\"m 1.5 2.3 l 0.3 -0.3 h 1 l -0.3 0.3 z\" id=\"path1\" /> <path style=\"fill:#cea800;stroke:#000;stroke-width:0.05;stroke-linejoin:round\" d=\"m 1.5 2.3 m 1 0 l 0.3 -0.3 v 1 l -0.3 0.3 z\" id=\"path2\" /><circle cx=\"1.767527594385973\" cy=\"2.697955430344062\" r=\"0.07\"/><circle cx=\"1.988651477317239\" cy=\"2.4151649480505366\" r=\"0.07\"/><circle cx=\"1.8728718366047619\" cy=\"2.8879550907787297\" r=\"0.07\"/><circle cx=\"1.67342503067125\" cy=\"3.198559687384206\" r=\"0.07\"/><circle cx=\"2.0307749318765365\" cy=\"2.844257354879589\" r=\"0.07\"/><circle cx=\"1.7132012088272823\" cy=\"3.1238961421195035\" r=\"0.07\"/><circle cx=\"2.055623128187791\" cy=\"2.4706251930359886\" r=\"0.07\"/><rect style=\"fill:#ffee46;fill-opacity:1;stroke:#000;stroke-width:0.05\" id=\"rect\" width=\"1\" height=\"1\" x=\"2.5\" y=\"2.3\"/> <path style=\"fill:#f6d028;stroke:#000;stroke-width:0.05;stroke-linejoin:round\" d=\"m 2.5 2.3 l 0.3 -0.3 h 1 l -0.3 0.3 z\" id=\"path1\" /> <path style=\"fill:#cea800;stroke:#000;stroke-width:0.05;stroke-linejoin:round\" d=\"m 2.5 2.3 m 1 0 l 0.3 -0.3 v 1 l -0.3 0.3 z\" id=\"path2\" /><circle cx=\"2.838862247674126\" cy=\"2.9995107754589174\" r=\"0.07\"/><circle cx=\"3.0970220156973784\" cy=\"2.7416223226758216\" r=\"0.07\"/><circle cx=\"2.871177155277888\" cy=\"3.084724722948272\" r=\"0.07\"/><circle cx=\"3.190467913678849\" cy=\"2.565823949964177\" r=\"0.07\"/><circle cx=\"2.952314062853728\" cy=\"2.8343167515016168\" r=\"0.07\"/><circle cx=\"3.3999650060897553\" cy=\"3.1903100464777574\" r=\"0.07\"/><circle cx=\"3.076533577799233\" cy=\"2.5376083026059697\" r=\"0.07\"/><rect style=\"fill:#ffee46;fill-opacity:1;stroke:#000;stroke-width:0.05\" id=\"rect\" width=\"1\" height=\"1\" x=\"3.5\" y=\"2.3\"/> <path style=\"fill:#f6d028;stroke:#000;stroke-width:0.05;stroke-linejoin:round\" d=\"m 3.5 2.3 l 0.3 -0.3 h 1 l -0.3 0.3 z\" id=\"path1\" /> <path style=\"fill:#cea800;stroke:#000;stroke-width:0.05;stroke-linejoin:round\" d=\"m 3.5 2.3 m 1 0 l 0.3 -0.3 v 1 l -0.3 0.3 z\" id=\"path2\" /><circle cx=\"4.294697749570291\" cy=\"2.861639642194739\" r=\"0.07\"/><circle cx=\"4.3264620473444415\" cy=\"2.5428418094573564\" r=\"0.07\"/><circle cx=\"3.9083249795199686\" cy=\"2.62523024124404\" r=\"0.07\"/><circle cx=\"3.864170719513341\" cy=\"3.0888822170089716\" r=\"0.07\"/><circle cx=\"4.14347873250629\" cy=\"2.919976941493702\" r=\"0.07\"/><circle cx=\"3.6717178746891137\" cy=\"2.950653633179601\" r=\"0.07\"/><circle cx=\"3.751733485759506\" cy=\"3.068540466972605\" r=\"0.07\"/><rect style=\"fill:#ffee46;fill-opacity:1;stroke:#000;stroke-width:0.05\" id=\"rect\" width=\"1\" height=\"1\" x=\"4.5\" y=\"2.3\"/> <path style=\"fill:#f6d028;stroke:#000;stroke-width:0.05;stroke-linejoin:round\" d=\"m 4.5 2.3 l 0.3 -0.3 h 1 l -0.3 0.3 z\" id=\"path1\" /> <path style=\"fill:#cea800;stroke:#000;stroke-width:0.05;stroke-linejoin:round\" d=\"m 4.5 2.3 m 1 0 l 0.3 -0.3 v 1 l -0.3 0.3 z\" id=\"path2\" /><circle cx=\"4.857027131158601\" cy=\"2.594699175326516\" r=\"0.07\"/><circle cx=\"5.0304650526309285\" cy=\"3.119398179437102\" r=\"0.07\"/><circle cx=\"5.169522017043777\" cy=\"2.5651555481789714\" r=\"0.07\"/><circle cx=\"4.643136056795743\" cy=\"3.0010421592497667\" r=\"0.07\"/><circle cx=\"5.086616482560987\" cy=\"2.820063919187922\" r=\"0.07\"/><circle cx=\"5.074651726954389\" cy=\"2.699495618278542\" r=\"0.07\"/><circle cx=\"5.039776808225531\" cy=\"2.9268423039527756\" r=\"0.07\"/><rect style=\"fill:#ffee46;fill-opacity:1;stroke:#000;stroke-width:0.05\" id=\"rect\" width=\"1\" height=\"1\" x=\"5.5\" y=\"2.3\"/> <path style=\"fill:#f6d028;stroke:#000;stroke-width:0.05;stroke-linejoin:round\" d=\"m 5.5 2.3 l 0.3 -0.3 h 1 l -0.3 0.3 z\" id=\"path1\" /> <path style=\"fill:#cea800;stroke:#000;stroke-width:0.05;stroke-linejoin:round\" d=\"m 5.5 2.3 m 1 0 l 0.3 -0.3 v 1 l -0.3 0.3 z\" id=\"path2\" /><circle cx=\"5.821045109736756\" cy=\"2.5542952629455407\" r=\"0.07\"/><circle cx=\"6.336089259456886\" cy=\"3.0870194414209022\" r=\"0.07\"/><circle cx=\"5.777563233917265\" cy=\"2.4993735834455433\" r=\"0.07\"/><circle cx=\"5.633114604790966\" cy=\"2.588797093175942\" r=\"0.07\"/><circle cx=\"6.3097972355187375\" cy=\"3.007443216012411\" r=\"0.07\"/><circle cx=\"6.079652994040708\" cy=\"3.030386510479947\" r=\"0.07\"/><circle cx=\"5.67141058873392\" cy=\"3.17750852885375\" r=\"0.07\"/><rect style=\"fill:#ffee46;fill-opacity:1;stroke:#000;stroke-width:0.05\" id=\"rect\" width=\"1\" height=\"1\" x=\"6.5\" y=\"2.3\"/> <path style=\"fill:#f6d028;stroke:#000;stroke-width:0.05;stroke-linejoin:round\" d=\"m 6.5 2.3 l 0.3 -0.3 h 1 l -0.3 0.3 z\" id=\"path1\" /> <path style=\"fill:#cea800;stroke:#000;stroke-width:0.05;stroke-linejoin:round\" d=\"m 6.5 2.3 m 1 0 l 0.3 -0.3 v 1 l -0.3 0.3 z\" id=\"path2\" /><circle cx=\"7.36858376826436\" cy=\"2.6622493036022368\" r=\"0.07\"/><circle cx=\"7.257469495572551\" cy=\"3.050520561312068\" r=\"0.07\"/><circle cx=\"6.681669405311055\" cy=\"2.7167277542119233\" r=\"0.07\"/><circle cx=\"7.367000541059283\" cy=\"3.1872500498371408\" r=\"0.07\"/><circle cx=\"7.2160574868814145\" cy=\"2.6374534217892958\" r=\"0.07\"/><circle cx=\"7.343805798863479\" cy=\"2.4013023620666862\" r=\"0.07\"/><circle cx=\"6.751038746231597\" cy=\"3.079122774952489\" r=\"0.07\"/><rect style=\"fill:#ffee46;fill-opacity:1;stroke:#000;stroke-width:0.05\" id=\"rect\" width=\"1\" height=\"1\" x=\"7.5\" y=\"2.3\"/> <path style=\"fill:#f6d028;stroke:#000;stroke-width:0.05;stroke-linejoin:round\" d=\"m 7.5 2.3 l 0.3 -0.3 h 1 l -0.3 0.3 z\" id=\"path1\" /> <path style=\"fill:#cea800;stroke:#000;stroke-width:0.05;stroke-linejoin:round\" d=\"m 7.5 2.3 m 1 0 l 0.3 -0.3 v 1 l -0.3 0.3 z\" id=\"path2\" /><circle cx=\"7.717176128090232\" cy=\"3.013127170567323\" r=\"0.07\"/><circle cx=\"8.051620154628901\" cy=\"2.6110706119892253\" r=\"0.07\"/><circle cx=\"7.794731941076856\" cy=\"3.0334439829567885\" r=\"0.07\"/><circle cx=\"8.126034277352499\" cy=\"2.5159807978354265\" r=\"0.07\"/><circle cx=\"7.700863407403072\" cy=\"3.0252739396422257\" r=\"0.07\"/><circle cx=\"8.337276853977498\" cy=\"2.7129680898011985\" r=\"0.07\"/><circle cx=\"7.798734206270632\" cy=\"3.026935229614588\" r=\"0.07\"/><rect style=\"fill:#ffee46;fill-opacity:1;stroke:#000;stroke-width:0.05\" id=\"rect\" width=\"1\" height=\"1\" x=\"8.5\" y=\"2.3\"/> <path style=\"fill:#f6d028;stroke:#000;stroke-width:0.05;stroke-linejoin:round\" d=\"m 8.5 2.3 l 0.3 -0.3 h 1 l -0.3 0.3 z\" id=\"path1\" /> <path style=\"fill:#cea800;stroke:#000;stroke-width:0.05;stroke-linejoin:round\" d=\"m 8.5 2.3 m 1 0 l 0.3 -0.3 v 1 l -0.3 0.3 z\" id=\"path2\" /><circle cx=\"9.088092181795908\" cy=\"3.134844138096514\" r=\"0.07\"/><circle cx=\"9.314552839482284\" cy=\"2.818598357749801\" r=\"0.07\"/><circle cx=\"8.81926169281777\" cy=\"2.4970670820215584\" r=\"0.07\"/><circle cx=\"8.632688085184345\" cy=\"2.494231009305175\" r=\"0.07\"/><circle cx=\"8.633768050387307\" cy=\"2.7336944637505702\" r=\"0.07\"/><circle cx=\"8.972825196410168\" cy=\"2.440110566225181\" r=\"0.07\"/><circle cx=\"9.025126700699335\" cy=\"3.0259849803673955\" r=\"0.07\"/><rect style=\"fill:#ffee46;fill-opacity:1;stroke:#000;stroke-width:0.05\" id=\"rect\" width=\"1\" height=\"1\" x=\"9.5\" y=\"2.3\"/> <path style=\"fill:#f6d028;stroke:#000;stroke-width:0.05;stroke-linejoin:round\" d=\"m 9.5 2.3 l 0.3 -0.3 h 1 l -0.3 0.3 z\" id=\"path1\" /> <path style=\"fill:#cea800;stroke:#000;stroke-width:0.05;stroke-linejoin:round\" d=\"m 9.5 2.3 m 1 0 l 0.3 -0.3 v 1 l -0.3 0.3 z\" id=\"path2\" /><circle cx=\"9.98605819739309\" cy=\"2.6082383916473626\" r=\"0.07\"/><circle cx=\"9.758786971543644\" cy=\"3.135973196239638\" r=\"0.07\"/><circle cx=\"10.29104859902174\" cy=\"2.468506745695496\" r=\"0.07\"/><circle cx=\"10.076437782466432\" cy=\"2.586683649365803\" r=\"0.07\"/><circle cx=\"10.354285870705954\" cy=\"2.9065246479174762\" r=\"0.07\"/><circle cx=\"9.94268043274914\" cy=\"3.128912689224039\" r=\"0.07\"/><circle cx=\"9.899857371605913\" cy=\"2.774060161140148\" r=\"0.07\"/><rect style=\"fill:#ffee46;fill-opacity:1;stroke:#000;stroke-width:0.05\" id=\"rect\" width=\"1\" height=\"1\" x=\"10.5\" y=\"2.3\"/> <path style=\"fill:#f6d028;stroke:#000;stroke-width:0.05;stroke-linejoin:round\" d=\"m 10.5 2.3 l 0.3 -0.3 h 1 l -0.3 0.3 z\" id=\"path1\" /> <path style=\"fill:#cea800;stroke:#000;stroke-width:0.05;stroke-linejoin:round\" d=\"m 10.5 2.3 m 1 0 l 0.3 -0.3 v 1 l -0.3 0.3 z\" id=\"path2\" /><circle cx=\"11.140326209465924\" cy=\"2.9454155229669587\" r=\"0.07\"/><circle cx=\"10.951791060462217\" cy=\"2.946990424679056\" r=\"0.07\"/><circle cx=\"11.352782241585635\" cy=\"2.606389180296578\" r=\"0.07\"/><circle cx=\"11.337433776860799\" cy=\"2.9615458361185847\" r=\"0.07\"/><circle cx=\"10.608837660887183\" cy=\"2.4925671484343352\" r=\"0.07\"/><circle cx=\"10.632878259968397\" cy=\"2.882196617430334\" r=\"0.07\"/><circle cx=\"10.62396323147931\" cy=\"2.6406840337225383\" r=\"0.07\"/><rect style=\"fill:#ffee46;fill-opacity:1;stroke:#000;stroke-width:0.05\" id=\"rect\" width=\"1\" height=\"1\" x=\"11.5\" y=\"2.3\"/> <path style=\"fill:#f6d028;stroke:#000;stroke-width:0.05;stroke-linejoin:round\" d=\"m 11.5 2.3 l 0.3 -0.3 h 1 l -0.3 0.3 z\" id=\"path1\" /> <path style=\"fill:#cea800;stroke:#000;stroke-width:0.05;stroke-linejoin:round\" d=\"m 11.5 2.3 m 1 0 l 0.3 -0.3 v 1 l -0.3 0.3 z\" id=\"path2\" /><circle cx=\"12.083411162518948\" cy=\"3.0943751882420165\" r=\"0.07\"/><circle cx=\"12.331214641640953\" cy=\"2.4703655748020514\" r=\"0.07\"/><circle cx=\"11.63490502348512\" cy=\"2.5847388802039366\" r=\"0.07\"/><circle cx=\"11.800856821386507\" cy=\"2.692464175217553\" r=\"0.07\"/><circle cx=\"12.102219184330762\" cy=\"3.0271264623792646\" r=\"0.07\"/><circle cx=\"11.896452084387358\" cy=\"2.5824810746840696\" r=\"0.07\"/><circle cx=\"12.284224302836204\" cy=\"2.6227434209711005\" r=\"0.07\"/><rect style=\"fill:#ffee46;fill-opacity:1;stroke:#000;stroke-width:0.05\" id=\"rect\" width=\"1\" height=\"1\" x=\"0.5\" y=\"1.3\"/> <path style=\"fill:#f6d028;stroke:#000;stroke-width:0.05;stroke-linejoin:round\" d=\"m 0.5 1.3 l 0.3 -0.3 h 1 l -0.3 0.3 z\" id=\"path1\" /> <path style=\"fill:#cea800;stroke:#000;stroke-width:0.05;stroke-linejoin:round\" d=\"m 0.5 1.3 m 1 0 l 0.3 -0.3 v 1 l -0.3 0.3 z\" id=\"path2\" /><circle cx=\"0.9673149813457952\" cy=\"1.6290162573361524\" r=\"0.07\"/><circle cx=\"1.2141082188042973\" cy=\"1.9729819169089038\" r=\"0.07\"/><circle cx=\"0.8930199342060554\" cy=\"1.4852691474814828\" r=\"0.07\"/><circle cx=\"0.9550631612477832\" cy=\"2.097841739955345\" r=\"0.07\"/><circle cx=\"0.9097314751711835\" cy=\"1.9735090163526454\" r=\"0.07\"/><circle cx=\"1.2184303762885746\" cy=\"1.4328049866853405\" r=\"0.07\"/><circle cx=\"1.281577654812883\" cy=\"1.9208590191753339\" r=\"0.07\"/><rect style=\"fill:#ffee46;fill-opacity:1;stroke:#000;stroke-width:0.05\" id=\"rect\" width=\"1\" height=\"1\" x=\"1.5\" y=\"1.3\"/> <path style=\"fill:#f6d028;stroke:#000;stroke-width:0.05;stroke-linejoin:round\" d=\"m 1.5 1.3 l 0.3 -0.3 h 1 l -0.3 0.3 z\" id=\"path1\" /> <path style=\"fill:#cea800;stroke:#000;stroke-width:0.05;stroke-linejoin:round\" d=\"m 1.5 1.3 m 1 0 l 0.3 -0.3 v 1 l -0.3 0.3 z\" id=\"path2\" /><circle cx=\"2.2444104446023494\" cy=\"1.4756337836656201\" r=\"0.07\"/><circle cx=\"2.3936351861478826\" cy=\"1.4839515818839915\" r=\"0.07\"/><circle cx=\"1.6673763093132472\" cy=\"1.8581416949910023\" r=\"0.07\"/><circle cx=\"1.964785146023138\" cy=\"2.0136962587633396\" r=\"0.07\"/><circle cx=\"1.8928131963585253\" cy=\"2.0115302150868546\" r=\"0.07\"/><circle cx=\"2.1055602757019902\" cy=\"1.703181120574368\" r=\"0.07\"/><circle cx=\"2.1268214773107714\" cy=\"1.6248419725329533\" r=\"0.07\"/><rect style=\"fill:#ffee46;fill-opacity:1;stroke:#000;stroke-width:0.05\" id=\"rect\" width=\"1\" height=\"1\" x=\"2.5\" y=\"1.3\"/> <path style=\"fill:#f6d028;stroke:#000;stroke-width:0.05;stroke-linejoin:round\" d=\"m 2.5 1.3 l 0.3 -0.3 h 1 l -0.3 0.3 z\" id=\"path1\" /> <path style=\"fill:#cea800;stroke:#000;stroke-width:0.05;stroke-linejoin:round\" d=\"m 2.5 1.3 m 1 0 l 0.3 -0.3 v 1 l -0.3 0.3 z\" id=\"path2\" /><circle cx=\"2.8586646979529844\" cy=\"1.5033064866190986\" r=\"0.07\"/><circle cx=\"2.954097452699872\" cy=\"2.1301398490148564\" r=\"0.07\"/><circle cx=\"3.0189288936649277\" cy=\"1.793494005072501\" r=\"0.07\"/><circle cx=\"2.6897070064111652\" cy=\"1.663958485514887\" r=\"0.07\"/><circle cx=\"2.9547943746559064\" cy=\"2.0345338483543265\" r=\"0.07\"/><circle cx=\"3.2095603150911938\" cy=\"1.6061781201168375\" r=\"0.07\"/><circle cx=\"2.634112540072371\" cy=\"2.1399167663103156\" r=\"0.07\"/><rect style=\"fill:#ffee46;fill-opacity:1;stroke:#000;stroke-width:0.05\" id=\"rect\" width=\"1\" height=\"1\" x=\"3.5\" y=\"1.3\"/> <path style=\"fill:#f6d028;stroke:#000;stroke-width:0.05;stroke-linejoin:round\" d=\"m 3.5 1.3 l 0.3 -0.3 h 1 l -0.3 0.3 z\" id=\"path1\" /> <path style=\"fill:#cea800;stroke:#000;stroke-width:0.05;stroke-linejoin:round\" d=\"m 3.5 1.3 m 1 0 l 0.3 -0.3 v 1 l -0.3 0.3 z\" id=\"path2\" /><circle cx=\"4.352354702174438\" cy=\"1.7409621883795257\" r=\"0.07\"/><circle cx=\"4.092676928465721\" cy=\"1.4019440887640622\" r=\"0.07\"/><circle cx=\"3.952765914594562\" cy=\"1.8734485577985927\" r=\"0.07\"/><circle cx=\"4.081663602039842\" cy=\"1.916308751259848\" r=\"0.07\"/><circle cx=\"4.25165804371328\" cy=\"2.1650337878091377\" r=\"0.07\"/><circle cx=\"4.177643236710987\" cy=\"1.9272673782984946\" r=\"0.07\"/><circle cx=\"3.830008415175703\" cy=\"1.4493310003424213\" r=\"0.07\"/><rect style=\"fill:#ffee46;fill-opacity:1;stroke:#000;stroke-width:0.05\" id=\"rect\" width=\"1\" height=\"1\" x=\"4.5\" y=\"1.3\"/> <path style=\"fill:#f6d028;stroke:#000;stroke-width:0.05;stroke-linejoin:round\" d=\"m 4.5 1.3 l 0.3 -0.3 h 1 l -0.3 0.3 z\" id=\"path1\" /> <path style=\"fill:#cea800;stroke:#000;stroke-width:0.05;stroke-linejoin:round\" d=\"m 4.5 1.3 m 1 0 l 0.3 -0.3 v 1 l -0.3 0.3 z\" id=\"path2\" /><circle cx=\"4.8726739300594435\" cy=\"1.8853356707145554\" r=\"0.07\"/><circle cx=\"4.739039429475993\" cy=\"1.4058324323243865\" r=\"0.07\"/><circle cx=\"5.1769865589080695\" cy=\"2.0546701426020872\" r=\"0.07\"/><circle cx=\"4.627428286100531\" cy=\"2.0335551124566518\" r=\"0.07\"/><circle cx=\"5.176777810476386\" cy=\"1.534445656359257\" r=\"0.07\"/><circle cx=\"4.6945949930205995\" cy=\"1.9313467979959649\" r=\"0.07\"/><circle cx=\"4.740819420914873\" cy=\"2.019458550991148\" r=\"0.07\"/><rect style=\"fill:#ffee46;fill-opacity:1;stroke:#000;stroke-width:0.05\" id=\"rect\" width=\"1\" height=\"1\" x=\"5.5\" y=\"1.3\"/> <path style=\"fill:#f6d028;stroke:#000;stroke-width:0.05;stroke-linejoin:round\" d=\"m 5.5 1.3 l 0.3 -0.3 h 1 l -0.3 0.3 z\" id=\"path1\" /> <path style=\"fill:#cea800;stroke:#000;stroke-width:0.05;stroke-linejoin:round\" d=\"m 5.5 1.3 m 1 0 l 0.3 -0.3 v 1 l -0.3 0.3 z\" id=\"path2\" /><circle cx=\"6.025425574410911\" cy=\"2.183729301883417\" r=\"0.07\"/><circle cx=\"6.388839829846322\" cy=\"2.07601150548569\" r=\"0.07\"/><circle cx=\"5.782385194000814\" cy=\"2.1944889010722832\" r=\"0.07\"/><circle cx=\"6.173019780586671\" cy=\"1.722779141156308\" r=\"0.07\"/><circle cx=\"5.651776923064807\" cy=\"1.9223416928871941\" r=\"0.07\"/><circle cx=\"6.1925283726093845\" cy=\"2.053318363478792\" r=\"0.07\"/><circle cx=\"6.162170714334248\" cy=\"2.0650141311206465\" r=\"0.07\"/><rect style=\"fill:#ffee46;fill-opacity:1;stroke:#000;stroke-width:0.05\" id=\"rect\" width=\"1\" height=\"1\" x=\"6.5\" y=\"1.3\"/> <path style=\"fill:#f6d028;stroke:#000;stroke-width:0.05;stroke-linejoin:round\" d=\"m 6.5 1.3 l 0.3 -0.3 h 1 l -0.3 0.3 z\" id=\"path1\" /> <path style=\"fill:#cea800;stroke:#000;stroke-width:0.05;stroke-linejoin:round\" d=\"m 6.5 1.3 m 1 0 l 0.3 -0.3 v 1 l -0.3 0.3 z\" id=\"path2\" /><circle cx=\"6.857159735074366\" cy=\"1.8594193262624175\" r=\"0.07\"/><circle cx=\"6.847877529358691\" cy=\"1.521900229222588\" r=\"0.07\"/><circle cx=\"6.959214409574278\" cy=\"1.957969481643972\" r=\"0.07\"/><circle cx=\"6.692649612150021\" cy=\"1.434390732685724\" r=\"0.07\"/><circle cx=\"6.737066726492302\" cy=\"1.8778263978518013\" r=\"0.07\"/><circle cx=\"6.844714238111167\" cy=\"1.83412924079229\" r=\"0.07\"/><circle cx=\"6.792586404280707\" cy=\"1.7088865522923284\" r=\"0.07\"/><rect style=\"fill:#ffee46;fill-opacity:1;stroke:#000;stroke-width:0.05\" id=\"rect\" width=\"1\" height=\"1\" x=\"7.5\" y=\"1.3\"/> <path style=\"fill:#f6d028;stroke:#000;stroke-width:0.05;stroke-linejoin:round\" d=\"m 7.5 1.3 l 0.3 -0.3 h 1 l -0.3 0.3 z\" id=\"path1\" /> <path style=\"fill:#cea800;stroke:#000;stroke-width:0.05;stroke-linejoin:round\" d=\"m 7.5 1.3 m 1 0 l 0.3 -0.3 v 1 l -0.3 0.3 z\" id=\"path2\" /><circle cx=\"7.795625210671086\" cy=\"2.09334676723837\" r=\"0.07\"/><circle cx=\"8.029187824137292\" cy=\"2.1605723008051236\" r=\"0.07\"/><circle cx=\"7.85739092829819\" cy=\"1.5078103672962708\" r=\"0.07\"/><circle cx=\"7.6320955849018794\" cy=\"1.4785695859028873\" r=\"0.07\"/><circle cx=\"8.234221006747958\" cy=\"1.9282271560507545\" r=\"0.07\"/><circle cx=\"8.334991983909525\" cy=\"1.7700467174322227\" r=\"0.07\"/><circle cx=\"7.734006927435827\" cy=\"1.4685197699535035\" r=\"0.07\"/><rect style=\"fill:#ffee46;fill-opacity:1;stroke:#000;stroke-width:0.05\" id=\"rect\" width=\"1\" height=\"1\" x=\"8.5\" y=\"1.3\"/> <path style=\"fill:#f6d028;stroke:#000;stroke-width:0.05;stroke-linejoin:round\" d=\"m 8.5 1.3 l 0.3 -0.3 h 1 l -0.3 0.3 z\" id=\"path1\" /> <path style=\"fill:#cea800;stroke:#000;stroke-width:0.05;stroke-linejoin:round\" d=\"m 8.5 1.3 m 1 0 l 0.3 -0.3 v 1 l -0.3 0.3 z\" id=\"path2\" /><circle cx=\"9.346333383372542\" cy=\"1.6558216106445371\" r=\"0.07\"/><circle cx=\"9.161748490850398\" cy=\"1.872004279849865\" r=\"0.07\"/><circle cx=\"8.769153912548939\" cy=\"1.7610065969337745\" r=\"0.07\"/><circle cx=\"8.853974593889525\" cy=\"1.813514995436193\" r=\"0.07\"/><circle cx=\"9.247157156560363\" cy=\"2.0771443276129076\" r=\"0.07\"/><circle cx=\"8.815424499114563\" cy=\"1.5470980291575045\" r=\"0.07\"/><circle cx=\"9.032747848779083\" cy=\"1.4954236663111091\" r=\"0.07\"/><rect style=\"fill:#ffee46;fill-opacity:1;stroke:#000;stroke-width:0.05\" id=\"rect\" width=\"1\" height=\"1\" x=\"9.5\" y=\"1.3\"/> <path style=\"fill:#f6d028;stroke:#000;stroke-width:0.05;stroke-linejoin:round\" d=\"m 9.5 1.3 l 0.3 -0.3 h 1 l -0.3 0.3 z\" id=\"path1\" /> <path style=\"fill:#cea800;stroke:#000;stroke-width:0.05;stroke-linejoin:round\" d=\"m 9.5 1.3 m 1 0 l 0.3 -0.3 v 1 l -0.3 0.3 z\" id=\"path2\" /><circle cx=\"9.677989093373665\" cy=\"1.4968317452406745\" r=\"0.07\"/><circle cx=\"9.800365497989398\" cy=\"1.6989365877508136\" r=\"0.07\"/><circle cx=\"9.751916956889387\" cy=\"1.498782922262089\" r=\"0.07\"/><circle cx=\"9.966879780337498\" cy=\"1.4169086890986409\" r=\"0.07\"/><circle cx=\"10.198677669245745\" cy=\"1.6318505806582617\" r=\"0.07\"/><circle cx=\"10.358961875733884\" cy=\"1.5084850849736515\" r=\"0.07\"/><circle cx=\"10.29509344517652\" cy=\"1.4978452329443426\" r=\"0.07\"/><rect style=\"fill:#ffee46;fill-opacity:1;stroke:#000;stroke-width:0.05\" id=\"rect\" width=\"1\" height=\"1\" x=\"10.5\" y=\"1.3\"/> <path style=\"fill:#f6d028;stroke:#000;stroke-width:0.05;stroke-linejoin:round\" d=\"m 10.5 1.3 l 0.3 -0.3 h 1 l -0.3 0.3 z\" id=\"path1\" /> <path style=\"fill:#cea800;stroke:#000;stroke-width:0.05;stroke-linejoin:round\" d=\"m 10.5 1.3 m 1 0 l 0.3 -0.3 v 1 l -0.3 0.3 z\" id=\"path2\" /><circle cx=\"11.201923708434533\" cy=\"2.1932049977386754\" r=\"0.07\"/><circle cx=\"10.900487913357544\" cy=\"2.0977249625075265\" r=\"0.07\"/><circle cx=\"11.364130120444502\" cy=\"2.039438989066346\" r=\"0.07\"/><circle cx=\"10.618539526236953\" cy=\"1.4061768754788462\" r=\"0.07\"/><circle cx=\"11.226150904125355\" cy=\"1.9974575873671863\" r=\"0.07\"/><circle cx=\"10.701574721087423\" cy=\"1.809576508066554\" r=\"0.07\"/><circle cx=\"10.843048073826756\" cy=\"2.0556295037217605\" r=\"0.07\"/><rect style=\"fill:#ffee46;fill-opacity:1;stroke:#000;stroke-width:0.05\" id=\"rect\" width=\"1\" height=\"1\" x=\"11.5\" y=\"1.3\"/> <path style=\"fill:#f6d028;stroke:#000;stroke-width:0.05;stroke-linejoin:round\" d=\"m 11.5 1.3 l 0.3 -0.3 h 1 l -0.3 0.3 z\" id=\"path1\" /> <path style=\"fill:#cea800;stroke:#000;stroke-width:0.05;stroke-linejoin:round\" d=\"m 11.5 1.3 m 1 0 l 0.3 -0.3 v 1 l -0.3 0.3 z\" id=\"path2\" /><circle cx=\"11.679067239462569\" cy=\"1.7501949502336491\" r=\"0.07\"/><circle cx=\"11.691280154038708\" cy=\"1.5261798543586989\" r=\"0.07\"/><circle cx=\"12.320314172245189\" cy=\"1.5789911215622925\" r=\"0.07\"/><circle cx=\"11.97664748169321\" cy=\"2.13281347777856\" r=\"0.07\"/><circle cx=\"11.838121153922966\" cy=\"1.58311305705903\" r=\"0.07\"/><circle cx=\"12.009378613792995\" cy=\"1.921983316282665\" r=\"0.07\"/><circle cx=\"12.381587280796985\" cy=\"1.7519668521771448\" r=\"0.07\"/></g><text x=\"0.392\" y=\"4.2\"                     class=\"sc-label\" style=\"font-size:0.36px\"                     transform=\"rotate(-90, 0.392, 4.2)\">                        panel</text><text x=\"6.5\" y=\"6.0600000000000005\"                         class=\"sc-label\"                          style=\"font-size:0.36px\">id</text></g><line x1=12.5 y1=1.3 x2=14.5 y2=0.30000000000000004 class=\"sc-inset-line\"/><line x1=12.5 y1=2.3 x2=14.5 y2=7.5 class=\"sc-inset-line\"/><g transform=\"translate(14.3,0) scale(0.5)\"><g transform=\"translate(0,0)\"><g><text x=\"0\" y=\"0.6\"                     class=\"sc-name\" style=\"font-size:0.6px\">                     </text><title>(dims=(&#x27;x&#x27;,), shape=(148472379,), unit=counts, variances=False)</title><g><title>values</title><rect style=\"fill:#ffee46;fill-opacity:1;stroke:#000;stroke-width:0.05\" id=\"rect\" width=\"1\" height=\"1\" x=\"0.5\" y=\"1.3\"/> <path style=\"fill:#f6d028;stroke:#000;stroke-width:0.05;stroke-linejoin:round\" d=\"m 0.5 1.3 l 0.3 -0.3 h 1 l -0.3 0.3 z\" id=\"path1\" /> <path style=\"fill:#cea800;stroke:#000;stroke-width:0.05;stroke-linejoin:round\" d=\"m 0.5 1.3 m 1 0 l 0.3 -0.3 v 1 l -0.3 0.3 z\" id=\"path2\" /><rect style=\"fill:#ffee46;fill-opacity:1;stroke:#000;stroke-width:0.05\" id=\"rect\" width=\"1\" height=\"1\" x=\"1.5\" y=\"1.3\"/> <path style=\"fill:#f6d028;stroke:#000;stroke-width:0.05;stroke-linejoin:round\" d=\"m 1.5 1.3 l 0.3 -0.3 h 1 l -0.3 0.3 z\" id=\"path1\" /> <path style=\"fill:#cea800;stroke:#000;stroke-width:0.05;stroke-linejoin:round\" d=\"m 1.5 1.3 m 1 0 l 0.3 -0.3 v 1 l -0.3 0.3 z\" id=\"path2\" /><rect style=\"fill:#ffee46;fill-opacity:1;stroke:#000;stroke-width:0.05\" id=\"rect\" width=\"1\" height=\"1\" x=\"2.5\" y=\"1.3\"/> <path style=\"fill:#f6d028;stroke:#000;stroke-width:0.05;stroke-linejoin:round\" d=\"m 2.5 1.3 l 0.3 -0.3 h 1 l -0.3 0.3 z\" id=\"path1\" /> <path style=\"fill:#cea800;stroke:#000;stroke-width:0.05;stroke-linejoin:round\" d=\"m 2.5 1.3 m 1 0 l 0.3 -0.3 v 1 l -0.3 0.3 z\" id=\"path2\" /><rect style=\"fill:#ffee46;fill-opacity:1;stroke:#000;stroke-width:0.05\" id=\"rect\" width=\"1\" height=\"1\" x=\"3.5\" y=\"1.3\"/> <path style=\"fill:#f6d028;stroke:#000;stroke-width:0.05;stroke-linejoin:round\" d=\"m 3.5 1.3 l 0.3 -0.3 h 1 l -0.3 0.3 z\" id=\"path1\" /> <path style=\"fill:#cea800;stroke:#000;stroke-width:0.05;stroke-linejoin:round\" d=\"m 3.5 1.3 m 1 0 l 0.3 -0.3 v 1 l -0.3 0.3 z\" id=\"path2\" /><rect style=\"fill:#ffee46;fill-opacity:1;stroke:#000;stroke-width:0.05\" id=\"rect\" width=\"1\" height=\"1\" x=\"4.5\" y=\"1.3\"/> <path style=\"fill:#f6d028;stroke:#000;stroke-width:0.05;stroke-linejoin:round\" d=\"m 4.5 1.3 l 0.3 -0.3 h 1 l -0.3 0.3 z\" id=\"path1\" /> <path style=\"fill:#cea800;stroke:#000;stroke-width:0.05;stroke-linejoin:round\" d=\"m 4.5 1.3 m 1 0 l 0.3 -0.3 v 1 l -0.3 0.3 z\" id=\"path2\" /><rect style=\"fill:#ffee46;fill-opacity:1;stroke:#000;stroke-width:0.05\" id=\"rect\" width=\"1\" height=\"1\" x=\"5.5\" y=\"1.3\"/> <path style=\"fill:#f6d028;stroke:#000;stroke-width:0.05;stroke-linejoin:round\" d=\"m 5.5 1.3 l 0.3 -0.3 h 1 l -0.3 0.3 z\" id=\"path1\" /> <path style=\"fill:#cea800;stroke:#000;stroke-width:0.05;stroke-linejoin:round\" d=\"m 5.5 1.3 m 1 0 l 0.3 -0.3 v 1 l -0.3 0.3 z\" id=\"path2\" /><rect style=\"fill:#ffee46;fill-opacity:1;stroke:#000;stroke-width:0.05\" id=\"rect\" width=\"1\" height=\"1\" x=\"6.5\" y=\"1.3\"/> <path style=\"fill:#f6d028;stroke:#000;stroke-width:0.05;stroke-linejoin:round\" d=\"m 6.5 1.3 l 0.3 -0.3 h 1 l -0.3 0.3 z\" id=\"path1\" /> <path style=\"fill:#cea800;stroke:#000;stroke-width:0.05;stroke-linejoin:round\" d=\"m 6.5 1.3 m 1 0 l 0.3 -0.3 v 1 l -0.3 0.3 z\" id=\"path2\" /><rect style=\"fill:#ffee46;fill-opacity:1;stroke:#000;stroke-width:0.05\" id=\"rect\" width=\"1\" height=\"1\" x=\"7.5\" y=\"1.3\"/> <path style=\"fill:#f6d028;stroke:#000;stroke-width:0.05;stroke-linejoin:round\" d=\"m 7.5 1.3 l 0.3 -0.3 h 1 l -0.3 0.3 z\" id=\"path1\" /> <path style=\"fill:#cea800;stroke:#000;stroke-width:0.05;stroke-linejoin:round\" d=\"m 7.5 1.3 m 1 0 l 0.3 -0.3 v 1 l -0.3 0.3 z\" id=\"path2\" /><rect style=\"fill:#ffee46;fill-opacity:1;stroke:#000;stroke-width:0.05\" id=\"rect\" width=\"1\" height=\"1\" x=\"8.5\" y=\"1.3\"/> <path style=\"fill:#f6d028;stroke:#000;stroke-width:0.05;stroke-linejoin:round\" d=\"m 8.5 1.3 l 0.3 -0.3 h 1 l -0.3 0.3 z\" id=\"path1\" /> <path style=\"fill:#cea800;stroke:#000;stroke-width:0.05;stroke-linejoin:round\" d=\"m 8.5 1.3 m 1 0 l 0.3 -0.3 v 1 l -0.3 0.3 z\" id=\"path2\" /><rect style=\"fill:#ffee46;fill-opacity:1;stroke:#000;stroke-width:0.05\" id=\"rect\" width=\"1\" height=\"1\" x=\"9.5\" y=\"1.3\"/> <path style=\"fill:#f6d028;stroke:#000;stroke-width:0.05;stroke-linejoin:round\" d=\"m 9.5 1.3 l 0.3 -0.3 h 1 l -0.3 0.3 z\" id=\"path1\" /> <path style=\"fill:#cea800;stroke:#000;stroke-width:0.05;stroke-linejoin:round\" d=\"m 9.5 1.3 m 1 0 l 0.3 -0.3 v 1 l -0.3 0.3 z\" id=\"path2\" /><rect style=\"fill:#ffee46;fill-opacity:1;stroke:#000;stroke-width:0.05\" id=\"rect\" width=\"1\" height=\"1\" x=\"10.5\" y=\"1.3\"/> <path style=\"fill:#f6d028;stroke:#000;stroke-width:0.05;stroke-linejoin:round\" d=\"m 10.5 1.3 l 0.3 -0.3 h 1 l -0.3 0.3 z\" id=\"path1\" /> <path style=\"fill:#cea800;stroke:#000;stroke-width:0.05;stroke-linejoin:round\" d=\"m 10.5 1.3 m 1 0 l 0.3 -0.3 v 1 l -0.3 0.3 z\" id=\"path2\" /><rect style=\"fill:#ffee46;fill-opacity:1;stroke:#000;stroke-width:0.05\" id=\"rect\" width=\"1\" height=\"1\" x=\"11.5\" y=\"1.3\"/> <path style=\"fill:#f6d028;stroke:#000;stroke-width:0.05;stroke-linejoin:round\" d=\"m 11.5 1.3 l 0.3 -0.3 h 1 l -0.3 0.3 z\" id=\"path1\" /> <path style=\"fill:#cea800;stroke:#000;stroke-width:0.05;stroke-linejoin:round\" d=\"m 11.5 1.3 m 1 0 l 0.3 -0.3 v 1 l -0.3 0.3 z\" id=\"path2\" /></g><text x=\"6.5\" y=\"2.6599999999999997\"                         class=\"sc-label\"                          style=\"font-size:0.36px\">x</text></g></g><g transform=\"translate(13.3,2.8)\"></g><g transform=\"translate(0,2.8)\"></g><g transform=\"translate(0,2.8)\"></g><g transform=\"translate(0,2.8)\"><g><text x=\"0\" y=\"0.6\"                     class=\"sc-name\" style=\"font-size:0.6px\">                     panel</text><title>panel(dims=(&#x27;x&#x27;,), shape=(148472379,), unit=None, variances=False)</title><g><title>values</title><rect style=\"fill:#e4ffae;fill-opacity:1;stroke:#000;stroke-width:0.05\" id=\"rect\" width=\"1\" height=\"1\" x=\"0.5\" y=\"1.3\"/> <path style=\"fill:#c6e590;stroke:#000;stroke-width:0.05;stroke-linejoin:round\" d=\"m 0.5 1.3 l 0.3 -0.3 h 1 l -0.3 0.3 z\" id=\"path1\" /> <path style=\"fill:#9ebd68;stroke:#000;stroke-width:0.05;stroke-linejoin:round\" d=\"m 0.5 1.3 m 1 0 l 0.3 -0.3 v 1 l -0.3 0.3 z\" id=\"path2\" /><rect style=\"fill:#e4ffae;fill-opacity:1;stroke:#000;stroke-width:0.05\" id=\"rect\" width=\"1\" height=\"1\" x=\"1.5\" y=\"1.3\"/> <path style=\"fill:#c6e590;stroke:#000;stroke-width:0.05;stroke-linejoin:round\" d=\"m 1.5 1.3 l 0.3 -0.3 h 1 l -0.3 0.3 z\" id=\"path1\" /> <path style=\"fill:#9ebd68;stroke:#000;stroke-width:0.05;stroke-linejoin:round\" d=\"m 1.5 1.3 m 1 0 l 0.3 -0.3 v 1 l -0.3 0.3 z\" id=\"path2\" /><rect style=\"fill:#e4ffae;fill-opacity:1;stroke:#000;stroke-width:0.05\" id=\"rect\" width=\"1\" height=\"1\" x=\"2.5\" y=\"1.3\"/> <path style=\"fill:#c6e590;stroke:#000;stroke-width:0.05;stroke-linejoin:round\" d=\"m 2.5 1.3 l 0.3 -0.3 h 1 l -0.3 0.3 z\" id=\"path1\" /> <path style=\"fill:#9ebd68;stroke:#000;stroke-width:0.05;stroke-linejoin:round\" d=\"m 2.5 1.3 m 1 0 l 0.3 -0.3 v 1 l -0.3 0.3 z\" id=\"path2\" /><rect style=\"fill:#e4ffae;fill-opacity:1;stroke:#000;stroke-width:0.05\" id=\"rect\" width=\"1\" height=\"1\" x=\"3.5\" y=\"1.3\"/> <path style=\"fill:#c6e590;stroke:#000;stroke-width:0.05;stroke-linejoin:round\" d=\"m 3.5 1.3 l 0.3 -0.3 h 1 l -0.3 0.3 z\" id=\"path1\" /> <path style=\"fill:#9ebd68;stroke:#000;stroke-width:0.05;stroke-linejoin:round\" d=\"m 3.5 1.3 m 1 0 l 0.3 -0.3 v 1 l -0.3 0.3 z\" id=\"path2\" /><rect style=\"fill:#e4ffae;fill-opacity:1;stroke:#000;stroke-width:0.05\" id=\"rect\" width=\"1\" height=\"1\" x=\"4.5\" y=\"1.3\"/> <path style=\"fill:#c6e590;stroke:#000;stroke-width:0.05;stroke-linejoin:round\" d=\"m 4.5 1.3 l 0.3 -0.3 h 1 l -0.3 0.3 z\" id=\"path1\" /> <path style=\"fill:#9ebd68;stroke:#000;stroke-width:0.05;stroke-linejoin:round\" d=\"m 4.5 1.3 m 1 0 l 0.3 -0.3 v 1 l -0.3 0.3 z\" id=\"path2\" /><rect style=\"fill:#e4ffae;fill-opacity:1;stroke:#000;stroke-width:0.05\" id=\"rect\" width=\"1\" height=\"1\" x=\"5.5\" y=\"1.3\"/> <path style=\"fill:#c6e590;stroke:#000;stroke-width:0.05;stroke-linejoin:round\" d=\"m 5.5 1.3 l 0.3 -0.3 h 1 l -0.3 0.3 z\" id=\"path1\" /> <path style=\"fill:#9ebd68;stroke:#000;stroke-width:0.05;stroke-linejoin:round\" d=\"m 5.5 1.3 m 1 0 l 0.3 -0.3 v 1 l -0.3 0.3 z\" id=\"path2\" /><rect style=\"fill:#e4ffae;fill-opacity:1;stroke:#000;stroke-width:0.05\" id=\"rect\" width=\"1\" height=\"1\" x=\"6.5\" y=\"1.3\"/> <path style=\"fill:#c6e590;stroke:#000;stroke-width:0.05;stroke-linejoin:round\" d=\"m 6.5 1.3 l 0.3 -0.3 h 1 l -0.3 0.3 z\" id=\"path1\" /> <path style=\"fill:#9ebd68;stroke:#000;stroke-width:0.05;stroke-linejoin:round\" d=\"m 6.5 1.3 m 1 0 l 0.3 -0.3 v 1 l -0.3 0.3 z\" id=\"path2\" /><rect style=\"fill:#e4ffae;fill-opacity:1;stroke:#000;stroke-width:0.05\" id=\"rect\" width=\"1\" height=\"1\" x=\"7.5\" y=\"1.3\"/> <path style=\"fill:#c6e590;stroke:#000;stroke-width:0.05;stroke-linejoin:round\" d=\"m 7.5 1.3 l 0.3 -0.3 h 1 l -0.3 0.3 z\" id=\"path1\" /> <path style=\"fill:#9ebd68;stroke:#000;stroke-width:0.05;stroke-linejoin:round\" d=\"m 7.5 1.3 m 1 0 l 0.3 -0.3 v 1 l -0.3 0.3 z\" id=\"path2\" /><rect style=\"fill:#e4ffae;fill-opacity:1;stroke:#000;stroke-width:0.05\" id=\"rect\" width=\"1\" height=\"1\" x=\"8.5\" y=\"1.3\"/> <path style=\"fill:#c6e590;stroke:#000;stroke-width:0.05;stroke-linejoin:round\" d=\"m 8.5 1.3 l 0.3 -0.3 h 1 l -0.3 0.3 z\" id=\"path1\" /> <path style=\"fill:#9ebd68;stroke:#000;stroke-width:0.05;stroke-linejoin:round\" d=\"m 8.5 1.3 m 1 0 l 0.3 -0.3 v 1 l -0.3 0.3 z\" id=\"path2\" /><rect style=\"fill:#e4ffae;fill-opacity:1;stroke:#000;stroke-width:0.05\" id=\"rect\" width=\"1\" height=\"1\" x=\"9.5\" y=\"1.3\"/> <path style=\"fill:#c6e590;stroke:#000;stroke-width:0.05;stroke-linejoin:round\" d=\"m 9.5 1.3 l 0.3 -0.3 h 1 l -0.3 0.3 z\" id=\"path1\" /> <path style=\"fill:#9ebd68;stroke:#000;stroke-width:0.05;stroke-linejoin:round\" d=\"m 9.5 1.3 m 1 0 l 0.3 -0.3 v 1 l -0.3 0.3 z\" id=\"path2\" /><rect style=\"fill:#e4ffae;fill-opacity:1;stroke:#000;stroke-width:0.05\" id=\"rect\" width=\"1\" height=\"1\" x=\"10.5\" y=\"1.3\"/> <path style=\"fill:#c6e590;stroke:#000;stroke-width:0.05;stroke-linejoin:round\" d=\"m 10.5 1.3 l 0.3 -0.3 h 1 l -0.3 0.3 z\" id=\"path1\" /> <path style=\"fill:#9ebd68;stroke:#000;stroke-width:0.05;stroke-linejoin:round\" d=\"m 10.5 1.3 m 1 0 l 0.3 -0.3 v 1 l -0.3 0.3 z\" id=\"path2\" /><rect style=\"fill:#e4ffae;fill-opacity:1;stroke:#000;stroke-width:0.05\" id=\"rect\" width=\"1\" height=\"1\" x=\"11.5\" y=\"1.3\"/> <path style=\"fill:#c6e590;stroke:#000;stroke-width:0.05;stroke-linejoin:round\" d=\"m 11.5 1.3 l 0.3 -0.3 h 1 l -0.3 0.3 z\" id=\"path1\" /> <path style=\"fill:#9ebd68;stroke:#000;stroke-width:0.05;stroke-linejoin:round\" d=\"m 11.5 1.3 m 1 0 l 0.3 -0.3 v 1 l -0.3 0.3 z\" id=\"path2\" /></g><text x=\"6.5\" y=\"2.6599999999999997\"                         class=\"sc-label\"                          style=\"font-size:0.36px\">x</text></g><g><text x=\"0\" y=\"3.4\"                     class=\"sc-name\" style=\"font-size:0.6px\">                     t</text><title>t(dims=(&#x27;x&#x27;,), shape=(148472379,), unit=ms, variances=False)</title><g><title>values</title><rect style=\"fill:#e4ffae;fill-opacity:1;stroke:#000;stroke-width:0.05\" id=\"rect\" width=\"1\" height=\"1\" x=\"0.5\" y=\"4.1\"/> <path style=\"fill:#c6e590;stroke:#000;stroke-width:0.05;stroke-linejoin:round\" d=\"m 0.5 4.1 l 0.3 -0.3 h 1 l -0.3 0.3 z\" id=\"path1\" /> <path style=\"fill:#9ebd68;stroke:#000;stroke-width:0.05;stroke-linejoin:round\" d=\"m 0.5 4.1 m 1 0 l 0.3 -0.3 v 1 l -0.3 0.3 z\" id=\"path2\" /><rect style=\"fill:#e4ffae;fill-opacity:1;stroke:#000;stroke-width:0.05\" id=\"rect\" width=\"1\" height=\"1\" x=\"1.5\" y=\"4.1\"/> <path style=\"fill:#c6e590;stroke:#000;stroke-width:0.05;stroke-linejoin:round\" d=\"m 1.5 4.1 l 0.3 -0.3 h 1 l -0.3 0.3 z\" id=\"path1\" /> <path style=\"fill:#9ebd68;stroke:#000;stroke-width:0.05;stroke-linejoin:round\" d=\"m 1.5 4.1 m 1 0 l 0.3 -0.3 v 1 l -0.3 0.3 z\" id=\"path2\" /><rect style=\"fill:#e4ffae;fill-opacity:1;stroke:#000;stroke-width:0.05\" id=\"rect\" width=\"1\" height=\"1\" x=\"2.5\" y=\"4.1\"/> <path style=\"fill:#c6e590;stroke:#000;stroke-width:0.05;stroke-linejoin:round\" d=\"m 2.5 4.1 l 0.3 -0.3 h 1 l -0.3 0.3 z\" id=\"path1\" /> <path style=\"fill:#9ebd68;stroke:#000;stroke-width:0.05;stroke-linejoin:round\" d=\"m 2.5 4.1 m 1 0 l 0.3 -0.3 v 1 l -0.3 0.3 z\" id=\"path2\" /><rect style=\"fill:#e4ffae;fill-opacity:1;stroke:#000;stroke-width:0.05\" id=\"rect\" width=\"1\" height=\"1\" x=\"3.5\" y=\"4.1\"/> <path style=\"fill:#c6e590;stroke:#000;stroke-width:0.05;stroke-linejoin:round\" d=\"m 3.5 4.1 l 0.3 -0.3 h 1 l -0.3 0.3 z\" id=\"path1\" /> <path style=\"fill:#9ebd68;stroke:#000;stroke-width:0.05;stroke-linejoin:round\" d=\"m 3.5 4.1 m 1 0 l 0.3 -0.3 v 1 l -0.3 0.3 z\" id=\"path2\" /><rect style=\"fill:#e4ffae;fill-opacity:1;stroke:#000;stroke-width:0.05\" id=\"rect\" width=\"1\" height=\"1\" x=\"4.5\" y=\"4.1\"/> <path style=\"fill:#c6e590;stroke:#000;stroke-width:0.05;stroke-linejoin:round\" d=\"m 4.5 4.1 l 0.3 -0.3 h 1 l -0.3 0.3 z\" id=\"path1\" /> <path style=\"fill:#9ebd68;stroke:#000;stroke-width:0.05;stroke-linejoin:round\" d=\"m 4.5 4.1 m 1 0 l 0.3 -0.3 v 1 l -0.3 0.3 z\" id=\"path2\" /><rect style=\"fill:#e4ffae;fill-opacity:1;stroke:#000;stroke-width:0.05\" id=\"rect\" width=\"1\" height=\"1\" x=\"5.5\" y=\"4.1\"/> <path style=\"fill:#c6e590;stroke:#000;stroke-width:0.05;stroke-linejoin:round\" d=\"m 5.5 4.1 l 0.3 -0.3 h 1 l -0.3 0.3 z\" id=\"path1\" /> <path style=\"fill:#9ebd68;stroke:#000;stroke-width:0.05;stroke-linejoin:round\" d=\"m 5.5 4.1 m 1 0 l 0.3 -0.3 v 1 l -0.3 0.3 z\" id=\"path2\" /><rect style=\"fill:#e4ffae;fill-opacity:1;stroke:#000;stroke-width:0.05\" id=\"rect\" width=\"1\" height=\"1\" x=\"6.5\" y=\"4.1\"/> <path style=\"fill:#c6e590;stroke:#000;stroke-width:0.05;stroke-linejoin:round\" d=\"m 6.5 4.1 l 0.3 -0.3 h 1 l -0.3 0.3 z\" id=\"path1\" /> <path style=\"fill:#9ebd68;stroke:#000;stroke-width:0.05;stroke-linejoin:round\" d=\"m 6.5 4.1 m 1 0 l 0.3 -0.3 v 1 l -0.3 0.3 z\" id=\"path2\" /><rect style=\"fill:#e4ffae;fill-opacity:1;stroke:#000;stroke-width:0.05\" id=\"rect\" width=\"1\" height=\"1\" x=\"7.5\" y=\"4.1\"/> <path style=\"fill:#c6e590;stroke:#000;stroke-width:0.05;stroke-linejoin:round\" d=\"m 7.5 4.1 l 0.3 -0.3 h 1 l -0.3 0.3 z\" id=\"path1\" /> <path style=\"fill:#9ebd68;stroke:#000;stroke-width:0.05;stroke-linejoin:round\" d=\"m 7.5 4.1 m 1 0 l 0.3 -0.3 v 1 l -0.3 0.3 z\" id=\"path2\" /><rect style=\"fill:#e4ffae;fill-opacity:1;stroke:#000;stroke-width:0.05\" id=\"rect\" width=\"1\" height=\"1\" x=\"8.5\" y=\"4.1\"/> <path style=\"fill:#c6e590;stroke:#000;stroke-width:0.05;stroke-linejoin:round\" d=\"m 8.5 4.1 l 0.3 -0.3 h 1 l -0.3 0.3 z\" id=\"path1\" /> <path style=\"fill:#9ebd68;stroke:#000;stroke-width:0.05;stroke-linejoin:round\" d=\"m 8.5 4.1 m 1 0 l 0.3 -0.3 v 1 l -0.3 0.3 z\" id=\"path2\" /><rect style=\"fill:#e4ffae;fill-opacity:1;stroke:#000;stroke-width:0.05\" id=\"rect\" width=\"1\" height=\"1\" x=\"9.5\" y=\"4.1\"/> <path style=\"fill:#c6e590;stroke:#000;stroke-width:0.05;stroke-linejoin:round\" d=\"m 9.5 4.1 l 0.3 -0.3 h 1 l -0.3 0.3 z\" id=\"path1\" /> <path style=\"fill:#9ebd68;stroke:#000;stroke-width:0.05;stroke-linejoin:round\" d=\"m 9.5 4.1 m 1 0 l 0.3 -0.3 v 1 l -0.3 0.3 z\" id=\"path2\" /><rect style=\"fill:#e4ffae;fill-opacity:1;stroke:#000;stroke-width:0.05\" id=\"rect\" width=\"1\" height=\"1\" x=\"10.5\" y=\"4.1\"/> <path style=\"fill:#c6e590;stroke:#000;stroke-width:0.05;stroke-linejoin:round\" d=\"m 10.5 4.1 l 0.3 -0.3 h 1 l -0.3 0.3 z\" id=\"path1\" /> <path style=\"fill:#9ebd68;stroke:#000;stroke-width:0.05;stroke-linejoin:round\" d=\"m 10.5 4.1 m 1 0 l 0.3 -0.3 v 1 l -0.3 0.3 z\" id=\"path2\" /><rect style=\"fill:#e4ffae;fill-opacity:1;stroke:#000;stroke-width:0.05\" id=\"rect\" width=\"1\" height=\"1\" x=\"11.5\" y=\"4.1\"/> <path style=\"fill:#c6e590;stroke:#000;stroke-width:0.05;stroke-linejoin:round\" d=\"m 11.5 4.1 l 0.3 -0.3 h 1 l -0.3 0.3 z\" id=\"path1\" /> <path style=\"fill:#9ebd68;stroke:#000;stroke-width:0.05;stroke-linejoin:round\" d=\"m 11.5 4.1 m 1 0 l 0.3 -0.3 v 1 l -0.3 0.3 z\" id=\"path2\" /></g><text x=\"6.5\" y=\"5.46\"                         class=\"sc-label\"                          style=\"font-size:0.36px\">x</text></g><g><text x=\"0\" y=\"6.199999999999999\"                     class=\"sc-name\" style=\"font-size:0.6px\">                     x</text><title>x(dims=(&#x27;x&#x27;,), shape=(148472379,), unit=m, variances=False)</title><g><title>values</title><rect style=\"fill:#e4ffae;fill-opacity:1;stroke:#000;stroke-width:0.05\" id=\"rect\" width=\"1\" height=\"1\" x=\"0.5\" y=\"6.8999999999999995\"/> <path style=\"fill:#c6e590;stroke:#000;stroke-width:0.05;stroke-linejoin:round\" d=\"m 0.5 6.8999999999999995 l 0.3 -0.3 h 1 l -0.3 0.3 z\" id=\"path1\" /> <path style=\"fill:#9ebd68;stroke:#000;stroke-width:0.05;stroke-linejoin:round\" d=\"m 0.5 6.8999999999999995 m 1 0 l 0.3 -0.3 v 1 l -0.3 0.3 z\" id=\"path2\" /><rect style=\"fill:#e4ffae;fill-opacity:1;stroke:#000;stroke-width:0.05\" id=\"rect\" width=\"1\" height=\"1\" x=\"1.5\" y=\"6.8999999999999995\"/> <path style=\"fill:#c6e590;stroke:#000;stroke-width:0.05;stroke-linejoin:round\" d=\"m 1.5 6.8999999999999995 l 0.3 -0.3 h 1 l -0.3 0.3 z\" id=\"path1\" /> <path style=\"fill:#9ebd68;stroke:#000;stroke-width:0.05;stroke-linejoin:round\" d=\"m 1.5 6.8999999999999995 m 1 0 l 0.3 -0.3 v 1 l -0.3 0.3 z\" id=\"path2\" /><rect style=\"fill:#e4ffae;fill-opacity:1;stroke:#000;stroke-width:0.05\" id=\"rect\" width=\"1\" height=\"1\" x=\"2.5\" y=\"6.8999999999999995\"/> <path style=\"fill:#c6e590;stroke:#000;stroke-width:0.05;stroke-linejoin:round\" d=\"m 2.5 6.8999999999999995 l 0.3 -0.3 h 1 l -0.3 0.3 z\" id=\"path1\" /> <path style=\"fill:#9ebd68;stroke:#000;stroke-width:0.05;stroke-linejoin:round\" d=\"m 2.5 6.8999999999999995 m 1 0 l 0.3 -0.3 v 1 l -0.3 0.3 z\" id=\"path2\" /><rect style=\"fill:#e4ffae;fill-opacity:1;stroke:#000;stroke-width:0.05\" id=\"rect\" width=\"1\" height=\"1\" x=\"3.5\" y=\"6.8999999999999995\"/> <path style=\"fill:#c6e590;stroke:#000;stroke-width:0.05;stroke-linejoin:round\" d=\"m 3.5 6.8999999999999995 l 0.3 -0.3 h 1 l -0.3 0.3 z\" id=\"path1\" /> <path style=\"fill:#9ebd68;stroke:#000;stroke-width:0.05;stroke-linejoin:round\" d=\"m 3.5 6.8999999999999995 m 1 0 l 0.3 -0.3 v 1 l -0.3 0.3 z\" id=\"path2\" /><rect style=\"fill:#e4ffae;fill-opacity:1;stroke:#000;stroke-width:0.05\" id=\"rect\" width=\"1\" height=\"1\" x=\"4.5\" y=\"6.8999999999999995\"/> <path style=\"fill:#c6e590;stroke:#000;stroke-width:0.05;stroke-linejoin:round\" d=\"m 4.5 6.8999999999999995 l 0.3 -0.3 h 1 l -0.3 0.3 z\" id=\"path1\" /> <path style=\"fill:#9ebd68;stroke:#000;stroke-width:0.05;stroke-linejoin:round\" d=\"m 4.5 6.8999999999999995 m 1 0 l 0.3 -0.3 v 1 l -0.3 0.3 z\" id=\"path2\" /><rect style=\"fill:#e4ffae;fill-opacity:1;stroke:#000;stroke-width:0.05\" id=\"rect\" width=\"1\" height=\"1\" x=\"5.5\" y=\"6.8999999999999995\"/> <path style=\"fill:#c6e590;stroke:#000;stroke-width:0.05;stroke-linejoin:round\" d=\"m 5.5 6.8999999999999995 l 0.3 -0.3 h 1 l -0.3 0.3 z\" id=\"path1\" /> <path style=\"fill:#9ebd68;stroke:#000;stroke-width:0.05;stroke-linejoin:round\" d=\"m 5.5 6.8999999999999995 m 1 0 l 0.3 -0.3 v 1 l -0.3 0.3 z\" id=\"path2\" /><rect style=\"fill:#e4ffae;fill-opacity:1;stroke:#000;stroke-width:0.05\" id=\"rect\" width=\"1\" height=\"1\" x=\"6.5\" y=\"6.8999999999999995\"/> <path style=\"fill:#c6e590;stroke:#000;stroke-width:0.05;stroke-linejoin:round\" d=\"m 6.5 6.8999999999999995 l 0.3 -0.3 h 1 l -0.3 0.3 z\" id=\"path1\" /> <path style=\"fill:#9ebd68;stroke:#000;stroke-width:0.05;stroke-linejoin:round\" d=\"m 6.5 6.8999999999999995 m 1 0 l 0.3 -0.3 v 1 l -0.3 0.3 z\" id=\"path2\" /><rect style=\"fill:#e4ffae;fill-opacity:1;stroke:#000;stroke-width:0.05\" id=\"rect\" width=\"1\" height=\"1\" x=\"7.5\" y=\"6.8999999999999995\"/> <path style=\"fill:#c6e590;stroke:#000;stroke-width:0.05;stroke-linejoin:round\" d=\"m 7.5 6.8999999999999995 l 0.3 -0.3 h 1 l -0.3 0.3 z\" id=\"path1\" /> <path style=\"fill:#9ebd68;stroke:#000;stroke-width:0.05;stroke-linejoin:round\" d=\"m 7.5 6.8999999999999995 m 1 0 l 0.3 -0.3 v 1 l -0.3 0.3 z\" id=\"path2\" /><rect style=\"fill:#e4ffae;fill-opacity:1;stroke:#000;stroke-width:0.05\" id=\"rect\" width=\"1\" height=\"1\" x=\"8.5\" y=\"6.8999999999999995\"/> <path style=\"fill:#c6e590;stroke:#000;stroke-width:0.05;stroke-linejoin:round\" d=\"m 8.5 6.8999999999999995 l 0.3 -0.3 h 1 l -0.3 0.3 z\" id=\"path1\" /> <path style=\"fill:#9ebd68;stroke:#000;stroke-width:0.05;stroke-linejoin:round\" d=\"m 8.5 6.8999999999999995 m 1 0 l 0.3 -0.3 v 1 l -0.3 0.3 z\" id=\"path2\" /><rect style=\"fill:#e4ffae;fill-opacity:1;stroke:#000;stroke-width:0.05\" id=\"rect\" width=\"1\" height=\"1\" x=\"9.5\" y=\"6.8999999999999995\"/> <path style=\"fill:#c6e590;stroke:#000;stroke-width:0.05;stroke-linejoin:round\" d=\"m 9.5 6.8999999999999995 l 0.3 -0.3 h 1 l -0.3 0.3 z\" id=\"path1\" /> <path style=\"fill:#9ebd68;stroke:#000;stroke-width:0.05;stroke-linejoin:round\" d=\"m 9.5 6.8999999999999995 m 1 0 l 0.3 -0.3 v 1 l -0.3 0.3 z\" id=\"path2\" /><rect style=\"fill:#e4ffae;fill-opacity:1;stroke:#000;stroke-width:0.05\" id=\"rect\" width=\"1\" height=\"1\" x=\"10.5\" y=\"6.8999999999999995\"/> <path style=\"fill:#c6e590;stroke:#000;stroke-width:0.05;stroke-linejoin:round\" d=\"m 10.5 6.8999999999999995 l 0.3 -0.3 h 1 l -0.3 0.3 z\" id=\"path1\" /> <path style=\"fill:#9ebd68;stroke:#000;stroke-width:0.05;stroke-linejoin:round\" d=\"m 10.5 6.8999999999999995 m 1 0 l 0.3 -0.3 v 1 l -0.3 0.3 z\" id=\"path2\" /><rect style=\"fill:#e4ffae;fill-opacity:1;stroke:#000;stroke-width:0.05\" id=\"rect\" width=\"1\" height=\"1\" x=\"11.5\" y=\"6.8999999999999995\"/> <path style=\"fill:#c6e590;stroke:#000;stroke-width:0.05;stroke-linejoin:round\" d=\"m 11.5 6.8999999999999995 l 0.3 -0.3 h 1 l -0.3 0.3 z\" id=\"path1\" /> <path style=\"fill:#9ebd68;stroke:#000;stroke-width:0.05;stroke-linejoin:round\" d=\"m 11.5 6.8999999999999995 m 1 0 l 0.3 -0.3 v 1 l -0.3 0.3 z\" id=\"path2\" /></g><text x=\"6.5\" y=\"8.259999999999998\"                         class=\"sc-label\"                          style=\"font-size:0.36px\">x</text></g><g><text x=\"0\" y=\"8.999999999999998\"                     class=\"sc-name\" style=\"font-size:0.6px\">                     y</text><title>y(dims=(&#x27;x&#x27;,), shape=(148472379,), unit=m, variances=False)</title><g><title>values</title><rect style=\"fill:#e4ffae;fill-opacity:1;stroke:#000;stroke-width:0.05\" id=\"rect\" width=\"1\" height=\"1\" x=\"0.5\" y=\"9.7\"/> <path style=\"fill:#c6e590;stroke:#000;stroke-width:0.05;stroke-linejoin:round\" d=\"m 0.5 9.7 l 0.3 -0.3 h 1 l -0.3 0.3 z\" id=\"path1\" /> <path style=\"fill:#9ebd68;stroke:#000;stroke-width:0.05;stroke-linejoin:round\" d=\"m 0.5 9.7 m 1 0 l 0.3 -0.3 v 1 l -0.3 0.3 z\" id=\"path2\" /><rect style=\"fill:#e4ffae;fill-opacity:1;stroke:#000;stroke-width:0.05\" id=\"rect\" width=\"1\" height=\"1\" x=\"1.5\" y=\"9.7\"/> <path style=\"fill:#c6e590;stroke:#000;stroke-width:0.05;stroke-linejoin:round\" d=\"m 1.5 9.7 l 0.3 -0.3 h 1 l -0.3 0.3 z\" id=\"path1\" /> <path style=\"fill:#9ebd68;stroke:#000;stroke-width:0.05;stroke-linejoin:round\" d=\"m 1.5 9.7 m 1 0 l 0.3 -0.3 v 1 l -0.3 0.3 z\" id=\"path2\" /><rect style=\"fill:#e4ffae;fill-opacity:1;stroke:#000;stroke-width:0.05\" id=\"rect\" width=\"1\" height=\"1\" x=\"2.5\" y=\"9.7\"/> <path style=\"fill:#c6e590;stroke:#000;stroke-width:0.05;stroke-linejoin:round\" d=\"m 2.5 9.7 l 0.3 -0.3 h 1 l -0.3 0.3 z\" id=\"path1\" /> <path style=\"fill:#9ebd68;stroke:#000;stroke-width:0.05;stroke-linejoin:round\" d=\"m 2.5 9.7 m 1 0 l 0.3 -0.3 v 1 l -0.3 0.3 z\" id=\"path2\" /><rect style=\"fill:#e4ffae;fill-opacity:1;stroke:#000;stroke-width:0.05\" id=\"rect\" width=\"1\" height=\"1\" x=\"3.5\" y=\"9.7\"/> <path style=\"fill:#c6e590;stroke:#000;stroke-width:0.05;stroke-linejoin:round\" d=\"m 3.5 9.7 l 0.3 -0.3 h 1 l -0.3 0.3 z\" id=\"path1\" /> <path style=\"fill:#9ebd68;stroke:#000;stroke-width:0.05;stroke-linejoin:round\" d=\"m 3.5 9.7 m 1 0 l 0.3 -0.3 v 1 l -0.3 0.3 z\" id=\"path2\" /><rect style=\"fill:#e4ffae;fill-opacity:1;stroke:#000;stroke-width:0.05\" id=\"rect\" width=\"1\" height=\"1\" x=\"4.5\" y=\"9.7\"/> <path style=\"fill:#c6e590;stroke:#000;stroke-width:0.05;stroke-linejoin:round\" d=\"m 4.5 9.7 l 0.3 -0.3 h 1 l -0.3 0.3 z\" id=\"path1\" /> <path style=\"fill:#9ebd68;stroke:#000;stroke-width:0.05;stroke-linejoin:round\" d=\"m 4.5 9.7 m 1 0 l 0.3 -0.3 v 1 l -0.3 0.3 z\" id=\"path2\" /><rect style=\"fill:#e4ffae;fill-opacity:1;stroke:#000;stroke-width:0.05\" id=\"rect\" width=\"1\" height=\"1\" x=\"5.5\" y=\"9.7\"/> <path style=\"fill:#c6e590;stroke:#000;stroke-width:0.05;stroke-linejoin:round\" d=\"m 5.5 9.7 l 0.3 -0.3 h 1 l -0.3 0.3 z\" id=\"path1\" /> <path style=\"fill:#9ebd68;stroke:#000;stroke-width:0.05;stroke-linejoin:round\" d=\"m 5.5 9.7 m 1 0 l 0.3 -0.3 v 1 l -0.3 0.3 z\" id=\"path2\" /><rect style=\"fill:#e4ffae;fill-opacity:1;stroke:#000;stroke-width:0.05\" id=\"rect\" width=\"1\" height=\"1\" x=\"6.5\" y=\"9.7\"/> <path style=\"fill:#c6e590;stroke:#000;stroke-width:0.05;stroke-linejoin:round\" d=\"m 6.5 9.7 l 0.3 -0.3 h 1 l -0.3 0.3 z\" id=\"path1\" /> <path style=\"fill:#9ebd68;stroke:#000;stroke-width:0.05;stroke-linejoin:round\" d=\"m 6.5 9.7 m 1 0 l 0.3 -0.3 v 1 l -0.3 0.3 z\" id=\"path2\" /><rect style=\"fill:#e4ffae;fill-opacity:1;stroke:#000;stroke-width:0.05\" id=\"rect\" width=\"1\" height=\"1\" x=\"7.5\" y=\"9.7\"/> <path style=\"fill:#c6e590;stroke:#000;stroke-width:0.05;stroke-linejoin:round\" d=\"m 7.5 9.7 l 0.3 -0.3 h 1 l -0.3 0.3 z\" id=\"path1\" /> <path style=\"fill:#9ebd68;stroke:#000;stroke-width:0.05;stroke-linejoin:round\" d=\"m 7.5 9.7 m 1 0 l 0.3 -0.3 v 1 l -0.3 0.3 z\" id=\"path2\" /><rect style=\"fill:#e4ffae;fill-opacity:1;stroke:#000;stroke-width:0.05\" id=\"rect\" width=\"1\" height=\"1\" x=\"8.5\" y=\"9.7\"/> <path style=\"fill:#c6e590;stroke:#000;stroke-width:0.05;stroke-linejoin:round\" d=\"m 8.5 9.7 l 0.3 -0.3 h 1 l -0.3 0.3 z\" id=\"path1\" /> <path style=\"fill:#9ebd68;stroke:#000;stroke-width:0.05;stroke-linejoin:round\" d=\"m 8.5 9.7 m 1 0 l 0.3 -0.3 v 1 l -0.3 0.3 z\" id=\"path2\" /><rect style=\"fill:#e4ffae;fill-opacity:1;stroke:#000;stroke-width:0.05\" id=\"rect\" width=\"1\" height=\"1\" x=\"9.5\" y=\"9.7\"/> <path style=\"fill:#c6e590;stroke:#000;stroke-width:0.05;stroke-linejoin:round\" d=\"m 9.5 9.7 l 0.3 -0.3 h 1 l -0.3 0.3 z\" id=\"path1\" /> <path style=\"fill:#9ebd68;stroke:#000;stroke-width:0.05;stroke-linejoin:round\" d=\"m 9.5 9.7 m 1 0 l 0.3 -0.3 v 1 l -0.3 0.3 z\" id=\"path2\" /><rect style=\"fill:#e4ffae;fill-opacity:1;stroke:#000;stroke-width:0.05\" id=\"rect\" width=\"1\" height=\"1\" x=\"10.5\" y=\"9.7\"/> <path style=\"fill:#c6e590;stroke:#000;stroke-width:0.05;stroke-linejoin:round\" d=\"m 10.5 9.7 l 0.3 -0.3 h 1 l -0.3 0.3 z\" id=\"path1\" /> <path style=\"fill:#9ebd68;stroke:#000;stroke-width:0.05;stroke-linejoin:round\" d=\"m 10.5 9.7 m 1 0 l 0.3 -0.3 v 1 l -0.3 0.3 z\" id=\"path2\" /><rect style=\"fill:#e4ffae;fill-opacity:1;stroke:#000;stroke-width:0.05\" id=\"rect\" width=\"1\" height=\"1\" x=\"11.5\" y=\"9.7\"/> <path style=\"fill:#c6e590;stroke:#000;stroke-width:0.05;stroke-linejoin:round\" d=\"m 11.5 9.7 l 0.3 -0.3 h 1 l -0.3 0.3 z\" id=\"path1\" /> <path style=\"fill:#9ebd68;stroke:#000;stroke-width:0.05;stroke-linejoin:round\" d=\"m 11.5 9.7 m 1 0 l 0.3 -0.3 v 1 l -0.3 0.3 z\" id=\"path2\" /></g><text x=\"6.5\" y=\"11.059999999999999\"                         class=\"sc-label\"                          style=\"font-size:0.36px\">x</text></g></g></g></g><g transform=\"translate(13.3,6.2)\"></g><g transform=\"translate(0,6.2)\"></g><g transform=\"translate(0,6.2)\"></g><g transform=\"translate(0,6.2)\"><g><text x=\"0\" y=\"0.6\"                     class=\"sc-name\" style=\"font-size:0.6px\">                     id</text><title>id(dims=(&#x27;panel&#x27;, &#x27;id&#x27;), shape=(3, 1638400), unit=None, variances=False)</title><g><title>values</title><rect style=\"fill:#e4ffae;fill-opacity:1;stroke:#000;stroke-width:0.05\" id=\"rect\" width=\"1\" height=\"1\" x=\"0.5\" y=\"3.3\"/> <path style=\"fill:#c6e590;stroke:#000;stroke-width:0.05;stroke-linejoin:round\" d=\"m 0.5 3.3 l 0.3 -0.3 h 1 l -0.3 0.3 z\" id=\"path1\" /> <path style=\"fill:#9ebd68;stroke:#000;stroke-width:0.05;stroke-linejoin:round\" d=\"m 0.5 3.3 m 1 0 l 0.3 -0.3 v 1 l -0.3 0.3 z\" id=\"path2\" /><rect style=\"fill:#e4ffae;fill-opacity:1;stroke:#000;stroke-width:0.05\" id=\"rect\" width=\"1\" height=\"1\" x=\"1.5\" y=\"3.3\"/> <path style=\"fill:#c6e590;stroke:#000;stroke-width:0.05;stroke-linejoin:round\" d=\"m 1.5 3.3 l 0.3 -0.3 h 1 l -0.3 0.3 z\" id=\"path1\" /> <path style=\"fill:#9ebd68;stroke:#000;stroke-width:0.05;stroke-linejoin:round\" d=\"m 1.5 3.3 m 1 0 l 0.3 -0.3 v 1 l -0.3 0.3 z\" id=\"path2\" /><rect style=\"fill:#e4ffae;fill-opacity:1;stroke:#000;stroke-width:0.05\" id=\"rect\" width=\"1\" height=\"1\" x=\"2.5\" y=\"3.3\"/> <path style=\"fill:#c6e590;stroke:#000;stroke-width:0.05;stroke-linejoin:round\" d=\"m 2.5 3.3 l 0.3 -0.3 h 1 l -0.3 0.3 z\" id=\"path1\" /> <path style=\"fill:#9ebd68;stroke:#000;stroke-width:0.05;stroke-linejoin:round\" d=\"m 2.5 3.3 m 1 0 l 0.3 -0.3 v 1 l -0.3 0.3 z\" id=\"path2\" /><rect style=\"fill:#e4ffae;fill-opacity:1;stroke:#000;stroke-width:0.05\" id=\"rect\" width=\"1\" height=\"1\" x=\"3.5\" y=\"3.3\"/> <path style=\"fill:#c6e590;stroke:#000;stroke-width:0.05;stroke-linejoin:round\" d=\"m 3.5 3.3 l 0.3 -0.3 h 1 l -0.3 0.3 z\" id=\"path1\" /> <path style=\"fill:#9ebd68;stroke:#000;stroke-width:0.05;stroke-linejoin:round\" d=\"m 3.5 3.3 m 1 0 l 0.3 -0.3 v 1 l -0.3 0.3 z\" id=\"path2\" /><rect style=\"fill:#e4ffae;fill-opacity:1;stroke:#000;stroke-width:0.05\" id=\"rect\" width=\"1\" height=\"1\" x=\"4.5\" y=\"3.3\"/> <path style=\"fill:#c6e590;stroke:#000;stroke-width:0.05;stroke-linejoin:round\" d=\"m 4.5 3.3 l 0.3 -0.3 h 1 l -0.3 0.3 z\" id=\"path1\" /> <path style=\"fill:#9ebd68;stroke:#000;stroke-width:0.05;stroke-linejoin:round\" d=\"m 4.5 3.3 m 1 0 l 0.3 -0.3 v 1 l -0.3 0.3 z\" id=\"path2\" /><rect style=\"fill:#e4ffae;fill-opacity:1;stroke:#000;stroke-width:0.05\" id=\"rect\" width=\"1\" height=\"1\" x=\"5.5\" y=\"3.3\"/> <path style=\"fill:#c6e590;stroke:#000;stroke-width:0.05;stroke-linejoin:round\" d=\"m 5.5 3.3 l 0.3 -0.3 h 1 l -0.3 0.3 z\" id=\"path1\" /> <path style=\"fill:#9ebd68;stroke:#000;stroke-width:0.05;stroke-linejoin:round\" d=\"m 5.5 3.3 m 1 0 l 0.3 -0.3 v 1 l -0.3 0.3 z\" id=\"path2\" /><rect style=\"fill:#e4ffae;fill-opacity:1;stroke:#000;stroke-width:0.05\" id=\"rect\" width=\"1\" height=\"1\" x=\"6.5\" y=\"3.3\"/> <path style=\"fill:#c6e590;stroke:#000;stroke-width:0.05;stroke-linejoin:round\" d=\"m 6.5 3.3 l 0.3 -0.3 h 1 l -0.3 0.3 z\" id=\"path1\" /> <path style=\"fill:#9ebd68;stroke:#000;stroke-width:0.05;stroke-linejoin:round\" d=\"m 6.5 3.3 m 1 0 l 0.3 -0.3 v 1 l -0.3 0.3 z\" id=\"path2\" /><rect style=\"fill:#e4ffae;fill-opacity:1;stroke:#000;stroke-width:0.05\" id=\"rect\" width=\"1\" height=\"1\" x=\"7.5\" y=\"3.3\"/> <path style=\"fill:#c6e590;stroke:#000;stroke-width:0.05;stroke-linejoin:round\" d=\"m 7.5 3.3 l 0.3 -0.3 h 1 l -0.3 0.3 z\" id=\"path1\" /> <path style=\"fill:#9ebd68;stroke:#000;stroke-width:0.05;stroke-linejoin:round\" d=\"m 7.5 3.3 m 1 0 l 0.3 -0.3 v 1 l -0.3 0.3 z\" id=\"path2\" /><rect style=\"fill:#e4ffae;fill-opacity:1;stroke:#000;stroke-width:0.05\" id=\"rect\" width=\"1\" height=\"1\" x=\"8.5\" y=\"3.3\"/> <path style=\"fill:#c6e590;stroke:#000;stroke-width:0.05;stroke-linejoin:round\" d=\"m 8.5 3.3 l 0.3 -0.3 h 1 l -0.3 0.3 z\" id=\"path1\" /> <path style=\"fill:#9ebd68;stroke:#000;stroke-width:0.05;stroke-linejoin:round\" d=\"m 8.5 3.3 m 1 0 l 0.3 -0.3 v 1 l -0.3 0.3 z\" id=\"path2\" /><rect style=\"fill:#e4ffae;fill-opacity:1;stroke:#000;stroke-width:0.05\" id=\"rect\" width=\"1\" height=\"1\" x=\"9.5\" y=\"3.3\"/> <path style=\"fill:#c6e590;stroke:#000;stroke-width:0.05;stroke-linejoin:round\" d=\"m 9.5 3.3 l 0.3 -0.3 h 1 l -0.3 0.3 z\" id=\"path1\" /> <path style=\"fill:#9ebd68;stroke:#000;stroke-width:0.05;stroke-linejoin:round\" d=\"m 9.5 3.3 m 1 0 l 0.3 -0.3 v 1 l -0.3 0.3 z\" id=\"path2\" /><rect style=\"fill:#e4ffae;fill-opacity:1;stroke:#000;stroke-width:0.05\" id=\"rect\" width=\"1\" height=\"1\" x=\"10.5\" y=\"3.3\"/> <path style=\"fill:#c6e590;stroke:#000;stroke-width:0.05;stroke-linejoin:round\" d=\"m 10.5 3.3 l 0.3 -0.3 h 1 l -0.3 0.3 z\" id=\"path1\" /> <path style=\"fill:#9ebd68;stroke:#000;stroke-width:0.05;stroke-linejoin:round\" d=\"m 10.5 3.3 m 1 0 l 0.3 -0.3 v 1 l -0.3 0.3 z\" id=\"path2\" /><rect style=\"fill:#e4ffae;fill-opacity:1;stroke:#000;stroke-width:0.05\" id=\"rect\" width=\"1\" height=\"1\" x=\"11.5\" y=\"3.3\"/> <path style=\"fill:#c6e590;stroke:#000;stroke-width:0.05;stroke-linejoin:round\" d=\"m 11.5 3.3 l 0.3 -0.3 h 1 l -0.3 0.3 z\" id=\"path1\" /> <path style=\"fill:#9ebd68;stroke:#000;stroke-width:0.05;stroke-linejoin:round\" d=\"m 11.5 3.3 m 1 0 l 0.3 -0.3 v 1 l -0.3 0.3 z\" id=\"path2\" /><rect style=\"fill:#e4ffae;fill-opacity:1;stroke:#000;stroke-width:0.05\" id=\"rect\" width=\"1\" height=\"1\" x=\"0.5\" y=\"2.3\"/> <path style=\"fill:#c6e590;stroke:#000;stroke-width:0.05;stroke-linejoin:round\" d=\"m 0.5 2.3 l 0.3 -0.3 h 1 l -0.3 0.3 z\" id=\"path1\" /> <path style=\"fill:#9ebd68;stroke:#000;stroke-width:0.05;stroke-linejoin:round\" d=\"m 0.5 2.3 m 1 0 l 0.3 -0.3 v 1 l -0.3 0.3 z\" id=\"path2\" /><rect style=\"fill:#e4ffae;fill-opacity:1;stroke:#000;stroke-width:0.05\" id=\"rect\" width=\"1\" height=\"1\" x=\"1.5\" y=\"2.3\"/> <path style=\"fill:#c6e590;stroke:#000;stroke-width:0.05;stroke-linejoin:round\" d=\"m 1.5 2.3 l 0.3 -0.3 h 1 l -0.3 0.3 z\" id=\"path1\" /> <path style=\"fill:#9ebd68;stroke:#000;stroke-width:0.05;stroke-linejoin:round\" d=\"m 1.5 2.3 m 1 0 l 0.3 -0.3 v 1 l -0.3 0.3 z\" id=\"path2\" /><rect style=\"fill:#e4ffae;fill-opacity:1;stroke:#000;stroke-width:0.05\" id=\"rect\" width=\"1\" height=\"1\" x=\"2.5\" y=\"2.3\"/> <path style=\"fill:#c6e590;stroke:#000;stroke-width:0.05;stroke-linejoin:round\" d=\"m 2.5 2.3 l 0.3 -0.3 h 1 l -0.3 0.3 z\" id=\"path1\" /> <path style=\"fill:#9ebd68;stroke:#000;stroke-width:0.05;stroke-linejoin:round\" d=\"m 2.5 2.3 m 1 0 l 0.3 -0.3 v 1 l -0.3 0.3 z\" id=\"path2\" /><rect style=\"fill:#e4ffae;fill-opacity:1;stroke:#000;stroke-width:0.05\" id=\"rect\" width=\"1\" height=\"1\" x=\"3.5\" y=\"2.3\"/> <path style=\"fill:#c6e590;stroke:#000;stroke-width:0.05;stroke-linejoin:round\" d=\"m 3.5 2.3 l 0.3 -0.3 h 1 l -0.3 0.3 z\" id=\"path1\" /> <path style=\"fill:#9ebd68;stroke:#000;stroke-width:0.05;stroke-linejoin:round\" d=\"m 3.5 2.3 m 1 0 l 0.3 -0.3 v 1 l -0.3 0.3 z\" id=\"path2\" /><rect style=\"fill:#e4ffae;fill-opacity:1;stroke:#000;stroke-width:0.05\" id=\"rect\" width=\"1\" height=\"1\" x=\"4.5\" y=\"2.3\"/> <path style=\"fill:#c6e590;stroke:#000;stroke-width:0.05;stroke-linejoin:round\" d=\"m 4.5 2.3 l 0.3 -0.3 h 1 l -0.3 0.3 z\" id=\"path1\" /> <path style=\"fill:#9ebd68;stroke:#000;stroke-width:0.05;stroke-linejoin:round\" d=\"m 4.5 2.3 m 1 0 l 0.3 -0.3 v 1 l -0.3 0.3 z\" id=\"path2\" /><rect style=\"fill:#e4ffae;fill-opacity:1;stroke:#000;stroke-width:0.05\" id=\"rect\" width=\"1\" height=\"1\" x=\"5.5\" y=\"2.3\"/> <path style=\"fill:#c6e590;stroke:#000;stroke-width:0.05;stroke-linejoin:round\" d=\"m 5.5 2.3 l 0.3 -0.3 h 1 l -0.3 0.3 z\" id=\"path1\" /> <path style=\"fill:#9ebd68;stroke:#000;stroke-width:0.05;stroke-linejoin:round\" d=\"m 5.5 2.3 m 1 0 l 0.3 -0.3 v 1 l -0.3 0.3 z\" id=\"path2\" /><rect style=\"fill:#e4ffae;fill-opacity:1;stroke:#000;stroke-width:0.05\" id=\"rect\" width=\"1\" height=\"1\" x=\"6.5\" y=\"2.3\"/> <path style=\"fill:#c6e590;stroke:#000;stroke-width:0.05;stroke-linejoin:round\" d=\"m 6.5 2.3 l 0.3 -0.3 h 1 l -0.3 0.3 z\" id=\"path1\" /> <path style=\"fill:#9ebd68;stroke:#000;stroke-width:0.05;stroke-linejoin:round\" d=\"m 6.5 2.3 m 1 0 l 0.3 -0.3 v 1 l -0.3 0.3 z\" id=\"path2\" /><rect style=\"fill:#e4ffae;fill-opacity:1;stroke:#000;stroke-width:0.05\" id=\"rect\" width=\"1\" height=\"1\" x=\"7.5\" y=\"2.3\"/> <path style=\"fill:#c6e590;stroke:#000;stroke-width:0.05;stroke-linejoin:round\" d=\"m 7.5 2.3 l 0.3 -0.3 h 1 l -0.3 0.3 z\" id=\"path1\" /> <path style=\"fill:#9ebd68;stroke:#000;stroke-width:0.05;stroke-linejoin:round\" d=\"m 7.5 2.3 m 1 0 l 0.3 -0.3 v 1 l -0.3 0.3 z\" id=\"path2\" /><rect style=\"fill:#e4ffae;fill-opacity:1;stroke:#000;stroke-width:0.05\" id=\"rect\" width=\"1\" height=\"1\" x=\"8.5\" y=\"2.3\"/> <path style=\"fill:#c6e590;stroke:#000;stroke-width:0.05;stroke-linejoin:round\" d=\"m 8.5 2.3 l 0.3 -0.3 h 1 l -0.3 0.3 z\" id=\"path1\" /> <path style=\"fill:#9ebd68;stroke:#000;stroke-width:0.05;stroke-linejoin:round\" d=\"m 8.5 2.3 m 1 0 l 0.3 -0.3 v 1 l -0.3 0.3 z\" id=\"path2\" /><rect style=\"fill:#e4ffae;fill-opacity:1;stroke:#000;stroke-width:0.05\" id=\"rect\" width=\"1\" height=\"1\" x=\"9.5\" y=\"2.3\"/> <path style=\"fill:#c6e590;stroke:#000;stroke-width:0.05;stroke-linejoin:round\" d=\"m 9.5 2.3 l 0.3 -0.3 h 1 l -0.3 0.3 z\" id=\"path1\" /> <path style=\"fill:#9ebd68;stroke:#000;stroke-width:0.05;stroke-linejoin:round\" d=\"m 9.5 2.3 m 1 0 l 0.3 -0.3 v 1 l -0.3 0.3 z\" id=\"path2\" /><rect style=\"fill:#e4ffae;fill-opacity:1;stroke:#000;stroke-width:0.05\" id=\"rect\" width=\"1\" height=\"1\" x=\"10.5\" y=\"2.3\"/> <path style=\"fill:#c6e590;stroke:#000;stroke-width:0.05;stroke-linejoin:round\" d=\"m 10.5 2.3 l 0.3 -0.3 h 1 l -0.3 0.3 z\" id=\"path1\" /> <path style=\"fill:#9ebd68;stroke:#000;stroke-width:0.05;stroke-linejoin:round\" d=\"m 10.5 2.3 m 1 0 l 0.3 -0.3 v 1 l -0.3 0.3 z\" id=\"path2\" /><rect style=\"fill:#e4ffae;fill-opacity:1;stroke:#000;stroke-width:0.05\" id=\"rect\" width=\"1\" height=\"1\" x=\"11.5\" y=\"2.3\"/> <path style=\"fill:#c6e590;stroke:#000;stroke-width:0.05;stroke-linejoin:round\" d=\"m 11.5 2.3 l 0.3 -0.3 h 1 l -0.3 0.3 z\" id=\"path1\" /> <path style=\"fill:#9ebd68;stroke:#000;stroke-width:0.05;stroke-linejoin:round\" d=\"m 11.5 2.3 m 1 0 l 0.3 -0.3 v 1 l -0.3 0.3 z\" id=\"path2\" /><rect style=\"fill:#e4ffae;fill-opacity:1;stroke:#000;stroke-width:0.05\" id=\"rect\" width=\"1\" height=\"1\" x=\"0.5\" y=\"1.3\"/> <path style=\"fill:#c6e590;stroke:#000;stroke-width:0.05;stroke-linejoin:round\" d=\"m 0.5 1.3 l 0.3 -0.3 h 1 l -0.3 0.3 z\" id=\"path1\" /> <path style=\"fill:#9ebd68;stroke:#000;stroke-width:0.05;stroke-linejoin:round\" d=\"m 0.5 1.3 m 1 0 l 0.3 -0.3 v 1 l -0.3 0.3 z\" id=\"path2\" /><rect style=\"fill:#e4ffae;fill-opacity:1;stroke:#000;stroke-width:0.05\" id=\"rect\" width=\"1\" height=\"1\" x=\"1.5\" y=\"1.3\"/> <path style=\"fill:#c6e590;stroke:#000;stroke-width:0.05;stroke-linejoin:round\" d=\"m 1.5 1.3 l 0.3 -0.3 h 1 l -0.3 0.3 z\" id=\"path1\" /> <path style=\"fill:#9ebd68;stroke:#000;stroke-width:0.05;stroke-linejoin:round\" d=\"m 1.5 1.3 m 1 0 l 0.3 -0.3 v 1 l -0.3 0.3 z\" id=\"path2\" /><rect style=\"fill:#e4ffae;fill-opacity:1;stroke:#000;stroke-width:0.05\" id=\"rect\" width=\"1\" height=\"1\" x=\"2.5\" y=\"1.3\"/> <path style=\"fill:#c6e590;stroke:#000;stroke-width:0.05;stroke-linejoin:round\" d=\"m 2.5 1.3 l 0.3 -0.3 h 1 l -0.3 0.3 z\" id=\"path1\" /> <path style=\"fill:#9ebd68;stroke:#000;stroke-width:0.05;stroke-linejoin:round\" d=\"m 2.5 1.3 m 1 0 l 0.3 -0.3 v 1 l -0.3 0.3 z\" id=\"path2\" /><rect style=\"fill:#e4ffae;fill-opacity:1;stroke:#000;stroke-width:0.05\" id=\"rect\" width=\"1\" height=\"1\" x=\"3.5\" y=\"1.3\"/> <path style=\"fill:#c6e590;stroke:#000;stroke-width:0.05;stroke-linejoin:round\" d=\"m 3.5 1.3 l 0.3 -0.3 h 1 l -0.3 0.3 z\" id=\"path1\" /> <path style=\"fill:#9ebd68;stroke:#000;stroke-width:0.05;stroke-linejoin:round\" d=\"m 3.5 1.3 m 1 0 l 0.3 -0.3 v 1 l -0.3 0.3 z\" id=\"path2\" /><rect style=\"fill:#e4ffae;fill-opacity:1;stroke:#000;stroke-width:0.05\" id=\"rect\" width=\"1\" height=\"1\" x=\"4.5\" y=\"1.3\"/> <path style=\"fill:#c6e590;stroke:#000;stroke-width:0.05;stroke-linejoin:round\" d=\"m 4.5 1.3 l 0.3 -0.3 h 1 l -0.3 0.3 z\" id=\"path1\" /> <path style=\"fill:#9ebd68;stroke:#000;stroke-width:0.05;stroke-linejoin:round\" d=\"m 4.5 1.3 m 1 0 l 0.3 -0.3 v 1 l -0.3 0.3 z\" id=\"path2\" /><rect style=\"fill:#e4ffae;fill-opacity:1;stroke:#000;stroke-width:0.05\" id=\"rect\" width=\"1\" height=\"1\" x=\"5.5\" y=\"1.3\"/> <path style=\"fill:#c6e590;stroke:#000;stroke-width:0.05;stroke-linejoin:round\" d=\"m 5.5 1.3 l 0.3 -0.3 h 1 l -0.3 0.3 z\" id=\"path1\" /> <path style=\"fill:#9ebd68;stroke:#000;stroke-width:0.05;stroke-linejoin:round\" d=\"m 5.5 1.3 m 1 0 l 0.3 -0.3 v 1 l -0.3 0.3 z\" id=\"path2\" /><rect style=\"fill:#e4ffae;fill-opacity:1;stroke:#000;stroke-width:0.05\" id=\"rect\" width=\"1\" height=\"1\" x=\"6.5\" y=\"1.3\"/> <path style=\"fill:#c6e590;stroke:#000;stroke-width:0.05;stroke-linejoin:round\" d=\"m 6.5 1.3 l 0.3 -0.3 h 1 l -0.3 0.3 z\" id=\"path1\" /> <path style=\"fill:#9ebd68;stroke:#000;stroke-width:0.05;stroke-linejoin:round\" d=\"m 6.5 1.3 m 1 0 l 0.3 -0.3 v 1 l -0.3 0.3 z\" id=\"path2\" /><rect style=\"fill:#e4ffae;fill-opacity:1;stroke:#000;stroke-width:0.05\" id=\"rect\" width=\"1\" height=\"1\" x=\"7.5\" y=\"1.3\"/> <path style=\"fill:#c6e590;stroke:#000;stroke-width:0.05;stroke-linejoin:round\" d=\"m 7.5 1.3 l 0.3 -0.3 h 1 l -0.3 0.3 z\" id=\"path1\" /> <path style=\"fill:#9ebd68;stroke:#000;stroke-width:0.05;stroke-linejoin:round\" d=\"m 7.5 1.3 m 1 0 l 0.3 -0.3 v 1 l -0.3 0.3 z\" id=\"path2\" /><rect style=\"fill:#e4ffae;fill-opacity:1;stroke:#000;stroke-width:0.05\" id=\"rect\" width=\"1\" height=\"1\" x=\"8.5\" y=\"1.3\"/> <path style=\"fill:#c6e590;stroke:#000;stroke-width:0.05;stroke-linejoin:round\" d=\"m 8.5 1.3 l 0.3 -0.3 h 1 l -0.3 0.3 z\" id=\"path1\" /> <path style=\"fill:#9ebd68;stroke:#000;stroke-width:0.05;stroke-linejoin:round\" d=\"m 8.5 1.3 m 1 0 l 0.3 -0.3 v 1 l -0.3 0.3 z\" id=\"path2\" /><rect style=\"fill:#e4ffae;fill-opacity:1;stroke:#000;stroke-width:0.05\" id=\"rect\" width=\"1\" height=\"1\" x=\"9.5\" y=\"1.3\"/> <path style=\"fill:#c6e590;stroke:#000;stroke-width:0.05;stroke-linejoin:round\" d=\"m 9.5 1.3 l 0.3 -0.3 h 1 l -0.3 0.3 z\" id=\"path1\" /> <path style=\"fill:#9ebd68;stroke:#000;stroke-width:0.05;stroke-linejoin:round\" d=\"m 9.5 1.3 m 1 0 l 0.3 -0.3 v 1 l -0.3 0.3 z\" id=\"path2\" /><rect style=\"fill:#e4ffae;fill-opacity:1;stroke:#000;stroke-width:0.05\" id=\"rect\" width=\"1\" height=\"1\" x=\"10.5\" y=\"1.3\"/> <path style=\"fill:#c6e590;stroke:#000;stroke-width:0.05;stroke-linejoin:round\" d=\"m 10.5 1.3 l 0.3 -0.3 h 1 l -0.3 0.3 z\" id=\"path1\" /> <path style=\"fill:#9ebd68;stroke:#000;stroke-width:0.05;stroke-linejoin:round\" d=\"m 10.5 1.3 m 1 0 l 0.3 -0.3 v 1 l -0.3 0.3 z\" id=\"path2\" /><rect style=\"fill:#e4ffae;fill-opacity:1;stroke:#000;stroke-width:0.05\" id=\"rect\" width=\"1\" height=\"1\" x=\"11.5\" y=\"1.3\"/> <path style=\"fill:#c6e590;stroke:#000;stroke-width:0.05;stroke-linejoin:round\" d=\"m 11.5 1.3 l 0.3 -0.3 h 1 l -0.3 0.3 z\" id=\"path1\" /> <path style=\"fill:#9ebd68;stroke:#000;stroke-width:0.05;stroke-linejoin:round\" d=\"m 11.5 1.3 m 1 0 l 0.3 -0.3 v 1 l -0.3 0.3 z\" id=\"path2\" /></g><text x=\"0.392\" y=\"2.8\"                     class=\"sc-label\" style=\"font-size:0.36px\"                     transform=\"rotate(-90, 0.392, 2.8)\">                        panel</text><text x=\"6.5\" y=\"4.66\"                         class=\"sc-label\"                          style=\"font-size:0.36px\">id</text></g></g></svg>"
      ],
      "text/plain": [
       "<IPython.core.display.HTML object>"
      ]
     },
     "metadata": {},
     "output_type": "display_data"
    }
   ],
   "source": [
    "sc.show(da3)"
   ]
  },
  {
   "attachments": {},
   "cell_type": "markdown",
   "metadata": {},
   "source": [
    "nning in x and y"
   ]
  },
  {
   "cell_type": "code",
   "execution_count": 26,
   "metadata": {},
   "outputs": [
    {
     "data": {
      "text/html": [
       "<div><!-- Original source from -->\n",
       "<!-- https://github.com/jsignell/xarray/blob/1d960933ab252e0f79f7e050e6c9261d55568057/xarray/static/html/icons-svg-inline.html -->\n",
       "<svg style=\"position: absolute; width: 0; height: 0; overflow: hidden\">\n",
       "<defs>\n",
       "<symbol id=\"icon-database\" viewBox=\"0 0 32 32\">\n",
       "<title>Show/Hide data repr</title>\n",
       "<path d=\"M16 0c-8.837 0-16 2.239-16 5v4c0 2.761 7.163 5 16 5s16-2.239 16-5v-4c0-2.761-7.163-5-16-5z\"></path>\n",
       "<path d=\"M16 17c-8.837 0-16-2.239-16-5v6c0 2.761 7.163 5 16 5s16-2.239 16-5v-6c0 2.761-7.163 5-16 5z\"></path>\n",
       "<path d=\"M16 26c-8.837 0-16-2.239-16-5v6c0 2.761 7.163 5 16 5s16-2.239 16-5v-6c0 2.761-7.163 5-16 5z\"></path>\n",
       "</symbol>\n",
       "<symbol id=\"icon-file-text2\" viewBox=\"0 0 32 32\">\n",
       "<title>Show/Hide attributes</title>\n",
       "<path d=\"M28.681 7.159c-0.694-0.947-1.662-2.053-2.724-3.116s-2.169-2.030-3.116-2.724c-1.612-1.182-2.393-1.319-2.841-1.319h-15.5c-1.378 0-2.5 1.121-2.5 2.5v27c0 1.378 1.122 2.5 2.5 2.5h23c1.378 0 2.5-1.122 2.5-2.5v-19.5c0-0.448-0.137-1.23-1.319-2.841zM24.543 5.457c0.959 0.959 1.712 1.825 2.268 2.543h-4.811v-4.811c0.718 0.556 1.584 1.309 2.543 2.268zM28 29.5c0 0.271-0.229 0.5-0.5 0.5h-23c-0.271 0-0.5-0.229-0.5-0.5v-27c0-0.271 0.229-0.5 0.5-0.5 0 0 15.499-0 15.5 0v7c0 0.552 0.448 1 1 1h7v19.5z\"></path>\n",
       "<path d=\"M23 26h-14c-0.552 0-1-0.448-1-1s0.448-1 1-1h14c0.552 0 1 0.448 1 1s-0.448 1-1 1z\"></path>\n",
       "<path d=\"M23 22h-14c-0.552 0-1-0.448-1-1s0.448-1 1-1h14c0.552 0 1 0.448 1 1s-0.448 1-1 1z\"></path>\n",
       "<path d=\"M23 18h-14c-0.552 0-1-0.448-1-1s0.448-1 1-1h14c0.552 0 1 0.448 1 1s-0.448 1-1 1z\"></path>\n",
       "</symbol>\n",
       "</defs>\n",
       "</svg><style id=\"scipp-style-sheet\">.sc-root{--sc-background-color0:var(--jp-layout-color0,#fff);--sc-background-color1:var(--jp-layout-color1,#fcfcfc);--sc-background-color2:var(--jp-layout-color2,#efefef);--sc-inverse-background-color0:var(--jp-inverse-layout-color4,#111);--sc-font-color0:var(--jp-content-font-color0,#000);--sc-font-color1:var(--jp-content-font-color1,#555);--sc-font-color2:var(--jp-content-font-color2,#888);--sc-font-color3:var(--jp-content-font-color3,#ccc);--sc-table-data-color:#f6d028;--sc-table-coords-color:#c6e590;--sc-table-masks-color:#c8c8c8;--sc-table-attrs-color:#ff5555;--sc-table-header-font-color:#111111;}.sc-wrap{font-size:14px;min-width:300px;max-width:800px;}.sc-var-attrs .sc-wrap{padding-left:3em;}.sc-header{padding-top:6px;padding-bottom:6px;margin-bottom:4px;border-bottom:solid 1px #ddd;}.sc-header > div,.sc-header > ul{display:inline;margin-top:0;margin-bottom:0;}.sc-obj-type,.sc-array-name{margin-left:2px;margin-right:10px;}.sc-obj-type{color:var(--sc-font-color1);}.sc-underlying-size{color:var(--sc-font-color2);}.sc-sections,.reveal .sc-sections{padding-left:0 !important;display:grid;grid-template-columns:150px auto auto auto 1fr 20px 20px;}.sc-section-item{display:contents;}.sc-section-item input{display:none;}.sc-section-item input:enabled + label{cursor:pointer;color:var(--sc-font-color1);}.sc-section-item input:enabled + label:hover{color:var(--sc-font-color0);}.sc-section-summary{grid-column:1;font-weight:500;}.sc-section-summary > span{display:inline-block;padding-left:0.5em;}.sc-section-summary-in:disabled + label{color:var(--sc-font-color1);}.sc-section-summary-in + label:before{display:inline-block;content:'►';font-size:11px;width:15px;text-align:center;}.sc-section-summary-in:disabled + label:before{color:var(--sc-font-color3);}.sc-section-summary-in:checked + label:before{content:'▼';}.sc-section-summary-in:checked + label > span{display:none;}.sc-section-summary,.sc-section-inline-details{padding-top:4px;padding-bottom:4px;}.sc-section-inline-details{grid-column:2 / 6;}.sc-section-details{display:none;grid-column:1 / -1;margin-bottom:5px;}.sc-section-summary-in:checked ~ .sc-section-details{display:contents;}.sc-array-wrap{grid-column:1 / -1;display:grid;grid-template-columns:20px auto;}.sc-array-wrap > label{grid-column:1;vertical-align:top;}.sc-preview{color:var(--sc-font-color2);}.sc-array-preview,.sc-array-data{padding:0 5px !important;grid-column:2;}.sc-array-data,.sc-array-in:checked ~ .sc-array-preview{display:none;}.sc-array-in:checked ~ .sc-array-data,.sc-array-preview{display:inline-block;}.sc-dim-list{display:inline-block !important;list-style:none;padding:0 !important;margin:0;}.sc-dim-list li{display:inline-block;padding:0;margin:0!important;}.sc-dim-list:before{content:'(';}.sc-dim-list:after{content:')';}.sc-dim-list li:not(:last-child):after{content:',';padding-right:5px;}.sc-has-index{font-weight:bold;}.sc-var-list,.sc-var-item,.reveal .sc-var-list,.reveal .sc-var-item{display:contents;}.sc-var-item > div,.sc-var-item label,.sc-var-item > .sc-var-name span{background-color:var(--sc-background-color1);margin-bottom:0;}.sc-var-item > .sc-var-name:hover span{padding-right:5px;}.sc-var-list > li:nth-child(odd) > div,.sc-var-list > li:nth-child(odd) > label,.sc-var-list > li:nth-child(odd) > .sc-var-name span{background-color:var(--sc-background-color2);}.sc-var-name{grid-column:1;}.sc-var-dims{grid-column:2;}.sc-var-dtype{grid-column:3;text-align:right;color:var(--sc-font-color2);}.sc-var-unit{grid-column:4;text-align:left;color:var(--sc-font-color1);max-width:50pt;text-overflow:ellipsis;}.sc-value-preview{grid-column:5;}.sc-var-preview-variances{text-align:right;}.sc-sections .sc-section-item .sc-section-summary,.sc-sections .sc-section-item .sc-section-inline-details,.sc-section-item .sc-var-list .sc-var-item > div,.sc-section-item .sc-var-list .sc-var-item > label,.sc-section-details .sc-var-list .sc-var-item > div,.sc-section-details .sc-var-list .sc-var-item > label{margin-top:0;margin-bottom:0;}.sc-var-name,.sc-var-dims,.sc-var-dtype,.sc-var-unit,.sc-preview,.sc-attrs dt{white-space:nowrap;overflow:hidden;text-overflow:ellipsis;padding-right:10px;}.sc-var-name:hover,.sc-var-dims:hover,.sc-var-dtype:hover,.sc-var-unit:hover,.sc-attrs dt:hover{overflow:visible;width:auto;z-index:1;}.sc-var-attrs{display:block;}.sc-var-data,.reveal .sc-var-data{display:none;}.sc-var-attrs,.sc-var-data{background-color:var(--sc-background-color0) !important;padding-bottom:5px !important;}.sc-var-attrs-in:checked ~ .sc-var-attrs{display:none;}.sc-var-data-in:checked ~ .sc-var-data{display:block;}.sc-var-data > table{float:right;}.sc-var-name span,.sc-var-data{padding-left:25px !important;}.sc-var-attrs,.sc-var-data{grid-column:1 / -1;}dl.sc-attrs{padding:0;margin:0;display:grid;grid-template-columns:125px auto;}.sc-attrs dt,dd{padding:0;margin:0;float:left;padding-right:10px;width:auto;}.sc-attrs dt{font-weight:normal;grid-column:1;}.sc-attrs dt:hover span{display:inline-block;padding-right:10px;}.sc-attrs dd{grid-column:2;white-space:pre-wrap;word-break:break-all;}.sc-icon-database,.sc-icon-file-text2{display:inline-block;vertical-align:middle;width:1em;height:1.5em !important;stroke-width:0;stroke:currentColor;fill:currentColor;}label.sc-hide-icon svg{opacity:0;}.sc-standalone-var-name{grid-column:1/3;}.sc-standalone-var-name span{padding-left:25px;padding-right:10px;}.sc-table{border-collapse:collapse;}.sc-title{font-weight:bold;font-size:1.5em;}.sc-subtitle{font-weight:normal;font-style:italic;text-align:left;font-size:1.2em;padding:1px;}.sc-table th,.sc-table td{border:1px solid var(--sc-inverse-background-color0);padding:0 5px 0 5px;}.sc-table th{text-align:center;}.sc-table tr{background-color:var(--sc-background-color1);text-align:right;}.sc-table tr:hover{background-color:var(--sc-background-color2);}.sc-table th.sc-data{background-color:var(--sc-table-data-color);color:var(--sc-table-header-font-color);}.sc-table th.sc-coords{background-color:var(--sc-table-coords-color);color:var(--sc-table-header-font-color);}.sc-table th.sc-masks{background-color:var(--sc-table-masks-color);color:var(--sc-table-header-font-color);}.sc-table th.sc-attrs{background-color:var(--sc-table-attrs-color);color:var(--sc-table-header-font-color);}.sc-table th.sc-subheader{background-color:var(--sc-background-color2);}.sc-table td.sc-padding{background-color:var(--sc-background-color1);border:0 solid var(--sc-background-color1);height:1.2em;}.sc-label{fill:var(--sc-font-color0,#444444);text-anchor:middle;}.sc-name{fill:var(--sc-font-color0,#111111);}.sc-inset-line{stroke:var(--sc-font-color1);stroke-width:0.05;stroke-dasharray:0.2,0.2;}.sc-log-wrap{height:25ex;resize:vertical;overflow-y:scroll;display:flex;flex-direction:column-reverse;border:1px solid;border-color:var(--jp-border-color2);background-color:var(--sc-background-color1);}div.sc-log{line-height:2.5ex;}table.sc-log{table-layout:auto;border-collapse:collapse;}tr.sc-log:nth-child(even){background-color:var(--sc-background-color0);}tr.sc-log > td{vertical-align:top;padding-bottom:0.5ex;}.sc-log-time-stamp{min-width:22ch;font-family:var(--jp-code-font-family);color:var(--sc-font-color2);}.sc-log-level{min-width:10ch;}tr.sc-log-debug td.sc-log-level{color:var(--jp-accent-color1);}tr.sc-log-info td.sc-log-level{color:var(--jp-info-color1);}tr.sc-log-warning td.sc-log-level{color:var(--jp-warn-color1);}tr.sc-log-error td.sc-log-level{font-weight:bold;color:var(--jp-error-color2);}tr.sc-log-critical td.sc-log-level{font-weight:bold;color:var(--sc-background-color0);background-color:var(--jp-error-color1);}.sc-log-message{white-space:pre-wrap;width:100%;}.sc-log-html-payload{white-space:normal;}.sc-log-name{padding-right:0.5em;text-align:right;white-space:pre-wrap;color:var(--sc-font-color3);}</style><div class='sc-wrap sc-root'><div class='sc-header'><div class='sc-obj-type'>scipp.DataArray (5.53 GB)</div></div><ul class='sc-sections'><li class='sc-section-item'><input id='section-03e47b2f-e455-40a8-b6c3-cd36f75a3327' class='sc-section-summary-in' type='checkbox' disabled ><label for='section-03e47b2f-e455-40a8-b6c3-cd36f75a3327' class='sc-section-summary'  title='Expand/collapse section'>Dimensions:</label><div class='sc-section-inline-details'><ul class='sc-dim-list'><li><span class='sc-has-index'>x</span>: 2</li><li><span class='sc-has-index'>y</span>: 2</li></ul></div><div class='sc-section-details'></div></li><li class='sc-section-item'><input id='section-06f93159-c433-403a-8b5c-3371aabcd420' class='sc-section-summary-in' type='checkbox'  checked><label for='section-06f93159-c433-403a-8b5c-3371aabcd420' class='sc-section-summary' >Coordinates: <span>(2)</span></label><div class='sc-section-inline-details'></div><div class='sc-section-details'><ul class='sc-var-list'><li class='sc-var-item'><div class='sc-var-name'><span class='sc-has-index'>x</span></div><div class='sc-var-dims'>(x [bin-edge])</div><div class='sc-var-dtype'>float64</div><div class='sc-var-unit'>m</div><div class='sc-value-preview sc-preview'><span><div>7.224e-10, 0.256, 0.512</div></span></div><input id='attrs-441fe265-a4ab-4e3d-b211-ed34bb50a91f' class='sc-var-attrs-in' type='checkbox' disabled><label for='attrs-441fe265-a4ab-4e3d-b211-ed34bb50a91f' class='sc-hide-icon' title='Show/Hide attributes'><svg class='icon sc-icon-file-text2'><use xlink:href='#icon-file-text2'></use></svg></label><input id='data-ede7dabc-64e4-47a4-a5a5-e52ef6023148' class='sc-var-data-in' type='checkbox'><label for='data-ede7dabc-64e4-47a4-a5a5-e52ef6023148' title='Show/Hide data repr'><svg class='icon sc-icon-database'><use xlink:href='#icon-database'></use></svg></label><pre class='sc-var-data'>Values:<br>array([7.22382265e-10, 2.55999999e-01, 5.11999998e-01])</pre></span></li><li class='sc-var-item'><div class='sc-var-name'><span class='sc-has-index'>y</span></div><div class='sc-var-dims'>(y [bin-edge])</div><div class='sc-var-dtype'>float64</div><div class='sc-var-unit'>m</div><div class='sc-value-preview sc-preview'><span><div>1.365e-09, 0.256, 0.512</div></span></div><input id='attrs-f6738f0d-3114-42af-98af-c0305ca24bcd' class='sc-var-attrs-in' type='checkbox' disabled><label for='attrs-f6738f0d-3114-42af-98af-c0305ca24bcd' class='sc-hide-icon' title='Show/Hide attributes'><svg class='icon sc-icon-file-text2'><use xlink:href='#icon-file-text2'></use></svg></label><input id='data-d80af6ec-e2f1-451f-91c0-23df56ac7a0a' class='sc-var-data-in' type='checkbox'><label for='data-d80af6ec-e2f1-451f-91c0-23df56ac7a0a' title='Show/Hide data repr'><svg class='icon sc-icon-database'><use xlink:href='#icon-database'></use></svg></label><pre class='sc-var-data'>Values:<br>array([1.36487022e-09, 2.56000000e-01, 5.11999998e-01])</pre></span></li></ul></div></li><li class='sc-section-item'><input id='section-f020461d-93b6-4c1b-aef8-f1698193fc9b' class='sc-section-summary-in' type='checkbox'  checked><label for='section-f020461d-93b6-4c1b-aef8-f1698193fc9b' class='sc-section-summary' >Data: <span>(1)</span></label><div class='sc-section-inline-details'></div><div class='sc-section-details'><ul class='sc-var-list'><li class='sc-var-item'><div class='sc-var-name'><span></span></div><div class='sc-var-dims'>(x, y)</div><div class='sc-var-dtype'>DataArrayView</div><div class='sc-var-unit'></div><div class='sc-value-preview sc-preview'><span><div>binned data [len=38204576, len=36962978, len=37288243, len=36016582]</div></span></div><input id='attrs-a82dd585-5fa0-4155-9399-bcff1b9a04f3' class='sc-var-attrs-in' type='checkbox' disabled><label for='attrs-a82dd585-5fa0-4155-9399-bcff1b9a04f3' class='sc-hide-icon' title='Show/Hide attributes'><svg class='icon sc-icon-file-text2'><use xlink:href='#icon-file-text2'></use></svg></label><input id='data-70f0f2ce-3a6f-4939-a3bc-6f9a5e2dc6c4' class='sc-var-data-in' type='checkbox'><label for='data-70f0f2ce-3a6f-4939-a3bc-6f9a5e2dc6c4' title='Show/Hide data repr'><svg class='icon sc-icon-database'><use xlink:href='#icon-database'></use></svg></label><pre class='sc-var-data'>Values:<br>[&lt;scipp.DataArray&gt;\n",
       "Dimensions: Sizes[x:38204576, ]\n",
       "Coordinates:\n",
       "  panel                       int64        &lt;no unit&gt;  (x)  [0, 0, ..., 2, 2]\n",
       "  t                         float64             [ms]  (x)  [0.115425, 0.127497, ..., 0.104678, 0.12569]\n",
       "  x                         float64              [m]  (x)  [4.30995e-05, 0.000124131, ..., 0.255727, 0.255721]\n",
       "  y                         float64              [m]  (x)  [0.000146436, 6.52932e-06, ..., 0.255628, 0.255923]\n",
       "Data:\n",
       "                            float64         [counts]  (x)  [1, 1, ..., 1, 1]\n",
       "\n",
       ", &lt;scipp.DataArray&gt;\n",
       "Dimensions: Sizes[x:36962978, ]\n",
       "Coordinates:\n",
       "  panel                       int64        &lt;no unit&gt;  (x)  [0, 0, ..., 2, 2]\n",
       "  t                         float64             [ms]  (x)  [0.101638, 0.112393, ..., 0.12091, 0.117046]\n",
       "  x                         float64              [m]  (x)  [0.000186462, 0.000363946, ..., 0.255898, 0.255618]\n",
       "  y                         float64              [m]  (x)  [0.256226, 0.256278, ..., 0.511835, 0.511979]\n",
       "Data:\n",
       "                            float64         [counts]  (x)  [1, 1, ..., 1, 1]\n",
       "\n",
       ", &lt;scipp.DataArray&gt;\n",
       "Dimensions: Sizes[x:37288243, ]\n",
       "Coordinates:\n",
       "  panel                       int64        &lt;no unit&gt;  (x)  [0, 0, ..., 2, 2]\n",
       "  t                         float64             [ms]  (x)  [0.127958, 0.109796, ..., 0.112833, 0.143014]\n",
       "  x                         float64              [m]  (x)  [0.256134, 0.256233, ..., 0.511695, 0.51186]\n",
       "  y                         float64              [m]  (x)  [8.29203e-05, 0.000159681, ..., 0.255845, 0.255665]\n",
       "Data:\n",
       "                            float64         [counts]  (x)  [1, 1, ..., 1, 1]\n",
       "\n",
       ", &lt;scipp.DataArray&gt;\n",
       "Dimensions: Sizes[x:36016582, ]\n",
       "Coordinates:\n",
       "  panel                       int64        &lt;no unit&gt;  (x)  [0, 0, ..., 2, 2]\n",
       "  t                         float64             [ms]  (x)  [0.11467, 0.129584, ..., 0.137158, 0.117998]\n",
       "  x                         float64              [m]  (x)  [0.256212, 0.256373, ..., 0.511857, 0.511638]\n",
       "  y                         float64              [m]  (x)  [0.256171, 0.256141, ..., 0.511885, 0.511867]\n",
       "Data:\n",
       "                            float64         [counts]  (x)  [1, 1, ..., 1, 1]\n",
       "\n",
       "]</pre></li></ul></div></li></ul></div></div>"
      ],
      "text/plain": [
       "<scipp.DataArray>\n",
       "Dimensions: Sizes[x:2, y:2, ]\n",
       "Coordinates:\n",
       "  x                         float64              [m]  (x [bin-edge])  [7.22382e-10, 0.256, 0.512]\n",
       "  y                         float64              [m]  (y [bin-edge])  [1.36487e-09, 0.256, 0.512]\n",
       "Data:\n",
       "                          DataArrayView        <no unit>  (x, y)  [<scipp.DataArray>\n",
       "Dimensions: Sizes[x:38204576, ]\n",
       "Coordinates:\n",
       "  panel                       int64        <no unit>  (x)  [0, 0, ..., 2, 2]\n",
       "  t                         float64             [ms]  (x)  [0.115425, 0.127497, ..., 0.104678, 0.12569]\n",
       "  x                         float64              [m]  (x)  [4.30995e-05, 0.000124131, ..., 0.255727, 0.255721]\n",
       "  y                         float64              [m]  (x)  [0.000146436, 6.52932e-06, ..., 0.255628, 0.255923]\n",
       "Data:\n",
       "                            float64         [counts]  (x)  [1, 1, ..., 1, 1]\n",
       "\n",
       ", <scipp.DataArray>\n",
       "Dimensions: Sizes[x:36962978, ]\n",
       "Coordinates:\n",
       "  panel                       int64        <no unit>  (x)  [0, 0, ..., 2, 2]\n",
       "  t                         float64             [ms]  (x)  [0.101638, 0.112393, ..., 0.12091, 0.117046]\n",
       "  x                         float64              [m]  (x)  [0.000186462, 0.000363946, ..., 0.255898, 0.255618]\n",
       "  y                         float64              [m]  (x)  [0.256226, 0.256278, ..., 0.511835, 0.511979]\n",
       "Data:\n",
       "                            float64         [counts]  (x)  [1, 1, ..., 1, 1]\n",
       "\n",
       ", <scipp.DataArray>\n",
       "Dimensions: Sizes[x:37288243, ]\n",
       "Coordinates:\n",
       "  panel                       int64        <no unit>  (x)  [0, 0, ..., 2, 2]\n",
       "  t                         float64             [ms]  (x)  [0.127958, 0.109796, ..., 0.112833, 0.143014]\n",
       "  x                         float64              [m]  (x)  [0.256134, 0.256233, ..., 0.511695, 0.51186]\n",
       "  y                         float64              [m]  (x)  [8.29203e-05, 0.000159681, ..., 0.255845, 0.255665]\n",
       "Data:\n",
       "                            float64         [counts]  (x)  [1, 1, ..., 1, 1]\n",
       "\n",
       ", <scipp.DataArray>\n",
       "Dimensions: Sizes[x:36016582, ]\n",
       "Coordinates:\n",
       "  panel                       int64        <no unit>  (x)  [0, 0, ..., 2, 2]\n",
       "  t                         float64             [ms]  (x)  [0.11467, 0.129584, ..., 0.137158, 0.117998]\n",
       "  x                         float64              [m]  (x)  [0.256212, 0.256373, ..., 0.511857, 0.511638]\n",
       "  y                         float64              [m]  (x)  [0.256171, 0.256141, ..., 0.511885, 0.511867]\n",
       "Data:\n",
       "                            float64         [counts]  (x)  [1, 1, ..., 1, 1]\n",
       "\n",
       "]\n"
      ]
     },
     "execution_count": 26,
     "metadata": {},
     "output_type": "execute_result"
    }
   ],
   "source": [
    "da3.bins.concat().bin(x=2, y=2)"
   ]
  },
  {
   "cell_type": "code",
   "execution_count": 29,
   "metadata": {},
   "outputs": [
    {
     "data": {
      "text/html": [
       "<div><!-- Original source from -->\n",
       "<!-- https://github.com/jsignell/xarray/blob/1d960933ab252e0f79f7e050e6c9261d55568057/xarray/static/html/icons-svg-inline.html -->\n",
       "<svg style=\"position: absolute; width: 0; height: 0; overflow: hidden\">\n",
       "<defs>\n",
       "<symbol id=\"icon-database\" viewBox=\"0 0 32 32\">\n",
       "<title>Show/Hide data repr</title>\n",
       "<path d=\"M16 0c-8.837 0-16 2.239-16 5v4c0 2.761 7.163 5 16 5s16-2.239 16-5v-4c0-2.761-7.163-5-16-5z\"></path>\n",
       "<path d=\"M16 17c-8.837 0-16-2.239-16-5v6c0 2.761 7.163 5 16 5s16-2.239 16-5v-6c0 2.761-7.163 5-16 5z\"></path>\n",
       "<path d=\"M16 26c-8.837 0-16-2.239-16-5v6c0 2.761 7.163 5 16 5s16-2.239 16-5v-6c0 2.761-7.163 5-16 5z\"></path>\n",
       "</symbol>\n",
       "<symbol id=\"icon-file-text2\" viewBox=\"0 0 32 32\">\n",
       "<title>Show/Hide attributes</title>\n",
       "<path d=\"M28.681 7.159c-0.694-0.947-1.662-2.053-2.724-3.116s-2.169-2.030-3.116-2.724c-1.612-1.182-2.393-1.319-2.841-1.319h-15.5c-1.378 0-2.5 1.121-2.5 2.5v27c0 1.378 1.122 2.5 2.5 2.5h23c1.378 0 2.5-1.122 2.5-2.5v-19.5c0-0.448-0.137-1.23-1.319-2.841zM24.543 5.457c0.959 0.959 1.712 1.825 2.268 2.543h-4.811v-4.811c0.718 0.556 1.584 1.309 2.543 2.268zM28 29.5c0 0.271-0.229 0.5-0.5 0.5h-23c-0.271 0-0.5-0.229-0.5-0.5v-27c0-0.271 0.229-0.5 0.5-0.5 0 0 15.499-0 15.5 0v7c0 0.552 0.448 1 1 1h7v19.5z\"></path>\n",
       "<path d=\"M23 26h-14c-0.552 0-1-0.448-1-1s0.448-1 1-1h14c0.552 0 1 0.448 1 1s-0.448 1-1 1z\"></path>\n",
       "<path d=\"M23 22h-14c-0.552 0-1-0.448-1-1s0.448-1 1-1h14c0.552 0 1 0.448 1 1s-0.448 1-1 1z\"></path>\n",
       "<path d=\"M23 18h-14c-0.552 0-1-0.448-1-1s0.448-1 1-1h14c0.552 0 1 0.448 1 1s-0.448 1-1 1z\"></path>\n",
       "</symbol>\n",
       "</defs>\n",
       "</svg><style id=\"scipp-style-sheet\">.sc-root{--sc-background-color0:var(--jp-layout-color0,#fff);--sc-background-color1:var(--jp-layout-color1,#fcfcfc);--sc-background-color2:var(--jp-layout-color2,#efefef);--sc-inverse-background-color0:var(--jp-inverse-layout-color4,#111);--sc-font-color0:var(--jp-content-font-color0,#000);--sc-font-color1:var(--jp-content-font-color1,#555);--sc-font-color2:var(--jp-content-font-color2,#888);--sc-font-color3:var(--jp-content-font-color3,#ccc);--sc-table-data-color:#f6d028;--sc-table-coords-color:#c6e590;--sc-table-masks-color:#c8c8c8;--sc-table-attrs-color:#ff5555;--sc-table-header-font-color:#111111;}.sc-wrap{font-size:14px;min-width:300px;max-width:800px;}.sc-var-attrs .sc-wrap{padding-left:3em;}.sc-header{padding-top:6px;padding-bottom:6px;margin-bottom:4px;border-bottom:solid 1px #ddd;}.sc-header > div,.sc-header > ul{display:inline;margin-top:0;margin-bottom:0;}.sc-obj-type,.sc-array-name{margin-left:2px;margin-right:10px;}.sc-obj-type{color:var(--sc-font-color1);}.sc-underlying-size{color:var(--sc-font-color2);}.sc-sections,.reveal .sc-sections{padding-left:0 !important;display:grid;grid-template-columns:150px auto auto auto 1fr 20px 20px;}.sc-section-item{display:contents;}.sc-section-item input{display:none;}.sc-section-item input:enabled + label{cursor:pointer;color:var(--sc-font-color1);}.sc-section-item input:enabled + label:hover{color:var(--sc-font-color0);}.sc-section-summary{grid-column:1;font-weight:500;}.sc-section-summary > span{display:inline-block;padding-left:0.5em;}.sc-section-summary-in:disabled + label{color:var(--sc-font-color1);}.sc-section-summary-in + label:before{display:inline-block;content:'►';font-size:11px;width:15px;text-align:center;}.sc-section-summary-in:disabled + label:before{color:var(--sc-font-color3);}.sc-section-summary-in:checked + label:before{content:'▼';}.sc-section-summary-in:checked + label > span{display:none;}.sc-section-summary,.sc-section-inline-details{padding-top:4px;padding-bottom:4px;}.sc-section-inline-details{grid-column:2 / 6;}.sc-section-details{display:none;grid-column:1 / -1;margin-bottom:5px;}.sc-section-summary-in:checked ~ .sc-section-details{display:contents;}.sc-array-wrap{grid-column:1 / -1;display:grid;grid-template-columns:20px auto;}.sc-array-wrap > label{grid-column:1;vertical-align:top;}.sc-preview{color:var(--sc-font-color2);}.sc-array-preview,.sc-array-data{padding:0 5px !important;grid-column:2;}.sc-array-data,.sc-array-in:checked ~ .sc-array-preview{display:none;}.sc-array-in:checked ~ .sc-array-data,.sc-array-preview{display:inline-block;}.sc-dim-list{display:inline-block !important;list-style:none;padding:0 !important;margin:0;}.sc-dim-list li{display:inline-block;padding:0;margin:0!important;}.sc-dim-list:before{content:'(';}.sc-dim-list:after{content:')';}.sc-dim-list li:not(:last-child):after{content:',';padding-right:5px;}.sc-has-index{font-weight:bold;}.sc-var-list,.sc-var-item,.reveal .sc-var-list,.reveal .sc-var-item{display:contents;}.sc-var-item > div,.sc-var-item label,.sc-var-item > .sc-var-name span{background-color:var(--sc-background-color1);margin-bottom:0;}.sc-var-item > .sc-var-name:hover span{padding-right:5px;}.sc-var-list > li:nth-child(odd) > div,.sc-var-list > li:nth-child(odd) > label,.sc-var-list > li:nth-child(odd) > .sc-var-name span{background-color:var(--sc-background-color2);}.sc-var-name{grid-column:1;}.sc-var-dims{grid-column:2;}.sc-var-dtype{grid-column:3;text-align:right;color:var(--sc-font-color2);}.sc-var-unit{grid-column:4;text-align:left;color:var(--sc-font-color1);max-width:50pt;text-overflow:ellipsis;}.sc-value-preview{grid-column:5;}.sc-var-preview-variances{text-align:right;}.sc-sections .sc-section-item .sc-section-summary,.sc-sections .sc-section-item .sc-section-inline-details,.sc-section-item .sc-var-list .sc-var-item > div,.sc-section-item .sc-var-list .sc-var-item > label,.sc-section-details .sc-var-list .sc-var-item > div,.sc-section-details .sc-var-list .sc-var-item > label{margin-top:0;margin-bottom:0;}.sc-var-name,.sc-var-dims,.sc-var-dtype,.sc-var-unit,.sc-preview,.sc-attrs dt{white-space:nowrap;overflow:hidden;text-overflow:ellipsis;padding-right:10px;}.sc-var-name:hover,.sc-var-dims:hover,.sc-var-dtype:hover,.sc-var-unit:hover,.sc-attrs dt:hover{overflow:visible;width:auto;z-index:1;}.sc-var-attrs{display:block;}.sc-var-data,.reveal .sc-var-data{display:none;}.sc-var-attrs,.sc-var-data{background-color:var(--sc-background-color0) !important;padding-bottom:5px !important;}.sc-var-attrs-in:checked ~ .sc-var-attrs{display:none;}.sc-var-data-in:checked ~ .sc-var-data{display:block;}.sc-var-data > table{float:right;}.sc-var-name span,.sc-var-data{padding-left:25px !important;}.sc-var-attrs,.sc-var-data{grid-column:1 / -1;}dl.sc-attrs{padding:0;margin:0;display:grid;grid-template-columns:125px auto;}.sc-attrs dt,dd{padding:0;margin:0;float:left;padding-right:10px;width:auto;}.sc-attrs dt{font-weight:normal;grid-column:1;}.sc-attrs dt:hover span{display:inline-block;padding-right:10px;}.sc-attrs dd{grid-column:2;white-space:pre-wrap;word-break:break-all;}.sc-icon-database,.sc-icon-file-text2{display:inline-block;vertical-align:middle;width:1em;height:1.5em !important;stroke-width:0;stroke:currentColor;fill:currentColor;}label.sc-hide-icon svg{opacity:0;}.sc-standalone-var-name{grid-column:1/3;}.sc-standalone-var-name span{padding-left:25px;padding-right:10px;}.sc-table{border-collapse:collapse;}.sc-title{font-weight:bold;font-size:1.5em;}.sc-subtitle{font-weight:normal;font-style:italic;text-align:left;font-size:1.2em;padding:1px;}.sc-table th,.sc-table td{border:1px solid var(--sc-inverse-background-color0);padding:0 5px 0 5px;}.sc-table th{text-align:center;}.sc-table tr{background-color:var(--sc-background-color1);text-align:right;}.sc-table tr:hover{background-color:var(--sc-background-color2);}.sc-table th.sc-data{background-color:var(--sc-table-data-color);color:var(--sc-table-header-font-color);}.sc-table th.sc-coords{background-color:var(--sc-table-coords-color);color:var(--sc-table-header-font-color);}.sc-table th.sc-masks{background-color:var(--sc-table-masks-color);color:var(--sc-table-header-font-color);}.sc-table th.sc-attrs{background-color:var(--sc-table-attrs-color);color:var(--sc-table-header-font-color);}.sc-table th.sc-subheader{background-color:var(--sc-background-color2);}.sc-table td.sc-padding{background-color:var(--sc-background-color1);border:0 solid var(--sc-background-color1);height:1.2em;}.sc-label{fill:var(--sc-font-color0,#444444);text-anchor:middle;}.sc-name{fill:var(--sc-font-color0,#111111);}.sc-inset-line{stroke:var(--sc-font-color1);stroke-width:0.05;stroke-dasharray:0.2,0.2;}.sc-log-wrap{height:25ex;resize:vertical;overflow-y:scroll;display:flex;flex-direction:column-reverse;border:1px solid;border-color:var(--jp-border-color2);background-color:var(--sc-background-color1);}div.sc-log{line-height:2.5ex;}table.sc-log{table-layout:auto;border-collapse:collapse;}tr.sc-log:nth-child(even){background-color:var(--sc-background-color0);}tr.sc-log > td{vertical-align:top;padding-bottom:0.5ex;}.sc-log-time-stamp{min-width:22ch;font-family:var(--jp-code-font-family);color:var(--sc-font-color2);}.sc-log-level{min-width:10ch;}tr.sc-log-debug td.sc-log-level{color:var(--jp-accent-color1);}tr.sc-log-info td.sc-log-level{color:var(--jp-info-color1);}tr.sc-log-warning td.sc-log-level{color:var(--jp-warn-color1);}tr.sc-log-error td.sc-log-level{font-weight:bold;color:var(--jp-error-color2);}tr.sc-log-critical td.sc-log-level{font-weight:bold;color:var(--sc-background-color0);background-color:var(--jp-error-color1);}.sc-log-message{white-space:pre-wrap;width:100%;}.sc-log-html-payload{white-space:normal;}.sc-log-name{padding-right:0.5em;text-align:right;white-space:pre-wrap;color:var(--sc-font-color3);}</style><div class='sc-wrap sc-root'><div class='sc-header'><div class='sc-obj-type'>scipp.Variable (37.50 MB)</div></div><ul class='sc-sections'><li class='sc-section-item'><ul class='sc-var-list'><li class='sc-var-item'><div class='sc-standalone-var-name'><span>(panel: 3, id: 1638400)</span></div><div class='sc-var-dtype'>float64</div><div class='sc-var-unit'>counts</div><div class='sc-value-preview sc-preview'><span><div>18.0, 9.0, ..., 8.0, 0.0</div></span></div><input id='attrs-8c30a1f2-7ed7-4c02-b5ba-0bd4a4a4aac9' class='sc-var-attrs-in' type='checkbox' disabled><label for='attrs-8c30a1f2-7ed7-4c02-b5ba-0bd4a4a4aac9' class='sc-hide-icon' title='Show/Hide attributes'><svg class='icon sc-icon-file-text2'><use xlink:href='#icon-file-text2'></use></svg></label><input id='data-410f6a0d-47d9-4ed2-90cd-a79d8251e3e2' class='sc-var-data-in' type='checkbox'><label for='data-410f6a0d-47d9-4ed2-90cd-a79d8251e3e2' title='Show/Hide data repr'><svg class='icon sc-icon-database'><use xlink:href='#icon-database'></use></svg></label><pre class='sc-var-data'>Values:<br>array([[18.,  9., 11., ..., 13., 21., 11.],\n",
       "       [13.,  8., 16., ..., 16.,  9.,  0.],\n",
       "       [14.,  9., 17., ..., 19.,  8.,  0.]])</pre></li></ul></li></ul></div></div>"
      ],
      "text/plain": [
       "<scipp.Variable> (panel: 3, id: 1638400)    float64         [counts]  [18, 9, ..., 8, 0]"
      ]
     },
     "execution_count": 29,
     "metadata": {},
     "output_type": "execute_result"
    }
   ],
   "source": [
    "da3.bins.sum().data"
   ]
  },
  {
   "attachments": {},
   "cell_type": "markdown",
   "metadata": {},
   "source": [
    "print summed data vor panal 0"
   ]
  },
  {
   "cell_type": "code",
   "execution_count": 30,
   "metadata": {},
   "outputs": [
    {
     "data": {
      "application/vnd.jupyter.widget-view+json": {
       "model_id": "dee258d4ff874023b6395a37ac4a08a5",
       "version_major": 2,
       "version_minor": 0
      },
      "text/plain": [
       "InteractiveFig2d(children=(HBar(), HBox(children=(VBar(children=(Toolbar(children=(ButtonTool(icon='home', lay…"
      ]
     },
     "metadata": {},
     "output_type": "display_data"
    }
   ],
   "source": [
    "da3.fold('id', sizes={'xpix':pix, 'ypix':-1})['panel', 0].bins.sum().plot()"
   ]
  },
  {
   "attachments": {},
   "cell_type": "markdown",
   "metadata": {},
   "source": [
    "print summed data vor panal 1"
   ]
  },
  {
   "cell_type": "code",
   "execution_count": 31,
   "metadata": {},
   "outputs": [
    {
     "data": {
      "application/vnd.jupyter.widget-view+json": {
       "model_id": "a65b2210ce564066aef5f583990fba00",
       "version_major": 2,
       "version_minor": 0
      },
      "text/plain": [
       "InteractiveFig2d(children=(HBar(), HBox(children=(VBar(children=(Toolbar(children=(ButtonTool(icon='home', lay…"
      ]
     },
     "metadata": {},
     "output_type": "display_data"
    }
   ],
   "source": [
    "da3.fold('id', sizes={'xpix':pix, 'ypix':-1})['panel', 1].bins.sum().plot()"
   ]
  },
  {
   "attachments": {},
   "cell_type": "markdown",
   "metadata": {},
   "source": [
    "print summed data vor panal 2"
   ]
  },
  {
   "cell_type": "code",
   "execution_count": 32,
   "metadata": {},
   "outputs": [
    {
     "data": {
      "application/vnd.jupyter.widget-view+json": {
       "model_id": "82eddefec4b443c3b201c9b47ac7c8eb",
       "version_major": 2,
       "version_minor": 0
      },
      "text/plain": [
       "InteractiveFig2d(children=(HBar(), HBox(children=(VBar(children=(Toolbar(children=(ButtonTool(icon='home', lay…"
      ]
     },
     "metadata": {},
     "output_type": "display_data"
    }
   ],
   "source": [
    "da3.fold('id', sizes={'xpix':pix, 'ypix':-1})['panel', 2].bins.sum().plot()"
   ]
  },
  {
   "cell_type": "code",
   "execution_count": null,
   "metadata": {},
   "outputs": [],
   "source": [
    "# det1 1 - 1638400\n",
    "# det2 2000000 - 3638400\n",
    "# det3 4000000 - 5638400\n",
    " \n",
    "#det_sep = da.bin(id=sc.array(dims=['id'], values=[1, 11638400, 3638400, 5638401], unit=None))\n",
    "#print(2000000+1280**2)\n",
    "#det_sep"
   ]
  },
  {
   "cell_type": "code",
   "execution_count": 33,
   "metadata": {},
   "outputs": [
    {
     "data": {
      "text/html": [
       "<div><!-- Original source from -->\n",
       "<!-- https://github.com/jsignell/xarray/blob/1d960933ab252e0f79f7e050e6c9261d55568057/xarray/static/html/icons-svg-inline.html -->\n",
       "<svg style=\"position: absolute; width: 0; height: 0; overflow: hidden\">\n",
       "<defs>\n",
       "<symbol id=\"icon-database\" viewBox=\"0 0 32 32\">\n",
       "<title>Show/Hide data repr</title>\n",
       "<path d=\"M16 0c-8.837 0-16 2.239-16 5v4c0 2.761 7.163 5 16 5s16-2.239 16-5v-4c0-2.761-7.163-5-16-5z\"></path>\n",
       "<path d=\"M16 17c-8.837 0-16-2.239-16-5v6c0 2.761 7.163 5 16 5s16-2.239 16-5v-6c0 2.761-7.163 5-16 5z\"></path>\n",
       "<path d=\"M16 26c-8.837 0-16-2.239-16-5v6c0 2.761 7.163 5 16 5s16-2.239 16-5v-6c0 2.761-7.163 5-16 5z\"></path>\n",
       "</symbol>\n",
       "<symbol id=\"icon-file-text2\" viewBox=\"0 0 32 32\">\n",
       "<title>Show/Hide attributes</title>\n",
       "<path d=\"M28.681 7.159c-0.694-0.947-1.662-2.053-2.724-3.116s-2.169-2.030-3.116-2.724c-1.612-1.182-2.393-1.319-2.841-1.319h-15.5c-1.378 0-2.5 1.121-2.5 2.5v27c0 1.378 1.122 2.5 2.5 2.5h23c1.378 0 2.5-1.122 2.5-2.5v-19.5c0-0.448-0.137-1.23-1.319-2.841zM24.543 5.457c0.959 0.959 1.712 1.825 2.268 2.543h-4.811v-4.811c0.718 0.556 1.584 1.309 2.543 2.268zM28 29.5c0 0.271-0.229 0.5-0.5 0.5h-23c-0.271 0-0.5-0.229-0.5-0.5v-27c0-0.271 0.229-0.5 0.5-0.5 0 0 15.499-0 15.5 0v7c0 0.552 0.448 1 1 1h7v19.5z\"></path>\n",
       "<path d=\"M23 26h-14c-0.552 0-1-0.448-1-1s0.448-1 1-1h14c0.552 0 1 0.448 1 1s-0.448 1-1 1z\"></path>\n",
       "<path d=\"M23 22h-14c-0.552 0-1-0.448-1-1s0.448-1 1-1h14c0.552 0 1 0.448 1 1s-0.448 1-1 1z\"></path>\n",
       "<path d=\"M23 18h-14c-0.552 0-1-0.448-1-1s0.448-1 1-1h14c0.552 0 1 0.448 1 1s-0.448 1-1 1z\"></path>\n",
       "</symbol>\n",
       "</defs>\n",
       "</svg><style id=\"scipp-style-sheet\">.sc-root{--sc-background-color0:var(--jp-layout-color0,#fff);--sc-background-color1:var(--jp-layout-color1,#fcfcfc);--sc-background-color2:var(--jp-layout-color2,#efefef);--sc-inverse-background-color0:var(--jp-inverse-layout-color4,#111);--sc-font-color0:var(--jp-content-font-color0,#000);--sc-font-color1:var(--jp-content-font-color1,#555);--sc-font-color2:var(--jp-content-font-color2,#888);--sc-font-color3:var(--jp-content-font-color3,#ccc);--sc-table-data-color:#f6d028;--sc-table-coords-color:#c6e590;--sc-table-masks-color:#c8c8c8;--sc-table-attrs-color:#ff5555;--sc-table-header-font-color:#111111;}.sc-wrap{font-size:14px;min-width:300px;max-width:800px;}.sc-var-attrs .sc-wrap{padding-left:3em;}.sc-header{padding-top:6px;padding-bottom:6px;margin-bottom:4px;border-bottom:solid 1px #ddd;}.sc-header > div,.sc-header > ul{display:inline;margin-top:0;margin-bottom:0;}.sc-obj-type,.sc-array-name{margin-left:2px;margin-right:10px;}.sc-obj-type{color:var(--sc-font-color1);}.sc-underlying-size{color:var(--sc-font-color2);}.sc-sections,.reveal .sc-sections{padding-left:0 !important;display:grid;grid-template-columns:150px auto auto auto 1fr 20px 20px;}.sc-section-item{display:contents;}.sc-section-item input{display:none;}.sc-section-item input:enabled + label{cursor:pointer;color:var(--sc-font-color1);}.sc-section-item input:enabled + label:hover{color:var(--sc-font-color0);}.sc-section-summary{grid-column:1;font-weight:500;}.sc-section-summary > span{display:inline-block;padding-left:0.5em;}.sc-section-summary-in:disabled + label{color:var(--sc-font-color1);}.sc-section-summary-in + label:before{display:inline-block;content:'►';font-size:11px;width:15px;text-align:center;}.sc-section-summary-in:disabled + label:before{color:var(--sc-font-color3);}.sc-section-summary-in:checked + label:before{content:'▼';}.sc-section-summary-in:checked + label > span{display:none;}.sc-section-summary,.sc-section-inline-details{padding-top:4px;padding-bottom:4px;}.sc-section-inline-details{grid-column:2 / 6;}.sc-section-details{display:none;grid-column:1 / -1;margin-bottom:5px;}.sc-section-summary-in:checked ~ .sc-section-details{display:contents;}.sc-array-wrap{grid-column:1 / -1;display:grid;grid-template-columns:20px auto;}.sc-array-wrap > label{grid-column:1;vertical-align:top;}.sc-preview{color:var(--sc-font-color2);}.sc-array-preview,.sc-array-data{padding:0 5px !important;grid-column:2;}.sc-array-data,.sc-array-in:checked ~ .sc-array-preview{display:none;}.sc-array-in:checked ~ .sc-array-data,.sc-array-preview{display:inline-block;}.sc-dim-list{display:inline-block !important;list-style:none;padding:0 !important;margin:0;}.sc-dim-list li{display:inline-block;padding:0;margin:0!important;}.sc-dim-list:before{content:'(';}.sc-dim-list:after{content:')';}.sc-dim-list li:not(:last-child):after{content:',';padding-right:5px;}.sc-has-index{font-weight:bold;}.sc-var-list,.sc-var-item,.reveal .sc-var-list,.reveal .sc-var-item{display:contents;}.sc-var-item > div,.sc-var-item label,.sc-var-item > .sc-var-name span{background-color:var(--sc-background-color1);margin-bottom:0;}.sc-var-item > .sc-var-name:hover span{padding-right:5px;}.sc-var-list > li:nth-child(odd) > div,.sc-var-list > li:nth-child(odd) > label,.sc-var-list > li:nth-child(odd) > .sc-var-name span{background-color:var(--sc-background-color2);}.sc-var-name{grid-column:1;}.sc-var-dims{grid-column:2;}.sc-var-dtype{grid-column:3;text-align:right;color:var(--sc-font-color2);}.sc-var-unit{grid-column:4;text-align:left;color:var(--sc-font-color1);max-width:50pt;text-overflow:ellipsis;}.sc-value-preview{grid-column:5;}.sc-var-preview-variances{text-align:right;}.sc-sections .sc-section-item .sc-section-summary,.sc-sections .sc-section-item .sc-section-inline-details,.sc-section-item .sc-var-list .sc-var-item > div,.sc-section-item .sc-var-list .sc-var-item > label,.sc-section-details .sc-var-list .sc-var-item > div,.sc-section-details .sc-var-list .sc-var-item > label{margin-top:0;margin-bottom:0;}.sc-var-name,.sc-var-dims,.sc-var-dtype,.sc-var-unit,.sc-preview,.sc-attrs dt{white-space:nowrap;overflow:hidden;text-overflow:ellipsis;padding-right:10px;}.sc-var-name:hover,.sc-var-dims:hover,.sc-var-dtype:hover,.sc-var-unit:hover,.sc-attrs dt:hover{overflow:visible;width:auto;z-index:1;}.sc-var-attrs{display:block;}.sc-var-data,.reveal .sc-var-data{display:none;}.sc-var-attrs,.sc-var-data{background-color:var(--sc-background-color0) !important;padding-bottom:5px !important;}.sc-var-attrs-in:checked ~ .sc-var-attrs{display:none;}.sc-var-data-in:checked ~ .sc-var-data{display:block;}.sc-var-data > table{float:right;}.sc-var-name span,.sc-var-data{padding-left:25px !important;}.sc-var-attrs,.sc-var-data{grid-column:1 / -1;}dl.sc-attrs{padding:0;margin:0;display:grid;grid-template-columns:125px auto;}.sc-attrs dt,dd{padding:0;margin:0;float:left;padding-right:10px;width:auto;}.sc-attrs dt{font-weight:normal;grid-column:1;}.sc-attrs dt:hover span{display:inline-block;padding-right:10px;}.sc-attrs dd{grid-column:2;white-space:pre-wrap;word-break:break-all;}.sc-icon-database,.sc-icon-file-text2{display:inline-block;vertical-align:middle;width:1em;height:1.5em !important;stroke-width:0;stroke:currentColor;fill:currentColor;}label.sc-hide-icon svg{opacity:0;}.sc-standalone-var-name{grid-column:1/3;}.sc-standalone-var-name span{padding-left:25px;padding-right:10px;}.sc-table{border-collapse:collapse;}.sc-title{font-weight:bold;font-size:1.5em;}.sc-subtitle{font-weight:normal;font-style:italic;text-align:left;font-size:1.2em;padding:1px;}.sc-table th,.sc-table td{border:1px solid var(--sc-inverse-background-color0);padding:0 5px 0 5px;}.sc-table th{text-align:center;}.sc-table tr{background-color:var(--sc-background-color1);text-align:right;}.sc-table tr:hover{background-color:var(--sc-background-color2);}.sc-table th.sc-data{background-color:var(--sc-table-data-color);color:var(--sc-table-header-font-color);}.sc-table th.sc-coords{background-color:var(--sc-table-coords-color);color:var(--sc-table-header-font-color);}.sc-table th.sc-masks{background-color:var(--sc-table-masks-color);color:var(--sc-table-header-font-color);}.sc-table th.sc-attrs{background-color:var(--sc-table-attrs-color);color:var(--sc-table-header-font-color);}.sc-table th.sc-subheader{background-color:var(--sc-background-color2);}.sc-table td.sc-padding{background-color:var(--sc-background-color1);border:0 solid var(--sc-background-color1);height:1.2em;}.sc-label{fill:var(--sc-font-color0,#444444);text-anchor:middle;}.sc-name{fill:var(--sc-font-color0,#111111);}.sc-inset-line{stroke:var(--sc-font-color1);stroke-width:0.05;stroke-dasharray:0.2,0.2;}.sc-log-wrap{height:25ex;resize:vertical;overflow-y:scroll;display:flex;flex-direction:column-reverse;border:1px solid;border-color:var(--jp-border-color2);background-color:var(--sc-background-color1);}div.sc-log{line-height:2.5ex;}table.sc-log{table-layout:auto;border-collapse:collapse;}tr.sc-log:nth-child(even){background-color:var(--sc-background-color0);}tr.sc-log > td{vertical-align:top;padding-bottom:0.5ex;}.sc-log-time-stamp{min-width:22ch;font-family:var(--jp-code-font-family);color:var(--sc-font-color2);}.sc-log-level{min-width:10ch;}tr.sc-log-debug td.sc-log-level{color:var(--jp-accent-color1);}tr.sc-log-info td.sc-log-level{color:var(--jp-info-color1);}tr.sc-log-warning td.sc-log-level{color:var(--jp-warn-color1);}tr.sc-log-error td.sc-log-level{font-weight:bold;color:var(--jp-error-color2);}tr.sc-log-critical td.sc-log-level{font-weight:bold;color:var(--sc-background-color0);background-color:var(--jp-error-color1);}.sc-log-message{white-space:pre-wrap;width:100%;}.sc-log-html-payload{white-space:normal;}.sc-log-name{padding-right:0.5em;text-align:right;white-space:pre-wrap;color:var(--sc-font-color3);}</style><div class='sc-wrap sc-root'><div class='sc-header'><div class='sc-obj-type'>scipp.DataArray (2.47 KB <span class='sc-underlying-size'>out of 5.53 GB</span>)</div></div><ul class='sc-sections'><li class='sc-section-item'><input id='section-b6dddab2-c9d7-4c7a-b934-278820466329' class='sc-section-summary-in' type='checkbox' disabled ><label for='section-b6dddab2-c9d7-4c7a-b934-278820466329' class='sc-section-summary'  title='Expand/collapse section'>Dimensions:</label><div class='sc-section-inline-details'><ul class='sc-dim-list'><li><span class='sc-has-index'>x</span>: 18</li></ul></div><div class='sc-section-details'></div></li><li class='sc-section-item'><input id='section-968772f1-fc08-4263-b44f-804249ca66db' class='sc-section-summary-in' type='checkbox'  checked><label for='section-968772f1-fc08-4263-b44f-804249ca66db' class='sc-section-summary' >Coordinates: <span>(4)</span></label><div class='sc-section-inline-details'></div><div class='sc-section-details'><ul class='sc-var-list'><li class='sc-var-item'><div class='sc-var-name'><span>panel</span></div><div class='sc-var-dims'>(x)</div><div class='sc-var-dtype'>int64</div><div class='sc-var-unit'></div><div class='sc-value-preview sc-preview'><span><div>0, 0, ..., 0, 0</div></span></div><input id='attrs-74aefd60-2df9-4785-92a0-0d0bcbcf7a60' class='sc-var-attrs-in' type='checkbox' disabled><label for='attrs-74aefd60-2df9-4785-92a0-0d0bcbcf7a60' class='sc-hide-icon' title='Show/Hide attributes'><svg class='icon sc-icon-file-text2'><use xlink:href='#icon-file-text2'></use></svg></label><input id='data-f43500a8-4a1e-4c90-ac88-b211ea30b8c8' class='sc-var-data-in' type='checkbox'><label for='data-f43500a8-4a1e-4c90-ac88-b211ea30b8c8' title='Show/Hide data repr'><svg class='icon sc-icon-database'><use xlink:href='#icon-database'></use></svg></label><pre class='sc-var-data'>Values:<br>array([0, 0, 0, 0, 0, 0, 0, 0, 0, 0, 0, 0, 0, 0, 0, 0, 0, 0])</pre></span></li><li class='sc-var-item'><div class='sc-var-name'><span>t</span></div><div class='sc-var-dims'>(x)</div><div class='sc-var-dtype'>float64</div><div class='sc-var-unit'>ms</div><div class='sc-value-preview sc-preview'><span><div>0.115, 0.127, ..., 0.112, 0.120</div></span></div><input id='attrs-e99920ea-b8cd-4d41-9d3f-6d71b5588470' class='sc-var-attrs-in' type='checkbox' disabled><label for='attrs-e99920ea-b8cd-4d41-9d3f-6d71b5588470' class='sc-hide-icon' title='Show/Hide attributes'><svg class='icon sc-icon-file-text2'><use xlink:href='#icon-file-text2'></use></svg></label><input id='data-471af90a-40e3-4314-a068-96196431372f' class='sc-var-data-in' type='checkbox'><label for='data-471af90a-40e3-4314-a068-96196431372f' title='Show/Hide data repr'><svg class='icon sc-icon-database'><use xlink:href='#icon-database'></use></svg></label><pre class='sc-var-data'>Values:<br>array([0.11542532, 0.12749692, 0.11743026, 0.10414452, 0.13071336,\n",
       "       0.11639547, 0.10346309, 0.11687835, 0.12634039, 0.10882042,\n",
       "       0.1186269 , 0.1085762 , 0.11327694, 0.10832086, 0.12315599,\n",
       "       0.09771704, 0.11199339, 0.12020183])</pre></span></li><li class='sc-var-item'><div class='sc-var-name'><span class='sc-has-index'>x</span></div><div class='sc-var-dims'>(x)</div><div class='sc-var-dtype'>float64</div><div class='sc-var-unit'>m</div><div class='sc-value-preview sc-preview'><span><div>4.310e-05, 0.000, ..., 0.000, 2.480e-05</div></span></div><input id='attrs-4e5f07ed-9c3e-426e-9ef8-490f28299968' class='sc-var-attrs-in' type='checkbox' disabled><label for='attrs-4e5f07ed-9c3e-426e-9ef8-490f28299968' class='sc-hide-icon' title='Show/Hide attributes'><svg class='icon sc-icon-file-text2'><use xlink:href='#icon-file-text2'></use></svg></label><input id='data-eb24bd3d-7259-485f-a7a7-06cac78fc01b' class='sc-var-data-in' type='checkbox'><label for='data-eb24bd3d-7259-485f-a7a7-06cac78fc01b' title='Show/Hide data repr'><svg class='icon sc-icon-database'><use xlink:href='#icon-database'></use></svg></label><pre class='sc-var-data'>Values:<br>array([4.30994819e-05, 1.24130798e-04, 4.37526150e-05, 3.31539670e-04,\n",
       "       3.63347725e-04, 1.49672990e-04, 3.38359972e-05, 3.75039158e-04,\n",
       "       1.80746986e-04, 3.92643613e-04, 1.99440373e-04, 1.72401741e-05,\n",
       "       3.07797544e-04, 1.12837891e-04, 1.85522610e-04, 3.27929115e-04,\n",
       "       2.65312959e-04, 2.47999418e-05])</pre></span></li><li class='sc-var-item'><div class='sc-var-name'><span>y</span></div><div class='sc-var-dims'>(x)</div><div class='sc-var-dtype'>float64</div><div class='sc-var-unit'>m</div><div class='sc-value-preview sc-preview'><span><div>0.000, 6.529e-06, ..., 0.000, 0.000</div></span></div><input id='attrs-34662a3a-5501-4405-b29e-b8f8fba6350e' class='sc-var-attrs-in' type='checkbox' disabled><label for='attrs-34662a3a-5501-4405-b29e-b8f8fba6350e' class='sc-hide-icon' title='Show/Hide attributes'><svg class='icon sc-icon-file-text2'><use xlink:href='#icon-file-text2'></use></svg></label><input id='data-e122606d-62b7-4416-a5c0-8f5813f17c15' class='sc-var-data-in' type='checkbox'><label for='data-e122606d-62b7-4416-a5c0-8f5813f17c15' title='Show/Hide data repr'><svg class='icon sc-icon-database'><use xlink:href='#icon-database'></use></svg></label><pre class='sc-var-data'>Values:<br>array([1.46436441e-04, 6.52931694e-06, 1.08015183e-04, 1.38979149e-04,\n",
       "       2.63977610e-04, 2.70685564e-04, 3.63389813e-04, 1.94027573e-05,\n",
       "       3.04747105e-04, 3.83072549e-04, 3.71178459e-04, 1.58037623e-04,\n",
       "       2.20961324e-04, 1.44454266e-05, 3.64255966e-04, 1.36701033e-04,\n",
       "       2.65157624e-04, 1.47023763e-04])</pre></span></li></ul></div></li><li class='sc-section-item'><input id='section-dc5bba69-f5ff-4bb8-9910-142edbece514' class='sc-section-summary-in' type='checkbox'  checked><label for='section-dc5bba69-f5ff-4bb8-9910-142edbece514' class='sc-section-summary' >Data: <span>(1)</span></label><div class='sc-section-inline-details'></div><div class='sc-section-details'><ul class='sc-var-list'><li class='sc-var-item'><div class='sc-var-name'><span></span></div><div class='sc-var-dims'>(x)</div><div class='sc-var-dtype'>float64</div><div class='sc-var-unit'>counts</div><div class='sc-value-preview sc-preview'><span><div>1.0, 1.0, ..., 1.0, 1.0</div></span></div><input id='attrs-ae0b6c13-315d-4aa0-94e8-2dae76a4606d' class='sc-var-attrs-in' type='checkbox' disabled><label for='attrs-ae0b6c13-315d-4aa0-94e8-2dae76a4606d' class='sc-hide-icon' title='Show/Hide attributes'><svg class='icon sc-icon-file-text2'><use xlink:href='#icon-file-text2'></use></svg></label><input id='data-c2d08d75-3274-4844-b848-dc24518f1819' class='sc-var-data-in' type='checkbox'><label for='data-c2d08d75-3274-4844-b848-dc24518f1819' title='Show/Hide data repr'><svg class='icon sc-icon-database'><use xlink:href='#icon-database'></use></svg></label><pre class='sc-var-data'>Values:<br>array([1., 1., 1., 1., 1., 1., 1., 1., 1., 1., 1., 1., 1., 1., 1., 1., 1.,\n",
       "       1.])</pre></li></ul></div></li></ul></div></div>"
      ],
      "text/plain": [
       "<scipp.DataArray>\n",
       "Dimensions: Sizes[x:18, ]\n",
       "Coordinates:\n",
       "  panel                       int64        <no unit>  (x)  [0, 0, ..., 0, 0]\n",
       "  t                         float64             [ms]  (x)  [0.115425, 0.127497, ..., 0.111993, 0.120202]\n",
       "  x                         float64              [m]  (x)  [4.30995e-05, 0.000124131, ..., 0.000265313, 2.47999e-05]\n",
       "  y                         float64              [m]  (x)  [0.000146436, 6.52932e-06, ..., 0.000265158, 0.000147024]\n",
       "Data:\n",
       "                            float64         [counts]  (x)  [1, 1, ..., 1, 1]\n"
      ]
     },
     "execution_count": 33,
     "metadata": {},
     "output_type": "execute_result"
    }
   ],
   "source": [
    "p1 = da3.fold('id', sizes={'xpix':1280, 'ypix':-1})['panel', 0]\n",
    "p11 = da3['panel',0]\n",
    "p11[0].values"
   ]
  },
  {
   "cell_type": "markdown",
   "metadata": {},
   "source": [
    "dd 2D binning (x and y)"
   ]
  },
  {
   "cell_type": "code",
   "execution_count": 34,
   "metadata": {},
   "outputs": [
    {
     "data": {
      "text/html": [
       "<div><!-- Original source from -->\n",
       "<!-- https://github.com/jsignell/xarray/blob/1d960933ab252e0f79f7e050e6c9261d55568057/xarray/static/html/icons-svg-inline.html -->\n",
       "<svg style=\"position: absolute; width: 0; height: 0; overflow: hidden\">\n",
       "<defs>\n",
       "<symbol id=\"icon-database\" viewBox=\"0 0 32 32\">\n",
       "<title>Show/Hide data repr</title>\n",
       "<path d=\"M16 0c-8.837 0-16 2.239-16 5v4c0 2.761 7.163 5 16 5s16-2.239 16-5v-4c0-2.761-7.163-5-16-5z\"></path>\n",
       "<path d=\"M16 17c-8.837 0-16-2.239-16-5v6c0 2.761 7.163 5 16 5s16-2.239 16-5v-6c0 2.761-7.163 5-16 5z\"></path>\n",
       "<path d=\"M16 26c-8.837 0-16-2.239-16-5v6c0 2.761 7.163 5 16 5s16-2.239 16-5v-6c0 2.761-7.163 5-16 5z\"></path>\n",
       "</symbol>\n",
       "<symbol id=\"icon-file-text2\" viewBox=\"0 0 32 32\">\n",
       "<title>Show/Hide attributes</title>\n",
       "<path d=\"M28.681 7.159c-0.694-0.947-1.662-2.053-2.724-3.116s-2.169-2.030-3.116-2.724c-1.612-1.182-2.393-1.319-2.841-1.319h-15.5c-1.378 0-2.5 1.121-2.5 2.5v27c0 1.378 1.122 2.5 2.5 2.5h23c1.378 0 2.5-1.122 2.5-2.5v-19.5c0-0.448-0.137-1.23-1.319-2.841zM24.543 5.457c0.959 0.959 1.712 1.825 2.268 2.543h-4.811v-4.811c0.718 0.556 1.584 1.309 2.543 2.268zM28 29.5c0 0.271-0.229 0.5-0.5 0.5h-23c-0.271 0-0.5-0.229-0.5-0.5v-27c0-0.271 0.229-0.5 0.5-0.5 0 0 15.499-0 15.5 0v7c0 0.552 0.448 1 1 1h7v19.5z\"></path>\n",
       "<path d=\"M23 26h-14c-0.552 0-1-0.448-1-1s0.448-1 1-1h14c0.552 0 1 0.448 1 1s-0.448 1-1 1z\"></path>\n",
       "<path d=\"M23 22h-14c-0.552 0-1-0.448-1-1s0.448-1 1-1h14c0.552 0 1 0.448 1 1s-0.448 1-1 1z\"></path>\n",
       "<path d=\"M23 18h-14c-0.552 0-1-0.448-1-1s0.448-1 1-1h14c0.552 0 1 0.448 1 1s-0.448 1-1 1z\"></path>\n",
       "</symbol>\n",
       "</defs>\n",
       "</svg><style id=\"scipp-style-sheet\">.sc-root{--sc-background-color0:var(--jp-layout-color0,#fff);--sc-background-color1:var(--jp-layout-color1,#fcfcfc);--sc-background-color2:var(--jp-layout-color2,#efefef);--sc-inverse-background-color0:var(--jp-inverse-layout-color4,#111);--sc-font-color0:var(--jp-content-font-color0,#000);--sc-font-color1:var(--jp-content-font-color1,#555);--sc-font-color2:var(--jp-content-font-color2,#888);--sc-font-color3:var(--jp-content-font-color3,#ccc);--sc-table-data-color:#f6d028;--sc-table-coords-color:#c6e590;--sc-table-masks-color:#c8c8c8;--sc-table-attrs-color:#ff5555;--sc-table-header-font-color:#111111;}.sc-wrap{font-size:14px;min-width:300px;max-width:800px;}.sc-var-attrs .sc-wrap{padding-left:3em;}.sc-header{padding-top:6px;padding-bottom:6px;margin-bottom:4px;border-bottom:solid 1px #ddd;}.sc-header > div,.sc-header > ul{display:inline;margin-top:0;margin-bottom:0;}.sc-obj-type,.sc-array-name{margin-left:2px;margin-right:10px;}.sc-obj-type{color:var(--sc-font-color1);}.sc-underlying-size{color:var(--sc-font-color2);}.sc-sections,.reveal .sc-sections{padding-left:0 !important;display:grid;grid-template-columns:150px auto auto auto 1fr 20px 20px;}.sc-section-item{display:contents;}.sc-section-item input{display:none;}.sc-section-item input:enabled + label{cursor:pointer;color:var(--sc-font-color1);}.sc-section-item input:enabled + label:hover{color:var(--sc-font-color0);}.sc-section-summary{grid-column:1;font-weight:500;}.sc-section-summary > span{display:inline-block;padding-left:0.5em;}.sc-section-summary-in:disabled + label{color:var(--sc-font-color1);}.sc-section-summary-in + label:before{display:inline-block;content:'►';font-size:11px;width:15px;text-align:center;}.sc-section-summary-in:disabled + label:before{color:var(--sc-font-color3);}.sc-section-summary-in:checked + label:before{content:'▼';}.sc-section-summary-in:checked + label > span{display:none;}.sc-section-summary,.sc-section-inline-details{padding-top:4px;padding-bottom:4px;}.sc-section-inline-details{grid-column:2 / 6;}.sc-section-details{display:none;grid-column:1 / -1;margin-bottom:5px;}.sc-section-summary-in:checked ~ .sc-section-details{display:contents;}.sc-array-wrap{grid-column:1 / -1;display:grid;grid-template-columns:20px auto;}.sc-array-wrap > label{grid-column:1;vertical-align:top;}.sc-preview{color:var(--sc-font-color2);}.sc-array-preview,.sc-array-data{padding:0 5px !important;grid-column:2;}.sc-array-data,.sc-array-in:checked ~ .sc-array-preview{display:none;}.sc-array-in:checked ~ .sc-array-data,.sc-array-preview{display:inline-block;}.sc-dim-list{display:inline-block !important;list-style:none;padding:0 !important;margin:0;}.sc-dim-list li{display:inline-block;padding:0;margin:0!important;}.sc-dim-list:before{content:'(';}.sc-dim-list:after{content:')';}.sc-dim-list li:not(:last-child):after{content:',';padding-right:5px;}.sc-has-index{font-weight:bold;}.sc-var-list,.sc-var-item,.reveal .sc-var-list,.reveal .sc-var-item{display:contents;}.sc-var-item > div,.sc-var-item label,.sc-var-item > .sc-var-name span{background-color:var(--sc-background-color1);margin-bottom:0;}.sc-var-item > .sc-var-name:hover span{padding-right:5px;}.sc-var-list > li:nth-child(odd) > div,.sc-var-list > li:nth-child(odd) > label,.sc-var-list > li:nth-child(odd) > .sc-var-name span{background-color:var(--sc-background-color2);}.sc-var-name{grid-column:1;}.sc-var-dims{grid-column:2;}.sc-var-dtype{grid-column:3;text-align:right;color:var(--sc-font-color2);}.sc-var-unit{grid-column:4;text-align:left;color:var(--sc-font-color1);max-width:50pt;text-overflow:ellipsis;}.sc-value-preview{grid-column:5;}.sc-var-preview-variances{text-align:right;}.sc-sections .sc-section-item .sc-section-summary,.sc-sections .sc-section-item .sc-section-inline-details,.sc-section-item .sc-var-list .sc-var-item > div,.sc-section-item .sc-var-list .sc-var-item > label,.sc-section-details .sc-var-list .sc-var-item > div,.sc-section-details .sc-var-list .sc-var-item > label{margin-top:0;margin-bottom:0;}.sc-var-name,.sc-var-dims,.sc-var-dtype,.sc-var-unit,.sc-preview,.sc-attrs dt{white-space:nowrap;overflow:hidden;text-overflow:ellipsis;padding-right:10px;}.sc-var-name:hover,.sc-var-dims:hover,.sc-var-dtype:hover,.sc-var-unit:hover,.sc-attrs dt:hover{overflow:visible;width:auto;z-index:1;}.sc-var-attrs{display:block;}.sc-var-data,.reveal .sc-var-data{display:none;}.sc-var-attrs,.sc-var-data{background-color:var(--sc-background-color0) !important;padding-bottom:5px !important;}.sc-var-attrs-in:checked ~ .sc-var-attrs{display:none;}.sc-var-data-in:checked ~ .sc-var-data{display:block;}.sc-var-data > table{float:right;}.sc-var-name span,.sc-var-data{padding-left:25px !important;}.sc-var-attrs,.sc-var-data{grid-column:1 / -1;}dl.sc-attrs{padding:0;margin:0;display:grid;grid-template-columns:125px auto;}.sc-attrs dt,dd{padding:0;margin:0;float:left;padding-right:10px;width:auto;}.sc-attrs dt{font-weight:normal;grid-column:1;}.sc-attrs dt:hover span{display:inline-block;padding-right:10px;}.sc-attrs dd{grid-column:2;white-space:pre-wrap;word-break:break-all;}.sc-icon-database,.sc-icon-file-text2{display:inline-block;vertical-align:middle;width:1em;height:1.5em !important;stroke-width:0;stroke:currentColor;fill:currentColor;}label.sc-hide-icon svg{opacity:0;}.sc-standalone-var-name{grid-column:1/3;}.sc-standalone-var-name span{padding-left:25px;padding-right:10px;}.sc-table{border-collapse:collapse;}.sc-title{font-weight:bold;font-size:1.5em;}.sc-subtitle{font-weight:normal;font-style:italic;text-align:left;font-size:1.2em;padding:1px;}.sc-table th,.sc-table td{border:1px solid var(--sc-inverse-background-color0);padding:0 5px 0 5px;}.sc-table th{text-align:center;}.sc-table tr{background-color:var(--sc-background-color1);text-align:right;}.sc-table tr:hover{background-color:var(--sc-background-color2);}.sc-table th.sc-data{background-color:var(--sc-table-data-color);color:var(--sc-table-header-font-color);}.sc-table th.sc-coords{background-color:var(--sc-table-coords-color);color:var(--sc-table-header-font-color);}.sc-table th.sc-masks{background-color:var(--sc-table-masks-color);color:var(--sc-table-header-font-color);}.sc-table th.sc-attrs{background-color:var(--sc-table-attrs-color);color:var(--sc-table-header-font-color);}.sc-table th.sc-subheader{background-color:var(--sc-background-color2);}.sc-table td.sc-padding{background-color:var(--sc-background-color1);border:0 solid var(--sc-background-color1);height:1.2em;}.sc-label{fill:var(--sc-font-color0,#444444);text-anchor:middle;}.sc-name{fill:var(--sc-font-color0,#111111);}.sc-inset-line{stroke:var(--sc-font-color1);stroke-width:0.05;stroke-dasharray:0.2,0.2;}.sc-log-wrap{height:25ex;resize:vertical;overflow-y:scroll;display:flex;flex-direction:column-reverse;border:1px solid;border-color:var(--jp-border-color2);background-color:var(--sc-background-color1);}div.sc-log{line-height:2.5ex;}table.sc-log{table-layout:auto;border-collapse:collapse;}tr.sc-log:nth-child(even){background-color:var(--sc-background-color0);}tr.sc-log > td{vertical-align:top;padding-bottom:0.5ex;}.sc-log-time-stamp{min-width:22ch;font-family:var(--jp-code-font-family);color:var(--sc-font-color2);}.sc-log-level{min-width:10ch;}tr.sc-log-debug td.sc-log-level{color:var(--jp-accent-color1);}tr.sc-log-info td.sc-log-level{color:var(--jp-info-color1);}tr.sc-log-warning td.sc-log-level{color:var(--jp-warn-color1);}tr.sc-log-error td.sc-log-level{font-weight:bold;color:var(--jp-error-color2);}tr.sc-log-critical td.sc-log-level{font-weight:bold;color:var(--sc-background-color0);background-color:var(--jp-error-color1);}.sc-log-message{white-space:pre-wrap;width:100%;}.sc-log-html-payload{white-space:normal;}.sc-log-name{padding-right:0.5em;text-align:right;white-space:pre-wrap;color:var(--sc-font-color3);}</style><div class='sc-wrap sc-root'><div class='sc-header'><div class='sc-obj-type'>scipp.DataArray (6.64 GB)</div></div><ul class='sc-sections'><li class='sc-section-item'><input id='section-bd9ac58d-18ed-4c60-af76-b033560686c6' class='sc-section-summary-in' type='checkbox' disabled ><label for='section-bd9ac58d-18ed-4c60-af76-b033560686c6' class='sc-section-summary'  title='Expand/collapse section'>Dimensions:</label><div class='sc-section-inline-details'><ul class='sc-dim-list'><li><span class='sc-has-index'>x</span>: 250</li><li><span class='sc-has-index'>y</span>: 250</li></ul></div><div class='sc-section-details'></div></li><li class='sc-section-item'><input id='section-c634699a-daa4-465f-8e30-69a6913b628c' class='sc-section-summary-in' type='checkbox'  checked><label for='section-c634699a-daa4-465f-8e30-69a6913b628c' class='sc-section-summary' >Coordinates: <span>(2)</span></label><div class='sc-section-inline-details'></div><div class='sc-section-details'><ul class='sc-var-list'><li class='sc-var-item'><div class='sc-var-name'><span class='sc-has-index'>x</span></div><div class='sc-var-dims'>(x [bin-edge])</div><div class='sc-var-dtype'>float64</div><div class='sc-var-unit'>m</div><div class='sc-value-preview sc-preview'><span><div>7.224e-10, 0.002, ..., 0.510, 0.512</div></span></div><input id='attrs-58655ce5-cbe3-44e0-a42a-cf5c9c3badc5' class='sc-var-attrs-in' type='checkbox' disabled><label for='attrs-58655ce5-cbe3-44e0-a42a-cf5c9c3badc5' class='sc-hide-icon' title='Show/Hide attributes'><svg class='icon sc-icon-file-text2'><use xlink:href='#icon-file-text2'></use></svg></label><input id='data-d8da391b-5a89-49c3-a9d3-b5280a167c4c' class='sc-var-data-in' type='checkbox'><label for='data-d8da391b-5a89-49c3-a9d3-b5280a167c4c' title='Show/Hide data repr'><svg class='icon sc-icon-database'><use xlink:href='#icon-database'></use></svg></label><pre class='sc-var-data'>Values:<br>array([7.22382265e-10, 2.04800071e-03, 4.09600070e-03, 6.14400069e-03,\n",
       "       8.19200068e-03, 1.02400007e-02, 1.22880007e-02, 1.43360006e-02,\n",
       "       1.63840006e-02, 1.84320006e-02, 2.04800006e-02, 2.25280006e-02,\n",
       "       2.45760006e-02, 2.66240006e-02, 2.86720006e-02, 3.07200006e-02,\n",
       "       3.27680006e-02, 3.48160005e-02, 3.68640005e-02, 3.89120005e-02,\n",
       "       4.09600005e-02, 4.30080005e-02, 4.50560005e-02, 4.71040005e-02,\n",
       "       4.91520005e-02, 5.12000005e-02, 5.32480004e-02, 5.52960004e-02,\n",
       "       5.73440004e-02, 5.93920004e-02, 6.14400004e-02, 6.34880004e-02,\n",
       "       6.55360004e-02, 6.75840004e-02, 6.96320004e-02, 7.16800003e-02,\n",
       "       7.37280003e-02, 7.57760003e-02, 7.78240003e-02, 7.98720003e-02,\n",
       "       8.19200003e-02, 8.39680003e-02, 8.60160003e-02, 8.80640003e-02,\n",
       "       9.01120003e-02, 9.21600002e-02, 9.42080002e-02, 9.62560002e-02,\n",
       "       9.83040002e-02, 1.00352000e-01, 1.02400000e-01, 1.04448000e-01,\n",
       "       1.06496000e-01, 1.08544000e-01, 1.10592000e-01, 1.12640000e-01,\n",
       "       1.14688000e-01, 1.16736000e-01, 1.18784000e-01, 1.20832000e-01,\n",
       "       1.22880000e-01, 1.24928000e-01, 1.26976000e-01, 1.29024000e-01,\n",
       "       1.31072000e-01, 1.33120000e-01, 1.35168000e-01, 1.37216000e-01,\n",
       "       1.39264000e-01, 1.41312000e-01, 1.43360000e-01, 1.45408000e-01,\n",
       "       1.47456000e-01, 1.49504000e-01, 1.51552000e-01, 1.53600000e-01,\n",
       "       1.55648000e-01, 1.57696000e-01, 1.59744000e-01, 1.61792000e-01,\n",
       "       1.63840000e-01, 1.65888000e-01, 1.67936000e-01, 1.69984000e-01,\n",
       "       1.72032000e-01, 1.74080000e-01, 1.76128000e-01, 1.78176000e-01,\n",
       "       1.80224000e-01, 1.82272000e-01, 1.84320000e-01, 1.86368000e-01,\n",
       "       1.88416000e-01, 1.90464000e-01, 1.92512000e-01, 1.94560000e-01,\n",
       "       1.96608000e-01, 1.98656000e-01, 2.00704000e-01, 2.02752000e-01,\n",
       "       2.04800000e-01, 2.06848000e-01, 2.08896000e-01, 2.10944000e-01,\n",
       "       2.12992000e-01, 2.15040000e-01, 2.17088000e-01, 2.19136000e-01,\n",
       "       2.21184000e-01, 2.23232000e-01, 2.25280000e-01, 2.27328000e-01,\n",
       "       2.29376000e-01, 2.31424000e-01, 2.33472000e-01, 2.35519999e-01,\n",
       "       2.37567999e-01, 2.39615999e-01, 2.41663999e-01, 2.43711999e-01,\n",
       "       2.45759999e-01, 2.47807999e-01, 2.49855999e-01, 2.51903999e-01,\n",
       "       2.53951999e-01, 2.55999999e-01, 2.58047999e-01, 2.60095999e-01,\n",
       "       2.62143999e-01, 2.64191999e-01, 2.66239999e-01, 2.68287999e-01,\n",
       "       2.70335999e-01, 2.72383999e-01, 2.74431999e-01, 2.76479999e-01,\n",
       "       2.78527999e-01, 2.80575999e-01, 2.82623999e-01, 2.84671999e-01,\n",
       "       2.86719999e-01, 2.88767999e-01, 2.90815999e-01, 2.92863999e-01,\n",
       "       2.94911999e-01, 2.96959999e-01, 2.99007999e-01, 3.01055999e-01,\n",
       "       3.03103999e-01, 3.05151999e-01, 3.07199999e-01, 3.09247999e-01,\n",
       "       3.11295999e-01, 3.13343999e-01, 3.15391999e-01, 3.17439999e-01,\n",
       "       3.19487999e-01, 3.21535999e-01, 3.23583999e-01, 3.25631999e-01,\n",
       "       3.27679999e-01, 3.29727999e-01, 3.31775999e-01, 3.33823999e-01,\n",
       "       3.35871999e-01, 3.37919999e-01, 3.39967999e-01, 3.42015999e-01,\n",
       "       3.44063999e-01, 3.46111999e-01, 3.48159999e-01, 3.50207999e-01,\n",
       "       3.52255999e-01, 3.54303999e-01, 3.56351999e-01, 3.58399999e-01,\n",
       "       3.60447999e-01, 3.62495999e-01, 3.64543999e-01, 3.66591999e-01,\n",
       "       3.68639999e-01, 3.70687999e-01, 3.72735999e-01, 3.74783999e-01,\n",
       "       3.76831999e-01, 3.78879999e-01, 3.80927999e-01, 3.82975999e-01,\n",
       "       3.85023999e-01, 3.87071999e-01, 3.89119999e-01, 3.91167999e-01,\n",
       "       3.93215999e-01, 3.95263999e-01, 3.97311999e-01, 3.99359999e-01,\n",
       "       4.01407999e-01, 4.03455999e-01, 4.05503999e-01, 4.07551999e-01,\n",
       "       4.09599999e-01, 4.11647999e-01, 4.13695999e-01, 4.15743999e-01,\n",
       "       4.17791999e-01, 4.19839999e-01, 4.21887999e-01, 4.23935999e-01,\n",
       "       4.25983999e-01, 4.28031998e-01, 4.30079998e-01, 4.32127998e-01,\n",
       "       4.34175998e-01, 4.36223998e-01, 4.38271998e-01, 4.40319998e-01,\n",
       "       4.42367998e-01, 4.44415998e-01, 4.46463998e-01, 4.48511998e-01,\n",
       "       4.50559998e-01, 4.52607998e-01, 4.54655998e-01, 4.56703998e-01,\n",
       "       4.58751998e-01, 4.60799998e-01, 4.62847998e-01, 4.64895998e-01,\n",
       "       4.66943998e-01, 4.68991998e-01, 4.71039998e-01, 4.73087998e-01,\n",
       "       4.75135998e-01, 4.77183998e-01, 4.79231998e-01, 4.81279998e-01,\n",
       "       4.83327998e-01, 4.85375998e-01, 4.87423998e-01, 4.89471998e-01,\n",
       "       4.91519998e-01, 4.93567998e-01, 4.95615998e-01, 4.97663998e-01,\n",
       "       4.99711998e-01, 5.01759998e-01, 5.03807998e-01, 5.05855998e-01,\n",
       "       5.07903998e-01, 5.09951998e-01, 5.11999998e-01])</pre></span></li><li class='sc-var-item'><div class='sc-var-name'><span class='sc-has-index'>y</span></div><div class='sc-var-dims'>(y [bin-edge])</div><div class='sc-var-dtype'>float64</div><div class='sc-var-unit'>m</div><div class='sc-value-preview sc-preview'><span><div>1.365e-09, 0.002, ..., 0.510, 0.512</div></span></div><input id='attrs-f0504e60-fdc7-4812-9621-008ef3bd4397' class='sc-var-attrs-in' type='checkbox' disabled><label for='attrs-f0504e60-fdc7-4812-9621-008ef3bd4397' class='sc-hide-icon' title='Show/Hide attributes'><svg class='icon sc-icon-file-text2'><use xlink:href='#icon-file-text2'></use></svg></label><input id='data-e9630abf-2c27-4ad3-b8a6-45985f3ddc7b' class='sc-var-data-in' type='checkbox'><label for='data-e9630abf-2c27-4ad3-b8a6-45985f3ddc7b' title='Show/Hide data repr'><svg class='icon sc-icon-database'><use xlink:href='#icon-database'></use></svg></label><pre class='sc-var-data'>Values:<br>array([1.36487022e-09, 2.04800135e-03, 4.09600134e-03, 6.14400133e-03,\n",
       "       8.19200132e-03, 1.02400013e-02, 1.22880013e-02, 1.43360013e-02,\n",
       "       1.63840013e-02, 1.84320013e-02, 2.04800012e-02, 2.25280012e-02,\n",
       "       2.45760012e-02, 2.66240012e-02, 2.86720012e-02, 3.07200012e-02,\n",
       "       3.27680012e-02, 3.48160012e-02, 3.68640011e-02, 3.89120011e-02,\n",
       "       4.09600011e-02, 4.30080011e-02, 4.50560011e-02, 4.71040011e-02,\n",
       "       4.91520011e-02, 5.12000011e-02, 5.32480010e-02, 5.52960010e-02,\n",
       "       5.73440010e-02, 5.93920010e-02, 6.14400010e-02, 6.34880010e-02,\n",
       "       6.55360010e-02, 6.75840010e-02, 6.96320009e-02, 7.16800009e-02,\n",
       "       7.37280009e-02, 7.57760009e-02, 7.78240009e-02, 7.98720009e-02,\n",
       "       8.19200009e-02, 8.39680009e-02, 8.60160008e-02, 8.80640008e-02,\n",
       "       9.01120008e-02, 9.21600008e-02, 9.42080008e-02, 9.62560008e-02,\n",
       "       9.83040008e-02, 1.00352001e-01, 1.02400001e-01, 1.04448001e-01,\n",
       "       1.06496001e-01, 1.08544001e-01, 1.10592001e-01, 1.12640001e-01,\n",
       "       1.14688001e-01, 1.16736001e-01, 1.18784001e-01, 1.20832001e-01,\n",
       "       1.22880001e-01, 1.24928001e-01, 1.26976001e-01, 1.29024001e-01,\n",
       "       1.31072001e-01, 1.33120001e-01, 1.35168001e-01, 1.37216001e-01,\n",
       "       1.39264001e-01, 1.41312001e-01, 1.43360000e-01, 1.45408000e-01,\n",
       "       1.47456000e-01, 1.49504000e-01, 1.51552000e-01, 1.53600000e-01,\n",
       "       1.55648000e-01, 1.57696000e-01, 1.59744000e-01, 1.61792000e-01,\n",
       "       1.63840000e-01, 1.65888000e-01, 1.67936000e-01, 1.69984000e-01,\n",
       "       1.72032000e-01, 1.74080000e-01, 1.76128000e-01, 1.78176000e-01,\n",
       "       1.80224000e-01, 1.82272000e-01, 1.84320000e-01, 1.86368000e-01,\n",
       "       1.88416000e-01, 1.90464000e-01, 1.92512000e-01, 1.94560000e-01,\n",
       "       1.96608000e-01, 1.98656000e-01, 2.00704000e-01, 2.02752000e-01,\n",
       "       2.04800000e-01, 2.06848000e-01, 2.08896000e-01, 2.10944000e-01,\n",
       "       2.12992000e-01, 2.15040000e-01, 2.17088000e-01, 2.19136000e-01,\n",
       "       2.21184000e-01, 2.23232000e-01, 2.25280000e-01, 2.27328000e-01,\n",
       "       2.29376000e-01, 2.31424000e-01, 2.33472000e-01, 2.35520000e-01,\n",
       "       2.37568000e-01, 2.39616000e-01, 2.41664000e-01, 2.43712000e-01,\n",
       "       2.45760000e-01, 2.47808000e-01, 2.49856000e-01, 2.51904000e-01,\n",
       "       2.53952000e-01, 2.56000000e-01, 2.58048000e-01, 2.60096000e-01,\n",
       "       2.62144000e-01, 2.64192000e-01, 2.66240000e-01, 2.68288000e-01,\n",
       "       2.70336000e-01, 2.72384000e-01, 2.74432000e-01, 2.76480000e-01,\n",
       "       2.78528000e-01, 2.80576000e-01, 2.82624000e-01, 2.84672000e-01,\n",
       "       2.86720000e-01, 2.88768000e-01, 2.90816000e-01, 2.92864000e-01,\n",
       "       2.94912000e-01, 2.96960000e-01, 2.99008000e-01, 3.01056000e-01,\n",
       "       3.03104000e-01, 3.05152000e-01, 3.07200000e-01, 3.09247999e-01,\n",
       "       3.11295999e-01, 3.13343999e-01, 3.15391999e-01, 3.17439999e-01,\n",
       "       3.19487999e-01, 3.21535999e-01, 3.23583999e-01, 3.25631999e-01,\n",
       "       3.27679999e-01, 3.29727999e-01, 3.31775999e-01, 3.33823999e-01,\n",
       "       3.35871999e-01, 3.37919999e-01, 3.39967999e-01, 3.42015999e-01,\n",
       "       3.44063999e-01, 3.46111999e-01, 3.48159999e-01, 3.50207999e-01,\n",
       "       3.52255999e-01, 3.54303999e-01, 3.56351999e-01, 3.58399999e-01,\n",
       "       3.60447999e-01, 3.62495999e-01, 3.64543999e-01, 3.66591999e-01,\n",
       "       3.68639999e-01, 3.70687999e-01, 3.72735999e-01, 3.74783999e-01,\n",
       "       3.76831999e-01, 3.78879999e-01, 3.80927999e-01, 3.82975999e-01,\n",
       "       3.85023999e-01, 3.87071999e-01, 3.89119999e-01, 3.91167999e-01,\n",
       "       3.93215999e-01, 3.95263999e-01, 3.97311999e-01, 3.99359999e-01,\n",
       "       4.01407999e-01, 4.03455999e-01, 4.05503999e-01, 4.07551999e-01,\n",
       "       4.09599999e-01, 4.11647999e-01, 4.13695999e-01, 4.15743999e-01,\n",
       "       4.17791999e-01, 4.19839999e-01, 4.21887999e-01, 4.23935999e-01,\n",
       "       4.25983999e-01, 4.28031999e-01, 4.30079999e-01, 4.32127999e-01,\n",
       "       4.34175999e-01, 4.36223999e-01, 4.38271999e-01, 4.40319999e-01,\n",
       "       4.42367999e-01, 4.44415999e-01, 4.46463999e-01, 4.48511999e-01,\n",
       "       4.50559999e-01, 4.52607999e-01, 4.54655999e-01, 4.56703999e-01,\n",
       "       4.58751999e-01, 4.60799999e-01, 4.62847999e-01, 4.64895999e-01,\n",
       "       4.66943999e-01, 4.68991999e-01, 4.71039999e-01, 4.73087998e-01,\n",
       "       4.75135998e-01, 4.77183998e-01, 4.79231998e-01, 4.81279998e-01,\n",
       "       4.83327998e-01, 4.85375998e-01, 4.87423998e-01, 4.89471998e-01,\n",
       "       4.91519998e-01, 4.93567998e-01, 4.95615998e-01, 4.97663998e-01,\n",
       "       4.99711998e-01, 5.01759998e-01, 5.03807998e-01, 5.05855998e-01,\n",
       "       5.07903998e-01, 5.09951998e-01, 5.11999998e-01])</pre></span></li></ul></div></li><li class='sc-section-item'><input id='section-67db1756-fedb-4f34-835e-0e151ff39fce' class='sc-section-summary-in' type='checkbox'  checked><label for='section-67db1756-fedb-4f34-835e-0e151ff39fce' class='sc-section-summary' >Data: <span>(1)</span></label><div class='sc-section-inline-details'></div><div class='sc-section-details'><ul class='sc-var-list'><li class='sc-var-item'><div class='sc-var-name'><span></span></div><div class='sc-var-dims'>(x, y)</div><div class='sc-var-dtype'>DataArrayView</div><div class='sc-var-unit'></div><div class='sc-value-preview sc-preview'><span><div>binned data [len=1028, len=990, ..., len=937, len=946]</div></span></div><input id='attrs-90f5c284-d64c-4cbf-a8e4-37b33429ed88' class='sc-var-attrs-in' type='checkbox' disabled><label for='attrs-90f5c284-d64c-4cbf-a8e4-37b33429ed88' class='sc-hide-icon' title='Show/Hide attributes'><svg class='icon sc-icon-file-text2'><use xlink:href='#icon-file-text2'></use></svg></label><input id='data-a219dcf7-53b5-4d4b-aaa0-a7089c9632be' class='sc-var-data-in' type='checkbox'><label for='data-a219dcf7-53b5-4d4b-aaa0-a7089c9632be' title='Show/Hide data repr'><svg class='icon sc-icon-database'><use xlink:href='#icon-database'></use></svg></label><pre class='sc-var-data'>Values:<br>[&lt;scipp.DataArray&gt;\n",
       "Dimensions: Sizes[x:1028, ]\n",
       "Coordinates:\n",
       "  id                          int64        &lt;no unit&gt;  (x)  [1282, 3841, ..., 4005122, 4002560]\n",
       "  panel                       int64        &lt;no unit&gt;  (x)  [0, 0, ..., 2, 2]\n",
       "  t                         float64             [ms]  (x)  [0.112664, 0.127311, ..., 0.0999108, 0.0964715]\n",
       "  x                         float64              [m]  (x)  [0.000641259, 3.1903e-05, ..., 0.0011974, 0.000203272]\n",
       "  y                         float64              [m]  (x)  [0.000691224, 0.00157025, ..., 0.00174735, 0.000838202]\n",
       "Data:\n",
       "                            float64         [counts]  (x)  [1, 1, ..., 1, 1]\n",
       "\n",
       ", &lt;scipp.DataArray&gt;\n",
       "Dimensions: Sizes[x:990, ]\n",
       "Coordinates:\n",
       "  id                          int64        &lt;no unit&gt;  (x)  [8965, 11523, ..., 4010244, 4008963]\n",
       "  panel                       int64        &lt;no unit&gt;  (x)  [0, 0, ..., 2, 2]\n",
       "  t                         float64             [ms]  (x)  [0.100097, 0.11718, ..., 0.122479, 0.0979903]\n",
       "  x                         float64              [m]  (x)  [0.00199347, 0.000902203, ..., 0.00185533, 0.00122975]\n",
       "  y                         float64              [m]  (x)  [0.0030311, 0.0037081, ..., 0.00329541, 0.00282283]\n",
       "Data:\n",
       "                            float64         [counts]  (x)  [1, 1, ..., 1, 1]\n",
       "\n",
       ", ..., &lt;scipp.DataArray&gt;\n",
       "Dimensions: Sizes[x:937, ]\n",
       "Coordinates:\n",
       "  id                          int64        &lt;no unit&gt;  (x)  [1626879, 1626879, ..., 5630716, 5629435]\n",
       "  panel                       int64        &lt;no unit&gt;  (x)  [0, 0, ..., 2, 2]\n",
       "  t                         float64             [ms]  (x)  [0.108813, 0.120982, ..., 0.112847, 0.133806]\n",
       "  x                         float64              [m]  (x)  [0.511484, 0.511414, ..., 0.510731, 0.510144]\n",
       "  y                         float64              [m]  (x)  [0.508245, 0.508343, ..., 0.509419, 0.508935]\n",
       "Data:\n",
       "                            float64         [counts]  (x)  [1, 1, ..., 1, 1]\n",
       "\n",
       ", &lt;scipp.DataArray&gt;\n",
       "Dimensions: Sizes[x:946, ]\n",
       "Coordinates:\n",
       "  id                          int64        &lt;no unit&gt;  (x)  [1638400, 1638396, ..., 5637116, 5634556]\n",
       "  panel                       int64        &lt;no unit&gt;  (x)  [0, 0, ..., 2, 2]\n",
       "  t                         float64             [ms]  (x)  [0.107972, 0.133262, ..., 0.114062, 0.118558]\n",
       "  x                         float64              [m]  (x)  [0.511943, 0.510145, ..., 0.510689, 0.51067]\n",
       "  y                         float64              [m]  (x)  [0.511601, 0.511923, ..., 0.511461, 0.51065]\n",
       "Data:\n",
       "                            float64         [counts]  (x)  [1, 1, ..., 1, 1]\n",
       "\n",
       "]</pre></li></ul></div></li></ul></div></div>"
      ],
      "text/plain": [
       "<scipp.DataArray>\n",
       "Dimensions: Sizes[x:250, y:250, ]\n",
       "Coordinates:\n",
       "  x                         float64              [m]  (x [bin-edge])  [7.22382e-10, 0.002048, ..., 0.509952, 0.512]\n",
       "  y                         float64              [m]  (y [bin-edge])  [1.36487e-09, 0.002048, ..., 0.509952, 0.512]\n",
       "Data:\n",
       "                          DataArrayView        <no unit>  (x, y)  [<scipp.DataArray>\n",
       "Dimensions: Sizes[x:1028, ]\n",
       "Coordinates:\n",
       "  id                          int64        <no unit>  (x)  [1282, 3841, ..., 4005122, 4002560]\n",
       "  panel                       int64        <no unit>  (x)  [0, 0, ..., 2, 2]\n",
       "  t                         float64             [ms]  (x)  [0.112664, 0.127311, ..., 0.0999108, 0.0964715]\n",
       "  x                         float64              [m]  (x)  [0.000641259, 3.1903e-05, ..., 0.0011974, 0.000203272]\n",
       "  y                         float64              [m]  (x)  [0.000691224, 0.00157025, ..., 0.00174735, 0.000838202]\n",
       "Data:\n",
       "                            float64         [counts]  (x)  [1, 1, ..., 1, 1]\n",
       "\n",
       ", <scipp.DataArray>\n",
       "Dimensions: Sizes[x:990, ]\n",
       "Coordinates:\n",
       "  id                          int64        <no unit>  (x)  [8965, 11523, ..., 4010244, 4008963]\n",
       "  panel                       int64        <no unit>  (x)  [0, 0, ..., 2, 2]\n",
       "  t                         float64             [ms]  (x)  [0.100097, 0.11718, ..., 0.122479, 0.0979903]\n",
       "  x                         float64              [m]  (x)  [0.00199347, 0.000902203, ..., 0.00185533, 0.00122975]\n",
       "  y                         float64              [m]  (x)  [0.0030311, 0.0037081, ..., 0.00329541, 0.00282283]\n",
       "Data:\n",
       "                            float64         [counts]  (x)  [1, 1, ..., 1, 1]\n",
       "\n",
       ", ..., <scipp.DataArray>\n",
       "Dimensions: Sizes[x:937, ]\n",
       "Coordinates:\n",
       "  id                          int64        <no unit>  (x)  [1626879, 1626879, ..., 5630716, 5629435]\n",
       "  panel                       int64        <no unit>  (x)  [0, 0, ..., 2, 2]\n",
       "  t                         float64             [ms]  (x)  [0.108813, 0.120982, ..., 0.112847, 0.133806]\n",
       "  x                         float64              [m]  (x)  [0.511484, 0.511414, ..., 0.510731, 0.510144]\n",
       "  y                         float64              [m]  (x)  [0.508245, 0.508343, ..., 0.509419, 0.508935]\n",
       "Data:\n",
       "                            float64         [counts]  (x)  [1, 1, ..., 1, 1]\n",
       "\n",
       ", <scipp.DataArray>\n",
       "Dimensions: Sizes[x:946, ]\n",
       "Coordinates:\n",
       "  id                          int64        <no unit>  (x)  [1638400, 1638396, ..., 5637116, 5634556]\n",
       "  panel                       int64        <no unit>  (x)  [0, 0, ..., 2, 2]\n",
       "  t                         float64             [ms]  (x)  [0.107972, 0.133262, ..., 0.114062, 0.118558]\n",
       "  x                         float64              [m]  (x)  [0.511943, 0.510145, ..., 0.510689, 0.51067]\n",
       "  y                         float64              [m]  (x)  [0.511601, 0.511923, ..., 0.511461, 0.51065]\n",
       "Data:\n",
       "                            float64         [counts]  (x)  [1, 1, ..., 1, 1]\n",
       "\n",
       "]\n"
      ]
     },
     "execution_count": 34,
     "metadata": {},
     "output_type": "execute_result"
    }
   ],
   "source": [
    "nbin= pix\n",
    "nbin = 250\n",
    "binned = da.bin(y=nbin, x=nbin)\n",
    "#binned = da.bin(y=50, x=50)\n",
    "#binned = da.bin(y=225, x=225)\n",
    "#sc.transpose(binned)\n",
    "\n",
    "binned"
   ]
  },
  {
   "cell_type": "markdown",
   "metadata": {},
   "source": [
    "plot binned data, histogrammed over all times"
   ]
  },
  {
   "cell_type": "code",
   "execution_count": null,
   "metadata": {},
   "outputs": [],
   "source": [
    "fig = binned.hist().transpose().plot(aspect='equal')\n",
    "fig"
   ]
  },
  {
   "cell_type": "code",
   "execution_count": null,
   "metadata": {},
   "outputs": [],
   "source": []
  },
  {
   "cell_type": "markdown",
   "metadata": {},
   "source": [
    "3D binning"
   ]
  },
  {
   "cell_type": "code",
   "execution_count": null,
   "metadata": {},
   "outputs": [],
   "source": [
    "tbin=300\n",
    "hist3=binned.hist(t=tbin)"
   ]
  },
  {
   "cell_type": "markdown",
   "metadata": {},
   "source": [
    "histrogramm 3D data"
   ]
  },
  {
   "cell_type": "markdown",
   "metadata": {},
   "source": [
    "\n",
    "plot t slice"
   ]
  },
  {
   "cell_type": "code",
   "execution_count": null,
   "metadata": {},
   "outputs": [],
   "source": [
    "nb=60\n",
    "times=hist3.coords['t']\n",
    "#print(len(times))\n",
    "#print(len(times),times[nb],times[nb+1])\n",
    "hist3['t',nb].transpose().plot(aspect='equal')"
   ]
  },
  {
   "cell_type": "markdown",
   "metadata": {},
   "source": [
    "nn with pixel id"
   ]
  },
  {
   "cell_type": "code",
   "execution_count": null,
   "metadata": {},
   "outputs": [],
   "source": [
    "hist3"
   ]
  },
  {
   "cell_type": "code",
   "execution_count": null,
   "metadata": {},
   "outputs": [],
   "source": [
    "# del hist3.coords['tc']\n",
    "# del hist3.coords['xc']\n",
    "# del hist3.coords['yc']"
   ]
  },
  {
   "cell_type": "code",
   "execution_count": null,
   "metadata": {},
   "outputs": [],
   "source": [
    "hist4 = hist3.copy()\n",
    "for name in list(hist4.coords.keys()):\n",
    "    hist4.coords[f'{name}c'] = sc.midpoints(hist4.coords[name])\n",
    "hist4"
   ]
  },
  {
   "cell_type": "code",
   "execution_count": null,
   "metadata": {},
   "outputs": [],
   "source": [
    "300*300*200"
   ]
  },
  {
   "cell_type": "code",
   "execution_count": null,
   "metadata": {},
   "outputs": [],
   "source": [
    "hist5 = sc.flatten(hist4, to='row')\n",
    "ava = np.average(hist5.values) #avarage of values to use as cut off creteria\n",
    "sig = np.std(hist5.values)\n",
    "cut = ava + sig*10\n",
    "#print(\"background substraction\",cut, ava, sig)\n",
    "select = hist5.data > sc.scalar(cut, unit='counts') # cut of background\n",
    "filtered = hist5[select]\n",
    "filtered.coords['tc'] *= 10\n",
    "filtered"
   ]
  },
  {
   "cell_type": "code",
   "execution_count": null,
   "metadata": {},
   "outputs": [],
   "source": [
    "ava = np.average(hist5.values)\n",
    "sig = np.std(hist5.values)\n",
    "#print(ava, sig)"
   ]
  },
  {
   "cell_type": "code",
   "execution_count": null,
   "metadata": {},
   "outputs": [],
   "source": [
    "hist5"
   ]
  },
  {
   "cell_type": "code",
   "execution_count": null,
   "metadata": {},
   "outputs": [],
   "source": [
    "pp.scatter3d(filtered, x='xc', y='yc', z='tc', pixel_size=0.001)#,figsize=(550, 550))"
   ]
  },
  {
   "cell_type": "code",
   "execution_count": null,
   "metadata": {},
   "outputs": [],
   "source": [
    "%matplotlib widget\n",
    "#print(hist3.max().value)\n",
    "pp.slicer(hist3, keep=['x', 'y'],vmax=hist3.max().value)\n"
   ]
  },
  {
   "cell_type": "code",
   "execution_count": null,
   "metadata": {},
   "outputs": [],
   "source": [
    "nbin= 1280**2\n",
    "print(nbin)\n",
    "tbin = 12\n",
    "id_binned = da.bin(id=nbin)\n",
    "\n",
    "id_hist=id_binned.hist(t=tbin)\n",
    "\n",
    "\n",
    "id_hist.sum"
   ]
  },
  {
   "cell_type": "code",
   "execution_count": null,
   "metadata": {},
   "outputs": [],
   "source": [
    "#f_out = h5py.File('/Users/justinbergmann/work_flow/test_out/test.h5','w')"
   ]
  },
  {
   "cell_type": "code",
   "execution_count": null,
   "metadata": {},
   "outputs": [],
   "source": [
    "print(id_hist['t',0][0].shape)\n",
    "print(id_hist.shape)\n",
    "data1 = np.array(id_hist['t',0].values)\n",
    "data2 = np.array(id_hist.values)\n",
    "data_t = np.array(id_hist['id',0])\n",
    "print(id_hist['t',0])\n",
    "print(data1.shape)\n",
    "id_hist"
   ]
  },
  {
   "cell_type": "code",
   "execution_count": null,
   "metadata": {},
   "outputs": [],
   "source": [
    "t_list = sc.midpoints(id_hist.coords['t'])\n",
    "t_list_n = np.array(t_list.values)\n",
    "print(len(t_list_n))\n",
    "#print(t_list_n)\n",
    "tl = np.array(sc.midpoints(id_hist.coords['t']).values) \n",
    "print(tl)"
   ]
  },
  {
   "cell_type": "code",
   "execution_count": null,
   "metadata": {},
   "outputs": [],
   "source": [
    "tl_bin = np.array(id_hist.coords['t'].values)\n",
    "id_bin = np.array(id_hist.coords['id'].values)\n",
    "id_r = np.rint(id_bin)\n",
    "#id_r= np.int(id_r)\n",
    "print(len(tl_bin))\n",
    "print(tl_bin)\n",
    "print(len(id_bin)-(1280**2))\n",
    "print(id_bin)\n",
    "print(type(id_r[0]))"
   ]
  },
  {
   "cell_type": "code",
   "execution_count": null,
   "metadata": {},
   "outputs": [],
   "source": [
    "sc.show(id_hist)"
   ]
  },
  {
   "cell_type": "code",
   "execution_count": null,
   "metadata": {},
   "outputs": [],
   "source": [
    "id_hist.get('t')"
   ]
  },
  {
   "cell_type": "code",
   "execution_count": null,
   "metadata": {},
   "outputs": [],
   "source": [
    "print(data1.shape)\n",
    "print(data1[:20])"
   ]
  },
  {
   "cell_type": "code",
   "execution_count": null,
   "metadata": {},
   "outputs": [],
   "source": [
    "print(id_hist['id',20])"
   ]
  },
  {
   "cell_type": "code",
   "execution_count": null,
   "metadata": {},
   "outputs": [],
   "source": [
    "print(id_hist.shape)\n",
    "print(id_hist['t',1].shape)\n",
    "print(len(data1))\n",
    "print(data1[0])"
   ]
  },
  {
   "attachments": {},
   "cell_type": "markdown",
   "metadata": {},
   "source": [
    "detector postion"
   ]
  },
  {
   "cell_type": "code",
   "execution_count": null,
   "metadata": {},
   "outputs": [],
   "source": [
    "origen = f['entry1/data']['bank01_events_dat_list_p_x_y_n_id_t']['distance'][0].decode()\n",
    "origen = list(np.float_(origen.split()))\n",
    "origen"
   ]
  },
  {
   "cell_type": "code",
   "execution_count": null,
   "metadata": {},
   "outputs": [],
   "source": [
    "origen = f['entry1/data']['bank01_events_dat_list_p_x_y_n_id_t']['distance'][...]\n",
    "ol = origen[0].split()\n",
    "\n",
    "print = (ol)\n",
    "det_or = []\n",
    "for i in range(len(ol)):\n",
    "    det_or.append(float(ol[i]))\n",
    "x = float(ol[0])\n",
    "det_or"
   ]
  },
  {
   "attachments": {},
   "cell_type": "markdown",
   "metadata": {},
   "source": [
    "getting the crystal orientation"
   ]
  },
  {
   "cell_type": "code",
   "execution_count": null,
   "metadata": {},
   "outputs": [],
   "source": [
    "print((f['entry1']['simulation']['Param'].keys()))\n",
    "print((f['entry1']['simulation']['Param']['XtalPhiX']))\n",
    "phix=float(list(str(f['entry1']['simulation']['Param']['XtalPhiX'][...][0]))[2])\n",
    "phiy=float(list(str(f['entry1']['simulation']['Param']['XtalPhiY'][...][0]))[2])\n",
    "phiz=float(list(str(f['entry1']['simulation']['Param']['XtalPhiZ'][...][0]))[2])\n",
    "#str(phix[0])\n",
    "#int(list(str(phix[0]))[2])\n",
    "print(phix,phiy,phiz)\n",
    "cor=[phix,phiy, phiz]\n",
    "cryst_or = np.array(cor)\n",
    "cryst_or"
   ]
  },
  {
   "cell_type": "code",
   "execution_count": null,
   "metadata": {},
   "outputs": [],
   "source": [
    "#grp = f_out.create_group(\"raw_data_1\")\n",
    "\n",
    "#grp.__setitem__('beamline','NMX')\n",
    "#grp.__setitem__('definition','TOFRAW')\n",
    "#det1 = grp.create_group(\"detector_1\")\n",
    "#dset = det1.create_dataset(\"hist_data\",data=data1)\n",
    "\n",
    "#beamline = grp.create_dataset(\"beamline\", (\"NMX\"))\n",
    "#print(beamline.name)\n",
    "#beamline = \"NMX\"\n",
    "#\"NMX\" = grp['beamline'] "
   ]
  },
  {
   "cell_type": "code",
   "execution_count": null,
   "metadata": {},
   "outputs": [],
   "source": [
    "with h5py.File('/Users/justinbergmann/work_flow/test_out/test.h5', 'w') as fo:\n",
    "## create output nexus file\n",
    "    fo.attrs['default'] = 'NMX_data'\n",
    "    nxentry = fo.create_group('NMX_data')\n",
    "    nxentry.attrs[\"NX_class\"] = 'NXentry'\n",
    "    nxentry.attrs['default'] = 'data'\n",
    "    nxentry.__setitem__('beamline','NMX')\n",
    "    nxentry.__setitem__('definition','TOFRAW')\n",
    "\n",
    "\n",
    "    nxdata = nxentry.create_group('data')\n",
    "    nxdata.attrs[\"NX_class\"] = 'NXdata'\n",
    "    nxdata.attrs['signal'] = 'counts'\n",
    "    nxdata.attrs['axes'] = 'two_theta'\n",
    "    nxdata.attrs['two_theta_indices'] = [0,]\n",
    " \n",
    "    tth = nxdata.create_dataset('data1', data=data1)\n",
    "    tth.attrs['units'] = 'counts'\n",
    "    tth.attrs['long_name'] = 'data1 (counts)'\n",
    "\n",
    "    id_bin = nxdata.create_dataset('id_bin', data=id_bin)\n",
    "    id_bin.attrs['units'] = ''\n",
    "    id_bin.attrs['long_name'] = 'pixel ID'\n",
    "    \n",
    "    t_bin = nxdata.create_dataset('t_bin', data=tl_bin)\n",
    "    t_bin.attrs['units'] = 'ms'\n",
    "    t_bin.attrs['long_name'] = 't_bin TOF (ms)'\n",
    "\n",
    "    counts = nxdata.create_dataset('counts', data=data2)\n",
    "    counts.attrs['units'] = 'counts'\n",
    "    counts.attrs['long_name'] = 'counts (bined counts)'\n",
    "\n",
    "    nxinst = nxentry.create_group('instrument')\n",
    "    c_or = nxinst.create_dataset('crystal_orientation',data=cryst_or)\n",
    "    c_or.attrs['unit'] = 'degrees'\n",
    "    c_or.attrs['long_name'] = 'crystal orientation in Phi (degrees)'\n",
    "    \n",
    "\n",
    "    fo.close()\n"
   ]
  },
  {
   "cell_type": "code",
   "execution_count": null,
   "metadata": {},
   "outputs": [],
   "source": [
    "#print(grp['beamline'].items())\n",
    "fo.close()"
   ]
  },
  {
   "cell_type": "code",
   "execution_count": null,
   "metadata": {},
   "outputs": [],
   "source": [
    "\n",
    "#f_out.close()"
   ]
  },
  {
   "cell_type": "code",
   "execution_count": null,
   "metadata": {},
   "outputs": [],
   "source": [
    "f.close()  \n",
    "del id_list\n",
    "del x_list\n",
    "del y_list\n",
    "del t_list\n",
    "del id_hist\n",
    "del hist3"
   ]
  },
  {
   "cell_type": "code",
   "execution_count": null,
   "metadata": {},
   "outputs": [],
   "source": [
    "current, peak = tracemalloc.get_traced_memory()\n",
    "print('2 current memory [MB]: {}, peak memory [MB]: {} '.format(round((current/(1024*1024)), 2), round((peak /(1024*1024) ), 2) ))\n",
    "# stopping the library\n",
    "tracemalloc.stop()\n",
    "print(\"neded time (h:mm:ss): \", datetime.now() - startTime)"
   ]
  }
 ],
 "metadata": {
  "kernelspec": {
   "display_name": "Python 3",
   "language": "python",
   "name": "python3"
  },
  "language_info": {
   "codemirror_mode": {
    "name": "ipython",
    "version": 3
   },
   "file_extension": ".py",
   "mimetype": "text/x-python",
   "name": "python",
   "nbconvert_exporter": "python",
   "pygments_lexer": "ipython3",
   "version": "3.9.15"
  },
  "vscode": {
   "interpreter": {
    "hash": "f85ed83eabb820316696c474dce395f71e180a432bd3bf9cf71297a8fe85fff3"
   }
  }
 },
 "nbformat": 4,
 "nbformat_minor": 4
}
